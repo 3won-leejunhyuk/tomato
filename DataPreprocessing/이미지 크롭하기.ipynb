{
 "cells": [
  {
   "cell_type": "code",
   "execution_count": 27,
   "id": "11a84d5b",
   "metadata": {},
   "outputs": [],
   "source": [
    "from PIL import Image\n",
    "import os\n",
    "\n",
    "def read_bboxes(txt_file_path):\n",
    "    bboxes = []\n",
    "    with open(txt_file_path, 'r') as f:\n",
    "        lines = f.readlines()\n",
    "        for line in lines:\n",
    "            _, x_center, y_center, width, height = map(float, line.strip().split())\n",
    "            bboxes.append((x_center, y_center, width, height))\n",
    "    return bboxes\n",
    "\n",
    "def crop_and_save_image(image_path, bboxes, save_folder, padding_factor=1.0):\n",
    "    try:\n",
    "        image = Image.open(image_path)\n",
    "    except Exception as e:\n",
    "        print(f\"Error loading image: {image_path}, {e}\")\n",
    "        return\n",
    "\n",
    "    w, h = image.size\n",
    "\n",
    "    for i, (x_center, y_center, width, height) in enumerate(bboxes):\n",
    "        padded_width = width * padding_factor\n",
    "        padded_height = height * padding_factor\n",
    "\n",
    "        x1 = int((x_center - padded_width / 2) * w)\n",
    "        y1 = int((y_center - padded_height / 2) * h)\n",
    "        x2 = int((x_center + padded_width / 2) * w)\n",
    "        y2 = int((y_center + padded_height / 2) * h)\n",
    "\n",
    "        x1 = max(0, x1)\n",
    "        y1 = max(0, y1)\n",
    "        x2 = min(w, x2)\n",
    "        y2 = min(h, y2)\n",
    "\n",
    "        cropped_image = image.crop((x1, y1, x2, y2))\n",
    "\n",
    "#         save_path = os.path.join(save_folder, f\"{os.path.splitext(os.path.basename(image_path))[0]}.jpg\")\n",
    "        save_path = os.path.join(save_folder, f\"{os.path.splitext(os.path.basename(image_path))[0]}_crop_{i}.jpg\")\n",
    "        cropped_image.save(save_path)\n",
    "\n",
    "# 경로 설정\n",
    "txt_folder_path = r\"F:\\data\\tomato\\그린데이터랩\\tomato_제외기준4번\\TestDataSet\\SmartFarm\\4_LeafMold\"\n",
    "image_folder_path = r\"F:\\data\\tomato\\그린데이터랩\\tomato_제외기준4번\\TestDataSet\\SmartFarm\\4_LeafMold\"\n",
    "save_folder = r\"C:\\data\\ex\"\n",
    "\n",
    "if not os.path.exists(save_folder):\n",
    "    os.makedirs(save_folder)\n",
    "\n",
    "# JPG와 PNG 파일 모두 불러오기\n",
    "image_files = [f for f in os.listdir(image_folder_path) if f.lower().endswith(('.jpg', '.png', '.jpeg','.JPG', '.PNG', '.JPEG'))]\n",
    "txt_files = [f for f in os.listdir(txt_folder_path) if f.lower().endswith('.txt')]\n",
    "\n",
    "for txt_file in txt_files:\n",
    "    base_name = os.path.splitext(txt_file)[0]\n",
    "    # 확장자를 고려하여 이미지 파일 찾기\n",
    "    corresponding_image_files = [f for f in image_files if os.path.splitext(f)[0] == base_name]\n",
    "\n",
    "    for corresponding_image_file in corresponding_image_files:\n",
    "        txt_file_path = os.path.join(txt_folder_path, txt_file)\n",
    "        image_file_path = os.path.join(image_folder_path, corresponding_image_file)\n",
    "\n",
    "        bboxes = read_bboxes(txt_file_path)\n",
    "        crop_and_save_image(image_file_path, bboxes, save_folder)"
   ]
  },
  {
   "cell_type": "code",
   "execution_count": 17,
   "id": "ef106084",
   "metadata": {},
   "outputs": [
    {
     "data": {
      "text/plain": [
       "'C:\\\\data\\\\tomato_제외기준3번_total\\\\71_data\\\\Training\\\\1_disease\\\\4_LeafMold\\\\V006_77_1_18_11_03_13_3_9720w_20201126_252.jpg'"
      ]
     },
     "execution_count": 17,
     "metadata": {},
     "output_type": "execute_result"
    }
   ],
   "source": [
    "image_file_path"
   ]
  },
  {
   "cell_type": "code",
   "execution_count": 16,
   "id": "170532f1",
   "metadata": {},
   "outputs": [
    {
     "data": {
      "text/plain": [
       "[(0.460689, 0.457507, 0.480407, 0.488426)]"
      ]
     },
     "execution_count": 16,
     "metadata": {},
     "output_type": "execute_result"
    }
   ],
   "source": [
    "bboxes"
   ]
  },
  {
   "cell_type": "code",
   "execution_count": 15,
   "id": "42d5538f",
   "metadata": {},
   "outputs": [
    {
     "data": {
      "text/plain": [
       "'C:\\\\data\\\\ex'"
      ]
     },
     "execution_count": 15,
     "metadata": {},
     "output_type": "execute_result"
    }
   ],
   "source": [
    "save_folder"
   ]
  }
 ],
 "metadata": {
  "kernelspec": {
   "display_name": "python3.9",
   "language": "python",
   "name": "py39"
  },
  "language_info": {
   "codemirror_mode": {
    "name": "ipython",
    "version": 3
   },
   "file_extension": ".py",
   "mimetype": "text/x-python",
   "name": "python",
   "nbconvert_exporter": "python",
   "pygments_lexer": "ipython3",
   "version": "3.9.17"
  }
 },
 "nbformat": 4,
 "nbformat_minor": 5
}
