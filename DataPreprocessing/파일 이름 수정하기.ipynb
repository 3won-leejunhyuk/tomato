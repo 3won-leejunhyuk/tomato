{
 "cells": [
  {
   "cell_type": "code",
   "execution_count": null,
   "id": "564b418f",
   "metadata": {},
   "outputs": [],
   "source": [
    "import os\n",
    "\n",
    "# 경로 정의\n",
    "txt_path = r\"C:\\data\\tomato_제외기준3번_total\\TestDataSet\\71_data\\Validation\\4_LeafMold\"\n",
    "\n",
    "# 각 경로에서 파일 리스트 가져오기\n",
    "txt_files = os.listdir(txt_path)\n",
    "\n",
    "# 이미지 파일들에 대해서만 처리\n",
    "for txt_file in txt_files:\n",
    "    if txt_file.endswith('.txt'):\n",
    "        # 파일의 기존 경로\n",
    "        old_file_path = os.path.join(txt_path, txt_file)\n",
    "\n",
    "        # 대응하는 .txt 파일 이름 만들기\n",
    "        new_file_name = txt_file.replace('.jpg', '').replace('.JPG', '').replace('.png', '').replace('.jpeg', '').replace('.PNG', '')\n",
    "\n",
    "        # 만약 기존 파일 이름과 새 파일 이름이 다르다면 변경\n",
    "        if old_file_path != new_file_name:\n",
    "            # 새로운 파일 경로\n",
    "            new_file_path = os.path.join(txt_path, new_file_name)\n",
    "\n",
    "            # 파일 이름 변경 (덮어쓰기)\n",
    "            os.rename(old_file_path, new_file_path)"
   ]
  }
 ],
 "metadata": {
  "kernelspec": {
   "display_name": "python3.9",
   "language": "python",
   "name": "py39"
  },
  "language_info": {
   "codemirror_mode": {
    "name": "ipython",
    "version": 3
   },
   "file_extension": ".py",
   "mimetype": "text/x-python",
   "name": "python",
   "nbconvert_exporter": "python",
   "pygments_lexer": "ipython3",
   "version": "3.9.17"
  }
 },
 "nbformat": 4,
 "nbformat_minor": 5
}
