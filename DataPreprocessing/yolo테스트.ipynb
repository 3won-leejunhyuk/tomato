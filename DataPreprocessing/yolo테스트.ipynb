{
 "cells": [
  {
   "cell_type": "code",
   "execution_count": 53,
   "id": "e3810c6c",
   "metadata": {
    "scrolled": true
   },
   "outputs": [],
   "source": [
    "from PIL import Image, ImageDraw\n",
    "import os\n",
    "\n",
    "def draw_bbox_from_yolo_format(image_path):\n",
    "    # 이미지 불러오기\n",
    "    image = Image.open(image_path)\n",
    "    w, h = image.size\n",
    "    draw = ImageDraw.Draw(image)\n",
    "\n",
    "    image_filename = os.path.basename(image_path)  # 이미지 파일의 이름만 가져오기\n",
    "    txt_filename = image_filename.replace(\".JPG\", \".txt\")  # 이미지 파일명에서 확장자를 .txt로 변경\n",
    "\n",
    "    # 원하는 텍스트 파일 경로를 생성하기\n",
    "    txt_path = os.path.join(r\"C:\\Users\\GC\\Downloads\\SourceData_라벨링작업후\\PlantVillage\\labeling\\1_disease\\3_YellowLeafCurlVirus\", txt_filename)\n",
    "    if not os.path.exists(txt_path):\n",
    "        print(f\"{txt_path} does not exist.\")\n",
    "        return\n",
    "\n",
    "    with open(txt_path, 'r') as f:\n",
    "        lines = f.readlines()\n",
    "\n",
    "    for line in lines:\n",
    "        data = line.strip().split()\n",
    "        class_id = int(data[0])\n",
    "        x_center, y_center, width, height = map(float, data[1:])\n",
    "\n",
    "        # 상대적인 좌표를 절대적인 좌표로 변환\n",
    "        x_center_abs, y_center_abs = int(x_center * w), int(y_center * h)\n",
    "        width_abs, height_abs = int(width * w), int(height * h)\n",
    "\n",
    "        # 좌상단과 우하단 좌표 계산\n",
    "        xtl, ytl = int(x_center_abs - width_abs / 2), int(y_center_abs - height_abs / 2)\n",
    "        xbr, ybr = int(x_center_abs + width_abs / 2), int(y_center_abs + height_abs / 2)\n",
    "\n",
    "        # 이미지에 bbox 그리기\n",
    "        draw.rectangle([(xtl, ytl), (xbr, ybr)], outline=\"green\", width=2)\n",
    "\n",
    "    # 결과 이미지 보여주기\n",
    "    image.show()\n",
    "\n",
    "# 함수 호출\n",
    "image_path = r\"C:/Users/GC/Downloads/SourceData_라벨링작업후/PlantVillage/1_disease/3_YellowLeafCurlVirus/fff6bf83-797c-4de4-83f7-39b74786fec4___UF.GRC_YLCV_Lab 03179.JPG\"\n",
    "draw_bbox_from_yolo_format(image_path)\n"
   ]
  },
  {
   "cell_type": "code",
   "execution_count": 20,
   "id": "62c0ca32",
   "metadata": {
    "scrolled": true
   },
   "outputs": [
    {
     "ename": "AttributeError",
     "evalue": "'NoneType' object has no attribute 'shape'",
     "output_type": "error",
     "traceback": [
      "\u001b[1;31m---------------------------------------------------------------------------\u001b[0m",
      "\u001b[1;31mAttributeError\u001b[0m                            Traceback (most recent call last)",
      "Cell \u001b[1;32mIn[20], line 43\u001b[0m\n\u001b[0;32m     40\u001b[0m image_path \u001b[38;5;241m=\u001b[39m \u001b[38;5;124mr\u001b[39m\u001b[38;5;124m\"\u001b[39m\u001b[38;5;124mC:\u001b[39m\u001b[38;5;124m\\\u001b[39m\u001b[38;5;124mUsers\u001b[39m\u001b[38;5;124m\\\u001b[39m\u001b[38;5;124mGC\u001b[39m\u001b[38;5;124m\\\u001b[39m\u001b[38;5;124mDownloads\u001b[39m\u001b[38;5;124m\\\u001b[39m\u001b[38;5;124mSourceData_라벨링작업후\u001b[39m\u001b[38;5;124m\\\u001b[39m\u001b[38;5;124mPlantVillage\u001b[39m\u001b[38;5;124m\\\u001b[39m\u001b[38;5;124m1_disease\u001b[39m\u001b[38;5;124m\\\u001b[39m\u001b[38;5;124m3_YellowLeafCurlVirus\u001b[39m\u001b[38;5;124m\\\u001b[39m\u001b[38;5;124mfff6bf83-797c-4de4-83f7-39b74786fec4___UF.GRC_YLCV_Lab 03179.JPG\u001b[39m\u001b[38;5;124m\"\u001b[39m\n\u001b[0;32m     42\u001b[0m \u001b[38;5;66;03m#image_path = r\"C:\\Users\\GC\\Downloads\\SourceData_라벨링작업후\\PlantVillage\\labeling\\1_disease\\3_YellowLeafCurlVirus\\fff6bf83-797c-4de4-83f7-39b74786fec4___UF.GRC_YLCV_Lab 03179.jpg\"\u001b[39;00m\n\u001b[1;32m---> 43\u001b[0m \u001b[43mdraw_bbox_from_yolo_format\u001b[49m\u001b[43m(\u001b[49m\u001b[43mimage_path\u001b[49m\u001b[43m)\u001b[49m\n",
      "Cell \u001b[1;32mIn[20], line 7\u001b[0m, in \u001b[0;36mdraw_bbox_from_yolo_format\u001b[1;34m(image_path)\u001b[0m\n\u001b[0;32m      4\u001b[0m \u001b[38;5;28;01mdef\u001b[39;00m \u001b[38;5;21mdraw_bbox_from_yolo_format\u001b[39m(image_path):\n\u001b[0;32m      5\u001b[0m     \u001b[38;5;66;03m# 이미지 불러오기\u001b[39;00m\n\u001b[0;32m      6\u001b[0m     image \u001b[38;5;241m=\u001b[39m cv2\u001b[38;5;241m.\u001b[39mimread(image_path)\n\u001b[1;32m----> 7\u001b[0m     h, w, _ \u001b[38;5;241m=\u001b[39m \u001b[43mimage\u001b[49m\u001b[38;5;241;43m.\u001b[39;49m\u001b[43mshape\u001b[49m\n\u001b[0;32m      9\u001b[0m     \u001b[38;5;66;03m# YOLO 형식의 텍스트 파일에서 bounding box 정보 불러오기\u001b[39;00m\n\u001b[0;32m     10\u001b[0m     txt_path \u001b[38;5;241m=\u001b[39m image_path\u001b[38;5;241m.\u001b[39mreplace(\u001b[38;5;124m\"\u001b[39m\u001b[38;5;124m.jpg\u001b[39m\u001b[38;5;124m\"\u001b[39m, \u001b[38;5;124m\"\u001b[39m\u001b[38;5;124m.txt\u001b[39m\u001b[38;5;124m\"\u001b[39m)\n",
      "\u001b[1;31mAttributeError\u001b[0m: 'NoneType' object has no attribute 'shape'"
     ]
    }
   ],
   "source": [
    "import cv2\n",
    "import os\n",
    "\n",
    "def draw_bbox_from_yolo_format(image_path):\n",
    "    # 이미지 불러오기\n",
    "    image = cv2.imread(image_path)\n",
    "    h, w, _ = image.shape\n",
    "\n",
    "    # YOLO 형식의 텍스트 파일에서 bounding box 정보 불러오기\n",
    "    txt_path = image_path.replace(\".jpg\", \".txt\")\n",
    "    if not os.path.exists(txt_path):\n",
    "        print(f\"{txt_path} does not exist.\")\n",
    "        return\n",
    "\n",
    "    with open(txt_path, 'r') as f:\n",
    "        lines = f.readlines()\n",
    "\n",
    "    for line in lines:\n",
    "        data = line.strip().split()\n",
    "        class_id = int(data[0])\n",
    "        x_center, y_center, width, height = map(float, data[1:])\n",
    "\n",
    "        # 상대적인 좌표를 절대적인 좌표로 변환\n",
    "        x_center_abs, y_center_abs = int(x_center * w), int(y_center * h)\n",
    "        width_abs, height_abs = int(width * w), int(height * h)\n",
    "\n",
    "        # 좌상단과 우하단 좌표 계산\n",
    "        xtl, ytl = int(x_center_abs - width_abs / 2), int(y_center_abs - height_abs / 2)\n",
    "        xbr, ybr = int(x_center_abs + width_abs / 2), int(y_center_abs + height_abs / 2)\n",
    "\n",
    "        # 이미지에 bbox 그리기\n",
    "        cv2.rectangle(image, (xtl, ytl), (xbr, ybr), (0, 255, 0), 2)  # Green color, 2px thick\n",
    "\n",
    "    # 결과 이미지 보여주기\n",
    "    cv2.imshow('Image with BBoxes', image)\n",
    "    cv2.waitKey(0)\n",
    "    cv2.destroyAllWindows()\n",
    "\n",
    "# 함수 호출\n",
    "image_path = r\"C:\\Users\\GC\\Downloads\\SourceData_라벨링작업후\\PlantVillage\\1_disease\\3_YellowLeafCurlVirus\\fff6bf83-797c-4de4-83f7-39b74786fec4___UF.GRC_YLCV_Lab 03179.JPG\"\n",
    "\n",
    "#image_path = r\"C:\\Users\\GC\\Downloads\\SourceData_라벨링작업후\\PlantVillage\\labeling\\1_disease\\3_YellowLeafCurlVirus\\fff6bf83-797c-4de4-83f7-39b74786fec4___UF.GRC_YLCV_Lab 03179.jpg\"\n",
    "draw_bbox_from_yolo_format(image_path)\n"
   ]
  },
  {
   "cell_type": "code",
   "execution_count": 43,
   "id": "6e6579a3",
   "metadata": {},
   "outputs": [],
   "source": [
    "image_path = r\"C:/Users/GC/Downloads/SourceData_라벨링작업후/PlantVillage/1_disease/3_YellowLeafCurlVirus/fff6bf83-797c-4de4-83f7-39b74786fec4___UF.GRC_YLCV_Lab 03179.JPG\""
   ]
  },
  {
   "cell_type": "code",
   "execution_count": 47,
   "id": "d45420da",
   "metadata": {},
   "outputs": [
    {
     "name": "stdout",
     "output_type": "stream",
     "text": [
      "Image loaded successfully with PIL\n"
     ]
    }
   ],
   "source": [
    "from PIL import Image\n",
    "\n",
    "try:\n",
    "    img = Image.open(image_path)\n",
    "    print(\"Image loaded successfully with PIL\")\n",
    "except Exception as e:\n",
    "    print(f\"Error with PIL: {e}\")\n"
   ]
  },
  {
   "cell_type": "code",
   "execution_count": 46,
   "id": "725e3bad",
   "metadata": {},
   "outputs": [
    {
     "name": "stdout",
     "output_type": "stream",
     "text": [
      "Failed to load the image\n"
     ]
    }
   ],
   "source": [
    "import cv2\n",
    "\n",
    "image_path = r\"C:/Users/GC/Downloads/SourceData_라벨링작업후/PlantVillage/1_disease/3_YellowLeafCurlVirus/fff6bf83-797c-4de4-83f7-39b74786fec4___UF.GRC_YLCV_Lab 03179.JPG\"\n",
    "\n",
    "image = cv2.imread(image_path)\n",
    "\n",
    "if image is None:\n",
    "    print(\"Failed to load the image\")\n",
    "else:\n",
    "    print(\"Image loaded successfully\")\n"
   ]
  },
  {
   "cell_type": "code",
   "execution_count": 44,
   "id": "ae464ed1",
   "metadata": {},
   "outputs": [],
   "source": [
    "image = cv2.imread(image_path)"
   ]
  },
  {
   "cell_type": "code",
   "execution_count": 45,
   "id": "7fd732bd",
   "metadata": {},
   "outputs": [
    {
     "name": "stdout",
     "output_type": "stream",
     "text": [
      "None\n"
     ]
    }
   ],
   "source": [
    "print(image)"
   ]
  },
  {
   "cell_type": "code",
   "execution_count": 25,
   "id": "22eb3f1f",
   "metadata": {},
   "outputs": [
    {
     "ename": "AttributeError",
     "evalue": "'NoneType' object has no attribute 'shape'",
     "output_type": "error",
     "traceback": [
      "\u001b[1;31m---------------------------------------------------------------------------\u001b[0m",
      "\u001b[1;31mAttributeError\u001b[0m                            Traceback (most recent call last)",
      "Cell \u001b[1;32mIn[25], line 1\u001b[0m\n\u001b[1;32m----> 1\u001b[0m \u001b[43mimage\u001b[49m\u001b[38;5;241;43m.\u001b[39;49m\u001b[43mshape\u001b[49m[\u001b[38;5;241m0\u001b[39m]\n",
      "\u001b[1;31mAttributeError\u001b[0m: 'NoneType' object has no attribute 'shape'"
     ]
    }
   ],
   "source": [
    "image.shape[0]"
   ]
  },
  {
   "cell_type": "code",
   "execution_count": 1,
   "id": "b8806218",
   "metadata": {},
   "outputs": [
    {
     "ename": "SyntaxError",
     "evalue": "invalid syntax (1065561435.py, line 1)",
     "output_type": "error",
     "traceback": [
      "\u001b[1;36m  Cell \u001b[1;32mIn[1], line 1\u001b[1;36m\u001b[0m\n\u001b[1;33m    image_path = C:\\Users\\GC\\Downloads\\SourceData_라벨링작업후\\PlantVillage\\labeling\\1_disease\\3_YellowLeafCurlVirus/fff6bf83-797c-4de4-83f7-39b74786fec4___UF.GRC_YLCV_Lab 03179\u001b[0m\n\u001b[1;37m                  ^\u001b[0m\n\u001b[1;31mSyntaxError\u001b[0m\u001b[1;31m:\u001b[0m invalid syntax\n"
     ]
    }
   ],
   "source": [
    "image_path = C:\\Users\\GC\\Downloads\\SourceData_라벨링작업후\\PlantVillage\\labeling\\1_disease\\3_YellowLeafCurlVirus/fff6bf83-797c-4de4-83f7-39b74786fec4___UF.GRC_YLCV_Lab 03179"
   ]
  },
  {
   "cell_type": "code",
   "execution_count": null,
   "id": "d1d4f23b",
   "metadata": {},
   "outputs": [],
   "source": [
    "import cv2\n",
    "import numpy as np\n",
    "\n",
    "def draw_bbox_from_yolo_format(image_path, txt_path):\n",
    "    # 이미지 불러오기\n",
    "    image = cv2.imread(image_path)\n",
    "    h, w, _ = image.shape\n",
    "\n",
    "    # YOLO 형식의 텍스트 파일에서 bounding box 정보 불러오기\n",
    "    with open(txt_path, 'r') as f:\n",
    "        lines = f.readlines()\n",
    "\n",
    "    for line in lines:\n",
    "        data = line.strip().split()\n",
    "        class_id = int(data[0])\n",
    "        x_center, y_center, width, height = map(float, data[1:])\n",
    "\n",
    "        # 상대적인 좌표를 절대적인 좌표로 변환\n",
    "        x_center_abs, y_center_abs = int(x_center * w), int(y_center * h)\n",
    "        width_abs, height_abs = int(width * w), int(height * h)\n",
    "\n",
    "        # 좌상단과 우하단 좌표 계산\n",
    "        xtl, ytl = int(x_center_abs - width_abs / 2), int(y_center_abs - height_abs / 2)\n",
    "        xbr, ybr = int(x_center_abs + width_abs / 2), int(y_center_abs + height_abs / 2)\n",
    "\n",
    "        # 이미지에 bbox 그리기\n",
    "        cv2.rectangle(image, (xtl, ytl), (xbr, ybr), (0, 255, 0), 2)  # Green color, 2px thick\n",
    "\n",
    "    # 결과 이미지 보여주기\n",
    "    cv2.imshow('Image with BBoxes', image)\n",
    "    cv2.waitKey(0)\n",
    "    cv2.destroyAllWindows()\n",
    "\n",
    "# 함수 호출\n",
    "image_name = \"your_image_name.jpg\"  # 이미지 파일명을 입력\n",
    "txt_name = image_name.replace(\".jpg\", \".txt\")  # txt 파일명 생성\n",
    "draw_bbox_from_yolo_format(image_name, txt_name)\n"
   ]
  }
 ],
 "metadata": {
  "kernelspec": {
   "display_name": "Python 3 (ipykernel)",
   "language": "python",
   "name": "python3"
  },
  "language_info": {
   "codemirror_mode": {
    "name": "ipython",
    "version": 3
   },
   "file_extension": ".py",
   "mimetype": "text/x-python",
   "name": "python",
   "nbconvert_exporter": "python",
   "pygments_lexer": "ipython3",
   "version": "3.9.17"
  }
 },
 "nbformat": 4,
 "nbformat_minor": 5
}
