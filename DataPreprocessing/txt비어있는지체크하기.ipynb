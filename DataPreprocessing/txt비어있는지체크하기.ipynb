{
 "cells": [
  {
   "cell_type": "code",
   "execution_count": 1,
   "id": "238097e7",
   "metadata": {},
   "outputs": [
    {
     "name": "stdout",
     "output_type": "stream",
     "text": [
      "[]\n"
     ]
    }
   ],
   "source": [
    "import os\n",
    "\n",
    "def find_empty_text_files(directory):\n",
    "    empty_files = []\n",
    "    \n",
    "    # 지정된 디렉토리 내의 모든 파일과 폴더를 나열합니다.\n",
    "    for filename in os.listdir(directory):\n",
    "        filepath = os.path.join(directory, filename)\n",
    "        \n",
    "        # 파일이 텍스트 파일인지 확인합니다 (.txt 확장자를 가진 경우).\n",
    "        if filepath.endswith('.txt'):\n",
    "            \n",
    "            # 파일 크기를 확인합니다.\n",
    "            if os.path.getsize(filepath) == 0:\n",
    "                empty_files.append(filepath)\n",
    "                \n",
    "    return empty_files\n",
    "\n",
    "# 함수를 사용하여 지정된 디렉토리에서 비어있는 텍스트 파일을 찾습니다.\n",
    "directory = r'F:\\data\\tomato\\그린데이터랩\\tomato_제외기준4번\\PlantVillage\\4_LeafMold'  # 원하는 디렉토리 경로로 변경 가능합니다.\n",
    "empty_files = find_empty_text_files(directory)\n",
    "\n",
    "print(empty_files)\n"
   ]
  }
 ],
 "metadata": {
  "kernelspec": {
   "display_name": "python3.9",
   "language": "python",
   "name": "py39"
  },
  "language_info": {
   "codemirror_mode": {
    "name": "ipython",
    "version": 3
   },
   "file_extension": ".py",
   "mimetype": "text/x-python",
   "name": "python",
   "nbconvert_exporter": "python",
   "pygments_lexer": "ipython3",
   "version": "3.9.17"
  }
 },
 "nbformat": 4,
 "nbformat_minor": 5
}
