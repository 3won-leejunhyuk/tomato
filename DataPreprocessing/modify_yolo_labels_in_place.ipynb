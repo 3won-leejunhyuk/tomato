{
 "cells": [
  {
   "cell_type": "code",
   "execution_count": 4,
   "id": "effcf98a-57af-441e-9c5b-664cd10b60ce",
   "metadata": {},
   "outputs": [],
   "source": [
    "import os\n",
    "\n",
    "def unify_labels_to_zero(folder_path):\n",
    "    \"\"\"\n",
    "    Modify all YOLO format .txt files in the specified folder and its subdirectories, \n",
    "    changing all label answers to '0'.\n",
    "\n",
    "    :param folder_path: Path to the root folder.\n",
    "    \"\"\"\n",
    "    for dirpath, dirnames, filenames in os.walk(folder_path):\n",
    "        for filename in filenames:\n",
    "            if filename.endswith('.txt'):\n",
    "                file_path = os.path.join(dirpath, filename)\n",
    "                try:\n",
    "                    with open(file_path, 'r') as file:\n",
    "                        lines = file.readlines()\n",
    "\n",
    "                    modified_lines = []\n",
    "                    for line in lines:\n",
    "                        parts = line.strip().split()\n",
    "                        if len(parts) >= 5:\n",
    "                            parts[0] = '0'  # Change the class ID to 0\n",
    "                            modified_lines.append(' '.join(parts))\n",
    "\n",
    "                    with open(file_path, 'w') as file:\n",
    "                        for line in modified_lines:\n",
    "                            file.write(line + '\\n')\n",
    "                except Exception as e:\n",
    "                    print(f\"An error occurred while processing {file_path}: {e}\")\n",
    "\n",
    "# Example usage\n",
    "unify_labels_to_zero('/workspace/data/tomato/tomato_final/tomato_leaf/ValidationDataSet')"
   ]
  },
  {
   "cell_type": "code",
   "execution_count": null,
   "id": "d30c39b8-068a-4378-b323-136bb5f472dc",
   "metadata": {},
   "outputs": [],
   "source": [
    "data/tomato/tomato_final/tomato_leaf/TestDataSet"
   ]
  }
 ],
 "metadata": {
  "kernelspec": {
   "display_name": "Python 3 (ipykernel)",
   "language": "python",
   "name": "python3"
  },
  "language_info": {
   "codemirror_mode": {
    "name": "ipython",
    "version": 3
   },
   "file_extension": ".py",
   "mimetype": "text/x-python",
   "name": "python",
   "nbconvert_exporter": "python",
   "pygments_lexer": "ipython3",
   "version": "3.11.6"
  }
 },
 "nbformat": 4,
 "nbformat_minor": 5
}
