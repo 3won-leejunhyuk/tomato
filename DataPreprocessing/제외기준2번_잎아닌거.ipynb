{
 "cells": [
  {
   "cell_type": "code",
   "execution_count": 5,
   "id": "78255fd2",
   "metadata": {},
   "outputs": [
    {
     "name": "stdout",
     "output_type": "stream",
     "text": [
      "이동 완료!\n"
     ]
    }
   ],
   "source": [
    "# #71data\n",
    "# import os\n",
    "# import shutil\n",
    "\n",
    "# # 경로 설정\n",
    "# src_path = \"D:/data/tomato/SourceData/71_data/Training/0_healthy\"\n",
    "# dst_path = \"D:/data/tomato_안쓰는 이미지/71_data/Training/0_healthy\"\n",
    "\n",
    "# # 파일 목록 가져오기\n",
    "# file_list = os.listdir(src_path)\n",
    "\n",
    "# # '작물부위'가 '03' (잎)이 아닌 파일을 대상 폴더로 이동\n",
    "# for file in file_list:\n",
    "#     parts = file.split('_')\n",
    "#     if len(parts) > 5 and parts[5] != '03':  # 5는 '작물부위'의 위치를 의미합니다.\n",
    "#         shutil.move(os.path.join(src_path, file), dst_path)\n",
    "\n",
    "# print(\"이동 완료!\")"
   ]
  },
  {
   "cell_type": "code",
   "execution_count": null,
   "id": "d1448ce8",
   "metadata": {},
   "outputs": [],
   "source": [
    "# #71data\n",
    "# import os\n",
    "# import shutil\n",
    "\n",
    "# # 경로 설정\n",
    "# src_path = r\"D:\\data\\tomato\\SourceData\\71_data\\Training\\1_disease\"\n",
    "# dst_path = r\"D:\\data\\tomato_안쓰는 이미지\\71_data\\Training\\1_disease\"\n",
    "\n",
    "# # 파일 목록 가져오기\n",
    "# file_list = os.listdir(src_path)\n",
    "\n",
    "# # '작물부위'가 '03' (잎)이 아닌 파일을 대상 폴더로 이동\n",
    "# for file in file_list:\n",
    "#     parts = file.split('_')\n",
    "#     if len(parts) > 5 and parts[5] != '03':  # 5는 '작물부위'의 위치를 의미합니다.\n",
    "#         shutil.move(os.path.join(src_path, file), dst_path)\n",
    "\n",
    "# print(\"이동 완료!\")"
   ]
  },
  {
   "cell_type": "code",
   "execution_count": null,
   "id": "55792c9c",
   "metadata": {},
   "outputs": [],
   "source": [
    "# #71data\n",
    "# import os\n",
    "# import shutil\n",
    "\n",
    "# # 경로 설정\n",
    "# src_path = r\"D:\\data\\tomato\\SourceData\\71_data\\Validation\\0_healthy\"\n",
    "# dst_path = r\"D:\\data\\tomato_안쓰는 이미지\\71_data\\Validation\\0_healthy\"\n",
    "\n",
    "# # 파일 목록 가져오기\n",
    "# file_list = os.listdir(src_path)\n",
    "\n",
    "# # '작물부위'가 '03' (잎)이 아닌 파일을 대상 폴더로 이동\n",
    "# for file in file_list:\n",
    "#     parts = file.split('_')\n",
    "#     if len(parts) > 5 and parts[5] != '03':  # 5는 '작물부위'의 위치를 의미합니다.\n",
    "#         shutil.move(os.path.join(src_path, file), dst_path)\n",
    "\n",
    "# print(\"이동 완료!\")"
   ]
  },
  {
   "cell_type": "code",
   "execution_count": 11,
   "id": "d72ab655",
   "metadata": {},
   "outputs": [
    {
     "name": "stdout",
     "output_type": "stream",
     "text": [
      "이동 완료!\n"
     ]
    }
   ],
   "source": [
    "# #71data\n",
    "# import os\n",
    "# import shutil\n",
    "\n",
    "# # 경로 설정\n",
    "# src_path = r\"D:\\data\\tomato\\SourceData\\71_data\\Validation\\1_disease\"\n",
    "# dst_path = r\"D:\\data\\tomato_안쓰는 이미지\\71_data\\Validation\\1_disease\"\n",
    "\n",
    "# # 파일 목록 가져오기\n",
    "# file_list = os.listdir(src_path)\n",
    "\n",
    "# # '작물부위'가 '03' (잎)이 아닌 파일을 대상 폴더로 이동\n",
    "# for file in file_list:\n",
    "#     parts = file.split('_')\n",
    "#     if len(parts) > 5 and parts[5] != '03':  # 5는 '작물부위'의 위치를 의미합니다.\n",
    "#         shutil.move(os.path.join(src_path, file), dst_path)\n",
    "\n",
    "# print(\"이동 완료!\")"
   ]
  },
  {
   "cell_type": "code",
   "execution_count": 12,
   "id": "9635b1f2",
   "metadata": {},
   "outputs": [
    {
     "name": "stdout",
     "output_type": "stream",
     "text": [
      "이동 완료!\n"
     ]
    }
   ],
   "source": [
    "# #73data\n",
    "# import os\n",
    "# import shutil\n",
    "\n",
    "# # 경로 설정\n",
    "# src_path = r\"D:\\data\\tomato\\SourceData\\73_data\\Training\\0_healthy\"\n",
    "# dst_path = r\"D:\\data\\tomato_안쓰는 이미지\\73_data\\Training\\0_healthy\"\n",
    "\n",
    "# # 파일 목록 가져오기\n",
    "# file_list = os.listdir(src_path)\n",
    "\n",
    "# # '작물부위'가 '03' (잎)이 아닌 파일을 대상 폴더로 이동\n",
    "# for file in file_list:\n",
    "#     parts = file.split('_')\n",
    "#     if len(parts) > 5 and parts[5] != '03':  # 5는 '작물부위'의 위치를 의미합니다.\n",
    "#         shutil.move(os.path.join(src_path, file), dst_path)\n",
    "\n",
    "# print(\"이동 완료!\")"
   ]
  },
  {
   "cell_type": "code",
   "execution_count": 16,
   "id": "ad43b3ae",
   "metadata": {},
   "outputs": [
    {
     "name": "stdout",
     "output_type": "stream",
     "text": [
      "이동 완료!\n"
     ]
    }
   ],
   "source": [
    "# #73data\n",
    "# import os\n",
    "# import shutil\n",
    "\n",
    "# # 경로 설정\n",
    "# src_path = r\"D:\\data\\tomato\\SourceData\\73_data\\Validation\\0_healthy\"\n",
    "# dst_path = r\"D:\\data\\tomato_안쓰는 이미지\\73_data\\Validation\\0_healthy\"\n",
    "\n",
    "# # 파일 목록 가져오기\n",
    "# file_list = os.listdir(src_path)\n",
    "\n",
    "# # '작물부위'가 '03' (잎)이 아닌 파일을 대상 폴더로 이동\n",
    "# for file in file_list:\n",
    "#     parts = file.split('_')\n",
    "#     if len(parts) > 5 and parts[5] != '03':  # 5는 '작물부위'의 위치를 의미합니다.\n",
    "#         shutil.move(os.path.join(src_path, file), dst_path)\n",
    "\n",
    "# print(\"이동 완료!\")"
   ]
  },
  {
   "cell_type": "code",
   "execution_count": 19,
   "id": "5fa0add0",
   "metadata": {},
   "outputs": [
    {
     "name": "stdout",
     "output_type": "stream",
     "text": [
      "이동 완료!\n"
     ]
    }
   ],
   "source": [
    "# #104data\n",
    "# import os\n",
    "# import shutil\n",
    "\n",
    "# # 경로 설정\n",
    "# src_path = r\"D:\\data\\tomato\\SourceData\\104_data\\Training\\0_healthy\"\n",
    "# dst_path = r\"D:\\data\\tomato_안쓰는 이미지\\104_data\\Training\\0_healthy\"\n",
    "\n",
    "# # 파일 목록 가져오기\n",
    "# file_list = os.listdir(src_path)\n",
    "\n",
    "# # '작물부위'가 '3' (잎)이 아닌 파일을 대상 폴더로 이동\n",
    "# for file in file_list:\n",
    "#     parts = file.split('_')\n",
    "#     if len(parts) > 5 and parts[5] != '3':  # 5는 '작물부위'의 위치를 의미합니다.\n",
    "#         shutil.move(os.path.join(src_path, file), dst_path)\n",
    "\n",
    "# print(\"이동 완료!\")"
   ]
  },
  {
   "cell_type": "code",
   "execution_count": 20,
   "id": "3df4f40f",
   "metadata": {},
   "outputs": [
    {
     "name": "stdout",
     "output_type": "stream",
     "text": [
      "이동 완료!\n"
     ]
    }
   ],
   "source": [
    "# #104data\n",
    "# import os\n",
    "# import shutil\n",
    "\n",
    "# # 경로 설정\n",
    "# src_path = r\"D:\\data\\tomato\\SourceData\\104_data\\Training\\1_disease\"\n",
    "# dst_path = r\"D:\\data\\tomato_안쓰는 이미지\\104_data\\Training\\1_disease\"\n",
    "\n",
    "# # 파일 목록 가져오기\n",
    "# file_list = os.listdir(src_path)\n",
    "\n",
    "# # '작물부위'가 '3' (잎)이 아닌 파일을 대상 폴더로 이동\n",
    "# for file in file_list:\n",
    "#     parts = file.split('_')\n",
    "#     if len(parts) > 5 and parts[5] != '3':  # 5는 '작물부위'의 위치를 의미합니다.\n",
    "#         shutil.move(os.path.join(src_path, file), dst_path)\n",
    "\n",
    "# print(\"이동 완료!\")"
   ]
  },
  {
   "cell_type": "code",
   "execution_count": 21,
   "id": "3ba3e46e",
   "metadata": {},
   "outputs": [
    {
     "name": "stdout",
     "output_type": "stream",
     "text": [
      "이동 완료!\n"
     ]
    }
   ],
   "source": [
    "# #104data\n",
    "# import os\n",
    "# import shutil\n",
    "\n",
    "# # 경로 설정\n",
    "# src_path = r\"D:\\data\\tomato\\SourceData\\104_data\\Validation\\0_healthy\"\n",
    "# dst_path = r\"D:\\data\\tomato_안쓰는 이미지\\104_data\\Validation\\0_healthy\"\n",
    "\n",
    "# # 파일 목록 가져오기\n",
    "# file_list = os.listdir(src_path)\n",
    "\n",
    "# # '작물부위'가 '3' (잎)이 아닌 파일을 대상 폴더로 이동\n",
    "# for file in file_list:\n",
    "#     parts = file.split('_')\n",
    "#     if len(parts) > 5 and parts[5] != '3':  # 5는 '작물부위'의 위치를 의미합니다.\n",
    "#         shutil.move(os.path.join(src_path, file), dst_path)\n",
    "\n",
    "# print(\"이동 완료!\")"
   ]
  },
  {
   "cell_type": "code",
   "execution_count": 22,
   "id": "55a8fc28",
   "metadata": {},
   "outputs": [
    {
     "name": "stdout",
     "output_type": "stream",
     "text": [
      "이동 완료!\n"
     ]
    }
   ],
   "source": [
    "#104data\n",
    "import os\n",
    "import shutil\n",
    "\n",
    "# 경로 설정\n",
    "src_path = r\"D:\\data\\tomato\\SourceData\\104_data\\Validation\\1_disease\"\n",
    "dst_path = r\"D:\\data\\tomato_안쓰는 이미지\\104_data\\Validation\\1_disease\"\n",
    "\n",
    "# 파일 목록 가져오기\n",
    "file_list = os.listdir(src_path)\n",
    "\n",
    "# '작물부위'가 '3' (잎)이 아닌 파일을 대상 폴더로 이동\n",
    "for file in file_list:\n",
    "    parts = file.split('_')\n",
    "    if len(parts) > 5 and parts[5] != '3':  # 5는 '작물부위'의 위치를 의미합니다.\n",
    "        shutil.move(os.path.join(src_path, file), dst_path)\n",
    "\n",
    "print(\"이동 완료!\")"
   ]
  }
 ],
 "metadata": {
  "kernelspec": {
   "display_name": "Python 3 (ipykernel)",
   "language": "python",
   "name": "python3"
  },
  "language_info": {
   "codemirror_mode": {
    "name": "ipython",
    "version": 3
   },
   "file_extension": ".py",
   "mimetype": "text/x-python",
   "name": "python",
   "nbconvert_exporter": "python",
   "pygments_lexer": "ipython3",
   "version": "3.9.17"
  }
 },
 "nbformat": 4,
 "nbformat_minor": 5
}
