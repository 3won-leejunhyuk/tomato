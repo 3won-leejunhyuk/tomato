{
 "cells": [
  {
   "cell_type": "code",
   "execution_count": 8,
   "id": "a1f4566b",
   "metadata": {},
   "outputs": [],
   "source": [
    "import os\n",
    "\n",
    "# 폴더 경로 설정\n",
    "folder_path = r\"F:\\data\\tomato\\그린데이터랩\\tomato_제외기준4번\\PlantVillage\\5_EarlyBlight\"\n",
    "\n",
    "# 폴더 내의 모든 파일 리스트 가져오기\n",
    "file_list = os.listdir(folder_path)\n",
    "\n",
    "# 이미지 확장자와 텍스트 파일 확장자 목록\n",
    "image_extensions = ['.jpg', '.png', '.jpeg', '.bmp', '.JPG', '.PNG', '.JPEG', '.BMP']\n",
    "text_extension = '.txt'\n",
    "\n",
    "# 이미지와 텍스트 파일이 모두 있는지 확인\n",
    "for file in file_list:\n",
    "    # 파일의 확장자 가져오기\n",
    "    extension = os.path.splitext(file)[-1].lower()\n",
    "    \n",
    "    if extension in image_extensions:\n",
    "        # 대응하는 텍스트 파일 이름 생성\n",
    "        text_file_name = os.path.splitext(file)[0] + text_extension\n",
    "        \n",
    "        # 대응하는 텍스트 파일이 있는지 확인\n",
    "        if text_file_name in file_list:\n",
    "            continue\n",
    "        else:\n",
    "            print(file)"
   ]
  },
  {
   "cell_type": "code",
   "execution_count": null,
   "id": "b6a1a82f",
   "metadata": {},
   "outputs": [],
   "source": []
  }
 ],
 "metadata": {
  "kernelspec": {
   "display_name": "python3.9",
   "language": "python",
   "name": "py39"
  },
  "language_info": {
   "codemirror_mode": {
    "name": "ipython",
    "version": 3
   },
   "file_extension": ".py",
   "mimetype": "text/x-python",
   "name": "python",
   "nbconvert_exporter": "python",
   "pygments_lexer": "ipython3",
   "version": "3.9.17"
  }
 },
 "nbformat": 4,
 "nbformat_minor": 5
}
