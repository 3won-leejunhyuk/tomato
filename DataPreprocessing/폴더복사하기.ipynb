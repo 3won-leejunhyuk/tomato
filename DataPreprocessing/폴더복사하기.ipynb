{
 "cells": [
  {
   "cell_type": "code",
   "execution_count": 5,
   "id": "83a1f421",
   "metadata": {},
   "outputs": [],
   "source": [
    "import shutil\n",
    "\n",
    "# 원본 폴더와 대상 폴더를 정의합니다.\n",
    "src_dir = \"D:/data/tomato/SourceData\"\n",
    "dst_dir = \"D:/data/tomato/SourceData_Backup\""
   ]
  },
  {
   "cell_type": "code",
   "execution_count": 6,
   "id": "7ccb2140",
   "metadata": {},
   "outputs": [
    {
     "ename": "Error",
     "evalue": "[('D:/data/tomato/SourceData\\\\104_data\\\\Validation\\\\0_healthy\\\\556038_20211013_2_0_0_3_2_13_0_0225.jpg', 'D:/data/tomato/SourceData_Backup\\\\104_data\\\\Validation\\\\0_healthy\\\\556038_20211013_2_0_0_3_2_13_0_0225.jpg', '[Errno 13] Permission denied'), ('D:/data/tomato/SourceData\\\\104_data\\\\Validation\\\\0_healthy\\\\572001_20211014_2_0_0_3_2_13_0_013.jpg', 'D:/data/tomato/SourceData_Backup\\\\104_data\\\\Validation\\\\0_healthy\\\\572001_20211014_2_0_0_3_2_13_0_013.jpg', '[Errno 13] Permission denied'), ('D:/data/tomato/SourceData\\\\104_data\\\\Validation\\\\0_healthy\\\\572269_20211014_2_0_0_3_2_13_0_0285.jpg', 'D:/data/tomato/SourceData_Backup\\\\104_data\\\\Validation\\\\0_healthy\\\\572269_20211014_2_0_0_3_2_13_0_0285.jpg', '[Errno 13] Permission denied'), ('D:/data/tomato/SourceData\\\\104_data\\\\Validation\\\\0_healthy\\\\572447_20211018_2_0_0_3_2_13_0_073.jpg', 'D:/data/tomato/SourceData_Backup\\\\104_data\\\\Validation\\\\0_healthy\\\\572447_20211018_2_0_0_3_2_13_0_073.jpg', '[Errno 13] Permission denied'), ('D:/data/tomato/SourceData\\\\104_data\\\\Validation\\\\0_healthy\\\\572451_20211018_2_0_0_3_2_13_0_077.jpg', 'D:/data/tomato/SourceData_Backup\\\\104_data\\\\Validation\\\\0_healthy\\\\572451_20211018_2_0_0_3_2_13_0_077.jpg', '[Errno 13] Permission denied'), ('D:/data/tomato/SourceData\\\\104_data\\\\Validation\\\\0_healthy\\\\572668_20211019_2_0_0_3_2_13_0_038.jpg', 'D:/data/tomato/SourceData_Backup\\\\104_data\\\\Validation\\\\0_healthy\\\\572668_20211019_2_0_0_3_2_13_0_038.jpg', '[Errno 13] Permission denied'), ('D:/data/tomato/SourceData\\\\104_data\\\\Validation\\\\0_healthy\\\\572672_20211019_2_0_0_3_2_13_0_042.jpg', 'D:/data/tomato/SourceData_Backup\\\\104_data\\\\Validation\\\\0_healthy\\\\572672_20211019_2_0_0_3_2_13_0_042.jpg', '[Errno 13] Permission denied'), ('D:/data/tomato/SourceData\\\\104_data\\\\Validation\\\\0_healthy\\\\572673_20211019_2_0_0_3_2_13_0_043.jpg', 'D:/data/tomato/SourceData_Backup\\\\104_data\\\\Validation\\\\0_healthy\\\\572673_20211019_2_0_0_3_2_13_0_043.jpg', '[Errno 13] Permission denied'), ('D:/data/tomato/SourceData\\\\104_data\\\\Validation\\\\0_healthy\\\\575128_20211006_2_0_0_3_2_13_0_080.jpg', 'D:/data/tomato/SourceData_Backup\\\\104_data\\\\Validation\\\\0_healthy\\\\575128_20211006_2_0_0_3_2_13_0_080.jpg', '[Errno 13] Permission denied'), ('D:/data/tomato/SourceData\\\\104_data\\\\Validation\\\\0_healthy\\\\575132_20211014_2_0_0_3_2_13_0_02.jpg', 'D:/data/tomato/SourceData_Backup\\\\104_data\\\\Validation\\\\0_healthy\\\\575132_20211014_2_0_0_3_2_13_0_02.jpg', '[Errno 13] Permission denied')]",
     "output_type": "error",
     "traceback": [
      "\u001b[1;31m---------------------------------------------------------------------------\u001b[0m",
      "\u001b[1;31mError\u001b[0m                                     Traceback (most recent call last)",
      "Cell \u001b[1;32mIn[6], line 2\u001b[0m\n\u001b[0;32m      1\u001b[0m \u001b[38;5;66;03m# 폴더를 복사합니다.\u001b[39;00m\n\u001b[1;32m----> 2\u001b[0m shutil\u001b[38;5;241m.\u001b[39mcopytree(src_dir, dst_dir)\n",
      "File \u001b[1;32m~\\AppData\\Local\\anaconda3\\Lib\\shutil.py:561\u001b[0m, in \u001b[0;36mcopytree\u001b[1;34m(src, dst, symlinks, ignore, copy_function, ignore_dangling_symlinks, dirs_exist_ok)\u001b[0m\n\u001b[0;32m    559\u001b[0m \u001b[38;5;28;01mwith\u001b[39;00m os\u001b[38;5;241m.\u001b[39mscandir(src) \u001b[38;5;28;01mas\u001b[39;00m itr:\n\u001b[0;32m    560\u001b[0m     entries \u001b[38;5;241m=\u001b[39m \u001b[38;5;28mlist\u001b[39m(itr)\n\u001b[1;32m--> 561\u001b[0m \u001b[38;5;28;01mreturn\u001b[39;00m _copytree(entries\u001b[38;5;241m=\u001b[39mentries, src\u001b[38;5;241m=\u001b[39msrc, dst\u001b[38;5;241m=\u001b[39mdst, symlinks\u001b[38;5;241m=\u001b[39msymlinks,\n\u001b[0;32m    562\u001b[0m                  ignore\u001b[38;5;241m=\u001b[39mignore, copy_function\u001b[38;5;241m=\u001b[39mcopy_function,\n\u001b[0;32m    563\u001b[0m                  ignore_dangling_symlinks\u001b[38;5;241m=\u001b[39mignore_dangling_symlinks,\n\u001b[0;32m    564\u001b[0m                  dirs_exist_ok\u001b[38;5;241m=\u001b[39mdirs_exist_ok)\n",
      "File \u001b[1;32m~\\AppData\\Local\\anaconda3\\Lib\\shutil.py:515\u001b[0m, in \u001b[0;36m_copytree\u001b[1;34m(entries, src, dst, symlinks, ignore, copy_function, ignore_dangling_symlinks, dirs_exist_ok)\u001b[0m\n\u001b[0;32m    513\u001b[0m         errors\u001b[38;5;241m.\u001b[39mappend((src, dst, \u001b[38;5;28mstr\u001b[39m(why)))\n\u001b[0;32m    514\u001b[0m \u001b[38;5;28;01mif\u001b[39;00m errors:\n\u001b[1;32m--> 515\u001b[0m     \u001b[38;5;28;01mraise\u001b[39;00m Error(errors)\n\u001b[0;32m    516\u001b[0m \u001b[38;5;28;01mreturn\u001b[39;00m dst\n",
      "\u001b[1;31mError\u001b[0m: [('D:/data/tomato/SourceData\\\\104_data\\\\Validation\\\\0_healthy\\\\556038_20211013_2_0_0_3_2_13_0_0225.jpg', 'D:/data/tomato/SourceData_Backup\\\\104_data\\\\Validation\\\\0_healthy\\\\556038_20211013_2_0_0_3_2_13_0_0225.jpg', '[Errno 13] Permission denied'), ('D:/data/tomato/SourceData\\\\104_data\\\\Validation\\\\0_healthy\\\\572001_20211014_2_0_0_3_2_13_0_013.jpg', 'D:/data/tomato/SourceData_Backup\\\\104_data\\\\Validation\\\\0_healthy\\\\572001_20211014_2_0_0_3_2_13_0_013.jpg', '[Errno 13] Permission denied'), ('D:/data/tomato/SourceData\\\\104_data\\\\Validation\\\\0_healthy\\\\572269_20211014_2_0_0_3_2_13_0_0285.jpg', 'D:/data/tomato/SourceData_Backup\\\\104_data\\\\Validation\\\\0_healthy\\\\572269_20211014_2_0_0_3_2_13_0_0285.jpg', '[Errno 13] Permission denied'), ('D:/data/tomato/SourceData\\\\104_data\\\\Validation\\\\0_healthy\\\\572447_20211018_2_0_0_3_2_13_0_073.jpg', 'D:/data/tomato/SourceData_Backup\\\\104_data\\\\Validation\\\\0_healthy\\\\572447_20211018_2_0_0_3_2_13_0_073.jpg', '[Errno 13] Permission denied'), ('D:/data/tomato/SourceData\\\\104_data\\\\Validation\\\\0_healthy\\\\572451_20211018_2_0_0_3_2_13_0_077.jpg', 'D:/data/tomato/SourceData_Backup\\\\104_data\\\\Validation\\\\0_healthy\\\\572451_20211018_2_0_0_3_2_13_0_077.jpg', '[Errno 13] Permission denied'), ('D:/data/tomato/SourceData\\\\104_data\\\\Validation\\\\0_healthy\\\\572668_20211019_2_0_0_3_2_13_0_038.jpg', 'D:/data/tomato/SourceData_Backup\\\\104_data\\\\Validation\\\\0_healthy\\\\572668_20211019_2_0_0_3_2_13_0_038.jpg', '[Errno 13] Permission denied'), ('D:/data/tomato/SourceData\\\\104_data\\\\Validation\\\\0_healthy\\\\572672_20211019_2_0_0_3_2_13_0_042.jpg', 'D:/data/tomato/SourceData_Backup\\\\104_data\\\\Validation\\\\0_healthy\\\\572672_20211019_2_0_0_3_2_13_0_042.jpg', '[Errno 13] Permission denied'), ('D:/data/tomato/SourceData\\\\104_data\\\\Validation\\\\0_healthy\\\\572673_20211019_2_0_0_3_2_13_0_043.jpg', 'D:/data/tomato/SourceData_Backup\\\\104_data\\\\Validation\\\\0_healthy\\\\572673_20211019_2_0_0_3_2_13_0_043.jpg', '[Errno 13] Permission denied'), ('D:/data/tomato/SourceData\\\\104_data\\\\Validation\\\\0_healthy\\\\575128_20211006_2_0_0_3_2_13_0_080.jpg', 'D:/data/tomato/SourceData_Backup\\\\104_data\\\\Validation\\\\0_healthy\\\\575128_20211006_2_0_0_3_2_13_0_080.jpg', '[Errno 13] Permission denied'), ('D:/data/tomato/SourceData\\\\104_data\\\\Validation\\\\0_healthy\\\\575132_20211014_2_0_0_3_2_13_0_02.jpg', 'D:/data/tomato/SourceData_Backup\\\\104_data\\\\Validation\\\\0_healthy\\\\575132_20211014_2_0_0_3_2_13_0_02.jpg', '[Errno 13] Permission denied')]"
     ]
    }
   ],
   "source": [
    "# 폴더를 복사합니다.\n",
    "shutil.copytree(src_dir, dst_dir)"
   ]
  },
  {
   "cell_type": "code",
   "execution_count": null,
   "id": "6f0c7af7",
   "metadata": {},
   "outputs": [],
   "source": []
  }
 ],
 "metadata": {
  "kernelspec": {
   "display_name": "Python3.9",
   "language": "python",
   "name": "py39"
  },
  "language_info": {
   "codemirror_mode": {
    "name": "ipython",
    "version": 3
   },
   "file_extension": ".py",
   "mimetype": "text/x-python",
   "name": "python",
   "nbconvert_exporter": "python",
   "pygments_lexer": "ipython3",
   "version": "3.11.3"
  }
 },
 "nbformat": 4,
 "nbformat_minor": 5
}
