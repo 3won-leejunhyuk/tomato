{
 "cells": [
  {
   "cell_type": "code",
   "execution_count": 1,
   "id": "35cfbaf8",
   "metadata": {},
   "outputs": [],
   "source": [
    "# import os\n",
    "# import shutil\n",
    "\n",
    "# # 시작 경로와 도착 경로 설정\n",
    "# start_path = r\"D:\\data\\tomato\\SourceData\\71_data\\Training\\1_disease\"\n",
    "# destination_path_18 = r\"D:\\data\\tomato\\SourceData\\71_data\\Training\\1_disease\\4_LeafMold\"\n",
    "# destination_path_19 = r\"D:\\data\\tomato\\SourceData\\71_data\\Training\\1_disease\\3_YellowLeafCurlVirus\"\n",
    "\n",
    "# # 시작 경로의 모든 파일 목록을 가져옵니다.\n",
    "# all_files = os.listdir(start_path)\n",
    "\n",
    "# # 각 파일에 대해 조건에 따라 원하는 위치로 옮깁니다.\n",
    "# for file_name in all_files:\n",
    "#     if file_name.startswith(\"V006_77_1_18_\"):\n",
    "#         shutil.move(os.path.join(start_path, file_name), os.path.join(destination_path_18, file_name))\n",
    "#     elif file_name.startswith(\"V006_77_1_19_\"):\n",
    "#         shutil.move(os.path.join(start_path, file_name), os.path.join(destination_path_19, file_name))"
   ]
  },
  {
   "cell_type": "code",
   "execution_count": null,
   "id": "1bb9c78e",
   "metadata": {},
   "outputs": [],
   "source": [
    "# import os\n",
    "# import shutil\n",
    "\n",
    "# # 시작 경로와 도착 경로 설정\n",
    "# start_path = r\"D:\\data\\tomato\\SourceData\\71_data\\Validation\\1_disease\"\n",
    "# destination_path_18 = r\"D:\\data\\tomato\\SourceData\\71_data\\Validation\\1_disease\\4_LeafMold\"\n",
    "# destination_path_19 = r\"D:\\data\\tomato\\SourceData\\71_data\\Validation\\1_disease\\3_YellowLeafCurlVirus\"\n",
    "\n",
    "# # 시작 경로의 모든 파일 목록을 가져옵니다.\n",
    "# all_files = os.listdir(start_path)\n",
    "\n",
    "# # 각 파일에 대해 조건에 따라 원하는 위치로 옮깁니다.\n",
    "# for file_name in all_files:\n",
    "#     if file_name.startswith(\"V006_77_1_18_\"):\n",
    "#         shutil.move(os.path.join(start_path, file_name), os.path.join(destination_path_18, file_name))\n",
    "#     elif file_name.startswith(\"V006_77_1_19_\"):\n",
    "#         shutil.move(os.path.join(start_path, file_name), os.path.join(destination_path_19, file_name))"
   ]
  },
  {
   "cell_type": "code",
   "execution_count": 3,
   "id": "abb2b465",
   "metadata": {},
   "outputs": [],
   "source": [
    "# import os\n",
    "# import shutil\n",
    "\n",
    "# # 시작 경로와 도착 경로 설정\n",
    "# start_path = r\"D:\\data\\tomato\\SourceData\\104_data\\Training\\1_disease\"\n",
    "# destination_path_a5 = r\"D:\\data\\tomato\\SourceData\\104_data\\Training\\1_disease\\1_PowderyMildew\"\n",
    "# destination_path_a6 = r\"D:\\data\\tomato\\SourceData\\104_data\\Training\\1_disease\\2_GrayMold\"\n",
    "\n",
    "# # 시작 경로의 모든 파일 목록을 가져옵니다.\n",
    "# all_files = os.listdir(start_path)\n",
    "\n",
    "# # 각 파일에 대해 조건에 따라 원하는 위치로 옮깁니다.\n",
    "# for file_name in all_files:\n",
    "#     if \"_a5_\" in file_name:\n",
    "#         shutil.move(os.path.join(start_path, file_name), os.path.join(destination_path_a5, file_name))\n",
    "#     elif \"_a6_\" in file_name:\n",
    "#         shutil.move(os.path.join(start_path, file_name), os.path.join(destination_path_a6, file_name))"
   ]
  },
  {
   "cell_type": "code",
   "execution_count": 4,
   "id": "8ee1779c",
   "metadata": {},
   "outputs": [],
   "source": [
    "# import os\n",
    "# import shutil\n",
    "\n",
    "# # 시작 경로와 도착 경로 설정\n",
    "# start_path = r\"D:\\data\\tomato\\SourceData\\104_data\\Validation\\1_disease\"\n",
    "# destination_path_a5 = r\"D:\\data\\tomato\\SourceData\\104_data\\Validation\\1_disease\\1_PowderyMildew\"\n",
    "# destination_path_a6 = r\"D:\\data\\tomato\\SourceData\\104_data\\Validation\\1_disease\\2_GrayMold\"\n",
    "\n",
    "# # 시작 경로의 모든 파일 목록을 가져옵니다.\n",
    "# all_files = os.listdir(start_path)\n",
    "\n",
    "# # 각 파일에 대해 조건에 따라 원하는 위치로 옮깁니다.\n",
    "# for file_name in all_files:\n",
    "#     if \"_a5_\" in file_name:\n",
    "#         shutil.move(os.path.join(start_path, file_name), os.path.join(destination_path_a5, file_name))\n",
    "#     elif \"_a6_\" in file_name:\n",
    "#         shutil.move(os.path.join(start_path, file_name), os.path.join(destination_path_a6, file_name))"
   ]
  }
 ],
 "metadata": {
  "kernelspec": {
   "display_name": "Python 3 (ipykernel)",
   "language": "python",
   "name": "python3"
  },
  "language_info": {
   "codemirror_mode": {
    "name": "ipython",
    "version": 3
   },
   "file_extension": ".py",
   "mimetype": "text/x-python",
   "name": "python",
   "nbconvert_exporter": "python",
   "pygments_lexer": "ipython3",
   "version": "3.9.17"
  }
 },
 "nbformat": 4,
 "nbformat_minor": 5
}
