{
 "cells": [
  {
   "cell_type": "code",
   "execution_count": 1,
   "id": "33c633fd-2722-4376-98c3-8ddcd685d75e",
   "metadata": {},
   "outputs": [
    {
     "name": "stdout",
     "output_type": "stream",
     "text": [
      "4.8.1\n"
     ]
    }
   ],
   "source": [
    "from torchvision import transforms\n",
    "import cv2\n",
    "import os\n",
    "from PIL import Image\n",
    "print(cv2.__version__)"
   ]
  },
  {
   "cell_type": "code",
   "execution_count": 4,
   "id": "471a7b94-cd51-4c51-adb3-0940e0b10feb",
   "metadata": {},
   "outputs": [
    {
     "name": "stdout",
     "output_type": "stream",
     "text": [
      "/workspace/mnt2/data/tomato_except3/crop/resize/0\n"
     ]
    }
   ],
   "source": [
    "cd /workspace/mnt2/data/tomato_except3/crop/resize/0/"
   ]
  },
  {
   "cell_type": "markdown",
   "id": "9dc84212-67c1-4164-8d6d-b90b6d895665",
   "metadata": {},
   "source": [
    "# 이미지 종횡비 무시 resize"
   ]
  },
  {
   "cell_type": "code",
   "execution_count": 5,
   "id": "606ef2cb-3b14-4233-b752-c7d78a4f6e3b",
   "metadata": {},
   "outputs": [
    {
     "name": "stdout",
     "output_type": "stream",
     "text": [
      "/workspace/mnt2/data/tomato_except3/crop/resize/0/TrainingDataSet/ 폴더와 그 하위 폴더에 있는 모든 적용 가능한 이미지의 크기를 224x224로 조정하고 덮어썼습니다.\n"
     ]
    }
   ],
   "source": [
    "input_folder = '/workspace/mnt2/data/tomato_except3/crop/resize/0/TrainingDataSet/'  # 바꿀 원본 이미지 폴더 경로로 대체하세요\n",
    "target_size = 224  # 원하는 이미지의 목표 크기\n",
    "\n",
    "# transforms.Compose를 사용하여 이미지 변환을 정의합니다.\n",
    "transform = transforms.Compose([\n",
    "    transforms.Resize((target_size, target_size))\n",
    "])\n",
    "valid_extensions = ('.jpg', '.jpeg', '.png')\n",
    "# input_folder 폴더와 그 하위 폴더들을 순회합니다.\n",
    "for foldername, subfolders, filenames in os.walk(input_folder):\n",
    "    for filename in filenames:\n",
    "        if filename.lower().endswith(valid_extensions):  \n",
    "            file_path = os.path.join(foldername, filename)\n",
    "\n",
    "            # PIL 이미지로 열기\n",
    "            im = Image.open(file_path)\n",
    "            # 이미지 변환 적용\n",
    "            im = transform(im)\n",
    "            # 변환된 이미지 저장\n",
    "            im.save(file_path, quality=95)\n",
    "\n",
    "print(f\"{input_folder} 폴더와 그 하위 폴더에 있는 모든 적용 가능한 이미지의 크기를 {target_size}x{target_size}로 조정하고 덮어썼습니다.\")"
   ]
  },
  {
   "cell_type": "code",
   "execution_count": 6,
   "id": "e40c9bcb-3631-4501-b28f-ef17dd8d4870",
   "metadata": {
    "editable": true,
    "slideshow": {
     "slide_type": ""
    },
    "tags": []
   },
   "outputs": [
    {
     "name": "stdout",
     "output_type": "stream",
     "text": [
      "/workspace/mnt2/data/tomato_except3/crop/resize/0/ValidationDataSet/ 폴더와 그 하위 폴더에 있는 모든 적용 가능한 이미지의 크기를 224x224로 조정하고 덮어썼습니다.\n"
     ]
    }
   ],
   "source": [
    "input_folder = '/workspace/mnt2/data/tomato_except3/crop/resize/0/ValidationDataSet/'  # 바꿀 원본 이미지 폴더 경로로 대체하세요\n",
    "target_size = 224  # 원하는 이미지의 목표 크기\n",
    "\n",
    "# transforms.Compose를 사용하여 이미지 변환을 정의합니다.\n",
    "transform = transforms.Compose([\n",
    "    transforms.Resize((target_size, target_size))\n",
    "])\n",
    "valid_extensions = ('.jpg', '.jpeg', '.png')\n",
    "# input_folder 폴더와 그 하위 폴더들을 순회합니다.\n",
    "for foldername, subfolders, filenames in os.walk(input_folder):\n",
    "    for filename in filenames:\n",
    "        if filename.lower().endswith(valid_extensions):  \n",
    "            file_path = os.path.join(foldername, filename)\n",
    "\n",
    "            # PIL 이미지로 열기\n",
    "            im = Image.open(file_path)\n",
    "            # 이미지 변환 적용\n",
    "            im = transform(im)\n",
    "            # 변환된 이미지 저장\n",
    "            im.save(file_path, quality=95)\n",
    "\n",
    "print(f\"{input_folder} 폴더와 그 하위 폴더에 있는 모든 적용 가능한 이미지의 크기를 {target_size}x{target_size}로 조정하고 덮어썼습니다.\")"
   ]
  },
  {
   "cell_type": "markdown",
   "id": "d1812230-35eb-4073-b714-d42de230f481",
   "metadata": {},
   "source": [
    "# 이미지 종횡비 유지 resize"
   ]
  },
  {
   "cell_type": "code",
   "execution_count": 7,
   "id": "82e8702b-20d0-4332-9b72-e3b179d56002",
   "metadata": {},
   "outputs": [
    {
     "name": "stdout",
     "output_type": "stream",
     "text": [
      "/workspace/data/tomato/tomato_final/crop/testDataSet/ 폴더와 그 하위 폴더에 있는 모든 적용 가능한 이미지의 크기를 조정하고 덮어썼습니다\n"
     ]
    }
   ],
   "source": [
    "import os\n",
    "import cv2\n",
    "import math\n",
    "from pathlib import Path\n",
    "\n",
    "input_folder = '/workspace/data/tomato/tomato_final/crop/testDataSet/'  # 바꿀 원본 이미지 폴더 경로로 대체하세요\n",
    "target_size = 380  # 원하는 이미지의 목표 크기\n",
    "\n",
    "# input_folder 폴더와 그 하위 폴더들을 순회합니다\n",
    "for foldername, subfolders, filenames in os.walk(input_folder):\n",
    "    for filename in filenames:\n",
    "        if filename.lower().endswith(\".jpg\"):  # 필요하다면 다른 파일 형식도 포함시킬 수 있습니다\n",
    "            file_path = os.path.join(foldername, filename)\n",
    "\n",
    "            # 이미지를 읽습니다\n",
    "            im = cv2.imread(file_path)  # BGR\n",
    "            assert im is not None, f'이미지를 찾을 수 없습니다: {file_path}'\n",
    "            h0, w0 = im.shape[:2]  # 원본 이미지의 높이와 너비\n",
    "\n",
    "            # 리사이즈 비율을 계산합니다\n",
    "            r = target_size / max(h0, w0)\n",
    "            # 이미지의 크기가 서로 다를 경우에만 리사이즈를 진행합니다\n",
    "            if r != 1: \n",
    "                # 리사이즈할 때 사용할 보간법을 결정합니다\n",
    "                interp = cv2.INTER_LINEAR if r > 1 else cv2.INTER_AREA\n",
    "                # 이미지를 리사이즈합니다\n",
    "                im = cv2.resize(im, (math.ceil(w0 * r), math.ceil(h0 * r)), interpolation=interp)\n",
    "\n",
    "            # 리사이즈된 이미지를 저장합니다\n",
    "            cv2.imwrite(file_path, im)  # 원본 이미지를 덮어씁니다\n",
    "\n",
    "print(f\"{input_folder} 폴더와 그 하위 폴더에 있는 모든 적용 가능한 이미지의 크기를 조정하고 덮어썼습니다\")"
   ]
  }
 ],
 "metadata": {
  "kernelspec": {
   "display_name": "Python 3 (ipykernel)",
   "language": "python",
   "name": "python3"
  },
  "language_info": {
   "codemirror_mode": {
    "name": "ipython",
    "version": 3
   },
   "file_extension": ".py",
   "mimetype": "text/x-python",
   "name": "python",
   "nbconvert_exporter": "python",
   "pygments_lexer": "ipython3",
   "version": "3.11.6"
  }
 },
 "nbformat": 4,
 "nbformat_minor": 5
}
