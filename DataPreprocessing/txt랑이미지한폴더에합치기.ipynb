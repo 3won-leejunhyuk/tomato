{
 "cells": [
  {
   "cell_type": "code",
   "execution_count": 10,
   "id": "94aa35ae-7d09-4d6c-a804-73ecbf13191f",
   "metadata": {},
   "outputs": [],
   "source": [
    "# #104_data 0_healthy\n",
    "# import os\n",
    "# import shutil\n",
    "\n",
    "# # 경로 정의\n",
    "# txt_path = r\"D:\\data\\tomato\\tomato_제외기준4번\\104_data\\labeling\\0_healthy\"\n",
    "# image_path = r\"D:\\data\\tomato\\tomato_제외기준4번\\104_data\\Training\\0_healthy\"\n",
    "# output_path = r\"D:\\data\\tomato\\tomato_제외기준4번\\104_data\\Training\\0_healthy\"\n",
    "\n",
    "# # 각 경로에서 파일 리스트 가져오기\n",
    "# txt_files = set(os.listdir(txt_path))\n",
    "# image_files = set(os.listdir(image_path))\n",
    "\n",
    "# # 이미지 파일들에 대해서만 처리\n",
    "# for image_file in image_files:\n",
    "#     if image_file.endswith(('.jpg', '.png', '.jpeg', '.JPG')):\n",
    "#         # 대응하는 .txt 파일 이름 만들기\n",
    "#         corresponding_txt = image_file.replace('.jpg', '.txt').replace('.JPG', '.txt').replace('.png', '.txt').replace('.jpeg', '.txt')\n",
    "\n",
    "#         # 대응하는 .txt 파일이 txt_path에 존재하면 output_path로 이동\n",
    "#         if corresponding_txt in txt_files:\n",
    "#             # 실제 .txt 파일을 이동\n",
    "#             shutil.move(os.path.join(txt_path, corresponding_txt), os.path.join(output_path, corresponding_txt))\n"
   ]
  },
  {
   "cell_type": "code",
   "execution_count": 5,
   "id": "74e04004-673e-4deb-8bb6-0b593ddd2bfb",
   "metadata": {},
   "outputs": [],
   "source": [
    "#104_data 0_healthy\n",
    "import os\n",
    "import shutil\n",
    "\n",
    "# 경로 정의\n",
    "txt_path = r\"C:\\data\\tomato_제외기준3번_total\\TestDataSet\\SmartFarm\\labeling\\1_disease\\1_PowderyMildew\"\n",
    "image_path = r\"C:\\data\\tomato_제외기준3번_total\\TestDataSet\\SmartFarm\\1_disease\\1_PowderyMildew\"\n",
    "output_path = r\"C:\\data\\tomato_제외기준3번_total\\TestDataSet\\SmartFarm\\1_disease\\1_PowderyMildew\"\n",
    "\n",
    "# 각 경로에서 파일 리스트 가져오기\n",
    "txt_files = set(os.listdir(txt_path))\n",
    "image_files = set(os.listdir(image_path))\n",
    "\n",
    "# 이미지 파일들에 대해서만 처리\n",
    "for image_file in image_files:\n",
    "    if image_file.endswith(('.jpg', '.png', '.jpeg', '.JPG', '.PNG')):\n",
    "        # 대응하는 .txt 파일 이름 만들기\n",
    "        corresponding_txt = image_file.replace('.jpg', '.txt').replace('.JPG', '.txt').replace('.png', '.txt').replace('.jpeg', '.txt').replace('.PNG', '.txt')\n",
    "\n",
    "        # 대응하는 .txt 파일이 txt_path에 존재하면 output_path로 이동\n",
    "        if corresponding_txt in txt_files:\n",
    "            # 실제 .txt 파일을 이동\n",
    "            shutil.move(os.path.join(txt_path, corresponding_txt), os.path.join(output_path, corresponding_txt))"
   ]
  }
 ],
 "metadata": {
  "kernelspec": {
   "display_name": "Python 3 (ipykernel)",
   "language": "python",
   "name": "python3"
  },
  "language_info": {
   "codemirror_mode": {
    "name": "ipython",
    "version": 3
   },
   "file_extension": ".py",
   "mimetype": "text/x-python",
   "name": "python",
   "nbconvert_exporter": "python",
   "pygments_lexer": "ipython3",
   "version": "3.9.17"
  }
 },
 "nbformat": 4,
 "nbformat_minor": 5
}
