{
 "cells": [
  {
   "cell_type": "code",
   "execution_count": 1,
   "id": "538a729a",
   "metadata": {},
   "outputs": [
    {
     "name": "stdout",
     "output_type": "stream",
     "text": [
      "482개의 이미지를 D:\\data\\tomato\\SourceData\\PlantVillage\\1_disease\\3_YellowLeafCurlVirus\\3_YellowLeafCurlVirus로 이동하였습니다.\n"
     ]
    }
   ],
   "source": [
    "# import os\n",
    "# import shutil\n",
    "# import random\n",
    "\n",
    "# # 경로 정의\n",
    "# src_folder = r\"D:\\data\\tomato\\SourceData\\PlantVillage\\1_disease\\3_YellowLeafCurlVirus\"\n",
    "# dst_folder = r\"D:\\data\\tomato\\SourceData\\PlantVillage\\1_disease\\3_YellowLeafCurlVirus\\3_YellowLeafCurlVirus\"\n",
    "\n",
    "# # 이미지 파일만 추출\n",
    "# all_images = [img for img in os.listdir(src_folder) if img.endswith(('.jpg', '.png', '.jpeg', '.JPG'))]\n",
    "\n",
    "# # 이미지 중에서 482개를 랜덤하게 선택\n",
    "# selected_images = random.sample(all_images, 482)\n",
    "\n",
    "# # 선택한 이미지를 목적지 폴더로 이동\n",
    "# for image in selected_images:\n",
    "#     src_path = os.path.join(src_folder, image)\n",
    "#     dst_path = os.path.join(dst_folder, image)\n",
    "    \n",
    "#     shutil.move(src_path, dst_path)\n",
    "\n",
    "# print(f\"482개의 이미지를 {dst_folder}로 이동하였습니다.\")"
   ]
  },
  {
   "cell_type": "code",
   "execution_count": 2,
   "id": "11f76037",
   "metadata": {},
   "outputs": [],
   "source": [
    "# #\\PlantVillage\\3_YellowLeafCurlVirus\n",
    "# import os\n",
    "# import json\n",
    "\n",
    "# # 경로 정의\n",
    "# txt_path = r\"D:\\data\\tomato\\SourceData\\PlantVillage\\labeling\\1_disease\\3_YellowLeafCurlVirus\"\n",
    "# image_path = r\"D:\\data\\tomato\\SourceData\\TestDataSet\\PlantVillage\\1_disease\\3_YellowLeafCurlVirus\"\n",
    "# output_path = r\"D:\\data\\tomato\\SourceData\\TestDataSet\\PlantVillage\\labeling\\3_YellowLeafCurlVirus\"\n",
    "\n",
    "# # 이미지 파일들에 대해서만 처리\n",
    "# for image_file in os.listdir(image_path):\n",
    "#     if image_file.endswith(('.jpg', '.png', '.jpeg', '.JPG')):\n",
    "#         corresponding_txt = image_file.replace('.jpg', '.txt').replace('.JPG', '.txt')\n",
    "\n",
    "#         # 해당 txt 파일이 존재하는 경우만 처리\n",
    "#         if os.path.exists(os.path.join(txt_path, corresponding_txt)):\n",
    "#             src_path = os.path.join(txt_path, corresponding_txt)\n",
    "#             dst_path = os.path.join(output_path, corresponding_txt)\n",
    "            \n",
    "#             shutil.move(src_path, dst_path)"
   ]
  },
  {
   "cell_type": "code",
   "execution_count": 11,
   "id": "0a3ef4b4",
   "metadata": {},
   "outputs": [],
   "source": [
    "import os\n",
    "import shutil\n",
    "import random\n",
    "\n",
    "# 경로 정의\n",
    "src_folder = r\"G:\\PlantVillage_raw_color\\color\\Tomato___Target_Spot\"\n",
    "dst_folder = r\"D:\\data\\tomato\\SourceData\\TestDataSet\\PlantVillage\\1_disease\\5_EarlyBlight\"\n",
    "\n",
    "# 이미지 파일만 추출\n",
    "all_images = [img for img in os.listdir(src_folder) if img.endswith(('.jpg', '.png', '.jpeg', '.JPG'))]\n",
    "\n",
    "# 이미지 중에서 총240개를 랜덤하게 선택\n",
    "selected_images = random.sample(all_images, 140)\n",
    "\n",
    "# 선택한 이미지를 목적지 폴더로 이동\n",
    "for image in selected_images:\n",
    "    src_path = os.path.join(src_folder, image)\n",
    "    dst_path = os.path.join(dst_folder, image)\n",
    "    \n",
    "    shutil.move(src_path, dst_path)\n",
    "\n",
    "# print(f\"38개의 이미지를 {dst_folder}로 이동하였습니다.\")"
   ]
  },
  {
   "cell_type": "code",
   "execution_count": 12,
   "id": "8fbe8b3f",
   "metadata": {},
   "outputs": [],
   "source": [
    "#\\PlantVillage\\3_YellowLeafCurlVirus\n",
    "import os\n",
    "import json\n",
    "\n",
    "# 경로 정의\n",
    "txt_path = r\"D:\\data\\tomato\\SourceData\\PlantVillage\\labeling\\1_disease\\5_EarlyBlight\"\n",
    "image_path = r\"D:\\data\\tomato\\SourceData\\TestDataSet\\PlantVillage\\1_disease\\5_EarlyBlight\"\n",
    "output_path = r\"D:\\data\\tomato\\SourceData\\TestDataSet\\PlantVillage\\labeling\\5_EarlyBlight\"\n",
    "\n",
    "# 이미지 파일들에 대해서만 처리\n",
    "for image_file in os.listdir(image_path):\n",
    "    if image_file.endswith(('.jpg', '.png', '.jpeg', '.JPG')):\n",
    "        corresponding_txt = image_file.replace('.jpg', '.txt').replace('.JPG', '.txt')\n",
    "\n",
    "        # 해당 txt 파일이 존재하는 경우만 처리\n",
    "        if os.path.exists(os.path.join(txt_path, corresponding_txt)):\n",
    "            src_path = os.path.join(txt_path, corresponding_txt)\n",
    "            dst_path = os.path.join(output_path, corresponding_txt)\n",
    "            \n",
    "            shutil.move(src_path, dst_path)"
   ]
  },
  {
   "cell_type": "code",
   "execution_count": null,
   "id": "bd4f3aa1",
   "metadata": {},
   "outputs": [],
   "source": []
  }
 ],
 "metadata": {
  "kernelspec": {
   "display_name": "Python 3 (ipykernel)",
   "language": "python",
   "name": "python3"
  },
  "language_info": {
   "codemirror_mode": {
    "name": "ipython",
    "version": 3
   },
   "file_extension": ".py",
   "mimetype": "text/x-python",
   "name": "python",
   "nbconvert_exporter": "python",
   "pygments_lexer": "ipython3",
   "version": "3.9.17"
  }
 },
 "nbformat": 4,
 "nbformat_minor": 5
}
