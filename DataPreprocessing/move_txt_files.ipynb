{
 "cells": [
  {
   "cell_type": "markdown",
   "id": "8b5620ae-e4bd-44ad-b7f9-01cc6e4a4c71",
   "metadata": {},
   "source": [
    "# move_txt_files"
   ]
  },
  {
   "cell_type": "code",
   "execution_count": 1,
   "id": "4d7a753c-b27f-4938-908a-9b59164dadcc",
   "metadata": {},
   "outputs": [
    {
     "name": "stdout",
     "output_type": "stream",
     "text": [
      "All .txt files have been moved.\n"
     ]
    }
   ],
   "source": [
    "import os\n",
    "import shutil\n",
    "\n",
    "def move_txt_files(src_directory, dest_directory):\n",
    "    \"\"\"\n",
    "    Move all .txt files from src_directory to dest_directory.\n",
    "    \"\"\"\n",
    "    if not os.path.exists(dest_directory):\n",
    "        os.makedirs(dest_directory)\n",
    "\n",
    "    for root, dirs, files in os.walk(src_directory):\n",
    "        for file in files:\n",
    "            if file.endswith('.txt'):\n",
    "                src_file = os.path.join(root, file)\n",
    "                dest_file = os.path.join(dest_directory, file)\n",
    "                shutil.move(src_file, dest_file)\n",
    "\n",
    "# Directories to process\n",
    "directories = [\n",
    "    (\"0_healthy\", \"TrainingDataSet\"),\n",
    "    (\"1_PowderyMildew\", \"TrainingDataSet\"),\n",
    "    (\"2_GrayMold\", \"TrainingDataSet\"),\n",
    "    (\"3_YellowLeafCurlVirus\", \"TrainingDataSet\"),\n",
    "    (\"4_LeafMold\", \"TrainingDataSet\"),\n",
    "    (\"5_LateBlight\", \"TrainingDataSet\"),\n",
    "    (\"0_healthy\", \"ValidationDataSet\"),\n",
    "    (\"1_PowderyMildew\", \"ValidationDataSet\"),\n",
    "    (\"2_GrayMold\", \"ValidationDataSet\"),\n",
    "    (\"3_YellowLeafCurlVirus\", \"ValidationDataSet\"),\n",
    "    (\"4_LeafMold\", \"ValidationDataSet\"),\n",
    "    (\"5_LateBlight\", \"ValidationDataSet\")\n",
    "]\n",
    "\n",
    "base_src_path = \"/workspace/mnt/yolo/yolov8/runs/detect/leaf_bootstrap6\"\n",
    "base_dest_path = \"/workspace/mnt2/data/tomato_except3/leaf/6\"\n",
    "\n",
    "# Process each directory\n",
    "for disease, dataset in directories:\n",
    "    src_dir = os.path.join(base_src_path, dataset, disease, \"labels\")\n",
    "    dest_dir = os.path.join(base_dest_path, dataset, disease)\n",
    "    move_txt_files(src_dir, dest_dir)\n",
    "\n",
    "print(\"All .txt files have been moved.\")"
   ]
  },
  {
   "cell_type": "markdown",
   "id": "9f0804c5-4c86-4418-8ed4-9761ac28c4d6",
   "metadata": {},
   "source": [
    "# copy_txt_files"
   ]
  },
  {
   "cell_type": "code",
   "execution_count": 8,
   "id": "0d40afe6-e2ad-4aad-9c96-284c40414066",
   "metadata": {},
   "outputs": [
    {
     "name": "stdout",
     "output_type": "stream",
     "text": [
      "All .txt files have been copied.\n"
     ]
    }
   ],
   "source": [
    "import os\n",
    "import shutil\n",
    "\n",
    "def copy_txt_files(src_directory, dest_directory):\n",
    "    \"\"\"\n",
    "    Copy all .txt files from src_directory to dest_directory.\n",
    "    \"\"\"\n",
    "    if not os.path.exists(dest_directory):\n",
    "        os.makedirs(dest_directory)\n",
    "\n",
    "    for root, dirs, files in os.walk(src_directory):\n",
    "        for file in files:\n",
    "            if file.endswith('.txt'):\n",
    "                src_file = os.path.join(root, file)\n",
    "                dest_file = os.path.join(dest_directory, file)\n",
    "                shutil.copy(src_file, dest_file)  # 변경된 부분\n",
    "\n",
    "# Directories to process\n",
    "directories = [\n",
    "    (\"0_healthy\", \"TrainingDataSet\"),\n",
    "    (\"1_PowderyMildew\", \"TrainingDataSet\"),\n",
    "    (\"2_GrayMold\", \"TrainingDataSet\"),\n",
    "    (\"3_YellowLeafCurlVirus\", \"TrainingDataSet\"),\n",
    "    (\"4_LeafMold\", \"TrainingDataSet\"),\n",
    "    (\"5_LateBlight\", \"TrainingDataSet\"),\n",
    "    (\"0_healthy\", \"ValidationDataSet\"),\n",
    "    (\"1_PowderyMildew\", \"ValidationDataSet\"),\n",
    "    (\"2_GrayMold\", \"ValidationDataSet\"),\n",
    "    (\"3_YellowLeafCurlVirus\", \"ValidationDataSet\"),\n",
    "    (\"4_LeafMold\", \"ValidationDataSet\"),\n",
    "    (\"5_LateBlight\", \"ValidationDataSet\")\n",
    "]\n",
    "\n",
    "base_src_path = \"/workspace/mnt2/data/tomato_except3/leaf/6\"\n",
    "base_dest_path = \"/workspace/mnt2/data/tomato_except3/crop\"\n",
    "\n",
    "# Process each directory\n",
    "for disease, dataset in directories:\n",
    "    src_dir = os.path.join(base_src_path, dataset, disease)\n",
    "    dest_dir = os.path.join(base_dest_path, dataset, disease)\n",
    "    copy_txt_files(src_dir, dest_dir)  # 함수 이름을 변경\n",
    "\n",
    "print(\"All .txt files have been copied.\")  # 메시지 변경"
   ]
  }
 ],
 "metadata": {
  "kernelspec": {
   "display_name": "Python 3 (ipykernel)",
   "language": "python",
   "name": "python3"
  },
  "language_info": {
   "codemirror_mode": {
    "name": "ipython",
    "version": 3
   },
   "file_extension": ".py",
   "mimetype": "text/x-python",
   "name": "python",
   "nbconvert_exporter": "python",
   "pygments_lexer": "ipython3",
   "version": "3.11.6"
  }
 },
 "nbformat": 4,
 "nbformat_minor": 5
}
