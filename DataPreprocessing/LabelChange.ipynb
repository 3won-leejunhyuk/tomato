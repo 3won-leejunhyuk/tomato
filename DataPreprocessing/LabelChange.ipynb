{
 "cells": [
  {
   "cell_type": "code",
   "execution_count": 3,
   "id": "80d326d3-7abb-4e7b-b99b-d8bef5ae395d",
   "metadata": {},
   "outputs": [],
   "source": [
    "import os"
   ]
  },
  {
   "cell_type": "code",
   "execution_count": 4,
   "id": "c65e8ee3",
   "metadata": {},
   "outputs": [
    {
     "name": "stdout",
     "output_type": "stream",
     "text": [
      "All first labels within .txt files under /workspace/mnt2/data/tomato_except3/leaf/ have been changed to 0.\n"
     ]
    }
   ],
   "source": [
    "# Set the root directory path\n",
    "root_dir = r\"/workspace/mnt2/data/tomato_except3/leaf/\"\n",
    "\n",
    "# Walk through all subdirectories and files in the root directory\n",
    "for dirpath, dirnames, filenames in os.walk(root_dir):\n",
    "    for file in filenames:\n",
    "        # Process only files with .txt extension\n",
    "        if file.endswith('.txt'):\n",
    "            txt_file_path = os.path.join(dirpath, file)\n",
    "\n",
    "            # List to store changed lines\n",
    "            changed_lines = []\n",
    "\n",
    "            # Read txt file\n",
    "            with open(txt_file_path, 'r') as f:\n",
    "                lines = f.readlines()\n",
    "\n",
    "                for line in lines:\n",
    "                    # separated by spaces (YOLO format is a space separated format)\n",
    "                    elements = line.strip().split(\" \")\n",
    "\n",
    "                    # Change the first label to 0\n",
    "                    elements[0] = \"0\"\n",
    "\n",
    "                    # Put it back together\n",
    "                    changed_line = \" \".join(elements) + \"\\n\"\n",
    "                    changed_lines.append(changed_line)\n",
    "\n",
    "            # Rewrite txt file with changed contents\n",
    "            with open(txt_file_path, 'w') as f:\n",
    "                f.writelines(changed_lines)\n",
    "\n",
    "print(f\"All first labels within .txt files under {root_dir} have been changed to 0.\")"
   ]
  },
  {
   "cell_type": "code",
   "execution_count": null,
   "id": "acc2534e-b22a-460c-af47-0845bccd4efd",
   "metadata": {},
   "outputs": [],
   "source": []
  }
 ],
 "metadata": {
  "kernelspec": {
   "display_name": "Python 3 (ipykernel)",
   "language": "python",
   "name": "python3"
  },
  "language_info": {
   "codemirror_mode": {
    "name": "ipython",
    "version": 3
   },
   "file_extension": ".py",
   "mimetype": "text/x-python",
   "name": "python",
   "nbconvert_exporter": "python",
   "pygments_lexer": "ipython3",
   "version": "3.11.6"
  }
 },
 "nbformat": 4,
 "nbformat_minor": 5
}
