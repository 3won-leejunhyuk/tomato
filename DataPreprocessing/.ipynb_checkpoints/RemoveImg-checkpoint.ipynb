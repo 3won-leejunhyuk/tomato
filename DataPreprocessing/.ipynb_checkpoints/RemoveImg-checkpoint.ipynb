{
 "cells": [
  {
   "cell_type": "code",
   "execution_count": null,
   "id": "df9479e1-41f2-4f08-8338-c70f7da632c3",
   "metadata": {},
   "outputs": [],
   "source": [
    "import os\n",
    "from PIL import Image\n",
    "\n",
    "# Define the base directories for training and validation datasets\n",
    "base_directories = [\n",
    "    './data/tomato/crop/resize/1/TrainingDataSet',\n",
    "    './data/tomato/crop/resize/1/ValidationDataSet'\n",
    "]\n",
    "\n",
    "# Define standard sizes for each class as (width, height)\n",
    "# Example: {'0_healthy': (100, 100), '1_PowderyMildew': (200, 200), ...}\n",
    "standard_sizes = {\n",
    "    '0_healthy': (125, 111),\n",
    "    '1_PowderyMildew': (200, 392),\n",
    "    '2_GrayMold': (331, 421),\n",
    "    '3_YellowLeafCurlVirus': (131, 152),\n",
    "    '4_LeafMold': (313, 204),\n",
    "    '5_LateBlight': (67, 92),\n",
    "}\n",
    "\n",
    "# Function to delete images smaller than the standard size\n",
    "def delete_smaller_images(sub_directory, standard_size):\n",
    "    for image_file in os.listdir(sub_directory):\n",
    "        image_path = os.path.join(sub_directory, image_file)\n",
    "        try:\n",
    "            with Image.open(image_path) as img:\n",
    "                width, height = img.size\n",
    "                # Check if the image is smaller than the standard size\n",
    "                if width < standard_size[0] or height < standard_size[1]:\n",
    "                    os.remove(image_path)\n",
    "                    print(f\"Deleted '{image_path}' as it is smaller than the standard size.\")\n",
    "        except IOError:\n",
    "            print(f\"Error opening or reading image '{image_path}'.\")\n",
    "\n",
    "# Iterate over each base directory, subdirectory, and delete images that don't meet the standard size\n",
    "for base_dir in base_directories:\n",
    "    for class_dir, standard_size in standard_sizes.items():\n",
    "        class_dir_path = os.path.join(base_dir, class_dir)\n",
    "        if os.path.exists(class_dir_path):\n",
    "            delete_smaller_images(class_dir_path, standard_size)"
   ]
  }
 ],
 "metadata": {
  "kernelspec": {
   "display_name": "Python 3 (ipykernel)",
   "language": "python",
   "name": "python3"
  },
  "language_info": {
   "codemirror_mode": {
    "name": "ipython",
    "version": 3
   },
   "file_extension": ".py",
   "mimetype": "text/x-python",
   "name": "python",
   "nbconvert_exporter": "python",
   "pygments_lexer": "ipython3",
   "version": "3.11.6"
  }
 },
 "nbformat": 4,
 "nbformat_minor": 5
}
