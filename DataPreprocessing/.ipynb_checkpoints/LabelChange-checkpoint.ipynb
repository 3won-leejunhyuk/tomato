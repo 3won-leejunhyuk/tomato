{
 "cells": [
  {
   "cell_type": "code",
   "execution_count": 3,
   "id": "c65e8ee3",
   "metadata": {},
   "outputs": [
    {
     "name": "stdout",
     "output_type": "stream",
     "text": [
      "F:\\data\\tomato\\그린데이터랩\\tomato_제외기준4번\\PlantVillage\\5_EarlyBlight\\7983eb58-6dce-4cb5-9ec0-e44cafbc41c9___Com.G_TgS_FL 0923.txt 내의 모든 첫 번째 라벨이 5로 변경되었습니다.\n"
     ]
    }
   ],
   "source": [
    "import os\n",
    "\n",
    "# 폴더 경로 설정\n",
    "folder_path = r\"F:\\data\\tomato\\그린데이터랩\\tomato_제외기준4번\\PlantVillage\\5_EarlyBlight\"\n",
    "\n",
    "# 폴더 내의 모든 파일 리스트 가져오기\n",
    "file_list = os.listdir(folder_path)\n",
    "\n",
    "# .txt 확장자를 가진 파일만 처리\n",
    "for file in file_list:\n",
    "    if file.endswith('.txt'):\n",
    "        txt_file_path = os.path.join(folder_path, file)\n",
    "\n",
    "        # 변경된 라인을 저장할 리스트\n",
    "        changed_lines = []\n",
    "\n",
    "        # txt 파일 읽기\n",
    "        with open(txt_file_path, 'r') as f:\n",
    "            lines = f.readlines()\n",
    "\n",
    "            for line in lines:\n",
    "                # 공백으로 분리 (YOLO 형식은 공백으로 구분된 형식입니다)\n",
    "                elements = line.strip().split(\" \")\n",
    "\n",
    "                # 첫 번째 라벨을 4로 변경\n",
    "                elements[0] = \"5\"\n",
    "\n",
    "                # 다시 합치기\n",
    "                changed_line = \" \".join(elements) + \"\\n\"\n",
    "                changed_lines.append(changed_line)\n",
    "\n",
    "        # 변경된 내용으로 txt 파일 다시 작성\n",
    "        with open(txt_file_path, 'w') as f:\n",
    "            f.writelines(changed_lines)\n",
    "\n",
    "print(f\"{txt_file_path} 내의 모든 첫 번째 라벨이 5로 변경되었습니다.\")"
   ]
  }
 ],
 "metadata": {
  "kernelspec": {
   "display_name": "python3.9",
   "language": "python",
   "name": "py39"
  },
  "language_info": {
   "codemirror_mode": {
    "name": "ipython",
    "version": 3
   },
   "file_extension": ".py",
   "mimetype": "text/x-python",
   "name": "python",
   "nbconvert_exporter": "python",
   "pygments_lexer": "ipython3",
   "version": "3.9.17"
  }
 },
 "nbformat": 4,
 "nbformat_minor": 5
}
