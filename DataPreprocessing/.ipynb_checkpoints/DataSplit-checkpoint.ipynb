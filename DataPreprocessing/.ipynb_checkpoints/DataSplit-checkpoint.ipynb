{
 "cells": [
  {
   "cell_type": "code",
   "execution_count": 9,
   "id": "3220216c-d12c-4407-8c94-c1f7f0a03474",
   "metadata": {},
   "outputs": [
    {
     "name": "stdout",
     "output_type": "stream",
     "text": [
      "/workspace/mnt2/data/tomato_except3/origin\n"
     ]
    }
   ],
   "source": [
    "cd /workspace/mnt2/data/tomato_except3/origin"
   ]
  },
  {
   "cell_type": "code",
   "execution_count": 2,
   "id": "8541c80d-3ba8-4df7-89cc-15fc6fe4152a",
   "metadata": {},
   "outputs": [],
   "source": [
    "import os\n",
    "import shutil\n",
    "from sklearn.model_selection import train_test_split"
   ]
  },
  {
   "cell_type": "markdown",
   "id": "745fcd1b-953b-4d6e-a39f-a7d0def2d538",
   "metadata": {},
   "source": [
    "# Train/Valid Split"
   ]
  },
  {
   "cell_type": "code",
   "execution_count": 3,
   "id": "aaa1fe13-d561-4bc5-b12f-8e7a7ca6358b",
   "metadata": {
    "scrolled": true
   },
   "outputs": [
    {
     "name": "stdout",
     "output_type": "stream",
     "text": [
      "Total train images: 36728\n",
      "Total val images: 5011\n"
     ]
    }
   ],
   "source": [
    "images_path = [\n",
    "    './71_data/Training/0_healthy',\n",
    "    './71_data/Training/3_YellowLeafCurlVirus',\n",
    "    './71_data/Training/4_LeafMold',\n",
    "    './73_data/Training/0_healthy',\n",
    "    './73_data/Training/5_LateBlight',\n",
    "    './104_data/Training/0_healthy',\n",
    "    './104_data/Training/1_PowderyMildew',\n",
    "    './104_data/Training/2_GrayMold',\n",
    "    './104_data/Validation/0_healthy',\n",
    "]\n",
    "\n",
    "# 클래스 이름들을 저장할 리스트 생성\n",
    "class_names_list = []\n",
    "\n",
    "# 이미지 경로를 저장할 딕셔너리 초기화\n",
    "class_to_images = {}\n",
    "\n",
    "for path in images_path:\n",
    "    class_name = path.split('_')[-1]\n",
    "    \n",
    "    # 이미지 로드\n",
    "    imgs = [os.path.join(path, fname) for fname in os.listdir(path) if fname.lower().endswith('.jpg')]\n",
    "    if not imgs:\n",
    "        print(f\"No images found in path: {path}\")\n",
    "    \n",
    "    # 클래스 이름 중복 확인 및 이미지 경로 추가\n",
    "    if class_name in class_names_list:\n",
    "        class_to_images[class_name].extend(imgs)\n",
    "    else:\n",
    "        class_names_list.append(class_name)\n",
    "        class_to_images[class_name] = imgs\n",
    "\n",
    "# 각 클래스별로 train과 val로 나누기\n",
    "train_data = []\n",
    "val_data = []\n",
    "\n",
    "for class_name, images in class_to_images.items():\n",
    "    labels = [class_name] * len(images)\n",
    "    train_imgs, val_imgs = train_test_split(images, test_size=0.12, stratify=labels, random_state=4885)\n",
    "    train_data.extend(train_imgs)\n",
    "    val_data.extend(val_imgs)\n",
    "\n",
    "print(f\"Total train images: {len(train_data)}\")\n",
    "print(f\"Total val images: {len(val_data)}\")"
   ]
  },
  {
   "cell_type": "code",
   "execution_count": 4,
   "id": "c6a7a655-c60c-48f3-b144-e5dfdacafb78",
   "metadata": {},
   "outputs": [],
   "source": [
    "# 데이터를 저장할 디렉토리 매핑\n",
    "dir_mapping = {\n",
    "    \"healthy\": {\n",
    "        \"train\": \"./TrainingDataSet/0_healthy/\",\n",
    "        \"val\": \"./ValidationDataSet/0_healthy/\",\n",
    "        \"test\": \"./TestDataSet/0_healthy/\"\n",
    "    },\n",
    "    \"PowderyMildew\": {\n",
    "        \"train\": \"./TrainingDataSet/1_PowderyMildew/\",\n",
    "        \"val\": \"./ValidationDataSet/1_PowderyMildew/\",\n",
    "        \"test\": \"./TestDataSet/1_PowderyMildew/\"\n",
    "    },\n",
    "    \"GrayMold\": {\n",
    "        \"train\": \"./TrainingDataSet/2_GrayMold/\",\n",
    "        \"val\": \"./ValidationDataSet/2_GrayMold/\",\n",
    "        \"test\": \"./TestDataSet/2_GrayMold/\"\n",
    "    },\n",
    "    \"YellowLeafCurlVirus\": {\n",
    "        \"train\": \"./TrainingDataSet/3_YellowLeafCurlVirus/\",\n",
    "        \"val\": \"./ValidationDataSet/3_YellowLeafCurlVirus/\",\n",
    "        \"test\": \"./TestDataSet/3_YellowLeafCurlVirus/\"\n",
    "    },\n",
    "    \"LeafMold\": {\n",
    "        \"train\": \"./TrainingDataSet/4_LeafMold/\",\n",
    "        \"val\": \"./ValidationDataSet/4_LeafMold/\",\n",
    "        \"test\": \"./TestDataSet/4_LeafMold/\"\n",
    "    },\n",
    "    \"LateBlight\": {\n",
    "        \"train\": \"./TrainingDataSet/5_LateBlight/\",\n",
    "        \"val\": \"./ValidationDataSet/5_LateBlight/\",\n",
    "        \"test\": \"./TestDataSet/5_LateBlight/\"\n",
    "    }\n",
    "}\n",
    "\n",
    "# 데이터를 적절한 디렉토리로 복사\n",
    "def copy_files(data, data_type):\n",
    "    for image_path in data:\n",
    "        # 이미지 경로에서 클래스 이름과 디렉토리 경로 추출\n",
    "        directory, file_name = os.path.split(image_path)\n",
    "        class_name = directory.split('/')[-1].split('_')[-1]\n",
    "        destination = dir_mapping[class_name][data_type]\n",
    "        \n",
    "        # 디렉토리가 존재하지 않으면 생성\n",
    "        if not os.path.exists(destination):\n",
    "            os.makedirs(destination)\n",
    "        \n",
    "        # 이미지를 목적지 디렉토리로 복사\n",
    "        shutil.copy(image_path, os.path.join(destination, file_name))\n",
    "        \n",
    "        # 동일한 이름의 .txt 파일이 있는지 확인 후 복사\n",
    "        txt_file_name = os.path.splitext(file_name)[0] + '.txt'\n",
    "        txt_file_path = os.path.join(directory, txt_file_name)\n",
    "        \n",
    "        if os.path.exists(txt_file_path):\n",
    "            shutil.copy(txt_file_path, os.path.join(destination, txt_file_name))\n",
    "\n",
    "# train_data 및 val_data 복사\n",
    "copy_files(train_data, \"train\")\n",
    "copy_files(val_data, \"val\")"
   ]
  },
  {
   "cell_type": "code",
   "execution_count": 10,
   "id": "971b397e-0f64-4493-8172-126686002c0f",
   "metadata": {},
   "outputs": [
    {
     "name": "stdout",
     "output_type": "stream",
     "text": [
      "./ValidationDataSet/0_healthy/: 2235 images, 2235 text files\n",
      "./ValidationDataSet/1_PowderyMildew/: 1412 images, 1412 text files\n",
      "./ValidationDataSet/2_GrayMold/: 1101 images, 1101 text files\n",
      "./ValidationDataSet/3_YellowLeafCurlVirus/: 135 images, 135 text files\n",
      "./ValidationDataSet/4_LeafMold/: 102 images, 102 text files\n",
      "./ValidationDataSet/5_LateBlight/: 26 images, 26 text files\n",
      "./TrainingDataSet/0_healthy/: 16386 images, 16386 text files\n",
      "./TrainingDataSet/1_PowderyMildew/: 10351 images, 10351 text files\n",
      "./TrainingDataSet/2_GrayMold/: 8071 images, 8071 text files\n",
      "./TrainingDataSet/3_YellowLeafCurlVirus/: 985 images, 985 text files\n",
      "./TrainingDataSet/4_LeafMold/: 745 images, 745 text files\n",
      "./TrainingDataSet/5_LateBlight/: 190 images, 190 text files\n"
     ]
    }
   ],
   "source": [
    "# 주어진 폴더 경로 목록\n",
    "folders = [\n",
    "    \"./ValidationDataSet/0_healthy/\",\n",
    "    \"./ValidationDataSet/1_PowderyMildew/\",\n",
    "    \"./ValidationDataSet/2_GrayMold/\",\n",
    "    \"./ValidationDataSet/3_YellowLeafCurlVirus/\",\n",
    "    \"./ValidationDataSet/4_LeafMold/\",\n",
    "    \"./ValidationDataSet/5_LateBlight/\",\n",
    "    \"./TrainingDataSet/0_healthy/\",\n",
    "    \"./TrainingDataSet/1_PowderyMildew/\",\n",
    "    \"./TrainingDataSet/2_GrayMold/\",\n",
    "    \"./TrainingDataSet/3_YellowLeafCurlVirus/\",\n",
    "    \"./TrainingDataSet/4_LeafMold/\",\n",
    "    \"./TrainingDataSet/5_LateBlight/\"\n",
    "]\n",
    "\n",
    "# 각 폴더에서 이미지 파일과 텍스트 파일 개수 파악\n",
    "for folder in folders:\n",
    "    if os.path.exists(folder):\n",
    "        images = [f for f in os.listdir(folder) if f.lower().endswith(('.jpg','.jpeg', '.png'))]\n",
    "        texts = [f for f in os.listdir(folder) if f.lower().endswith('.txt')]\n",
    "        print(f\"{folder}: {len(images)} images, {len(texts)} text files\")\n",
    "    else:\n",
    "        print(f\"{folder} does not exist!!\")"
   ]
  },
  {
   "cell_type": "code",
   "execution_count": 11,
   "id": "ebf6ba05-9b39-4e77-8a78-b7bc0cf33cc1",
   "metadata": {},
   "outputs": [
    {
     "name": "stdout",
     "output_type": "stream",
     "text": [
      "Total images in ValidationDataSet: 5011\n",
      "Total text files in ValidationDataSet: 5011\n",
      "Total images in TrainingDataSet: 36728\n",
      "Total text files in TrainingDataSet: 36728\n",
      "Total images combined: 41739\n",
      "Total text files combined: 41739\n"
     ]
    }
   ],
   "source": [
    "validation_image_count = 0\n",
    "training_image_count = 0\n",
    "validation_text_count = 0\n",
    "training_text_count = 0\n",
    "\n",
    "# 각 폴더에서 이미지 파일과 텍스트 파일 개수 파악\n",
    "for folder in folders:\n",
    "    if os.path.exists(folder):\n",
    "        images = [f for f in os.listdir(folder) if f.lower().endswith('.jpg')]\n",
    "        texts = [f for f in os.listdir(folder) if f.lower().endswith('.txt')]\n",
    "        \n",
    "        if \"ValidationDataSet\" in folder:\n",
    "            validation_image_count += len(images)\n",
    "            validation_text_count += len(texts)\n",
    "        elif \"TrainingDataSet\" in folder:\n",
    "            training_image_count += len(images)\n",
    "            training_text_count += len(texts)\n",
    "    else:\n",
    "        print(f\"{folder} does not exist!\")\n",
    "\n",
    "print(f\"Total images in ValidationDataSet: {validation_image_count}\")\n",
    "print(f\"Total text files in ValidationDataSet: {validation_text_count}\")\n",
    "print(f\"Total images in TrainingDataSet: {training_image_count}\")\n",
    "print(f\"Total text files in TrainingDataSet: {training_text_count}\")\n",
    "print(f\"Total images combined: {validation_image_count + training_image_count}\")\n",
    "print(f\"Total text files combined: {validation_text_count + training_text_count}\")"
   ]
  },
  {
   "cell_type": "markdown",
   "id": "c5950093-6acd-4a41-a227-b7bb469cc5ad",
   "metadata": {},
   "source": [
    "# Test Split"
   ]
  },
  {
   "cell_type": "code",
   "execution_count": null,
   "id": "c4b0fb9b-26a1-4dc1-a37d-bd5ec753deec",
   "metadata": {},
   "outputs": [],
   "source": [
    "cd /workspace/mnt2/data/tomato_except3/origin/TestDataSet"
   ]
  },
  {
   "cell_type": "code",
   "execution_count": null,
   "id": "a38f5a58-f8d0-4f48-9983-f42df2476f1b",
   "metadata": {},
   "outputs": [],
   "source": [
    "images_path = [\n",
    "    './71_data/Validation/0_healthy',\n",
    "    './71_data/Validation/3_YellowLeafCurlVirus',\n",
    "    './71_data/Validation/4_LeafMold',\n",
    "    './73_data/Validation/0_healthy',\n",
    "    './73_data/Validation/5_LateBlight',\n",
    "    './104_data/Validation/1_PowderyMildew',\n",
    "    './104_data/Validation/2_GrayMold',\n",
    "]\n",
    "\n",
    "# 클래스 이름들을 저장할 리스트 생성\n",
    "class_names_list = []\n",
    "\n",
    "# 이미지 경로를 저장할 딕셔너리 초기화\n",
    "class_to_images = {}\n",
    "\n",
    "for path in images_path:\n",
    "    class_name = path.split('_')[-1]\n",
    "    \n",
    "    # 이미지 로드\n",
    "    imgs = [os.path.join(path, fname) for fname in os.listdir(path) if fname.lower().endswith('.jpg')]\n",
    "    if not imgs:\n",
    "        print(f\"No images found in path: {path}\")\n",
    "    \n",
    "    # 클래스 이름 중복 확인 및 이미지 경로 추가\n",
    "    if class_name in class_names_list:\n",
    "        class_to_images[class_name].extend(imgs)\n",
    "    else:\n",
    "        class_names_list.append(class_name)\n",
    "        class_to_images[class_name] = imgs\n",
    "\n",
    "# 각 클래스별로 test로 나누기\n",
    "test_data = []\n",
    "\n",
    "for class_name, images in class_to_images.items():\n",
    "    test_data.extend(images)\n",
    "\n",
    "print(f\"Total test images: {len(test_data)}\")"
   ]
  },
  {
   "cell_type": "code",
   "execution_count": null,
   "id": "47d3475d-76f0-4d43-89ab-06ec5b393ea7",
   "metadata": {},
   "outputs": [],
   "source": [
    "# test_data\n",
    "copy_files(test_data, \"test\")"
   ]
  },
  {
   "cell_type": "code",
   "execution_count": null,
   "id": "d63f8d7c-b9c6-4d8b-9800-aadefbf012e1",
   "metadata": {},
   "outputs": [],
   "source": [
    "# 주어진 폴더 경로 목록\n",
    "folders = [\n",
    "    './TestDataSet/0_healthy',\n",
    "    './TestDataSet/1_PowderyMildew',\n",
    "    './TestDataSet/2_GrayMold',\n",
    "    './TestDataSet/3_YellowLeafCurlVirus',\n",
    "    './TestDataSet/4_LeafMold',\n",
    "    './TestDataSet/5_LateBlight'\n",
    "]\n",
    "\n",
    "# 각 폴더에서 이미지 파일과 텍스트 파일 개수 파악\n",
    "for folder in folders:\n",
    "    if os.path.exists(folder):\n",
    "        images = [f for f in os.listdir(folder) if f.lower().endswith('.jpg')]\n",
    "        texts = [f for f in os.listdir(folder) if f.lower().endswith('.txt')]\n",
    "        print(f\"{folder}: {len(images)} images, {len(texts)} text files\")\n",
    "    else:\n",
    "        print(f\"{folder} does not exist!!\")"
   ]
  },
  {
   "cell_type": "code",
   "execution_count": null,
   "id": "e2585637-22ed-48c2-8878-6e7eb4538b49",
   "metadata": {},
   "outputs": [],
   "source": [
    "test_image_count = 0\n",
    "test_text_count = 0\n",
    "\n",
    "# 각 폴더에서 이미지 파일과 텍스트 파일 개수 파악\n",
    "for folder in folders:\n",
    "    if os.path.exists(folder):\n",
    "        images = [f for f in os.listdir(folder) if f.lower().endswith('.jpg')]\n",
    "        texts = [f for f in os.listdir(folder) if f.lower().endswith('.txt')]\n",
    "        test_image_count += len(images)\n",
    "        test_text_count += len(texts)\n",
    "\n",
    "print(f\"Total test images combined: {test_image_count}\")\n",
    "print(f\"Total test text files combined: {test_text_count}\")\n"
   ]
  }
 ],
 "metadata": {
  "kernelspec": {
   "display_name": "Python 3 (ipykernel)",
   "language": "python",
   "name": "python3"
  },
  "language_info": {
   "codemirror_mode": {
    "name": "ipython",
    "version": 3
   },
   "file_extension": ".py",
   "mimetype": "text/x-python",
   "name": "python",
   "nbconvert_exporter": "python",
   "pygments_lexer": "ipython3",
   "version": "3.11.6"
  }
 },
 "nbformat": 4,
 "nbformat_minor": 5
}
