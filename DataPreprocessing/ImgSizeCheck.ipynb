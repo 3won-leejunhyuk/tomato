{
 "cells": [
  {
   "cell_type": "code",
   "execution_count": null,
   "id": "092102fb-9799-421e-8843-3b183a950bc9",
   "metadata": {},
   "outputs": [],
   "source": [
    "import os\n",
    "import csv\n",
    "from PIL import Image\n",
    "\n",
    "# Define base directories and subdirectories\n",
    "base_directories = {\n",
    "    'TrainingDataSet': '/workspace/tomato/crop/origin/6/TrainingDataSet/',\n",
    "    'ValidationDataSet': '/workspace/tomato/crop/origin/6/ValidationDataSet/',\n",
    "}\n",
    "# Path for the CSV file\n",
    "csv_file_path = '/workspace/tomato/crop/origin/6/total_img_size_origin.csv'\n",
    "\n",
    "subdirectories = ['0_healthy', '1_PowderyMildew', '2_GrayMold', '3_YellowLeafCurlVirus', '4_LeafMold', '5_LateBlight']\n",
    "\n",
    "# Prepare to collect image data\n",
    "image_data = []\n",
    "\n",
    "# Iterate over the base directories and subdirectories\n",
    "for base_dir_name, base_dir_path in base_directories.items():\n",
    "    for sub_dir in subdirectories:\n",
    "        sub_dir_path = os.path.join(base_dir_path, sub_dir)\n",
    "        # Check if subdirectory exists to avoid errors\n",
    "        if os.path.exists(sub_dir_path):\n",
    "            for image_file in os.listdir(sub_dir_path):\n",
    "                image_path = os.path.join(sub_dir_path, image_file)\n",
    "                # Open the image to get its size\n",
    "                with Image.open(image_path) as img:\n",
    "                    width, height = img.size\n",
    "                    # Append the data to the list\n",
    "                    image_data.append([base_dir_name, sub_dir, image_file, width, height])\n",
    "\n",
    "# Write the collected data to a CSV file\n",
    "with open(csv_file_path, mode='w', newline='') as file:\n",
    "    writer = csv.writer(file)\n",
    "    # Write the header\n",
    "    writer.writerow(['BaseDirectory', 'SubDirectory', 'FileName', 'Width', 'Height'])\n",
    "    # Write the image data\n",
    "    writer.writerows(image_data)"
   ]
  }
 ],
 "metadata": {
  "kernelspec": {
   "display_name": "Python 3 (ipykernel)",
   "language": "python",
   "name": "python3"
  },
  "language_info": {
   "codemirror_mode": {
    "name": "ipython",
    "version": 3
   },
   "file_extension": ".py",
   "mimetype": "text/x-python",
   "name": "python",
   "nbconvert_exporter": "python",
   "pygments_lexer": "ipython3",
   "version": "3.11.6"
  }
 },
 "nbformat": 4,
 "nbformat_minor": 5
}
