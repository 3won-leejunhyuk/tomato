{
 "cells": [
  {
   "cell_type": "code",
   "execution_count": 1,
   "id": "3220216c-d12c-4407-8c94-c1f7f0a03474",
   "metadata": {},
   "outputs": [
    {
     "name": "stdout",
     "output_type": "stream",
     "text": [
      "/workspace/mnt2/data/tomato_except3/crop/0\n"
     ]
    },
    {
     "name": "stderr",
     "output_type": "stream",
     "text": [
      "/usr/local/lib/python3.11/dist-packages/IPython/core/magics/osm.py:417: UserWarning: using dhist requires you to install the `pickleshare` library.\n",
      "  self.shell.db['dhist'] = compress_dhist(dhist)[-100:]\n"
     ]
    }
   ],
   "source": [
    "cd /workspace/mnt2/data/tomato_except3/crop/0/"
   ]
  },
  {
   "cell_type": "code",
   "execution_count": 2,
   "id": "e13b949a-5039-4924-bae9-719cb70dc028",
   "metadata": {},
   "outputs": [
    {
     "name": "stderr",
     "output_type": "stream",
     "text": [
      "/usr/local/lib/python3.11/dist-packages/tqdm/auto.py:21: TqdmWarning: IProgress not found. Please update jupyter and ipywidgets. See https://ipywidgets.readthedocs.io/en/stable/user_install.html\n",
      "  from .autonotebook import tqdm as notebook_tqdm\n"
     ]
    }
   ],
   "source": [
    "import os\n",
    "import gc\n",
    "import random\n",
    "import numpy as np\n",
    "import pandas as pd\n",
    "import torch\n",
    "import torch.nn.functional as F\n",
    "from collections import Counter\n",
    "from time import time\n",
    "from tqdm.auto import tqdm\n",
    "from PIL import Image\n",
    "from sklearn.metrics import recall_score, f1_score, roc_auc_score, roc_curve\n",
    "from sklearn.model_selection import ParameterGrid\n",
    "from torchvision import transforms\n",
    "from torch.utils.data import DataLoader, Dataset\n",
    "from torch import optim, nn\n",
    "from efficientnet_pytorch import EfficientNet"
   ]
  },
  {
   "cell_type": "code",
   "execution_count": 3,
   "id": "90ea81c1-9494-4146-bdb8-2eefc9736f2b",
   "metadata": {},
   "outputs": [],
   "source": [
    "# 데이터 전처리 설정\n",
    "transform = transforms.Compose([\n",
    "    transforms.Resize((224, 224)),\n",
    "    transforms.ToTensor(),\n",
    "    transforms.Normalize(mean=[0.485, 0.456, 0.406], std=[0.229, 0.224, 0.225]),\n",
    "])"
   ]
  },
  {
   "cell_type": "code",
   "execution_count": 4,
   "id": "ac5e0f6a-e6b5-4684-b267-8ada7b29b919",
   "metadata": {},
   "outputs": [
    {
     "name": "stdout",
     "output_type": "stream",
     "text": [
      "/workspace/mnt2/data/tomato_except3/crop/0\n"
     ]
    }
   ],
   "source": [
    "# 하이퍼파라미터 그리드 설정\n",
    "param_grid = {\n",
    "    'batch_size': [32, 64, 128],\n",
    "    'learning_rate': [1e-3, 1e-4, 1e-5],\n",
    "    'optimizer': ['Adam', 'AdamW'],\n",
    "    'alpha': [0.25],  # FocalLoss alpha\n",
    "    'gamma': [2.0],     # FocalLoss gamma\n",
    "}\n",
    "#모델 저장 위치\n",
    "save_directory = os.getcwd()\n",
    "print(save_directory)"
   ]
  },
  {
   "cell_type": "code",
   "execution_count": 5,
   "id": "d5e41015-2aa4-4aa7-9533-ee08f433b3de",
   "metadata": {},
   "outputs": [],
   "source": [
    "def seed_everything(seed):\n",
    "    random.seed(seed)\n",
    "    os.environ['PYTHONHASHSEED'] = str(seed)\n",
    "    np.random.seed(seed)\n",
    "    torch.manual_seed(seed)\n",
    "    torch.cuda.manual_seed(seed)\n",
    "    torch.backends.cudnn.deterministic = True\n",
    "    torch.backends.cudnn.benchmark = True\n",
    "    \n",
    "seed_everything(4885) # Seed 고정"
   ]
  },
  {
   "cell_type": "code",
   "execution_count": 6,
   "id": "43f4f61d-f316-4987-b7b8-c2f61a582908",
   "metadata": {},
   "outputs": [],
   "source": [
    "# 사용자 정의 데이터셋 클래스\n",
    "class CustomImageDataset(Dataset):\n",
    "    def __init__(self, root_dir, transform=None):\n",
    "        self.root_dir = root_dir\n",
    "        self.transform = transform\n",
    "        self.classes = ['healthy', 'PowderyMildew', 'GrayMold', 'YellowLeafCurlVirus', 'LeafMold', 'LateBlight']\n",
    "        self.img_paths = []\n",
    "        valid_extensions = ('.jpg', '.jpeg', '.png')\n",
    "        for dirpath, dirnames, filenames in os.walk(root_dir):\n",
    "            for filename in filenames:\n",
    "                if filename.lower().endswith(valid_extensions):\n",
    "                    self.img_paths.append(os.path.join(dirpath, filename))\n",
    "\n",
    "    def __len__(self):\n",
    "        return len(self.img_paths)\n",
    "\n",
    "    def __getitem__(self, idx):\n",
    "        img_path = self.img_paths[idx]\n",
    "        image = Image.open(img_path).convert('RGB')\n",
    "        if self.transform:\n",
    "            image = self.transform(image)\n",
    "        label = self.get_label(img_path)\n",
    "        return image, label\n",
    "\n",
    "    def get_label(self, img_path):\n",
    "        if '0_healthy' in img_path:\n",
    "            return self.classes.index('healthy')\n",
    "        elif '1_PowderyMildew' in img_path:\n",
    "            return self.classes.index('PowderyMildew')\n",
    "        elif '2_GrayMold' in img_path:\n",
    "            return self.classes.index('GrayMold')\n",
    "        elif '3_YellowLeafCurlVirus' in img_path:\n",
    "            return self.classes.index('YellowLeafCurlVirus')        \n",
    "        elif '4_LeafMold' in img_path:\n",
    "            return self.classes.index('LeafMold')\n",
    "        elif '5_LateBlight' in img_path:\n",
    "            return self.classes.index('LateBlight')  "
   ]
  },
  {
   "cell_type": "code",
   "execution_count": 7,
   "id": "bf37a68a-3a8b-4381-a916-2a52555b324e",
   "metadata": {},
   "outputs": [],
   "source": [
    "# 학습 및 검증 데이터 로딩\n",
    "train_dirs = [\"./TrainingDataSet/0_healthy/\",\n",
    "                \"./TrainingDataSet/1_PowderyMildew/\",\n",
    "                \"./TrainingDataSet/2_GrayMold/\",\n",
    "                \"./TrainingDataSet/3_YellowLeafCurlVirus/\",\n",
    "                \"./TrainingDataSet/4_LeafMold/\",\n",
    "                \"./TrainingDataSet/5_LateBlight/\"\n",
    "             ]\n",
    "val_dirs = [\"./ValidationDataSet/0_healthy/\",\n",
    "            \"./ValidationDataSet/1_PowderyMildew/\",\n",
    "            \"./ValidationDataSet/2_GrayMold/\",\n",
    "            \"./ValidationDataSet/3_YellowLeafCurlVirus/\",\n",
    "            \"./ValidationDataSet/4_LeafMold/\",\n",
    "            \"./ValidationDataSet/5_LateBlight/\",\n",
    "           ]\n",
    "\n",
    "train_datasets = [CustomImageDataset(train_dir, transform=transform) for train_dir in train_dirs]\n",
    "val_datasets = [CustomImageDataset(val_dir, transform=transform) for val_dir in val_dirs]\n",
    "\n",
    "train_dataset = torch.utils.data.ConcatDataset(train_datasets)\n",
    "val_dataset = torch.utils.data.ConcatDataset(val_datasets)"
   ]
  },
  {
   "cell_type": "code",
   "execution_count": 8,
   "id": "052b4728-f9d7-4b66-aa92-6ccfe26b4601",
   "metadata": {},
   "outputs": [
    {
     "name": "stdout",
     "output_type": "stream",
     "text": [
      "healthy: 16386개\n",
      "PowderyMildew: 10351개\n",
      "GrayMold: 8071개\n",
      "YellowLeafCurlVirus: 985개\n",
      "LeafMold: 745개\n",
      "LateBlight: 190개\n"
     ]
    }
   ],
   "source": [
    "# 학습데이터셋 count\n",
    "labels = []\n",
    "\n",
    "#\n",
    "for _, label in train_dataset:\n",
    "    class_name = train_dataset.datasets[0].classes[label]\n",
    "    labels.append(class_name)\n",
    "\n",
    "#\n",
    "label_counts = Counter(labels)\n",
    "\n",
    "# 결과를 출력\n",
    "for disease, count in label_counts.items():\n",
    "    print(f\"{disease}: {count}개\")"
   ]
  },
  {
   "cell_type": "code",
   "execution_count": 9,
   "id": "953d289d-58d0-42d9-823b-114b401e236d",
   "metadata": {},
   "outputs": [
    {
     "name": "stdout",
     "output_type": "stream",
     "text": [
      "healthy: 2235개\n",
      "PowderyMildew: 1412개\n",
      "GrayMold: 1101개\n",
      "YellowLeafCurlVirus: 135개\n",
      "LeafMold: 102개\n",
      "LateBlight: 26개\n"
     ]
    }
   ],
   "source": [
    "# 검증데이터셋 count\n",
    "labels = []\n",
    "\n",
    "#\n",
    "for _, label in val_dataset:\n",
    "    class_name = val_dataset.datasets[0].classes[label]\n",
    "    labels.append(class_name)\n",
    "\n",
    "#\n",
    "label_counts = Counter(labels)\n",
    "\n",
    "# 결과를 출력\n",
    "for disease, count in label_counts.items():\n",
    "    print(f\"{disease}: {count}개\")"
   ]
  },
  {
   "cell_type": "code",
   "execution_count": 10,
   "id": "5a712cb7-2c51-48a6-af9c-31ac50ab75c3",
   "metadata": {},
   "outputs": [],
   "source": [
    "class FocalLoss(nn.Module):\n",
    "    def __init__(self, alpha=1., gamma=2.):\n",
    "        super(FocalLoss, self).__init__()\n",
    "        self.alpha = alpha\n",
    "        self.gamma = gamma\n",
    "\n",
    "    def forward(self, inputs, targets):\n",
    "        CE_loss = nn.CrossEntropyLoss(reduction='none')(inputs, targets)\n",
    "        pt = torch.exp(-CE_loss)\n",
    "        F_loss = self.alpha * (1-pt)**self.gamma * CE_loss\n",
    "        return F_loss.mean()"
   ]
  },
  {
   "cell_type": "code",
   "execution_count": 11,
   "id": "c23e7758-b5e8-4a0e-a508-eac3aa6f3c51",
   "metadata": {},
   "outputs": [],
   "source": [
    "def get_completed_configs(save_directory):\n",
    "    completed_configs = []\n",
    "    for filename in os.listdir(save_directory):\n",
    "        if filename.startswith(\"best_\"):\n",
    "            # 파일명에서 \"best_\" 제거 및 \".pth\" 제거\n",
    "            parts = filename.replace(\"best_\", \"\").replace(\".pth\", \"\").split(\"_\")\n",
    "            config = {}\n",
    "            for part in parts:\n",
    "                if 'lr' in part:\n",
    "                    key, value = part.split(\"lr\")\n",
    "                    config['learning_rate'] = float(value)\n",
    "                elif 'batch' in part:\n",
    "                    key, value = part.split(\"batch\")\n",
    "                    config['batch_size'] = int(value)\n",
    "                elif 'opt' in part:\n",
    "                    key, value = part.split(\"opt\")\n",
    "                    config['optimizer'] = value\n",
    "                elif 'alpha' in part:\n",
    "                    key, value = part.split(\"alpha\")\n",
    "                    config['alpha'] = float(value)\n",
    "                elif 'gamma' in part:\n",
    "                    key, value = part.split(\"gamma\")\n",
    "                    config['gamma'] = float(value)\n",
    "            completed_configs.append(config)\n",
    "    return completed_configs"
   ]
  },
  {
   "cell_type": "code",
   "execution_count": 12,
   "id": "6b7c1d22-5d9b-41f4-b72c-779d7e1014a9",
   "metadata": {},
   "outputs": [
    {
     "name": "stdout",
     "output_type": "stream",
     "text": [
      "Loaded pretrained weights for efficientnet-b0\n"
     ]
    }
   ],
   "source": [
    "model = EfficientNet.from_pretrained('efficientnet-b0', num_classes=6)  \n",
    "device = torch.device(\"cuda:0\" if torch.cuda.is_available() else \"cpu\")\n",
    "model = model.to(device)"
   ]
  },
  {
   "cell_type": "code",
   "execution_count": 13,
   "id": "fd86dff2-05e2-4dab-a410-412011ded483",
   "metadata": {},
   "outputs": [
    {
     "name": "stdout",
     "output_type": "stream",
     "text": [
      "_conv_stem.weight - requires_grad=True\n",
      "_bn0.weight - requires_grad=True\n",
      "_bn0.bias - requires_grad=True\n",
      "_blocks.0._depthwise_conv.weight - requires_grad=True\n",
      "_blocks.0._bn1.weight - requires_grad=True\n",
      "_blocks.0._bn1.bias - requires_grad=True\n",
      "_blocks.0._se_reduce.weight - requires_grad=True\n",
      "_blocks.0._se_reduce.bias - requires_grad=True\n",
      "_blocks.0._se_expand.weight - requires_grad=True\n",
      "_blocks.0._se_expand.bias - requires_grad=True\n",
      "_blocks.0._project_conv.weight - requires_grad=True\n",
      "_blocks.0._bn2.weight - requires_grad=True\n",
      "_blocks.0._bn2.bias - requires_grad=True\n",
      "_blocks.1._expand_conv.weight - requires_grad=True\n",
      "_blocks.1._bn0.weight - requires_grad=True\n",
      "_blocks.1._bn0.bias - requires_grad=True\n",
      "_blocks.1._depthwise_conv.weight - requires_grad=True\n",
      "_blocks.1._bn1.weight - requires_grad=True\n",
      "_blocks.1._bn1.bias - requires_grad=True\n",
      "_blocks.1._se_reduce.weight - requires_grad=True\n",
      "_blocks.1._se_reduce.bias - requires_grad=True\n",
      "_blocks.1._se_expand.weight - requires_grad=True\n",
      "_blocks.1._se_expand.bias - requires_grad=True\n",
      "_blocks.1._project_conv.weight - requires_grad=True\n",
      "_blocks.1._bn2.weight - requires_grad=True\n",
      "_blocks.1._bn2.bias - requires_grad=True\n",
      "_blocks.2._expand_conv.weight - requires_grad=True\n",
      "_blocks.2._bn0.weight - requires_grad=True\n",
      "_blocks.2._bn0.bias - requires_grad=True\n",
      "_blocks.2._depthwise_conv.weight - requires_grad=True\n",
      "_blocks.2._bn1.weight - requires_grad=True\n",
      "_blocks.2._bn1.bias - requires_grad=True\n",
      "_blocks.2._se_reduce.weight - requires_grad=True\n",
      "_blocks.2._se_reduce.bias - requires_grad=True\n",
      "_blocks.2._se_expand.weight - requires_grad=True\n",
      "_blocks.2._se_expand.bias - requires_grad=True\n",
      "_blocks.2._project_conv.weight - requires_grad=True\n",
      "_blocks.2._bn2.weight - requires_grad=True\n",
      "_blocks.2._bn2.bias - requires_grad=True\n",
      "_blocks.3._expand_conv.weight - requires_grad=True\n",
      "_blocks.3._bn0.weight - requires_grad=True\n",
      "_blocks.3._bn0.bias - requires_grad=True\n",
      "_blocks.3._depthwise_conv.weight - requires_grad=True\n",
      "_blocks.3._bn1.weight - requires_grad=True\n",
      "_blocks.3._bn1.bias - requires_grad=True\n",
      "_blocks.3._se_reduce.weight - requires_grad=True\n",
      "_blocks.3._se_reduce.bias - requires_grad=True\n",
      "_blocks.3._se_expand.weight - requires_grad=True\n",
      "_blocks.3._se_expand.bias - requires_grad=True\n",
      "_blocks.3._project_conv.weight - requires_grad=True\n",
      "_blocks.3._bn2.weight - requires_grad=True\n",
      "_blocks.3._bn2.bias - requires_grad=True\n",
      "_blocks.4._expand_conv.weight - requires_grad=True\n",
      "_blocks.4._bn0.weight - requires_grad=True\n",
      "_blocks.4._bn0.bias - requires_grad=True\n",
      "_blocks.4._depthwise_conv.weight - requires_grad=True\n",
      "_blocks.4._bn1.weight - requires_grad=True\n",
      "_blocks.4._bn1.bias - requires_grad=True\n",
      "_blocks.4._se_reduce.weight - requires_grad=True\n",
      "_blocks.4._se_reduce.bias - requires_grad=True\n",
      "_blocks.4._se_expand.weight - requires_grad=True\n",
      "_blocks.4._se_expand.bias - requires_grad=True\n",
      "_blocks.4._project_conv.weight - requires_grad=True\n",
      "_blocks.4._bn2.weight - requires_grad=True\n",
      "_blocks.4._bn2.bias - requires_grad=True\n",
      "_blocks.5._expand_conv.weight - requires_grad=True\n",
      "_blocks.5._bn0.weight - requires_grad=True\n",
      "_blocks.5._bn0.bias - requires_grad=True\n",
      "_blocks.5._depthwise_conv.weight - requires_grad=True\n",
      "_blocks.5._bn1.weight - requires_grad=True\n",
      "_blocks.5._bn1.bias - requires_grad=True\n",
      "_blocks.5._se_reduce.weight - requires_grad=True\n",
      "_blocks.5._se_reduce.bias - requires_grad=True\n",
      "_blocks.5._se_expand.weight - requires_grad=True\n",
      "_blocks.5._se_expand.bias - requires_grad=True\n",
      "_blocks.5._project_conv.weight - requires_grad=True\n",
      "_blocks.5._bn2.weight - requires_grad=True\n",
      "_blocks.5._bn2.bias - requires_grad=True\n",
      "_blocks.6._expand_conv.weight - requires_grad=True\n",
      "_blocks.6._bn0.weight - requires_grad=True\n",
      "_blocks.6._bn0.bias - requires_grad=True\n",
      "_blocks.6._depthwise_conv.weight - requires_grad=True\n",
      "_blocks.6._bn1.weight - requires_grad=True\n",
      "_blocks.6._bn1.bias - requires_grad=True\n",
      "_blocks.6._se_reduce.weight - requires_grad=True\n",
      "_blocks.6._se_reduce.bias - requires_grad=True\n",
      "_blocks.6._se_expand.weight - requires_grad=True\n",
      "_blocks.6._se_expand.bias - requires_grad=True\n",
      "_blocks.6._project_conv.weight - requires_grad=True\n",
      "_blocks.6._bn2.weight - requires_grad=True\n",
      "_blocks.6._bn2.bias - requires_grad=True\n",
      "_blocks.7._expand_conv.weight - requires_grad=True\n",
      "_blocks.7._bn0.weight - requires_grad=True\n",
      "_blocks.7._bn0.bias - requires_grad=True\n",
      "_blocks.7._depthwise_conv.weight - requires_grad=True\n",
      "_blocks.7._bn1.weight - requires_grad=True\n",
      "_blocks.7._bn1.bias - requires_grad=True\n",
      "_blocks.7._se_reduce.weight - requires_grad=True\n",
      "_blocks.7._se_reduce.bias - requires_grad=True\n",
      "_blocks.7._se_expand.weight - requires_grad=True\n",
      "_blocks.7._se_expand.bias - requires_grad=True\n",
      "_blocks.7._project_conv.weight - requires_grad=True\n",
      "_blocks.7._bn2.weight - requires_grad=True\n",
      "_blocks.7._bn2.bias - requires_grad=True\n",
      "_blocks.8._expand_conv.weight - requires_grad=True\n",
      "_blocks.8._bn0.weight - requires_grad=True\n",
      "_blocks.8._bn0.bias - requires_grad=True\n",
      "_blocks.8._depthwise_conv.weight - requires_grad=True\n",
      "_blocks.8._bn1.weight - requires_grad=True\n",
      "_blocks.8._bn1.bias - requires_grad=True\n",
      "_blocks.8._se_reduce.weight - requires_grad=True\n",
      "_blocks.8._se_reduce.bias - requires_grad=True\n",
      "_blocks.8._se_expand.weight - requires_grad=True\n",
      "_blocks.8._se_expand.bias - requires_grad=True\n",
      "_blocks.8._project_conv.weight - requires_grad=True\n",
      "_blocks.8._bn2.weight - requires_grad=True\n",
      "_blocks.8._bn2.bias - requires_grad=True\n",
      "_blocks.9._expand_conv.weight - requires_grad=True\n",
      "_blocks.9._bn0.weight - requires_grad=True\n",
      "_blocks.9._bn0.bias - requires_grad=True\n",
      "_blocks.9._depthwise_conv.weight - requires_grad=True\n",
      "_blocks.9._bn1.weight - requires_grad=True\n",
      "_blocks.9._bn1.bias - requires_grad=True\n",
      "_blocks.9._se_reduce.weight - requires_grad=True\n",
      "_blocks.9._se_reduce.bias - requires_grad=True\n",
      "_blocks.9._se_expand.weight - requires_grad=True\n",
      "_blocks.9._se_expand.bias - requires_grad=True\n",
      "_blocks.9._project_conv.weight - requires_grad=True\n",
      "_blocks.9._bn2.weight - requires_grad=True\n",
      "_blocks.9._bn2.bias - requires_grad=True\n",
      "_blocks.10._expand_conv.weight - requires_grad=True\n",
      "_blocks.10._bn0.weight - requires_grad=True\n",
      "_blocks.10._bn0.bias - requires_grad=True\n",
      "_blocks.10._depthwise_conv.weight - requires_grad=True\n",
      "_blocks.10._bn1.weight - requires_grad=True\n",
      "_blocks.10._bn1.bias - requires_grad=True\n",
      "_blocks.10._se_reduce.weight - requires_grad=True\n",
      "_blocks.10._se_reduce.bias - requires_grad=True\n",
      "_blocks.10._se_expand.weight - requires_grad=True\n",
      "_blocks.10._se_expand.bias - requires_grad=True\n",
      "_blocks.10._project_conv.weight - requires_grad=True\n",
      "_blocks.10._bn2.weight - requires_grad=True\n",
      "_blocks.10._bn2.bias - requires_grad=True\n",
      "_blocks.11._expand_conv.weight - requires_grad=True\n",
      "_blocks.11._bn0.weight - requires_grad=True\n",
      "_blocks.11._bn0.bias - requires_grad=True\n",
      "_blocks.11._depthwise_conv.weight - requires_grad=True\n",
      "_blocks.11._bn1.weight - requires_grad=True\n",
      "_blocks.11._bn1.bias - requires_grad=True\n",
      "_blocks.11._se_reduce.weight - requires_grad=True\n",
      "_blocks.11._se_reduce.bias - requires_grad=True\n",
      "_blocks.11._se_expand.weight - requires_grad=True\n",
      "_blocks.11._se_expand.bias - requires_grad=True\n",
      "_blocks.11._project_conv.weight - requires_grad=True\n",
      "_blocks.11._bn2.weight - requires_grad=True\n",
      "_blocks.11._bn2.bias - requires_grad=True\n",
      "_blocks.12._expand_conv.weight - requires_grad=True\n",
      "_blocks.12._bn0.weight - requires_grad=True\n",
      "_blocks.12._bn0.bias - requires_grad=True\n",
      "_blocks.12._depthwise_conv.weight - requires_grad=True\n",
      "_blocks.12._bn1.weight - requires_grad=True\n",
      "_blocks.12._bn1.bias - requires_grad=True\n",
      "_blocks.12._se_reduce.weight - requires_grad=True\n",
      "_blocks.12._se_reduce.bias - requires_grad=True\n",
      "_blocks.12._se_expand.weight - requires_grad=True\n",
      "_blocks.12._se_expand.bias - requires_grad=True\n",
      "_blocks.12._project_conv.weight - requires_grad=True\n",
      "_blocks.12._bn2.weight - requires_grad=True\n",
      "_blocks.12._bn2.bias - requires_grad=True\n",
      "_blocks.13._expand_conv.weight - requires_grad=True\n",
      "_blocks.13._bn0.weight - requires_grad=True\n",
      "_blocks.13._bn0.bias - requires_grad=True\n",
      "_blocks.13._depthwise_conv.weight - requires_grad=True\n",
      "_blocks.13._bn1.weight - requires_grad=True\n",
      "_blocks.13._bn1.bias - requires_grad=True\n",
      "_blocks.13._se_reduce.weight - requires_grad=True\n",
      "_blocks.13._se_reduce.bias - requires_grad=True\n",
      "_blocks.13._se_expand.weight - requires_grad=True\n",
      "_blocks.13._se_expand.bias - requires_grad=True\n",
      "_blocks.13._project_conv.weight - requires_grad=True\n",
      "_blocks.13._bn2.weight - requires_grad=True\n",
      "_blocks.13._bn2.bias - requires_grad=True\n",
      "_blocks.14._expand_conv.weight - requires_grad=True\n",
      "_blocks.14._bn0.weight - requires_grad=True\n",
      "_blocks.14._bn0.bias - requires_grad=True\n",
      "_blocks.14._depthwise_conv.weight - requires_grad=True\n",
      "_blocks.14._bn1.weight - requires_grad=True\n",
      "_blocks.14._bn1.bias - requires_grad=True\n",
      "_blocks.14._se_reduce.weight - requires_grad=True\n",
      "_blocks.14._se_reduce.bias - requires_grad=True\n",
      "_blocks.14._se_expand.weight - requires_grad=True\n",
      "_blocks.14._se_expand.bias - requires_grad=True\n",
      "_blocks.14._project_conv.weight - requires_grad=True\n",
      "_blocks.14._bn2.weight - requires_grad=True\n",
      "_blocks.14._bn2.bias - requires_grad=True\n",
      "_blocks.15._expand_conv.weight - requires_grad=True\n",
      "_blocks.15._bn0.weight - requires_grad=True\n",
      "_blocks.15._bn0.bias - requires_grad=True\n",
      "_blocks.15._depthwise_conv.weight - requires_grad=True\n",
      "_blocks.15._bn1.weight - requires_grad=True\n",
      "_blocks.15._bn1.bias - requires_grad=True\n",
      "_blocks.15._se_reduce.weight - requires_grad=True\n",
      "_blocks.15._se_reduce.bias - requires_grad=True\n",
      "_blocks.15._se_expand.weight - requires_grad=True\n",
      "_blocks.15._se_expand.bias - requires_grad=True\n",
      "_blocks.15._project_conv.weight - requires_grad=True\n",
      "_blocks.15._bn2.weight - requires_grad=True\n",
      "_blocks.15._bn2.bias - requires_grad=True\n",
      "_conv_head.weight - requires_grad=True\n",
      "_bn1.weight - requires_grad=True\n",
      "_bn1.bias - requires_grad=True\n",
      "_fc.weight - requires_grad=True\n",
      "_fc.bias - requires_grad=True\n"
     ]
    }
   ],
   "source": [
    "for name, param in model.named_parameters():\n",
    "    print(f\"{name} - requires_grad={param.requires_grad}\")"
   ]
  },
  {
   "cell_type": "code",
   "execution_count": 14,
   "id": "1beab317-2ed4-4d92-85ba-77bcd11372ab",
   "metadata": {},
   "outputs": [
    {
     "data": {
      "text/plain": [
       "EfficientNet(\n",
       "  (_conv_stem): Conv2dStaticSamePadding(\n",
       "    3, 32, kernel_size=(3, 3), stride=(2, 2), bias=False\n",
       "    (static_padding): ZeroPad2d((0, 1, 0, 1))\n",
       "  )\n",
       "  (_bn0): BatchNorm2d(32, eps=0.001, momentum=0.010000000000000009, affine=True, track_running_stats=True)\n",
       "  (_blocks): ModuleList(\n",
       "    (0): MBConvBlock(\n",
       "      (_depthwise_conv): Conv2dStaticSamePadding(\n",
       "        32, 32, kernel_size=(3, 3), stride=[1, 1], groups=32, bias=False\n",
       "        (static_padding): ZeroPad2d((1, 1, 1, 1))\n",
       "      )\n",
       "      (_bn1): BatchNorm2d(32, eps=0.001, momentum=0.010000000000000009, affine=True, track_running_stats=True)\n",
       "      (_se_reduce): Conv2dStaticSamePadding(\n",
       "        32, 8, kernel_size=(1, 1), stride=(1, 1)\n",
       "        (static_padding): Identity()\n",
       "      )\n",
       "      (_se_expand): Conv2dStaticSamePadding(\n",
       "        8, 32, kernel_size=(1, 1), stride=(1, 1)\n",
       "        (static_padding): Identity()\n",
       "      )\n",
       "      (_project_conv): Conv2dStaticSamePadding(\n",
       "        32, 16, kernel_size=(1, 1), stride=(1, 1), bias=False\n",
       "        (static_padding): Identity()\n",
       "      )\n",
       "      (_bn2): BatchNorm2d(16, eps=0.001, momentum=0.010000000000000009, affine=True, track_running_stats=True)\n",
       "      (_swish): MemoryEfficientSwish()\n",
       "    )\n",
       "    (1): MBConvBlock(\n",
       "      (_expand_conv): Conv2dStaticSamePadding(\n",
       "        16, 96, kernel_size=(1, 1), stride=(1, 1), bias=False\n",
       "        (static_padding): Identity()\n",
       "      )\n",
       "      (_bn0): BatchNorm2d(96, eps=0.001, momentum=0.010000000000000009, affine=True, track_running_stats=True)\n",
       "      (_depthwise_conv): Conv2dStaticSamePadding(\n",
       "        96, 96, kernel_size=(3, 3), stride=[2, 2], groups=96, bias=False\n",
       "        (static_padding): ZeroPad2d((0, 1, 0, 1))\n",
       "      )\n",
       "      (_bn1): BatchNorm2d(96, eps=0.001, momentum=0.010000000000000009, affine=True, track_running_stats=True)\n",
       "      (_se_reduce): Conv2dStaticSamePadding(\n",
       "        96, 4, kernel_size=(1, 1), stride=(1, 1)\n",
       "        (static_padding): Identity()\n",
       "      )\n",
       "      (_se_expand): Conv2dStaticSamePadding(\n",
       "        4, 96, kernel_size=(1, 1), stride=(1, 1)\n",
       "        (static_padding): Identity()\n",
       "      )\n",
       "      (_project_conv): Conv2dStaticSamePadding(\n",
       "        96, 24, kernel_size=(1, 1), stride=(1, 1), bias=False\n",
       "        (static_padding): Identity()\n",
       "      )\n",
       "      (_bn2): BatchNorm2d(24, eps=0.001, momentum=0.010000000000000009, affine=True, track_running_stats=True)\n",
       "      (_swish): MemoryEfficientSwish()\n",
       "    )\n",
       "    (2): MBConvBlock(\n",
       "      (_expand_conv): Conv2dStaticSamePadding(\n",
       "        24, 144, kernel_size=(1, 1), stride=(1, 1), bias=False\n",
       "        (static_padding): Identity()\n",
       "      )\n",
       "      (_bn0): BatchNorm2d(144, eps=0.001, momentum=0.010000000000000009, affine=True, track_running_stats=True)\n",
       "      (_depthwise_conv): Conv2dStaticSamePadding(\n",
       "        144, 144, kernel_size=(3, 3), stride=(1, 1), groups=144, bias=False\n",
       "        (static_padding): ZeroPad2d((1, 1, 1, 1))\n",
       "      )\n",
       "      (_bn1): BatchNorm2d(144, eps=0.001, momentum=0.010000000000000009, affine=True, track_running_stats=True)\n",
       "      (_se_reduce): Conv2dStaticSamePadding(\n",
       "        144, 6, kernel_size=(1, 1), stride=(1, 1)\n",
       "        (static_padding): Identity()\n",
       "      )\n",
       "      (_se_expand): Conv2dStaticSamePadding(\n",
       "        6, 144, kernel_size=(1, 1), stride=(1, 1)\n",
       "        (static_padding): Identity()\n",
       "      )\n",
       "      (_project_conv): Conv2dStaticSamePadding(\n",
       "        144, 24, kernel_size=(1, 1), stride=(1, 1), bias=False\n",
       "        (static_padding): Identity()\n",
       "      )\n",
       "      (_bn2): BatchNorm2d(24, eps=0.001, momentum=0.010000000000000009, affine=True, track_running_stats=True)\n",
       "      (_swish): MemoryEfficientSwish()\n",
       "    )\n",
       "    (3): MBConvBlock(\n",
       "      (_expand_conv): Conv2dStaticSamePadding(\n",
       "        24, 144, kernel_size=(1, 1), stride=(1, 1), bias=False\n",
       "        (static_padding): Identity()\n",
       "      )\n",
       "      (_bn0): BatchNorm2d(144, eps=0.001, momentum=0.010000000000000009, affine=True, track_running_stats=True)\n",
       "      (_depthwise_conv): Conv2dStaticSamePadding(\n",
       "        144, 144, kernel_size=(5, 5), stride=[2, 2], groups=144, bias=False\n",
       "        (static_padding): ZeroPad2d((1, 2, 1, 2))\n",
       "      )\n",
       "      (_bn1): BatchNorm2d(144, eps=0.001, momentum=0.010000000000000009, affine=True, track_running_stats=True)\n",
       "      (_se_reduce): Conv2dStaticSamePadding(\n",
       "        144, 6, kernel_size=(1, 1), stride=(1, 1)\n",
       "        (static_padding): Identity()\n",
       "      )\n",
       "      (_se_expand): Conv2dStaticSamePadding(\n",
       "        6, 144, kernel_size=(1, 1), stride=(1, 1)\n",
       "        (static_padding): Identity()\n",
       "      )\n",
       "      (_project_conv): Conv2dStaticSamePadding(\n",
       "        144, 40, kernel_size=(1, 1), stride=(1, 1), bias=False\n",
       "        (static_padding): Identity()\n",
       "      )\n",
       "      (_bn2): BatchNorm2d(40, eps=0.001, momentum=0.010000000000000009, affine=True, track_running_stats=True)\n",
       "      (_swish): MemoryEfficientSwish()\n",
       "    )\n",
       "    (4): MBConvBlock(\n",
       "      (_expand_conv): Conv2dStaticSamePadding(\n",
       "        40, 240, kernel_size=(1, 1), stride=(1, 1), bias=False\n",
       "        (static_padding): Identity()\n",
       "      )\n",
       "      (_bn0): BatchNorm2d(240, eps=0.001, momentum=0.010000000000000009, affine=True, track_running_stats=True)\n",
       "      (_depthwise_conv): Conv2dStaticSamePadding(\n",
       "        240, 240, kernel_size=(5, 5), stride=(1, 1), groups=240, bias=False\n",
       "        (static_padding): ZeroPad2d((2, 2, 2, 2))\n",
       "      )\n",
       "      (_bn1): BatchNorm2d(240, eps=0.001, momentum=0.010000000000000009, affine=True, track_running_stats=True)\n",
       "      (_se_reduce): Conv2dStaticSamePadding(\n",
       "        240, 10, kernel_size=(1, 1), stride=(1, 1)\n",
       "        (static_padding): Identity()\n",
       "      )\n",
       "      (_se_expand): Conv2dStaticSamePadding(\n",
       "        10, 240, kernel_size=(1, 1), stride=(1, 1)\n",
       "        (static_padding): Identity()\n",
       "      )\n",
       "      (_project_conv): Conv2dStaticSamePadding(\n",
       "        240, 40, kernel_size=(1, 1), stride=(1, 1), bias=False\n",
       "        (static_padding): Identity()\n",
       "      )\n",
       "      (_bn2): BatchNorm2d(40, eps=0.001, momentum=0.010000000000000009, affine=True, track_running_stats=True)\n",
       "      (_swish): MemoryEfficientSwish()\n",
       "    )\n",
       "    (5): MBConvBlock(\n",
       "      (_expand_conv): Conv2dStaticSamePadding(\n",
       "        40, 240, kernel_size=(1, 1), stride=(1, 1), bias=False\n",
       "        (static_padding): Identity()\n",
       "      )\n",
       "      (_bn0): BatchNorm2d(240, eps=0.001, momentum=0.010000000000000009, affine=True, track_running_stats=True)\n",
       "      (_depthwise_conv): Conv2dStaticSamePadding(\n",
       "        240, 240, kernel_size=(3, 3), stride=[2, 2], groups=240, bias=False\n",
       "        (static_padding): ZeroPad2d((0, 1, 0, 1))\n",
       "      )\n",
       "      (_bn1): BatchNorm2d(240, eps=0.001, momentum=0.010000000000000009, affine=True, track_running_stats=True)\n",
       "      (_se_reduce): Conv2dStaticSamePadding(\n",
       "        240, 10, kernel_size=(1, 1), stride=(1, 1)\n",
       "        (static_padding): Identity()\n",
       "      )\n",
       "      (_se_expand): Conv2dStaticSamePadding(\n",
       "        10, 240, kernel_size=(1, 1), stride=(1, 1)\n",
       "        (static_padding): Identity()\n",
       "      )\n",
       "      (_project_conv): Conv2dStaticSamePadding(\n",
       "        240, 80, kernel_size=(1, 1), stride=(1, 1), bias=False\n",
       "        (static_padding): Identity()\n",
       "      )\n",
       "      (_bn2): BatchNorm2d(80, eps=0.001, momentum=0.010000000000000009, affine=True, track_running_stats=True)\n",
       "      (_swish): MemoryEfficientSwish()\n",
       "    )\n",
       "    (6-7): 2 x MBConvBlock(\n",
       "      (_expand_conv): Conv2dStaticSamePadding(\n",
       "        80, 480, kernel_size=(1, 1), stride=(1, 1), bias=False\n",
       "        (static_padding): Identity()\n",
       "      )\n",
       "      (_bn0): BatchNorm2d(480, eps=0.001, momentum=0.010000000000000009, affine=True, track_running_stats=True)\n",
       "      (_depthwise_conv): Conv2dStaticSamePadding(\n",
       "        480, 480, kernel_size=(3, 3), stride=(1, 1), groups=480, bias=False\n",
       "        (static_padding): ZeroPad2d((1, 1, 1, 1))\n",
       "      )\n",
       "      (_bn1): BatchNorm2d(480, eps=0.001, momentum=0.010000000000000009, affine=True, track_running_stats=True)\n",
       "      (_se_reduce): Conv2dStaticSamePadding(\n",
       "        480, 20, kernel_size=(1, 1), stride=(1, 1)\n",
       "        (static_padding): Identity()\n",
       "      )\n",
       "      (_se_expand): Conv2dStaticSamePadding(\n",
       "        20, 480, kernel_size=(1, 1), stride=(1, 1)\n",
       "        (static_padding): Identity()\n",
       "      )\n",
       "      (_project_conv): Conv2dStaticSamePadding(\n",
       "        480, 80, kernel_size=(1, 1), stride=(1, 1), bias=False\n",
       "        (static_padding): Identity()\n",
       "      )\n",
       "      (_bn2): BatchNorm2d(80, eps=0.001, momentum=0.010000000000000009, affine=True, track_running_stats=True)\n",
       "      (_swish): MemoryEfficientSwish()\n",
       "    )\n",
       "    (8): MBConvBlock(\n",
       "      (_expand_conv): Conv2dStaticSamePadding(\n",
       "        80, 480, kernel_size=(1, 1), stride=(1, 1), bias=False\n",
       "        (static_padding): Identity()\n",
       "      )\n",
       "      (_bn0): BatchNorm2d(480, eps=0.001, momentum=0.010000000000000009, affine=True, track_running_stats=True)\n",
       "      (_depthwise_conv): Conv2dStaticSamePadding(\n",
       "        480, 480, kernel_size=(5, 5), stride=[1, 1], groups=480, bias=False\n",
       "        (static_padding): ZeroPad2d((2, 2, 2, 2))\n",
       "      )\n",
       "      (_bn1): BatchNorm2d(480, eps=0.001, momentum=0.010000000000000009, affine=True, track_running_stats=True)\n",
       "      (_se_reduce): Conv2dStaticSamePadding(\n",
       "        480, 20, kernel_size=(1, 1), stride=(1, 1)\n",
       "        (static_padding): Identity()\n",
       "      )\n",
       "      (_se_expand): Conv2dStaticSamePadding(\n",
       "        20, 480, kernel_size=(1, 1), stride=(1, 1)\n",
       "        (static_padding): Identity()\n",
       "      )\n",
       "      (_project_conv): Conv2dStaticSamePadding(\n",
       "        480, 112, kernel_size=(1, 1), stride=(1, 1), bias=False\n",
       "        (static_padding): Identity()\n",
       "      )\n",
       "      (_bn2): BatchNorm2d(112, eps=0.001, momentum=0.010000000000000009, affine=True, track_running_stats=True)\n",
       "      (_swish): MemoryEfficientSwish()\n",
       "    )\n",
       "    (9-10): 2 x MBConvBlock(\n",
       "      (_expand_conv): Conv2dStaticSamePadding(\n",
       "        112, 672, kernel_size=(1, 1), stride=(1, 1), bias=False\n",
       "        (static_padding): Identity()\n",
       "      )\n",
       "      (_bn0): BatchNorm2d(672, eps=0.001, momentum=0.010000000000000009, affine=True, track_running_stats=True)\n",
       "      (_depthwise_conv): Conv2dStaticSamePadding(\n",
       "        672, 672, kernel_size=(5, 5), stride=(1, 1), groups=672, bias=False\n",
       "        (static_padding): ZeroPad2d((2, 2, 2, 2))\n",
       "      )\n",
       "      (_bn1): BatchNorm2d(672, eps=0.001, momentum=0.010000000000000009, affine=True, track_running_stats=True)\n",
       "      (_se_reduce): Conv2dStaticSamePadding(\n",
       "        672, 28, kernel_size=(1, 1), stride=(1, 1)\n",
       "        (static_padding): Identity()\n",
       "      )\n",
       "      (_se_expand): Conv2dStaticSamePadding(\n",
       "        28, 672, kernel_size=(1, 1), stride=(1, 1)\n",
       "        (static_padding): Identity()\n",
       "      )\n",
       "      (_project_conv): Conv2dStaticSamePadding(\n",
       "        672, 112, kernel_size=(1, 1), stride=(1, 1), bias=False\n",
       "        (static_padding): Identity()\n",
       "      )\n",
       "      (_bn2): BatchNorm2d(112, eps=0.001, momentum=0.010000000000000009, affine=True, track_running_stats=True)\n",
       "      (_swish): MemoryEfficientSwish()\n",
       "    )\n",
       "    (11): MBConvBlock(\n",
       "      (_expand_conv): Conv2dStaticSamePadding(\n",
       "        112, 672, kernel_size=(1, 1), stride=(1, 1), bias=False\n",
       "        (static_padding): Identity()\n",
       "      )\n",
       "      (_bn0): BatchNorm2d(672, eps=0.001, momentum=0.010000000000000009, affine=True, track_running_stats=True)\n",
       "      (_depthwise_conv): Conv2dStaticSamePadding(\n",
       "        672, 672, kernel_size=(5, 5), stride=[2, 2], groups=672, bias=False\n",
       "        (static_padding): ZeroPad2d((1, 2, 1, 2))\n",
       "      )\n",
       "      (_bn1): BatchNorm2d(672, eps=0.001, momentum=0.010000000000000009, affine=True, track_running_stats=True)\n",
       "      (_se_reduce): Conv2dStaticSamePadding(\n",
       "        672, 28, kernel_size=(1, 1), stride=(1, 1)\n",
       "        (static_padding): Identity()\n",
       "      )\n",
       "      (_se_expand): Conv2dStaticSamePadding(\n",
       "        28, 672, kernel_size=(1, 1), stride=(1, 1)\n",
       "        (static_padding): Identity()\n",
       "      )\n",
       "      (_project_conv): Conv2dStaticSamePadding(\n",
       "        672, 192, kernel_size=(1, 1), stride=(1, 1), bias=False\n",
       "        (static_padding): Identity()\n",
       "      )\n",
       "      (_bn2): BatchNorm2d(192, eps=0.001, momentum=0.010000000000000009, affine=True, track_running_stats=True)\n",
       "      (_swish): MemoryEfficientSwish()\n",
       "    )\n",
       "    (12-14): 3 x MBConvBlock(\n",
       "      (_expand_conv): Conv2dStaticSamePadding(\n",
       "        192, 1152, kernel_size=(1, 1), stride=(1, 1), bias=False\n",
       "        (static_padding): Identity()\n",
       "      )\n",
       "      (_bn0): BatchNorm2d(1152, eps=0.001, momentum=0.010000000000000009, affine=True, track_running_stats=True)\n",
       "      (_depthwise_conv): Conv2dStaticSamePadding(\n",
       "        1152, 1152, kernel_size=(5, 5), stride=(1, 1), groups=1152, bias=False\n",
       "        (static_padding): ZeroPad2d((2, 2, 2, 2))\n",
       "      )\n",
       "      (_bn1): BatchNorm2d(1152, eps=0.001, momentum=0.010000000000000009, affine=True, track_running_stats=True)\n",
       "      (_se_reduce): Conv2dStaticSamePadding(\n",
       "        1152, 48, kernel_size=(1, 1), stride=(1, 1)\n",
       "        (static_padding): Identity()\n",
       "      )\n",
       "      (_se_expand): Conv2dStaticSamePadding(\n",
       "        48, 1152, kernel_size=(1, 1), stride=(1, 1)\n",
       "        (static_padding): Identity()\n",
       "      )\n",
       "      (_project_conv): Conv2dStaticSamePadding(\n",
       "        1152, 192, kernel_size=(1, 1), stride=(1, 1), bias=False\n",
       "        (static_padding): Identity()\n",
       "      )\n",
       "      (_bn2): BatchNorm2d(192, eps=0.001, momentum=0.010000000000000009, affine=True, track_running_stats=True)\n",
       "      (_swish): MemoryEfficientSwish()\n",
       "    )\n",
       "    (15): MBConvBlock(\n",
       "      (_expand_conv): Conv2dStaticSamePadding(\n",
       "        192, 1152, kernel_size=(1, 1), stride=(1, 1), bias=False\n",
       "        (static_padding): Identity()\n",
       "      )\n",
       "      (_bn0): BatchNorm2d(1152, eps=0.001, momentum=0.010000000000000009, affine=True, track_running_stats=True)\n",
       "      (_depthwise_conv): Conv2dStaticSamePadding(\n",
       "        1152, 1152, kernel_size=(3, 3), stride=[1, 1], groups=1152, bias=False\n",
       "        (static_padding): ZeroPad2d((1, 1, 1, 1))\n",
       "      )\n",
       "      (_bn1): BatchNorm2d(1152, eps=0.001, momentum=0.010000000000000009, affine=True, track_running_stats=True)\n",
       "      (_se_reduce): Conv2dStaticSamePadding(\n",
       "        1152, 48, kernel_size=(1, 1), stride=(1, 1)\n",
       "        (static_padding): Identity()\n",
       "      )\n",
       "      (_se_expand): Conv2dStaticSamePadding(\n",
       "        48, 1152, kernel_size=(1, 1), stride=(1, 1)\n",
       "        (static_padding): Identity()\n",
       "      )\n",
       "      (_project_conv): Conv2dStaticSamePadding(\n",
       "        1152, 320, kernel_size=(1, 1), stride=(1, 1), bias=False\n",
       "        (static_padding): Identity()\n",
       "      )\n",
       "      (_bn2): BatchNorm2d(320, eps=0.001, momentum=0.010000000000000009, affine=True, track_running_stats=True)\n",
       "      (_swish): MemoryEfficientSwish()\n",
       "    )\n",
       "  )\n",
       "  (_conv_head): Conv2dStaticSamePadding(\n",
       "    320, 1280, kernel_size=(1, 1), stride=(1, 1), bias=False\n",
       "    (static_padding): Identity()\n",
       "  )\n",
       "  (_bn1): BatchNorm2d(1280, eps=0.001, momentum=0.010000000000000009, affine=True, track_running_stats=True)\n",
       "  (_avg_pooling): AdaptiveAvgPool2d(output_size=1)\n",
       "  (_dropout): Dropout(p=0.2, inplace=False)\n",
       "  (_fc): Linear(in_features=1280, out_features=6, bias=True)\n",
       "  (_swish): MemoryEfficientSwish()\n",
       ")"
      ]
     },
     "execution_count": 14,
     "metadata": {},
     "output_type": "execute_result"
    }
   ],
   "source": [
    "model"
   ]
  },
  {
   "cell_type": "markdown",
   "id": "2b8cb014-a102-4cdf-b1fb-02f3bbc3da67",
   "metadata": {},
   "source": [
    "# 모델 학습"
   ]
  },
  {
   "cell_type": "code",
   "execution_count": 15,
   "id": "d2b8545c-5e0b-4d32-ad44-b83f80b6987b",
   "metadata": {
    "scrolled": true
   },
   "outputs": [
    {
     "name": "stdout",
     "output_type": "stream",
     "text": [
      "Loaded pretrained weights for efficientnet-b0\n"
     ]
    },
    {
     "name": "stderr",
     "output_type": "stream",
     "text": [
      "100%|█████████████████████████████████████████████████████████████████████████████████████████████████████| 1148/1148 [00:45<00:00, 25.03it/s]\n",
      "100%|███████████████████████████████████████████████████████████████████████████████████████████████████████| 157/157 [00:02<00:00, 67.54it/s]\n"
     ]
    },
    {
     "name": "stdout",
     "output_type": "stream",
     "text": [
      "Epoch 1/100, Loss: 0.004252662397753274, Val_Recall: 91.10660629545704%\n",
      "Model saved based on lowest validation loss.\n"
     ]
    },
    {
     "name": "stderr",
     "output_type": "stream",
     "text": [
      "100%|█████████████████████████████████████████████████████████████████████████████████████████████████████| 1148/1148 [00:44<00:00, 25.86it/s]\n",
      "100%|███████████████████████████████████████████████████████████████████████████████████████████████████████| 157/157 [00:02<00:00, 69.02it/s]\n"
     ]
    },
    {
     "name": "stdout",
     "output_type": "stream",
     "text": [
      "Epoch 2/100, Loss: 0.0018694932274543707, Val_Recall: 98.27156909616549%\n",
      "Model saved based on lowest validation loss.\n"
     ]
    },
    {
     "name": "stderr",
     "output_type": "stream",
     "text": [
      "100%|█████████████████████████████████████████████████████████████████████████████████████████████████████| 1148/1148 [00:44<00:00, 25.95it/s]\n",
      "100%|███████████████████████████████████████████████████████████████████████████████████████████████████████| 157/157 [00:02<00:00, 71.21it/s]\n"
     ]
    },
    {
     "name": "stdout",
     "output_type": "stream",
     "text": [
      "Epoch 3/100, Loss: 0.0026653619667565244, Val_Recall: 96.04246333101854%\n"
     ]
    },
    {
     "name": "stderr",
     "output_type": "stream",
     "text": [
      "100%|█████████████████████████████████████████████████████████████████████████████████████████████████████| 1148/1148 [00:44<00:00, 25.93it/s]\n",
      "100%|███████████████████████████████████████████████████████████████████████████████████████████████████████| 157/157 [00:02<00:00, 70.55it/s]\n"
     ]
    },
    {
     "name": "stdout",
     "output_type": "stream",
     "text": [
      "Epoch 4/100, Loss: 0.012026357928008897, Val_Recall: 92.37768597285067%\n"
     ]
    },
    {
     "name": "stderr",
     "output_type": "stream",
     "text": [
      "100%|█████████████████████████████████████████████████████████████████████████████████████████████████████| 1148/1148 [00:44<00:00, 25.93it/s]\n",
      "100%|███████████████████████████████████████████████████████████████████████████████████████████████████████| 157/157 [00:02<00:00, 71.19it/s]\n"
     ]
    },
    {
     "name": "stdout",
     "output_type": "stream",
     "text": [
      "Epoch 5/100, Loss: 0.0023980945794806145, Val_Recall: 95.57215400642693%\n"
     ]
    },
    {
     "name": "stderr",
     "output_type": "stream",
     "text": [
      "100%|█████████████████████████████████████████████████████████████████████████████████████████████████████| 1148/1148 [00:44<00:00, 25.86it/s]\n",
      "100%|███████████████████████████████████████████████████████████████████████████████████████████████████████| 157/157 [00:02<00:00, 71.90it/s]\n"
     ]
    },
    {
     "name": "stdout",
     "output_type": "stream",
     "text": [
      "Epoch 6/100, Loss: 0.0027954721640105506, Val_Recall: 97.39181534386255%\n"
     ]
    },
    {
     "name": "stderr",
     "output_type": "stream",
     "text": [
      "100%|█████████████████████████████████████████████████████████████████████████████████████████████████████| 1148/1148 [00:44<00:00, 25.96it/s]\n",
      "100%|███████████████████████████████████████████████████████████████████████████████████████████████████████| 157/157 [00:02<00:00, 69.95it/s]\n"
     ]
    },
    {
     "name": "stdout",
     "output_type": "stream",
     "text": [
      "Epoch 7/100, Loss: 0.4093280722636279, Val_Recall: 31.319241970732943%\n"
     ]
    },
    {
     "name": "stderr",
     "output_type": "stream",
     "text": [
      "100%|█████████████████████████████████████████████████████████████████████████████████████████████████████| 1148/1148 [00:44<00:00, 25.83it/s]\n",
      "100%|███████████████████████████████████████████████████████████████████████████████████████████████████████| 157/157 [00:02<00:00, 71.68it/s]\n"
     ]
    },
    {
     "name": "stdout",
     "output_type": "stream",
     "text": [
      "Epoch 8/100, Loss: 0.0033685919197887332, Val_Recall: 93.46953363944532%\n"
     ]
    },
    {
     "name": "stderr",
     "output_type": "stream",
     "text": [
      "100%|█████████████████████████████████████████████████████████████████████████████████████████████████████| 1148/1148 [00:44<00:00, 25.92it/s]\n",
      "100%|███████████████████████████████████████████████████████████████████████████████████████████████████████| 157/157 [00:02<00:00, 71.06it/s]\n"
     ]
    },
    {
     "name": "stdout",
     "output_type": "stream",
     "text": [
      "Epoch 9/100, Loss: 0.0012024420434704763, Val_Recall: 95.13356092650635%\n",
      "Model saved based on lowest validation loss.\n"
     ]
    },
    {
     "name": "stderr",
     "output_type": "stream",
     "text": [
      "100%|█████████████████████████████████████████████████████████████████████████████████████████████████████| 1148/1148 [00:44<00:00, 25.82it/s]\n",
      "100%|███████████████████████████████████████████████████████████████████████████████████████████████████████| 157/157 [00:02<00:00, 71.31it/s]\n"
     ]
    },
    {
     "name": "stdout",
     "output_type": "stream",
     "text": [
      "Epoch 10/100, Loss: 0.0018074510474529874, Val_Recall: 97.20546836813293%\n"
     ]
    },
    {
     "name": "stderr",
     "output_type": "stream",
     "text": [
      "100%|█████████████████████████████████████████████████████████████████████████████████████████████████████| 1148/1148 [00:44<00:00, 25.93it/s]\n",
      "100%|███████████████████████████████████████████████████████████████████████████████████████████████████████| 157/157 [00:02<00:00, 70.12it/s]\n"
     ]
    },
    {
     "name": "stdout",
     "output_type": "stream",
     "text": [
      "Epoch 11/100, Loss: 0.004248183406982056, Val_Recall: 90.25224644929098%\n"
     ]
    },
    {
     "name": "stderr",
     "output_type": "stream",
     "text": [
      "100%|█████████████████████████████████████████████████████████████████████████████████████████████████████| 1148/1148 [00:44<00:00, 25.87it/s]\n",
      "100%|███████████████████████████████████████████████████████████████████████████████████████████████████████| 157/157 [00:02<00:00, 71.56it/s]\n"
     ]
    },
    {
     "name": "stdout",
     "output_type": "stream",
     "text": [
      "Epoch 12/100, Loss: 0.003002918017906109, Val_Recall: 97.65052124506165%\n"
     ]
    },
    {
     "name": "stderr",
     "output_type": "stream",
     "text": [
      "100%|█████████████████████████████████████████████████████████████████████████████████████████████████████| 1148/1148 [00:44<00:00, 25.94it/s]\n",
      "100%|███████████████████████████████████████████████████████████████████████████████████████████████████████| 157/157 [00:02<00:00, 71.24it/s]\n"
     ]
    },
    {
     "name": "stdout",
     "output_type": "stream",
     "text": [
      "Epoch 13/100, Loss: 0.013323809965474429, Val_Recall: 93.63583754069634%\n"
     ]
    },
    {
     "name": "stderr",
     "output_type": "stream",
     "text": [
      "100%|█████████████████████████████████████████████████████████████████████████████████████████████████████| 1148/1148 [00:44<00:00, 25.92it/s]\n",
      "100%|███████████████████████████████████████████████████████████████████████████████████████████████████████| 157/157 [00:02<00:00, 71.41it/s]\n"
     ]
    },
    {
     "name": "stdout",
     "output_type": "stream",
     "text": [
      "Epoch 14/100, Loss: 0.0030122259930976253, Val_Recall: 96.92569079472202%\n"
     ]
    },
    {
     "name": "stderr",
     "output_type": "stream",
     "text": [
      "100%|█████████████████████████████████████████████████████████████████████████████████████████████████████| 1148/1148 [00:44<00:00, 25.85it/s]\n",
      "100%|███████████████████████████████████████████████████████████████████████████████████████████████████████| 157/157 [00:02<00:00, 72.19it/s]\n"
     ]
    },
    {
     "name": "stdout",
     "output_type": "stream",
     "text": [
      "Epoch 15/100, Loss: 0.00520492304650143, Val_Recall: 93.99669685514608%\n"
     ]
    },
    {
     "name": "stderr",
     "output_type": "stream",
     "text": [
      "100%|█████████████████████████████████████████████████████████████████████████████████████████████████████| 1148/1148 [00:44<00:00, 25.90it/s]\n",
      "100%|███████████████████████████████████████████████████████████████████████████████████████████████████████| 157/157 [00:02<00:00, 71.99it/s]\n"
     ]
    },
    {
     "name": "stdout",
     "output_type": "stream",
     "text": [
      "Epoch 16/100, Loss: 0.0018082445177128338, Val_Recall: 97.22160450196476%\n"
     ]
    },
    {
     "name": "stderr",
     "output_type": "stream",
     "text": [
      "100%|█████████████████████████████████████████████████████████████████████████████████████████████████████| 1148/1148 [00:44<00:00, 25.75it/s]\n",
      "100%|███████████████████████████████████████████████████████████████████████████████████████████████████████| 157/157 [00:02<00:00, 71.66it/s]\n"
     ]
    },
    {
     "name": "stdout",
     "output_type": "stream",
     "text": [
      "Epoch 17/100, Loss: 0.004492391494402103, Val_Recall: 90.67658356641441%\n"
     ]
    },
    {
     "name": "stderr",
     "output_type": "stream",
     "text": [
      "100%|█████████████████████████████████████████████████████████████████████████████████████████████████████| 1148/1148 [00:44<00:00, 25.75it/s]\n",
      "100%|███████████████████████████████████████████████████████████████████████████████████████████████████████| 157/157 [00:02<00:00, 71.13it/s]\n"
     ]
    },
    {
     "name": "stdout",
     "output_type": "stream",
     "text": [
      "Epoch 18/100, Loss: 0.0023457554530436696, Val_Recall: 98.60947093957422%\n"
     ]
    },
    {
     "name": "stderr",
     "output_type": "stream",
     "text": [
      "100%|█████████████████████████████████████████████████████████████████████████████████████████████████████| 1148/1148 [00:44<00:00, 25.91it/s]\n",
      "100%|███████████████████████████████████████████████████████████████████████████████████████████████████████| 157/157 [00:02<00:00, 70.95it/s]\n"
     ]
    },
    {
     "name": "stdout",
     "output_type": "stream",
     "text": [
      "Epoch 19/100, Loss: 0.001734803398190404, Val_Recall: 96.57966584244588%\n"
     ]
    },
    {
     "name": "stderr",
     "output_type": "stream",
     "text": [
      "100%|█████████████████████████████████████████████████████████████████████████████████████████████████████| 1148/1148 [00:44<00:00, 25.86it/s]\n",
      "100%|███████████████████████████████████████████████████████████████████████████████████████████████████████| 157/157 [00:02<00:00, 70.99it/s]\n"
     ]
    },
    {
     "name": "stdout",
     "output_type": "stream",
     "text": [
      "Epoch 20/100, Loss: 0.003149392897161276, Val_Recall: 93.47860752646385%\n"
     ]
    },
    {
     "name": "stderr",
     "output_type": "stream",
     "text": [
      "100%|█████████████████████████████████████████████████████████████████████████████████████████████████████| 1148/1148 [00:44<00:00, 25.90it/s]\n",
      "100%|███████████████████████████████████████████████████████████████████████████████████████████████████████| 157/157 [00:02<00:00, 71.75it/s]\n"
     ]
    },
    {
     "name": "stdout",
     "output_type": "stream",
     "text": [
      "Epoch 21/100, Loss: 0.0018583220013022545, Val_Recall: 97.36717457932603%\n"
     ]
    },
    {
     "name": "stderr",
     "output_type": "stream",
     "text": [
      "100%|█████████████████████████████████████████████████████████████████████████████████████████████████████| 1148/1148 [00:44<00:00, 25.90it/s]\n",
      "100%|███████████████████████████████████████████████████████████████████████████████████████████████████████| 157/157 [00:02<00:00, 71.09it/s]\n"
     ]
    },
    {
     "name": "stdout",
     "output_type": "stream",
     "text": [
      "Epoch 22/100, Loss: 0.002152755160709922, Val_Recall: 93.65715757419491%\n"
     ]
    },
    {
     "name": "stderr",
     "output_type": "stream",
     "text": [
      "100%|█████████████████████████████████████████████████████████████████████████████████████████████████████| 1148/1148 [00:44<00:00, 25.85it/s]\n",
      "100%|███████████████████████████████████████████████████████████████████████████████████████████████████████| 157/157 [00:02<00:00, 72.51it/s]\n"
     ]
    },
    {
     "name": "stdout",
     "output_type": "stream",
     "text": [
      "Epoch 23/100, Loss: 0.010118110317967013, Val_Recall: 90.14296143969057%\n"
     ]
    },
    {
     "name": "stderr",
     "output_type": "stream",
     "text": [
      "100%|█████████████████████████████████████████████████████████████████████████████████████████████████████| 1148/1148 [00:44<00:00, 25.82it/s]\n",
      "100%|███████████████████████████████████████████████████████████████████████████████████████████████████████| 157/157 [00:02<00:00, 71.67it/s]\n"
     ]
    },
    {
     "name": "stdout",
     "output_type": "stream",
     "text": [
      "Epoch 24/100, Loss: 0.0009415859190098479, Val_Recall: 97.06076080586779%\n",
      "Model saved based on lowest validation loss.\n"
     ]
    },
    {
     "name": "stderr",
     "output_type": "stream",
     "text": [
      "100%|█████████████████████████████████████████████████████████████████████████████████████████████████████| 1148/1148 [00:44<00:00, 25.89it/s]\n",
      "100%|███████████████████████████████████████████████████████████████████████████████████████████████████████| 157/157 [00:02<00:00, 70.90it/s]\n"
     ]
    },
    {
     "name": "stdout",
     "output_type": "stream",
     "text": [
      "Epoch 25/100, Loss: 0.0012880867361237595, Val_Recall: 98.27371223039339%\n"
     ]
    },
    {
     "name": "stderr",
     "output_type": "stream",
     "text": [
      "100%|█████████████████████████████████████████████████████████████████████████████████████████████████████| 1148/1148 [00:44<00:00, 25.82it/s]\n",
      "100%|███████████████████████████████████████████████████████████████████████████████████████████████████████| 157/157 [00:02<00:00, 69.81it/s]\n"
     ]
    },
    {
     "name": "stdout",
     "output_type": "stream",
     "text": [
      "Epoch 26/100, Loss: 0.006381302831829939, Val_Recall: 94.17981155192035%\n"
     ]
    },
    {
     "name": "stderr",
     "output_type": "stream",
     "text": [
      "100%|█████████████████████████████████████████████████████████████████████████████████████████████████████| 1148/1148 [00:44<00:00, 25.80it/s]\n",
      "100%|███████████████████████████████████████████████████████████████████████████████████████████████████████| 157/157 [00:02<00:00, 71.95it/s]\n"
     ]
    },
    {
     "name": "stdout",
     "output_type": "stream",
     "text": [
      "Epoch 27/100, Loss: 0.0016725870604853428, Val_Recall: 96.0924834193415%\n"
     ]
    },
    {
     "name": "stderr",
     "output_type": "stream",
     "text": [
      "100%|█████████████████████████████████████████████████████████████████████████████████████████████████████| 1148/1148 [00:44<00:00, 25.94it/s]\n",
      "100%|███████████████████████████████████████████████████████████████████████████████████████████████████████| 157/157 [00:02<00:00, 71.28it/s]\n"
     ]
    },
    {
     "name": "stdout",
     "output_type": "stream",
     "text": [
      "Epoch 28/100, Loss: 0.0026938783765264596, Val_Recall: 95.11141339214385%\n"
     ]
    },
    {
     "name": "stderr",
     "output_type": "stream",
     "text": [
      "100%|█████████████████████████████████████████████████████████████████████████████████████████████████████| 1148/1148 [00:44<00:00, 25.91it/s]\n",
      "100%|███████████████████████████████████████████████████████████████████████████████████████████████████████| 157/157 [00:02<00:00, 70.90it/s]\n"
     ]
    },
    {
     "name": "stdout",
     "output_type": "stream",
     "text": [
      "Epoch 29/100, Loss: 0.00453011526731791, Val_Recall: 90.34400562800158%\n"
     ]
    },
    {
     "name": "stderr",
     "output_type": "stream",
     "text": [
      "100%|█████████████████████████████████████████████████████████████████████████████████████████████████████| 1148/1148 [00:44<00:00, 25.88it/s]\n",
      "100%|███████████████████████████████████████████████████████████████████████████████████████████████████████| 157/157 [00:02<00:00, 71.26it/s]\n"
     ]
    },
    {
     "name": "stdout",
     "output_type": "stream",
     "text": [
      "Epoch 30/100, Loss: 0.0035116432161587923, Val_Recall: 95.37022420009484%\n"
     ]
    },
    {
     "name": "stderr",
     "output_type": "stream",
     "text": [
      "100%|█████████████████████████████████████████████████████████████████████████████████████████████████████| 1148/1148 [00:44<00:00, 25.99it/s]\n",
      "100%|███████████████████████████████████████████████████████████████████████████████████████████████████████| 157/157 [00:02<00:00, 70.92it/s]\n"
     ]
    },
    {
     "name": "stdout",
     "output_type": "stream",
     "text": [
      "Epoch 31/100, Loss: 0.0017773754426649718, Val_Recall: 98.05415551249394%\n"
     ]
    },
    {
     "name": "stderr",
     "output_type": "stream",
     "text": [
      "100%|█████████████████████████████████████████████████████████████████████████████████████████████████████| 1148/1148 [00:44<00:00, 25.86it/s]\n",
      "100%|███████████████████████████████████████████████████████████████████████████████████████████████████████| 157/157 [00:02<00:00, 71.45it/s]\n"
     ]
    },
    {
     "name": "stdout",
     "output_type": "stream",
     "text": [
      "Epoch 32/100, Loss: 0.0017268974943964223, Val_Recall: 98.96311035774984%\n"
     ]
    },
    {
     "name": "stderr",
     "output_type": "stream",
     "text": [
      "100%|█████████████████████████████████████████████████████████████████████████████████████████████████████| 1148/1148 [00:44<00:00, 25.88it/s]\n",
      "100%|███████████████████████████████████████████████████████████████████████████████████████████████████████| 157/157 [00:02<00:00, 71.30it/s]\n"
     ]
    },
    {
     "name": "stdout",
     "output_type": "stream",
     "text": [
      "Epoch 33/100, Loss: 0.0014636874116327394, Val_Recall: 97.19189822799756%\n"
     ]
    },
    {
     "name": "stderr",
     "output_type": "stream",
     "text": [
      "100%|█████████████████████████████████████████████████████████████████████████████████████████████████████| 1148/1148 [00:44<00:00, 25.95it/s]\n",
      "100%|███████████████████████████████████████████████████████████████████████████████████████████████████████| 157/157 [00:02<00:00, 71.77it/s]\n"
     ]
    },
    {
     "name": "stdout",
     "output_type": "stream",
     "text": [
      "Epoch 34/100, Loss: 0.0016398663948838429, Val_Recall: 97.51387919671114%\n"
     ]
    },
    {
     "name": "stderr",
     "output_type": "stream",
     "text": [
      "100%|█████████████████████████████████████████████████████████████████████████████████████████████████████| 1148/1148 [00:44<00:00, 25.81it/s]\n",
      "100%|███████████████████████████████████████████████████████████████████████████████████████████████████████| 157/157 [00:02<00:00, 71.34it/s]\n"
     ]
    },
    {
     "name": "stdout",
     "output_type": "stream",
     "text": [
      "Epoch 35/100, Loss: 0.006662099177873712, Val_Recall: 94.0331163885271%\n"
     ]
    },
    {
     "name": "stderr",
     "output_type": "stream",
     "text": [
      "100%|█████████████████████████████████████████████████████████████████████████████████████████████████████| 1148/1148 [00:44<00:00, 25.89it/s]\n",
      "100%|███████████████████████████████████████████████████████████████████████████████████████████████████████| 157/157 [00:02<00:00, 70.89it/s]\n"
     ]
    },
    {
     "name": "stdout",
     "output_type": "stream",
     "text": [
      "Epoch 36/100, Loss: 0.0020263688777529608, Val_Recall: 98.7259365794159%\n"
     ]
    },
    {
     "name": "stderr",
     "output_type": "stream",
     "text": [
      "100%|█████████████████████████████████████████████████████████████████████████████████████████████████████| 1148/1148 [00:44<00:00, 25.90it/s]\n",
      "100%|███████████████████████████████████████████████████████████████████████████████████████████████████████| 157/157 [00:02<00:00, 71.42it/s]\n"
     ]
    },
    {
     "name": "stdout",
     "output_type": "stream",
     "text": [
      "Epoch 37/100, Loss: 0.0015930162077446234, Val_Recall: 98.1495849089043%\n"
     ]
    },
    {
     "name": "stderr",
     "output_type": "stream",
     "text": [
      "100%|█████████████████████████████████████████████████████████████████████████████████████████████████████| 1148/1148 [00:44<00:00, 25.81it/s]\n",
      "100%|███████████████████████████████████████████████████████████████████████████████████████████████████████| 157/157 [00:02<00:00, 71.41it/s]\n"
     ]
    },
    {
     "name": "stdout",
     "output_type": "stream",
     "text": [
      "Epoch 38/100, Loss: 0.001060083760470054, Val_Recall: 98.61272872480438%\n"
     ]
    },
    {
     "name": "stderr",
     "output_type": "stream",
     "text": [
      "100%|█████████████████████████████████████████████████████████████████████████████████████████████████████| 1148/1148 [00:44<00:00, 25.88it/s]\n",
      "100%|███████████████████████████████████████████████████████████████████████████████████████████████████████| 157/157 [00:02<00:00, 70.85it/s]\n"
     ]
    },
    {
     "name": "stdout",
     "output_type": "stream",
     "text": [
      "Epoch 39/100, Loss: 0.0035642373322173427, Val_Recall: 97.31413548668039%\n"
     ]
    },
    {
     "name": "stderr",
     "output_type": "stream",
     "text": [
      "100%|█████████████████████████████████████████████████████████████████████████████████████████████████████| 1148/1148 [00:44<00:00, 25.90it/s]\n",
      "100%|███████████████████████████████████████████████████████████████████████████████████████████████████████| 157/157 [00:02<00:00, 71.98it/s]\n"
     ]
    },
    {
     "name": "stdout",
     "output_type": "stream",
     "text": [
      "Epoch 40/100, Loss: 0.0029915785550716128, Val_Recall: 93.6960267318092%\n"
     ]
    },
    {
     "name": "stderr",
     "output_type": "stream",
     "text": [
      "100%|█████████████████████████████████████████████████████████████████████████████████████████████████████| 1148/1148 [00:44<00:00, 25.82it/s]\n",
      "100%|███████████████████████████████████████████████████████████████████████████████████████████████████████| 157/157 [00:02<00:00, 70.57it/s]\n"
     ]
    },
    {
     "name": "stdout",
     "output_type": "stream",
     "text": [
      "Epoch 41/100, Loss: 0.012032003287154713, Val_Recall: 94.27000825098649%\n"
     ]
    },
    {
     "name": "stderr",
     "output_type": "stream",
     "text": [
      "100%|█████████████████████████████████████████████████████████████████████████████████████████████████████| 1148/1148 [00:44<00:00, 25.85it/s]\n",
      "100%|███████████████████████████████████████████████████████████████████████████████████████████████████████| 157/157 [00:02<00:00, 71.37it/s]\n"
     ]
    },
    {
     "name": "stdout",
     "output_type": "stream",
     "text": [
      "Epoch 42/100, Loss: 0.001201955590307432, Val_Recall: 98.25790394547039%\n"
     ]
    },
    {
     "name": "stderr",
     "output_type": "stream",
     "text": [
      "100%|█████████████████████████████████████████████████████████████████████████████████████████████████████| 1148/1148 [00:44<00:00, 25.91it/s]\n",
      "100%|███████████████████████████████████████████████████████████████████████████████████████████████████████| 157/157 [00:02<00:00, 71.79it/s]\n"
     ]
    },
    {
     "name": "stdout",
     "output_type": "stream",
     "text": [
      "Epoch 43/100, Loss: 0.0020841686738785415, Val_Recall: 97.83001379540995%\n"
     ]
    },
    {
     "name": "stderr",
     "output_type": "stream",
     "text": [
      "100%|█████████████████████████████████████████████████████████████████████████████████████████████████████| 1148/1148 [00:44<00:00, 25.87it/s]\n",
      "100%|███████████████████████████████████████████████████████████████████████████████████████████████████████| 157/157 [00:02<00:00, 71.78it/s]\n"
     ]
    },
    {
     "name": "stdout",
     "output_type": "stream",
     "text": [
      "Epoch 44/100, Loss: 0.0029712977632791794, Val_Recall: 95.34024565588437%\n"
     ]
    },
    {
     "name": "stderr",
     "output_type": "stream",
     "text": [
      "100%|█████████████████████████████████████████████████████████████████████████████████████████████████████| 1148/1148 [00:44<00:00, 25.89it/s]\n",
      "100%|███████████████████████████████████████████████████████████████████████████████████████████████████████| 157/157 [00:02<00:00, 71.62it/s]\n"
     ]
    },
    {
     "name": "stdout",
     "output_type": "stream",
     "text": [
      "Epoch 45/100, Loss: 0.0032419223292795576, Val_Recall: 97.29373392494084%\n"
     ]
    },
    {
     "name": "stderr",
     "output_type": "stream",
     "text": [
      "100%|█████████████████████████████████████████████████████████████████████████████████████████████████████| 1148/1148 [00:44<00:00, 25.89it/s]\n",
      "100%|███████████████████████████████████████████████████████████████████████████████████████████████████████| 157/157 [00:02<00:00, 68.85it/s]\n"
     ]
    },
    {
     "name": "stdout",
     "output_type": "stream",
     "text": [
      "Epoch 46/100, Loss: 0.008175751860004885, Val_Recall: 94.30233690965616%\n"
     ]
    },
    {
     "name": "stderr",
     "output_type": "stream",
     "text": [
      "100%|█████████████████████████████████████████████████████████████████████████████████████████████████████| 1148/1148 [00:44<00:00, 25.78it/s]\n",
      "100%|███████████████████████████████████████████████████████████████████████████████████████████████████████| 157/157 [00:02<00:00, 71.71it/s]\n"
     ]
    },
    {
     "name": "stdout",
     "output_type": "stream",
     "text": [
      "Epoch 47/100, Loss: 0.001582160058708627, Val_Recall: 95.39334121765182%\n"
     ]
    },
    {
     "name": "stderr",
     "output_type": "stream",
     "text": [
      "100%|█████████████████████████████████████████████████████████████████████████████████████████████████████| 1148/1148 [00:44<00:00, 25.82it/s]\n",
      "100%|███████████████████████████████████████████████████████████████████████████████████████████████████████| 157/157 [00:02<00:00, 71.51it/s]\n"
     ]
    },
    {
     "name": "stdout",
     "output_type": "stream",
     "text": [
      "Epoch 48/100, Loss: 0.0009216012670849557, Val_Recall: 97.24720139469713%\n",
      "Model saved based on lowest validation loss.\n"
     ]
    },
    {
     "name": "stderr",
     "output_type": "stream",
     "text": [
      "100%|█████████████████████████████████████████████████████████████████████████████████████████████████████| 1148/1148 [00:44<00:00, 25.83it/s]\n",
      "100%|███████████████████████████████████████████████████████████████████████████████████████████████████████| 157/157 [00:02<00:00, 71.07it/s]\n"
     ]
    },
    {
     "name": "stdout",
     "output_type": "stream",
     "text": [
      "Epoch 49/100, Loss: 0.001598933144838573, Val_Recall: 96.39013018909304%\n"
     ]
    },
    {
     "name": "stderr",
     "output_type": "stream",
     "text": [
      "100%|█████████████████████████████████████████████████████████████████████████████████████████████████████| 1148/1148 [00:44<00:00, 25.70it/s]\n",
      "100%|███████████████████████████████████████████████████████████████████████████████████████████████████████| 157/157 [00:02<00:00, 71.41it/s]\n"
     ]
    },
    {
     "name": "stdout",
     "output_type": "stream",
     "text": [
      "Epoch 50/100, Loss: 0.001549556170371547, Val_Recall: 98.18540385530675%\n"
     ]
    },
    {
     "name": "stderr",
     "output_type": "stream",
     "text": [
      "100%|█████████████████████████████████████████████████████████████████████████████████████████████████████| 1148/1148 [00:44<00:00, 25.85it/s]\n",
      "100%|███████████████████████████████████████████████████████████████████████████████████████████████████████| 157/157 [00:02<00:00, 71.41it/s]\n"
     ]
    },
    {
     "name": "stdout",
     "output_type": "stream",
     "text": [
      "Epoch 51/100, Loss: 0.0015878762686966836, Val_Recall: 97.98869275096187%\n"
     ]
    },
    {
     "name": "stderr",
     "output_type": "stream",
     "text": [
      "100%|█████████████████████████████████████████████████████████████████████████████████████████████████████| 1148/1148 [00:44<00:00, 25.91it/s]\n",
      "100%|███████████████████████████████████████████████████████████████████████████████████████████████████████| 157/157 [00:02<00:00, 71.69it/s]\n"
     ]
    },
    {
     "name": "stdout",
     "output_type": "stream",
     "text": [
      "Epoch 52/100, Loss: 0.001276263406192937, Val_Recall: 98.9542327531956%\n"
     ]
    },
    {
     "name": "stderr",
     "output_type": "stream",
     "text": [
      "100%|█████████████████████████████████████████████████████████████████████████████████████████████████████| 1148/1148 [00:44<00:00, 25.94it/s]\n",
      "100%|███████████████████████████████████████████████████████████████████████████████████████████████████████| 157/157 [00:02<00:00, 72.18it/s]\n"
     ]
    },
    {
     "name": "stdout",
     "output_type": "stream",
     "text": [
      "Epoch 53/100, Loss: 0.001610432407404328, Val_Recall: 98.94763817305417%\n"
     ]
    },
    {
     "name": "stderr",
     "output_type": "stream",
     "text": [
      "100%|█████████████████████████████████████████████████████████████████████████████████████████████████████| 1148/1148 [00:44<00:00, 25.84it/s]\n",
      "100%|███████████████████████████████████████████████████████████████████████████████████████████████████████| 157/157 [00:02<00:00, 70.80it/s]\n"
     ]
    },
    {
     "name": "stdout",
     "output_type": "stream",
     "text": [
      "Epoch 54/100, Loss: 0.006210417662907632, Val_Recall: 92.32218148025213%\n"
     ]
    },
    {
     "name": "stderr",
     "output_type": "stream",
     "text": [
      "100%|█████████████████████████████████████████████████████████████████████████████████████████████████████| 1148/1148 [00:44<00:00, 25.89it/s]\n",
      "100%|███████████████████████████████████████████████████████████████████████████████████████████████████████| 157/157 [00:02<00:00, 70.23it/s]\n"
     ]
    },
    {
     "name": "stdout",
     "output_type": "stream",
     "text": [
      "Epoch 55/100, Loss: 0.001808684535166652, Val_Recall: 97.83412084157113%\n"
     ]
    },
    {
     "name": "stderr",
     "output_type": "stream",
     "text": [
      "100%|█████████████████████████████████████████████████████████████████████████████████████████████████████| 1148/1148 [00:44<00:00, 25.85it/s]\n",
      "100%|███████████████████████████████████████████████████████████████████████████████████████████████████████| 157/157 [00:02<00:00, 71.56it/s]\n"
     ]
    },
    {
     "name": "stdout",
     "output_type": "stream",
     "text": [
      "Epoch 56/100, Loss: 0.0017615329184347604, Val_Recall: 98.29106659694125%\n"
     ]
    },
    {
     "name": "stderr",
     "output_type": "stream",
     "text": [
      "100%|█████████████████████████████████████████████████████████████████████████████████████████████████████| 1148/1148 [00:44<00:00, 25.84it/s]\n",
      "100%|███████████████████████████████████████████████████████████████████████████████████████████████████████| 157/157 [00:02<00:00, 71.22it/s]\n"
     ]
    },
    {
     "name": "stdout",
     "output_type": "stream",
     "text": [
      "Epoch 57/100, Loss: 0.003778060351004096, Val_Recall: 93.75889060177363%\n"
     ]
    },
    {
     "name": "stderr",
     "output_type": "stream",
     "text": [
      "100%|█████████████████████████████████████████████████████████████████████████████████████████████████████| 1148/1148 [00:44<00:00, 25.90it/s]\n",
      "100%|███████████████████████████████████████████████████████████████████████████████████████████████████████| 157/157 [00:02<00:00, 71.18it/s]\n"
     ]
    },
    {
     "name": "stdout",
     "output_type": "stream",
     "text": [
      "Epoch 58/100, Loss: 0.0022824611658958677, Val_Recall: 97.81231674640529%\n"
     ]
    },
    {
     "name": "stderr",
     "output_type": "stream",
     "text": [
      "100%|█████████████████████████████████████████████████████████████████████████████████████████████████████| 1148/1148 [00:44<00:00, 25.94it/s]\n",
      "100%|███████████████████████████████████████████████████████████████████████████████████████████████████████| 157/157 [00:02<00:00, 71.79it/s]\n"
     ]
    },
    {
     "name": "stdout",
     "output_type": "stream",
     "text": [
      "Epoch 59/100, Loss: 0.0016356939954480594, Val_Recall: 97.79149971469542%\n"
     ]
    },
    {
     "name": "stderr",
     "output_type": "stream",
     "text": [
      "100%|█████████████████████████████████████████████████████████████████████████████████████████████████████| 1148/1148 [00:44<00:00, 25.86it/s]\n",
      "100%|███████████████████████████████████████████████████████████████████████████████████████████████████████| 157/157 [00:02<00:00, 70.64it/s]\n"
     ]
    },
    {
     "name": "stdout",
     "output_type": "stream",
     "text": [
      "Epoch 60/100, Loss: 0.002111070364744299, Val_Recall: 98.83927261408738%\n"
     ]
    },
    {
     "name": "stderr",
     "output_type": "stream",
     "text": [
      "100%|█████████████████████████████████████████████████████████████████████████████████████████████████████| 1148/1148 [00:44<00:00, 25.82it/s]\n",
      "100%|███████████████████████████████████████████████████████████████████████████████████████████████████████| 157/157 [00:02<00:00, 70.47it/s]\n"
     ]
    },
    {
     "name": "stdout",
     "output_type": "stream",
     "text": [
      "Epoch 61/100, Loss: 0.002166180667286255, Val_Recall: 97.62201555112712%\n"
     ]
    },
    {
     "name": "stderr",
     "output_type": "stream",
     "text": [
      "100%|█████████████████████████████████████████████████████████████████████████████████████████████████████| 1148/1148 [00:44<00:00, 25.80it/s]\n",
      "100%|███████████████████████████████████████████████████████████████████████████████████████████████████████| 157/157 [00:02<00:00, 71.48it/s]\n"
     ]
    },
    {
     "name": "stdout",
     "output_type": "stream",
     "text": [
      "Epoch 62/100, Loss: 0.0015275594653728266, Val_Recall: 99.13687656556017%\n"
     ]
    },
    {
     "name": "stderr",
     "output_type": "stream",
     "text": [
      "100%|█████████████████████████████████████████████████████████████████████████████████████████████████████| 1148/1148 [00:44<00:00, 25.89it/s]\n",
      "100%|███████████████████████████████████████████████████████████████████████████████████████████████████████| 157/157 [00:02<00:00, 71.35it/s]\n"
     ]
    },
    {
     "name": "stdout",
     "output_type": "stream",
     "text": [
      "Epoch 63/100, Loss: 0.001267253452368482, Val_Recall: 98.84636807650925%\n"
     ]
    },
    {
     "name": "stderr",
     "output_type": "stream",
     "text": [
      "100%|█████████████████████████████████████████████████████████████████████████████████████████████████████| 1148/1148 [00:44<00:00, 25.77it/s]\n",
      "100%|███████████████████████████████████████████████████████████████████████████████████████████████████████| 157/157 [00:02<00:00, 71.35it/s]\n"
     ]
    },
    {
     "name": "stdout",
     "output_type": "stream",
     "text": [
      "Epoch 64/100, Loss: 0.0014953896194196256, Val_Recall: 96.37787957989178%\n"
     ]
    },
    {
     "name": "stderr",
     "output_type": "stream",
     "text": [
      "100%|█████████████████████████████████████████████████████████████████████████████████████████████████████| 1148/1148 [00:44<00:00, 25.91it/s]\n",
      "100%|███████████████████████████████████████████████████████████████████████████████████████████████████████| 157/157 [00:02<00:00, 71.35it/s]\n"
     ]
    },
    {
     "name": "stdout",
     "output_type": "stream",
     "text": [
      "Epoch 65/100, Loss: 0.0015304564130394977, Val_Recall: 96.1449067806543%\n"
     ]
    },
    {
     "name": "stderr",
     "output_type": "stream",
     "text": [
      "100%|█████████████████████████████████████████████████████████████████████████████████████████████████████| 1148/1148 [00:44<00:00, 25.81it/s]\n",
      "100%|███████████████████████████████████████████████████████████████████████████████████████████████████████| 157/157 [00:02<00:00, 71.74it/s]\n"
     ]
    },
    {
     "name": "stdout",
     "output_type": "stream",
     "text": [
      "Epoch 66/100, Loss: 0.001621210511867682, Val_Recall: 98.8849888054866%\n"
     ]
    },
    {
     "name": "stderr",
     "output_type": "stream",
     "text": [
      "100%|█████████████████████████████████████████████████████████████████████████████████████████████████████| 1148/1148 [00:44<00:00, 25.85it/s]\n",
      "100%|███████████████████████████████████████████████████████████████████████████████████████████████████████| 157/157 [00:02<00:00, 70.78it/s]\n"
     ]
    },
    {
     "name": "stdout",
     "output_type": "stream",
     "text": [
      "Epoch 67/100, Loss: 0.0027580534303123876, Val_Recall: 96.2572537629452%\n"
     ]
    },
    {
     "name": "stderr",
     "output_type": "stream",
     "text": [
      "100%|█████████████████████████████████████████████████████████████████████████████████████████████████████| 1148/1148 [00:44<00:00, 25.82it/s]\n",
      "100%|███████████████████████████████████████████████████████████████████████████████████████████████████████| 157/157 [00:02<00:00, 71.51it/s]\n"
     ]
    },
    {
     "name": "stdout",
     "output_type": "stream",
     "text": [
      "Epoch 68/100, Loss: 0.0023332568629541384, Val_Recall: 96.8329116529985%\n"
     ]
    },
    {
     "name": "stderr",
     "output_type": "stream",
     "text": [
      "100%|█████████████████████████████████████████████████████████████████████████████████████████████████████| 1148/1148 [00:44<00:00, 25.85it/s]\n",
      "100%|███████████████████████████████████████████████████████████████████████████████████████████████████████| 157/157 [00:02<00:00, 71.58it/s]\n"
     ]
    },
    {
     "name": "stdout",
     "output_type": "stream",
     "text": [
      "Epoch 69/100, Loss: 0.001882078121059756, Val_Recall: 95.67143001671458%\n"
     ]
    },
    {
     "name": "stderr",
     "output_type": "stream",
     "text": [
      "100%|█████████████████████████████████████████████████████████████████████████████████████████████████████| 1148/1148 [00:44<00:00, 25.84it/s]\n",
      "100%|███████████████████████████████████████████████████████████████████████████████████████████████████████| 157/157 [00:02<00:00, 70.95it/s]\n"
     ]
    },
    {
     "name": "stdout",
     "output_type": "stream",
     "text": [
      "Epoch 70/100, Loss: 0.001504321485443075, Val_Recall: 98.30019096104336%\n"
     ]
    },
    {
     "name": "stderr",
     "output_type": "stream",
     "text": [
      "100%|█████████████████████████████████████████████████████████████████████████████████████████████████████| 1148/1148 [00:44<00:00, 25.91it/s]\n",
      "100%|███████████████████████████████████████████████████████████████████████████████████████████████████████| 157/157 [00:02<00:00, 68.58it/s]\n"
     ]
    },
    {
     "name": "stdout",
     "output_type": "stream",
     "text": [
      "Epoch 71/100, Loss: 0.0023469101629075015, Val_Recall: 95.8953252940862%\n"
     ]
    },
    {
     "name": "stderr",
     "output_type": "stream",
     "text": [
      "100%|█████████████████████████████████████████████████████████████████████████████████████████████████████| 1148/1148 [00:44<00:00, 25.97it/s]\n",
      "100%|███████████████████████████████████████████████████████████████████████████████████████████████████████| 157/157 [00:02<00:00, 72.10it/s]\n"
     ]
    },
    {
     "name": "stdout",
     "output_type": "stream",
     "text": [
      "Epoch 72/100, Loss: 0.0022821246899713495, Val_Recall: 95.50619139203236%\n"
     ]
    },
    {
     "name": "stderr",
     "output_type": "stream",
     "text": [
      "100%|█████████████████████████████████████████████████████████████████████████████████████████████████████| 1148/1148 [00:44<00:00, 25.81it/s]\n",
      "100%|███████████████████████████████████████████████████████████████████████████████████████████████████████| 157/157 [00:02<00:00, 71.30it/s]\n"
     ]
    },
    {
     "name": "stdout",
     "output_type": "stream",
     "text": [
      "Epoch 73/100, Loss: 0.0014938171798778725, Val_Recall: 96.39200503197594%\n"
     ]
    },
    {
     "name": "stderr",
     "output_type": "stream",
     "text": [
      "100%|█████████████████████████████████████████████████████████████████████████████████████████████████████| 1148/1148 [00:44<00:00, 25.84it/s]\n",
      "100%|███████████████████████████████████████████████████████████████████████████████████████████████████████| 157/157 [00:02<00:00, 70.63it/s]\n"
     ]
    },
    {
     "name": "stdout",
     "output_type": "stream",
     "text": [
      "Epoch 74/100, Loss: 0.0019408785698175064, Val_Recall: 97.56408594503347%\n"
     ]
    },
    {
     "name": "stderr",
     "output_type": "stream",
     "text": [
      "100%|█████████████████████████████████████████████████████████████████████████████████████████████████████| 1148/1148 [00:44<00:00, 25.89it/s]\n",
      "100%|███████████████████████████████████████████████████████████████████████████████████████████████████████| 157/157 [00:02<00:00, 72.12it/s]\n"
     ]
    },
    {
     "name": "stdout",
     "output_type": "stream",
     "text": [
      "Epoch 75/100, Loss: 0.004695217316967905, Val_Recall: 93.303320476095%\n"
     ]
    },
    {
     "name": "stderr",
     "output_type": "stream",
     "text": [
      "100%|█████████████████████████████████████████████████████████████████████████████████████████████████████| 1148/1148 [00:44<00:00, 25.75it/s]\n",
      "100%|███████████████████████████████████████████████████████████████████████████████████████████████████████| 157/157 [00:02<00:00, 71.63it/s]\n"
     ]
    },
    {
     "name": "stdout",
     "output_type": "stream",
     "text": [
      "Epoch 76/100, Loss: 0.0018423789683212613, Val_Recall: 96.82133157516287%\n"
     ]
    },
    {
     "name": "stderr",
     "output_type": "stream",
     "text": [
      "100%|█████████████████████████████████████████████████████████████████████████████████████████████████████| 1148/1148 [00:44<00:00, 25.84it/s]\n",
      "100%|███████████████████████████████████████████████████████████████████████████████████████████████████████| 157/157 [00:02<00:00, 71.45it/s]\n"
     ]
    },
    {
     "name": "stdout",
     "output_type": "stream",
     "text": [
      "Epoch 77/100, Loss: 0.0020936905082775607, Val_Recall: 97.63165869760671%\n"
     ]
    },
    {
     "name": "stderr",
     "output_type": "stream",
     "text": [
      "100%|█████████████████████████████████████████████████████████████████████████████████████████████████████| 1148/1148 [00:44<00:00, 25.79it/s]\n",
      "100%|███████████████████████████████████████████████████████████████████████████████████████████████████████| 157/157 [00:02<00:00, 71.00it/s]\n"
     ]
    },
    {
     "name": "stdout",
     "output_type": "stream",
     "text": [
      "Epoch 78/100, Loss: 0.002608144414437047, Val_Recall: 95.49607630646065%\n",
      "Early stopping\n",
      "Loaded pretrained weights for efficientnet-b0\n"
     ]
    },
    {
     "name": "stderr",
     "output_type": "stream",
     "text": [
      "100%|█████████████████████████████████████████████████████████████████████████████████████████████████████| 1148/1148 [00:44<00:00, 25.85it/s]\n",
      "100%|███████████████████████████████████████████████████████████████████████████████████████████████████████| 157/157 [00:02<00:00, 71.06it/s]\n"
     ]
    },
    {
     "name": "stdout",
     "output_type": "stream",
     "text": [
      "Epoch 1/100, Loss: 0.010642779402231422, Val_Recall: 95.62986509519543%\n",
      "Model saved based on lowest validation loss.\n"
     ]
    },
    {
     "name": "stderr",
     "output_type": "stream",
     "text": [
      "100%|█████████████████████████████████████████████████████████████████████████████████████████████████████| 1148/1148 [00:44<00:00, 25.86it/s]\n",
      "100%|███████████████████████████████████████████████████████████████████████████████████████████████████████| 157/157 [00:02<00:00, 71.51it/s]\n"
     ]
    },
    {
     "name": "stdout",
     "output_type": "stream",
     "text": [
      "Epoch 2/100, Loss: 0.0015332527886562576, Val_Recall: 97.0380649786903%\n",
      "Model saved based on lowest validation loss.\n"
     ]
    },
    {
     "name": "stderr",
     "output_type": "stream",
     "text": [
      "100%|█████████████████████████████████████████████████████████████████████████████████████████████████████| 1148/1148 [00:44<00:00, 25.87it/s]\n",
      "100%|███████████████████████████████████████████████████████████████████████████████████████████████████████| 157/157 [00:02<00:00, 71.46it/s]\n"
     ]
    },
    {
     "name": "stdout",
     "output_type": "stream",
     "text": [
      "Epoch 3/100, Loss: 0.0034769798049452253, Val_Recall: 98.11698589522072%\n"
     ]
    },
    {
     "name": "stderr",
     "output_type": "stream",
     "text": [
      "100%|█████████████████████████████████████████████████████████████████████████████████████████████████████| 1148/1148 [00:44<00:00, 25.85it/s]\n",
      "100%|███████████████████████████████████████████████████████████████████████████████████████████████████████| 157/157 [00:02<00:00, 70.01it/s]\n"
     ]
    },
    {
     "name": "stdout",
     "output_type": "stream",
     "text": [
      "Epoch 4/100, Loss: 0.005084887608640605, Val_Recall: 95.15660061354953%\n"
     ]
    },
    {
     "name": "stderr",
     "output_type": "stream",
     "text": [
      "100%|█████████████████████████████████████████████████████████████████████████████████████████████████████| 1148/1148 [00:44<00:00, 25.83it/s]\n",
      "100%|███████████████████████████████████████████████████████████████████████████████████████████████████████| 157/157 [00:02<00:00, 70.48it/s]\n"
     ]
    },
    {
     "name": "stdout",
     "output_type": "stream",
     "text": [
      "Epoch 5/100, Loss: 0.00366781940098487, Val_Recall: 94.06259470404102%\n"
     ]
    },
    {
     "name": "stderr",
     "output_type": "stream",
     "text": [
      "100%|█████████████████████████████████████████████████████████████████████████████████████████████████████| 1148/1148 [00:44<00:00, 25.86it/s]\n",
      "100%|███████████████████████████████████████████████████████████████████████████████████████████████████████| 157/157 [00:02<00:00, 70.98it/s]\n"
     ]
    },
    {
     "name": "stdout",
     "output_type": "stream",
     "text": [
      "Epoch 6/100, Loss: 0.003424294510241658, Val_Recall: 96.67727136969071%\n"
     ]
    },
    {
     "name": "stderr",
     "output_type": "stream",
     "text": [
      "100%|█████████████████████████████████████████████████████████████████████████████████████████████████████| 1148/1148 [00:44<00:00, 25.84it/s]\n",
      "100%|███████████████████████████████████████████████████████████████████████████████████████████████████████| 157/157 [00:02<00:00, 71.36it/s]\n"
     ]
    },
    {
     "name": "stdout",
     "output_type": "stream",
     "text": [
      "Epoch 7/100, Loss: 0.001994919270179995, Val_Recall: 94.90906918799624%\n"
     ]
    },
    {
     "name": "stderr",
     "output_type": "stream",
     "text": [
      "100%|█████████████████████████████████████████████████████████████████████████████████████████████████████| 1148/1148 [00:44<00:00, 25.87it/s]\n",
      "100%|███████████████████████████████████████████████████████████████████████████████████████████████████████| 157/157 [00:02<00:00, 71.61it/s]\n"
     ]
    },
    {
     "name": "stdout",
     "output_type": "stream",
     "text": [
      "Epoch 8/100, Loss: 0.0024865318774829805, Val_Recall: 96.62347230626459%\n"
     ]
    },
    {
     "name": "stderr",
     "output_type": "stream",
     "text": [
      "100%|█████████████████████████████████████████████████████████████████████████████████████████████████████| 1148/1148 [00:44<00:00, 25.86it/s]\n",
      "100%|███████████████████████████████████████████████████████████████████████████████████████████████████████| 157/157 [00:02<00:00, 71.53it/s]\n"
     ]
    },
    {
     "name": "stdout",
     "output_type": "stream",
     "text": [
      "Epoch 9/100, Loss: 0.004413255215664243, Val_Recall: 90.68309047496541%\n"
     ]
    },
    {
     "name": "stderr",
     "output_type": "stream",
     "text": [
      "100%|█████████████████████████████████████████████████████████████████████████████████████████████████████| 1148/1148 [00:44<00:00, 25.83it/s]\n",
      "100%|███████████████████████████████████████████████████████████████████████████████████████████████████████| 157/157 [00:02<00:00, 70.58it/s]\n"
     ]
    },
    {
     "name": "stdout",
     "output_type": "stream",
     "text": [
      "Epoch 10/100, Loss: 0.0019343001494342147, Val_Recall: 97.01358561192049%\n"
     ]
    },
    {
     "name": "stderr",
     "output_type": "stream",
     "text": [
      "100%|█████████████████████████████████████████████████████████████████████████████████████████████████████| 1148/1148 [00:44<00:00, 25.84it/s]\n",
      "100%|███████████████████████████████████████████████████████████████████████████████████████████████████████| 157/157 [00:02<00:00, 70.72it/s]\n"
     ]
    },
    {
     "name": "stdout",
     "output_type": "stream",
     "text": [
      "Epoch 11/100, Loss: 0.004700442490571477, Val_Recall: 92.64284694513634%\n"
     ]
    },
    {
     "name": "stderr",
     "output_type": "stream",
     "text": [
      "100%|█████████████████████████████████████████████████████████████████████████████████████████████████████| 1148/1148 [00:44<00:00, 25.86it/s]\n",
      "100%|███████████████████████████████████████████████████████████████████████████████████████████████████████| 157/157 [00:02<00:00, 71.11it/s]\n"
     ]
    },
    {
     "name": "stdout",
     "output_type": "stream",
     "text": [
      "Epoch 12/100, Loss: 0.0017195234928235109, Val_Recall: 97.07163979058934%\n"
     ]
    },
    {
     "name": "stderr",
     "output_type": "stream",
     "text": [
      "100%|█████████████████████████████████████████████████████████████████████████████████████████████████████| 1148/1148 [00:44<00:00, 25.86it/s]\n",
      "100%|███████████████████████████████████████████████████████████████████████████████████████████████████████| 157/157 [00:02<00:00, 72.42it/s]\n"
     ]
    },
    {
     "name": "stdout",
     "output_type": "stream",
     "text": [
      "Epoch 13/100, Loss: 0.0014715477819442684, Val_Recall: 97.79683523381571%\n",
      "Model saved based on lowest validation loss.\n"
     ]
    },
    {
     "name": "stderr",
     "output_type": "stream",
     "text": [
      "100%|█████████████████████████████████████████████████████████████████████████████████████████████████████| 1148/1148 [00:44<00:00, 25.91it/s]\n",
      "100%|███████████████████████████████████████████████████████████████████████████████████████████████████████| 157/157 [00:02<00:00, 71.12it/s]\n"
     ]
    },
    {
     "name": "stdout",
     "output_type": "stream",
     "text": [
      "Epoch 14/100, Loss: 0.004662385875879921, Val_Recall: 97.93395703567256%\n"
     ]
    },
    {
     "name": "stderr",
     "output_type": "stream",
     "text": [
      "100%|█████████████████████████████████████████████████████████████████████████████████████████████████████| 1148/1148 [00:44<00:00, 25.93it/s]\n",
      "100%|███████████████████████████████████████████████████████████████████████████████████████████████████████| 157/157 [00:02<00:00, 71.10it/s]\n"
     ]
    },
    {
     "name": "stdout",
     "output_type": "stream",
     "text": [
      "Epoch 15/100, Loss: 0.0034195635327798164, Val_Recall: 97.0504643208596%\n"
     ]
    },
    {
     "name": "stderr",
     "output_type": "stream",
     "text": [
      "100%|█████████████████████████████████████████████████████████████████████████████████████████████████████| 1148/1148 [00:44<00:00, 25.82it/s]\n",
      "100%|███████████████████████████████████████████████████████████████████████████████████████████████████████| 157/157 [00:02<00:00, 71.22it/s]\n"
     ]
    },
    {
     "name": "stdout",
     "output_type": "stream",
     "text": [
      "Epoch 16/100, Loss: 0.001849809034791982, Val_Recall: 95.08080313405526%\n"
     ]
    },
    {
     "name": "stderr",
     "output_type": "stream",
     "text": [
      "100%|█████████████████████████████████████████████████████████████████████████████████████████████████████| 1148/1148 [00:44<00:00, 25.80it/s]\n",
      "100%|███████████████████████████████████████████████████████████████████████████████████████████████████████| 157/157 [00:02<00:00, 70.83it/s]\n"
     ]
    },
    {
     "name": "stdout",
     "output_type": "stream",
     "text": [
      "Epoch 17/100, Loss: 0.003551509931851582, Val_Recall: 94.01308998539739%\n"
     ]
    },
    {
     "name": "stderr",
     "output_type": "stream",
     "text": [
      "100%|█████████████████████████████████████████████████████████████████████████████████████████████████████| 1148/1148 [00:44<00:00, 25.90it/s]\n",
      "100%|███████████████████████████████████████████████████████████████████████████████████████████████████████| 157/157 [00:02<00:00, 69.36it/s]\n"
     ]
    },
    {
     "name": "stdout",
     "output_type": "stream",
     "text": [
      "Epoch 18/100, Loss: 0.008590603354203412, Val_Recall: 93.90636004830382%\n"
     ]
    },
    {
     "name": "stderr",
     "output_type": "stream",
     "text": [
      "100%|█████████████████████████████████████████████████████████████████████████████████████████████████████| 1148/1148 [00:44<00:00, 25.84it/s]\n",
      "100%|███████████████████████████████████████████████████████████████████████████████████████████████████████| 157/157 [00:02<00:00, 72.05it/s]\n"
     ]
    },
    {
     "name": "stdout",
     "output_type": "stream",
     "text": [
      "Epoch 19/100, Loss: 0.0013505500248784416, Val_Recall: 98.49707114617514%\n",
      "Model saved based on lowest validation loss.\n"
     ]
    },
    {
     "name": "stderr",
     "output_type": "stream",
     "text": [
      "100%|█████████████████████████████████████████████████████████████████████████████████████████████████████| 1148/1148 [00:44<00:00, 25.84it/s]\n",
      "100%|███████████████████████████████████████████████████████████████████████████████████████████████████████| 157/157 [00:02<00:00, 71.62it/s]\n"
     ]
    },
    {
     "name": "stdout",
     "output_type": "stream",
     "text": [
      "Epoch 20/100, Loss: 0.01568307413539505, Val_Recall: 88.3212644562172%\n"
     ]
    },
    {
     "name": "stderr",
     "output_type": "stream",
     "text": [
      "100%|█████████████████████████████████████████████████████████████████████████████████████████████████████| 1148/1148 [00:44<00:00, 25.92it/s]\n",
      "100%|███████████████████████████████████████████████████████████████████████████████████████████████████████| 157/157 [00:02<00:00, 71.08it/s]\n"
     ]
    },
    {
     "name": "stdout",
     "output_type": "stream",
     "text": [
      "Epoch 21/100, Loss: 0.001454283065639186, Val_Recall: 96.8775361226526%\n"
     ]
    },
    {
     "name": "stderr",
     "output_type": "stream",
     "text": [
      "100%|█████████████████████████████████████████████████████████████████████████████████████████████████████| 1148/1148 [00:44<00:00, 25.76it/s]\n",
      "100%|███████████████████████████████████████████████████████████████████████████████████████████████████████| 157/157 [00:02<00:00, 70.72it/s]\n"
     ]
    },
    {
     "name": "stdout",
     "output_type": "stream",
     "text": [
      "Epoch 22/100, Loss: 0.005724545076370108, Val_Recall: 95.57613373876902%\n"
     ]
    },
    {
     "name": "stderr",
     "output_type": "stream",
     "text": [
      "100%|█████████████████████████████████████████████████████████████████████████████████████████████████████| 1148/1148 [00:44<00:00, 25.82it/s]\n",
      "100%|███████████████████████████████████████████████████████████████████████████████████████████████████████| 157/157 [00:02<00:00, 71.15it/s]\n"
     ]
    },
    {
     "name": "stdout",
     "output_type": "stream",
     "text": [
      "Epoch 23/100, Loss: 0.002198447291248346, Val_Recall: 95.20392414378692%\n"
     ]
    },
    {
     "name": "stderr",
     "output_type": "stream",
     "text": [
      "100%|█████████████████████████████████████████████████████████████████████████████████████████████████████| 1148/1148 [00:44<00:00, 25.90it/s]\n",
      "100%|███████████████████████████████████████████████████████████████████████████████████████████████████████| 157/157 [00:02<00:00, 70.40it/s]\n"
     ]
    },
    {
     "name": "stdout",
     "output_type": "stream",
     "text": [
      "Epoch 24/100, Loss: 0.001502113763690192, Val_Recall: 94.2737832687226%\n"
     ]
    },
    {
     "name": "stderr",
     "output_type": "stream",
     "text": [
      "100%|█████████████████████████████████████████████████████████████████████████████████████████████████████| 1148/1148 [00:44<00:00, 25.87it/s]\n",
      "100%|███████████████████████████████████████████████████████████████████████████████████████████████████████| 157/157 [00:02<00:00, 70.30it/s]\n"
     ]
    },
    {
     "name": "stdout",
     "output_type": "stream",
     "text": [
      "Epoch 25/100, Loss: 0.0014488078380081098, Val_Recall: 96.62432519889576%\n"
     ]
    },
    {
     "name": "stderr",
     "output_type": "stream",
     "text": [
      "100%|█████████████████████████████████████████████████████████████████████████████████████████████████████| 1148/1148 [00:44<00:00, 25.89it/s]\n",
      "100%|███████████████████████████████████████████████████████████████████████████████████████████████████████| 157/157 [00:02<00:00, 70.96it/s]\n"
     ]
    },
    {
     "name": "stdout",
     "output_type": "stream",
     "text": [
      "Epoch 26/100, Loss: 0.0017885406803164782, Val_Recall: 97.14048122664867%\n"
     ]
    },
    {
     "name": "stderr",
     "output_type": "stream",
     "text": [
      "100%|█████████████████████████████████████████████████████████████████████████████████████████████████████| 1148/1148 [00:44<00:00, 25.58it/s]\n",
      "100%|███████████████████████████████████████████████████████████████████████████████████████████████████████| 157/157 [00:02<00:00, 71.35it/s]\n"
     ]
    },
    {
     "name": "stdout",
     "output_type": "stream",
     "text": [
      "Epoch 27/100, Loss: 0.002926595801003108, Val_Recall: 92.9406510855498%\n"
     ]
    },
    {
     "name": "stderr",
     "output_type": "stream",
     "text": [
      "100%|█████████████████████████████████████████████████████████████████████████████████████████████████████| 1148/1148 [00:44<00:00, 25.84it/s]\n",
      "100%|███████████████████████████████████████████████████████████████████████████████████████████████████████| 157/157 [00:02<00:00, 70.46it/s]\n"
     ]
    },
    {
     "name": "stdout",
     "output_type": "stream",
     "text": [
      "Epoch 28/100, Loss: 0.003242880104540804, Val_Recall: 94.19930706377151%\n"
     ]
    },
    {
     "name": "stderr",
     "output_type": "stream",
     "text": [
      "100%|█████████████████████████████████████████████████████████████████████████████████████████████████████| 1148/1148 [00:44<00:00, 25.94it/s]\n",
      "100%|███████████████████████████████████████████████████████████████████████████████████████████████████████| 157/157 [00:02<00:00, 71.06it/s]\n"
     ]
    },
    {
     "name": "stdout",
     "output_type": "stream",
     "text": [
      "Epoch 29/100, Loss: 0.004079447761420261, Val_Recall: 90.0070579781769%\n"
     ]
    },
    {
     "name": "stderr",
     "output_type": "stream",
     "text": [
      "100%|█████████████████████████████████████████████████████████████████████████████████████████████████████| 1148/1148 [00:44<00:00, 25.81it/s]\n",
      "100%|███████████████████████████████████████████████████████████████████████████████████████████████████████| 157/157 [00:02<00:00, 71.68it/s]\n"
     ]
    },
    {
     "name": "stdout",
     "output_type": "stream",
     "text": [
      "Epoch 30/100, Loss: 0.003709592439449419, Val_Recall: 93.01807461124801%\n"
     ]
    },
    {
     "name": "stderr",
     "output_type": "stream",
     "text": [
      "100%|█████████████████████████████████████████████████████████████████████████████████████████████████████| 1148/1148 [00:44<00:00, 25.78it/s]\n",
      "100%|███████████████████████████████████████████████████████████████████████████████████████████████████████| 157/157 [00:02<00:00, 70.52it/s]\n"
     ]
    },
    {
     "name": "stdout",
     "output_type": "stream",
     "text": [
      "Epoch 31/100, Loss: 0.0021821512457033242, Val_Recall: 95.25848902076746%\n"
     ]
    },
    {
     "name": "stderr",
     "output_type": "stream",
     "text": [
      "100%|█████████████████████████████████████████████████████████████████████████████████████████████████████| 1148/1148 [00:44<00:00, 25.89it/s]\n",
      "100%|███████████████████████████████████████████████████████████████████████████████████████████████████████| 157/157 [00:02<00:00, 71.19it/s]\n"
     ]
    },
    {
     "name": "stdout",
     "output_type": "stream",
     "text": [
      "Epoch 32/100, Loss: 0.0009140280280742774, Val_Recall: 97.38289320373403%\n",
      "Model saved based on lowest validation loss.\n"
     ]
    },
    {
     "name": "stderr",
     "output_type": "stream",
     "text": [
      "100%|█████████████████████████████████████████████████████████████████████████████████████████████████████| 1148/1148 [00:44<00:00, 25.88it/s]\n",
      "100%|███████████████████████████████████████████████████████████████████████████████████████████████████████| 157/157 [00:02<00:00, 72.22it/s]\n"
     ]
    },
    {
     "name": "stdout",
     "output_type": "stream",
     "text": [
      "Epoch 33/100, Loss: 0.013107676746073202, Val_Recall: 86.78432540878363%\n"
     ]
    },
    {
     "name": "stderr",
     "output_type": "stream",
     "text": [
      "100%|█████████████████████████████████████████████████████████████████████████████████████████████████████| 1148/1148 [00:44<00:00, 25.81it/s]\n",
      "100%|███████████████████████████████████████████████████████████████████████████████████████████████████████| 157/157 [00:02<00:00, 71.63it/s]\n"
     ]
    },
    {
     "name": "stdout",
     "output_type": "stream",
     "text": [
      "Epoch 34/100, Loss: 0.0012036290863731466, Val_Recall: 96.88368368188361%\n"
     ]
    },
    {
     "name": "stderr",
     "output_type": "stream",
     "text": [
      "100%|█████████████████████████████████████████████████████████████████████████████████████████████████████| 1148/1148 [00:44<00:00, 25.85it/s]\n",
      "100%|███████████████████████████████████████████████████████████████████████████████████████████████████████| 157/157 [00:02<00:00, 71.07it/s]\n"
     ]
    },
    {
     "name": "stdout",
     "output_type": "stream",
     "text": [
      "Epoch 35/100, Loss: 0.0010254491710072636, Val_Recall: 97.41927743069928%\n"
     ]
    },
    {
     "name": "stderr",
     "output_type": "stream",
     "text": [
      "100%|█████████████████████████████████████████████████████████████████████████████████████████████████████| 1148/1148 [00:44<00:00, 25.87it/s]\n",
      "100%|███████████████████████████████████████████████████████████████████████████████████████████████████████| 157/157 [00:02<00:00, 71.44it/s]\n"
     ]
    },
    {
     "name": "stdout",
     "output_type": "stream",
     "text": [
      "Epoch 36/100, Loss: 0.002049489077093659, Val_Recall: 96.57541868499962%\n"
     ]
    },
    {
     "name": "stderr",
     "output_type": "stream",
     "text": [
      "100%|█████████████████████████████████████████████████████████████████████████████████████████████████████| 1148/1148 [00:44<00:00, 25.80it/s]\n",
      "100%|███████████████████████████████████████████████████████████████████████████████████████████████████████| 157/157 [00:02<00:00, 71.20it/s]\n"
     ]
    },
    {
     "name": "stdout",
     "output_type": "stream",
     "text": [
      "Epoch 37/100, Loss: 0.003375899228922902, Val_Recall: 94.00733467335756%\n"
     ]
    },
    {
     "name": "stderr",
     "output_type": "stream",
     "text": [
      "100%|█████████████████████████████████████████████████████████████████████████████████████████████████████| 1148/1148 [00:44<00:00, 25.84it/s]\n",
      "100%|███████████████████████████████████████████████████████████████████████████████████████████████████████| 157/157 [00:02<00:00, 71.81it/s]\n"
     ]
    },
    {
     "name": "stdout",
     "output_type": "stream",
     "text": [
      "Epoch 38/100, Loss: 0.005363734257483708, Val_Recall: 92.57587605532423%\n"
     ]
    },
    {
     "name": "stderr",
     "output_type": "stream",
     "text": [
      "100%|█████████████████████████████████████████████████████████████████████████████████████████████████████| 1148/1148 [00:44<00:00, 25.84it/s]\n",
      "100%|███████████████████████████████████████████████████████████████████████████████████████████████████████| 157/157 [00:02<00:00, 71.10it/s]\n"
     ]
    },
    {
     "name": "stdout",
     "output_type": "stream",
     "text": [
      "Epoch 39/100, Loss: 0.0015124812772764281, Val_Recall: 96.39146300050578%\n"
     ]
    },
    {
     "name": "stderr",
     "output_type": "stream",
     "text": [
      "100%|█████████████████████████████████████████████████████████████████████████████████████████████████████| 1148/1148 [00:44<00:00, 25.89it/s]\n",
      "100%|███████████████████████████████████████████████████████████████████████████████████████████████████████| 157/157 [00:02<00:00, 71.47it/s]\n"
     ]
    },
    {
     "name": "stdout",
     "output_type": "stream",
     "text": [
      "Epoch 40/100, Loss: 0.004354299756187984, Val_Recall: 92.70443348803875%\n"
     ]
    },
    {
     "name": "stderr",
     "output_type": "stream",
     "text": [
      "100%|█████████████████████████████████████████████████████████████████████████████████████████████████████| 1148/1148 [00:44<00:00, 25.85it/s]\n",
      "100%|███████████████████████████████████████████████████████████████████████████████████████████████████████| 157/157 [00:02<00:00, 71.13it/s]\n"
     ]
    },
    {
     "name": "stdout",
     "output_type": "stream",
     "text": [
      "Epoch 41/100, Loss: 0.0016865612362523667, Val_Recall: 94.39667477828326%\n"
     ]
    },
    {
     "name": "stderr",
     "output_type": "stream",
     "text": [
      "100%|█████████████████████████████████████████████████████████████████████████████████████████████████████| 1148/1148 [00:44<00:00, 25.79it/s]\n",
      "100%|███████████████████████████████████████████████████████████████████████████████████████████████████████| 157/157 [00:02<00:00, 70.77it/s]\n"
     ]
    },
    {
     "name": "stdout",
     "output_type": "stream",
     "text": [
      "Epoch 42/100, Loss: 0.0034358151474381863, Val_Recall: 96.74273811012102%\n"
     ]
    },
    {
     "name": "stderr",
     "output_type": "stream",
     "text": [
      "100%|█████████████████████████████████████████████████████████████████████████████████████████████████████| 1148/1148 [00:44<00:00, 25.80it/s]\n",
      "100%|███████████████████████████████████████████████████████████████████████████████████████████████████████| 157/157 [00:02<00:00, 71.77it/s]\n"
     ]
    },
    {
     "name": "stdout",
     "output_type": "stream",
     "text": [
      "Epoch 43/100, Loss: 0.008405575797844537, Val_Recall: 90.79890778122319%\n"
     ]
    },
    {
     "name": "stderr",
     "output_type": "stream",
     "text": [
      "100%|█████████████████████████████████████████████████████████████████████████████████████████████████████| 1148/1148 [00:44<00:00, 25.92it/s]\n",
      "100%|███████████████████████████████████████████████████████████████████████████████████████████████████████| 157/157 [00:02<00:00, 71.60it/s]\n"
     ]
    },
    {
     "name": "stdout",
     "output_type": "stream",
     "text": [
      "Epoch 44/100, Loss: 0.00475645781658701, Val_Recall: 93.7472500803385%\n"
     ]
    },
    {
     "name": "stderr",
     "output_type": "stream",
     "text": [
      "100%|█████████████████████████████████████████████████████████████████████████████████████████████████████| 1148/1148 [00:44<00:00, 25.89it/s]\n",
      "100%|███████████████████████████████████████████████████████████████████████████████████████████████████████| 157/157 [00:02<00:00, 71.06it/s]\n"
     ]
    },
    {
     "name": "stdout",
     "output_type": "stream",
     "text": [
      "Epoch 45/100, Loss: 0.001752921475274678, Val_Recall: 94.45090321098553%\n"
     ]
    },
    {
     "name": "stderr",
     "output_type": "stream",
     "text": [
      "100%|█████████████████████████████████████████████████████████████████████████████████████████████████████| 1148/1148 [00:44<00:00, 25.82it/s]\n",
      "100%|███████████████████████████████████████████████████████████████████████████████████████████████████████| 157/157 [00:02<00:00, 69.59it/s]\n"
     ]
    },
    {
     "name": "stdout",
     "output_type": "stream",
     "text": [
      "Epoch 46/100, Loss: 0.004513086166462412, Val_Recall: 95.27730639275276%\n"
     ]
    },
    {
     "name": "stderr",
     "output_type": "stream",
     "text": [
      "100%|█████████████████████████████████████████████████████████████████████████████████████████████████████| 1148/1148 [00:44<00:00, 25.82it/s]\n",
      "100%|███████████████████████████████████████████████████████████████████████████████████████████████████████| 157/157 [00:02<00:00, 71.35it/s]\n"
     ]
    },
    {
     "name": "stdout",
     "output_type": "stream",
     "text": [
      "Epoch 47/100, Loss: 0.00265896101181349, Val_Recall: 95.2602509298273%\n"
     ]
    },
    {
     "name": "stderr",
     "output_type": "stream",
     "text": [
      "100%|█████████████████████████████████████████████████████████████████████████████████████████████████████| 1148/1148 [00:44<00:00, 25.81it/s]\n",
      "100%|███████████████████████████████████████████████████████████████████████████████████████████████████████| 157/157 [00:02<00:00, 71.45it/s]\n"
     ]
    },
    {
     "name": "stdout",
     "output_type": "stream",
     "text": [
      "Epoch 48/100, Loss: 0.004103172197815306, Val_Recall: 95.2955006936111%\n"
     ]
    },
    {
     "name": "stderr",
     "output_type": "stream",
     "text": [
      "100%|█████████████████████████████████████████████████████████████████████████████████████████████████████| 1148/1148 [00:44<00:00, 25.81it/s]\n",
      "100%|███████████████████████████████████████████████████████████████████████████████████████████████████████| 157/157 [00:02<00:00, 71.10it/s]\n"
     ]
    },
    {
     "name": "stdout",
     "output_type": "stream",
     "text": [
      "Epoch 49/100, Loss: 0.0007332465084701485, Val_Recall: 98.63423754804798%\n",
      "Model saved based on lowest validation loss.\n"
     ]
    },
    {
     "name": "stderr",
     "output_type": "stream",
     "text": [
      "100%|█████████████████████████████████████████████████████████████████████████████████████████████████████| 1148/1148 [00:44<00:00, 25.92it/s]\n",
      "100%|███████████████████████████████████████████████████████████████████████████████████████████████████████| 157/157 [00:02<00:00, 70.49it/s]\n"
     ]
    },
    {
     "name": "stdout",
     "output_type": "stream",
     "text": [
      "Epoch 50/100, Loss: 0.00824762836786666, Val_Recall: 90.83595223824074%\n"
     ]
    },
    {
     "name": "stderr",
     "output_type": "stream",
     "text": [
      "100%|█████████████████████████████████████████████████████████████████████████████████████████████████████| 1148/1148 [00:44<00:00, 25.84it/s]\n",
      "100%|███████████████████████████████████████████████████████████████████████████████████████████████████████| 157/157 [00:02<00:00, 71.48it/s]\n"
     ]
    },
    {
     "name": "stdout",
     "output_type": "stream",
     "text": [
      "Epoch 51/100, Loss: 0.0021768975521599364, Val_Recall: 97.70631790454347%\n"
     ]
    },
    {
     "name": "stderr",
     "output_type": "stream",
     "text": [
      "100%|█████████████████████████████████████████████████████████████████████████████████████████████████████| 1148/1148 [00:44<00:00, 25.88it/s]\n",
      "100%|███████████████████████████████████████████████████████████████████████████████████████████████████████| 157/157 [00:02<00:00, 71.79it/s]\n"
     ]
    },
    {
     "name": "stdout",
     "output_type": "stream",
     "text": [
      "Epoch 52/100, Loss: 0.003992448761808041, Val_Recall: 95.86041860943716%\n"
     ]
    },
    {
     "name": "stderr",
     "output_type": "stream",
     "text": [
      "100%|█████████████████████████████████████████████████████████████████████████████████████████████████████| 1148/1148 [00:44<00:00, 25.84it/s]\n",
      "100%|███████████████████████████████████████████████████████████████████████████████████████████████████████| 157/157 [00:02<00:00, 71.69it/s]\n"
     ]
    },
    {
     "name": "stdout",
     "output_type": "stream",
     "text": [
      "Epoch 53/100, Loss: 0.009467525350076814, Val_Recall: 92.6165866660458%\n"
     ]
    },
    {
     "name": "stderr",
     "output_type": "stream",
     "text": [
      "100%|█████████████████████████████████████████████████████████████████████████████████████████████████████| 1148/1148 [00:44<00:00, 25.79it/s]\n",
      "100%|███████████████████████████████████████████████████████████████████████████████████████████████████████| 157/157 [00:02<00:00, 71.89it/s]\n"
     ]
    },
    {
     "name": "stdout",
     "output_type": "stream",
     "text": [
      "Epoch 54/100, Loss: 0.0025089794281795545, Val_Recall: 97.87071728743759%\n"
     ]
    },
    {
     "name": "stderr",
     "output_type": "stream",
     "text": [
      "100%|█████████████████████████████████████████████████████████████████████████████████████████████████████| 1148/1148 [00:44<00:00, 25.81it/s]\n",
      "100%|███████████████████████████████████████████████████████████████████████████████████████████████████████| 157/157 [00:02<00:00, 71.19it/s]\n"
     ]
    },
    {
     "name": "stdout",
     "output_type": "stream",
     "text": [
      "Epoch 55/100, Loss: 0.0013815088035316974, Val_Recall: 98.34835552720679%\n"
     ]
    },
    {
     "name": "stderr",
     "output_type": "stream",
     "text": [
      "100%|█████████████████████████████████████████████████████████████████████████████████████████████████████| 1148/1148 [00:44<00:00, 25.84it/s]\n",
      "100%|███████████████████████████████████████████████████████████████████████████████████████████████████████| 157/157 [00:02<00:00, 70.98it/s]\n"
     ]
    },
    {
     "name": "stdout",
     "output_type": "stream",
     "text": [
      "Epoch 56/100, Loss: 0.00791032155383144, Val_Recall: 91.53426675417008%\n"
     ]
    },
    {
     "name": "stderr",
     "output_type": "stream",
     "text": [
      "100%|█████████████████████████████████████████████████████████████████████████████████████████████████████| 1148/1148 [00:44<00:00, 25.81it/s]\n",
      "100%|███████████████████████████████████████████████████████████████████████████████████████████████████████| 157/157 [00:02<00:00, 71.71it/s]\n"
     ]
    },
    {
     "name": "stdout",
     "output_type": "stream",
     "text": [
      "Epoch 57/100, Loss: 0.00120168080151652, Val_Recall: 99.00329901998472%\n"
     ]
    },
    {
     "name": "stderr",
     "output_type": "stream",
     "text": [
      "100%|█████████████████████████████████████████████████████████████████████████████████████████████████████| 1148/1148 [00:44<00:00, 25.84it/s]\n",
      "100%|███████████████████████████████████████████████████████████████████████████████████████████████████████| 157/157 [00:02<00:00, 68.46it/s]\n"
     ]
    },
    {
     "name": "stdout",
     "output_type": "stream",
     "text": [
      "Epoch 58/100, Loss: 0.004092361498029784, Val_Recall: 96.1045417731832%\n"
     ]
    },
    {
     "name": "stderr",
     "output_type": "stream",
     "text": [
      "100%|█████████████████████████████████████████████████████████████████████████████████████████████████████| 1148/1148 [00:44<00:00, 25.87it/s]\n",
      "100%|███████████████████████████████████████████████████████████████████████████████████████████████████████| 157/157 [00:02<00:00, 70.44it/s]\n"
     ]
    },
    {
     "name": "stdout",
     "output_type": "stream",
     "text": [
      "Epoch 59/100, Loss: 0.006228669886814864, Val_Recall: 87.728553017643%\n"
     ]
    },
    {
     "name": "stderr",
     "output_type": "stream",
     "text": [
      "100%|█████████████████████████████████████████████████████████████████████████████████████████████████████| 1148/1148 [00:44<00:00, 25.82it/s]\n",
      "100%|███████████████████████████████████████████████████████████████████████████████████████████████████████| 157/157 [00:02<00:00, 72.68it/s]\n"
     ]
    },
    {
     "name": "stdout",
     "output_type": "stream",
     "text": [
      "Epoch 60/100, Loss: 0.0037213371211965774, Val_Recall: 97.1057266350387%\n"
     ]
    },
    {
     "name": "stderr",
     "output_type": "stream",
     "text": [
      "100%|█████████████████████████████████████████████████████████████████████████████████████████████████████| 1148/1148 [00:44<00:00, 25.86it/s]\n",
      "100%|███████████████████████████████████████████████████████████████████████████████████████████████████████| 157/157 [00:02<00:00, 71.52it/s]\n"
     ]
    },
    {
     "name": "stdout",
     "output_type": "stream",
     "text": [
      "Epoch 61/100, Loss: 0.006986827598744116, Val_Recall: 92.98653646723693%\n"
     ]
    },
    {
     "name": "stderr",
     "output_type": "stream",
     "text": [
      "100%|█████████████████████████████████████████████████████████████████████████████████████████████████████| 1148/1148 [00:44<00:00, 25.82it/s]\n",
      "100%|███████████████████████████████████████████████████████████████████████████████████████████████████████| 157/157 [00:02<00:00, 70.42it/s]\n"
     ]
    },
    {
     "name": "stdout",
     "output_type": "stream",
     "text": [
      "Epoch 62/100, Loss: 0.0034754192416272672, Val_Recall: 94.85394902328234%\n"
     ]
    },
    {
     "name": "stderr",
     "output_type": "stream",
     "text": [
      "100%|█████████████████████████████████████████████████████████████████████████████████████████████████████| 1148/1148 [00:44<00:00, 25.86it/s]\n",
      "100%|███████████████████████████████████████████████████████████████████████████████████████████████████████| 157/157 [00:02<00:00, 71.00it/s]\n"
     ]
    },
    {
     "name": "stdout",
     "output_type": "stream",
     "text": [
      "Epoch 63/100, Loss: 0.0027092357237464564, Val_Recall: 95.69955274082291%\n"
     ]
    },
    {
     "name": "stderr",
     "output_type": "stream",
     "text": [
      "100%|█████████████████████████████████████████████████████████████████████████████████████████████████████| 1148/1148 [00:44<00:00, 25.88it/s]\n",
      "100%|███████████████████████████████████████████████████████████████████████████████████████████████████████| 157/157 [00:02<00:00, 70.17it/s]\n"
     ]
    },
    {
     "name": "stdout",
     "output_type": "stream",
     "text": [
      "Epoch 64/100, Loss: 0.002184204875653045, Val_Recall: 95.5935090456494%\n"
     ]
    },
    {
     "name": "stderr",
     "output_type": "stream",
     "text": [
      "100%|█████████████████████████████████████████████████████████████████████████████████████████████████████| 1148/1148 [00:44<00:00, 25.74it/s]\n",
      "100%|███████████████████████████████████████████████████████████████████████████████████████████████████████| 157/157 [00:02<00:00, 71.44it/s]\n"
     ]
    },
    {
     "name": "stdout",
     "output_type": "stream",
     "text": [
      "Epoch 65/100, Loss: 0.0026514109521167503, Val_Recall: 96.93974843792383%\n"
     ]
    },
    {
     "name": "stderr",
     "output_type": "stream",
     "text": [
      "100%|█████████████████████████████████████████████████████████████████████████████████████████████████████| 1148/1148 [00:44<00:00, 25.89it/s]\n",
      "100%|███████████████████████████████████████████████████████████████████████████████████████████████████████| 157/157 [00:02<00:00, 71.85it/s]\n"
     ]
    },
    {
     "name": "stdout",
     "output_type": "stream",
     "text": [
      "Epoch 66/100, Loss: 0.0015695664675974203, Val_Recall: 97.20967668619869%\n"
     ]
    },
    {
     "name": "stderr",
     "output_type": "stream",
     "text": [
      "100%|█████████████████████████████████████████████████████████████████████████████████████████████████████| 1148/1148 [00:44<00:00, 25.88it/s]\n",
      "100%|███████████████████████████████████████████████████████████████████████████████████████████████████████| 157/157 [00:02<00:00, 71.34it/s]\n"
     ]
    },
    {
     "name": "stdout",
     "output_type": "stream",
     "text": [
      "Epoch 67/100, Loss: 0.0013811589284852192, Val_Recall: 97.45422956327182%\n"
     ]
    },
    {
     "name": "stderr",
     "output_type": "stream",
     "text": [
      "100%|█████████████████████████████████████████████████████████████████████████████████████████████████████| 1148/1148 [00:44<00:00, 25.80it/s]\n",
      "100%|███████████████████████████████████████████████████████████████████████████████████████████████████████| 157/157 [00:02<00:00, 70.04it/s]\n"
     ]
    },
    {
     "name": "stdout",
     "output_type": "stream",
     "text": [
      "Epoch 68/100, Loss: 0.007033949295698692, Val_Recall: 93.6685653088589%\n"
     ]
    },
    {
     "name": "stderr",
     "output_type": "stream",
     "text": [
      "100%|█████████████████████████████████████████████████████████████████████████████████████████████████████| 1148/1148 [00:44<00:00, 25.80it/s]\n",
      "100%|███████████████████████████████████████████████████████████████████████████████████████████████████████| 157/157 [00:02<00:00, 70.60it/s]\n"
     ]
    },
    {
     "name": "stdout",
     "output_type": "stream",
     "text": [
      "Epoch 69/100, Loss: 0.0016516043441649289, Val_Recall: 96.22637413588717%\n"
     ]
    },
    {
     "name": "stderr",
     "output_type": "stream",
     "text": [
      "100%|█████████████████████████████████████████████████████████████████████████████████████████████████████| 1148/1148 [00:44<00:00, 25.84it/s]\n",
      "100%|███████████████████████████████████████████████████████████████████████████████████████████████████████| 157/157 [00:02<00:00, 71.57it/s]\n"
     ]
    },
    {
     "name": "stdout",
     "output_type": "stream",
     "text": [
      "Epoch 70/100, Loss: 0.009123113644091945, Val_Recall: 92.13695839581064%\n"
     ]
    },
    {
     "name": "stderr",
     "output_type": "stream",
     "text": [
      "100%|█████████████████████████████████████████████████████████████████████████████████████████████████████| 1148/1148 [00:44<00:00, 25.88it/s]\n",
      "100%|███████████████████████████████████████████████████████████████████████████████████████████████████████| 157/157 [00:02<00:00, 71.40it/s]\n"
     ]
    },
    {
     "name": "stdout",
     "output_type": "stream",
     "text": [
      "Epoch 71/100, Loss: 0.0013648420795125387, Val_Recall: 98.59414620513293%\n"
     ]
    },
    {
     "name": "stderr",
     "output_type": "stream",
     "text": [
      "100%|█████████████████████████████████████████████████████████████████████████████████████████████████████| 1148/1148 [00:44<00:00, 25.84it/s]\n",
      "100%|███████████████████████████████████████████████████████████████████████████████████████████████████████| 157/157 [00:02<00:00, 71.17it/s]\n"
     ]
    },
    {
     "name": "stdout",
     "output_type": "stream",
     "text": [
      "Epoch 72/100, Loss: 0.006717805257566144, Val_Recall: 90.41764288742144%\n"
     ]
    },
    {
     "name": "stderr",
     "output_type": "stream",
     "text": [
      "100%|█████████████████████████████████████████████████████████████████████████████████████████████████████| 1148/1148 [00:44<00:00, 25.86it/s]\n",
      "100%|███████████████████████████████████████████████████████████████████████████████████████████████████████| 157/157 [00:02<00:00, 71.26it/s]\n"
     ]
    },
    {
     "name": "stdout",
     "output_type": "stream",
     "text": [
      "Epoch 73/100, Loss: 0.003931556021052442, Val_Recall: 93.71437442315788%\n"
     ]
    },
    {
     "name": "stderr",
     "output_type": "stream",
     "text": [
      "100%|█████████████████████████████████████████████████████████████████████████████████████████████████████| 1148/1148 [00:44<00:00, 25.85it/s]\n",
      "100%|███████████████████████████████████████████████████████████████████████████████████████████████████████| 157/157 [00:02<00:00, 71.16it/s]\n"
     ]
    },
    {
     "name": "stdout",
     "output_type": "stream",
     "text": [
      "Epoch 74/100, Loss: 0.005006408869827006, Val_Recall: 93.31625270795966%\n"
     ]
    },
    {
     "name": "stderr",
     "output_type": "stream",
     "text": [
      "100%|█████████████████████████████████████████████████████████████████████████████████████████████████████| 1148/1148 [00:44<00:00, 25.80it/s]\n",
      "100%|███████████████████████████████████████████████████████████████████████████████████████████████████████| 157/157 [00:02<00:00, 71.09it/s]\n"
     ]
    },
    {
     "name": "stdout",
     "output_type": "stream",
     "text": [
      "Epoch 75/100, Loss: 0.005283611714686079, Val_Recall: 93.74152766407173%\n"
     ]
    },
    {
     "name": "stderr",
     "output_type": "stream",
     "text": [
      "100%|█████████████████████████████████████████████████████████████████████████████████████████████████████| 1148/1148 [00:44<00:00, 25.84it/s]\n",
      "100%|███████████████████████████████████████████████████████████████████████████████████████████████████████| 157/157 [00:02<00:00, 71.09it/s]\n"
     ]
    },
    {
     "name": "stdout",
     "output_type": "stream",
     "text": [
      "Epoch 76/100, Loss: 0.001875358521626001, Val_Recall: 94.43432938413717%\n"
     ]
    },
    {
     "name": "stderr",
     "output_type": "stream",
     "text": [
      "100%|█████████████████████████████████████████████████████████████████████████████████████████████████████| 1148/1148 [00:44<00:00, 25.87it/s]\n",
      "100%|███████████████████████████████████████████████████████████████████████████████████████████████████████| 157/157 [00:02<00:00, 71.24it/s]\n"
     ]
    },
    {
     "name": "stdout",
     "output_type": "stream",
     "text": [
      "Epoch 77/100, Loss: 0.08730026899476014, Val_Recall: 76.84644212658131%\n"
     ]
    },
    {
     "name": "stderr",
     "output_type": "stream",
     "text": [
      "100%|█████████████████████████████████████████████████████████████████████████████████████████████████████| 1148/1148 [00:44<00:00, 25.86it/s]\n",
      "100%|███████████████████████████████████████████████████████████████████████████████████████████████████████| 157/157 [00:02<00:00, 71.14it/s]\n"
     ]
    },
    {
     "name": "stdout",
     "output_type": "stream",
     "text": [
      "Epoch 78/100, Loss: 0.0026731599570747537, Val_Recall: 97.35904528363379%\n"
     ]
    },
    {
     "name": "stderr",
     "output_type": "stream",
     "text": [
      "100%|█████████████████████████████████████████████████████████████████████████████████████████████████████| 1148/1148 [00:44<00:00, 25.78it/s]\n",
      "100%|███████████████████████████████████████████████████████████████████████████████████████████████████████| 157/157 [00:02<00:00, 70.79it/s]\n"
     ]
    },
    {
     "name": "stdout",
     "output_type": "stream",
     "text": [
      "Epoch 79/100, Loss: 0.0030398792599832087, Val_Recall: 95.26454156943873%\n",
      "Early stopping\n",
      "Loaded pretrained weights for efficientnet-b0\n"
     ]
    },
    {
     "name": "stderr",
     "output_type": "stream",
     "text": [
      "100%|█████████████████████████████████████████████████████████████████████████████████████████████████████| 1148/1148 [00:44<00:00, 25.85it/s]\n",
      "100%|███████████████████████████████████████████████████████████████████████████████████████████████████████| 157/157 [00:02<00:00, 70.82it/s]\n"
     ]
    },
    {
     "name": "stdout",
     "output_type": "stream",
     "text": [
      "Epoch 1/100, Loss: 0.001755244169350248, Val_Recall: 94.34939799259581%\n",
      "Model saved based on lowest validation loss.\n"
     ]
    },
    {
     "name": "stderr",
     "output_type": "stream",
     "text": [
      "100%|█████████████████████████████████████████████████████████████████████████████████████████████████████| 1148/1148 [00:44<00:00, 25.89it/s]\n",
      "100%|███████████████████████████████████████████████████████████████████████████████████████████████████████| 157/157 [00:02<00:00, 70.78it/s]\n"
     ]
    },
    {
     "name": "stdout",
     "output_type": "stream",
     "text": [
      "Epoch 2/100, Loss: 0.0010379732322221456, Val_Recall: 98.90226375176255%\n",
      "Model saved based on lowest validation loss.\n"
     ]
    },
    {
     "name": "stderr",
     "output_type": "stream",
     "text": [
      "100%|█████████████████████████████████████████████████████████████████████████████████████████████████████| 1148/1148 [00:44<00:00, 25.96it/s]\n",
      "100%|███████████████████████████████████████████████████████████████████████████████████████████████████████| 157/157 [00:02<00:00, 70.07it/s]\n"
     ]
    },
    {
     "name": "stdout",
     "output_type": "stream",
     "text": [
      "Epoch 3/100, Loss: 0.0009795302751042694, Val_Recall: 99.30574661635573%\n",
      "Model saved based on lowest validation loss.\n"
     ]
    },
    {
     "name": "stderr",
     "output_type": "stream",
     "text": [
      "100%|█████████████████████████████████████████████████████████████████████████████████████████████████████| 1148/1148 [00:44<00:00, 25.91it/s]\n",
      "100%|███████████████████████████████████████████████████████████████████████████████████████████████████████| 157/157 [00:02<00:00, 70.95it/s]\n"
     ]
    },
    {
     "name": "stdout",
     "output_type": "stream",
     "text": [
      "Epoch 4/100, Loss: 0.0009478215786521394, Val_Recall: 99.15872148903108%\n",
      "Model saved based on lowest validation loss.\n"
     ]
    },
    {
     "name": "stderr",
     "output_type": "stream",
     "text": [
      "100%|█████████████████████████████████████████████████████████████████████████████████████████████████████| 1148/1148 [00:44<00:00, 25.85it/s]\n",
      "100%|███████████████████████████████████████████████████████████████████████████████████████████████████████| 157/157 [00:02<00:00, 70.25it/s]\n"
     ]
    },
    {
     "name": "stdout",
     "output_type": "stream",
     "text": [
      "Epoch 5/100, Loss: 0.0008959315702759947, Val_Recall: 99.43399689412938%\n",
      "Model saved based on lowest validation loss.\n"
     ]
    },
    {
     "name": "stderr",
     "output_type": "stream",
     "text": [
      "100%|█████████████████████████████████████████████████████████████████████████████████████████████████████| 1148/1148 [00:44<00:00, 25.88it/s]\n",
      "100%|███████████████████████████████████████████████████████████████████████████████████████████████████████| 157/157 [00:02<00:00, 71.46it/s]\n"
     ]
    },
    {
     "name": "stdout",
     "output_type": "stream",
     "text": [
      "Epoch 6/100, Loss: 0.0008062939597193543, Val_Recall: 98.50589225971461%\n",
      "Model saved based on lowest validation loss.\n"
     ]
    },
    {
     "name": "stderr",
     "output_type": "stream",
     "text": [
      "100%|█████████████████████████████████████████████████████████████████████████████████████████████████████| 1148/1148 [00:44<00:00, 25.87it/s]\n",
      "100%|███████████████████████████████████████████████████████████████████████████████████████████████████████| 157/157 [00:02<00:00, 71.14it/s]\n"
     ]
    },
    {
     "name": "stdout",
     "output_type": "stream",
     "text": [
      "Epoch 7/100, Loss: 0.0013073169065881385, Val_Recall: 97.73350568610402%\n"
     ]
    },
    {
     "name": "stderr",
     "output_type": "stream",
     "text": [
      "100%|█████████████████████████████████████████████████████████████████████████████████████████████████████| 1148/1148 [00:44<00:00, 25.90it/s]\n",
      "100%|███████████████████████████████████████████████████████████████████████████████████████████████████████| 157/157 [00:02<00:00, 71.30it/s]\n"
     ]
    },
    {
     "name": "stdout",
     "output_type": "stream",
     "text": [
      "Epoch 8/100, Loss: 0.0007838389273467994, Val_Recall: 98.92920509361078%\n",
      "Model saved based on lowest validation loss.\n"
     ]
    },
    {
     "name": "stderr",
     "output_type": "stream",
     "text": [
      "100%|█████████████████████████████████████████████████████████████████████████████████████████████████████| 1148/1148 [00:44<00:00, 25.90it/s]\n",
      "100%|███████████████████████████████████████████████████████████████████████████████████████████████████████| 157/157 [00:02<00:00, 71.36it/s]\n"
     ]
    },
    {
     "name": "stdout",
     "output_type": "stream",
     "text": [
      "Epoch 9/100, Loss: 0.0011425331185364036, Val_Recall: 98.75022162633252%\n"
     ]
    },
    {
     "name": "stderr",
     "output_type": "stream",
     "text": [
      "100%|█████████████████████████████████████████████████████████████████████████████████████████████████████| 1148/1148 [00:44<00:00, 25.92it/s]\n",
      "100%|███████████████████████████████████████████████████████████████████████████████████████████████████████| 157/157 [00:02<00:00, 71.49it/s]\n"
     ]
    },
    {
     "name": "stdout",
     "output_type": "stream",
     "text": [
      "Epoch 10/100, Loss: 0.0011302233368642985, Val_Recall: 98.14302916814337%\n"
     ]
    },
    {
     "name": "stderr",
     "output_type": "stream",
     "text": [
      "100%|█████████████████████████████████████████████████████████████████████████████████████████████████████| 1148/1148 [00:44<00:00, 25.83it/s]\n",
      "100%|███████████████████████████████████████████████████████████████████████████████████████████████████████| 157/157 [00:02<00:00, 71.23it/s]\n"
     ]
    },
    {
     "name": "stdout",
     "output_type": "stream",
     "text": [
      "Epoch 11/100, Loss: 0.0009355931756401432, Val_Recall: 98.81099615101722%\n"
     ]
    },
    {
     "name": "stderr",
     "output_type": "stream",
     "text": [
      "100%|█████████████████████████████████████████████████████████████████████████████████████████████████████| 1148/1148 [00:44<00:00, 25.84it/s]\n",
      "100%|███████████████████████████████████████████████████████████████████████████████████████████████████████| 157/157 [00:02<00:00, 71.73it/s]\n"
     ]
    },
    {
     "name": "stdout",
     "output_type": "stream",
     "text": [
      "Epoch 12/100, Loss: 0.0006880651016967285, Val_Recall: 98.85217386563266%\n",
      "Model saved based on lowest validation loss.\n"
     ]
    },
    {
     "name": "stderr",
     "output_type": "stream",
     "text": [
      "100%|█████████████████████████████████████████████████████████████████████████████████████████████████████| 1148/1148 [00:44<00:00, 25.90it/s]\n",
      "100%|███████████████████████████████████████████████████████████████████████████████████████████████████████| 157/157 [00:02<00:00, 69.37it/s]\n"
     ]
    },
    {
     "name": "stdout",
     "output_type": "stream",
     "text": [
      "Epoch 13/100, Loss: 0.0011582378086154122, Val_Recall: 98.20849192967542%\n"
     ]
    },
    {
     "name": "stderr",
     "output_type": "stream",
     "text": [
      "100%|█████████████████████████████████████████████████████████████████████████████████████████████████████| 1148/1148 [00:44<00:00, 25.85it/s]\n",
      "100%|███████████████████████████████████████████████████████████████████████████████████████████████████████| 157/157 [00:02<00:00, 70.92it/s]\n"
     ]
    },
    {
     "name": "stdout",
     "output_type": "stream",
     "text": [
      "Epoch 14/100, Loss: 0.0011337057885056428, Val_Recall: 98.02058467949314%\n"
     ]
    },
    {
     "name": "stderr",
     "output_type": "stream",
     "text": [
      "100%|█████████████████████████████████████████████████████████████████████████████████████████████████████| 1148/1148 [00:44<00:00, 25.83it/s]\n",
      "100%|███████████████████████████████████████████████████████████████████████████████████████████████████████| 157/157 [00:02<00:00, 71.40it/s]\n"
     ]
    },
    {
     "name": "stdout",
     "output_type": "stream",
     "text": [
      "Epoch 15/100, Loss: 0.0009751487011486708, Val_Recall: 98.810772640562%\n"
     ]
    },
    {
     "name": "stderr",
     "output_type": "stream",
     "text": [
      "100%|█████████████████████████████████████████████████████████████████████████████████████████████████████| 1148/1148 [00:44<00:00, 25.88it/s]\n",
      "100%|███████████████████████████████████████████████████████████████████████████████████████████████████████| 157/157 [00:02<00:00, 70.16it/s]\n"
     ]
    },
    {
     "name": "stdout",
     "output_type": "stream",
     "text": [
      "Epoch 16/100, Loss: 0.0017323807637172031, Val_Recall: 97.04118157501097%\n"
     ]
    },
    {
     "name": "stderr",
     "output_type": "stream",
     "text": [
      "100%|█████████████████████████████████████████████████████████████████████████████████████████████████████| 1148/1148 [00:44<00:00, 25.88it/s]\n",
      "100%|███████████████████████████████████████████████████████████████████████████████████████████████████████| 157/157 [00:02<00:00, 70.08it/s]\n"
     ]
    },
    {
     "name": "stdout",
     "output_type": "stream",
     "text": [
      "Epoch 17/100, Loss: 0.0012406533432880082, Val_Recall: 98.48832172168086%\n"
     ]
    },
    {
     "name": "stderr",
     "output_type": "stream",
     "text": [
      "100%|█████████████████████████████████████████████████████████████████████████████████████████████████████| 1148/1148 [00:44<00:00, 25.88it/s]\n",
      "100%|███████████████████████████████████████████████████████████████████████████████████████████████████████| 157/157 [00:02<00:00, 70.78it/s]\n"
     ]
    },
    {
     "name": "stdout",
     "output_type": "stream",
     "text": [
      "Epoch 18/100, Loss: 0.001097103248154804, Val_Recall: 97.78973746158466%\n"
     ]
    },
    {
     "name": "stderr",
     "output_type": "stream",
     "text": [
      "100%|█████████████████████████████████████████████████████████████████████████████████████████████████████| 1148/1148 [00:44<00:00, 25.95it/s]\n",
      "100%|███████████████████████████████████████████████████████████████████████████████████████████████████████| 157/157 [00:02<00:00, 70.35it/s]\n"
     ]
    },
    {
     "name": "stdout",
     "output_type": "stream",
     "text": [
      "Epoch 19/100, Loss: 0.0009735546012162198, Val_Recall: 99.2960802207835%\n"
     ]
    },
    {
     "name": "stderr",
     "output_type": "stream",
     "text": [
      "100%|█████████████████████████████████████████████████████████████████████████████████████████████████████| 1148/1148 [00:44<00:00, 25.93it/s]\n",
      "100%|███████████████████████████████████████████████████████████████████████████████████████████████████████| 157/157 [00:02<00:00, 71.28it/s]\n"
     ]
    },
    {
     "name": "stdout",
     "output_type": "stream",
     "text": [
      "Epoch 20/100, Loss: 0.0007240134680755907, Val_Recall: 99.62411341833284%\n"
     ]
    },
    {
     "name": "stderr",
     "output_type": "stream",
     "text": [
      "100%|█████████████████████████████████████████████████████████████████████████████████████████████████████| 1148/1148 [00:44<00:00, 25.90it/s]\n",
      "100%|███████████████████████████████████████████████████████████████████████████████████████████████████████| 157/157 [00:02<00:00, 70.42it/s]\n"
     ]
    },
    {
     "name": "stdout",
     "output_type": "stream",
     "text": [
      "Epoch 21/100, Loss: 0.0006317261719988239, Val_Recall: 99.59694856602943%\n",
      "Model saved based on lowest validation loss.\n"
     ]
    },
    {
     "name": "stderr",
     "output_type": "stream",
     "text": [
      "100%|█████████████████████████████████████████████████████████████████████████████████████████████████████| 1148/1148 [00:44<00:00, 25.77it/s]\n",
      "100%|███████████████████████████████████████████████████████████████████████████████████████████████████████| 157/157 [00:02<00:00, 70.93it/s]\n"
     ]
    },
    {
     "name": "stdout",
     "output_type": "stream",
     "text": [
      "Epoch 22/100, Loss: 0.001994772401482786, Val_Recall: 96.74378124497176%\n"
     ]
    },
    {
     "name": "stderr",
     "output_type": "stream",
     "text": [
      "100%|█████████████████████████████████████████████████████████████████████████████████████████████████████| 1148/1148 [00:44<00:00, 25.89it/s]\n",
      "100%|███████████████████████████████████████████████████████████████████████████████████████████████████████| 157/157 [00:02<00:00, 70.21it/s]\n"
     ]
    },
    {
     "name": "stdout",
     "output_type": "stream",
     "text": [
      "Epoch 23/100, Loss: 0.001433091249694668, Val_Recall: 97.85063024592175%\n"
     ]
    },
    {
     "name": "stderr",
     "output_type": "stream",
     "text": [
      "100%|█████████████████████████████████████████████████████████████████████████████████████████████████████| 1148/1148 [00:44<00:00, 25.89it/s]\n",
      "100%|███████████████████████████████████████████████████████████████████████████████████████████████████████| 157/157 [00:02<00:00, 70.84it/s]\n"
     ]
    },
    {
     "name": "stdout",
     "output_type": "stream",
     "text": [
      "Epoch 24/100, Loss: 0.0007842286426728543, Val_Recall: 97.85263159977552%\n"
     ]
    },
    {
     "name": "stderr",
     "output_type": "stream",
     "text": [
      "100%|█████████████████████████████████████████████████████████████████████████████████████████████████████| 1148/1148 [00:44<00:00, 25.86it/s]\n",
      "100%|███████████████████████████████████████████████████████████████████████████████████████████████████████| 157/157 [00:02<00:00, 71.18it/s]\n"
     ]
    },
    {
     "name": "stdout",
     "output_type": "stream",
     "text": [
      "Epoch 25/100, Loss: 0.0008165166977373312, Val_Recall: 98.98185196537877%\n"
     ]
    },
    {
     "name": "stderr",
     "output_type": "stream",
     "text": [
      "100%|█████████████████████████████████████████████████████████████████████████████████████████████████████| 1148/1148 [00:44<00:00, 25.84it/s]\n",
      "100%|███████████████████████████████████████████████████████████████████████████████████████████████████████| 157/157 [00:02<00:00, 70.39it/s]\n"
     ]
    },
    {
     "name": "stdout",
     "output_type": "stream",
     "text": [
      "Epoch 26/100, Loss: 0.0013642888606848862, Val_Recall: 98.194551148666%\n"
     ]
    },
    {
     "name": "stderr",
     "output_type": "stream",
     "text": [
      "100%|█████████████████████████████████████████████████████████████████████████████████████████████████████| 1148/1148 [00:44<00:00, 25.79it/s]\n",
      "100%|███████████████████████████████████████████████████████████████████████████████████████████████████████| 157/157 [00:02<00:00, 70.97it/s]\n"
     ]
    },
    {
     "name": "stdout",
     "output_type": "stream",
     "text": [
      "Epoch 27/100, Loss: 0.0009658019065262579, Val_Recall: 98.87765588509723%\n"
     ]
    },
    {
     "name": "stderr",
     "output_type": "stream",
     "text": [
      "100%|█████████████████████████████████████████████████████████████████████████████████████████████████████| 1148/1148 [00:44<00:00, 25.98it/s]\n",
      "100%|███████████████████████████████████████████████████████████████████████████████████████████████████████| 157/157 [00:02<00:00, 69.60it/s]\n"
     ]
    },
    {
     "name": "stdout",
     "output_type": "stream",
     "text": [
      "Epoch 28/100, Loss: 0.000848364690089076, Val_Recall: 98.22583895725397%\n"
     ]
    },
    {
     "name": "stderr",
     "output_type": "stream",
     "text": [
      "100%|█████████████████████████████████████████████████████████████████████████████████████████████████████| 1148/1148 [00:44<00:00, 25.83it/s]\n",
      "100%|███████████████████████████████████████████████████████████████████████████████████████████████████████| 157/157 [00:02<00:00, 70.86it/s]\n"
     ]
    },
    {
     "name": "stdout",
     "output_type": "stream",
     "text": [
      "Epoch 29/100, Loss: 0.0011382815025414974, Val_Recall: 97.28061080571587%\n"
     ]
    },
    {
     "name": "stderr",
     "output_type": "stream",
     "text": [
      "100%|█████████████████████████████████████████████████████████████████████████████████████████████████████| 1148/1148 [00:44<00:00, 26.03it/s]\n",
      "100%|███████████████████████████████████████████████████████████████████████████████████████████████████████| 157/157 [00:02<00:00, 71.14it/s]\n"
     ]
    },
    {
     "name": "stdout",
     "output_type": "stream",
     "text": [
      "Epoch 30/100, Loss: 0.0011262480946236486, Val_Recall: 97.23397732340314%\n"
     ]
    },
    {
     "name": "stderr",
     "output_type": "stream",
     "text": [
      "100%|█████████████████████████████████████████████████████████████████████████████████████████████████████| 1148/1148 [00:44<00:00, 25.86it/s]\n",
      "100%|███████████████████████████████████████████████████████████████████████████████████████████████████████| 157/157 [00:02<00:00, 71.18it/s]\n"
     ]
    },
    {
     "name": "stdout",
     "output_type": "stream",
     "text": [
      "Epoch 31/100, Loss: 0.0007634593191759374, Val_Recall: 97.88369589790831%\n"
     ]
    },
    {
     "name": "stderr",
     "output_type": "stream",
     "text": [
      "100%|█████████████████████████████████████████████████████████████████████████████████████████████████████| 1148/1148 [00:44<00:00, 25.90it/s]\n",
      "100%|███████████████████████████████████████████████████████████████████████████████████████████████████████| 157/157 [00:02<00:00, 70.58it/s]\n"
     ]
    },
    {
     "name": "stdout",
     "output_type": "stream",
     "text": [
      "Epoch 32/100, Loss: 0.0006966926772969957, Val_Recall: 98.9936555536696%\n"
     ]
    },
    {
     "name": "stderr",
     "output_type": "stream",
     "text": [
      "100%|█████████████████████████████████████████████████████████████████████████████████████████████████████| 1148/1148 [00:44<00:00, 25.84it/s]\n",
      "100%|███████████████████████████████████████████████████████████████████████████████████████████████████████| 157/157 [00:02<00:00, 70.67it/s]\n"
     ]
    },
    {
     "name": "stdout",
     "output_type": "stream",
     "text": [
      "Epoch 33/100, Loss: 0.0007743681878076455, Val_Recall: 97.89904157163306%\n"
     ]
    },
    {
     "name": "stderr",
     "output_type": "stream",
     "text": [
      "100%|█████████████████████████████████████████████████████████████████████████████████████████████████████| 1148/1148 [00:44<00:00, 25.86it/s]\n",
      "100%|███████████████████████████████████████████████████████████████████████████████████████████████████████| 157/157 [00:02<00:00, 70.75it/s]\n"
     ]
    },
    {
     "name": "stdout",
     "output_type": "stream",
     "text": [
      "Epoch 34/100, Loss: 0.0006765102442428502, Val_Recall: 98.98286426685199%\n"
     ]
    },
    {
     "name": "stderr",
     "output_type": "stream",
     "text": [
      "100%|█████████████████████████████████████████████████████████████████████████████████████████████████████| 1148/1148 [00:44<00:00, 25.96it/s]\n",
      "100%|███████████████████████████████████████████████████████████████████████████████████████████████████████| 157/157 [00:02<00:00, 71.19it/s]\n"
     ]
    },
    {
     "name": "stdout",
     "output_type": "stream",
     "text": [
      "Epoch 35/100, Loss: 0.0006427600817293893, Val_Recall: 98.84951757070107%\n"
     ]
    },
    {
     "name": "stderr",
     "output_type": "stream",
     "text": [
      "100%|█████████████████████████████████████████████████████████████████████████████████████████████████████| 1148/1148 [00:44<00:00, 25.84it/s]\n",
      "100%|███████████████████████████████████████████████████████████████████████████████████████████████████████| 157/157 [00:02<00:00, 71.13it/s]\n"
     ]
    },
    {
     "name": "stdout",
     "output_type": "stream",
     "text": [
      "Epoch 36/100, Loss: 0.0007834452485703615, Val_Recall: 98.15149859116768%\n"
     ]
    },
    {
     "name": "stderr",
     "output_type": "stream",
     "text": [
      "100%|█████████████████████████████████████████████████████████████████████████████████████████████████████| 1148/1148 [00:44<00:00, 25.92it/s]\n",
      "100%|███████████████████████████████████████████████████████████████████████████████████████████████████████| 157/157 [00:02<00:00, 70.89it/s]\n"
     ]
    },
    {
     "name": "stdout",
     "output_type": "stream",
     "text": [
      "Epoch 37/100, Loss: 0.0004096762883600004, Val_Recall: 98.97874131056744%\n",
      "Model saved based on lowest validation loss.\n"
     ]
    },
    {
     "name": "stderr",
     "output_type": "stream",
     "text": [
      "100%|█████████████████████████████████████████████████████████████████████████████████████████████████████| 1148/1148 [00:44<00:00, 25.96it/s]\n",
      "100%|███████████████████████████████████████████████████████████████████████████████████████████████████████| 157/157 [00:02<00:00, 70.46it/s]\n"
     ]
    },
    {
     "name": "stdout",
     "output_type": "stream",
     "text": [
      "Epoch 38/100, Loss: 0.000991445078849212, Val_Recall: 97.13412770986136%\n"
     ]
    },
    {
     "name": "stderr",
     "output_type": "stream",
     "text": [
      "100%|█████████████████████████████████████████████████████████████████████████████████████████████████████| 1148/1148 [00:44<00:00, 25.86it/s]\n",
      "100%|███████████████████████████████████████████████████████████████████████████████████████████████████████| 157/157 [00:02<00:00, 70.06it/s]\n"
     ]
    },
    {
     "name": "stdout",
     "output_type": "stream",
     "text": [
      "Epoch 39/100, Loss: 0.0009006295711762339, Val_Recall: 98.70680007073568%\n"
     ]
    },
    {
     "name": "stderr",
     "output_type": "stream",
     "text": [
      "100%|█████████████████████████████████████████████████████████████████████████████████████████████████████| 1148/1148 [00:44<00:00, 25.91it/s]\n",
      "100%|███████████████████████████████████████████████████████████████████████████████████████████████████████| 157/157 [00:02<00:00, 70.04it/s]\n"
     ]
    },
    {
     "name": "stdout",
     "output_type": "stream",
     "text": [
      "Epoch 40/100, Loss: 0.0009909867014656281, Val_Recall: 98.4706153447823%\n"
     ]
    },
    {
     "name": "stderr",
     "output_type": "stream",
     "text": [
      "100%|█████████████████████████████████████████████████████████████████████████████████████████████████████| 1148/1148 [00:44<00:00, 25.86it/s]\n",
      "100%|███████████████████████████████████████████████████████████████████████████████████████████████████████| 157/157 [00:02<00:00, 70.67it/s]\n"
     ]
    },
    {
     "name": "stdout",
     "output_type": "stream",
     "text": [
      "Epoch 41/100, Loss: 0.0007201284315506912, Val_Recall: 99.1688578347709%\n"
     ]
    },
    {
     "name": "stderr",
     "output_type": "stream",
     "text": [
      "100%|█████████████████████████████████████████████████████████████████████████████████████████████████████| 1148/1148 [00:44<00:00, 25.87it/s]\n",
      "100%|███████████████████████████████████████████████████████████████████████████████████████████████████████| 157/157 [00:02<00:00, 71.20it/s]\n"
     ]
    },
    {
     "name": "stdout",
     "output_type": "stream",
     "text": [
      "Epoch 42/100, Loss: 0.0006654847624266271, Val_Recall: 99.33703442494371%\n"
     ]
    },
    {
     "name": "stderr",
     "output_type": "stream",
     "text": [
      "100%|█████████████████████████████████████████████████████████████████████████████████████████████████████| 1148/1148 [00:44<00:00, 25.87it/s]\n",
      "100%|███████████████████████████████████████████████████████████████████████████████████████████████████████| 157/157 [00:02<00:00, 71.27it/s]\n"
     ]
    },
    {
     "name": "stdout",
     "output_type": "stream",
     "text": [
      "Epoch 43/100, Loss: 0.001426467003610352, Val_Recall: 97.7352114482%\n"
     ]
    },
    {
     "name": "stderr",
     "output_type": "stream",
     "text": [
      "100%|█████████████████████████████████████████████████████████████████████████████████████████████████████| 1148/1148 [00:44<00:00, 25.92it/s]\n",
      "100%|███████████████████████████████████████████████████████████████████████████████████████████████████████| 157/157 [00:02<00:00, 71.47it/s]\n"
     ]
    },
    {
     "name": "stdout",
     "output_type": "stream",
     "text": [
      "Epoch 44/100, Loss: 0.0024638024153593964, Val_Recall: 96.59396398385071%\n"
     ]
    },
    {
     "name": "stderr",
     "output_type": "stream",
     "text": [
      "100%|█████████████████████████████████████████████████████████████████████████████████████████████████████| 1148/1148 [00:44<00:00, 25.92it/s]\n",
      "100%|███████████████████████████████████████████████████████████████████████████████████████████████████████| 157/157 [00:02<00:00, 69.75it/s]\n"
     ]
    },
    {
     "name": "stdout",
     "output_type": "stream",
     "text": [
      "Epoch 45/100, Loss: 0.0013385794564845573, Val_Recall: 96.46949489225403%\n"
     ]
    },
    {
     "name": "stderr",
     "output_type": "stream",
     "text": [
      "100%|█████████████████████████████████████████████████████████████████████████████████████████████████████| 1148/1148 [00:44<00:00, 25.94it/s]\n",
      "100%|███████████████████████████████████████████████████████████████████████████████████████████████████████| 157/157 [00:02<00:00, 71.39it/s]\n"
     ]
    },
    {
     "name": "stdout",
     "output_type": "stream",
     "text": [
      "Epoch 46/100, Loss: 0.001257817866480276, Val_Recall: 97.8598652108714%\n"
     ]
    },
    {
     "name": "stderr",
     "output_type": "stream",
     "text": [
      "100%|█████████████████████████████████████████████████████████████████████████████████████████████████████| 1148/1148 [00:44<00:00, 25.97it/s]\n",
      "100%|███████████████████████████████████████████████████████████████████████████████████████████████████████| 157/157 [00:02<00:00, 71.17it/s]\n"
     ]
    },
    {
     "name": "stdout",
     "output_type": "stream",
     "text": [
      "Epoch 47/100, Loss: 0.0006897920394056621, Val_Recall: 99.01122609170336%\n"
     ]
    },
    {
     "name": "stderr",
     "output_type": "stream",
     "text": [
      "100%|█████████████████████████████████████████████████████████████████████████████████████████████████████| 1148/1148 [00:44<00:00, 25.94it/s]\n",
      "100%|███████████████████████████████████████████████████████████████████████████████████████████████████████| 157/157 [00:02<00:00, 70.45it/s]\n"
     ]
    },
    {
     "name": "stdout",
     "output_type": "stream",
     "text": [
      "Epoch 48/100, Loss: 0.0008993320728832517, Val_Recall: 97.56555260638642%\n"
     ]
    },
    {
     "name": "stderr",
     "output_type": "stream",
     "text": [
      "100%|█████████████████████████████████████████████████████████████████████████████████████████████████████| 1148/1148 [00:44<00:00, 25.82it/s]\n",
      "100%|███████████████████████████████████████████████████████████████████████████████████████████████████████| 157/157 [00:02<00:00, 70.96it/s]\n"
     ]
    },
    {
     "name": "stdout",
     "output_type": "stream",
     "text": [
      "Epoch 49/100, Loss: 0.0010426654021995524, Val_Recall: 98.87765588509723%\n"
     ]
    },
    {
     "name": "stderr",
     "output_type": "stream",
     "text": [
      "100%|█████████████████████████████████████████████████████████████████████████████████████████████████████| 1148/1148 [00:44<00:00, 25.89it/s]\n",
      "100%|███████████████████████████████████████████████████████████████████████████████████████████████████████| 157/157 [00:02<00:00, 70.87it/s]\n"
     ]
    },
    {
     "name": "stdout",
     "output_type": "stream",
     "text": [
      "Epoch 50/100, Loss: 0.000811004146024079, Val_Recall: 99.3444915464948%\n"
     ]
    },
    {
     "name": "stderr",
     "output_type": "stream",
     "text": [
      "100%|█████████████████████████████████████████████████████████████████████████████████████████████████████| 1148/1148 [00:44<00:00, 25.89it/s]\n",
      "100%|███████████████████████████████████████████████████████████████████████████████████████████████████████| 157/157 [00:02<00:00, 70.61it/s]\n"
     ]
    },
    {
     "name": "stdout",
     "output_type": "stream",
     "text": [
      "Epoch 51/100, Loss: 0.0007003718638054928, Val_Recall: 99.35217217850108%\n"
     ]
    },
    {
     "name": "stderr",
     "output_type": "stream",
     "text": [
      "100%|█████████████████████████████████████████████████████████████████████████████████████████████████████| 1148/1148 [00:44<00:00, 25.86it/s]\n",
      "100%|███████████████████████████████████████████████████████████████████████████████████████████████████████| 157/157 [00:02<00:00, 70.82it/s]\n"
     ]
    },
    {
     "name": "stdout",
     "output_type": "stream",
     "text": [
      "Epoch 52/100, Loss: 0.0007975705030007522, Val_Recall: 99.34036859021025%\n"
     ]
    },
    {
     "name": "stderr",
     "output_type": "stream",
     "text": [
      "100%|█████████████████████████████████████████████████████████████████████████████████████████████████████| 1148/1148 [00:44<00:00, 25.84it/s]\n",
      "100%|███████████████████████████████████████████████████████████████████████████████████████████████████████| 157/157 [00:02<00:00, 70.04it/s]\n"
     ]
    },
    {
     "name": "stdout",
     "output_type": "stream",
     "text": [
      "Epoch 53/100, Loss: 0.0007249468579396765, Val_Recall: 97.71160427161831%\n"
     ]
    },
    {
     "name": "stderr",
     "output_type": "stream",
     "text": [
      "100%|█████████████████████████████████████████████████████████████████████████████████████████████████████| 1148/1148 [00:44<00:00, 25.87it/s]\n",
      "100%|███████████████████████████████████████████████████████████████████████████████████████████████████████| 157/157 [00:02<00:00, 69.46it/s]\n"
     ]
    },
    {
     "name": "stdout",
     "output_type": "stream",
     "text": [
      "Epoch 54/100, Loss: 0.0012331405506923868, Val_Recall: 99.11754377441567%\n"
     ]
    },
    {
     "name": "stderr",
     "output_type": "stream",
     "text": [
      "100%|█████████████████████████████████████████████████████████████████████████████████████████████████████| 1148/1148 [00:44<00:00, 25.91it/s]\n",
      "100%|███████████████████████████████████████████████████████████████████████████████████████████████████████| 157/157 [00:02<00:00, 71.93it/s]\n"
     ]
    },
    {
     "name": "stdout",
     "output_type": "stream",
     "text": [
      "Epoch 55/100, Loss: 0.0014276164837168433, Val_Recall: 98.14048379389484%\n"
     ]
    },
    {
     "name": "stderr",
     "output_type": "stream",
     "text": [
      "100%|█████████████████████████████████████████████████████████████████████████████████████████████████████| 1148/1148 [00:44<00:00, 25.90it/s]\n",
      "100%|███████████████████████████████████████████████████████████████████████████████████████████████████████| 157/157 [00:02<00:00, 70.28it/s]\n"
     ]
    },
    {
     "name": "stdout",
     "output_type": "stream",
     "text": [
      "Epoch 56/100, Loss: 0.0007986764197038869, Val_Recall: 99.6046291980357%\n"
     ]
    },
    {
     "name": "stderr",
     "output_type": "stream",
     "text": [
      "100%|█████████████████████████████████████████████████████████████████████████████████████████████████████| 1148/1148 [00:44<00:00, 26.01it/s]\n",
      "100%|███████████████████████████████████████████████████████████████████████████████████████████████████████| 157/157 [00:02<00:00, 70.56it/s]\n"
     ]
    },
    {
     "name": "stdout",
     "output_type": "stream",
     "text": [
      "Epoch 57/100, Loss: 0.0009544261563813863, Val_Recall: 98.31489728397814%\n"
     ]
    },
    {
     "name": "stderr",
     "output_type": "stream",
     "text": [
      "100%|█████████████████████████████████████████████████████████████████████████████████████████████████████| 1148/1148 [00:44<00:00, 25.86it/s]\n",
      "100%|███████████████████████████████████████████████████████████████████████████████████████████████████████| 157/157 [00:02<00:00, 71.15it/s]\n"
     ]
    },
    {
     "name": "stdout",
     "output_type": "stream",
     "text": [
      "Epoch 58/100, Loss: 0.0015058586543491357, Val_Recall: 97.03363479294485%\n"
     ]
    },
    {
     "name": "stderr",
     "output_type": "stream",
     "text": [
      "100%|█████████████████████████████████████████████████████████████████████████████████████████████████████| 1148/1148 [00:44<00:00, 25.85it/s]\n",
      "100%|███████████████████████████████████████████████████████████████████████████████████████████████████████| 157/157 [00:02<00:00, 70.12it/s]\n"
     ]
    },
    {
     "name": "stdout",
     "output_type": "stream",
     "text": [
      "Epoch 59/100, Loss: 0.000993858865998861, Val_Recall: 98.19578696059442%\n"
     ]
    },
    {
     "name": "stderr",
     "output_type": "stream",
     "text": [
      "100%|█████████████████████████████████████████████████████████████████████████████████████████████████████| 1148/1148 [00:44<00:00, 25.87it/s]\n",
      "100%|███████████████████████████████████████████████████████████████████████████████████████████████████████| 157/157 [00:02<00:00, 70.54it/s]\n"
     ]
    },
    {
     "name": "stdout",
     "output_type": "stream",
     "text": [
      "Epoch 60/100, Loss: 0.0014473632256654448, Val_Recall: 98.85093805370423%\n"
     ]
    },
    {
     "name": "stderr",
     "output_type": "stream",
     "text": [
      "100%|█████████████████████████████████████████████████████████████████████████████████████████████████████| 1148/1148 [00:44<00:00, 25.86it/s]\n",
      "100%|███████████████████████████████████████████████████████████████████████████████████████████████████████| 157/157 [00:02<00:00, 70.62it/s]\n"
     ]
    },
    {
     "name": "stdout",
     "output_type": "stream",
     "text": [
      "Epoch 61/100, Loss: 0.0015712321865024642, Val_Recall: 97.70392363961203%\n"
     ]
    },
    {
     "name": "stderr",
     "output_type": "stream",
     "text": [
      "100%|█████████████████████████████████████████████████████████████████████████████████████████████████████| 1148/1148 [00:44<00:00, 25.84it/s]\n",
      "100%|███████████████████████████████████████████████████████████████████████████████████████████████████████| 157/157 [00:02<00:00, 70.82it/s]\n"
     ]
    },
    {
     "name": "stdout",
     "output_type": "stream",
     "text": [
      "Epoch 62/100, Loss: 0.0009424650058003073, Val_Recall: 98.83557678969163%\n"
     ]
    },
    {
     "name": "stderr",
     "output_type": "stream",
     "text": [
      "100%|█████████████████████████████████████████████████████████████████████████████████████████████████████| 1148/1148 [00:44<00:00, 25.84it/s]\n",
      "100%|███████████████████████████████████████████████████████████████████████████████████████████████████████| 157/157 [00:02<00:00, 70.34it/s]\n"
     ]
    },
    {
     "name": "stdout",
     "output_type": "stream",
     "text": [
      "Epoch 63/100, Loss: 0.0012343428582542696, Val_Recall: 99.41526262546977%\n"
     ]
    },
    {
     "name": "stderr",
     "output_type": "stream",
     "text": [
      "100%|█████████████████████████████████████████████████████████████████████████████████████████████████████| 1148/1148 [00:44<00:00, 25.88it/s]\n",
      "100%|███████████████████████████████████████████████████████████████████████████████████████████████████████| 157/157 [00:02<00:00, 70.51it/s]\n"
     ]
    },
    {
     "name": "stdout",
     "output_type": "stream",
     "text": [
      "Epoch 64/100, Loss: 0.0008774245724331568, Val_Recall: 97.58814748149484%\n"
     ]
    },
    {
     "name": "stderr",
     "output_type": "stream",
     "text": [
      "100%|█████████████████████████████████████████████████████████████████████████████████████████████████████| 1148/1148 [00:44<00:00, 25.97it/s]\n",
      "100%|███████████████████████████████████████████████████████████████████████████████████████████████████████| 157/157 [00:02<00:00, 70.27it/s]\n"
     ]
    },
    {
     "name": "stdout",
     "output_type": "stream",
     "text": [
      "Epoch 65/100, Loss: 0.0008041438427577842, Val_Recall: 99.00111267522068%\n"
     ]
    },
    {
     "name": "stderr",
     "output_type": "stream",
     "text": [
      "100%|█████████████████████████████████████████████████████████████████████████████████████████████████████| 1148/1148 [00:44<00:00, 25.92it/s]\n",
      "100%|███████████████████████████████████████████████████████████████████████████████████████████████████████| 157/157 [00:02<00:00, 70.47it/s]\n"
     ]
    },
    {
     "name": "stdout",
     "output_type": "stream",
     "text": [
      "Epoch 66/100, Loss: 0.000566864466651193, Val_Recall: 99.63880415097978%\n"
     ]
    },
    {
     "name": "stderr",
     "output_type": "stream",
     "text": [
      "100%|█████████████████████████████████████████████████████████████████████████████████████████████████████| 1148/1148 [00:44<00:00, 25.96it/s]\n",
      "100%|███████████████████████████████████████████████████████████████████████████████████████████████████████| 157/157 [00:02<00:00, 70.96it/s]\n"
     ]
    },
    {
     "name": "stdout",
     "output_type": "stream",
     "text": [
      "Epoch 67/100, Loss: 0.0006938752486577443, Val_Recall: 99.1688578347709%\n",
      "Early stopping\n",
      "Loaded pretrained weights for efficientnet-b0\n"
     ]
    },
    {
     "name": "stderr",
     "output_type": "stream",
     "text": [
      "100%|█████████████████████████████████████████████████████████████████████████████████████████████████████| 1148/1148 [00:44<00:00, 25.72it/s]\n",
      "100%|███████████████████████████████████████████████████████████████████████████████████████████████████████| 157/157 [00:02<00:00, 71.40it/s]\n"
     ]
    },
    {
     "name": "stdout",
     "output_type": "stream",
     "text": [
      "Epoch 1/100, Loss: 0.0013176595984552744, Val_Recall: 97.16495688614934%\n",
      "Model saved based on lowest validation loss.\n"
     ]
    },
    {
     "name": "stderr",
     "output_type": "stream",
     "text": [
      "100%|█████████████████████████████████████████████████████████████████████████████████████████████████████| 1148/1148 [00:44<00:00, 25.81it/s]\n",
      "100%|███████████████████████████████████████████████████████████████████████████████████████████████████████| 157/157 [00:02<00:00, 71.78it/s]\n"
     ]
    },
    {
     "name": "stdout",
     "output_type": "stream",
     "text": [
      "Epoch 2/100, Loss: 0.0007287603312083571, Val_Recall: 99.46168818761511%\n",
      "Model saved based on lowest validation loss.\n"
     ]
    },
    {
     "name": "stderr",
     "output_type": "stream",
     "text": [
      "100%|█████████████████████████████████████████████████████████████████████████████████████████████████████| 1148/1148 [00:44<00:00, 25.75it/s]\n",
      "100%|███████████████████████████████████████████████████████████████████████████████████████████████████████| 157/157 [00:02<00:00, 71.33it/s]\n"
     ]
    },
    {
     "name": "stdout",
     "output_type": "stream",
     "text": [
      "Epoch 3/100, Loss: 0.0009080273973664641, Val_Recall: 98.64111379874842%\n"
     ]
    },
    {
     "name": "stderr",
     "output_type": "stream",
     "text": [
      "100%|█████████████████████████████████████████████████████████████████████████████████████████████████████| 1148/1148 [00:44<00:00, 25.78it/s]\n",
      "100%|███████████████████████████████████████████████████████████████████████████████████████████████████████| 157/157 [00:02<00:00, 70.10it/s]\n"
     ]
    },
    {
     "name": "stdout",
     "output_type": "stream",
     "text": [
      "Epoch 4/100, Loss: 0.000816662941186288, Val_Recall: 98.32692438272419%\n"
     ]
    },
    {
     "name": "stderr",
     "output_type": "stream",
     "text": [
      "100%|█████████████████████████████████████████████████████████████████████████████████████████████████████| 1148/1148 [00:44<00:00, 25.86it/s]\n",
      "100%|███████████████████████████████████████████████████████████████████████████████████████████████████████| 157/157 [00:02<00:00, 70.58it/s]\n"
     ]
    },
    {
     "name": "stdout",
     "output_type": "stream",
     "text": [
      "Epoch 5/100, Loss: 0.0007898650478097724, Val_Recall: 99.32714451891624%\n"
     ]
    },
    {
     "name": "stderr",
     "output_type": "stream",
     "text": [
      "100%|█████████████████████████████████████████████████████████████████████████████████████████████████████| 1148/1148 [00:44<00:00, 25.69it/s]\n",
      "100%|███████████████████████████████████████████████████████████████████████████████████████████████████████| 157/157 [00:02<00:00, 71.09it/s]\n"
     ]
    },
    {
     "name": "stdout",
     "output_type": "stream",
     "text": [
      "Epoch 6/100, Loss: 0.0007468846980066493, Val_Recall: 98.9830877773072%\n"
     ]
    },
    {
     "name": "stderr",
     "output_type": "stream",
     "text": [
      "100%|█████████████████████████████████████████████████████████████████████████████████████████████████████| 1148/1148 [00:44<00:00, 25.78it/s]\n",
      "100%|███████████████████████████████████████████████████████████████████████████████████████████████████████| 157/157 [00:02<00:00, 70.91it/s]\n"
     ]
    },
    {
     "name": "stdout",
     "output_type": "stream",
     "text": [
      "Epoch 7/100, Loss: 0.0008666903159343282, Val_Recall: 98.34183862582636%\n"
     ]
    },
    {
     "name": "stderr",
     "output_type": "stream",
     "text": [
      "100%|█████████████████████████████████████████████████████████████████████████████████████████████████████| 1148/1148 [00:44<00:00, 25.79it/s]\n",
      "100%|███████████████████████████████████████████████████████████████████████████████████████████████████████| 157/157 [00:02<00:00, 71.03it/s]\n"
     ]
    },
    {
     "name": "stdout",
     "output_type": "stream",
     "text": [
      "Epoch 8/100, Loss: 0.0007673598549426068, Val_Recall: 98.1892312198335%\n"
     ]
    },
    {
     "name": "stderr",
     "output_type": "stream",
     "text": [
      "100%|█████████████████████████████████████████████████████████████████████████████████████████████████████| 1148/1148 [00:44<00:00, 25.71it/s]\n",
      "100%|███████████████████████████████████████████████████████████████████████████████████████████████████████| 157/157 [00:02<00:00, 71.45it/s]\n"
     ]
    },
    {
     "name": "stdout",
     "output_type": "stream",
     "text": [
      "Epoch 9/100, Loss: 0.0009447677373867514, Val_Recall: 98.1892312198335%\n"
     ]
    },
    {
     "name": "stderr",
     "output_type": "stream",
     "text": [
      "100%|█████████████████████████████████████████████████████████████████████████████████████████████████████| 1148/1148 [00:44<00:00, 25.81it/s]\n",
      "100%|███████████████████████████████████████████████████████████████████████████████████████████████████████| 157/157 [00:02<00:00, 69.87it/s]\n"
     ]
    },
    {
     "name": "stdout",
     "output_type": "stream",
     "text": [
      "Epoch 10/100, Loss: 0.002609342123664833, Val_Recall: 94.5183769741008%\n"
     ]
    },
    {
     "name": "stderr",
     "output_type": "stream",
     "text": [
      "100%|█████████████████████████████████████████████████████████████████████████████████████████████████████| 1148/1148 [00:44<00:00, 25.76it/s]\n",
      "100%|███████████████████████████████████████████████████████████████████████████████████████████████████████| 157/157 [00:02<00:00, 69.56it/s]\n"
     ]
    },
    {
     "name": "stdout",
     "output_type": "stream",
     "text": [
      "Epoch 11/100, Loss: 0.0014590453405915944, Val_Recall: 96.23610230009703%\n"
     ]
    },
    {
     "name": "stderr",
     "output_type": "stream",
     "text": [
      "100%|█████████████████████████████████████████████████████████████████████████████████████████████████████| 1148/1148 [00:44<00:00, 25.76it/s]\n",
      "100%|███████████████████████████████████████████████████████████████████████████████████████████████████████| 157/157 [00:02<00:00, 71.08it/s]\n"
     ]
    },
    {
     "name": "stdout",
     "output_type": "stream",
     "text": [
      "Epoch 12/100, Loss: 0.0009675908772081813, Val_Recall: 98.65505457975785%\n"
     ]
    },
    {
     "name": "stderr",
     "output_type": "stream",
     "text": [
      "100%|█████████████████████████████████████████████████████████████████████████████████████████████████████| 1148/1148 [00:44<00:00, 25.80it/s]\n",
      "100%|███████████████████████████████████████████████████████████████████████████████████████████████████████| 157/157 [00:02<00:00, 71.29it/s]\n"
     ]
    },
    {
     "name": "stdout",
     "output_type": "stream",
     "text": [
      "Epoch 13/100, Loss: 0.000918857232350514, Val_Recall: 99.09828306457374%\n"
     ]
    },
    {
     "name": "stderr",
     "output_type": "stream",
     "text": [
      "100%|█████████████████████████████████████████████████████████████████████████████████████████████████████| 1148/1148 [00:44<00:00, 25.80it/s]\n",
      "100%|███████████████████████████████████████████████████████████████████████████████████████████████████████| 157/157 [00:02<00:00, 70.40it/s]\n"
     ]
    },
    {
     "name": "stdout",
     "output_type": "stream",
     "text": [
      "Epoch 14/100, Loss: 0.000713651262274753, Val_Recall: 99.47873962343586%\n",
      "Model saved based on lowest validation loss.\n"
     ]
    },
    {
     "name": "stderr",
     "output_type": "stream",
     "text": [
      "100%|█████████████████████████████████████████████████████████████████████████████████████████████████████| 1148/1148 [00:44<00:00, 25.71it/s]\n",
      "100%|███████████████████████████████████████████████████████████████████████████████████████████████████████| 157/157 [00:02<00:00, 70.59it/s]\n"
     ]
    },
    {
     "name": "stdout",
     "output_type": "stream",
     "text": [
      "Epoch 15/100, Loss: 0.0007031710050951283, Val_Recall: 97.43655237697523%\n",
      "Model saved based on lowest validation loss.\n"
     ]
    },
    {
     "name": "stderr",
     "output_type": "stream",
     "text": [
      "100%|█████████████████████████████████████████████████████████████████████████████████████████████████████| 1148/1148 [00:44<00:00, 25.78it/s]\n",
      "100%|███████████████████████████████████████████████████████████████████████████████████████████████████████| 157/157 [00:02<00:00, 70.72it/s]\n"
     ]
    },
    {
     "name": "stdout",
     "output_type": "stream",
     "text": [
      "Epoch 16/100, Loss: 0.0008783837407215576, Val_Recall: 98.66374751323735%\n"
     ]
    },
    {
     "name": "stderr",
     "output_type": "stream",
     "text": [
      "100%|█████████████████████████████████████████████████████████████████████████████████████████████████████| 1148/1148 [00:44<00:00, 25.74it/s]\n",
      "100%|███████████████████████████████████████████████████████████████████████████████████████████████████████| 157/157 [00:02<00:00, 71.38it/s]\n"
     ]
    },
    {
     "name": "stdout",
     "output_type": "stream",
     "text": [
      "Epoch 17/100, Loss: 0.0012623232177250475, Val_Recall: 98.81511910730177%\n"
     ]
    },
    {
     "name": "stderr",
     "output_type": "stream",
     "text": [
      "100%|█████████████████████████████████████████████████████████████████████████████████████████████████████| 1148/1148 [00:44<00:00, 25.77it/s]\n",
      "100%|███████████████████████████████████████████████████████████████████████████████████████████████████████| 157/157 [00:02<00:00, 70.73it/s]\n"
     ]
    },
    {
     "name": "stdout",
     "output_type": "stream",
     "text": [
      "Epoch 18/100, Loss: 0.0008683391356678004, Val_Recall: 99.44456467049179%\n"
     ]
    },
    {
     "name": "stderr",
     "output_type": "stream",
     "text": [
      "100%|█████████████████████████████████████████████████████████████████████████████████████████████████████| 1148/1148 [00:44<00:00, 25.73it/s]\n",
      "100%|███████████████████████████████████████████████████████████████████████████████████████████████████████| 157/157 [00:02<00:00, 68.10it/s]\n"
     ]
    },
    {
     "name": "stdout",
     "output_type": "stream",
     "text": [
      "Epoch 19/100, Loss: 0.0006809200612465708, Val_Recall: 98.36008703419505%\n",
      "Model saved based on lowest validation loss.\n"
     ]
    },
    {
     "name": "stderr",
     "output_type": "stream",
     "text": [
      "100%|█████████████████████████████████████████████████████████████████████████████████████████████████████| 1148/1148 [00:44<00:00, 25.74it/s]\n",
      "100%|███████████████████████████████████████████████████████████████████████████████████████████████████████| 157/157 [00:02<00:00, 70.71it/s]\n"
     ]
    },
    {
     "name": "stdout",
     "output_type": "stream",
     "text": [
      "Epoch 20/100, Loss: 0.0009069918996187071, Val_Recall: 98.20103480812435%\n"
     ]
    },
    {
     "name": "stderr",
     "output_type": "stream",
     "text": [
      "100%|█████████████████████████████████████████████████████████████████████████████████████████████████████| 1148/1148 [00:44<00:00, 25.69it/s]\n",
      "100%|███████████████████████████████████████████████████████████████████████████████████████████████████████| 157/157 [00:02<00:00, 71.11it/s]\n"
     ]
    },
    {
     "name": "stdout",
     "output_type": "stream",
     "text": [
      "Epoch 21/100, Loss: 0.0010664153154145088, Val_Recall: 98.82279973930807%\n"
     ]
    },
    {
     "name": "stderr",
     "output_type": "stream",
     "text": [
      "100%|█████████████████████████████████████████████████████████████████████████████████████████████████████| 1148/1148 [00:44<00:00, 25.72it/s]\n",
      "100%|███████████████████████████████████████████████████████████████████████████████████████████████████████| 157/157 [00:02<00:00, 71.67it/s]\n"
     ]
    },
    {
     "name": "stdout",
     "output_type": "stream",
     "text": [
      "Epoch 22/100, Loss: 0.0010607852491321603, Val_Recall: 98.8076619857507%\n"
     ]
    },
    {
     "name": "stderr",
     "output_type": "stream",
     "text": [
      "100%|█████████████████████████████████████████████████████████████████████████████████████████████████████| 1148/1148 [00:44<00:00, 25.75it/s]\n",
      "100%|███████████████████████████████████████████████████████████████████████████████████████████████████████| 157/157 [00:02<00:00, 70.91it/s]\n"
     ]
    },
    {
     "name": "stdout",
     "output_type": "stream",
     "text": [
      "Epoch 23/100, Loss: 0.0007611955904693145, Val_Recall: 98.18589705456698%\n"
     ]
    },
    {
     "name": "stderr",
     "output_type": "stream",
     "text": [
      "100%|█████████████████████████████████████████████████████████████████████████████████████████████████████| 1148/1148 [00:44<00:00, 25.78it/s]\n",
      "100%|███████████████████████████████████████████████████████████████████████████████████████████████████████| 157/157 [00:02<00:00, 70.08it/s]\n"
     ]
    },
    {
     "name": "stdout",
     "output_type": "stream",
     "text": [
      "Epoch 24/100, Loss: 0.0008676829635723007, Val_Recall: 97.5600091670987%\n"
     ]
    },
    {
     "name": "stderr",
     "output_type": "stream",
     "text": [
      "100%|█████████████████████████████████████████████████████████████████████████████████████████████████████| 1148/1148 [00:44<00:00, 25.76it/s]\n",
      "100%|███████████████████████████████████████████████████████████████████████████████████████████████████████| 157/157 [00:02<00:00, 70.74it/s]\n"
     ]
    },
    {
     "name": "stdout",
     "output_type": "stream",
     "text": [
      "Epoch 25/100, Loss: 0.0008232134485357498, Val_Recall: 98.97851780011223%\n"
     ]
    },
    {
     "name": "stderr",
     "output_type": "stream",
     "text": [
      "100%|█████████████████████████████████████████████████████████████████████████████████████████████████████| 1148/1148 [00:44<00:00, 25.84it/s]\n",
      "100%|███████████████████████████████████████████████████████████████████████████████████████████████████████| 157/157 [00:02<00:00, 71.72it/s]\n"
     ]
    },
    {
     "name": "stdout",
     "output_type": "stream",
     "text": [
      "Epoch 26/100, Loss: 0.0013583539826538867, Val_Recall: 98.18589705456698%\n"
     ]
    },
    {
     "name": "stderr",
     "output_type": "stream",
     "text": [
      "100%|█████████████████████████████████████████████████████████████████████████████████████████████████████| 1148/1148 [00:44<00:00, 25.79it/s]\n",
      "100%|███████████████████████████████████████████████████████████████████████████████████████████████████████| 157/157 [00:02<00:00, 70.58it/s]\n"
     ]
    },
    {
     "name": "stdout",
     "output_type": "stream",
     "text": [
      "Epoch 27/100, Loss: 0.002425130191428527, Val_Recall: 95.46585291920503%\n"
     ]
    },
    {
     "name": "stderr",
     "output_type": "stream",
     "text": [
      "100%|█████████████████████████████████████████████████████████████████████████████████████████████████████| 1148/1148 [00:44<00:00, 25.96it/s]\n",
      "100%|███████████████████████████████████████████████████████████████████████████████████████████████████████| 157/157 [00:02<00:00, 70.62it/s]\n"
     ]
    },
    {
     "name": "stdout",
     "output_type": "stream",
     "text": [
      "Epoch 28/100, Loss: 0.0008306229298127944, Val_Recall: 98.29874722894755%\n"
     ]
    },
    {
     "name": "stderr",
     "output_type": "stream",
     "text": [
      "100%|█████████████████████████████████████████████████████████████████████████████████████████████████████| 1148/1148 [00:44<00:00, 25.77it/s]\n",
      "100%|███████████████████████████████████████████████████████████████████████████████████████████████████████| 157/157 [00:02<00:00, 71.01it/s]\n"
     ]
    },
    {
     "name": "stdout",
     "output_type": "stream",
     "text": [
      "Epoch 29/100, Loss: 0.0012347036661106833, Val_Recall: 98.31388498250492%\n"
     ]
    },
    {
     "name": "stderr",
     "output_type": "stream",
     "text": [
      "100%|█████████████████████████████████████████████████████████████████████████████████████████████████████| 1148/1148 [00:44<00:00, 25.88it/s]\n",
      "100%|███████████████████████████████████████████████████████████████████████████████████████████████████████| 157/157 [00:02<00:00, 70.97it/s]\n"
     ]
    },
    {
     "name": "stdout",
     "output_type": "stream",
     "text": [
      "Epoch 30/100, Loss: 0.0011968309576967109, Val_Recall: 98.33438150427526%\n"
     ]
    },
    {
     "name": "stderr",
     "output_type": "stream",
     "text": [
      "100%|█████████████████████████████████████████████████████████████████████████████████████████████████████| 1148/1148 [00:44<00:00, 25.70it/s]\n",
      "100%|███████████████████████████████████████████████████████████████████████████████████████████████████████| 157/157 [00:02<00:00, 70.39it/s]\n"
     ]
    },
    {
     "name": "stdout",
     "output_type": "stream",
     "text": [
      "Epoch 31/100, Loss: 0.0013007733111433189, Val_Recall: 98.3374921590866%\n"
     ]
    },
    {
     "name": "stderr",
     "output_type": "stream",
     "text": [
      "100%|█████████████████████████████████████████████████████████████████████████████████████████████████████| 1148/1148 [00:44<00:00, 25.78it/s]\n",
      "100%|███████████████████████████████████████████████████████████████████████████████████████████████████████| 157/157 [00:02<00:00, 71.59it/s]\n"
     ]
    },
    {
     "name": "stdout",
     "output_type": "stream",
     "text": [
      "Epoch 32/100, Loss: 0.0012247946863640155, Val_Recall: 98.784054809169%\n"
     ]
    },
    {
     "name": "stderr",
     "output_type": "stream",
     "text": [
      "100%|█████████████████████████████████████████████████████████████████████████████████████████████████████| 1148/1148 [00:44<00:00, 25.74it/s]\n",
      "100%|███████████████████████████████████████████████████████████████████████████████████████████████████████| 157/157 [00:02<00:00, 70.52it/s]\n"
     ]
    },
    {
     "name": "stdout",
     "output_type": "stream",
     "text": [
      "Epoch 33/100, Loss: 0.0015054410347324235, Val_Recall: 98.78506711064223%\n"
     ]
    },
    {
     "name": "stderr",
     "output_type": "stream",
     "text": [
      "100%|█████████████████████████████████████████████████████████████████████████████████████████████████████| 1148/1148 [00:44<00:00, 25.80it/s]\n",
      "100%|███████████████████████████████████████████████████████████████████████████████████████████████████████| 157/157 [00:02<00:00, 67.97it/s]\n"
     ]
    },
    {
     "name": "stdout",
     "output_type": "stream",
     "text": [
      "Epoch 34/100, Loss: 0.0014940139125965693, Val_Recall: 97.64591799963105%\n"
     ]
    },
    {
     "name": "stderr",
     "output_type": "stream",
     "text": [
      "100%|█████████████████████████████████████████████████████████████████████████████████████████████████████| 1148/1148 [00:44<00:00, 25.81it/s]\n",
      "100%|███████████████████████████████████████████████████████████████████████████████████████████████████████| 157/157 [00:02<00:00, 69.64it/s]\n"
     ]
    },
    {
     "name": "stdout",
     "output_type": "stream",
     "text": [
      "Epoch 35/100, Loss: 0.001563176623460385, Val_Recall: 97.64115601239206%\n"
     ]
    },
    {
     "name": "stderr",
     "output_type": "stream",
     "text": [
      "100%|█████████████████████████████████████████████████████████████████████████████████████████████████████| 1148/1148 [00:44<00:00, 25.88it/s]\n",
      "100%|███████████████████████████████████████████████████████████████████████████████████████████████████████| 157/157 [00:02<00:00, 71.51it/s]\n"
     ]
    },
    {
     "name": "stdout",
     "output_type": "stream",
     "text": [
      "Epoch 36/100, Loss: 0.001066345555321016, Val_Recall: 98.78506711064223%\n"
     ]
    },
    {
     "name": "stderr",
     "output_type": "stream",
     "text": [
      "100%|█████████████████████████████████████████████████████████████████████████████████████████████████████| 1148/1148 [00:44<00:00, 25.90it/s]\n",
      "100%|███████████████████████████████████████████████████████████████████████████████████████████████████████| 157/157 [00:02<00:00, 71.29it/s]\n"
     ]
    },
    {
     "name": "stdout",
     "output_type": "stream",
     "text": [
      "Epoch 37/100, Loss: 0.000737027284476614, Val_Recall: 98.9936555536696%\n"
     ]
    },
    {
     "name": "stderr",
     "output_type": "stream",
     "text": [
      "100%|█████████████████████████████████████████████████████████████████████████████████████████████████████| 1148/1148 [00:44<00:00, 25.87it/s]\n",
      "100%|███████████████████████████████████████████████████████████████████████████████████████████████████████| 157/157 [00:02<00:00, 71.02it/s]\n"
     ]
    },
    {
     "name": "stdout",
     "output_type": "stream",
     "text": [
      "Epoch 38/100, Loss: 0.001030573720307566, Val_Recall: 98.19357768657326%\n"
     ]
    },
    {
     "name": "stderr",
     "output_type": "stream",
     "text": [
      "100%|█████████████████████████████████████████████████████████████████████████████████████████████████████| 1148/1148 [00:44<00:00, 25.80it/s]\n",
      "100%|███████████████████████████████████████████████████████████████████████████████████████████████████████| 157/157 [00:02<00:00, 70.24it/s]\n"
     ]
    },
    {
     "name": "stdout",
     "output_type": "stream",
     "text": [
      "Epoch 39/100, Loss: 0.0010924777777065076, Val_Recall: 98.36443350093481%\n"
     ]
    },
    {
     "name": "stderr",
     "output_type": "stream",
     "text": [
      "100%|█████████████████████████████████████████████████████████████████████████████████████████████████████| 1148/1148 [00:44<00:00, 25.79it/s]\n",
      "100%|███████████████████████████████████████████████████████████████████████████████████████████████████████| 157/157 [00:02<00:00, 70.61it/s]\n"
     ]
    },
    {
     "name": "stdout",
     "output_type": "stream",
     "text": [
      "Epoch 40/100, Loss: 0.0016677695814013688, Val_Recall: 97.76158156797608%\n"
     ]
    },
    {
     "name": "stderr",
     "output_type": "stream",
     "text": [
      "100%|█████████████████████████████████████████████████████████████████████████████████████████████████████| 1148/1148 [00:44<00:00, 25.76it/s]\n",
      "100%|███████████████████████████████████████████████████████████████████████████████████████████████████████| 157/157 [00:02<00:00, 71.08it/s]\n"
     ]
    },
    {
     "name": "stdout",
     "output_type": "stream",
     "text": [
      "Epoch 41/100, Loss: 0.0011904000611225982, Val_Recall: 97.8868065527196%\n"
     ]
    },
    {
     "name": "stderr",
     "output_type": "stream",
     "text": [
      "100%|█████████████████████████████████████████████████████████████████████████████████████████████████████| 1148/1148 [00:44<00:00, 25.75it/s]\n",
      "100%|███████████████████████████████████████████████████████████████████████████████████████████████████████| 157/157 [00:02<00:00, 71.82it/s]\n"
     ]
    },
    {
     "name": "stdout",
     "output_type": "stream",
     "text": [
      "Epoch 42/100, Loss: 0.0024325500463325037, Val_Recall: 97.45137531678688%\n"
     ]
    },
    {
     "name": "stderr",
     "output_type": "stream",
     "text": [
      "100%|█████████████████████████████████████████████████████████████████████████████████████████████████████| 1148/1148 [00:44<00:00, 25.80it/s]\n",
      "100%|███████████████████████████████████████████████████████████████████████████████████████████████████████| 157/157 [00:02<00:00, 70.01it/s]\n"
     ]
    },
    {
     "name": "stdout",
     "output_type": "stream",
     "text": [
      "Epoch 43/100, Loss: 0.0007852838319019504, Val_Recall: 98.50857148390334%\n"
     ]
    },
    {
     "name": "stderr",
     "output_type": "stream",
     "text": [
      "100%|█████████████████████████████████████████████████████████████████████████████████████████████████████| 1148/1148 [00:44<00:00, 25.78it/s]\n",
      "100%|███████████████████████████████████████████████████████████████████████████████████████████████████████| 157/157 [00:02<00:00, 70.04it/s]\n"
     ]
    },
    {
     "name": "stdout",
     "output_type": "stream",
     "text": [
      "Epoch 44/100, Loss: 0.0006528114162120186, Val_Recall: 98.98286426685199%\n",
      "Model saved based on lowest validation loss.\n"
     ]
    },
    {
     "name": "stderr",
     "output_type": "stream",
     "text": [
      "100%|█████████████████████████████████████████████████████████████████████████████████████████████████████| 1148/1148 [00:44<00:00, 25.77it/s]\n",
      "100%|███████████████████████████████████████████████████████████████████████████████████████████████████████| 157/157 [00:02<00:00, 70.81it/s]\n"
     ]
    },
    {
     "name": "stdout",
     "output_type": "stream",
     "text": [
      "Epoch 45/100, Loss: 0.0004373475992574649, Val_Recall: 99.80220284379024%\n",
      "Model saved based on lowest validation loss.\n"
     ]
    },
    {
     "name": "stderr",
     "output_type": "stream",
     "text": [
      "100%|█████████████████████████████████████████████████████████████████████████████████████████████████████| 1148/1148 [00:44<00:00, 25.81it/s]\n",
      "100%|███████████████████████████████████████████████████████████████████████████████████████████████████████| 157/157 [00:02<00:00, 70.74it/s]\n"
     ]
    },
    {
     "name": "stdout",
     "output_type": "stream",
     "text": [
      "Epoch 46/100, Loss: 0.000619179496609737, Val_Recall: 99.75600079210012%\n"
     ]
    },
    {
     "name": "stderr",
     "output_type": "stream",
     "text": [
      "100%|█████████████████████████████████████████████████████████████████████████████████████████████████████| 1148/1148 [00:44<00:00, 25.80it/s]\n",
      "100%|███████████████████████████████████████████████████████████████████████████████████████████████████████| 157/157 [00:02<00:00, 71.05it/s]\n"
     ]
    },
    {
     "name": "stdout",
     "output_type": "stream",
     "text": [
      "Epoch 47/100, Loss: 0.0005996607521798307, Val_Recall: 99.14626295966245%\n"
     ]
    },
    {
     "name": "stderr",
     "output_type": "stream",
     "text": [
      "100%|█████████████████████████████████████████████████████████████████████████████████████████████████████| 1148/1148 [00:44<00:00, 25.79it/s]\n",
      "100%|███████████████████████████████████████████████████████████████████████████████████████████████████████| 157/157 [00:02<00:00, 70.51it/s]\n"
     ]
    },
    {
     "name": "stdout",
     "output_type": "stream",
     "text": [
      "Epoch 48/100, Loss: 0.0013900009392720863, Val_Recall: 96.5667991315473%\n"
     ]
    },
    {
     "name": "stderr",
     "output_type": "stream",
     "text": [
      "100%|█████████████████████████████████████████████████████████████████████████████████████████████████████| 1148/1148 [00:44<00:00, 25.80it/s]\n",
      "100%|███████████████████████████████████████████████████████████████████████████████████████████████████████| 157/157 [00:02<00:00, 70.06it/s]\n"
     ]
    },
    {
     "name": "stdout",
     "output_type": "stream",
     "text": [
      "Epoch 49/100, Loss: 0.0015255064088319796, Val_Recall: 98.13947149242162%\n"
     ]
    },
    {
     "name": "stderr",
     "output_type": "stream",
     "text": [
      "100%|█████████████████████████████████████████████████████████████████████████████████████████████████████| 1148/1148 [00:44<00:00, 25.84it/s]\n",
      "100%|███████████████████████████████████████████████████████████████████████████████████████████████████████| 157/157 [00:02<00:00, 70.59it/s]\n"
     ]
    },
    {
     "name": "stdout",
     "output_type": "stream",
     "text": [
      "Epoch 50/100, Loss: 0.0007002131602832138, Val_Recall: 97.65127676784404%\n"
     ]
    },
    {
     "name": "stderr",
     "output_type": "stream",
     "text": [
      "100%|█████████████████████████████████████████████████████████████████████████████████████████████████████| 1148/1148 [00:44<00:00, 25.83it/s]\n",
      "100%|███████████████████████████████████████████████████████████████████████████████████████████████████████| 157/157 [00:02<00:00, 71.78it/s]\n"
     ]
    },
    {
     "name": "stdout",
     "output_type": "stream",
     "text": [
      "Epoch 51/100, Loss: 0.0009336470663356633, Val_Recall: 98.51602860545442%\n"
     ]
    },
    {
     "name": "stderr",
     "output_type": "stream",
     "text": [
      "100%|█████████████████████████████████████████████████████████████████████████████████████████████████████| 1148/1148 [00:44<00:00, 25.79it/s]\n",
      "100%|███████████████████████████████████████████████████████████████████████████████████████████████████████| 157/157 [00:02<00:00, 70.83it/s]\n"
     ]
    },
    {
     "name": "stdout",
     "output_type": "stream",
     "text": [
      "Epoch 52/100, Loss: 0.0008945656238764618, Val_Recall: 97.86732233242249%\n"
     ]
    },
    {
     "name": "stderr",
     "output_type": "stream",
     "text": [
      "100%|█████████████████████████████████████████████████████████████████████████████████████████████████████| 1148/1148 [00:44<00:00, 25.74it/s]\n",
      "100%|███████████████████████████████████████████████████████████████████████████████████████████████████████| 157/157 [00:02<00:00, 72.22it/s]\n"
     ]
    },
    {
     "name": "stdout",
     "output_type": "stream",
     "text": [
      "Epoch 53/100, Loss: 0.001532189175397843, Val_Recall: 97.38480688599739%\n"
     ]
    },
    {
     "name": "stderr",
     "output_type": "stream",
     "text": [
      "100%|█████████████████████████████████████████████████████████████████████████████████████████████████████| 1148/1148 [00:44<00:00, 25.78it/s]\n",
      "100%|███████████████████████████████████████████████████████████████████████████████████████████████████████| 157/157 [00:02<00:00, 70.74it/s]\n"
     ]
    },
    {
     "name": "stdout",
     "output_type": "stream",
     "text": [
      "Epoch 54/100, Loss: 0.0012792793606440573, Val_Recall: 97.86008872132662%\n"
     ]
    },
    {
     "name": "stderr",
     "output_type": "stream",
     "text": [
      "100%|█████████████████████████████████████████████████████████████████████████████████████████████████████| 1148/1148 [00:44<00:00, 25.76it/s]\n",
      "100%|███████████████████████████████████████████████████████████████████████████████████████████████████████| 157/157 [00:02<00:00, 71.14it/s]\n"
     ]
    },
    {
     "name": "stdout",
     "output_type": "stream",
     "text": [
      "Epoch 55/100, Loss: 0.0012787417820246329, Val_Recall: 98.34494928063768%\n"
     ]
    },
    {
     "name": "stderr",
     "output_type": "stream",
     "text": [
      "100%|█████████████████████████████████████████████████████████████████████████████████████████████████████| 1148/1148 [00:44<00:00, 25.81it/s]\n",
      "100%|███████████████████████████████████████████████████████████████████████████████████████████████████████| 157/157 [00:02<00:00, 70.46it/s]\n"
     ]
    },
    {
     "name": "stdout",
     "output_type": "stream",
     "text": [
      "Epoch 56/100, Loss: 0.0017349089513884106, Val_Recall: 96.89972281623113%\n"
     ]
    },
    {
     "name": "stderr",
     "output_type": "stream",
     "text": [
      "100%|█████████████████████████████████████████████████████████████████████████████████████████████████████| 1148/1148 [00:44<00:00, 25.88it/s]\n",
      "100%|███████████████████████████████████████████████████████████████████████████████████████████████████████| 157/157 [00:02<00:00, 70.74it/s]\n"
     ]
    },
    {
     "name": "stdout",
     "output_type": "stream",
     "text": [
      "Epoch 57/100, Loss: 0.0014259822082789175, Val_Recall: 97.55255204554763%\n"
     ]
    },
    {
     "name": "stderr",
     "output_type": "stream",
     "text": [
      "100%|█████████████████████████████████████████████████████████████████████████████████████████████████████| 1148/1148 [00:44<00:00, 25.73it/s]\n",
      "100%|███████████████████████████████████████████████████████████████████████████████████████████████████████| 157/157 [00:02<00:00, 70.75it/s]\n"
     ]
    },
    {
     "name": "stdout",
     "output_type": "stream",
     "text": [
      "Epoch 58/100, Loss: 0.0009740283319615791, Val_Recall: 98.82714620604781%\n"
     ]
    },
    {
     "name": "stderr",
     "output_type": "stream",
     "text": [
      "100%|█████████████████████████████████████████████████████████████████████████████████████████████████████| 1148/1148 [00:44<00:00, 25.72it/s]\n",
      "100%|███████████████████████████████████████████████████████████████████████████████████████████████████████| 157/157 [00:02<00:00, 71.10it/s]\n"
     ]
    },
    {
     "name": "stdout",
     "output_type": "stream",
     "text": [
      "Epoch 59/100, Loss: 0.0011413338259880633, Val_Recall: 98.1892312198335%\n"
     ]
    },
    {
     "name": "stderr",
     "output_type": "stream",
     "text": [
      "100%|█████████████████████████████████████████████████████████████████████████████████████████████████████| 1148/1148 [00:44<00:00, 25.76it/s]\n",
      "100%|███████████████████████████████████████████████████████████████████████████████████████████████████████| 157/157 [00:02<00:00, 70.67it/s]\n"
     ]
    },
    {
     "name": "stdout",
     "output_type": "stream",
     "text": [
      "Epoch 60/100, Loss: 0.000951496002825702, Val_Recall: 97.69646651806096%\n"
     ]
    },
    {
     "name": "stderr",
     "output_type": "stream",
     "text": [
      "100%|█████████████████████████████████████████████████████████████████████████████████████████████████████| 1148/1148 [00:44<00:00, 25.79it/s]\n",
      "100%|███████████████████████████████████████████████████████████████████████████████████████████████████████| 157/157 [00:02<00:00, 71.24it/s]\n"
     ]
    },
    {
     "name": "stdout",
     "output_type": "stream",
     "text": [
      "Epoch 61/100, Loss: 0.0007765834568230102, Val_Recall: 98.34929574737744%\n"
     ]
    },
    {
     "name": "stderr",
     "output_type": "stream",
     "text": [
      "100%|█████████████████████████████████████████████████████████████████████████████████████████████████████| 1148/1148 [00:44<00:00, 25.81it/s]\n",
      "100%|███████████████████████████████████████████████████████████████████████████████████████████████████████| 157/157 [00:02<00:00, 70.44it/s]\n"
     ]
    },
    {
     "name": "stdout",
     "output_type": "stream",
     "text": [
      "Epoch 62/100, Loss: 0.0009538252399731413, Val_Recall: 98.02272187221172%\n"
     ]
    },
    {
     "name": "stderr",
     "output_type": "stream",
     "text": [
      "100%|█████████████████████████████████████████████████████████████████████████████████████████████████████| 1148/1148 [00:44<00:00, 25.85it/s]\n",
      "100%|███████████████████████████████████████████████████████████████████████████████████████████████████████| 157/157 [00:02<00:00, 71.11it/s]\n"
     ]
    },
    {
     "name": "stdout",
     "output_type": "stream",
     "text": [
      "Epoch 63/100, Loss: 0.0007888941262391377, Val_Recall: 98.99032138840307%\n"
     ]
    },
    {
     "name": "stderr",
     "output_type": "stream",
     "text": [
      "100%|█████████████████████████████████████████████████████████████████████████████████████████████████████| 1148/1148 [00:44<00:00, 25.75it/s]\n",
      "100%|███████████████████████████████████████████████████████████████████████████████████████████████████████| 157/157 [00:02<00:00, 71.07it/s]\n"
     ]
    },
    {
     "name": "stdout",
     "output_type": "stream",
     "text": [
      "Epoch 64/100, Loss: 0.0009235215181429013, Val_Recall: 99.13779353663813%\n"
     ]
    },
    {
     "name": "stderr",
     "output_type": "stream",
     "text": [
      "100%|█████████████████████████████████████████████████████████████████████████████████████████████████████| 1148/1148 [00:44<00:00, 25.83it/s]\n",
      "100%|███████████████████████████████████████████████████████████████████████████████████████████████████████| 157/157 [00:02<00:00, 70.15it/s]\n"
     ]
    },
    {
     "name": "stdout",
     "output_type": "stream",
     "text": [
      "Epoch 65/100, Loss: 0.0008806820842514295, Val_Recall: 98.35262991264396%\n"
     ]
    },
    {
     "name": "stderr",
     "output_type": "stream",
     "text": [
      "100%|█████████████████████████████████████████████████████████████████████████████████████████████████████| 1148/1148 [00:44<00:00, 25.91it/s]\n",
      "100%|███████████████████████████████████████████████████████████████████████████████████████████████████████| 157/157 [00:02<00:00, 70.99it/s]\n"
     ]
    },
    {
     "name": "stdout",
     "output_type": "stream",
     "text": [
      "Epoch 66/100, Loss: 0.0010370023782431635, Val_Recall: 98.33438150427526%\n"
     ]
    },
    {
     "name": "stderr",
     "output_type": "stream",
     "text": [
      "100%|█████████████████████████████████████████████████████████████████████████████████████████████████████| 1148/1148 [00:44<00:00, 25.80it/s]\n",
      "100%|███████████████████████████████████████████████████████████████████████████████████████████████████████| 157/157 [00:02<00:00, 68.86it/s]\n"
     ]
    },
    {
     "name": "stdout",
     "output_type": "stream",
     "text": [
      "Epoch 67/100, Loss: 0.0008548894375731172, Val_Recall: 98.36008703419505%\n"
     ]
    },
    {
     "name": "stderr",
     "output_type": "stream",
     "text": [
      "100%|█████████████████████████████████████████████████████████████████████████████████████████████████████| 1148/1148 [00:44<00:00, 25.80it/s]\n",
      "100%|███████████████████████████████████████████████████████████████████████████████████████████████████████| 157/157 [00:02<00:00, 70.81it/s]\n"
     ]
    },
    {
     "name": "stdout",
     "output_type": "stream",
     "text": [
      "Epoch 68/100, Loss: 0.0005491831237373816, Val_Recall: 99.14191649292269%\n"
     ]
    },
    {
     "name": "stderr",
     "output_type": "stream",
     "text": [
      "100%|█████████████████████████████████████████████████████████████████████████████████████████████████████| 1148/1148 [00:44<00:00, 25.97it/s]\n",
      "100%|███████████████████████████████████████████████████████████████████████████████████████████████████████| 157/157 [00:02<00:00, 71.07it/s]\n"
     ]
    },
    {
     "name": "stdout",
     "output_type": "stream",
     "text": [
      "Epoch 69/100, Loss: 0.00042992120829013405, Val_Recall: 99.01291626351151%\n",
      "Model saved based on lowest validation loss.\n"
     ]
    },
    {
     "name": "stderr",
     "output_type": "stream",
     "text": [
      "100%|█████████████████████████████████████████████████████████████████████████████████████████████████████| 1148/1148 [00:44<00:00, 25.88it/s]\n",
      "100%|███████████████████████████████████████████████████████████████████████████████████████████████████████| 157/157 [00:02<00:00, 70.75it/s]\n"
     ]
    },
    {
     "name": "stdout",
     "output_type": "stream",
     "text": [
      "Epoch 70/100, Loss: 0.0007012341349856985, Val_Recall: 98.78049713344727%\n"
     ]
    },
    {
     "name": "stderr",
     "output_type": "stream",
     "text": [
      "100%|█████████████████████████████████████████████████████████████████████████████████████████████████████| 1148/1148 [00:44<00:00, 25.82it/s]\n",
      "100%|███████████████████████████████████████████████████████████████████████████████████████████████████████| 157/157 [00:02<00:00, 70.34it/s]\n"
     ]
    },
    {
     "name": "stdout",
     "output_type": "stream",
     "text": [
      "Epoch 71/100, Loss: 0.0008501410607193393, Val_Recall: 97.66105575318844%\n"
     ]
    },
    {
     "name": "stderr",
     "output_type": "stream",
     "text": [
      "100%|█████████████████████████████████████████████████████████████████████████████████████████████████████| 1148/1148 [00:44<00:00, 25.72it/s]\n",
      "100%|███████████████████████████████████████████████████████████████████████████████████████████████████████| 157/157 [00:02<00:00, 71.05it/s]\n"
     ]
    },
    {
     "name": "stdout",
     "output_type": "stream",
     "text": [
      "Epoch 72/100, Loss: 0.0012667340217069588, Val_Recall: 98.31178662916682%\n"
     ]
    },
    {
     "name": "stderr",
     "output_type": "stream",
     "text": [
      "100%|█████████████████████████████████████████████████████████████████████████████████████████████████████| 1148/1148 [00:44<00:00, 25.77it/s]\n",
      "100%|███████████████████████████████████████████████████████████████████████████████████████████████████████| 157/157 [00:02<00:00, 70.49it/s]\n"
     ]
    },
    {
     "name": "stdout",
     "output_type": "stream",
     "text": [
      "Epoch 73/100, Loss: 0.0014556398276971397, Val_Recall: 97.05566438749051%\n"
     ]
    },
    {
     "name": "stderr",
     "output_type": "stream",
     "text": [
      "100%|█████████████████████████████████████████████████████████████████████████████████████████████████████| 1148/1148 [00:44<00:00, 25.79it/s]\n",
      "100%|███████████████████████████████████████████████████████████████████████████████████████████████████████| 157/157 [00:02<00:00, 71.35it/s]\n"
     ]
    },
    {
     "name": "stdout",
     "output_type": "stream",
     "text": [
      "Epoch 74/100, Loss: 0.0011873645751556508, Val_Recall: 97.54820557880785%\n"
     ]
    },
    {
     "name": "stderr",
     "output_type": "stream",
     "text": [
      "100%|█████████████████████████████████████████████████████████████████████████████████████████████████████| 1148/1148 [00:44<00:00, 25.75it/s]\n",
      "100%|███████████████████████████████████████████████████████████████████████████████████████████████████████| 157/157 [00:02<00:00, 70.80it/s]\n"
     ]
    },
    {
     "name": "stdout",
     "output_type": "stream",
     "text": [
      "Epoch 75/100, Loss: 0.0007777065343551846, Val_Recall: 98.35697637938372%\n"
     ]
    },
    {
     "name": "stderr",
     "output_type": "stream",
     "text": [
      "100%|█████████████████████████████████████████████████████████████████████████████████████████████████████| 1148/1148 [00:44<00:00, 25.76it/s]\n",
      "100%|███████████████████████████████████████████████████████████████████████████████████████████████████████| 157/157 [00:02<00:00, 71.38it/s]\n"
     ]
    },
    {
     "name": "stdout",
     "output_type": "stream",
     "text": [
      "Epoch 76/100, Loss: 0.0010463264508300673, Val_Recall: 98.50111436235225%\n"
     ]
    },
    {
     "name": "stderr",
     "output_type": "stream",
     "text": [
      "100%|█████████████████████████████████████████████████████████████████████████████████████████████████████| 1148/1148 [00:44<00:00, 25.79it/s]\n",
      "100%|███████████████████████████████████████████████████████████████████████████████████████████████████████| 157/157 [00:02<00:00, 71.01it/s]\n"
     ]
    },
    {
     "name": "stdout",
     "output_type": "stream",
     "text": [
      "Epoch 77/100, Loss: 0.0011360569918235435, Val_Recall: 98.94100868190162%\n"
     ]
    },
    {
     "name": "stderr",
     "output_type": "stream",
     "text": [
      "100%|█████████████████████████████████████████████████████████████████████████████████████████████████████| 1148/1148 [00:44<00:00, 25.79it/s]\n",
      "100%|███████████████████████████████████████████████████████████████████████████████████████████████████████| 157/157 [00:02<00:00, 70.81it/s]\n"
     ]
    },
    {
     "name": "stdout",
     "output_type": "stream",
     "text": [
      "Epoch 78/100, Loss: 0.001170375942395011, Val_Recall: 99.12164348160753%\n"
     ]
    },
    {
     "name": "stderr",
     "output_type": "stream",
     "text": [
      "100%|█████████████████████████████████████████████████████████████████████████████████████████████████████| 1148/1148 [00:44<00:00, 25.81it/s]\n",
      "100%|███████████████████████████████████████████████████████████████████████████████████████████████████████| 157/157 [00:02<00:00, 71.93it/s]\n"
     ]
    },
    {
     "name": "stdout",
     "output_type": "stream",
     "text": [
      "Epoch 79/100, Loss: 0.0016675931477006013, Val_Recall: 97.52459840222618%\n"
     ]
    },
    {
     "name": "stderr",
     "output_type": "stream",
     "text": [
      "100%|█████████████████████████████████████████████████████████████████████████████████████████████████████| 1148/1148 [00:44<00:00, 25.78it/s]\n",
      "100%|███████████████████████████████████████████████████████████████████████████████████████████████████████| 157/157 [00:02<00:00, 69.88it/s]\n"
     ]
    },
    {
     "name": "stdout",
     "output_type": "stream",
     "text": [
      "Epoch 80/100, Loss: 0.001381937777463826, Val_Recall: 98.95824478879707%\n"
     ]
    },
    {
     "name": "stderr",
     "output_type": "stream",
     "text": [
      "100%|█████████████████████████████████████████████████████████████████████████████████████████████████████| 1148/1148 [00:44<00:00, 25.73it/s]\n",
      "100%|███████████████████████████████████████████████████████████████████████████████████████████████████████| 157/157 [00:02<00:00, 70.01it/s]\n"
     ]
    },
    {
     "name": "stdout",
     "output_type": "stream",
     "text": [
      "Epoch 81/100, Loss: 0.0007919675017656173, Val_Recall: 98.99800202040936%\n"
     ]
    },
    {
     "name": "stderr",
     "output_type": "stream",
     "text": [
      "100%|█████████████████████████████████████████████████████████████████████████████████████████████████████| 1148/1148 [00:44<00:00, 25.83it/s]\n",
      "100%|███████████████████████████████████████████████████████████████████████████████████████████████████████| 157/157 [00:02<00:00, 70.98it/s]\n"
     ]
    },
    {
     "name": "stdout",
     "output_type": "stream",
     "text": [
      "Epoch 82/100, Loss: 0.001259420341105608, Val_Recall: 98.50857148390334%\n"
     ]
    },
    {
     "name": "stderr",
     "output_type": "stream",
     "text": [
      "100%|█████████████████████████████████████████████████████████████████████████████████████████████████████| 1148/1148 [00:44<00:00, 25.78it/s]\n",
      "100%|███████████████████████████████████████████████████████████████████████████████████████████████████████| 157/157 [00:02<00:00, 71.37it/s]\n"
     ]
    },
    {
     "name": "stdout",
     "output_type": "stream",
     "text": [
      "Epoch 83/100, Loss: 0.0008980167911172316, Val_Recall: 98.53094284855658%\n"
     ]
    },
    {
     "name": "stderr",
     "output_type": "stream",
     "text": [
      "100%|█████████████████████████████████████████████████████████████████████████████████████████████████████| 1148/1148 [00:44<00:00, 25.72it/s]\n",
      "100%|███████████████████████████████████████████████████████████████████████████████████████████████████████| 157/157 [00:02<00:00, 70.71it/s]\n"
     ]
    },
    {
     "name": "stdout",
     "output_type": "stream",
     "text": [
      "Epoch 84/100, Loss: 0.0011874416807670426, Val_Recall: 98.35675286892851%\n"
     ]
    },
    {
     "name": "stderr",
     "output_type": "stream",
     "text": [
      "100%|█████████████████████████████████████████████████████████████████████████████████████████████████████| 1148/1148 [00:44<00:00, 25.80it/s]\n",
      "100%|███████████████████████████████████████████████████████████████████████████████████████████████████████| 157/157 [00:02<00:00, 71.21it/s]\n"
     ]
    },
    {
     "name": "stdout",
     "output_type": "stream",
     "text": [
      "Epoch 85/100, Loss: 0.001984936868452654, Val_Recall: 95.01303012011947%\n"
     ]
    },
    {
     "name": "stderr",
     "output_type": "stream",
     "text": [
      "100%|█████████████████████████████████████████████████████████████████████████████████████████████████████| 1148/1148 [00:44<00:00, 25.82it/s]\n",
      "100%|███████████████████████████████████████████████████████████████████████████████████████████████████████| 157/157 [00:02<00:00, 70.66it/s]\n"
     ]
    },
    {
     "name": "stdout",
     "output_type": "stream",
     "text": [
      "Epoch 86/100, Loss: 0.0010624681287460236, Val_Recall: 97.68777358458142%\n"
     ]
    },
    {
     "name": "stderr",
     "output_type": "stream",
     "text": [
      "100%|█████████████████████████████████████████████████████████████████████████████████████████████████████| 1148/1148 [00:44<00:00, 25.84it/s]\n",
      "100%|███████████████████████████████████████████████████████████████████████████████████████████████████████| 157/157 [00:02<00:00, 71.43it/s]\n"
     ]
    },
    {
     "name": "stdout",
     "output_type": "stream",
     "text": [
      "Epoch 87/100, Loss: 0.0006992801726874754, Val_Recall: 99.01291626351151%\n"
     ]
    },
    {
     "name": "stderr",
     "output_type": "stream",
     "text": [
      "100%|█████████████████████████████████████████████████████████████████████████████████████████████████████| 1148/1148 [00:44<00:00, 25.76it/s]\n",
      "100%|███████████████████████████████████████████████████████████████████████████████████████████████████████| 157/157 [00:02<00:00, 71.66it/s]\n"
     ]
    },
    {
     "name": "stdout",
     "output_type": "stream",
     "text": [
      "Epoch 88/100, Loss: 0.0007988413012120541, Val_Recall: 99.80988347579654%\n"
     ]
    },
    {
     "name": "stderr",
     "output_type": "stream",
     "text": [
      "100%|█████████████████████████████████████████████████████████████████████████████████████████████████████| 1148/1148 [00:44<00:00, 25.86it/s]\n",
      "100%|███████████████████████████████████████████████████████████████████████████████████████████████████████| 157/157 [00:02<00:00, 71.22it/s]\n"
     ]
    },
    {
     "name": "stdout",
     "output_type": "stream",
     "text": [
      "Epoch 89/100, Loss: 0.0010757937136956993, Val_Recall: 98.83025686085915%\n"
     ]
    },
    {
     "name": "stderr",
     "output_type": "stream",
     "text": [
      "100%|█████████████████████████████████████████████████████████████████████████████████████████████████████| 1148/1148 [00:44<00:00, 25.83it/s]\n",
      "100%|███████████████████████████████████████████████████████████████████████████████████████████████████████| 157/157 [00:02<00:00, 71.07it/s]\n"
     ]
    },
    {
     "name": "stdout",
     "output_type": "stream",
     "text": [
      "Epoch 90/100, Loss: 0.0005631882456556059, Val_Recall: 98.52348572700551%\n"
     ]
    },
    {
     "name": "stderr",
     "output_type": "stream",
     "text": [
      "100%|█████████████████████████████████████████████████████████████████████████████████████████████████████| 1148/1148 [00:44<00:00, 25.88it/s]\n",
      "100%|███████████████████████████████████████████████████████████████████████████████████████████████████████| 157/157 [00:02<00:00, 71.80it/s]\n"
     ]
    },
    {
     "name": "stdout",
     "output_type": "stream",
     "text": [
      "Epoch 91/100, Loss: 0.0006893277121640468, Val_Recall: 97.8596417004162%\n"
     ]
    },
    {
     "name": "stderr",
     "output_type": "stream",
     "text": [
      "100%|█████████████████████████████████████████████████████████████████████████████████████████████████████| 1148/1148 [00:44<00:00, 25.70it/s]\n",
      "100%|███████████████████████████████████████████████████████████████████████████████████████████████████████| 157/157 [00:02<00:00, 70.00it/s]\n"
     ]
    },
    {
     "name": "stdout",
     "output_type": "stream",
     "text": [
      "Epoch 92/100, Loss: 0.0008926209295818803, Val_Recall: 99.14937361447377%\n"
     ]
    },
    {
     "name": "stderr",
     "output_type": "stream",
     "text": [
      "100%|█████████████████████████████████████████████████████████████████████████████████████████████████████| 1148/1148 [00:44<00:00, 25.74it/s]\n",
      "100%|███████████████████████████████████████████████████████████████████████████████████████████████████████| 157/157 [00:02<00:00, 70.72it/s]\n"
     ]
    },
    {
     "name": "stdout",
     "output_type": "stream",
     "text": [
      "Epoch 93/100, Loss: 0.0009315096220623883, Val_Recall: 98.99777850995414%\n"
     ]
    },
    {
     "name": "stderr",
     "output_type": "stream",
     "text": [
      "100%|█████████████████████████████████████████████████████████████████████████████████████████████████████| 1148/1148 [00:44<00:00, 25.82it/s]\n",
      "100%|███████████████████████████████████████████████████████████████████████████████████████████████████████| 157/157 [00:02<00:00, 70.96it/s]\n"
     ]
    },
    {
     "name": "stdout",
     "output_type": "stream",
     "text": [
      "Epoch 94/100, Loss: 0.0007179523204252931, Val_Recall: 99.1688578347709%\n"
     ]
    },
    {
     "name": "stderr",
     "output_type": "stream",
     "text": [
      "100%|█████████████████████████████████████████████████████████████████████████████████████████████████████| 1148/1148 [00:44<00:00, 25.74it/s]\n",
      "100%|███████████████████████████████████████████████████████████████████████████████████████████████████████| 157/157 [00:02<00:00, 71.29it/s]\n"
     ]
    },
    {
     "name": "stdout",
     "output_type": "stream",
     "text": [
      "Epoch 95/100, Loss: 0.000768471292480505, Val_Recall: 98.35697637938372%\n"
     ]
    },
    {
     "name": "stderr",
     "output_type": "stream",
     "text": [
      "100%|█████████████████████████████████████████████████████████████████████████████████████████████████████| 1148/1148 [00:44<00:00, 25.79it/s]\n",
      "100%|███████████████████████████████████████████████████████████████████████████████████████████████████████| 157/157 [00:02<00:00, 70.95it/s]\n"
     ]
    },
    {
     "name": "stdout",
     "output_type": "stream",
     "text": [
      "Epoch 96/100, Loss: 0.001845180837047465, Val_Recall: 97.78185656821584%\n"
     ]
    },
    {
     "name": "stderr",
     "output_type": "stream",
     "text": [
      "100%|█████████████████████████████████████████████████████████████████████████████████████████████████████| 1148/1148 [00:44<00:00, 25.77it/s]\n",
      "100%|███████████████████████████████████████████████████████████████████████████████████████████████████████| 157/157 [00:02<00:00, 70.84it/s]\n"
     ]
    },
    {
     "name": "stdout",
     "output_type": "stream",
     "text": [
      "Epoch 97/100, Loss: 0.0006952920645905092, Val_Recall: 99.2701511804085%\n"
     ]
    },
    {
     "name": "stderr",
     "output_type": "stream",
     "text": [
      "100%|█████████████████████████████████████████████████████████████████████████████████████████████████████| 1148/1148 [00:44<00:00, 25.76it/s]\n",
      "100%|███████████████████████████████████████████████████████████████████████████████████████████████████████| 157/157 [00:02<00:00, 68.47it/s]\n"
     ]
    },
    {
     "name": "stdout",
     "output_type": "stream",
     "text": [
      "Epoch 98/100, Loss: 0.0003822036101999105, Val_Recall: 99.6464847829861%\n",
      "Model saved based on lowest validation loss.\n"
     ]
    },
    {
     "name": "stderr",
     "output_type": "stream",
     "text": [
      "100%|█████████████████████████████████████████████████████████████████████████████████████████████████████| 1148/1148 [00:44<00:00, 25.85it/s]\n",
      "100%|███████████████████████████████████████████████████████████████████████████████████████████████████████| 157/157 [00:02<00:00, 70.65it/s]\n"
     ]
    },
    {
     "name": "stdout",
     "output_type": "stream",
     "text": [
      "Epoch 99/100, Loss: 0.00041670287916876727, Val_Recall: 99.46794833661826%\n"
     ]
    },
    {
     "name": "stderr",
     "output_type": "stream",
     "text": [
      "100%|█████████████████████████████████████████████████████████████████████████████████████████████████████| 1148/1148 [00:44<00:00, 25.86it/s]\n",
      "100%|███████████████████████████████████████████████████████████████████████████████████████████████████████| 157/157 [00:02<00:00, 72.20it/s]\n"
     ]
    },
    {
     "name": "stdout",
     "output_type": "stream",
     "text": [
      "Epoch 100/100, Loss: 0.001440870687590021, Val_Recall: 99.4642664597348%\n",
      "Loaded pretrained weights for efficientnet-b0\n"
     ]
    },
    {
     "name": "stderr",
     "output_type": "stream",
     "text": [
      "100%|█████████████████████████████████████████████████████████████████████████████████████████████████████| 1148/1148 [00:44<00:00, 25.81it/s]\n",
      "100%|███████████████████████████████████████████████████████████████████████████████████████████████████████| 157/157 [00:02<00:00, 69.68it/s]\n"
     ]
    },
    {
     "name": "stdout",
     "output_type": "stream",
     "text": [
      "Epoch 1/100, Loss: 0.019628415636089483, Val_Recall: 71.70367534916703%\n",
      "Model saved based on lowest validation loss.\n"
     ]
    },
    {
     "name": "stderr",
     "output_type": "stream",
     "text": [
      "100%|█████████████████████████████████████████████████████████████████████████████████████████████████████| 1148/1148 [00:44<00:00, 25.80it/s]\n",
      "100%|███████████████████████████████████████████████████████████████████████████████████████████████████████| 157/157 [00:02<00:00, 70.83it/s]\n"
     ]
    },
    {
     "name": "stdout",
     "output_type": "stream",
     "text": [
      "Epoch 2/100, Loss: 0.008685143696827144, Val_Recall: 80.22632212412259%\n",
      "Model saved based on lowest validation loss.\n"
     ]
    },
    {
     "name": "stderr",
     "output_type": "stream",
     "text": [
      "100%|█████████████████████████████████████████████████████████████████████████████████████████████████████| 1148/1148 [00:44<00:00, 25.79it/s]\n",
      "100%|███████████████████████████████████████████████████████████████████████████████████████████████████████| 157/157 [00:02<00:00, 70.89it/s]\n"
     ]
    },
    {
     "name": "stdout",
     "output_type": "stream",
     "text": [
      "Epoch 3/100, Loss: 0.00560365353565801, Val_Recall: 81.55000943325376%\n",
      "Model saved based on lowest validation loss.\n"
     ]
    },
    {
     "name": "stderr",
     "output_type": "stream",
     "text": [
      "100%|█████████████████████████████████████████████████████████████████████████████████████████████████████| 1148/1148 [00:44<00:00, 25.77it/s]\n",
      "100%|███████████████████████████████████████████████████████████████████████████████████████████████████████| 157/157 [00:02<00:00, 69.28it/s]\n"
     ]
    },
    {
     "name": "stdout",
     "output_type": "stream",
     "text": [
      "Epoch 4/100, Loss: 0.003789808475491676, Val_Recall: 88.55133544834612%\n",
      "Model saved based on lowest validation loss.\n"
     ]
    },
    {
     "name": "stderr",
     "output_type": "stream",
     "text": [
      "100%|█████████████████████████████████████████████████████████████████████████████████████████████████████| 1148/1148 [00:44<00:00, 25.79it/s]\n",
      "100%|███████████████████████████████████████████████████████████████████████████████████████████████████████| 157/157 [00:02<00:00, 70.16it/s]\n"
     ]
    },
    {
     "name": "stdout",
     "output_type": "stream",
     "text": [
      "Epoch 5/100, Loss: 0.002565255210547722, Val_Recall: 93.14961446818498%\n",
      "Model saved based on lowest validation loss.\n"
     ]
    },
    {
     "name": "stderr",
     "output_type": "stream",
     "text": [
      "100%|█████████████████████████████████████████████████████████████████████████████████████████████████████| 1148/1148 [00:44<00:00, 25.86it/s]\n",
      "100%|███████████████████████████████████████████████████████████████████████████████████████████████████████| 157/157 [00:02<00:00, 69.93it/s]\n"
     ]
    },
    {
     "name": "stdout",
     "output_type": "stream",
     "text": [
      "Epoch 6/100, Loss: 0.0020956562885733367, Val_Recall: 95.81746609165867%\n",
      "Model saved based on lowest validation loss.\n"
     ]
    },
    {
     "name": "stderr",
     "output_type": "stream",
     "text": [
      "100%|█████████████████████████████████████████████████████████████████████████████████████████████████████| 1148/1148 [00:44<00:00, 25.83it/s]\n",
      "100%|███████████████████████████████████████████████████████████████████████████████████████████████████████| 157/157 [00:02<00:00, 70.17it/s]\n"
     ]
    },
    {
     "name": "stdout",
     "output_type": "stream",
     "text": [
      "Epoch 7/100, Loss: 0.0017218664146390543, Val_Recall: 96.50079433854509%\n",
      "Model saved based on lowest validation loss.\n"
     ]
    },
    {
     "name": "stderr",
     "output_type": "stream",
     "text": [
      "100%|█████████████████████████████████████████████████████████████████████████████████████████████████████| 1148/1148 [00:44<00:00, 25.73it/s]\n",
      "100%|███████████████████████████████████████████████████████████████████████████████████████████████████████| 157/157 [00:02<00:00, 70.73it/s]\n"
     ]
    },
    {
     "name": "stdout",
     "output_type": "stream",
     "text": [
      "Epoch 8/100, Loss: 0.0015189865616254566, Val_Recall: 96.50079433854509%\n",
      "Model saved based on lowest validation loss.\n"
     ]
    },
    {
     "name": "stderr",
     "output_type": "stream",
     "text": [
      "100%|█████████████████████████████████████████████████████████████████████████████████████████████████████| 1148/1148 [00:44<00:00, 25.81it/s]\n",
      "100%|███████████████████████████████████████████████████████████████████████████████████████████████████████| 157/157 [00:02<00:00, 69.88it/s]\n"
     ]
    },
    {
     "name": "stdout",
     "output_type": "stream",
     "text": [
      "Epoch 9/100, Loss: 0.0015027200937726781, Val_Recall: 96.50101784900032%\n",
      "Model saved based on lowest validation loss.\n"
     ]
    },
    {
     "name": "stderr",
     "output_type": "stream",
     "text": [
      "100%|█████████████████████████████████████████████████████████████████████████████████████████████████████| 1148/1148 [00:44<00:00, 25.76it/s]\n",
      "100%|███████████████████████████████████████████████████████████████████████████████████████████████████████| 157/157 [00:02<00:00, 71.07it/s]\n"
     ]
    },
    {
     "name": "stdout",
     "output_type": "stream",
     "text": [
      "Epoch 10/100, Loss: 0.0013724521600906767, Val_Recall: 96.6870114169192%\n",
      "Model saved based on lowest validation loss.\n"
     ]
    },
    {
     "name": "stderr",
     "output_type": "stream",
     "text": [
      "100%|█████████████████████████████████████████████████████████████████████████████████████████████████████| 1148/1148 [00:44<00:00, 25.85it/s]\n",
      "100%|███████████████████████████████████████████████████████████████████████████████████████████████████████| 157/157 [00:02<00:00, 70.55it/s]\n"
     ]
    },
    {
     "name": "stdout",
     "output_type": "stream",
     "text": [
      "Epoch 11/100, Loss: 0.001291642526720277, Val_Recall: 96.86532435283183%\n",
      "Model saved based on lowest validation loss.\n"
     ]
    },
    {
     "name": "stderr",
     "output_type": "stream",
     "text": [
      "100%|█████████████████████████████████████████████████████████████████████████████████████████████████████| 1148/1148 [00:44<00:00, 25.69it/s]\n",
      "100%|███████████████████████████████████████████████████████████████████████████████████████████████████████| 157/157 [00:02<00:00, 70.71it/s]\n"
     ]
    },
    {
     "name": "stdout",
     "output_type": "stream",
     "text": [
      "Epoch 12/100, Loss: 0.0011259685266874903, Val_Recall: 97.33549417949595%\n",
      "Model saved based on lowest validation loss.\n"
     ]
    },
    {
     "name": "stderr",
     "output_type": "stream",
     "text": [
      "100%|█████████████████████████████████████████████████████████████████████████████████████████████████████| 1148/1148 [00:44<00:00, 25.75it/s]\n",
      "100%|███████████████████████████████████████████████████████████████████████████████████████████████████████| 157/157 [00:02<00:00, 70.51it/s]\n"
     ]
    },
    {
     "name": "stdout",
     "output_type": "stream",
     "text": [
      "Epoch 13/100, Loss: 0.0011162816026787504, Val_Recall: 97.52126423695967%\n",
      "Model saved based on lowest validation loss.\n"
     ]
    },
    {
     "name": "stderr",
     "output_type": "stream",
     "text": [
      "100%|█████████████████████████████████████████████████████████████████████████████████████████████████████| 1148/1148 [00:44<00:00, 25.77it/s]\n",
      "100%|███████████████████████████████████████████████████████████████████████████████████████████████████████| 157/157 [00:02<00:00, 69.49it/s]\n"
     ]
    },
    {
     "name": "stdout",
     "output_type": "stream",
     "text": [
      "Epoch 14/100, Loss: 0.0009990116355982589, Val_Recall: 97.66974868666794%\n",
      "Model saved based on lowest validation loss.\n"
     ]
    },
    {
     "name": "stderr",
     "output_type": "stream",
     "text": [
      "100%|█████████████████████████████████████████████████████████████████████████████████████████████████████| 1148/1148 [00:44<00:00, 25.80it/s]\n",
      "100%|███████████████████████████████████████████████████████████████████████████████████████████████████████| 157/157 [00:02<00:00, 70.42it/s]\n"
     ]
    },
    {
     "name": "stdout",
     "output_type": "stream",
     "text": [
      "Epoch 15/100, Loss: 0.0009823564969383605, Val_Recall: 97.49889287230641%\n",
      "Model saved based on lowest validation loss.\n"
     ]
    },
    {
     "name": "stderr",
     "output_type": "stream",
     "text": [
      "100%|█████████████████████████████████████████████████████████████████████████████████████████████████████| 1148/1148 [00:44<00:00, 25.77it/s]\n",
      "100%|███████████████████████████████████████████████████████████████████████████████████████████████████████| 157/157 [00:02<00:00, 71.01it/s]\n"
     ]
    },
    {
     "name": "stdout",
     "output_type": "stream",
     "text": [
      "Epoch 16/100, Loss: 0.0011419110089503316, Val_Recall: 96.87278147438292%\n"
     ]
    },
    {
     "name": "stderr",
     "output_type": "stream",
     "text": [
      "100%|█████████████████████████████████████████████████████████████████████████████████████████████████████| 1148/1148 [00:44<00:00, 25.80it/s]\n",
      "100%|███████████████████████████████████████████████████████████████████████████████████████████████████████| 157/157 [00:02<00:00, 70.55it/s]\n"
     ]
    },
    {
     "name": "stdout",
     "output_type": "stream",
     "text": [
      "Epoch 17/100, Loss: 0.0011135563448422578, Val_Recall: 97.67720580821901%\n"
     ]
    },
    {
     "name": "stderr",
     "output_type": "stream",
     "text": [
      "100%|█████████████████████████████████████████████████████████████████████████████████████████████████████| 1148/1148 [00:44<00:00, 25.75it/s]\n",
      "100%|███████████████████████████████████████████████████████████████████████████████████████████████████████| 157/157 [00:02<00:00, 70.61it/s]\n"
     ]
    },
    {
     "name": "stdout",
     "output_type": "stream",
     "text": [
      "Epoch 18/100, Loss: 0.0010123333153043057, Val_Recall: 98.1622898779853%\n"
     ]
    },
    {
     "name": "stderr",
     "output_type": "stream",
     "text": [
      "100%|█████████████████████████████████████████████████████████████████████████████████████████████████████| 1148/1148 [00:44<00:00, 25.72it/s]\n",
      "100%|███████████████████████████████████████████████████████████████████████████████████████████████████████| 157/157 [00:02<00:00, 70.70it/s]\n"
     ]
    },
    {
     "name": "stdout",
     "output_type": "stream",
     "text": [
      "Epoch 19/100, Loss: 0.0011366656013915052, Val_Recall: 97.19212173845274%\n"
     ]
    },
    {
     "name": "stderr",
     "output_type": "stream",
     "text": [
      "100%|█████████████████████████████████████████████████████████████████████████████████████████████████████| 1148/1148 [00:44<00:00, 25.90it/s]\n",
      "100%|███████████████████████████████████████████████████████████████████████████████████████████████████████| 157/157 [00:02<00:00, 70.31it/s]\n"
     ]
    },
    {
     "name": "stdout",
     "output_type": "stream",
     "text": [
      "Epoch 20/100, Loss: 0.0013006323301518713, Val_Recall: 96.70938278157246%\n"
     ]
    },
    {
     "name": "stderr",
     "output_type": "stream",
     "text": [
      "100%|█████████████████████████████████████████████████████████████████████████████████████████████████████| 1148/1148 [00:44<00:00, 25.81it/s]\n",
      "100%|███████████████████████████████████████████████████████████████████████████████████████████████████████| 157/157 [00:02<00:00, 69.84it/s]\n"
     ]
    },
    {
     "name": "stdout",
     "output_type": "stream",
     "text": [
      "Epoch 21/100, Loss: 0.0011159019521700354, Val_Recall: 98.31823144924466%\n"
     ]
    },
    {
     "name": "stderr",
     "output_type": "stream",
     "text": [
      "100%|█████████████████████████████████████████████████████████████████████████████████████████████████████| 1148/1148 [00:44<00:00, 25.67it/s]\n",
      "100%|███████████████████████████████████████████████████████████████████████████████████████████████████████| 157/157 [00:02<00:00, 70.94it/s]\n"
     ]
    },
    {
     "name": "stdout",
     "output_type": "stream",
     "text": [
      "Epoch 22/100, Loss: 0.0011341937670681509, Val_Recall: 97.4986693618512%\n"
     ]
    },
    {
     "name": "stderr",
     "output_type": "stream",
     "text": [
      "100%|█████████████████████████████████████████████████████████████████████████████████████████████████████| 1148/1148 [00:44<00:00, 25.84it/s]\n",
      "100%|███████████████████████████████████████████████████████████████████████████████████████████████████████| 157/157 [00:02<00:00, 70.35it/s]\n"
     ]
    },
    {
     "name": "stdout",
     "output_type": "stream",
     "text": [
      "Epoch 23/100, Loss: 0.0010559101544332977, Val_Recall: 98.1622898779853%\n"
     ]
    },
    {
     "name": "stderr",
     "output_type": "stream",
     "text": [
      "100%|█████████████████████████████████████████████████████████████████████████████████████████████████████| 1148/1148 [00:44<00:00, 25.83it/s]\n",
      "100%|███████████████████████████████████████████████████████████████████████████████████████████████████████| 157/157 [00:02<00:00, 71.30it/s]\n"
     ]
    },
    {
     "name": "stdout",
     "output_type": "stream",
     "text": [
      "Epoch 24/100, Loss: 0.0010812816535041919, Val_Recall: 97.66974868666794%\n"
     ]
    },
    {
     "name": "stderr",
     "output_type": "stream",
     "text": [
      "100%|█████████████████████████████████████████████████████████████████████████████████████████████████████| 1148/1148 [00:44<00:00, 25.82it/s]\n",
      "100%|███████████████████████████████████████████████████████████████████████████████████████████████████████| 157/157 [00:02<00:00, 69.45it/s]\n"
     ]
    },
    {
     "name": "stdout",
     "output_type": "stream",
     "text": [
      "Epoch 25/100, Loss: 0.0011004943536364602, Val_Recall: 97.83292386902319%\n"
     ]
    },
    {
     "name": "stderr",
     "output_type": "stream",
     "text": [
      "100%|█████████████████████████████████████████████████████████████████████████████████████████████████████| 1148/1148 [00:44<00:00, 25.82it/s]\n",
      "100%|███████████████████████████████████████████████████████████████████████████████████████████████████████| 157/157 [00:02<00:00, 70.45it/s]\n"
     ]
    },
    {
     "name": "stdout",
     "output_type": "stream",
     "text": [
      "Epoch 26/100, Loss: 0.0009946732117136381, Val_Recall: 97.84806162258057%\n"
     ]
    },
    {
     "name": "stderr",
     "output_type": "stream",
     "text": [
      "100%|█████████████████████████████████████████████████████████████████████████████████████████████████████| 1148/1148 [00:44<00:00, 25.80it/s]\n",
      "100%|███████████████████████████████████████████████████████████████████████████████████████████████████████| 157/157 [00:02<00:00, 70.14it/s]\n"
     ]
    },
    {
     "name": "stdout",
     "output_type": "stream",
     "text": [
      "Epoch 27/100, Loss: 0.0009638032244087586, Val_Recall: 98.31823144924466%\n",
      "Model saved based on lowest validation loss.\n"
     ]
    },
    {
     "name": "stderr",
     "output_type": "stream",
     "text": [
      "100%|█████████████████████████████████████████████████████████████████████████████████████████████████████| 1148/1148 [00:44<00:00, 25.81it/s]\n",
      "100%|███████████████████████████████████████████████████████████████████████████████████████████████████████| 157/157 [00:02<00:00, 69.96it/s]\n"
     ]
    },
    {
     "name": "stdout",
     "output_type": "stream",
     "text": [
      "Epoch 28/100, Loss: 0.0009975463160314278, Val_Recall: 98.32568857079576%\n"
     ]
    },
    {
     "name": "stderr",
     "output_type": "stream",
     "text": [
      "100%|█████████████████████████████████████████████████████████████████████████████████████████████████████| 1148/1148 [00:44<00:00, 25.71it/s]\n",
      "100%|███████████████████████████████████████████████████████████████████████████████████████████████████████| 157/157 [00:02<00:00, 70.05it/s]\n"
     ]
    },
    {
     "name": "stdout",
     "output_type": "stream",
     "text": [
      "Epoch 29/100, Loss: 0.001037386006922515, Val_Recall: 97.68466292977011%\n"
     ]
    },
    {
     "name": "stderr",
     "output_type": "stream",
     "text": [
      "100%|█████████████████████████████████████████████████████████████████████████████████████████████████████| 1148/1148 [00:44<00:00, 25.79it/s]\n",
      "100%|███████████████████████████████████████████████████████████████████████████████████████████████████████| 157/157 [00:02<00:00, 70.40it/s]\n"
     ]
    },
    {
     "name": "stdout",
     "output_type": "stream",
     "text": [
      "Epoch 30/100, Loss: 0.0009482481671495872, Val_Recall: 98.33336920280203%\n",
      "Model saved based on lowest validation loss.\n"
     ]
    },
    {
     "name": "stderr",
     "output_type": "stream",
     "text": [
      "100%|█████████████████████████████████████████████████████████████████████████████████████████████████████| 1148/1148 [00:44<00:00, 25.81it/s]\n",
      "100%|███████████████████████████████████████████████████████████████████████████████████████████████████████| 157/157 [00:02<00:00, 70.13it/s]\n"
     ]
    },
    {
     "name": "stdout",
     "output_type": "stream",
     "text": [
      "Epoch 31/100, Loss: 0.0010590003784003096, Val_Recall: 97.52126423695967%\n"
     ]
    },
    {
     "name": "stderr",
     "output_type": "stream",
     "text": [
      "100%|█████████████████████████████████████████████████████████████████████████████████████████████████████| 1148/1148 [00:44<00:00, 25.81it/s]\n",
      "100%|███████████████████████████████████████████████████████████████████████████████████████████████████████| 157/157 [00:02<00:00, 70.11it/s]\n"
     ]
    },
    {
     "name": "stdout",
     "output_type": "stream",
     "text": [
      "Epoch 32/100, Loss: 0.001237292719086847, Val_Recall: 97.47585097628753%\n"
     ]
    },
    {
     "name": "stderr",
     "output_type": "stream",
     "text": [
      "100%|█████████████████████████████████████████████████████████████████████████████████████████████████████| 1148/1148 [00:44<00:00, 25.84it/s]\n",
      "100%|███████████████████████████████████████████████████████████████████████████████████████████████████████| 157/157 [00:02<00:00, 70.38it/s]\n"
     ]
    },
    {
     "name": "stdout",
     "output_type": "stream",
     "text": [
      "Epoch 33/100, Loss: 0.0009676755709358486, Val_Recall: 98.9667142118214%\n"
     ]
    },
    {
     "name": "stderr",
     "output_type": "stream",
     "text": [
      "100%|█████████████████████████████████████████████████████████████████████████████████████████████████████| 1148/1148 [00:44<00:00, 25.79it/s]\n",
      "100%|███████████████████████████████████████████████████████████████████████████████████████████████████████| 157/157 [00:02<00:00, 69.73it/s]\n"
     ]
    },
    {
     "name": "stdout",
     "output_type": "stream",
     "text": [
      "Epoch 34/100, Loss: 0.0009420042224163523, Val_Recall: 98.9667142118214%\n",
      "Model saved based on lowest validation loss.\n"
     ]
    },
    {
     "name": "stderr",
     "output_type": "stream",
     "text": [
      "100%|█████████████████████████████████████████████████████████████████████████████████████████████████████| 1148/1148 [00:44<00:00, 25.80it/s]\n",
      "100%|███████████████████████████████████████████████████████████████████████████████████████████████████████| 157/157 [00:02<00:00, 70.79it/s]\n"
     ]
    },
    {
     "name": "stdout",
     "output_type": "stream",
     "text": [
      "Epoch 35/100, Loss: 0.0009453512767241441, Val_Recall: 98.9667142118214%\n"
     ]
    },
    {
     "name": "stderr",
     "output_type": "stream",
     "text": [
      "100%|█████████████████████████████████████████████████████████████████████████████████████████████████████| 1148/1148 [00:44<00:00, 25.81it/s]\n",
      "100%|███████████████████████████████████████████████████████████████████████████████████████████████████████| 157/157 [00:02<00:00, 70.16it/s]\n"
     ]
    },
    {
     "name": "stdout",
     "output_type": "stream",
     "text": [
      "Epoch 36/100, Loss: 0.0009455459597102778, Val_Recall: 98.9667142118214%\n"
     ]
    },
    {
     "name": "stderr",
     "output_type": "stream",
     "text": [
      "100%|█████████████████████████████████████████████████████████████████████████████████████████████████████| 1148/1148 [00:44<00:00, 25.84it/s]\n",
      "100%|███████████████████████████████████████████████████████████████████████████████████████████████████████| 157/157 [00:02<00:00, 70.35it/s]\n"
     ]
    },
    {
     "name": "stdout",
     "output_type": "stream",
     "text": [
      "Epoch 37/100, Loss: 0.0012040177880222758, Val_Recall: 98.32568857079576%\n"
     ]
    },
    {
     "name": "stderr",
     "output_type": "stream",
     "text": [
      "100%|█████████████████████████████████████████████████████████████████████████████████████████████████████| 1148/1148 [00:44<00:00, 25.82it/s]\n",
      "100%|███████████████████████████████████████████████████████████████████████████████████████████████████████| 157/157 [00:02<00:00, 70.16it/s]\n"
     ]
    },
    {
     "name": "stdout",
     "output_type": "stream",
     "text": [
      "Epoch 38/100, Loss: 0.0014150501232376956, Val_Recall: 97.03618016719338%\n"
     ]
    },
    {
     "name": "stderr",
     "output_type": "stream",
     "text": [
      "100%|█████████████████████████████████████████████████████████████████████████████████████████████████████| 1148/1148 [00:44<00:00, 25.85it/s]\n",
      "100%|███████████████████████████████████████████████████████████████████████████████████████████████████████| 157/157 [00:02<00:00, 70.79it/s]\n"
     ]
    },
    {
     "name": "stdout",
     "output_type": "stream",
     "text": [
      "Epoch 39/100, Loss: 0.0011553134715269258, Val_Recall: 98.47394951004884%\n"
     ]
    },
    {
     "name": "stderr",
     "output_type": "stream",
     "text": [
      "100%|█████████████████████████████████████████████████████████████████████████████████████████████████████| 1148/1148 [00:44<00:00, 25.79it/s]\n",
      "100%|███████████████████████████████████████████████████████████████████████████████████████████████████████| 157/157 [00:02<00:00, 70.51it/s]\n"
     ]
    },
    {
     "name": "stdout",
     "output_type": "stream",
     "text": [
      "Epoch 40/100, Loss: 0.0011053552459837515, Val_Recall: 98.48908726360621%\n"
     ]
    },
    {
     "name": "stderr",
     "output_type": "stream",
     "text": [
      "100%|█████████████████████████████████████████████████████████████████████████████████████████████████████| 1148/1148 [00:44<00:00, 25.82it/s]\n",
      "100%|███████████████████████████████████████████████████████████████████████████████████████████████████████| 157/157 [00:02<00:00, 69.88it/s]\n"
     ]
    },
    {
     "name": "stdout",
     "output_type": "stream",
     "text": [
      "Epoch 41/100, Loss: 0.001290385797856901, Val_Recall: 98.1622898779853%\n"
     ]
    },
    {
     "name": "stderr",
     "output_type": "stream",
     "text": [
      "100%|█████████████████████████████████████████████████████████████████████████████████████████████████████| 1148/1148 [00:44<00:00, 25.67it/s]\n",
      "100%|███████████████████████████████████████████████████████████████████████████████████████████████████████| 157/157 [00:02<00:00, 69.07it/s]\n"
     ]
    },
    {
     "name": "stdout",
     "output_type": "stream",
     "text": [
      "Epoch 42/100, Loss: 0.001071311297481073, Val_Recall: 97.84806162258057%\n"
     ]
    },
    {
     "name": "stderr",
     "output_type": "stream",
     "text": [
      "100%|█████████████████████████████████████████████████████████████████████████████████████████████████████| 1148/1148 [00:44<00:00, 25.81it/s]\n",
      "100%|███████████████████████████████████████████████████████████████████████████████████████████████████████| 157/157 [00:02<00:00, 69.62it/s]\n"
     ]
    },
    {
     "name": "stdout",
     "output_type": "stream",
     "text": [
      "Epoch 43/100, Loss: 0.000967531350405687, Val_Recall: 99.14191649292269%\n"
     ]
    },
    {
     "name": "stderr",
     "output_type": "stream",
     "text": [
      "100%|█████████████████████████████████████████████████████████████████████████████████████████████████████| 1148/1148 [00:44<00:00, 25.79it/s]\n",
      "100%|███████████████████████████████████████████████████████████████████████████████████████████████████████| 157/157 [00:02<00:00, 69.38it/s]\n"
     ]
    },
    {
     "name": "stdout",
     "output_type": "stream",
     "text": [
      "Epoch 44/100, Loss: 0.0009293582996287109, Val_Recall: 99.14191649292269%\n",
      "Model saved based on lowest validation loss.\n"
     ]
    },
    {
     "name": "stderr",
     "output_type": "stream",
     "text": [
      "100%|█████████████████████████████████████████████████████████████████████████████████████████████████████| 1148/1148 [00:44<00:00, 25.82it/s]\n",
      "100%|███████████████████████████████████████████████████████████████████████████████████████████████████████| 157/157 [00:02<00:00, 69.89it/s]\n"
     ]
    },
    {
     "name": "stdout",
     "output_type": "stream",
     "text": [
      "Epoch 45/100, Loss: 0.0010782894248792644, Val_Recall: 98.47394951004884%\n"
     ]
    },
    {
     "name": "stderr",
     "output_type": "stream",
     "text": [
      "100%|█████████████████████████████████████████████████████████████████████████████████████████████████████| 1148/1148 [00:44<00:00, 25.79it/s]\n",
      "100%|███████████████████████████████████████████████████████████████████████████████████████████████████████| 157/157 [00:02<00:00, 70.86it/s]\n"
     ]
    },
    {
     "name": "stdout",
     "output_type": "stream",
     "text": [
      "Epoch 46/100, Loss: 0.0010403641930316154, Val_Recall: 98.48908726360621%\n"
     ]
    },
    {
     "name": "stderr",
     "output_type": "stream",
     "text": [
      "100%|█████████████████████████████████████████████████████████████████████████████████████████████████████| 1148/1148 [00:44<00:00, 25.80it/s]\n",
      "100%|███████████████████████████████████████████████████████████████████████████████████████████████████████| 157/157 [00:02<00:00, 69.44it/s]\n"
     ]
    },
    {
     "name": "stdout",
     "output_type": "stream",
     "text": [
      "Epoch 47/100, Loss: 0.0011808316960945932, Val_Recall: 98.1622898779853%\n"
     ]
    },
    {
     "name": "stderr",
     "output_type": "stream",
     "text": [
      "100%|█████████████████████████████████████████████████████████████████████████████████████████████████████| 1148/1148 [00:44<00:00, 25.77it/s]\n",
      "100%|███████████████████████████████████████████████████████████████████████████████████████████████████████| 157/157 [00:02<00:00, 70.51it/s]\n"
     ]
    },
    {
     "name": "stdout",
     "output_type": "stream",
     "text": [
      "Epoch 48/100, Loss: 0.0010747529838631574, Val_Recall: 99.13011290463186%\n"
     ]
    },
    {
     "name": "stderr",
     "output_type": "stream",
     "text": [
      "100%|█████████████████████████████████████████████████████████████████████████████████████████████████████| 1148/1148 [00:44<00:00, 25.74it/s]\n",
      "100%|███████████████████████████████████████████████████████████████████████████████████████████████████████| 157/157 [00:02<00:00, 69.94it/s]\n"
     ]
    },
    {
     "name": "stdout",
     "output_type": "stream",
     "text": [
      "Epoch 49/100, Loss: 0.0010309137418613589, Val_Recall: 99.13011290463186%\n"
     ]
    },
    {
     "name": "stderr",
     "output_type": "stream",
     "text": [
      "100%|█████████████████████████████████████████████████████████████████████████████████████████████████████| 1148/1148 [00:44<00:00, 25.87it/s]\n",
      "100%|███████████████████████████████████████████████████████████████████████████████████████████████████████| 157/157 [00:02<00:00, 71.27it/s]\n"
     ]
    },
    {
     "name": "stdout",
     "output_type": "stream",
     "text": [
      "Epoch 50/100, Loss: 0.0009689619798581765, Val_Recall: 98.48163014205514%\n"
     ]
    },
    {
     "name": "stderr",
     "output_type": "stream",
     "text": [
      "100%|█████████████████████████████████████████████████████████████████████████████████████████████████████| 1148/1148 [00:44<00:00, 25.80it/s]\n",
      "100%|███████████████████████████████████████████████████████████████████████████████████████████████████████| 157/157 [00:02<00:00, 70.30it/s]\n"
     ]
    },
    {
     "name": "stdout",
     "output_type": "stream",
     "text": [
      "Epoch 51/100, Loss: 0.0008895134941797339, Val_Recall: 99.13011290463186%\n",
      "Model saved based on lowest validation loss.\n"
     ]
    },
    {
     "name": "stderr",
     "output_type": "stream",
     "text": [
      "100%|█████████████████████████████████████████████████████████████████████████████████████████████████████| 1148/1148 [00:44<00:00, 25.88it/s]\n",
      "100%|███████████████████████████████████████████████████████████████████████████████████████████████████████| 157/157 [00:02<00:00, 70.05it/s]\n"
     ]
    },
    {
     "name": "stdout",
     "output_type": "stream",
     "text": [
      "Epoch 52/100, Loss: 0.0008708611403988407, Val_Recall: 99.7711385456575%\n",
      "Model saved based on lowest validation loss.\n"
     ]
    },
    {
     "name": "stderr",
     "output_type": "stream",
     "text": [
      "100%|█████████████████████████████████████████████████████████████████████████████████████████████████████| 1148/1148 [00:44<00:00, 25.81it/s]\n",
      "100%|███████████████████████████████████████████████████████████████████████████████████████████████████████| 157/157 [00:02<00:00, 70.79it/s]\n"
     ]
    },
    {
     "name": "stdout",
     "output_type": "stream",
     "text": [
      "Epoch 53/100, Loss: 0.0010548967097139008, Val_Recall: 99.74086303854276%\n"
     ]
    },
    {
     "name": "stderr",
     "output_type": "stream",
     "text": [
      "100%|█████████████████████████████████████████████████████████████████████████████████████████████████████| 1148/1148 [00:44<00:00, 25.85it/s]\n",
      "100%|███████████████████████████████████████████████████████████████████████████████████████████████████████| 157/157 [00:02<00:00, 68.58it/s]\n"
     ]
    },
    {
     "name": "stdout",
     "output_type": "stream",
     "text": [
      "Epoch 54/100, Loss: 0.000855889128698791, Val_Recall: 99.13011290463186%\n",
      "Model saved based on lowest validation loss.\n"
     ]
    },
    {
     "name": "stderr",
     "output_type": "stream",
     "text": [
      "100%|█████████████████████████████████████████████████████████████████████████████████████████████████████| 1148/1148 [00:44<00:00, 25.85it/s]\n",
      "100%|███████████████████████████████████████████████████████████████████████████████████████████████████████| 157/157 [00:02<00:00, 70.70it/s]\n"
     ]
    },
    {
     "name": "stdout",
     "output_type": "stream",
     "text": [
      "Epoch 55/100, Loss: 0.0008940570571088951, Val_Recall: 97.0284995351871%\n"
     ]
    },
    {
     "name": "stderr",
     "output_type": "stream",
     "text": [
      "100%|█████████████████████████████████████████████████████████████████████████████████████████████████████| 1148/1148 [00:44<00:00, 25.71it/s]\n",
      "100%|███████████████████████████████████████████████████████████████████████████████████████████████████████| 157/157 [00:02<00:00, 69.68it/s]\n"
     ]
    },
    {
     "name": "stdout",
     "output_type": "stream",
     "text": [
      "Epoch 56/100, Loss: 0.0008640135538065636, Val_Recall: 99.57746434573228%\n"
     ]
    },
    {
     "name": "stderr",
     "output_type": "stream",
     "text": [
      "100%|█████████████████████████████████████████████████████████████████████████████████████████████████████| 1148/1148 [00:44<00:00, 25.77it/s]\n",
      "100%|███████████████████████████████████████████████████████████████████████████████████████████████████████| 157/157 [00:02<00:00, 69.93it/s]\n"
     ]
    },
    {
     "name": "stdout",
     "output_type": "stream",
     "text": [
      "Epoch 57/100, Loss: 0.0006373110090810699, Val_Recall: 99.75266662683359%\n",
      "Model saved based on lowest validation loss.\n"
     ]
    },
    {
     "name": "stderr",
     "output_type": "stream",
     "text": [
      "100%|█████████████████████████████████████████████████████████████████████████████████████████████████████| 1148/1148 [00:44<00:00, 25.76it/s]\n",
      "100%|███████████████████████████████████████████████████████████████████████████████████████████████████████| 157/157 [00:02<00:00, 69.95it/s]\n"
     ]
    },
    {
     "name": "stdout",
     "output_type": "stream",
     "text": [
      "Epoch 58/100, Loss: 0.0007134603756473583, Val_Recall: 98.32568857079576%\n"
     ]
    },
    {
     "name": "stderr",
     "output_type": "stream",
     "text": [
      "100%|█████████████████████████████████████████████████████████████████████████████████████████████████████| 1148/1148 [00:44<00:00, 25.77it/s]\n",
      "100%|███████████████████████████████████████████████████████████████████████████████████████████████████████| 157/157 [00:02<00:00, 69.83it/s]\n"
     ]
    },
    {
     "name": "stdout",
     "output_type": "stream",
     "text": [
      "Epoch 59/100, Loss: 0.0006978230951854266, Val_Recall: 97.84806162258057%\n"
     ]
    },
    {
     "name": "stderr",
     "output_type": "stream",
     "text": [
      "100%|█████████████████████████████████████████████████████████████████████████████████████████████████████| 1148/1148 [00:44<00:00, 25.78it/s]\n",
      "100%|███████████████████████████████████████████████████████████████████████████████████████████████████████| 157/157 [00:02<00:00, 71.07it/s]\n"
     ]
    },
    {
     "name": "stdout",
     "output_type": "stream",
     "text": [
      "Epoch 60/100, Loss: 0.0006833540311311218, Val_Recall: 98.46626887804254%\n"
     ]
    },
    {
     "name": "stderr",
     "output_type": "stream",
     "text": [
      "100%|█████████████████████████████████████████████████████████████████████████████████████████████████████| 1148/1148 [00:44<00:00, 25.74it/s]\n",
      "100%|███████████████████████████████████████████████████████████████████████████████████████████████████████| 157/157 [00:02<00:00, 70.40it/s]\n"
     ]
    },
    {
     "name": "stdout",
     "output_type": "stream",
     "text": [
      "Epoch 61/100, Loss: 0.0008316243962633176, Val_Recall: 98.50089085189705%\n"
     ]
    },
    {
     "name": "stderr",
     "output_type": "stream",
     "text": [
      "100%|█████████████████████████████████████████████████████████████████████████████████████████████████████| 1148/1148 [00:44<00:00, 25.78it/s]\n",
      "100%|███████████████████████████████████████████████████████████████████████████████████████████████████████| 157/157 [00:02<00:00, 70.64it/s]\n"
     ]
    },
    {
     "name": "stdout",
     "output_type": "stream",
     "text": [
      "Epoch 62/100, Loss: 0.000820042020190669, Val_Recall: 99.13011290463186%\n"
     ]
    },
    {
     "name": "stderr",
     "output_type": "stream",
     "text": [
      "100%|█████████████████████████████████████████████████████████████████████████████████████████████████████| 1148/1148 [00:44<00:00, 25.71it/s]\n",
      "100%|███████████████████████████████████████████████████████████████████████████████████████████████████████| 157/157 [00:02<00:00, 70.52it/s]\n"
     ]
    },
    {
     "name": "stdout",
     "output_type": "stream",
     "text": [
      "Epoch 63/100, Loss: 0.0008546217696965533, Val_Recall: 98.95157645826403%\n"
     ]
    },
    {
     "name": "stderr",
     "output_type": "stream",
     "text": [
      "100%|█████████████████████████████████████████████████████████████████████████████████████████████████████| 1148/1148 [00:44<00:00, 25.79it/s]\n",
      "100%|███████████████████████████████████████████████████████████████████████████████████████████████████████| 157/157 [00:02<00:00, 70.44it/s]\n"
     ]
    },
    {
     "name": "stdout",
     "output_type": "stream",
     "text": [
      "Epoch 64/100, Loss: 0.0007274384794561524, Val_Recall: 99.11497515107447%\n"
     ]
    },
    {
     "name": "stderr",
     "output_type": "stream",
     "text": [
      "100%|█████████████████████████████████████████████████████████████████████████████████████████████████████| 1148/1148 [00:44<00:00, 25.79it/s]\n",
      "100%|███████████████████████████████████████████████████████████████████████████████████████████████████████| 157/157 [00:02<00:00, 70.55it/s]\n"
     ]
    },
    {
     "name": "stdout",
     "output_type": "stream",
     "text": [
      "Epoch 65/100, Loss: 0.0006586289357914055, Val_Recall: 99.13011290463186%\n"
     ]
    },
    {
     "name": "stderr",
     "output_type": "stream",
     "text": [
      "100%|█████████████████████████████████████████████████████████████████████████████████████████████████████| 1148/1148 [00:44<00:00, 25.84it/s]\n",
      "100%|███████████████████████████████████████████████████████████████████████████████████████████████████████| 157/157 [00:02<00:00, 70.50it/s]\n"
     ]
    },
    {
     "name": "stdout",
     "output_type": "stream",
     "text": [
      "Epoch 66/100, Loss: 0.0007439328973362899, Val_Recall: 99.13757002618291%\n"
     ]
    },
    {
     "name": "stderr",
     "output_type": "stream",
     "text": [
      "100%|█████████████████████████████████████████████████████████████████████████████████████████████████████| 1148/1148 [00:44<00:00, 25.81it/s]\n",
      "100%|███████████████████████████████████████████████████████████████████████████████████████████████████████| 157/157 [00:02<00:00, 69.72it/s]\n"
     ]
    },
    {
     "name": "stdout",
     "output_type": "stream",
     "text": [
      "Epoch 67/100, Loss: 0.0007445850228348337, Val_Recall: 99.12677873936532%\n"
     ]
    },
    {
     "name": "stderr",
     "output_type": "stream",
     "text": [
      "100%|█████████████████████████████████████████████████████████████████████████████████████████████████████| 1148/1148 [00:44<00:00, 25.88it/s]\n",
      "100%|███████████████████████████████████████████████████████████████████████████████████████████████████████| 157/157 [00:02<00:00, 70.52it/s]\n"
     ]
    },
    {
     "name": "stdout",
     "output_type": "stream",
     "text": [
      "Epoch 68/100, Loss: 0.0007939347074961632, Val_Recall: 99.13011290463186%\n"
     ]
    },
    {
     "name": "stderr",
     "output_type": "stream",
     "text": [
      "100%|█████████████████████████████████████████████████████████████████████████████████████████████████████| 1148/1148 [00:44<00:00, 25.78it/s]\n",
      "100%|███████████████████████████████████████████████████████████████████████████████████████████████████████| 157/157 [00:02<00:00, 71.07it/s]\n"
     ]
    },
    {
     "name": "stdout",
     "output_type": "stream",
     "text": [
      "Epoch 69/100, Loss: 0.000841940407177276, Val_Recall: 99.11497515107447%\n"
     ]
    },
    {
     "name": "stderr",
     "output_type": "stream",
     "text": [
      "100%|█████████████████████████████████████████████████████████████████████████████████████████████████████| 1148/1148 [00:44<00:00, 25.65it/s]\n",
      "100%|███████████████████████████████████████████████████████████████████████████████████████████████████████| 157/157 [00:02<00:00, 70.80it/s]\n"
     ]
    },
    {
     "name": "stdout",
     "output_type": "stream",
     "text": [
      "Epoch 70/100, Loss: 0.000736625232043027, Val_Recall: 99.11909810735902%\n"
     ]
    },
    {
     "name": "stderr",
     "output_type": "stream",
     "text": [
      "100%|█████████████████████████████████████████████████████████████████████████████████████████████████████| 1148/1148 [00:44<00:00, 25.77it/s]\n",
      "100%|███████████████████████████████████████████████████████████████████████████████████████████████████████| 157/157 [00:02<00:00, 70.66it/s]\n"
     ]
    },
    {
     "name": "stdout",
     "output_type": "stream",
     "text": [
      "Epoch 71/100, Loss: 0.0007881431173663863, Val_Recall: 99.12677873936532%\n"
     ]
    },
    {
     "name": "stderr",
     "output_type": "stream",
     "text": [
      "100%|█████████████████████████████████████████████████████████████████████████████████████████████████████| 1148/1148 [00:44<00:00, 25.81it/s]\n",
      "100%|███████████████████████████████████████████████████████████████████████████████████████████████████████| 157/157 [00:02<00:00, 69.93it/s]\n"
     ]
    },
    {
     "name": "stdout",
     "output_type": "stream",
     "text": [
      "Epoch 72/100, Loss: 0.0008018769176459939, Val_Recall: 99.11164098580795%\n"
     ]
    },
    {
     "name": "stderr",
     "output_type": "stream",
     "text": [
      "100%|█████████████████████████████████████████████████████████████████████████████████████████████████████| 1148/1148 [00:44<00:00, 25.78it/s]\n",
      "100%|███████████████████████████████████████████████████████████████████████████████████████████████████████| 157/157 [00:02<00:00, 70.45it/s]\n"
     ]
    },
    {
     "name": "stdout",
     "output_type": "stream",
     "text": [
      "Epoch 73/100, Loss: 0.000989817560854302, Val_Recall: 97.02183120465402%\n"
     ]
    },
    {
     "name": "stderr",
     "output_type": "stream",
     "text": [
      "100%|█████████████████████████████████████████████████████████████████████████████████████████████████████| 1148/1148 [00:44<00:00, 25.85it/s]\n",
      "100%|███████████████████████████████████████████████████████████████████████████████████████████████████████| 157/157 [00:02<00:00, 69.34it/s]\n"
     ]
    },
    {
     "name": "stdout",
     "output_type": "stream",
     "text": [
      "Epoch 74/100, Loss: 0.0008233746768465214, Val_Recall: 99.7711385456575%\n"
     ]
    },
    {
     "name": "stderr",
     "output_type": "stream",
     "text": [
      "100%|█████████████████████████████████████████████████████████████████████████████████████████████████████| 1148/1148 [00:44<00:00, 25.77it/s]\n",
      "100%|███████████████████████████████████████████████████████████████████████████████████████████████████████| 157/157 [00:02<00:00, 70.12it/s]\n"
     ]
    },
    {
     "name": "stdout",
     "output_type": "stream",
     "text": [
      "Epoch 75/100, Loss: 0.0009077344305830709, Val_Recall: 97.83292386902319%\n"
     ]
    },
    {
     "name": "stderr",
     "output_type": "stream",
     "text": [
      "100%|█████████████████████████████████████████████████████████████████████████████████████████████████████| 1148/1148 [00:44<00:00, 25.81it/s]\n",
      "100%|███████████████████████████████████████████████████████████████████████████████████████████████████████| 157/157 [00:02<00:00, 70.07it/s]\n"
     ]
    },
    {
     "name": "stdout",
     "output_type": "stream",
     "text": [
      "Epoch 76/100, Loss: 0.001087455172860558, Val_Recall: 97.34272779059182%\n"
     ]
    },
    {
     "name": "stderr",
     "output_type": "stream",
     "text": [
      "100%|█████████████████████████████████████████████████████████████████████████████████████████████████████| 1148/1148 [00:44<00:00, 25.84it/s]\n",
      "100%|███████████████████████████████████████████████████████████████████████████████████████████████████████| 157/157 [00:02<00:00, 70.80it/s]\n"
     ]
    },
    {
     "name": "stdout",
     "output_type": "stream",
     "text": [
      "Epoch 77/100, Loss: 0.001029820323561918, Val_Recall: 98.9667142118214%\n"
     ]
    },
    {
     "name": "stderr",
     "output_type": "stream",
     "text": [
      "100%|█████████████████████████████████████████████████████████████████████████████████████████████████████| 1148/1148 [00:44<00:00, 25.72it/s]\n",
      "100%|███████████████████████████████████████████████████████████████████████████████████████████████████████| 157/157 [00:02<00:00, 70.14it/s]\n"
     ]
    },
    {
     "name": "stdout",
     "output_type": "stream",
     "text": [
      "Epoch 78/100, Loss: 0.0009494735834750411, Val_Recall: 98.78817776545357%\n"
     ]
    },
    {
     "name": "stderr",
     "output_type": "stream",
     "text": [
      "100%|█████████████████████████████████████████████████████████████████████████████████████████████████████| 1148/1148 [00:44<00:00, 25.76it/s]\n",
      "100%|███████████████████████████████████████████████████████████████████████████████████████████████████████| 157/157 [00:02<00:00, 66.34it/s]\n"
     ]
    },
    {
     "name": "stdout",
     "output_type": "stream",
     "text": [
      "Epoch 79/100, Loss: 0.0008621834398896887, Val_Recall: 99.11519866152967%\n"
     ]
    },
    {
     "name": "stderr",
     "output_type": "stream",
     "text": [
      "100%|█████████████████████████████████████████████████████████████████████████████████████████████████████| 1148/1148 [00:44<00:00, 25.78it/s]\n",
      "100%|███████████████████████████████████████████████████████████████████████████████████████████████████████| 157/157 [00:02<00:00, 70.28it/s]\n"
     ]
    },
    {
     "name": "stdout",
     "output_type": "stream",
     "text": [
      "Epoch 80/100, Loss: 0.0010087554488438487, Val_Recall: 98.295413063681%\n"
     ]
    },
    {
     "name": "stderr",
     "output_type": "stream",
     "text": [
      "100%|█████████████████████████████████████████████████████████████████████████████████████████████████████| 1148/1148 [00:44<00:00, 25.68it/s]\n",
      "100%|███████████████████████████████████████████████████████████████████████████████████████████████████████| 157/157 [00:02<00:00, 70.34it/s]\n"
     ]
    },
    {
     "name": "stdout",
     "output_type": "stream",
     "text": [
      "Epoch 81/100, Loss: 0.0009117314019618278, Val_Recall: 98.93643870470665%\n"
     ]
    },
    {
     "name": "stderr",
     "output_type": "stream",
     "text": [
      "100%|█████████████████████████████████████████████████████████████████████████████████████████████████████| 1148/1148 [00:44<00:00, 25.74it/s]\n",
      "100%|███████████████████████████████████████████████████████████████████████████████████████████████████████| 157/157 [00:02<00:00, 70.64it/s]\n"
     ]
    },
    {
     "name": "stdout",
     "output_type": "stream",
     "text": [
      "Epoch 82/100, Loss: 0.0008128698184528991, Val_Recall: 99.74086303854276%\n"
     ]
    },
    {
     "name": "stderr",
     "output_type": "stream",
     "text": [
      "100%|█████████████████████████████████████████████████████████████████████████████████████████████████████| 1148/1148 [00:44<00:00, 25.79it/s]\n",
      "100%|███████████████████████████████████████████████████████████████████████████████████████████████████████| 157/157 [00:02<00:00, 70.40it/s]\n"
     ]
    },
    {
     "name": "stdout",
     "output_type": "stream",
     "text": [
      "Epoch 83/100, Loss: 0.0008707243698190525, Val_Recall: 99.0998373975171%\n"
     ]
    },
    {
     "name": "stderr",
     "output_type": "stream",
     "text": [
      "100%|█████████████████████████████████████████████████████████████████████████████████████████████████████| 1148/1148 [00:44<00:00, 25.79it/s]\n",
      "100%|███████████████████████████████████████████████████████████████████████████████████████████████████████| 157/157 [00:02<00:00, 69.80it/s]\n"
     ]
    },
    {
     "name": "stdout",
     "output_type": "stream",
     "text": [
      "Epoch 84/100, Loss: 0.0008933240415342662, Val_Recall: 98.47394951004884%\n"
     ]
    },
    {
     "name": "stderr",
     "output_type": "stream",
     "text": [
      "100%|█████████████████████████████████████████████████████████████████████████████████████████████████████| 1148/1148 [00:44<00:00, 25.82it/s]\n",
      "100%|███████████████████████████████████████████████████████████████████████████████████████████████████████| 157/157 [00:02<00:00, 70.15it/s]\n"
     ]
    },
    {
     "name": "stdout",
     "output_type": "stream",
     "text": [
      "Epoch 85/100, Loss: 0.0008678680854148918, Val_Recall: 99.57746434573228%\n"
     ]
    },
    {
     "name": "stderr",
     "output_type": "stream",
     "text": [
      "100%|█████████████████████████████████████████████████████████████████████████████████████████████████████| 1148/1148 [00:45<00:00, 25.50it/s]\n",
      "100%|███████████████████████████████████████████████████████████████████████████████████████████████████████| 157/157 [00:02<00:00, 70.48it/s]\n"
     ]
    },
    {
     "name": "stdout",
     "output_type": "stream",
     "text": [
      "Epoch 86/100, Loss: 0.000803463010198188, Val_Recall: 98.45881175649147%\n"
     ]
    },
    {
     "name": "stderr",
     "output_type": "stream",
     "text": [
      "100%|█████████████████████████████████████████████████████████████████████████████████████████████████████| 1148/1148 [00:44<00:00, 25.76it/s]\n",
      "100%|███████████████████████████████████████████████████████████████████████████████████████████████████████| 157/157 [00:02<00:00, 70.51it/s]\n"
     ]
    },
    {
     "name": "stdout",
     "output_type": "stream",
     "text": [
      "Epoch 87/100, Loss: 0.000981041341643161, Val_Recall: 98.45881175649147%\n",
      "Early stopping\n",
      "Loaded pretrained weights for efficientnet-b0\n"
     ]
    },
    {
     "name": "stderr",
     "output_type": "stream",
     "text": [
      "100%|█████████████████████████████████████████████████████████████████████████████████████████████████████| 1148/1148 [00:44<00:00, 25.84it/s]\n",
      "100%|███████████████████████████████████████████████████████████████████████████████████████████████████████| 157/157 [00:02<00:00, 70.57it/s]\n"
     ]
    },
    {
     "name": "stdout",
     "output_type": "stream",
     "text": [
      "Epoch 1/100, Loss: 0.021758399739161514, Val_Recall: 71.30380665131035%\n",
      "Model saved based on lowest validation loss.\n"
     ]
    },
    {
     "name": "stderr",
     "output_type": "stream",
     "text": [
      "100%|█████████████████████████████████████████████████████████████████████████████████████████████████████| 1148/1148 [00:44<00:00, 25.86it/s]\n",
      "100%|███████████████████████████████████████████████████████████████████████████████████████████████████████| 157/157 [00:02<00:00, 69.83it/s]\n"
     ]
    },
    {
     "name": "stdout",
     "output_type": "stream",
     "text": [
      "Epoch 2/100, Loss: 0.009233241010168834, Val_Recall: 80.1392767889553%\n",
      "Model saved based on lowest validation loss.\n"
     ]
    },
    {
     "name": "stderr",
     "output_type": "stream",
     "text": [
      "100%|█████████████████████████████████████████████████████████████████████████████████████████████████████| 1148/1148 [00:44<00:00, 25.81it/s]\n",
      "100%|███████████████████████████████████████████████████████████████████████████████████████████████████████| 157/157 [00:02<00:00, 70.78it/s]\n"
     ]
    },
    {
     "name": "stdout",
     "output_type": "stream",
     "text": [
      "Epoch 3/100, Loss: 0.006096760100969796, Val_Recall: 82.68024210033022%\n",
      "Model saved based on lowest validation loss.\n"
     ]
    },
    {
     "name": "stderr",
     "output_type": "stream",
     "text": [
      "100%|█████████████████████████████████████████████████████████████████████████████████████████████████████| 1148/1148 [00:44<00:00, 25.79it/s]\n",
      "100%|███████████████████████████████████████████████████████████████████████████████████████████████████████| 157/157 [00:02<00:00, 70.71it/s]\n"
     ]
    },
    {
     "name": "stdout",
     "output_type": "stream",
     "text": [
      "Epoch 4/100, Loss: 0.004077725616472056, Val_Recall: 86.5059266263911%\n",
      "Model saved based on lowest validation loss.\n"
     ]
    },
    {
     "name": "stderr",
     "output_type": "stream",
     "text": [
      "100%|█████████████████████████████████████████████████████████████████████████████████████████████████████| 1148/1148 [00:44<00:00, 25.80it/s]\n",
      "100%|███████████████████████████████████████████████████████████████████████████████████████████████████████| 157/157 [00:02<00:00, 70.17it/s]\n"
     ]
    },
    {
     "name": "stdout",
     "output_type": "stream",
     "text": [
      "Epoch 5/100, Loss: 0.0026987998596042957, Val_Recall: 93.05477758032835%\n",
      "Model saved based on lowest validation loss.\n"
     ]
    },
    {
     "name": "stderr",
     "output_type": "stream",
     "text": [
      "100%|█████████████████████████████████████████████████████████████████████████████████████████████████████| 1148/1148 [00:44<00:00, 25.87it/s]\n",
      "100%|███████████████████████████████████████████████████████████████████████████████████████████████████████| 157/157 [00:02<00:00, 71.04it/s]\n"
     ]
    },
    {
     "name": "stdout",
     "output_type": "stream",
     "text": [
      "Epoch 6/100, Loss: 0.002066486818551595, Val_Recall: 94.85297723027864%\n",
      "Model saved based on lowest validation loss.\n"
     ]
    },
    {
     "name": "stderr",
     "output_type": "stream",
     "text": [
      "100%|█████████████████████████████████████████████████████████████████████████████████████████████████████| 1148/1148 [00:44<00:00, 25.79it/s]\n",
      "100%|███████████████████████████████████████████████████████████████████████████████████████████████████████| 157/157 [00:02<00:00, 70.47it/s]\n"
     ]
    },
    {
     "name": "stdout",
     "output_type": "stream",
     "text": [
      "Epoch 7/100, Loss: 0.0015929199133497142, Val_Recall: 96.96227123172969%\n",
      "Model saved based on lowest validation loss.\n"
     ]
    },
    {
     "name": "stderr",
     "output_type": "stream",
     "text": [
      "100%|█████████████████████████████████████████████████████████████████████████████████████████████████████| 1148/1148 [00:44<00:00, 25.80it/s]\n",
      "100%|███████████████████████████████████████████████████████████████████████████████████████████████████████| 157/157 [00:02<00:00, 71.71it/s]\n"
     ]
    },
    {
     "name": "stdout",
     "output_type": "stream",
     "text": [
      "Epoch 8/100, Loss: 0.0013355536250777744, Val_Recall: 97.00967025596775%\n",
      "Model saved based on lowest validation loss.\n"
     ]
    },
    {
     "name": "stderr",
     "output_type": "stream",
     "text": [
      "100%|█████████████████████████████████████████████████████████████████████████████████████████████████████| 1148/1148 [00:44<00:00, 25.83it/s]\n",
      "100%|███████████████████████████████████████████████████████████████████████████████████████████████████████| 157/157 [00:02<00:00, 67.59it/s]\n"
     ]
    },
    {
     "name": "stdout",
     "output_type": "stream",
     "text": [
      "Epoch 9/100, Loss: 0.001286854288376388, Val_Recall: 97.65069589699341%\n",
      "Model saved based on lowest validation loss.\n"
     ]
    },
    {
     "name": "stderr",
     "output_type": "stream",
     "text": [
      "100%|█████████████████████████████████████████████████████████████████████████████████████████████████████| 1148/1148 [00:44<00:00, 25.84it/s]\n",
      "100%|███████████████████████████████████████████████████████████████████████████████████████████████████████| 157/157 [00:02<00:00, 70.80it/s]\n"
     ]
    },
    {
     "name": "stdout",
     "output_type": "stream",
     "text": [
      "Epoch 10/100, Loss: 0.0011309590998267293, Val_Recall: 97.49475432573404%\n",
      "Model saved based on lowest validation loss.\n"
     ]
    },
    {
     "name": "stderr",
     "output_type": "stream",
     "text": [
      "100%|█████████████████████████████████████████████████████████████████████████████████████████████████████| 1148/1148 [00:44<00:00, 25.74it/s]\n",
      "100%|███████████████████████████████████████████████████████████████████████████████████████████████████████| 157/157 [00:02<00:00, 70.83it/s]\n"
     ]
    },
    {
     "name": "stdout",
     "output_type": "stream",
     "text": [
      "Epoch 11/100, Loss: 0.0011471179259018708, Val_Recall: 97.66995660683534%\n"
     ]
    },
    {
     "name": "stderr",
     "output_type": "stream",
     "text": [
      "100%|█████████████████████████████████████████████████████████████████████████████████████████████████████| 1148/1148 [00:44<00:00, 25.76it/s]\n",
      "100%|███████████████████████████████████████████████████████████████████████████████████████████████████████| 157/157 [00:02<00:00, 71.23it/s]\n"
     ]
    },
    {
     "name": "stdout",
     "output_type": "stream",
     "text": [
      "Epoch 12/100, Loss: 0.0010332229280794862, Val_Recall: 98.32612000141835%\n",
      "Model saved based on lowest validation loss.\n"
     ]
    },
    {
     "name": "stderr",
     "output_type": "stream",
     "text": [
      "100%|█████████████████████████████████████████████████████████████████████████████████████████████████████| 1148/1148 [00:44<00:00, 25.83it/s]\n",
      "100%|███████████████████████████████████████████████████████████████████████████████████████████████████████| 157/157 [00:02<00:00, 71.27it/s]\n"
     ]
    },
    {
     "name": "stdout",
     "output_type": "stream",
     "text": [
      "Epoch 13/100, Loss: 0.0011340245830513648, Val_Recall: 97.79674756222533%\n"
     ]
    },
    {
     "name": "stderr",
     "output_type": "stream",
     "text": [
      "100%|█████████████████████████████████████████████████████████████████████████████████████████████████████| 1148/1148 [00:44<00:00, 25.84it/s]\n",
      "100%|███████████████████████████████████████████████████████████████████████████████████████████████████████| 157/157 [00:02<00:00, 70.80it/s]\n"
     ]
    },
    {
     "name": "stdout",
     "output_type": "stream",
     "text": [
      "Epoch 14/100, Loss: 0.0010214910511940675, Val_Recall: 98.43443903798442%\n",
      "Model saved based on lowest validation loss.\n"
     ]
    },
    {
     "name": "stderr",
     "output_type": "stream",
     "text": [
      "100%|█████████████████████████████████████████████████████████████████████████████████████████████████████| 1148/1148 [00:44<00:00, 25.84it/s]\n",
      "100%|███████████████████████████████████████████████████████████████████████████████████████████████████████| 157/157 [00:02<00:00, 71.27it/s]\n"
     ]
    },
    {
     "name": "stdout",
     "output_type": "stream",
     "text": [
      "Epoch 15/100, Loss: 0.000976773757268392, Val_Recall: 98.4895186942288%\n",
      "Model saved based on lowest validation loss.\n"
     ]
    },
    {
     "name": "stderr",
     "output_type": "stream",
     "text": [
      "100%|█████████████████████████████████████████████████████████████████████████████████████████████████████| 1148/1148 [00:44<00:00, 25.80it/s]\n",
      "100%|███████████████████████████████████████████████████████████████████████████████████████████████████████| 157/157 [00:02<00:00, 70.51it/s]\n"
     ]
    },
    {
     "name": "stdout",
     "output_type": "stream",
     "text": [
      "Epoch 16/100, Loss: 0.0009790676216308945, Val_Recall: 98.48206157267771%\n"
     ]
    },
    {
     "name": "stderr",
     "output_type": "stream",
     "text": [
      "100%|█████████████████████████████████████████████████████████████████████████████████████████████████████| 1148/1148 [00:44<00:00, 25.88it/s]\n",
      "100%|███████████████████████████████████████████████████████████████████████████████████████████████████████| 157/157 [00:02<00:00, 71.07it/s]\n"
     ]
    },
    {
     "name": "stdout",
     "output_type": "stream",
     "text": [
      "Epoch 17/100, Loss: 0.0009167398449967065, Val_Recall: 98.61732195109202%\n",
      "Model saved based on lowest validation loss.\n"
     ]
    },
    {
     "name": "stderr",
     "output_type": "stream",
     "text": [
      "100%|█████████████████████████████████████████████████████████████████████████████████████████████████████| 1148/1148 [00:44<00:00, 25.80it/s]\n",
      "100%|███████████████████████████████████████████████████████████████████████████████████████████████████████| 157/157 [00:02<00:00, 70.77it/s]\n"
     ]
    },
    {
     "name": "stdout",
     "output_type": "stream",
     "text": [
      "Epoch 18/100, Loss: 0.0009166347378844952, Val_Recall: 98.63557035946071%\n",
      "Model saved based on lowest validation loss.\n"
     ]
    },
    {
     "name": "stderr",
     "output_type": "stream",
     "text": [
      "100%|█████████████████████████████████████████████████████████████████████████████████████████████████████| 1148/1148 [00:44<00:00, 25.88it/s]\n",
      "100%|███████████████████████████████████████████████████████████████████████████████████████████████████████| 157/157 [00:02<00:00, 70.66it/s]\n"
     ]
    },
    {
     "name": "stdout",
     "output_type": "stream",
     "text": [
      "Epoch 19/100, Loss: 0.0008617101008522798, Val_Recall: 98.64737394775155%\n",
      "Model saved based on lowest validation loss.\n"
     ]
    },
    {
     "name": "stderr",
     "output_type": "stream",
     "text": [
      "100%|█████████████████████████████████████████████████████████████████████████████████████████████████████| 1148/1148 [00:44<00:00, 25.81it/s]\n",
      "100%|███████████████████████████████████████████████████████████████████████████████████████████████████████| 157/157 [00:02<00:00, 70.25it/s]\n"
     ]
    },
    {
     "name": "stdout",
     "output_type": "stream",
     "text": [
      "Epoch 20/100, Loss: 0.0008614324788703498, Val_Recall: 98.48397525494109%\n",
      "Model saved based on lowest validation loss.\n"
     ]
    },
    {
     "name": "stderr",
     "output_type": "stream",
     "text": [
      "100%|█████████████████████████████████████████████████████████████████████████████████████████████████████| 1148/1148 [00:44<00:00, 25.84it/s]\n",
      "100%|███████████████████████████████████████████████████████████████████████████████████████████████████████| 157/157 [00:02<00:00, 71.28it/s]\n"
     ]
    },
    {
     "name": "stdout",
     "output_type": "stream",
     "text": [
      "Epoch 21/100, Loss: 0.000924193584296925, Val_Recall: 98.47651813339002%\n"
     ]
    },
    {
     "name": "stderr",
     "output_type": "stream",
     "text": [
      "100%|█████████████████████████████████████████████████████████████████████████████████████████████████████| 1148/1148 [00:44<00:00, 25.75it/s]\n",
      "100%|███████████████████████████████████████████████████████████████████████████████████████████████████████| 157/157 [00:02<00:00, 70.98it/s]\n"
     ]
    },
    {
     "name": "stdout",
     "output_type": "stream",
     "text": [
      "Epoch 22/100, Loss: 0.000869422176288653, Val_Recall: 98.47651813339002%\n"
     ]
    },
    {
     "name": "stderr",
     "output_type": "stream",
     "text": [
      "100%|█████████████████████████████████████████████████████████████████████████████████████████████████████| 1148/1148 [00:44<00:00, 25.83it/s]\n",
      "100%|███████████████████████████████████████████████████████████████████████████████████████████████████████| 157/157 [00:02<00:00, 70.45it/s]\n"
     ]
    },
    {
     "name": "stdout",
     "output_type": "stream",
     "text": [
      "Epoch 23/100, Loss: 0.0007595633491039003, Val_Recall: 98.48832172168086%\n",
      "Model saved based on lowest validation loss.\n"
     ]
    },
    {
     "name": "stderr",
     "output_type": "stream",
     "text": [
      "100%|█████████████████████████████████████████████████████████████████████████████████████████████████████| 1148/1148 [00:44<00:00, 25.75it/s]\n",
      "100%|███████████████████████████████████████████████████████████████████████████████████████████████████████| 157/157 [00:02<00:00, 69.97it/s]\n"
     ]
    },
    {
     "name": "stdout",
     "output_type": "stream",
     "text": [
      "Epoch 24/100, Loss: 0.0007466970769075861, Val_Recall: 98.63991682620048%\n",
      "Model saved based on lowest validation loss.\n"
     ]
    },
    {
     "name": "stderr",
     "output_type": "stream",
     "text": [
      "100%|█████████████████████████████████████████████████████████████████████████████████████████████████████| 1148/1148 [00:44<00:00, 25.80it/s]\n",
      "100%|███████████████████████████████████████████████████████████████████████████████████████████████████████| 157/157 [00:02<00:00, 71.36it/s]\n"
     ]
    },
    {
     "name": "stdout",
     "output_type": "stream",
     "text": [
      "Epoch 25/100, Loss: 0.0007835351289787025, Val_Recall: 98.65172041449132%\n"
     ]
    },
    {
     "name": "stderr",
     "output_type": "stream",
     "text": [
      "100%|█████████████████████████████████████████████████████████████████████████████████████████████████████| 1148/1148 [00:44<00:00, 25.78it/s]\n",
      "100%|███████████████████████████████████████████████████████████████████████████████████████████████████████| 157/157 [00:02<00:00, 70.53it/s]\n"
     ]
    },
    {
     "name": "stdout",
     "output_type": "stream",
     "text": [
      "Epoch 26/100, Loss: 0.0008755534633408875, Val_Recall: 98.61732195109202%\n"
     ]
    },
    {
     "name": "stderr",
     "output_type": "stream",
     "text": [
      "100%|█████████████████████████████████████████████████████████████████████████████████████████████████████| 1148/1148 [00:44<00:00, 25.73it/s]\n",
      "100%|███████████████████████████████████████████████████████████████████████████████████████████████████████| 157/157 [00:02<00:00, 70.22it/s]\n"
     ]
    },
    {
     "name": "stdout",
     "output_type": "stream",
     "text": [
      "Epoch 27/100, Loss: 0.0008525350769454054, Val_Recall: 98.63223619419418%\n"
     ]
    },
    {
     "name": "stderr",
     "output_type": "stream",
     "text": [
      "100%|█████████████████████████████████████████████████████████████████████████████████████████████████████| 1148/1148 [00:44<00:00, 25.84it/s]\n",
      "100%|███████████████████████████████████████████████████████████████████████████████████████████████████████| 157/157 [00:02<00:00, 70.27it/s]\n"
     ]
    },
    {
     "name": "stdout",
     "output_type": "stream",
     "text": [
      "Epoch 28/100, Loss: 0.000984528275156798, Val_Recall: 98.63658266093395%\n"
     ]
    },
    {
     "name": "stderr",
     "output_type": "stream",
     "text": [
      "100%|█████████████████████████████████████████████████████████████████████████████████████████████████████| 1148/1148 [00:44<00:00, 25.89it/s]\n",
      "100%|███████████████████████████████████████████████████████████████████████████████████████████████████████| 157/157 [00:02<00:00, 70.30it/s]\n"
     ]
    },
    {
     "name": "stdout",
     "output_type": "stream",
     "text": [
      "Epoch 29/100, Loss: 0.0007737545229030589, Val_Recall: 98.18155058782722%\n"
     ]
    },
    {
     "name": "stderr",
     "output_type": "stream",
     "text": [
      "100%|█████████████████████████████████████████████████████████████████████████████████████████████████████| 1148/1148 [00:44<00:00, 25.77it/s]\n",
      "100%|███████████████████████████████████████████████████████████████████████████████████████████████████████| 157/157 [00:02<00:00, 69.62it/s]\n"
     ]
    },
    {
     "name": "stdout",
     "output_type": "stream",
     "text": [
      "Epoch 30/100, Loss: 0.0007405046138082246, Val_Recall: 98.78817776545357%\n",
      "Model saved based on lowest validation loss.\n"
     ]
    },
    {
     "name": "stderr",
     "output_type": "stream",
     "text": [
      "100%|█████████████████████████████████████████████████████████████████████████████████████████████████████| 1148/1148 [00:44<00:00, 25.73it/s]\n",
      "100%|███████████████████████████████████████████████████████████████████████████████████████████████████████| 157/157 [00:02<00:00, 71.26it/s]\n"
     ]
    },
    {
     "name": "stdout",
     "output_type": "stream",
     "text": [
      "Epoch 31/100, Loss: 0.0008389373214295306, Val_Recall: 98.79585839745985%\n"
     ]
    },
    {
     "name": "stderr",
     "output_type": "stream",
     "text": [
      "100%|█████████████████████████████████████████████████████████████████████████████████████████████████████| 1148/1148 [00:44<00:00, 25.83it/s]\n",
      "100%|███████████████████████████████████████████████████████████████████████████████████████████████████████| 157/157 [00:02<00:00, 70.45it/s]\n"
     ]
    },
    {
     "name": "stdout",
     "output_type": "stream",
     "text": [
      "Epoch 32/100, Loss: 0.0006496286047867625, Val_Recall: 98.97106067856114%\n",
      "Model saved based on lowest validation loss.\n"
     ]
    },
    {
     "name": "stderr",
     "output_type": "stream",
     "text": [
      "100%|█████████████████████████████████████████████████████████████████████████████████████████████████████| 1148/1148 [00:44<00:00, 25.87it/s]\n",
      "100%|███████████████████████████████████████████████████████████████████████████████████████████████████████| 157/157 [00:02<00:00, 70.63it/s]\n"
     ]
    },
    {
     "name": "stdout",
     "output_type": "stream",
     "text": [
      "Epoch 33/100, Loss: 0.0007404647231797653, Val_Recall: 98.8076619857507%\n"
     ]
    },
    {
     "name": "stderr",
     "output_type": "stream",
     "text": [
      "100%|█████████████████████████████████████████████████████████████████████████████████████████████████████| 1148/1148 [00:44<00:00, 25.75it/s]\n",
      "100%|███████████████████████████████████████████████████████████████████████████████████████████████████████| 157/157 [00:02<00:00, 70.74it/s]\n"
     ]
    },
    {
     "name": "stdout",
     "output_type": "stream",
     "text": [
      "Epoch 34/100, Loss: 0.0007880448190512074, Val_Recall: 98.79585839745985%\n"
     ]
    },
    {
     "name": "stderr",
     "output_type": "stream",
     "text": [
      "100%|█████████████████████████████████████████████████████████████████████████████████████████████████████| 1148/1148 [00:44<00:00, 25.82it/s]\n",
      "100%|███████████████████████████████████████████████████████████████████████████████████████████████████████| 157/157 [00:02<00:00, 72.29it/s]\n"
     ]
    },
    {
     "name": "stdout",
     "output_type": "stream",
     "text": [
      "Epoch 35/100, Loss: 0.0007140647254807756, Val_Recall: 98.81631607984971%\n"
     ]
    },
    {
     "name": "stderr",
     "output_type": "stream",
     "text": [
      "100%|█████████████████████████████████████████████████████████████████████████████████████████████████████| 1148/1148 [00:44<00:00, 25.81it/s]\n",
      "100%|███████████████████████████████████████████████████████████████████████████████████████████████████████| 157/157 [00:02<00:00, 70.55it/s]\n"
     ]
    },
    {
     "name": "stdout",
     "output_type": "stream",
     "text": [
      "Epoch 36/100, Loss: 0.0007717694580823197, Val_Recall: 98.64325099146701%\n"
     ]
    },
    {
     "name": "stderr",
     "output_type": "stream",
     "text": [
      "100%|█████████████████████████████████████████████████████████████████████████████████████████████████████| 1148/1148 [00:44<00:00, 25.80it/s]\n",
      "100%|███████████████████████████████████████████████████████████████████████████████████████████████████████| 157/157 [00:02<00:00, 71.41it/s]\n"
     ]
    },
    {
     "name": "stdout",
     "output_type": "stream",
     "text": [
      "Epoch 37/100, Loss: 0.0008190840068184563, Val_Recall: 98.63223619419418%\n"
     ]
    },
    {
     "name": "stderr",
     "output_type": "stream",
     "text": [
      "100%|█████████████████████████████████████████████████████████████████████████████████████████████████████| 1148/1148 [00:44<00:00, 25.92it/s]\n",
      "100%|███████████████████████████████████████████████████████████████████████████████████████████████████████| 157/157 [00:02<00:00, 70.87it/s]\n"
     ]
    },
    {
     "name": "stdout",
     "output_type": "stream",
     "text": [
      "Epoch 38/100, Loss: 0.000859601454659103, Val_Recall: 98.80331551901094%\n"
     ]
    },
    {
     "name": "stderr",
     "output_type": "stream",
     "text": [
      "100%|█████████████████████████████████████████████████████████████████████████████████████████████████████| 1148/1148 [00:44<00:00, 25.81it/s]\n",
      "100%|███████████████████████████████████████████████████████████████████████████████████████████████████████| 157/157 [00:02<00:00, 71.36it/s]\n"
     ]
    },
    {
     "name": "stdout",
     "output_type": "stream",
     "text": [
      "Epoch 39/100, Loss: 0.0009146322234039786, Val_Recall: 98.66037450859034%\n"
     ]
    },
    {
     "name": "stderr",
     "output_type": "stream",
     "text": [
      "100%|█████████████████████████████████████████████████████████████████████████████████████████████████████| 1148/1148 [00:44<00:00, 25.80it/s]\n",
      "100%|███████████████████████████████████████████████████████████████████████████████████████████████████████| 157/157 [00:02<00:00, 69.92it/s]\n"
     ]
    },
    {
     "name": "stdout",
     "output_type": "stream",
     "text": [
      "Epoch 40/100, Loss: 0.0009533268329852412, Val_Recall: 98.810772640562%\n"
     ]
    },
    {
     "name": "stderr",
     "output_type": "stream",
     "text": [
      "100%|█████████████████████████████████████████████████████████████████████████████████████████████████████| 1148/1148 [00:44<00:00, 25.77it/s]\n",
      "100%|███████████████████████████████████████████████████████████████████████████████████████████████████████| 157/157 [00:02<00:00, 70.61it/s]\n"
     ]
    },
    {
     "name": "stdout",
     "output_type": "stream",
     "text": [
      "Epoch 41/100, Loss: 0.0008125921239515695, Val_Recall: 98.80331551901094%\n"
     ]
    },
    {
     "name": "stderr",
     "output_type": "stream",
     "text": [
      "100%|█████████████████████████████████████████████████████████████████████████████████████████████████████| 1148/1148 [00:44<00:00, 25.78it/s]\n",
      "100%|███████████████████████████████████████████████████████████████████████████████████████████████████████| 157/157 [00:02<00:00, 71.08it/s]\n"
     ]
    },
    {
     "name": "stdout",
     "output_type": "stream",
     "text": [
      "Epoch 42/100, Loss: 0.0007820995455859604, Val_Recall: 98.64325099146701%\n"
     ]
    },
    {
     "name": "stderr",
     "output_type": "stream",
     "text": [
      "100%|█████████████████████████████████████████████████████████████████████████████████████████████████████| 1148/1148 [00:44<00:00, 25.82it/s]\n",
      "100%|███████████████████████████████████████████████████████████████████████████████████████████████████████| 157/157 [00:02<00:00, 71.41it/s]\n"
     ]
    },
    {
     "name": "stdout",
     "output_type": "stream",
     "text": [
      "Epoch 43/100, Loss: 0.000987004229212773, Val_Recall: 98.7915119307201%\n"
     ]
    },
    {
     "name": "stderr",
     "output_type": "stream",
     "text": [
      "100%|█████████████████████████████████████████████████████████████████████████████████████████████████████| 1148/1148 [00:44<00:00, 25.76it/s]\n",
      "100%|███████████████████████████████████████████████████████████████████████████████████████████████████████| 157/157 [00:02<00:00, 70.71it/s]\n"
     ]
    },
    {
     "name": "stdout",
     "output_type": "stream",
     "text": [
      "Epoch 44/100, Loss: 0.0010542254766842034, Val_Recall: 98.7915119307201%\n"
     ]
    },
    {
     "name": "stderr",
     "output_type": "stream",
     "text": [
      "100%|█████████████████████████████████████████████████████████████████████████████████████████████████████| 1148/1148 [00:44<00:00, 25.79it/s]\n",
      "100%|███████████████████████████████████████████████████████████████████████████████████████████████████████| 157/157 [00:02<00:00, 70.11it/s]\n"
     ]
    },
    {
     "name": "stdout",
     "output_type": "stream",
     "text": [
      "Epoch 45/100, Loss: 0.000993305857506878, Val_Recall: 98.79896905227116%\n"
     ]
    },
    {
     "name": "stderr",
     "output_type": "stream",
     "text": [
      "100%|█████████████████████████████████████████████████████████████████████████████████████████████████████| 1148/1148 [00:44<00:00, 25.77it/s]\n",
      "100%|███████████████████████████████████████████████████████████████████████████████████████████████████████| 157/157 [00:02<00:00, 71.54it/s]\n"
     ]
    },
    {
     "name": "stdout",
     "output_type": "stream",
     "text": [
      "Epoch 46/100, Loss: 0.0007786129845997907, Val_Recall: 98.98930908692984%\n"
     ]
    },
    {
     "name": "stderr",
     "output_type": "stream",
     "text": [
      "100%|█████████████████████████████████████████████████████████████████████████████████████████████████████| 1148/1148 [00:44<00:00, 25.70it/s]\n",
      "100%|███████████████████████████████████████████████████████████████████████████████████████████████████████| 157/157 [00:02<00:00, 70.89it/s]\n"
     ]
    },
    {
     "name": "stdout",
     "output_type": "stream",
     "text": [
      "Epoch 47/100, Loss: 0.0007823527255597988, Val_Recall: 98.79563488700464%\n"
     ]
    },
    {
     "name": "stderr",
     "output_type": "stream",
     "text": [
      "100%|█████████████████████████████████████████████████████████████████████████████████████████████████████| 1148/1148 [00:44<00:00, 25.78it/s]\n",
      "100%|███████████████████████████████████████████████████████████████████████████████████████████████████████| 157/157 [00:02<00:00, 71.68it/s]\n"
     ]
    },
    {
     "name": "stdout",
     "output_type": "stream",
     "text": [
      "Epoch 48/100, Loss: 0.0008410461234600899, Val_Recall: 98.79563488700464%\n"
     ]
    },
    {
     "name": "stderr",
     "output_type": "stream",
     "text": [
      "100%|█████████████████████████████████████████████████████████████████████████████████████████████████████| 1148/1148 [00:44<00:00, 25.74it/s]\n",
      "100%|███████████████████████████████████████████████████████████████████████████████████████████████████████| 157/157 [00:02<00:00, 70.08it/s]\n"
     ]
    },
    {
     "name": "stdout",
     "output_type": "stream",
     "text": [
      "Epoch 49/100, Loss: 0.0008270901966746435, Val_Recall: 98.810772640562%\n"
     ]
    },
    {
     "name": "stderr",
     "output_type": "stream",
     "text": [
      "100%|█████████████████████████████████████████████████████████████████████████████████████████████████████| 1148/1148 [00:44<00:00, 25.91it/s]\n",
      "100%|███████████████████████████████████████████████████████████████████████████████████████████████████████| 157/157 [00:02<00:00, 71.00it/s]\n"
     ]
    },
    {
     "name": "stdout",
     "output_type": "stream",
     "text": [
      "Epoch 50/100, Loss: 0.0008127323929946609, Val_Recall: 98.79563488700464%\n"
     ]
    },
    {
     "name": "stderr",
     "output_type": "stream",
     "text": [
      "100%|█████████████████████████████████████████████████████████████████████████████████████████████████████| 1148/1148 [00:44<00:00, 25.79it/s]\n",
      "100%|███████████████████████████████████████████████████████████████████████████████████████████████████████| 157/157 [00:02<00:00, 70.46it/s]\n"
     ]
    },
    {
     "name": "stdout",
     "output_type": "stream",
     "text": [
      "Epoch 51/100, Loss: 0.0008385957413870938, Val_Recall: 98.78817776545357%\n"
     ]
    },
    {
     "name": "stderr",
     "output_type": "stream",
     "text": [
      "100%|█████████████████████████████████████████████████████████████████████████████████████████████████████| 1148/1148 [00:44<00:00, 25.79it/s]\n",
      "100%|███████████████████████████████████████████████████████████████████████████████████████████████████████| 157/157 [00:02<00:00, 71.31it/s]\n"
     ]
    },
    {
     "name": "stdout",
     "output_type": "stream",
     "text": [
      "Epoch 52/100, Loss: 0.0009420789505449112, Val_Recall: 98.79896905227116%\n"
     ]
    },
    {
     "name": "stderr",
     "output_type": "stream",
     "text": [
      "100%|█████████████████████████████████████████████████████████████████████████████████████████████████████| 1148/1148 [00:44<00:00, 25.77it/s]\n",
      "100%|███████████████████████████████████████████████████████████████████████████████████████████████████████| 157/157 [00:02<00:00, 70.86it/s]\n"
     ]
    },
    {
     "name": "stdout",
     "output_type": "stream",
     "text": [
      "Epoch 53/100, Loss: 0.0012244361689913044, Val_Recall: 98.61297548435228%\n"
     ]
    },
    {
     "name": "stderr",
     "output_type": "stream",
     "text": [
      "100%|█████████████████████████████████████████████████████████████████████████████████████████████████████| 1148/1148 [00:44<00:00, 25.72it/s]\n",
      "100%|███████████████████████████████████████████████████████████████████████████████████████████████████████| 157/157 [00:02<00:00, 70.72it/s]\n"
     ]
    },
    {
     "name": "stdout",
     "output_type": "stream",
     "text": [
      "Epoch 54/100, Loss: 0.0010421247051182539, Val_Recall: 98.78383129871379%\n"
     ]
    },
    {
     "name": "stderr",
     "output_type": "stream",
     "text": [
      "100%|█████████████████████████████████████████████████████████████████████████████████████████████████████| 1148/1148 [00:44<00:00, 25.77it/s]\n",
      "100%|███████████████████████████████████████████████████████████████████████████████████████████████████████| 157/157 [00:02<00:00, 70.91it/s]\n"
     ]
    },
    {
     "name": "stdout",
     "output_type": "stream",
     "text": [
      "Epoch 55/100, Loss: 0.0010191013348922289, Val_Recall: 98.78383129871379%\n"
     ]
    },
    {
     "name": "stderr",
     "output_type": "stream",
     "text": [
      "100%|█████████████████████████████████████████████████████████████████████████████████████████████████████| 1148/1148 [00:44<00:00, 25.78it/s]\n",
      "100%|███████████████████████████████████████████████████████████████████████████████████████████████████████| 157/157 [00:02<00:00, 71.35it/s]\n"
     ]
    },
    {
     "name": "stdout",
     "output_type": "stream",
     "text": [
      "Epoch 56/100, Loss: 0.0007917533347020318, Val_Recall: 98.810772640562%\n"
     ]
    },
    {
     "name": "stderr",
     "output_type": "stream",
     "text": [
      "100%|█████████████████████████████████████████████████████████████████████████████████████████████████████| 1148/1148 [00:44<00:00, 25.78it/s]\n",
      "100%|███████████████████████████████████████████████████████████████████████████████████████████████████████| 157/157 [00:02<00:00, 70.84it/s]\n"
     ]
    },
    {
     "name": "stdout",
     "output_type": "stream",
     "text": [
      "Epoch 57/100, Loss: 0.0008525998645944014, Val_Recall: 98.50089085189705%\n"
     ]
    },
    {
     "name": "stderr",
     "output_type": "stream",
     "text": [
      "100%|█████████████████████████████████████████████████████████████████████████████████████████████████████| 1148/1148 [00:44<00:00, 25.77it/s]\n",
      "100%|███████████████████████████████████████████████████████████████████████████████████████████████████████| 157/157 [00:02<00:00, 71.53it/s]\n"
     ]
    },
    {
     "name": "stdout",
     "output_type": "stream",
     "text": [
      "Epoch 58/100, Loss: 0.0009910673329100723, Val_Recall: 98.1622898779853%\n"
     ]
    },
    {
     "name": "stderr",
     "output_type": "stream",
     "text": [
      "100%|█████████████████████████████████████████████████████████████████████████████████████████████████████| 1148/1148 [00:44<00:00, 25.76it/s]\n",
      "100%|███████████████████████████████████████████████████████████████████████████████████████████████████████| 157/157 [00:02<00:00, 71.27it/s]\n"
     ]
    },
    {
     "name": "stdout",
     "output_type": "stream",
     "text": [
      "Epoch 59/100, Loss: 0.0011062710637897647, Val_Recall: 98.16974699953637%\n"
     ]
    },
    {
     "name": "stderr",
     "output_type": "stream",
     "text": [
      "100%|█████████████████████████████████████████████████████████████████████████████████████████████████████| 1148/1148 [00:44<00:00, 25.83it/s]\n",
      "100%|███████████████████████████████████████████████████████████████████████████████████████████████████████| 157/157 [00:02<00:00, 71.21it/s]\n"
     ]
    },
    {
     "name": "stdout",
     "output_type": "stream",
     "text": [
      "Epoch 60/100, Loss: 0.0008525327307520001, Val_Recall: 98.64737394775155%\n"
     ]
    },
    {
     "name": "stderr",
     "output_type": "stream",
     "text": [
      "100%|█████████████████████████████████████████████████████████████████████████████████████████████████████| 1148/1148 [00:44<00:00, 25.85it/s]\n",
      "100%|███████████████████████████████████████████████████████████████████████████████████████████████████████| 157/157 [00:02<00:00, 70.44it/s]\n"
     ]
    },
    {
     "name": "stdout",
     "output_type": "stream",
     "text": [
      "Epoch 61/100, Loss: 0.0008347279375963488, Val_Recall: 98.65726385377901%\n"
     ]
    },
    {
     "name": "stderr",
     "output_type": "stream",
     "text": [
      "100%|█████████████████████████████████████████████████████████████████████████████████████████████████████| 1148/1148 [00:44<00:00, 25.81it/s]\n",
      "100%|███████████████████████████████████████████████████████████████████████████████████████████████████████| 157/157 [00:02<00:00, 70.44it/s]\n"
     ]
    },
    {
     "name": "stdout",
     "output_type": "stream",
     "text": [
      "Epoch 62/100, Loss: 0.0007911176279326114, Val_Recall: 98.33314569234682%\n",
      "Early stopping\n",
      "Loaded pretrained weights for efficientnet-b0\n"
     ]
    },
    {
     "name": "stderr",
     "output_type": "stream",
     "text": [
      "100%|███████████████████████████████████████████████████████████████████████████████████████████████████████| 574/574 [00:48<00:00, 11.81it/s]\n",
      "100%|█████████████████████████████████████████████████████████████████████████████████████████████████████████| 79/79 [00:02<00:00, 34.38it/s]\n"
     ]
    },
    {
     "name": "stdout",
     "output_type": "stream",
     "text": [
      "Epoch 1/100, Loss: 0.004123152643016393, Val_Recall: 93.47390335527774%\n",
      "Model saved based on lowest validation loss.\n"
     ]
    },
    {
     "name": "stderr",
     "output_type": "stream",
     "text": [
      "100%|███████████████████████████████████████████████████████████████████████████████████████████████████████| 574/574 [00:47<00:00, 12.12it/s]\n",
      "100%|█████████████████████████████████████████████████████████████████████████████████████████████████████████| 79/79 [00:02<00:00, 33.75it/s]\n"
     ]
    },
    {
     "name": "stdout",
     "output_type": "stream",
     "text": [
      "Epoch 2/100, Loss: 0.0026018545087767454, Val_Recall: 98.10526627125111%\n",
      "Model saved based on lowest validation loss.\n"
     ]
    },
    {
     "name": "stderr",
     "output_type": "stream",
     "text": [
      "100%|███████████████████████████████████████████████████████████████████████████████████████████████████████| 574/574 [00:47<00:00, 12.14it/s]\n",
      "100%|█████████████████████████████████████████████████████████████████████████████████████████████████████████| 79/79 [00:02<00:00, 33.56it/s]\n"
     ]
    },
    {
     "name": "stdout",
     "output_type": "stream",
     "text": [
      "Epoch 3/100, Loss: 0.0029812522586055087, Val_Recall: 94.97906308734278%\n"
     ]
    },
    {
     "name": "stderr",
     "output_type": "stream",
     "text": [
      "100%|███████████████████████████████████████████████████████████████████████████████████████████████████████| 574/574 [00:47<00:00, 12.09it/s]\n",
      "100%|█████████████████████████████████████████████████████████████████████████████████████████████████████████| 79/79 [00:02<00:00, 33.56it/s]\n"
     ]
    },
    {
     "name": "stdout",
     "output_type": "stream",
     "text": [
      "Epoch 4/100, Loss: 0.006824537929002032, Val_Recall: 93.71439180758365%\n"
     ]
    },
    {
     "name": "stderr",
     "output_type": "stream",
     "text": [
      "100%|███████████████████████████████████████████████████████████████████████████████████████████████████████| 574/574 [00:47<00:00, 12.11it/s]\n",
      "100%|█████████████████████████████████████████████████████████████████████████████████████████████████████████| 79/79 [00:02<00:00, 33.64it/s]\n"
     ]
    },
    {
     "name": "stdout",
     "output_type": "stream",
     "text": [
      "Epoch 5/100, Loss: 0.004359079532072746, Val_Recall: 94.70000652238107%\n"
     ]
    },
    {
     "name": "stderr",
     "output_type": "stream",
     "text": [
      "100%|███████████████████████████████████████████████████████████████████████████████████████████████████████| 574/574 [00:47<00:00, 12.10it/s]\n",
      "100%|█████████████████████████████████████████████████████████████████████████████████████████████████████████| 79/79 [00:02<00:00, 33.90it/s]\n"
     ]
    },
    {
     "name": "stdout",
     "output_type": "stream",
     "text": [
      "Epoch 6/100, Loss: 0.007485020758897701, Val_Recall: 92.028933052833%\n"
     ]
    },
    {
     "name": "stderr",
     "output_type": "stream",
     "text": [
      "100%|███████████████████████████████████████████████████████████████████████████████████████████████████████| 574/574 [00:47<00:00, 12.07it/s]\n",
      "100%|█████████████████████████████████████████████████████████████████████████████████████████████████████████| 79/79 [00:02<00:00, 32.83it/s]\n"
     ]
    },
    {
     "name": "stdout",
     "output_type": "stream",
     "text": [
      "Epoch 7/100, Loss: 0.05172169960590865, Val_Recall: 80.00993391324039%\n"
     ]
    },
    {
     "name": "stderr",
     "output_type": "stream",
     "text": [
      "100%|███████████████████████████████████████████████████████████████████████████████████████████████████████| 574/574 [00:47<00:00, 12.12it/s]\n",
      "100%|█████████████████████████████████████████████████████████████████████████████████████████████████████████| 79/79 [00:02<00:00, 33.75it/s]\n"
     ]
    },
    {
     "name": "stdout",
     "output_type": "stream",
     "text": [
      "Epoch 8/100, Loss: 0.006224092338795934, Val_Recall: 94.10555026100596%\n"
     ]
    },
    {
     "name": "stderr",
     "output_type": "stream",
     "text": [
      "100%|███████████████████████████████████████████████████████████████████████████████████████████████████████| 574/574 [00:47<00:00, 12.10it/s]\n",
      "100%|█████████████████████████████████████████████████████████████████████████████████████████████████████████| 79/79 [00:02<00:00, 33.62it/s]\n"
     ]
    },
    {
     "name": "stdout",
     "output_type": "stream",
     "text": [
      "Epoch 9/100, Loss: 0.002826755456513816, Val_Recall: 96.66498381129817%\n"
     ]
    },
    {
     "name": "stderr",
     "output_type": "stream",
     "text": [
      "100%|███████████████████████████████████████████████████████████████████████████████████████████████████████| 574/574 [00:47<00:00, 12.09it/s]\n",
      "100%|█████████████████████████████████████████████████████████████████████████████████████████████████████████| 79/79 [00:02<00:00, 33.31it/s]\n"
     ]
    },
    {
     "name": "stdout",
     "output_type": "stream",
     "text": [
      "Epoch 10/100, Loss: 0.002654935690792507, Val_Recall: 96.42419852008783%\n"
     ]
    },
    {
     "name": "stderr",
     "output_type": "stream",
     "text": [
      "100%|███████████████████████████████████████████████████████████████████████████████████████████████████████| 574/574 [00:47<00:00, 12.11it/s]\n",
      "100%|█████████████████████████████████████████████████████████████████████████████████████████████████████████| 79/79 [00:02<00:00, 33.74it/s]\n"
     ]
    },
    {
     "name": "stdout",
     "output_type": "stream",
     "text": [
      "Epoch 11/100, Loss: 0.004006369204422179, Val_Recall: 94.5448875523601%\n"
     ]
    },
    {
     "name": "stderr",
     "output_type": "stream",
     "text": [
      "100%|███████████████████████████████████████████████████████████████████████████████████████████████████████| 574/574 [00:47<00:00, 12.11it/s]\n",
      "100%|█████████████████████████████████████████████████████████████████████████████████████████████████████████| 79/79 [00:02<00:00, 33.62it/s]\n"
     ]
    },
    {
     "name": "stdout",
     "output_type": "stream",
     "text": [
      "Epoch 12/100, Loss: 0.005341742688759896, Val_Recall: 90.37394864510854%\n"
     ]
    },
    {
     "name": "stderr",
     "output_type": "stream",
     "text": [
      "100%|███████████████████████████████████████████████████████████████████████████████████████████████████████| 574/574 [00:47<00:00, 12.12it/s]\n",
      "100%|█████████████████████████████████████████████████████████████████████████████████████████████████████████| 79/79 [00:02<00:00, 33.66it/s]\n"
     ]
    },
    {
     "name": "stdout",
     "output_type": "stream",
     "text": [
      "Epoch 13/100, Loss: 0.0037968431180359606, Val_Recall: 97.98627160418859%\n"
     ]
    },
    {
     "name": "stderr",
     "output_type": "stream",
     "text": [
      "100%|███████████████████████████████████████████████████████████████████████████████████████████████████████| 574/574 [00:47<00:00, 12.04it/s]\n",
      "100%|█████████████████████████████████████████████████████████████████████████████████████████████████████████| 79/79 [00:02<00:00, 33.78it/s]\n"
     ]
    },
    {
     "name": "stdout",
     "output_type": "stream",
     "text": [
      "Epoch 14/100, Loss: 0.002270176010082771, Val_Recall: 95.54732027443791%\n",
      "Model saved based on lowest validation loss.\n"
     ]
    },
    {
     "name": "stderr",
     "output_type": "stream",
     "text": [
      "100%|███████████████████████████████████████████████████████████████████████████████████████████████████████| 574/574 [00:47<00:00, 12.10it/s]\n",
      "100%|█████████████████████████████████████████████████████████████████████████████████████████████████████████| 79/79 [00:02<00:00, 33.98it/s]\n"
     ]
    },
    {
     "name": "stdout",
     "output_type": "stream",
     "text": [
      "Epoch 15/100, Loss: 0.0026873278994429734, Val_Recall: 94.92340057132319%\n"
     ]
    },
    {
     "name": "stderr",
     "output_type": "stream",
     "text": [
      "100%|███████████████████████████████████████████████████████████████████████████████████████████████████████| 574/574 [00:47<00:00, 12.12it/s]\n",
      "100%|█████████████████████████████████████████████████████████████████████████████████████████████████████████| 79/79 [00:02<00:00, 33.67it/s]\n"
     ]
    },
    {
     "name": "stdout",
     "output_type": "stream",
     "text": [
      "Epoch 16/100, Loss: 0.010456656047237705, Val_Recall: 91.45102938445167%\n"
     ]
    },
    {
     "name": "stderr",
     "output_type": "stream",
     "text": [
      "100%|███████████████████████████████████████████████████████████████████████████████████████████████████████| 574/574 [00:47<00:00, 12.10it/s]\n",
      "100%|█████████████████████████████████████████████████████████████████████████████████████████████████████████| 79/79 [00:02<00:00, 33.52it/s]\n"
     ]
    },
    {
     "name": "stdout",
     "output_type": "stream",
     "text": [
      "Epoch 17/100, Loss: 0.0040956220626577325, Val_Recall: 95.0104269561316%\n"
     ]
    },
    {
     "name": "stderr",
     "output_type": "stream",
     "text": [
      "100%|███████████████████████████████████████████████████████████████████████████████████████████████████████| 574/574 [00:47<00:00, 12.11it/s]\n",
      "100%|█████████████████████████████████████████████████████████████████████████████████████████████████████████| 79/79 [00:02<00:00, 34.18it/s]\n"
     ]
    },
    {
     "name": "stdout",
     "output_type": "stream",
     "text": [
      "Epoch 18/100, Loss: 0.0015942708585191048, Val_Recall: 98.74598608027584%\n",
      "Model saved based on lowest validation loss.\n"
     ]
    },
    {
     "name": "stderr",
     "output_type": "stream",
     "text": [
      "100%|███████████████████████████████████████████████████████████████████████████████████████████████████████| 574/574 [00:47<00:00, 12.10it/s]\n",
      "100%|█████████████████████████████████████████████████████████████████████████████████████████████████████████| 79/79 [00:02<00:00, 33.33it/s]\n"
     ]
    },
    {
     "name": "stdout",
     "output_type": "stream",
     "text": [
      "Epoch 19/100, Loss: 0.004246187583678272, Val_Recall: 96.9501338530207%\n"
     ]
    },
    {
     "name": "stderr",
     "output_type": "stream",
     "text": [
      "100%|███████████████████████████████████████████████████████████████████████████████████████████████████████| 574/574 [00:47<00:00, 12.09it/s]\n",
      "100%|█████████████████████████████████████████████████████████████████████████████████████████████████████████| 79/79 [00:02<00:00, 33.56it/s]\n"
     ]
    },
    {
     "name": "stdout",
     "output_type": "stream",
     "text": [
      "Epoch 20/100, Loss: 0.006834394294437579, Val_Recall: 91.22443698279432%\n"
     ]
    },
    {
     "name": "stderr",
     "output_type": "stream",
     "text": [
      "100%|███████████████████████████████████████████████████████████████████████████████████████████████████████| 574/574 [00:47<00:00, 12.10it/s]\n",
      "100%|█████████████████████████████████████████████████████████████████████████████████████████████████████████| 79/79 [00:02<00:00, 33.61it/s]\n"
     ]
    },
    {
     "name": "stdout",
     "output_type": "stream",
     "text": [
      "Epoch 21/100, Loss: 0.0012051603793638076, Val_Recall: 98.36414822184197%\n",
      "Model saved based on lowest validation loss.\n"
     ]
    },
    {
     "name": "stderr",
     "output_type": "stream",
     "text": [
      "100%|███████████████████████████████████████████████████████████████████████████████████████████████████████| 574/574 [00:47<00:00, 12.11it/s]\n",
      "100%|█████████████████████████████████████████████████████████████████████████████████████████████████████████| 79/79 [00:02<00:00, 33.94it/s]\n"
     ]
    },
    {
     "name": "stdout",
     "output_type": "stream",
     "text": [
      "Epoch 22/100, Loss: 0.011390135419369068, Val_Recall: 87.90236385661578%\n"
     ]
    },
    {
     "name": "stderr",
     "output_type": "stream",
     "text": [
      "100%|███████████████████████████████████████████████████████████████████████████████████████████████████████| 574/574 [00:47<00:00, 12.11it/s]\n",
      "100%|█████████████████████████████████████████████████████████████████████████████████████████████████████████| 79/79 [00:02<00:00, 33.92it/s]\n"
     ]
    },
    {
     "name": "stdout",
     "output_type": "stream",
     "text": [
      "Epoch 23/100, Loss: 0.002060165661742446, Val_Recall: 97.47584363731822%\n"
     ]
    },
    {
     "name": "stderr",
     "output_type": "stream",
     "text": [
      "100%|███████████████████████████████████████████████████████████████████████████████████████████████████████| 574/574 [00:47<00:00, 12.09it/s]\n",
      "100%|█████████████████████████████████████████████████████████████████████████████████████████████████████████| 79/79 [00:02<00:00, 34.37it/s]\n"
     ]
    },
    {
     "name": "stdout",
     "output_type": "stream",
     "text": [
      "Epoch 24/100, Loss: 0.0024971256904192003, Val_Recall: 96.84662892355273%\n"
     ]
    },
    {
     "name": "stderr",
     "output_type": "stream",
     "text": [
      "100%|███████████████████████████████████████████████████████████████████████████████████████████████████████| 574/574 [00:47<00:00, 12.10it/s]\n",
      "100%|█████████████████████████████████████████████████████████████████████████████████████████████████████████| 79/79 [00:02<00:00, 33.82it/s]\n"
     ]
    },
    {
     "name": "stdout",
     "output_type": "stream",
     "text": [
      "Epoch 25/100, Loss: 0.004069020897164486, Val_Recall: 96.51757014405152%\n"
     ]
    },
    {
     "name": "stderr",
     "output_type": "stream",
     "text": [
      "100%|███████████████████████████████████████████████████████████████████████████████████████████████████████| 574/574 [00:47<00:00, 12.13it/s]\n",
      "100%|█████████████████████████████████████████████████████████████████████████████████████████████████████████| 79/79 [00:02<00:00, 33.88it/s]\n"
     ]
    },
    {
     "name": "stdout",
     "output_type": "stream",
     "text": [
      "Epoch 26/100, Loss: 0.004279260448433307, Val_Recall: 93.77795073041747%\n"
     ]
    },
    {
     "name": "stderr",
     "output_type": "stream",
     "text": [
      "100%|███████████████████████████████████████████████████████████████████████████████████████████████████████| 574/574 [00:47<00:00, 12.11it/s]\n",
      "100%|█████████████████████████████████████████████████████████████████████████████████████████████████████████| 79/79 [00:02<00:00, 33.56it/s]\n"
     ]
    },
    {
     "name": "stdout",
     "output_type": "stream",
     "text": [
      "Epoch 27/100, Loss: 0.006184486977176444, Val_Recall: 94.418536764022%\n"
     ]
    },
    {
     "name": "stderr",
     "output_type": "stream",
     "text": [
      "100%|███████████████████████████████████████████████████████████████████████████████████████████████████████| 574/574 [00:47<00:00, 12.10it/s]\n",
      "100%|█████████████████████████████████████████████████████████████████████████████████████████████████████████| 79/79 [00:02<00:00, 33.59it/s]\n"
     ]
    },
    {
     "name": "stdout",
     "output_type": "stream",
     "text": [
      "Epoch 28/100, Loss: 0.0010322636293298567, Val_Recall: 98.04339712354748%\n",
      "Model saved based on lowest validation loss.\n"
     ]
    },
    {
     "name": "stderr",
     "output_type": "stream",
     "text": [
      "100%|███████████████████████████████████████████████████████████████████████████████████████████████████████| 574/574 [00:47<00:00, 12.13it/s]\n",
      "100%|█████████████████████████████████████████████████████████████████████████████████████████████████████████| 79/79 [00:02<00:00, 34.02it/s]\n"
     ]
    },
    {
     "name": "stdout",
     "output_type": "stream",
     "text": [
      "Epoch 29/100, Loss: 0.0009148934457146171, Val_Recall: 98.65606688123107%\n",
      "Model saved based on lowest validation loss.\n"
     ]
    },
    {
     "name": "stderr",
     "output_type": "stream",
     "text": [
      "100%|███████████████████████████████████████████████████████████████████████████████████████████████████████| 574/574 [00:47<00:00, 12.10it/s]\n",
      "100%|█████████████████████████████████████████████████████████████████████████████████████████████████████████| 79/79 [00:02<00:00, 33.22it/s]\n"
     ]
    },
    {
     "name": "stdout",
     "output_type": "stream",
     "text": [
      "Epoch 30/100, Loss: 0.001443339946694155, Val_Recall: 97.19570266326718%\n"
     ]
    },
    {
     "name": "stderr",
     "output_type": "stream",
     "text": [
      "100%|███████████████████████████████████████████████████████████████████████████████████████████████████████| 574/574 [00:47<00:00, 12.11it/s]\n",
      "100%|█████████████████████████████████████████████████████████████████████████████████████████████████████████| 79/79 [00:02<00:00, 33.94it/s]\n"
     ]
    },
    {
     "name": "stdout",
     "output_type": "stream",
     "text": [
      "Epoch 31/100, Loss: 0.009465295241604747, Val_Recall: 87.41200260387387%\n"
     ]
    },
    {
     "name": "stderr",
     "output_type": "stream",
     "text": [
      "100%|███████████████████████████████████████████████████████████████████████████████████████████████████████| 574/574 [00:47<00:00, 12.07it/s]\n",
      "100%|█████████████████████████████████████████████████████████████████████████████████████████████████████████| 79/79 [00:02<00:00, 32.44it/s]\n"
     ]
    },
    {
     "name": "stdout",
     "output_type": "stream",
     "text": [
      "Epoch 32/100, Loss: 0.001282982790824006, Val_Recall: 97.98673023648857%\n"
     ]
    },
    {
     "name": "stderr",
     "output_type": "stream",
     "text": [
      "100%|███████████████████████████████████████████████████████████████████████████████████████████████████████| 574/574 [00:47<00:00, 12.11it/s]\n",
      "100%|█████████████████████████████████████████████████████████████████████████████████████████████████████████| 79/79 [00:02<00:00, 34.00it/s]\n"
     ]
    },
    {
     "name": "stdout",
     "output_type": "stream",
     "text": [
      "Epoch 33/100, Loss: 0.002438067825388199, Val_Recall: 95.90327593473307%\n"
     ]
    },
    {
     "name": "stderr",
     "output_type": "stream",
     "text": [
      "100%|███████████████████████████████████████████████████████████████████████████████████████████████████████| 574/574 [00:47<00:00, 12.09it/s]\n",
      "100%|█████████████████████████████████████████████████████████████████████████████████████████████████████████| 79/79 [00:02<00:00, 33.48it/s]\n"
     ]
    },
    {
     "name": "stdout",
     "output_type": "stream",
     "text": [
      "Epoch 34/100, Loss: 0.0023329819589924037, Val_Recall: 97.76096613016524%\n"
     ]
    },
    {
     "name": "stderr",
     "output_type": "stream",
     "text": [
      "100%|███████████████████████████████████████████████████████████████████████████████████████████████████████| 574/574 [00:47<00:00, 12.04it/s]\n",
      "100%|█████████████████████████████████████████████████████████████████████████████████████████████████████████| 79/79 [00:02<00:00, 33.19it/s]\n"
     ]
    },
    {
     "name": "stdout",
     "output_type": "stream",
     "text": [
      "Epoch 35/100, Loss: 0.006479768745539026, Val_Recall: 95.72262365664824%\n"
     ]
    },
    {
     "name": "stderr",
     "output_type": "stream",
     "text": [
      "100%|███████████████████████████████████████████████████████████████████████████████████████████████████████| 574/574 [00:47<00:00, 12.09it/s]\n",
      "100%|█████████████████████████████████████████████████████████████████████████████████████████████████████████| 79/79 [00:02<00:00, 33.69it/s]\n"
     ]
    },
    {
     "name": "stdout",
     "output_type": "stream",
     "text": [
      "Epoch 36/100, Loss: 0.02267793144195532, Val_Recall: 87.93918909160934%\n"
     ]
    },
    {
     "name": "stderr",
     "output_type": "stream",
     "text": [
      "100%|███████████████████████████████████████████████████████████████████████████████████████████████████████| 574/574 [00:47<00:00, 12.10it/s]\n",
      "100%|█████████████████████████████████████████████████████████████████████████████████████████████████████████| 79/79 [00:02<00:00, 33.34it/s]\n"
     ]
    },
    {
     "name": "stdout",
     "output_type": "stream",
     "text": [
      "Epoch 37/100, Loss: 0.0020689850662811635, Val_Recall: 96.5436233855882%\n"
     ]
    },
    {
     "name": "stderr",
     "output_type": "stream",
     "text": [
      "100%|███████████████████████████████████████████████████████████████████████████████████████████████████████| 574/574 [00:47<00:00, 12.07it/s]\n",
      "100%|█████████████████████████████████████████████████████████████████████████████████████████████████████████| 79/79 [00:02<00:00, 34.02it/s]\n"
     ]
    },
    {
     "name": "stdout",
     "output_type": "stream",
     "text": [
      "Epoch 38/100, Loss: 0.0035030059963452025, Val_Recall: 97.09440968799402%\n"
     ]
    },
    {
     "name": "stderr",
     "output_type": "stream",
     "text": [
      "100%|███████████████████████████████████████████████████████████████████████████████████████████████████████| 574/574 [00:47<00:00, 12.10it/s]\n",
      "100%|█████████████████████████████████████████████████████████████████████████████████████████████████████████| 79/79 [00:02<00:00, 34.13it/s]\n"
     ]
    },
    {
     "name": "stdout",
     "output_type": "stream",
     "text": [
      "Epoch 39/100, Loss: 0.003206363298446724, Val_Recall: 94.77157628646809%\n"
     ]
    },
    {
     "name": "stderr",
     "output_type": "stream",
     "text": [
      "100%|███████████████████████████████████████████████████████████████████████████████████████████████████████| 574/574 [00:47<00:00, 12.10it/s]\n",
      "100%|█████████████████████████████████████████████████████████████████████████████████████████████████████████| 79/79 [00:02<00:00, 33.73it/s]\n"
     ]
    },
    {
     "name": "stdout",
     "output_type": "stream",
     "text": [
      "Epoch 40/100, Loss: 0.0013040162132735807, Val_Recall: 98.19166400430989%\n"
     ]
    },
    {
     "name": "stderr",
     "output_type": "stream",
     "text": [
      "100%|███████████████████████████████████████████████████████████████████████████████████████████████████████| 574/574 [00:47<00:00, 12.10it/s]\n",
      "100%|█████████████████████████████████████████████████████████████████████████████████████████████████████████| 79/79 [00:02<00:00, 33.86it/s]\n"
     ]
    },
    {
     "name": "stdout",
     "output_type": "stream",
     "text": [
      "Epoch 41/100, Loss: 0.0011026526933757576, Val_Recall: 98.36997694022251%\n"
     ]
    },
    {
     "name": "stderr",
     "output_type": "stream",
     "text": [
      "100%|███████████████████████████████████████████████████████████████████████████████████████████████████████| 574/574 [00:47<00:00, 12.08it/s]\n",
      "100%|█████████████████████████████████████████████████████████████████████████████████████████████████████████| 79/79 [00:02<00:00, 33.85it/s]\n"
     ]
    },
    {
     "name": "stdout",
     "output_type": "stream",
     "text": [
      "Epoch 42/100, Loss: 0.0013896630123231013, Val_Recall: 98.52591851148188%\n"
     ]
    },
    {
     "name": "stderr",
     "output_type": "stream",
     "text": [
      "100%|███████████████████████████████████████████████████████████████████████████████████████████████████████| 574/574 [00:47<00:00, 12.12it/s]\n",
      "100%|█████████████████████████████████████████████████████████████████████████████████████████████████████████| 79/79 [00:02<00:00, 33.70it/s]\n"
     ]
    },
    {
     "name": "stdout",
     "output_type": "stream",
     "text": [
      "Epoch 43/100, Loss: 0.45940490989095156, Val_Recall: 58.19619501330604%\n"
     ]
    },
    {
     "name": "stderr",
     "output_type": "stream",
     "text": [
      "100%|███████████████████████████████████████████████████████████████████████████████████████████████████████| 574/574 [00:47<00:00, 12.08it/s]\n",
      "100%|█████████████████████████████████████████████████████████████████████████████████████████████████████████| 79/79 [00:02<00:00, 33.23it/s]\n"
     ]
    },
    {
     "name": "stdout",
     "output_type": "stream",
     "text": [
      "Epoch 44/100, Loss: 0.0021679495836393744, Val_Recall: 97.3775576846137%\n"
     ]
    },
    {
     "name": "stderr",
     "output_type": "stream",
     "text": [
      "100%|███████████████████████████████████████████████████████████████████████████████████████████████████████| 574/574 [00:47<00:00, 12.10it/s]\n",
      "100%|█████████████████████████████████████████████████████████████████████████████████████████████████████████| 79/79 [00:02<00:00, 33.66it/s]\n"
     ]
    },
    {
     "name": "stdout",
     "output_type": "stream",
     "text": [
      "Epoch 45/100, Loss: 0.0019898803935593785, Val_Recall: 97.84393866629601%\n"
     ]
    },
    {
     "name": "stderr",
     "output_type": "stream",
     "text": [
      "100%|███████████████████████████████████████████████████████████████████████████████████████████████████████| 574/574 [00:47<00:00, 12.10it/s]\n",
      "100%|█████████████████████████████████████████████████████████████████████████████████████████████████████████| 79/79 [00:02<00:00, 34.01it/s]\n"
     ]
    },
    {
     "name": "stdout",
     "output_type": "stream",
     "text": [
      "Epoch 46/100, Loss: 0.00898942522419671, Val_Recall: 93.81278975627328%\n"
     ]
    },
    {
     "name": "stderr",
     "output_type": "stream",
     "text": [
      "100%|███████████████████████████████████████████████████████████████████████████████████████████████████████| 574/574 [00:47<00:00, 12.10it/s]\n",
      "100%|█████████████████████████████████████████████████████████████████████████████████████████████████████████| 79/79 [00:02<00:00, 33.59it/s]\n"
     ]
    },
    {
     "name": "stdout",
     "output_type": "stream",
     "text": [
      "Epoch 47/100, Loss: 0.005014050954075341, Val_Recall: 95.25267124989001%\n"
     ]
    },
    {
     "name": "stderr",
     "output_type": "stream",
     "text": [
      "100%|███████████████████████████████████████████████████████████████████████████████████████████████████████| 574/574 [00:47<00:00, 12.10it/s]\n",
      "100%|█████████████████████████████████████████████████████████████████████████████████████████████████████████| 79/79 [00:02<00:00, 33.71it/s]\n"
     ]
    },
    {
     "name": "stdout",
     "output_type": "stream",
     "text": [
      "Epoch 48/100, Loss: 0.002871251057561824, Val_Recall: 95.13089729260543%\n"
     ]
    },
    {
     "name": "stderr",
     "output_type": "stream",
     "text": [
      "100%|███████████████████████████████████████████████████████████████████████████████████████████████████████| 574/574 [00:47<00:00, 12.14it/s]\n",
      "100%|█████████████████████████████████████████████████████████████████████████████████████████████████████████| 79/79 [00:02<00:00, 34.08it/s]\n"
     ]
    },
    {
     "name": "stdout",
     "output_type": "stream",
     "text": [
      "Epoch 49/100, Loss: 0.004497114858950877, Val_Recall: 94.44011192416791%\n"
     ]
    },
    {
     "name": "stderr",
     "output_type": "stream",
     "text": [
      "100%|███████████████████████████████████████████████████████████████████████████████████████████████████████| 574/574 [00:47<00:00, 12.09it/s]\n",
      "100%|█████████████████████████████████████████████████████████████████████████████████████████████████████████| 79/79 [00:02<00:00, 33.99it/s]\n"
     ]
    },
    {
     "name": "stdout",
     "output_type": "stream",
     "text": [
      "Epoch 50/100, Loss: 0.004742566352715339, Val_Recall: 94.66418558705402%\n"
     ]
    },
    {
     "name": "stderr",
     "output_type": "stream",
     "text": [
      "100%|███████████████████████████████████████████████████████████████████████████████████████████████████████| 574/574 [00:47<00:00, 12.10it/s]\n",
      "100%|█████████████████████████████████████████████████████████████████████████████████████████████████████████| 79/79 [00:02<00:00, 33.48it/s]\n"
     ]
    },
    {
     "name": "stdout",
     "output_type": "stream",
     "text": [
      "Epoch 51/100, Loss: 0.001929322463543821, Val_Recall: 96.1506737303972%\n"
     ]
    },
    {
     "name": "stderr",
     "output_type": "stream",
     "text": [
      "100%|███████████████████████████████████████████████████████████████████████████████████████████████████████| 574/574 [00:47<00:00, 12.09it/s]\n",
      "100%|█████████████████████████████████████████████████████████████████████████████████████████████████████████| 79/79 [00:02<00:00, 33.13it/s]\n"
     ]
    },
    {
     "name": "stdout",
     "output_type": "stream",
     "text": [
      "Epoch 52/100, Loss: 0.004369508489755822, Val_Recall: 96.24019071573487%\n"
     ]
    },
    {
     "name": "stderr",
     "output_type": "stream",
     "text": [
      "100%|███████████████████████████████████████████████████████████████████████████████████████████████████████| 574/574 [00:47<00:00, 12.11it/s]\n",
      "100%|█████████████████████████████████████████████████████████████████████████████████████████████████████████| 79/79 [00:02<00:00, 33.95it/s]\n"
     ]
    },
    {
     "name": "stdout",
     "output_type": "stream",
     "text": [
      "Epoch 53/100, Loss: 0.004826123802374899, Val_Recall: 95.54294888951644%\n"
     ]
    },
    {
     "name": "stderr",
     "output_type": "stream",
     "text": [
      "100%|███████████████████████████████████████████████████████████████████████████████████████████████████████| 574/574 [00:47<00:00, 12.10it/s]\n",
      "100%|█████████████████████████████████████████████████████████████████████████████████████████████████████████| 79/79 [00:02<00:00, 33.95it/s]\n"
     ]
    },
    {
     "name": "stdout",
     "output_type": "stream",
     "text": [
      "Epoch 54/100, Loss: 0.007162450797318788, Val_Recall: 91.81579277697413%\n"
     ]
    },
    {
     "name": "stderr",
     "output_type": "stream",
     "text": [
      "100%|███████████████████████████████████████████████████████████████████████████████████████████████████████| 574/574 [00:47<00:00, 12.11it/s]\n",
      "100%|█████████████████████████████████████████████████████████████████████████████████████████████████████████| 79/79 [00:02<00:00, 33.03it/s]\n"
     ]
    },
    {
     "name": "stdout",
     "output_type": "stream",
     "text": [
      "Epoch 55/100, Loss: 0.0011494521060891217, Val_Recall: 98.74864404429648%\n"
     ]
    },
    {
     "name": "stderr",
     "output_type": "stream",
     "text": [
      "100%|███████████████████████████████████████████████████████████████████████████████████████████████████████| 574/574 [00:47<00:00, 12.14it/s]\n",
      "100%|█████████████████████████████████████████████████████████████████████████████████████████████████████████| 79/79 [00:02<00:00, 34.12it/s]\n"
     ]
    },
    {
     "name": "stdout",
     "output_type": "stream",
     "text": [
      "Epoch 56/100, Loss: 0.002355665689487347, Val_Recall: 96.96978879688027%\n"
     ]
    },
    {
     "name": "stderr",
     "output_type": "stream",
     "text": [
      "100%|███████████████████████████████████████████████████████████████████████████████████████████████████████| 574/574 [00:47<00:00, 12.09it/s]\n",
      "100%|█████████████████████████████████████████████████████████████████████████████████████████████████████████| 79/79 [00:02<00:00, 33.35it/s]\n"
     ]
    },
    {
     "name": "stdout",
     "output_type": "stream",
     "text": [
      "Epoch 57/100, Loss: 0.0006087754950796115, Val_Recall: 98.40223821090322%\n",
      "Model saved based on lowest validation loss.\n"
     ]
    },
    {
     "name": "stderr",
     "output_type": "stream",
     "text": [
      "100%|███████████████████████████████████████████████████████████████████████████████████████████████████████| 574/574 [00:47<00:00, 12.10it/s]\n",
      "100%|█████████████████████████████████████████████████████████████████████████████████████████████████████████| 79/79 [00:02<00:00, 33.98it/s]\n"
     ]
    },
    {
     "name": "stdout",
     "output_type": "stream",
     "text": [
      "Epoch 58/100, Loss: 0.003758756865184336, Val_Recall: 94.9686799820551%\n"
     ]
    },
    {
     "name": "stderr",
     "output_type": "stream",
     "text": [
      "100%|███████████████████████████████████████████████████████████████████████████████████████████████████████| 574/574 [00:47<00:00, 12.08it/s]\n",
      "100%|█████████████████████████████████████████████████████████████████████████████████████████████████████████| 79/79 [00:02<00:00, 33.78it/s]\n"
     ]
    },
    {
     "name": "stdout",
     "output_type": "stream",
     "text": [
      "Epoch 59/100, Loss: 0.003019808210828358, Val_Recall: 95.8556397997256%\n"
     ]
    },
    {
     "name": "stderr",
     "output_type": "stream",
     "text": [
      "100%|███████████████████████████████████████████████████████████████████████████████████████████████████████| 574/574 [00:47<00:00, 12.10it/s]\n",
      "100%|█████████████████████████████████████████████████████████████████████████████████████████████████████████| 79/79 [00:02<00:00, 33.72it/s]\n"
     ]
    },
    {
     "name": "stdout",
     "output_type": "stream",
     "text": [
      "Epoch 60/100, Loss: 0.0014206947540767998, Val_Recall: 98.15816692170074%\n"
     ]
    },
    {
     "name": "stderr",
     "output_type": "stream",
     "text": [
      "100%|███████████████████████████████████████████████████████████████████████████████████████████████████████| 574/574 [00:47<00:00, 12.09it/s]\n",
      "100%|█████████████████████████████████████████████████████████████████████████████████████████████████████████| 79/79 [00:02<00:00, 33.74it/s]\n"
     ]
    },
    {
     "name": "stdout",
     "output_type": "stream",
     "text": [
      "Epoch 61/100, Loss: 0.0031337098194072757, Val_Recall: 99.59616638355439%\n"
     ]
    },
    {
     "name": "stderr",
     "output_type": "stream",
     "text": [
      "100%|███████████████████████████████████████████████████████████████████████████████████████████████████████| 574/574 [00:47<00:00, 12.09it/s]\n",
      "100%|█████████████████████████████████████████████████████████████████████████████████████████████████████████| 79/79 [00:02<00:00, 33.50it/s]\n"
     ]
    },
    {
     "name": "stdout",
     "output_type": "stream",
     "text": [
      "Epoch 62/100, Loss: 0.0023790610305125656, Val_Recall: 95.47907699049904%\n"
     ]
    },
    {
     "name": "stderr",
     "output_type": "stream",
     "text": [
      "100%|███████████████████████████████████████████████████████████████████████████████████████████████████████| 574/574 [00:47<00:00, 12.09it/s]\n",
      "100%|█████████████████████████████████████████████████████████████████████████████████████████████████████████| 79/79 [00:02<00:00, 34.07it/s]\n"
     ]
    },
    {
     "name": "stdout",
     "output_type": "stream",
     "text": [
      "Epoch 63/100, Loss: 0.004770636829038158, Val_Recall: 95.43990062973738%\n"
     ]
    },
    {
     "name": "stderr",
     "output_type": "stream",
     "text": [
      "100%|███████████████████████████████████████████████████████████████████████████████████████████████████████| 574/574 [00:47<00:00, 12.10it/s]\n",
      "100%|█████████████████████████████████████████████████████████████████████████████████████████████████████████| 79/79 [00:02<00:00, 33.95it/s]\n"
     ]
    },
    {
     "name": "stdout",
     "output_type": "stream",
     "text": [
      "Epoch 64/100, Loss: 0.006687583824527277, Val_Recall: 92.0491870382202%\n"
     ]
    },
    {
     "name": "stderr",
     "output_type": "stream",
     "text": [
      "100%|███████████████████████████████████████████████████████████████████████████████████████████████████████| 574/574 [00:47<00:00, 12.10it/s]\n",
      "100%|█████████████████████████████████████████████████████████████████████████████████████████████████████████| 79/79 [00:02<00:00, 33.89it/s]\n"
     ]
    },
    {
     "name": "stdout",
     "output_type": "stream",
     "text": [
      "Epoch 65/100, Loss: 0.0038599012019443005, Val_Recall: 93.16720793547587%\n"
     ]
    },
    {
     "name": "stderr",
     "output_type": "stream",
     "text": [
      "100%|███████████████████████████████████████████████████████████████████████████████████████████████████████| 574/574 [00:47<00:00, 12.09it/s]\n",
      "100%|█████████████████████████████████████████████████████████████████████████████████████████████████████████| 79/79 [00:02<00:00, 33.70it/s]\n"
     ]
    },
    {
     "name": "stdout",
     "output_type": "stream",
     "text": [
      "Epoch 66/100, Loss: 0.007009181823134389, Val_Recall: 92.06901302862492%\n"
     ]
    },
    {
     "name": "stderr",
     "output_type": "stream",
     "text": [
      "100%|███████████████████████████████████████████████████████████████████████████████████████████████████████| 574/574 [00:47<00:00, 12.11it/s]\n",
      "100%|█████████████████████████████████████████████████████████████████████████████████████████████████████████| 79/79 [00:02<00:00, 33.36it/s]\n"
     ]
    },
    {
     "name": "stdout",
     "output_type": "stream",
     "text": [
      "Epoch 67/100, Loss: 0.006677299326055125, Val_Recall: 91.94076704958506%\n"
     ]
    },
    {
     "name": "stderr",
     "output_type": "stream",
     "text": [
      "100%|███████████████████████████████████████████████████████████████████████████████████████████████████████| 574/574 [00:47<00:00, 12.09it/s]\n",
      "100%|█████████████████████████████████████████████████████████████████████████████████████████████████████████| 79/79 [00:02<00:00, 33.59it/s]\n"
     ]
    },
    {
     "name": "stdout",
     "output_type": "stream",
     "text": [
      "Epoch 68/100, Loss: 0.0029189992219393235, Val_Recall: 95.40591800667286%\n"
     ]
    },
    {
     "name": "stderr",
     "output_type": "stream",
     "text": [
      "100%|███████████████████████████████████████████████████████████████████████████████████████████████████████| 574/574 [00:47<00:00, 12.06it/s]\n",
      "100%|█████████████████████████████████████████████████████████████████████████████████████████████████████████| 79/79 [00:02<00:00, 33.99it/s]\n"
     ]
    },
    {
     "name": "stdout",
     "output_type": "stream",
     "text": [
      "Epoch 69/100, Loss: 0.0021609319483432226, Val_Recall: 96.54341546542082%\n"
     ]
    },
    {
     "name": "stderr",
     "output_type": "stream",
     "text": [
      "100%|███████████████████████████████████████████████████████████████████████████████████████████████████████| 574/574 [00:47<00:00, 12.11it/s]\n",
      "100%|█████████████████████████████████████████████████████████████████████████████████████████████████████████| 79/79 [00:02<00:00, 34.05it/s]\n"
     ]
    },
    {
     "name": "stdout",
     "output_type": "stream",
     "text": [
      "Epoch 70/100, Loss: 0.0032321457551509987, Val_Recall: 94.09930167623499%\n"
     ]
    },
    {
     "name": "stderr",
     "output_type": "stream",
     "text": [
      "100%|███████████████████████████████████████████████████████████████████████████████████████████████████████| 574/574 [00:47<00:00, 12.10it/s]\n",
      "100%|█████████████████████████████████████████████████████████████████████████████████████████████████████████| 79/79 [00:02<00:00, 33.54it/s]\n"
     ]
    },
    {
     "name": "stdout",
     "output_type": "stream",
     "text": [
      "Epoch 71/100, Loss: 0.0020308152883189517, Val_Recall: 96.68656439600879%\n"
     ]
    },
    {
     "name": "stderr",
     "output_type": "stream",
     "text": [
      "100%|███████████████████████████████████████████████████████████████████████████████████████████████████████| 574/574 [00:47<00:00, 12.09it/s]\n",
      "100%|█████████████████████████████████████████████████████████████████████████████████████████████████████████| 79/79 [00:02<00:00, 32.59it/s]\n"
     ]
    },
    {
     "name": "stdout",
     "output_type": "stream",
     "text": [
      "Epoch 72/100, Loss: 0.0016205992945355816, Val_Recall: 97.98553127501603%\n"
     ]
    },
    {
     "name": "stderr",
     "output_type": "stream",
     "text": [
      "100%|███████████████████████████████████████████████████████████████████████████████████████████████████████| 574/574 [00:47<00:00, 12.10it/s]\n",
      "100%|█████████████████████████████████████████████████████████████████████████████████████████████████████████| 79/79 [00:02<00:00, 33.72it/s]\n"
     ]
    },
    {
     "name": "stdout",
     "output_type": "stream",
     "text": [
      "Epoch 73/100, Loss: 0.0018976125581165622, Val_Recall: 96.58527105037119%\n"
     ]
    },
    {
     "name": "stderr",
     "output_type": "stream",
     "text": [
      "100%|███████████████████████████████████████████████████████████████████████████████████████████████████████| 574/574 [00:47<00:00, 12.10it/s]\n",
      "100%|█████████████████████████████████████████████████████████████████████████████████████████████████████████| 79/79 [00:02<00:00, 33.74it/s]\n"
     ]
    },
    {
     "name": "stdout",
     "output_type": "stream",
     "text": [
      "Epoch 74/100, Loss: 0.0016271666685008575, Val_Recall: 97.20392532674359%\n"
     ]
    },
    {
     "name": "stderr",
     "output_type": "stream",
     "text": [
      "100%|███████████████████████████████████████████████████████████████████████████████████████████████████████| 574/574 [00:47<00:00, 12.11it/s]\n",
      "100%|█████████████████████████████████████████████████████████████████████████████████████████████████████████| 79/79 [00:02<00:00, 33.65it/s]\n"
     ]
    },
    {
     "name": "stdout",
     "output_type": "stream",
     "text": [
      "Epoch 75/100, Loss: 0.002920880695233366, Val_Recall: 96.30616828074618%\n"
     ]
    },
    {
     "name": "stderr",
     "output_type": "stream",
     "text": [
      "100%|███████████████████████████████████████████████████████████████████████████████████████████████████████| 574/574 [00:47<00:00, 12.08it/s]\n",
      "100%|█████████████████████████████████████████████████████████████████████████████████████████████████████████| 79/79 [00:02<00:00, 33.43it/s]\n"
     ]
    },
    {
     "name": "stdout",
     "output_type": "stream",
     "text": [
      "Epoch 76/100, Loss: 0.0021156383471712696, Val_Recall: 97.6715109397787%\n"
     ]
    },
    {
     "name": "stderr",
     "output_type": "stream",
     "text": [
      "100%|███████████████████████████████████████████████████████████████████████████████████████████████████████| 574/574 [00:47<00:00, 12.09it/s]\n",
      "100%|█████████████████████████████████████████████████████████████████████████████████████████████████████████| 79/79 [00:02<00:00, 33.61it/s]\n"
     ]
    },
    {
     "name": "stdout",
     "output_type": "stream",
     "text": [
      "Epoch 77/100, Loss: 0.001490864748555604, Val_Recall: 98.87528784295412%\n"
     ]
    },
    {
     "name": "stderr",
     "output_type": "stream",
     "text": [
      "100%|███████████████████████████████████████████████████████████████████████████████████████████████████████| 574/574 [00:47<00:00, 12.04it/s]\n",
      "100%|█████████████████████████████████████████████████████████████████████████████████████████████████████████| 79/79 [00:02<00:00, 34.09it/s]\n"
     ]
    },
    {
     "name": "stdout",
     "output_type": "stream",
     "text": [
      "Epoch 78/100, Loss: 0.0014598619861891221, Val_Recall: 98.08491093839025%\n"
     ]
    },
    {
     "name": "stderr",
     "output_type": "stream",
     "text": [
      "100%|███████████████████████████████████████████████████████████████████████████████████████████████████████| 574/574 [00:47<00:00, 12.10it/s]\n",
      "100%|█████████████████████████████████████████████████████████████████████████████████████████████████████████| 79/79 [00:02<00:00, 34.23it/s]\n"
     ]
    },
    {
     "name": "stdout",
     "output_type": "stream",
     "text": [
      "Epoch 79/100, Loss: 0.0016535430297366098, Val_Recall: 98.9589093786534%\n"
     ]
    },
    {
     "name": "stderr",
     "output_type": "stream",
     "text": [
      "100%|███████████████████████████████████████████████████████████████████████████████████████████████████████| 574/574 [00:47<00:00, 12.10it/s]\n",
      "100%|█████████████████████████████████████████████████████████████████████████████████████████████████████████| 79/79 [00:02<00:00, 34.02it/s]\n"
     ]
    },
    {
     "name": "stdout",
     "output_type": "stream",
     "text": [
      "Epoch 80/100, Loss: 0.0025755051933847523, Val_Recall: 97.29319157363517%\n"
     ]
    },
    {
     "name": "stderr",
     "output_type": "stream",
     "text": [
      "100%|███████████████████████████████████████████████████████████████████████████████████████████████████████| 574/574 [00:47<00:00, 12.11it/s]\n",
      "100%|█████████████████████████████████████████████████████████████████████████████████████████████████████████| 79/79 [00:02<00:00, 33.51it/s]\n"
     ]
    },
    {
     "name": "stdout",
     "output_type": "stream",
     "text": [
      "Epoch 81/100, Loss: 0.002154596570290129, Val_Recall: 96.37589381632581%\n"
     ]
    },
    {
     "name": "stderr",
     "output_type": "stream",
     "text": [
      "100%|███████████████████████████████████████████████████████████████████████████████████████████████████████| 574/574 [00:47<00:00, 12.09it/s]\n",
      "100%|█████████████████████████████████████████████████████████████████████████████████████████████████████████| 79/79 [00:02<00:00, 33.55it/s]\n"
     ]
    },
    {
     "name": "stdout",
     "output_type": "stream",
     "text": [
      "Epoch 82/100, Loss: 0.004434123084750787, Val_Recall: 94.60441199776852%\n"
     ]
    },
    {
     "name": "stderr",
     "output_type": "stream",
     "text": [
      "100%|███████████████████████████████████████████████████████████████████████████████████████████████████████| 574/574 [00:47<00:00, 12.09it/s]\n",
      "100%|█████████████████████████████████████████████████████████████████████████████████████████████████████████| 79/79 [00:02<00:00, 33.74it/s]\n"
     ]
    },
    {
     "name": "stdout",
     "output_type": "stream",
     "text": [
      "Epoch 83/100, Loss: 0.0017067271425937297, Val_Recall: 97.1908859265243%\n"
     ]
    },
    {
     "name": "stderr",
     "output_type": "stream",
     "text": [
      "100%|███████████████████████████████████████████████████████████████████████████████████████████████████████| 574/574 [00:47<00:00, 12.09it/s]\n",
      "100%|█████████████████████████████████████████████████████████████████████████████████████████████████████████| 79/79 [00:02<00:00, 33.49it/s]\n"
     ]
    },
    {
     "name": "stdout",
     "output_type": "stream",
     "text": [
      "Epoch 84/100, Loss: 0.0020013816776242445, Val_Recall: 97.82094759141167%\n"
     ]
    },
    {
     "name": "stderr",
     "output_type": "stream",
     "text": [
      "100%|███████████████████████████████████████████████████████████████████████████████████████████████████████| 574/574 [00:47<00:00, 12.08it/s]\n",
      "100%|█████████████████████████████████████████████████████████████████████████████████████████████████████████| 79/79 [00:02<00:00, 33.47it/s]\n"
     ]
    },
    {
     "name": "stdout",
     "output_type": "stream",
     "text": [
      "Epoch 85/100, Loss: 0.001797996762705707, Val_Recall: 98.98719178323286%\n"
     ]
    },
    {
     "name": "stderr",
     "output_type": "stream",
     "text": [
      "100%|███████████████████████████████████████████████████████████████████████████████████████████████████████| 574/574 [00:47<00:00, 12.07it/s]\n",
      "100%|█████████████████████████████████████████████████████████████████████████████████████████████████████████| 79/79 [00:02<00:00, 33.79it/s]\n"
     ]
    },
    {
     "name": "stdout",
     "output_type": "stream",
     "text": [
      "Epoch 86/100, Loss: 0.001633432791270972, Val_Recall: 96.46758120999066%\n"
     ]
    },
    {
     "name": "stderr",
     "output_type": "stream",
     "text": [
      "100%|███████████████████████████████████████████████████████████████████████████████████████████████████████| 574/574 [00:47<00:00, 12.10it/s]\n",
      "100%|█████████████████████████████████████████████████████████████████████████████████████████████████████████| 79/79 [00:02<00:00, 33.96it/s]\n"
     ]
    },
    {
     "name": "stdout",
     "output_type": "stream",
     "text": [
      "Epoch 87/100, Loss: 0.0012445231549618112, Val_Recall: 98.23906302854797%\n",
      "Early stopping\n",
      "Loaded pretrained weights for efficientnet-b0\n"
     ]
    },
    {
     "name": "stderr",
     "output_type": "stream",
     "text": [
      "100%|███████████████████████████████████████████████████████████████████████████████████████████████████████| 574/574 [00:47<00:00, 12.10it/s]\n",
      "100%|█████████████████████████████████████████████████████████████████████████████████████████████████████████| 79/79 [00:02<00:00, 33.70it/s]\n"
     ]
    },
    {
     "name": "stdout",
     "output_type": "stream",
     "text": [
      "Epoch 1/100, Loss: 0.011373180945081305, Val_Recall: 89.36354954911171%\n",
      "Model saved based on lowest validation loss.\n"
     ]
    },
    {
     "name": "stderr",
     "output_type": "stream",
     "text": [
      "100%|███████████████████████████████████████████████████████████████████████████████████████████████████████| 574/574 [00:47<00:00, 12.10it/s]\n",
      "100%|█████████████████████████████████████████████████████████████████████████████████████████████████████████| 79/79 [00:02<00:00, 34.04it/s]\n"
     ]
    },
    {
     "name": "stdout",
     "output_type": "stream",
     "text": [
      "Epoch 2/100, Loss: 0.002616509777313807, Val_Recall: 95.89416019231388%\n",
      "Model saved based on lowest validation loss.\n"
     ]
    },
    {
     "name": "stderr",
     "output_type": "stream",
     "text": [
      "100%|███████████████████████████████████████████████████████████████████████████████████████████████████████| 574/574 [00:47<00:00, 12.12it/s]\n",
      "100%|█████████████████████████████████████████████████████████████████████████████████████████████████████████| 79/79 [00:02<00:00, 33.77it/s]\n"
     ]
    },
    {
     "name": "stdout",
     "output_type": "stream",
     "text": [
      "Epoch 3/100, Loss: 0.0014598431013977994, Val_Recall: 98.51704520566143%\n",
      "Model saved based on lowest validation loss.\n"
     ]
    },
    {
     "name": "stderr",
     "output_type": "stream",
     "text": [
      "100%|███████████████████████████████████████████████████████████████████████████████████████████████████████| 574/574 [00:47<00:00, 12.11it/s]\n",
      "100%|█████████████████████████████████████████████████████████████████████████████████████████████████████████| 79/79 [00:02<00:00, 33.66it/s]\n"
     ]
    },
    {
     "name": "stdout",
     "output_type": "stream",
     "text": [
      "Epoch 4/100, Loss: 0.011211575165304662, Val_Recall: 86.45932447054682%\n"
     ]
    },
    {
     "name": "stderr",
     "output_type": "stream",
     "text": [
      "100%|███████████████████████████████████████████████████████████████████████████████████████████████████████| 574/574 [00:47<00:00, 12.12it/s]\n",
      "100%|█████████████████████████████████████████████████████████████████████████████████████████████████████████| 79/79 [00:02<00:00, 33.74it/s]\n"
     ]
    },
    {
     "name": "stdout",
     "output_type": "stream",
     "text": [
      "Epoch 5/100, Loss: 0.001605510331907473, Val_Recall: 99.23203794225458%\n"
     ]
    },
    {
     "name": "stderr",
     "output_type": "stream",
     "text": [
      "100%|███████████████████████████████████████████████████████████████████████████████████████████████████████| 574/574 [00:47<00:00, 12.08it/s]\n",
      "100%|█████████████████████████████████████████████████████████████████████████████████████████████████████████| 79/79 [00:02<00:00, 34.19it/s]\n"
     ]
    },
    {
     "name": "stdout",
     "output_type": "stream",
     "text": [
      "Epoch 6/100, Loss: 0.007588377148698479, Val_Recall: 92.05030920906557%\n"
     ]
    },
    {
     "name": "stderr",
     "output_type": "stream",
     "text": [
      "100%|███████████████████████████████████████████████████████████████████████████████████████████████████████| 574/574 [00:47<00:00, 12.12it/s]\n",
      "100%|█████████████████████████████████████████████████████████████████████████████████████████████████████████| 79/79 [00:02<00:00, 33.53it/s]\n"
     ]
    },
    {
     "name": "stdout",
     "output_type": "stream",
     "text": [
      "Epoch 7/100, Loss: 0.0034901987401987256, Val_Recall: 94.99080854079426%\n"
     ]
    },
    {
     "name": "stderr",
     "output_type": "stream",
     "text": [
      "100%|███████████████████████████████████████████████████████████████████████████████████████████████████████| 574/574 [00:47<00:00, 12.10it/s]\n",
      "100%|█████████████████████████████████████████████████████████████████████████████████████████████████████████| 79/79 [00:02<00:00, 33.04it/s]\n"
     ]
    },
    {
     "name": "stdout",
     "output_type": "stream",
     "text": [
      "Epoch 8/100, Loss: 0.0053595555935052434, Val_Recall: 92.69354463553668%\n"
     ]
    },
    {
     "name": "stderr",
     "output_type": "stream",
     "text": [
      "100%|███████████████████████████████████████████████████████████████████████████████████████████████████████| 574/574 [00:47<00:00, 12.10it/s]\n",
      "100%|█████████████████████████████████████████████████████████████████████████████████████████████████████████| 79/79 [00:02<00:00, 33.53it/s]\n"
     ]
    },
    {
     "name": "stdout",
     "output_type": "stream",
     "text": [
      "Epoch 9/100, Loss: 0.002524195847054598, Val_Recall: 96.25377948639361%\n"
     ]
    },
    {
     "name": "stderr",
     "output_type": "stream",
     "text": [
      "100%|███████████████████████████████████████████████████████████████████████████████████████████████████████| 574/574 [00:47<00:00, 12.09it/s]\n",
      "100%|█████████████████████████████████████████████████████████████████████████████████████████████████████████| 79/79 [00:02<00:00, 33.97it/s]\n"
     ]
    },
    {
     "name": "stdout",
     "output_type": "stream",
     "text": [
      "Epoch 10/100, Loss: 0.04128805334386961, Val_Recall: 79.99186256029081%\n"
     ]
    },
    {
     "name": "stderr",
     "output_type": "stream",
     "text": [
      "100%|███████████████████████████████████████████████████████████████████████████████████████████████████████| 574/574 [00:47<00:00, 12.11it/s]\n",
      "100%|█████████████████████████████████████████████████████████████████████████████████████████████████████████| 79/79 [00:02<00:00, 32.98it/s]\n"
     ]
    },
    {
     "name": "stdout",
     "output_type": "stream",
     "text": [
      "Epoch 11/100, Loss: 0.003644503015771638, Val_Recall: 94.44270384713067%\n"
     ]
    },
    {
     "name": "stderr",
     "output_type": "stream",
     "text": [
      "100%|███████████████████████████████████████████████████████████████████████████████████████████████████████| 574/574 [00:47<00:00, 12.09it/s]\n",
      "100%|█████████████████████████████████████████████████████████████████████████████████████████████████████████| 79/79 [00:02<00:00, 33.94it/s]\n"
     ]
    },
    {
     "name": "stdout",
     "output_type": "stream",
     "text": [
      "Epoch 12/100, Loss: 0.0012507258705913857, Val_Recall: 99.53894292604843%\n",
      "Model saved based on lowest validation loss.\n"
     ]
    },
    {
     "name": "stderr",
     "output_type": "stream",
     "text": [
      "100%|███████████████████████████████████████████████████████████████████████████████████████████████████████| 574/574 [00:47<00:00, 12.10it/s]\n",
      "100%|█████████████████████████████████████████████████████████████████████████████████████████████████████████| 79/79 [00:02<00:00, 33.53it/s]\n"
     ]
    },
    {
     "name": "stdout",
     "output_type": "stream",
     "text": [
      "Epoch 13/100, Loss: 0.0031739635153587497, Val_Recall: 97.14821862129881%\n"
     ]
    },
    {
     "name": "stderr",
     "output_type": "stream",
     "text": [
      "100%|███████████████████████████████████████████████████████████████████████████████████████████████████████| 574/574 [00:47<00:00, 12.09it/s]\n",
      "100%|█████████████████████████████████████████████████████████████████████████████████████████████████████████| 79/79 [00:02<00:00, 33.28it/s]\n"
     ]
    },
    {
     "name": "stdout",
     "output_type": "stream",
     "text": [
      "Epoch 14/100, Loss: 0.0021155988986467423, Val_Recall: 96.66973647064326%\n"
     ]
    },
    {
     "name": "stderr",
     "output_type": "stream",
     "text": [
      "100%|███████████████████████████████████████████████████████████████████████████████████████████████████████| 574/574 [00:47<00:00, 12.11it/s]\n",
      "100%|█████████████████████████████████████████████████████████████████████████████████████████████████████████| 79/79 [00:02<00:00, 33.29it/s]\n"
     ]
    },
    {
     "name": "stdout",
     "output_type": "stream",
     "text": [
      "Epoch 15/100, Loss: 0.0032291123573595752, Val_Recall: 96.75609799396629%\n"
     ]
    },
    {
     "name": "stderr",
     "output_type": "stream",
     "text": [
      "100%|███████████████████████████████████████████████████████████████████████████████████████████████████████| 574/574 [00:47<00:00, 12.13it/s]\n",
      "100%|█████████████████████████████████████████████████████████████████████████████████████████████████████████| 79/79 [00:02<00:00, 33.28it/s]\n"
     ]
    },
    {
     "name": "stdout",
     "output_type": "stream",
     "text": [
      "Epoch 16/100, Loss: 0.019089795779690704, Val_Recall: 89.12531103206976%\n"
     ]
    },
    {
     "name": "stderr",
     "output_type": "stream",
     "text": [
      "100%|███████████████████████████████████████████████████████████████████████████████████████████████████████| 574/574 [00:47<00:00, 12.09it/s]\n",
      "100%|█████████████████████████████████████████████████████████████████████████████████████████████████████████| 79/79 [00:02<00:00, 33.64it/s]\n"
     ]
    },
    {
     "name": "stdout",
     "output_type": "stream",
     "text": [
      "Epoch 17/100, Loss: 0.0021989500235077347, Val_Recall: 97.69142659069844%\n"
     ]
    },
    {
     "name": "stderr",
     "output_type": "stream",
     "text": [
      "100%|███████████████████████████████████████████████████████████████████████████████████████████████████████| 574/574 [00:47<00:00, 12.10it/s]\n",
      "100%|█████████████████████████████████████████████████████████████████████████████████████████████████████████| 79/79 [00:02<00:00, 33.20it/s]\n"
     ]
    },
    {
     "name": "stdout",
     "output_type": "stream",
     "text": [
      "Epoch 18/100, Loss: 0.002664490287876247, Val_Recall: 96.27096543604102%\n"
     ]
    },
    {
     "name": "stderr",
     "output_type": "stream",
     "text": [
      "100%|███████████████████████████████████████████████████████████████████████████████████████████████████████| 574/574 [00:47<00:00, 12.09it/s]\n",
      "100%|█████████████████████████████████████████████████████████████████████████████████████████████████████████| 79/79 [00:02<00:00, 33.23it/s]\n"
     ]
    },
    {
     "name": "stdout",
     "output_type": "stream",
     "text": [
      "Epoch 19/100, Loss: 0.0015127486513799354, Val_Recall: 97.7061329136332%\n"
     ]
    },
    {
     "name": "stderr",
     "output_type": "stream",
     "text": [
      "100%|███████████████████████████████████████████████████████████████████████████████████████████████████████| 574/574 [00:47<00:00, 12.09it/s]\n",
      "100%|█████████████████████████████████████████████████████████████████████████████████████████████████████████| 79/79 [00:02<00:00, 33.25it/s]\n"
     ]
    },
    {
     "name": "stdout",
     "output_type": "stream",
     "text": [
      "Epoch 20/100, Loss: 0.0022827053921542673, Val_Recall: 96.91013182447162%\n"
     ]
    },
    {
     "name": "stderr",
     "output_type": "stream",
     "text": [
      "100%|███████████████████████████████████████████████████████████████████████████████████████████████████████| 574/574 [00:47<00:00, 12.10it/s]\n",
      "100%|█████████████████████████████████████████████████████████████████████████████████████████████████████████| 79/79 [00:02<00:00, 33.90it/s]\n"
     ]
    },
    {
     "name": "stdout",
     "output_type": "stream",
     "text": [
      "Epoch 21/100, Loss: 0.0021154628061814517, Val_Recall: 93.67486395109347%\n"
     ]
    },
    {
     "name": "stderr",
     "output_type": "stream",
     "text": [
      "100%|███████████████████████████████████████████████████████████████████████████████████████████████████████| 574/574 [00:47<00:00, 12.12it/s]\n",
      "100%|█████████████████████████████████████████████████████████████████████████████████████████████████████████| 79/79 [00:02<00:00, 33.50it/s]\n"
     ]
    },
    {
     "name": "stdout",
     "output_type": "stream",
     "text": [
      "Epoch 22/100, Loss: 0.006253673332417788, Val_Recall: 95.03613431284789%\n"
     ]
    },
    {
     "name": "stderr",
     "output_type": "stream",
     "text": [
      "100%|███████████████████████████████████████████████████████████████████████████████████████████████████████| 574/574 [00:47<00:00, 12.11it/s]\n",
      "100%|█████████████████████████████████████████████████████████████████████████████████████████████████████████| 79/79 [00:02<00:00, 33.14it/s]\n"
     ]
    },
    {
     "name": "stdout",
     "output_type": "stream",
     "text": [
      "Epoch 23/100, Loss: 0.0020366447866600073, Val_Recall: 98.80360516925943%\n"
     ]
    },
    {
     "name": "stderr",
     "output_type": "stream",
     "text": [
      "100%|███████████████████████████████████████████████████████████████████████████████████████████████████████| 574/574 [00:47<00:00, 12.09it/s]\n",
      "100%|█████████████████████████████████████████████████████████████████████████████████████████████████████████| 79/79 [00:02<00:00, 33.67it/s]\n"
     ]
    },
    {
     "name": "stdout",
     "output_type": "stream",
     "text": [
      "Epoch 24/100, Loss: 0.0023814450238440177, Val_Recall: 97.68403588056968%\n"
     ]
    },
    {
     "name": "stderr",
     "output_type": "stream",
     "text": [
      "100%|███████████████████████████████████████████████████████████████████████████████████████████████████████| 574/574 [00:47<00:00, 12.11it/s]\n",
      "100%|█████████████████████████████████████████████████████████████████████████████████████████████████████████| 79/79 [00:02<00:00, 34.24it/s]\n"
     ]
    },
    {
     "name": "stdout",
     "output_type": "stream",
     "text": [
      "Epoch 25/100, Loss: 0.007264220455665089, Val_Recall: 97.49320017471355%\n"
     ]
    },
    {
     "name": "stderr",
     "output_type": "stream",
     "text": [
      "100%|███████████████████████████████████████████████████████████████████████████████████████████████████████| 574/574 [00:47<00:00, 12.13it/s]\n",
      "100%|█████████████████████████████████████████████████████████████████████████████████████████████████████████| 79/79 [00:02<00:00, 34.17it/s]\n"
     ]
    },
    {
     "name": "stdout",
     "output_type": "stream",
     "text": [
      "Epoch 26/100, Loss: 0.001286630698604703, Val_Recall: 97.82644020956485%\n"
     ]
    },
    {
     "name": "stderr",
     "output_type": "stream",
     "text": [
      "100%|███████████████████████████████████████████████████████████████████████████████████████████████████████| 574/574 [00:47<00:00, 12.10it/s]\n",
      "100%|█████████████████████████████████████████████████████████████████████████████████████████████████████████| 79/79 [00:02<00:00, 33.98it/s]\n"
     ]
    },
    {
     "name": "stdout",
     "output_type": "stream",
     "text": [
      "Epoch 27/100, Loss: 0.00821244230376284, Val_Recall: 91.12728616052918%\n"
     ]
    },
    {
     "name": "stderr",
     "output_type": "stream",
     "text": [
      "100%|███████████████████████████████████████████████████████████████████████████████████████████████████████| 574/574 [00:47<00:00, 12.11it/s]\n",
      "100%|█████████████████████████████████████████████████████████████████████████████████████████████████████████| 79/79 [00:02<00:00, 33.79it/s]\n"
     ]
    },
    {
     "name": "stdout",
     "output_type": "stream",
     "text": [
      "Epoch 28/100, Loss: 0.001489206252325272, Val_Recall: 95.7435611087797%\n"
     ]
    },
    {
     "name": "stderr",
     "output_type": "stream",
     "text": [
      "100%|███████████████████████████████████████████████████████████████████████████████████████████████████████| 574/574 [00:47<00:00, 12.09it/s]\n",
      "100%|█████████████████████████████████████████████████████████████████████████████████████████████████████████| 79/79 [00:02<00:00, 33.63it/s]\n"
     ]
    },
    {
     "name": "stdout",
     "output_type": "stream",
     "text": [
      "Epoch 29/100, Loss: 0.00257837420282374, Val_Recall: 96.30565347726693%\n"
     ]
    },
    {
     "name": "stderr",
     "output_type": "stream",
     "text": [
      "100%|███████████████████████████████████████████████████████████████████████████████████████████████████████| 574/574 [00:47<00:00, 12.11it/s]\n",
      "100%|█████████████████████████████████████████████████████████████████████████████████████████████████████████| 79/79 [00:02<00:00, 34.09it/s]\n"
     ]
    },
    {
     "name": "stdout",
     "output_type": "stream",
     "text": [
      "Epoch 30/100, Loss: 0.0032911130068433996, Val_Recall: 95.35140594080049%\n"
     ]
    },
    {
     "name": "stderr",
     "output_type": "stream",
     "text": [
      "100%|███████████████████████████████████████████████████████████████████████████████████████████████████████| 574/574 [00:47<00:00, 12.10it/s]\n",
      "100%|█████████████████████████████████████████████████████████████████████████████████████████████████████████| 79/79 [00:02<00:00, 33.38it/s]\n"
     ]
    },
    {
     "name": "stdout",
     "output_type": "stream",
     "text": [
      "Epoch 31/100, Loss: 0.002716142945425097, Val_Recall: 95.1835382228641%\n"
     ]
    },
    {
     "name": "stderr",
     "output_type": "stream",
     "text": [
      "100%|███████████████████████████████████████████████████████████████████████████████████████████████████████| 574/574 [00:47<00:00, 12.09it/s]\n",
      "100%|█████████████████████████████████████████████████████████████████████████████████████████████████████████| 79/79 [00:02<00:00, 33.39it/s]\n"
     ]
    },
    {
     "name": "stdout",
     "output_type": "stream",
     "text": [
      "Epoch 32/100, Loss: 0.0009130189981155448, Val_Recall: 98.3163177669813%\n",
      "Model saved based on lowest validation loss.\n"
     ]
    },
    {
     "name": "stderr",
     "output_type": "stream",
     "text": [
      "100%|███████████████████████████████████████████████████████████████████████████████████████████████████████| 574/574 [00:47<00:00, 12.09it/s]\n",
      "100%|█████████████████████████████████████████████████████████████████████████████████████████████████████████| 79/79 [00:02<00:00, 33.96it/s]\n"
     ]
    },
    {
     "name": "stdout",
     "output_type": "stream",
     "text": [
      "Epoch 33/100, Loss: 0.000655366496054004, Val_Recall: 99.78870908369123%\n",
      "Model saved based on lowest validation loss.\n"
     ]
    },
    {
     "name": "stderr",
     "output_type": "stream",
     "text": [
      "100%|███████████████████████████████████████████████████████████████████████████████████████████████████████| 574/574 [00:47<00:00, 12.12it/s]\n",
      "100%|█████████████████████████████████████████████████████████████████████████████████████████████████████████| 79/79 [00:02<00:00, 33.56it/s]\n"
     ]
    },
    {
     "name": "stdout",
     "output_type": "stream",
     "text": [
      "Epoch 34/100, Loss: 0.0023890622379906233, Val_Recall: 95.8476077488332%\n"
     ]
    },
    {
     "name": "stderr",
     "output_type": "stream",
     "text": [
      "100%|███████████████████████████████████████████████████████████████████████████████████████████████████████| 574/574 [00:47<00:00, 12.12it/s]\n",
      "100%|█████████████████████████████████████████████████████████████████████████████████████████████████████████| 79/79 [00:02<00:00, 33.61it/s]\n"
     ]
    },
    {
     "name": "stdout",
     "output_type": "stream",
     "text": [
      "Epoch 35/100, Loss: 0.0012531741363152047, Val_Recall: 98.60342000946308%\n"
     ]
    },
    {
     "name": "stderr",
     "output_type": "stream",
     "text": [
      "100%|███████████████████████████████████████████████████████████████████████████████████████████████████████| 574/574 [00:47<00:00, 12.13it/s]\n",
      "100%|█████████████████████████████████████████████████████████████████████████████████████████████████████████| 79/79 [00:02<00:00, 34.10it/s]\n"
     ]
    },
    {
     "name": "stdout",
     "output_type": "stream",
     "text": [
      "Epoch 36/100, Loss: 0.0010870675635482304, Val_Recall: 99.27412270754044%\n"
     ]
    },
    {
     "name": "stderr",
     "output_type": "stream",
     "text": [
      "100%|███████████████████████████████████████████████████████████████████████████████████████████████████████| 574/574 [00:47<00:00, 12.12it/s]\n",
      "100%|█████████████████████████████████████████████████████████████████████████████████████████████████████████| 79/79 [00:02<00:00, 33.44it/s]\n"
     ]
    },
    {
     "name": "stdout",
     "output_type": "stream",
     "text": [
      "Epoch 37/100, Loss: 0.005920268452218543, Val_Recall: 92.51246502389601%\n"
     ]
    },
    {
     "name": "stderr",
     "output_type": "stream",
     "text": [
      "100%|███████████████████████████████████████████████████████████████████████████████████████████████████████| 574/574 [00:47<00:00, 12.09it/s]\n",
      "100%|█████████████████████████████████████████████████████████████████████████████████████████████████████████| 79/79 [00:02<00:00, 33.36it/s]\n"
     ]
    },
    {
     "name": "stdout",
     "output_type": "stream",
     "text": [
      "Epoch 38/100, Loss: 0.012079996952725935, Val_Recall: 84.45495177825642%\n"
     ]
    },
    {
     "name": "stderr",
     "output_type": "stream",
     "text": [
      "100%|███████████████████████████████████████████████████████████████████████████████████████████████████████| 574/574 [00:47<00:00, 12.09it/s]\n",
      "100%|█████████████████████████████████████████████████████████████████████████████████████████████████████████| 79/79 [00:02<00:00, 33.70it/s]\n"
     ]
    },
    {
     "name": "stdout",
     "output_type": "stream",
     "text": [
      "Epoch 39/100, Loss: 0.0011637002953736903, Val_Recall: 98.47760251616583%\n"
     ]
    },
    {
     "name": "stderr",
     "output_type": "stream",
     "text": [
      "100%|███████████████████████████████████████████████████████████████████████████████████████████████████████| 574/574 [00:47<00:00, 12.08it/s]\n",
      "100%|█████████████████████████████████████████████████████████████████████████████████████████████████████████| 79/79 [00:02<00:00, 33.88it/s]\n"
     ]
    },
    {
     "name": "stdout",
     "output_type": "stream",
     "text": [
      "Epoch 40/100, Loss: 0.001262666713374105, Val_Recall: 98.29940217002535%\n"
     ]
    },
    {
     "name": "stderr",
     "output_type": "stream",
     "text": [
      "100%|███████████████████████████████████████████████████████████████████████████████████████████████████████| 574/574 [00:47<00:00, 12.11it/s]\n",
      "100%|█████████████████████████████████████████████████████████████████████████████████████████████████████████| 79/79 [00:02<00:00, 34.09it/s]\n"
     ]
    },
    {
     "name": "stdout",
     "output_type": "stream",
     "text": [
      "Epoch 41/100, Loss: 0.0010267699242372831, Val_Recall: 98.0249311462329%\n"
     ]
    },
    {
     "name": "stderr",
     "output_type": "stream",
     "text": [
      "100%|███████████████████████████████████████████████████████████████████████████████████████████████████████| 574/574 [00:47<00:00, 12.12it/s]\n",
      "100%|█████████████████████████████████████████████████████████████████████████████████████████████████████████| 79/79 [00:02<00:00, 33.42it/s]\n"
     ]
    },
    {
     "name": "stdout",
     "output_type": "stream",
     "text": [
      "Epoch 42/100, Loss: 0.0013605754949154788, Val_Recall: 99.19778923891886%\n"
     ]
    },
    {
     "name": "stderr",
     "output_type": "stream",
     "text": [
      "100%|███████████████████████████████████████████████████████████████████████████████████████████████████████| 574/574 [00:47<00:00, 12.11it/s]\n",
      "100%|█████████████████████████████████████████████████████████████████████████████████████████████████████████| 79/79 [00:02<00:00, 33.73it/s]\n"
     ]
    },
    {
     "name": "stdout",
     "output_type": "stream",
     "text": [
      "Epoch 43/100, Loss: 0.0023951756806303414, Val_Recall: 95.57776287341495%\n"
     ]
    },
    {
     "name": "stderr",
     "output_type": "stream",
     "text": [
      "100%|███████████████████████████████████████████████████████████████████████████████████████████████████████| 574/574 [00:47<00:00, 12.10it/s]\n",
      "100%|█████████████████████████████████████████████████████████████████████████████████████████████████████████| 79/79 [00:02<00:00, 34.02it/s]\n"
     ]
    },
    {
     "name": "stdout",
     "output_type": "stream",
     "text": [
      "Epoch 44/100, Loss: 0.016975924347131438, Val_Recall: 92.29162652290564%\n"
     ]
    },
    {
     "name": "stderr",
     "output_type": "stream",
     "text": [
      "100%|███████████████████████████████████████████████████████████████████████████████████████████████████████| 574/574 [00:47<00:00, 12.10it/s]\n",
      "100%|█████████████████████████████████████████████████████████████████████████████████████████████████████████| 79/79 [00:02<00:00, 33.41it/s]\n"
     ]
    },
    {
     "name": "stdout",
     "output_type": "stream",
     "text": [
      "Epoch 45/100, Loss: 0.002476522023685377, Val_Recall: 98.65893340613925%\n"
     ]
    },
    {
     "name": "stderr",
     "output_type": "stream",
     "text": [
      "100%|███████████████████████████████████████████████████████████████████████████████████████████████████████| 574/574 [00:47<00:00, 12.11it/s]\n",
      "100%|█████████████████████████████████████████████████████████████████████████████████████████████████████████| 79/79 [00:02<00:00, 33.62it/s]\n"
     ]
    },
    {
     "name": "stdout",
     "output_type": "stream",
     "text": [
      "Epoch 46/100, Loss: 0.0027651333830908905, Val_Recall: 98.08454623902554%\n"
     ]
    },
    {
     "name": "stderr",
     "output_type": "stream",
     "text": [
      "100%|███████████████████████████████████████████████████████████████████████████████████████████████████████| 574/574 [00:47<00:00, 12.09it/s]\n",
      "100%|█████████████████████████████████████████████████████████████████████████████████████████████████████████| 79/79 [00:02<00:00, 33.74it/s]\n"
     ]
    },
    {
     "name": "stdout",
     "output_type": "stream",
     "text": [
      "Epoch 47/100, Loss: 0.005376040521730489, Val_Recall: 97.25096080376142%\n"
     ]
    },
    {
     "name": "stderr",
     "output_type": "stream",
     "text": [
      "100%|███████████████████████████████████████████████████████████████████████████████████████████████████████| 574/574 [00:47<00:00, 12.12it/s]\n",
      "100%|█████████████████████████████████████████████████████████████████████████████████████████████████████████| 79/79 [00:02<00:00, 34.02it/s]\n"
     ]
    },
    {
     "name": "stdout",
     "output_type": "stream",
     "text": [
      "Epoch 48/100, Loss: 0.002050135952332585, Val_Recall: 97.98093242705463%\n"
     ]
    },
    {
     "name": "stderr",
     "output_type": "stream",
     "text": [
      "100%|███████████████████████████████████████████████████████████████████████████████████████████████████████| 574/574 [00:47<00:00, 12.10it/s]\n",
      "100%|█████████████████████████████████████████████████████████████████████████████████████████████████████████| 79/79 [00:02<00:00, 33.90it/s]\n"
     ]
    },
    {
     "name": "stdout",
     "output_type": "stream",
     "text": [
      "Epoch 49/100, Loss: 0.0013552924864825295, Val_Recall: 98.21500883105587%\n"
     ]
    },
    {
     "name": "stderr",
     "output_type": "stream",
     "text": [
      "100%|███████████████████████████████████████████████████████████████████████████████████████████████████████| 574/574 [00:47<00:00, 12.12it/s]\n",
      "100%|█████████████████████████████████████████████████████████████████████████████████████████████████████████| 79/79 [00:02<00:00, 33.42it/s]\n"
     ]
    },
    {
     "name": "stdout",
     "output_type": "stream",
     "text": [
      "Epoch 50/100, Loss: 0.0021861339860341686, Val_Recall: 98.15059919930212%\n"
     ]
    },
    {
     "name": "stderr",
     "output_type": "stream",
     "text": [
      "100%|███████████████████████████████████████████████████████████████████████████████████████████████████████| 574/574 [00:47<00:00, 12.07it/s]\n",
      "100%|█████████████████████████████████████████████████████████████████████████████████████████████████████████| 79/79 [00:02<00:00, 33.54it/s]\n"
     ]
    },
    {
     "name": "stdout",
     "output_type": "stream",
     "text": [
      "Epoch 51/100, Loss: 0.0028458272893045903, Val_Recall: 95.98642553134017%\n"
     ]
    },
    {
     "name": "stderr",
     "output_type": "stream",
     "text": [
      "100%|███████████████████████████████████████████████████████████████████████████████████████████████████████| 574/574 [00:47<00:00, 12.09it/s]\n",
      "100%|█████████████████████████████████████████████████████████████████████████████████████████████████████████| 79/79 [00:02<00:00, 33.59it/s]\n"
     ]
    },
    {
     "name": "stdout",
     "output_type": "stream",
     "text": [
      "Epoch 52/100, Loss: 0.0019241507072560759, Val_Recall: 97.94953963929288%\n"
     ]
    },
    {
     "name": "stderr",
     "output_type": "stream",
     "text": [
      "100%|███████████████████████████████████████████████████████████████████████████████████████████████████████| 574/574 [00:47<00:00, 12.09it/s]\n",
      "100%|█████████████████████████████████████████████████████████████████████████████████████████████████████████| 79/79 [00:02<00:00, 34.15it/s]\n"
     ]
    },
    {
     "name": "stdout",
     "output_type": "stream",
     "text": [
      "Epoch 53/100, Loss: 0.001951669625196462, Val_Recall: 97.7008967038064%\n"
     ]
    },
    {
     "name": "stderr",
     "output_type": "stream",
     "text": [
      "100%|███████████████████████████████████████████████████████████████████████████████████████████████████████| 574/574 [00:47<00:00, 12.05it/s]\n",
      "100%|█████████████████████████████████████████████████████████████████████████████████████████████████████████| 79/79 [00:02<00:00, 33.49it/s]\n"
     ]
    },
    {
     "name": "stdout",
     "output_type": "stream",
     "text": [
      "Epoch 54/100, Loss: 0.0023883801390260305, Val_Recall: 97.27646064775392%\n"
     ]
    },
    {
     "name": "stderr",
     "output_type": "stream",
     "text": [
      "100%|███████████████████████████████████████████████████████████████████████████████████████████████████████| 574/574 [00:47<00:00, 12.10it/s]\n",
      "100%|█████████████████████████████████████████████████████████████████████████████████████████████████████████| 79/79 [00:02<00:00, 33.96it/s]\n"
     ]
    },
    {
     "name": "stdout",
     "output_type": "stream",
     "text": [
      "Epoch 55/100, Loss: 0.003968551544615651, Val_Recall: 97.23049742517776%\n"
     ]
    },
    {
     "name": "stderr",
     "output_type": "stream",
     "text": [
      "100%|███████████████████████████████████████████████████████████████████████████████████████████████████████| 574/574 [00:47<00:00, 12.10it/s]\n",
      "100%|█████████████████████████████████████████████████████████████████████████████████████████████████████████| 79/79 [00:02<00:00, 33.67it/s]\n"
     ]
    },
    {
     "name": "stdout",
     "output_type": "stream",
     "text": [
      "Epoch 56/100, Loss: 0.0014438585308931694, Val_Recall: 98.425857025188%\n"
     ]
    },
    {
     "name": "stderr",
     "output_type": "stream",
     "text": [
      "100%|███████████████████████████████████████████████████████████████████████████████████████████████████████| 574/574 [00:47<00:00, 12.10it/s]\n",
      "100%|█████████████████████████████████████████████████████████████████████████████████████████████████████████| 79/79 [00:02<00:00, 33.92it/s]\n"
     ]
    },
    {
     "name": "stdout",
     "output_type": "stream",
     "text": [
      "Epoch 57/100, Loss: 0.003220862734519833, Val_Recall: 96.48974500062556%\n"
     ]
    },
    {
     "name": "stderr",
     "output_type": "stream",
     "text": [
      "100%|███████████████████████████████████████████████████████████████████████████████████████████████████████| 574/574 [00:47<00:00, 12.11it/s]\n",
      "100%|█████████████████████████████████████████████████████████████████████████████████████████████████████████| 79/79 [00:02<00:00, 33.10it/s]\n"
     ]
    },
    {
     "name": "stdout",
     "output_type": "stream",
     "text": [
      "Epoch 58/100, Loss: 0.0027472246451105123, Val_Recall: 96.99274871750251%\n"
     ]
    },
    {
     "name": "stderr",
     "output_type": "stream",
     "text": [
      "100%|███████████████████████████████████████████████████████████████████████████████████████████████████████| 574/574 [00:47<00:00, 12.10it/s]\n",
      "100%|█████████████████████████████████████████████████████████████████████████████████████████████████████████| 79/79 [00:02<00:00, 33.57it/s]\n"
     ]
    },
    {
     "name": "stdout",
     "output_type": "stream",
     "text": [
      "Epoch 59/100, Loss: 0.001712600454666554, Val_Recall: 98.6354189303081%\n"
     ]
    },
    {
     "name": "stderr",
     "output_type": "stream",
     "text": [
      "100%|███████████████████████████████████████████████████████████████████████████████████████████████████████| 574/574 [00:47<00:00, 12.13it/s]\n",
      "100%|█████████████████████████████████████████████████████████████████████████████████████████████████████████| 79/79 [00:02<00:00, 33.67it/s]\n"
     ]
    },
    {
     "name": "stdout",
     "output_type": "stream",
     "text": [
      "Epoch 60/100, Loss: 0.010838604306461587, Val_Recall: 87.80953723298492%\n"
     ]
    },
    {
     "name": "stderr",
     "output_type": "stream",
     "text": [
      "100%|███████████████████████████████████████████████████████████████████████████████████████████████████████| 574/574 [00:47<00:00, 12.09it/s]\n",
      "100%|█████████████████████████████████████████████████████████████████████████████████████████████████████████| 79/79 [00:02<00:00, 33.01it/s]\n"
     ]
    },
    {
     "name": "stdout",
     "output_type": "stream",
     "text": [
      "Epoch 61/100, Loss: 0.0007445925417170807, Val_Recall: 97.73329776593661%\n"
     ]
    },
    {
     "name": "stderr",
     "output_type": "stream",
     "text": [
      "100%|███████████████████████████████████████████████████████████████████████████████████████████████████████| 574/574 [00:47<00:00, 12.08it/s]\n",
      "100%|█████████████████████████████████████████████████████████████████████████████████████████████████████████| 79/79 [00:02<00:00, 33.70it/s]\n"
     ]
    },
    {
     "name": "stdout",
     "output_type": "stream",
     "text": [
      "Epoch 62/100, Loss: 0.00829651295503308, Val_Recall: 96.69009666291778%\n"
     ]
    },
    {
     "name": "stderr",
     "output_type": "stream",
     "text": [
      "100%|███████████████████████████████████████████████████████████████████████████████████████████████████████| 574/574 [00:47<00:00, 12.11it/s]\n",
      "100%|█████████████████████████████████████████████████████████████████████████████████████████████████████████| 79/79 [00:02<00:00, 34.23it/s]\n"
     ]
    },
    {
     "name": "stdout",
     "output_type": "stream",
     "text": [
      "Epoch 63/100, Loss: 0.002015235382889116, Val_Recall: 98.09594304324644%\n",
      "Early stopping\n",
      "Loaded pretrained weights for efficientnet-b0\n"
     ]
    },
    {
     "name": "stderr",
     "output_type": "stream",
     "text": [
      "100%|███████████████████████████████████████████████████████████████████████████████████████████████████████| 574/574 [00:47<00:00, 12.11it/s]\n",
      "100%|█████████████████████████████████████████████████████████████████████████████████████████████████████████| 79/79 [00:02<00:00, 33.83it/s]\n"
     ]
    },
    {
     "name": "stdout",
     "output_type": "stream",
     "text": [
      "Epoch 1/100, Loss: 0.002167903282877634, Val_Recall: 96.34661502039647%\n",
      "Model saved based on lowest validation loss.\n"
     ]
    },
    {
     "name": "stderr",
     "output_type": "stream",
     "text": [
      "100%|███████████████████████████████████████████████████████████████████████████████████████████████████████| 574/574 [00:47<00:00, 12.09it/s]\n",
      "100%|█████████████████████████████████████████████████████████████████████████████████████████████████████████| 79/79 [00:02<00:00, 33.51it/s]\n"
     ]
    },
    {
     "name": "stdout",
     "output_type": "stream",
     "text": [
      "Epoch 2/100, Loss: 0.0009701907790109038, Val_Recall: 98.64958322177273%\n",
      "Model saved based on lowest validation loss.\n"
     ]
    },
    {
     "name": "stderr",
     "output_type": "stream",
     "text": [
      "100%|███████████████████████████████████████████████████████████████████████████████████████████████████████| 574/574 [00:47<00:00, 12.10it/s]\n",
      "100%|█████████████████████████████████████████████████████████████████████████████████████████████████████████| 79/79 [00:02<00:00, 33.85it/s]\n"
     ]
    },
    {
     "name": "stdout",
     "output_type": "stream",
     "text": [
      "Epoch 3/100, Loss: 0.0006306315459092914, Val_Recall: 98.81534261775698%\n",
      "Model saved based on lowest validation loss.\n"
     ]
    },
    {
     "name": "stderr",
     "output_type": "stream",
     "text": [
      "100%|███████████████████████████████████████████████████████████████████████████████████████████████████████| 574/574 [00:47<00:00, 12.09it/s]\n",
      "100%|█████████████████████████████████████████████████████████████████████████████████████████████████████████| 79/79 [00:02<00:00, 33.54it/s]\n"
     ]
    },
    {
     "name": "stdout",
     "output_type": "stream",
     "text": [
      "Epoch 4/100, Loss: 0.0008796384616338216, Val_Recall: 98.68753936089377%\n"
     ]
    },
    {
     "name": "stderr",
     "output_type": "stream",
     "text": [
      "100%|███████████████████████████████████████████████████████████████████████████████████████████████████████| 574/574 [00:47<00:00, 12.10it/s]\n",
      "100%|█████████████████████████████████████████████████████████████████████████████████████████████████████████| 79/79 [00:02<00:00, 33.65it/s]\n"
     ]
    },
    {
     "name": "stdout",
     "output_type": "stream",
     "text": [
      "Epoch 5/100, Loss: 0.0007025799288039577, Val_Recall: 98.59907354272332%\n"
     ]
    },
    {
     "name": "stderr",
     "output_type": "stream",
     "text": [
      "100%|███████████████████████████████████████████████████████████████████████████████████████████████████████| 574/574 [00:47<00:00, 12.09it/s]\n",
      "100%|█████████████████████████████████████████████████████████████████████████████████████████████████████████| 79/79 [00:02<00:00, 33.46it/s]\n"
     ]
    },
    {
     "name": "stdout",
     "output_type": "stream",
     "text": [
      "Epoch 6/100, Loss: 0.0015801712047472756, Val_Recall: 97.82368890407355%\n"
     ]
    },
    {
     "name": "stderr",
     "output_type": "stream",
     "text": [
      "100%|███████████████████████████████████████████████████████████████████████████████████████████████████████| 574/574 [00:47<00:00, 12.04it/s]\n",
      "100%|█████████████████████████████████████████████████████████████████████████████████████████████████████████| 79/79 [00:02<00:00, 33.22it/s]\n"
     ]
    },
    {
     "name": "stdout",
     "output_type": "stream",
     "text": [
      "Epoch 7/100, Loss: 0.0006255453698862913, Val_Recall: 98.77659768761792%\n",
      "Model saved based on lowest validation loss.\n"
     ]
    },
    {
     "name": "stderr",
     "output_type": "stream",
     "text": [
      "100%|███████████████████████████████████████████████████████████████████████████████████████████████████████| 574/574 [00:47<00:00, 12.11it/s]\n",
      "100%|█████████████████████████████████████████████████████████████████████████████████████████████████████████| 79/79 [00:02<00:00, 33.32it/s]\n"
     ]
    },
    {
     "name": "stdout",
     "output_type": "stream",
     "text": [
      "Epoch 8/100, Loss: 0.0013234999240716414, Val_Recall: 98.6163096496188%\n"
     ]
    },
    {
     "name": "stderr",
     "output_type": "stream",
     "text": [
      "100%|███████████████████████████████████████████████████████████████████████████████████████████████████████| 574/574 [00:47<00:00, 12.09it/s]\n",
      "100%|█████████████████████████████████████████████████████████████████████████████████████████████████████████| 79/79 [00:02<00:00, 33.76it/s]\n"
     ]
    },
    {
     "name": "stdout",
     "output_type": "stream",
     "text": [
      "Epoch 9/100, Loss: 0.0010879437420502614, Val_Recall: 99.40994269663727%\n"
     ]
    },
    {
     "name": "stderr",
     "output_type": "stream",
     "text": [
      "100%|███████████████████████████████████████████████████████████████████████████████████████████████████████| 574/574 [00:47<00:00, 12.08it/s]\n",
      "100%|█████████████████████████████████████████████████████████████████████████████████████████████████████████| 79/79 [00:02<00:00, 33.45it/s]\n"
     ]
    },
    {
     "name": "stdout",
     "output_type": "stream",
     "text": [
      "Epoch 10/100, Loss: 0.000927302250100977, Val_Recall: 97.5171412806751%\n"
     ]
    },
    {
     "name": "stderr",
     "output_type": "stream",
     "text": [
      "100%|███████████████████████████████████████████████████████████████████████████████████████████████████████| 574/574 [00:47<00:00, 12.10it/s]\n",
      "100%|█████████████████████████████████████████████████████████████████████████████████████████████████████████| 79/79 [00:02<00:00, 33.16it/s]\n"
     ]
    },
    {
     "name": "stdout",
     "output_type": "stream",
     "text": [
      "Epoch 11/100, Loss: 0.001397371624028966, Val_Recall: 99.64044814443817%\n"
     ]
    },
    {
     "name": "stderr",
     "output_type": "stream",
     "text": [
      "100%|███████████████████████████████████████████████████████████████████████████████████████████████████████| 574/574 [00:47<00:00, 12.10it/s]\n",
      "100%|█████████████████████████████████████████████████████████████████████████████████████████████████████████| 79/79 [00:02<00:00, 33.66it/s]\n"
     ]
    },
    {
     "name": "stdout",
     "output_type": "stream",
     "text": [
      "Epoch 12/100, Loss: 0.0008852718903699308, Val_Recall: 99.3577156177888%\n"
     ]
    },
    {
     "name": "stderr",
     "output_type": "stream",
     "text": [
      "100%|███████████████████████████████████████████████████████████████████████████████████████████████████████| 574/574 [00:47<00:00, 12.09it/s]\n",
      "100%|█████████████████████████████████████████████████████████████████████████████████████████████████████████| 79/79 [00:02<00:00, 33.56it/s]\n"
     ]
    },
    {
     "name": "stdout",
     "output_type": "stream",
     "text": [
      "Epoch 13/100, Loss: 0.0007940321003739266, Val_Recall: 99.28839958877718%\n"
     ]
    },
    {
     "name": "stderr",
     "output_type": "stream",
     "text": [
      "100%|███████████████████████████████████████████████████████████████████████████████████████████████████████| 574/574 [00:47<00:00, 12.07it/s]\n",
      "100%|█████████████████████████████████████████████████████████████████████████████████████████████████████████| 79/79 [00:02<00:00, 33.90it/s]\n"
     ]
    },
    {
     "name": "stdout",
     "output_type": "stream",
     "text": [
      "Epoch 14/100, Loss: 0.000630952434535387, Val_Recall: 99.43999469329681%\n"
     ]
    },
    {
     "name": "stderr",
     "output_type": "stream",
     "text": [
      "100%|███████████████████████████████████████████████████████████████████████████████████████████████████████| 574/574 [00:47<00:00, 12.10it/s]\n",
      "100%|█████████████████████████████████████████████████████████████████████████████████████████████████████████| 79/79 [00:02<00:00, 33.47it/s]\n"
     ]
    },
    {
     "name": "stdout",
     "output_type": "stream",
     "text": [
      "Epoch 15/100, Loss: 0.0006895200530326167, Val_Recall: 98.65917753604239%\n"
     ]
    },
    {
     "name": "stderr",
     "output_type": "stream",
     "text": [
      "100%|███████████████████████████████████████████████████████████████████████████████████████████████████████| 574/574 [00:47<00:00, 12.13it/s]\n",
      "100%|█████████████████████████████████████████████████████████████████████████████████████████████████████████| 79/79 [00:02<00:00, 33.40it/s]\n"
     ]
    },
    {
     "name": "stdout",
     "output_type": "stream",
     "text": [
      "Epoch 16/100, Loss: 0.0005252341218357991, Val_Recall: 99.67027663064249%\n",
      "Model saved based on lowest validation loss.\n"
     ]
    },
    {
     "name": "stderr",
     "output_type": "stream",
     "text": [
      "100%|███████████████████████████████████████████████████████████████████████████████████████████████████████| 574/574 [00:47<00:00, 12.10it/s]\n",
      "100%|█████████████████████████████████████████████████████████████████████████████████████████████████████████| 79/79 [00:02<00:00, 34.31it/s]\n"
     ]
    },
    {
     "name": "stdout",
     "output_type": "stream",
     "text": [
      "Epoch 17/100, Loss: 0.0006762183194560381, Val_Recall: 99.60796336330225%\n"
     ]
    },
    {
     "name": "stderr",
     "output_type": "stream",
     "text": [
      "100%|███████████████████████████████████████████████████████████████████████████████████████████████████████| 574/574 [00:47<00:00, 12.11it/s]\n",
      "100%|█████████████████████████████████████████████████████████████████████████████████████████████████████████| 79/79 [00:02<00:00, 33.74it/s]\n"
     ]
    },
    {
     "name": "stdout",
     "output_type": "stream",
     "text": [
      "Epoch 18/100, Loss: 0.0005930803651870111, Val_Recall: 98.8184532725683%\n"
     ]
    },
    {
     "name": "stderr",
     "output_type": "stream",
     "text": [
      "100%|███████████████████████████████████████████████████████████████████████████████████████████████████████| 574/574 [00:47<00:00, 12.11it/s]\n",
      "100%|█████████████████████████████████████████████████████████████████████████████████████████████████████████| 79/79 [00:02<00:00, 33.95it/s]\n"
     ]
    },
    {
     "name": "stdout",
     "output_type": "stream",
     "text": [
      "Epoch 19/100, Loss: 0.0008276963956724907, Val_Recall: 98.95824478879707%\n"
     ]
    },
    {
     "name": "stderr",
     "output_type": "stream",
     "text": [
      "100%|███████████████████████████████████████████████████████████████████████████████████████████████████████| 574/574 [00:47<00:00, 12.08it/s]\n",
      "100%|█████████████████████████████████████████████████████████████████████████████████████████████████████████| 79/79 [00:02<00:00, 33.62it/s]\n"
     ]
    },
    {
     "name": "stdout",
     "output_type": "stream",
     "text": [
      "Epoch 20/100, Loss: 0.0007043017336446829, Val_Recall: 99.60361689656247%\n"
     ]
    },
    {
     "name": "stderr",
     "output_type": "stream",
     "text": [
      "100%|███████████████████████████████████████████████████████████████████████████████████████████████████████| 574/574 [00:47<00:00, 12.09it/s]\n",
      "100%|█████████████████████████████████████████████████████████████████████████████████████████████████████████| 79/79 [00:02<00:00, 33.26it/s]\n"
     ]
    },
    {
     "name": "stdout",
     "output_type": "stream",
     "text": [
      "Epoch 21/100, Loss: 0.0007728350718009725, Val_Recall: 98.08188564536016%\n"
     ]
    },
    {
     "name": "stderr",
     "output_type": "stream",
     "text": [
      "100%|███████████████████████████████████████████████████████████████████████████████████████████████████████| 574/574 [00:47<00:00, 12.09it/s]\n",
      "100%|█████████████████████████████████████████████████████████████████████████████████████████████████████████| 79/79 [00:02<00:00, 33.43it/s]\n"
     ]
    },
    {
     "name": "stdout",
     "output_type": "stream",
     "text": [
      "Epoch 22/100, Loss: 0.0004968370015877398, Val_Recall: 98.98930908692984%\n",
      "Model saved based on lowest validation loss.\n"
     ]
    },
    {
     "name": "stderr",
     "output_type": "stream",
     "text": [
      "100%|███████████████████████████████████████████████████████████████████████████████████████████████████████| 574/574 [00:47<00:00, 12.10it/s]\n",
      "100%|█████████████████████████████████████████████████████████████████████████████████████████████████████████| 79/79 [00:02<00:00, 33.70it/s]\n"
     ]
    },
    {
     "name": "stdout",
     "output_type": "stream",
     "text": [
      "Epoch 23/100, Loss: 0.0009882233018064267, Val_Recall: 98.56776248504269%\n"
     ]
    },
    {
     "name": "stderr",
     "output_type": "stream",
     "text": [
      "100%|███████████████████████████████████████████████████████████████████████████████████████████████████████| 574/574 [00:47<00:00, 12.10it/s]\n",
      "100%|█████████████████████████████████████████████████████████████████████████████████████████████████████████| 79/79 [00:02<00:00, 33.30it/s]\n"
     ]
    },
    {
     "name": "stdout",
     "output_type": "stream",
     "text": [
      "Epoch 24/100, Loss: 0.0004805693056180052, Val_Recall: 99.29323792973905%\n",
      "Model saved based on lowest validation loss.\n"
     ]
    },
    {
     "name": "stderr",
     "output_type": "stream",
     "text": [
      "100%|███████████████████████████████████████████████████████████████████████████████████████████████████████| 574/574 [00:47<00:00, 12.09it/s]\n",
      "100%|█████████████████████████████████████████████████████████████████████████████████████████████████████████| 79/79 [00:02<00:00, 33.94it/s]\n"
     ]
    },
    {
     "name": "stdout",
     "output_type": "stream",
     "text": [
      "Epoch 25/100, Loss: 0.0009497838578907044, Val_Recall: 99.57334138944773%\n"
     ]
    },
    {
     "name": "stderr",
     "output_type": "stream",
     "text": [
      "100%|███████████████████████████████████████████████████████████████████████████████████████████████████████| 574/574 [00:47<00:00, 12.10it/s]\n",
      "100%|█████████████████████████████████████████████████████████████████████████████████████████████████████████| 79/79 [00:02<00:00, 33.64it/s]\n"
     ]
    },
    {
     "name": "stdout",
     "output_type": "stream",
     "text": [
      "Epoch 26/100, Loss: 0.0009391887053928125, Val_Recall: 98.46572684657241%\n"
     ]
    },
    {
     "name": "stderr",
     "output_type": "stream",
     "text": [
      "100%|███████████████████████████████████████████████████████████████████████████████████████████████████████| 574/574 [00:47<00:00, 12.10it/s]\n",
      "100%|█████████████████████████████████████████████████████████████████████████████████████████████████████████| 79/79 [00:02<00:00, 33.37it/s]\n"
     ]
    },
    {
     "name": "stdout",
     "output_type": "stream",
     "text": [
      "Epoch 27/100, Loss: 0.0008338937351009285, Val_Recall: 97.85240808932033%\n"
     ]
    },
    {
     "name": "stderr",
     "output_type": "stream",
     "text": [
      "100%|███████████████████████████████████████████████████████████████████████████████████████████████████████| 574/574 [00:47<00:00, 12.05it/s]\n",
      "100%|█████████████████████████████████████████████████████████████████████████████████████████████████████████| 79/79 [00:02<00:00, 33.98it/s]\n"
     ]
    },
    {
     "name": "stdout",
     "output_type": "stream",
     "text": [
      "Epoch 28/100, Loss: 0.0011191149051939062, Val_Recall: 98.0434030650568%\n"
     ]
    },
    {
     "name": "stderr",
     "output_type": "stream",
     "text": [
      "100%|███████████████████████████████████████████████████████████████████████████████████████████████████████| 574/574 [00:47<00:00, 12.13it/s]\n",
      "100%|█████████████████████████████████████████████████████████████████████████████████████████████████████████| 79/79 [00:02<00:00, 33.21it/s]\n"
     ]
    },
    {
     "name": "stdout",
     "output_type": "stream",
     "text": [
      "Epoch 29/100, Loss: 0.0005870946351374494, Val_Recall: 99.65615117855835%\n"
     ]
    },
    {
     "name": "stderr",
     "output_type": "stream",
     "text": [
      "100%|███████████████████████████████████████████████████████████████████████████████████████████████████████| 574/574 [00:47<00:00, 12.09it/s]\n",
      "100%|█████████████████████████████████████████████████████████████████████████████████████████████████████████| 79/79 [00:02<00:00, 33.88it/s]\n"
     ]
    },
    {
     "name": "stdout",
     "output_type": "stream",
     "text": [
      "Epoch 30/100, Loss: 0.0007090266670795901, Val_Recall: 98.81511910730177%\n"
     ]
    },
    {
     "name": "stderr",
     "output_type": "stream",
     "text": [
      "100%|███████████████████████████████████████████████████████████████████████████████████████████████████████| 574/574 [00:47<00:00, 12.10it/s]\n",
      "100%|█████████████████████████████████████████████████████████████████████████████████████████████████████████| 79/79 [00:02<00:00, 33.54it/s]\n"
     ]
    },
    {
     "name": "stdout",
     "output_type": "stream",
     "text": [
      "Epoch 31/100, Loss: 0.0008405941086651007, Val_Recall: 99.17262343066002%\n"
     ]
    },
    {
     "name": "stderr",
     "output_type": "stream",
     "text": [
      "100%|███████████████████████████████████████████████████████████████████████████████████████████████████████| 574/574 [00:47<00:00, 12.07it/s]\n",
      "100%|█████████████████████████████████████████████████████████████████████████████████████████████████████████| 79/79 [00:02<00:00, 33.20it/s]\n"
     ]
    },
    {
     "name": "stdout",
     "output_type": "stream",
     "text": [
      "Epoch 32/100, Loss: 0.001220373020073242, Val_Recall: 98.49821162770832%\n"
     ]
    },
    {
     "name": "stderr",
     "output_type": "stream",
     "text": [
      "100%|███████████████████████████████████████████████████████████████████████████████████████████████████████| 574/574 [00:47<00:00, 12.09it/s]\n",
      "100%|█████████████████████████████████████████████████████████████████████████████████████████████████████████| 79/79 [00:02<00:00, 33.55it/s]\n"
     ]
    },
    {
     "name": "stdout",
     "output_type": "stream",
     "text": [
      "Epoch 33/100, Loss: 0.0006563121762345, Val_Recall: 99.02591682435032%\n"
     ]
    },
    {
     "name": "stderr",
     "output_type": "stream",
     "text": [
      "100%|███████████████████████████████████████████████████████████████████████████████████████████████████████| 574/574 [00:47<00:00, 12.08it/s]\n",
      "100%|█████████████████████████████████████████████████████████████████████████████████████████████████████████| 79/79 [00:02<00:00, 32.56it/s]\n"
     ]
    },
    {
     "name": "stdout",
     "output_type": "stream",
     "text": [
      "Epoch 34/100, Loss: 0.00089341599407156, Val_Recall: 98.86274164199507%\n"
     ]
    },
    {
     "name": "stderr",
     "output_type": "stream",
     "text": [
      "100%|███████████████████████████████████████████████████████████████████████████████████████████████████████| 574/574 [00:47<00:00, 12.09it/s]\n",
      "100%|█████████████████████████████████████████████████████████████████████████████████████████████████████████| 79/79 [00:02<00:00, 33.52it/s]\n"
     ]
    },
    {
     "name": "stdout",
     "output_type": "stream",
     "text": [
      "Epoch 35/100, Loss: 0.0011782154483268145, Val_Recall: 98.05063667615266%\n"
     ]
    },
    {
     "name": "stderr",
     "output_type": "stream",
     "text": [
      "100%|███████████████████████████████████████████████████████████████████████████████████████████████████████| 574/574 [00:47<00:00, 12.09it/s]\n",
      "100%|█████████████████████████████████████████████████████████████████████████████████████████████████████████| 79/79 [00:02<00:00, 33.49it/s]\n"
     ]
    },
    {
     "name": "stdout",
     "output_type": "stream",
     "text": [
      "Epoch 36/100, Loss: 0.0011786450224034464, Val_Recall: 98.62522609355352%\n"
     ]
    },
    {
     "name": "stderr",
     "output_type": "stream",
     "text": [
      "100%|███████████████████████████████████████████████████████████████████████████████████████████████████████| 574/574 [00:47<00:00, 12.10it/s]\n",
      "100%|█████████████████████████████████████████████████████████████████████████████████████████████████████████| 79/79 [00:02<00:00, 33.34it/s]\n"
     ]
    },
    {
     "name": "stdout",
     "output_type": "stream",
     "text": [
      "Epoch 37/100, Loss: 0.0008332081081673458, Val_Recall: 98.8346033275989%\n"
     ]
    },
    {
     "name": "stderr",
     "output_type": "stream",
     "text": [
      "100%|███████████████████████████████████████████████████████████████████████████████████████████████████████| 574/574 [00:47<00:00, 12.09it/s]\n",
      "100%|█████████████████████████████████████████████████████████████████████████████████████████████████████████| 79/79 [00:02<00:00, 33.45it/s]\n"
     ]
    },
    {
     "name": "stdout",
     "output_type": "stream",
     "text": [
      "Epoch 38/100, Loss: 0.0008896543029576782, Val_Recall: 98.2128383964152%\n"
     ]
    },
    {
     "name": "stderr",
     "output_type": "stream",
     "text": [
      "100%|███████████████████████████████████████████████████████████████████████████████████████████████████████| 574/574 [00:47<00:00, 12.11it/s]\n",
      "100%|█████████████████████████████████████████████████████████████████████████████████████████████████████████| 79/79 [00:02<00:00, 33.34it/s]\n"
     ]
    },
    {
     "name": "stdout",
     "output_type": "stream",
     "text": [
      "Epoch 39/100, Loss: 0.0016385850989686604, Val_Recall: 98.67652456362094%\n"
     ]
    },
    {
     "name": "stderr",
     "output_type": "stream",
     "text": [
      "100%|███████████████████████████████████████████████████████████████████████████████████████████████████████| 574/574 [00:47<00:00, 12.10it/s]\n",
      "100%|█████████████████████████████████████████████████████████████████████████████████████████████████████████| 79/79 [00:02<00:00, 33.65it/s]\n"
     ]
    },
    {
     "name": "stdout",
     "output_type": "stream",
     "text": [
      "Epoch 40/100, Loss: 0.0013980402615150949, Val_Recall: 97.90237573689959%\n"
     ]
    },
    {
     "name": "stderr",
     "output_type": "stream",
     "text": [
      "100%|███████████████████████████████████████████████████████████████████████████████████████████████████████| 574/574 [00:47<00:00, 12.12it/s]\n",
      "100%|█████████████████████████████████████████████████████████████████████████████████████████████████████████| 79/79 [00:02<00:00, 34.15it/s]\n"
     ]
    },
    {
     "name": "stdout",
     "output_type": "stream",
     "text": [
      "Epoch 41/100, Loss: 0.0021516313300944433, Val_Recall: 97.58814748149484%\n"
     ]
    },
    {
     "name": "stderr",
     "output_type": "stream",
     "text": [
      "100%|███████████████████████████████████████████████████████████████████████████████████████████████████████| 574/574 [00:47<00:00, 12.09it/s]\n",
      "100%|█████████████████████████████████████████████████████████████████████████████████████████████████████████| 79/79 [00:02<00:00, 33.00it/s]\n"
     ]
    },
    {
     "name": "stdout",
     "output_type": "stream",
     "text": [
      "Epoch 42/100, Loss: 0.0018717537984415497, Val_Recall: 98.35262991264396%\n"
     ]
    },
    {
     "name": "stderr",
     "output_type": "stream",
     "text": [
      "100%|███████████████████████████████████████████████████████████████████████████████████████████████████████| 574/574 [00:47<00:00, 12.10it/s]\n",
      "100%|█████████████████████████████████████████████████████████████████████████████████████████████████████████| 79/79 [00:02<00:00, 33.28it/s]\n"
     ]
    },
    {
     "name": "stdout",
     "output_type": "stream",
     "text": [
      "Epoch 43/100, Loss: 0.002358660539034536, Val_Recall: 97.86464310823376%\n"
     ]
    },
    {
     "name": "stderr",
     "output_type": "stream",
     "text": [
      "100%|███████████████████████████████████████████████████████████████████████████████████████████████████████| 574/574 [00:47<00:00, 12.09it/s]\n",
      "100%|█████████████████████████████████████████████████████████████████████████████████████████████████████████| 79/79 [00:02<00:00, 33.64it/s]\n"
     ]
    },
    {
     "name": "stdout",
     "output_type": "stream",
     "text": [
      "Epoch 44/100, Loss: 0.0011259291598388432, Val_Recall: 98.20556594593882%\n"
     ]
    },
    {
     "name": "stderr",
     "output_type": "stream",
     "text": [
      "100%|███████████████████████████████████████████████████████████████████████████████████████████████████████| 574/574 [00:47<00:00, 12.10it/s]\n",
      "100%|█████████████████████████████████████████████████████████████████████████████████████████████████████████| 79/79 [00:02<00:00, 33.41it/s]\n"
     ]
    },
    {
     "name": "stdout",
     "output_type": "stream",
     "text": [
      "Epoch 45/100, Loss: 0.0009430930456083192, Val_Recall: 98.8583951752553%\n"
     ]
    },
    {
     "name": "stderr",
     "output_type": "stream",
     "text": [
      "100%|███████████████████████████████████████████████████████████████████████████████████████████████████████| 574/574 [00:47<00:00, 12.08it/s]\n",
      "100%|█████████████████████████████████████████████████████████████████████████████████████████████████████████| 79/79 [00:02<00:00, 33.11it/s]\n"
     ]
    },
    {
     "name": "stdout",
     "output_type": "stream",
     "text": [
      "Epoch 46/100, Loss: 0.001632252932117801, Val_Recall: 98.9981866914841%\n"
     ]
    },
    {
     "name": "stderr",
     "output_type": "stream",
     "text": [
      "100%|███████████████████████████████████████████████████████████████████████████████████████████████████████| 574/574 [00:47<00:00, 12.08it/s]\n",
      "100%|█████████████████████████████████████████████████████████████████████████████████████████████████████████| 79/79 [00:02<00:00, 33.38it/s]\n"
     ]
    },
    {
     "name": "stdout",
     "output_type": "stream",
     "text": [
      "Epoch 47/100, Loss: 0.0019165725439915, Val_Recall: 98.83580030014686%\n"
     ]
    },
    {
     "name": "stderr",
     "output_type": "stream",
     "text": [
      "100%|███████████████████████████████████████████████████████████████████████████████████████████████████████| 574/574 [00:47<00:00, 12.08it/s]\n",
      "100%|█████████████████████████████████████████████████████████████████████████████████████████████████████████| 79/79 [00:02<00:00, 33.83it/s]\n"
     ]
    },
    {
     "name": "stdout",
     "output_type": "stream",
     "text": [
      "Epoch 48/100, Loss: 0.001445406121281846, Val_Recall: 99.01122609170336%\n"
     ]
    },
    {
     "name": "stderr",
     "output_type": "stream",
     "text": [
      "100%|███████████████████████████████████████████████████████████████████████████████████████████████████████| 574/574 [00:47<00:00, 12.10it/s]\n",
      "100%|█████████████████████████████████████████████████████████████████████████████████████████████████████████| 79/79 [00:02<00:00, 32.76it/s]\n"
     ]
    },
    {
     "name": "stdout",
     "output_type": "stream",
     "text": [
      "Epoch 49/100, Loss: 0.0015778878146662522, Val_Recall: 98.87454523028589%\n"
     ]
    },
    {
     "name": "stderr",
     "output_type": "stream",
     "text": [
      "100%|███████████████████████████████████████████████████████████████████████████████████████████████████████| 574/574 [00:47<00:00, 12.02it/s]\n",
      "100%|█████████████████████████████████████████████████████████████████████████████████████████████████████████| 79/79 [00:02<00:00, 33.37it/s]\n"
     ]
    },
    {
     "name": "stdout",
     "output_type": "stream",
     "text": [
      "Epoch 50/100, Loss: 0.001601860583731053, Val_Recall: 98.85506100998876%\n"
     ]
    },
    {
     "name": "stderr",
     "output_type": "stream",
     "text": [
      "100%|███████████████████████████████████████████████████████████████████████████████████████████████████████| 574/574 [00:47<00:00, 12.12it/s]\n",
      "100%|█████████████████████████████████████████████████████████████████████████████████████████████████████████| 79/79 [00:02<00:00, 33.90it/s]\n"
     ]
    },
    {
     "name": "stdout",
     "output_type": "stream",
     "text": [
      "Epoch 51/100, Loss: 0.0014715338437672199, Val_Recall: 98.8314538334071%\n"
     ]
    },
    {
     "name": "stderr",
     "output_type": "stream",
     "text": [
      "100%|███████████████████████████████████████████████████████████████████████████████████████████████████████| 574/574 [00:47<00:00, 12.11it/s]\n",
      "100%|█████████████████████████████████████████████████████████████████████████████████████████████████████████| 79/79 [00:02<00:00, 33.98it/s]\n"
     ]
    },
    {
     "name": "stdout",
     "output_type": "stream",
     "text": [
      "Epoch 52/100, Loss: 0.0020375851573995606, Val_Recall: 98.19042819238145%\n"
     ]
    },
    {
     "name": "stderr",
     "output_type": "stream",
     "text": [
      "100%|███████████████████████████████████████████████████████████████████████████████████████████████████████| 574/574 [00:47<00:00, 12.10it/s]\n",
      "100%|█████████████████████████████████████████████████████████████████████████████████████████████████████████| 79/79 [00:02<00:00, 33.44it/s]\n"
     ]
    },
    {
     "name": "stdout",
     "output_type": "stream",
     "text": [
      "Epoch 53/100, Loss: 0.001749861257370351, Val_Recall: 98.9830489379267%\n"
     ]
    },
    {
     "name": "stderr",
     "output_type": "stream",
     "text": [
      "100%|███████████████████████████████████████████████████████████████████████████████████████████████████████| 574/574 [00:47<00:00, 12.08it/s]\n",
      "100%|█████████████████████████████████████████████████████████████████████████████████████████████████████████| 79/79 [00:02<00:00, 33.49it/s]\n"
     ]
    },
    {
     "name": "stdout",
     "output_type": "stream",
     "text": [
      "Epoch 54/100, Loss: 0.0017776086458740987, Val_Recall: 98.21736953422966%\n",
      "Early stopping\n",
      "Loaded pretrained weights for efficientnet-b0\n"
     ]
    },
    {
     "name": "stderr",
     "output_type": "stream",
     "text": [
      "100%|███████████████████████████████████████████████████████████████████████████████████████████████████████| 574/574 [00:47<00:00, 12.08it/s]\n",
      "100%|█████████████████████████████████████████████████████████████████████████████████████████████████████████| 79/79 [00:02<00:00, 33.73it/s]\n"
     ]
    },
    {
     "name": "stdout",
     "output_type": "stream",
     "text": [
      "Epoch 1/100, Loss: 0.0030061392902593345, Val_Recall: 92.02972606701572%\n",
      "Model saved based on lowest validation loss.\n"
     ]
    },
    {
     "name": "stderr",
     "output_type": "stream",
     "text": [
      "100%|███████████████████████████████████████████████████████████████████████████████████████████████████████| 574/574 [00:47<00:00, 12.08it/s]\n",
      "100%|█████████████████████████████████████████████████████████████████████████████████████████████████████████| 79/79 [00:02<00:00, 33.77it/s]\n"
     ]
    },
    {
     "name": "stdout",
     "output_type": "stream",
     "text": [
      "Epoch 2/100, Loss: 0.0012069210328741352, Val_Recall: 98.0539708414192%\n",
      "Model saved based on lowest validation loss.\n"
     ]
    },
    {
     "name": "stderr",
     "output_type": "stream",
     "text": [
      "100%|███████████████████████████████████████████████████████████████████████████████████████████████████████| 574/574 [00:47<00:00, 12.07it/s]\n",
      "100%|█████████████████████████████████████████████████████████████████████████████████████████████████████████| 79/79 [00:02<00:00, 33.07it/s]\n"
     ]
    },
    {
     "name": "stdout",
     "output_type": "stream",
     "text": [
      "Epoch 3/100, Loss: 0.0012819223893069348, Val_Recall: 98.8112040711846%\n"
     ]
    },
    {
     "name": "stderr",
     "output_type": "stream",
     "text": [
      "100%|███████████████████████████████████████████████████████████████████████████████████████████████████████| 574/574 [00:47<00:00, 11.99it/s]\n",
      "100%|█████████████████████████████████████████████████████████████████████████████████████████████████████████| 79/79 [00:02<00:00, 33.44it/s]\n"
     ]
    },
    {
     "name": "stdout",
     "output_type": "stream",
     "text": [
      "Epoch 4/100, Loss: 0.0013815977165557952, Val_Recall: 98.27459802089572%\n"
     ]
    },
    {
     "name": "stderr",
     "output_type": "stream",
     "text": [
      "100%|███████████████████████████████████████████████████████████████████████████████████████████████████████| 574/574 [00:47<00:00, 12.07it/s]\n",
      "100%|█████████████████████████████████████████████████████████████████████████████████████████████████████████| 79/79 [00:02<00:00, 33.28it/s]\n"
     ]
    },
    {
     "name": "stdout",
     "output_type": "stream",
     "text": [
      "Epoch 5/100, Loss: 0.0012588811997300327, Val_Recall: 98.06443766571257%\n"
     ]
    },
    {
     "name": "stderr",
     "output_type": "stream",
     "text": [
      "100%|███████████████████████████████████████████████████████████████████████████████████████████████████████| 574/574 [00:47<00:00, 12.09it/s]\n",
      "100%|█████████████████████████████████████████████████████████████████████████████████████████████████████████| 79/79 [00:02<00:00, 33.84it/s]\n"
     ]
    },
    {
     "name": "stdout",
     "output_type": "stream",
     "text": [
      "Epoch 6/100, Loss: 0.0012833581756027542, Val_Recall: 98.6647209753301%\n"
     ]
    },
    {
     "name": "stderr",
     "output_type": "stream",
     "text": [
      "100%|███████████████████████████████████████████████████████████████████████████████████████████████████████| 574/574 [00:47<00:00, 12.08it/s]\n",
      "100%|█████████████████████████████████████████████████████████████████████████████████████████████████████████| 79/79 [00:02<00:00, 33.78it/s]\n"
     ]
    },
    {
     "name": "stdout",
     "output_type": "stream",
     "text": [
      "Epoch 7/100, Loss: 0.0010339874381732866, Val_Recall: 98.66805514059664%\n",
      "Model saved based on lowest validation loss.\n"
     ]
    },
    {
     "name": "stderr",
     "output_type": "stream",
     "text": [
      "100%|███████████████████████████████████████████████████████████████████████████████████████████████████████| 574/574 [00:47<00:00, 12.08it/s]\n",
      "100%|█████████████████████████████████████████████████████████████████████████████████████████████████████████| 79/79 [00:02<00:00, 33.32it/s]\n"
     ]
    },
    {
     "name": "stdout",
     "output_type": "stream",
     "text": [
      "Epoch 8/100, Loss: 0.0009613307153947021, Val_Recall: 98.84325742169793%\n",
      "Model saved based on lowest validation loss.\n"
     ]
    },
    {
     "name": "stderr",
     "output_type": "stream",
     "text": [
      "100%|███████████████████████████████████████████████████████████████████████████████████████████████████████| 574/574 [00:47<00:00, 12.09it/s]\n",
      "100%|█████████████████████████████████████████████████████████████████████████████████████████████████████████| 79/79 [00:02<00:00, 33.52it/s]\n"
     ]
    },
    {
     "name": "stdout",
     "output_type": "stream",
     "text": [
      "Epoch 9/100, Loss: 0.0012916194577707002, Val_Recall: 98.36074197527286%\n"
     ]
    },
    {
     "name": "stderr",
     "output_type": "stream",
     "text": [
      "100%|███████████████████████████████████████████████████████████████████████████████████████████████████████| 574/574 [00:47<00:00, 12.08it/s]\n",
      "100%|█████████████████████████████████████████████████████████████████████████████████████████████████████████| 79/79 [00:02<00:00, 33.60it/s]\n"
     ]
    },
    {
     "name": "stdout",
     "output_type": "stream",
     "text": [
      "Epoch 10/100, Loss: 0.0008710856477035891, Val_Recall: 98.52414066808332%\n",
      "Model saved based on lowest validation loss.\n"
     ]
    },
    {
     "name": "stderr",
     "output_type": "stream",
     "text": [
      "100%|███████████████████████████████████████████████████████████████████████████████████████████████████████| 574/574 [00:47<00:00, 12.09it/s]\n",
      "100%|█████████████████████████████████████████████████████████████████████████████████████████████████████████| 79/79 [00:02<00:00, 33.52it/s]\n"
     ]
    },
    {
     "name": "stdout",
     "output_type": "stream",
     "text": [
      "Epoch 11/100, Loss: 0.0007204750850296967, Val_Recall: 98.54752433420978%\n",
      "Model saved based on lowest validation loss.\n"
     ]
    },
    {
     "name": "stderr",
     "output_type": "stream",
     "text": [
      "100%|███████████████████████████████████████████████████████████████████████████████████████████████████████| 574/574 [00:47<00:00, 12.07it/s]\n",
      "100%|█████████████████████████████████████████████████████████████████████████████████████████████████████████| 79/79 [00:02<00:00, 33.55it/s]\n"
     ]
    },
    {
     "name": "stdout",
     "output_type": "stream",
     "text": [
      "Epoch 12/100, Loss: 0.0013962682469264892, Val_Recall: 96.41876170274942%\n"
     ]
    },
    {
     "name": "stderr",
     "output_type": "stream",
     "text": [
      "100%|███████████████████████████████████████████████████████████████████████████████████████████████████████| 574/574 [00:47<00:00, 12.08it/s]\n",
      "100%|█████████████████████████████████████████████████████████████████████████████████████████████████████████| 79/79 [00:02<00:00, 33.52it/s]\n"
     ]
    },
    {
     "name": "stdout",
     "output_type": "stream",
     "text": [
      "Epoch 13/100, Loss: 0.0008017111151077788, Val_Recall: 99.45179828158764%\n"
     ]
    },
    {
     "name": "stderr",
     "output_type": "stream",
     "text": [
      "100%|███████████████████████████████████████████████████████████████████████████████████████████████████████| 574/574 [00:47<00:00, 12.08it/s]\n",
      "100%|█████████████████████████████████████████████████████████████████████████████████████████████████████████| 79/79 [00:02<00:00, 33.89it/s]\n"
     ]
    },
    {
     "name": "stdout",
     "output_type": "stream",
     "text": [
      "Epoch 14/100, Loss: 0.0009893609301939285, Val_Recall: 99.61954344113786%\n"
     ]
    },
    {
     "name": "stderr",
     "output_type": "stream",
     "text": [
      "100%|███████████████████████████████████████████████████████████████████████████████████████████████████████| 574/574 [00:47<00:00, 12.08it/s]\n",
      "100%|█████████████████████████████████████████████████████████████████████████████████████████████████████████| 79/79 [00:02<00:00, 33.75it/s]\n"
     ]
    },
    {
     "name": "stdout",
     "output_type": "stream",
     "text": [
      "Epoch 15/100, Loss: 0.0011930700529794549, Val_Recall: 98.19668834138459%\n"
     ]
    },
    {
     "name": "stderr",
     "output_type": "stream",
     "text": [
      "100%|███████████████████████████████████████████████████████████████████████████████████████████████████████| 574/574 [00:47<00:00, 12.08it/s]\n",
      "100%|█████████████████████████████████████████████████████████████████████████████████████████████████████████| 79/79 [00:02<00:00, 33.23it/s]\n"
     ]
    },
    {
     "name": "stdout",
     "output_type": "stream",
     "text": [
      "Epoch 16/100, Loss: 0.002079680848147536, Val_Recall: 98.00342232298931%\n"
     ]
    },
    {
     "name": "stderr",
     "output_type": "stream",
     "text": [
      "100%|███████████████████████████████████████████████████████████████████████████████████████████████████████| 574/574 [00:47<00:00, 12.10it/s]\n",
      "100%|█████████████████████████████████████████████████████████████████████████████████████████████████████████| 79/79 [00:02<00:00, 33.30it/s]\n"
     ]
    },
    {
     "name": "stdout",
     "output_type": "stream",
     "text": [
      "Epoch 17/100, Loss: 0.0009980408698429006, Val_Recall: 99.45947891359394%\n"
     ]
    },
    {
     "name": "stderr",
     "output_type": "stream",
     "text": [
      "100%|███████████████████████████████████████████████████████████████████████████████████████████████████████| 574/574 [00:47<00:00, 12.04it/s]\n",
      "100%|█████████████████████████████████████████████████████████████████████████████████████████████████████████| 79/79 [00:02<00:00, 33.42it/s]\n"
     ]
    },
    {
     "name": "stdout",
     "output_type": "stream",
     "text": [
      "Epoch 18/100, Loss: 0.0010803638184887457, Val_Recall: 98.85404870851553%\n"
     ]
    },
    {
     "name": "stderr",
     "output_type": "stream",
     "text": [
      "100%|███████████████████████████████████████████████████████████████████████████████████████████████████████| 574/574 [00:47<00:00, 12.09it/s]\n",
      "100%|█████████████████████████████████████████████████████████████████████████████████████████████████████████| 79/79 [00:02<00:00, 33.75it/s]\n"
     ]
    },
    {
     "name": "stdout",
     "output_type": "stream",
     "text": [
      "Epoch 19/100, Loss: 0.0011864823877627472, Val_Recall: 98.87765588509723%\n"
     ]
    },
    {
     "name": "stderr",
     "output_type": "stream",
     "text": [
      "100%|███████████████████████████████████████████████████████████████████████████████████████████████████████| 574/574 [00:47<00:00, 12.08it/s]\n",
      "100%|█████████████████████████████████████████████████████████████████████████████████████████████████████████| 79/79 [00:02<00:00, 33.42it/s]\n"
     ]
    },
    {
     "name": "stdout",
     "output_type": "stream",
     "text": [
      "Epoch 20/100, Loss: 0.00141394110460621, Val_Recall: 99.16928926539349%\n"
     ]
    },
    {
     "name": "stderr",
     "output_type": "stream",
     "text": [
      "100%|███████████████████████████████████████████████████████████████████████████████████████████████████████| 574/574 [00:47<00:00, 12.10it/s]\n",
      "100%|█████████████████████████████████████████████████████████████████████████████████████████████████████████| 79/79 [00:02<00:00, 33.28it/s]\n"
     ]
    },
    {
     "name": "stdout",
     "output_type": "stream",
     "text": [
      "Epoch 21/100, Loss: 0.0013756357361978477, Val_Recall: 98.22482665578075%\n"
     ]
    },
    {
     "name": "stderr",
     "output_type": "stream",
     "text": [
      "100%|███████████████████████████████████████████████████████████████████████████████████████████████████████| 574/574 [00:47<00:00, 12.03it/s]\n",
      "100%|█████████████████████████████████████████████████████████████████████████████████████████████████████████| 79/79 [00:02<00:00, 34.09it/s]\n"
     ]
    },
    {
     "name": "stdout",
     "output_type": "stream",
     "text": [
      "Epoch 22/100, Loss: 0.0011447725671576625, Val_Recall: 97.71302475462149%\n"
     ]
    },
    {
     "name": "stderr",
     "output_type": "stream",
     "text": [
      "100%|███████████████████████████████████████████████████████████████████████████████████████████████████████| 574/574 [00:47<00:00, 12.08it/s]\n",
      "100%|█████████████████████████████████████████████████████████████████████████████████████████████████████████| 79/79 [00:02<00:00, 33.29it/s]\n"
     ]
    },
    {
     "name": "stdout",
     "output_type": "stream",
     "text": [
      "Epoch 23/100, Loss: 0.0012298204624474076, Val_Recall: 98.87019876354614%\n"
     ]
    },
    {
     "name": "stderr",
     "output_type": "stream",
     "text": [
      "100%|███████████████████████████████████████████████████████████████████████████████████████████████████████| 574/574 [00:47<00:00, 12.08it/s]\n",
      "100%|█████████████████████████████████████████████████████████████████████████████████████████████████████████| 79/79 [00:02<00:00, 33.62it/s]\n"
     ]
    },
    {
     "name": "stdout",
     "output_type": "stream",
     "text": [
      "Epoch 24/100, Loss: 0.0012889820949540485, Val_Recall: 97.694999856708%\n"
     ]
    },
    {
     "name": "stderr",
     "output_type": "stream",
     "text": [
      "100%|███████████████████████████████████████████████████████████████████████████████████████████████████████| 574/574 [00:47<00:00, 12.08it/s]\n",
      "100%|█████████████████████████████████████████████████████████████████████████████████████████████████████████| 79/79 [00:02<00:00, 33.65it/s]\n"
     ]
    },
    {
     "name": "stdout",
     "output_type": "stream",
     "text": [
      "Epoch 25/100, Loss: 0.0018313911081459617, Val_Recall: 97.58046684948857%\n"
     ]
    },
    {
     "name": "stderr",
     "output_type": "stream",
     "text": [
      "100%|███████████████████████████████████████████████████████████████████████████████████████████████████████| 574/574 [00:47<00:00, 12.08it/s]\n",
      "100%|█████████████████████████████████████████████████████████████████████████████████████████████████████████| 79/79 [00:02<00:00, 33.91it/s]\n"
     ]
    },
    {
     "name": "stdout",
     "output_type": "stream",
     "text": [
      "Epoch 26/100, Loss: 0.0013808977097166874, Val_Recall: 98.35262991264396%\n"
     ]
    },
    {
     "name": "stderr",
     "output_type": "stream",
     "text": [
      "100%|███████████████████████████████████████████████████████████████████████████████████████████████████████| 574/574 [00:47<00:00, 12.08it/s]\n",
      "100%|█████████████████████████████████████████████████████████████████████████████████████████████████████████| 79/79 [00:02<00:00, 33.29it/s]\n"
     ]
    },
    {
     "name": "stdout",
     "output_type": "stream",
     "text": [
      "Epoch 27/100, Loss: 0.0007065749661621221, Val_Recall: 98.34494928063768%\n",
      "Model saved based on lowest validation loss.\n"
     ]
    },
    {
     "name": "stderr",
     "output_type": "stream",
     "text": [
      "100%|███████████████████████████████████████████████████████████████████████████████████████████████████████| 574/574 [00:47<00:00, 12.09it/s]\n",
      "100%|█████████████████████████████████████████████████████████████████████████████████████████████████████████| 79/79 [00:02<00:00, 33.70it/s]\n"
     ]
    },
    {
     "name": "stdout",
     "output_type": "stream",
     "text": [
      "Epoch 28/100, Loss: 0.0009390281458991047, Val_Recall: 97.25323803324505%\n"
     ]
    },
    {
     "name": "stderr",
     "output_type": "stream",
     "text": [
      "100%|███████████████████████████████████████████████████████████████████████████████████████████████████████| 574/574 [00:47<00:00, 12.10it/s]\n",
      "100%|█████████████████████████████████████████████████████████████████████████████████████████████████████████| 79/79 [00:02<00:00, 33.80it/s]\n"
     ]
    },
    {
     "name": "stdout",
     "output_type": "stream",
     "text": [
      "Epoch 29/100, Loss: 0.0016460702497690463, Val_Recall: 96.92351466388752%\n"
     ]
    },
    {
     "name": "stderr",
     "output_type": "stream",
     "text": [
      "100%|███████████████████████████████████████████████████████████████████████████████████████████████████████| 574/574 [00:47<00:00, 12.09it/s]\n",
      "100%|█████████████████████████████████████████████████████████████████████████████████████████████████████████| 79/79 [00:02<00:00, 33.86it/s]\n"
     ]
    },
    {
     "name": "stdout",
     "output_type": "stream",
     "text": [
      "Epoch 30/100, Loss: 0.0019109173759671884, Val_Recall: 96.93531825217838%\n"
     ]
    },
    {
     "name": "stderr",
     "output_type": "stream",
     "text": [
      "100%|███████████████████████████████████████████████████████████████████████████████████████████████████████| 574/574 [00:47<00:00, 12.09it/s]\n",
      "100%|█████████████████████████████████████████████████████████████████████████████████████████████████████████| 79/79 [00:02<00:00, 33.69it/s]\n"
     ]
    },
    {
     "name": "stdout",
     "output_type": "stream",
     "text": [
      "Epoch 31/100, Loss: 0.003114764965437861, Val_Recall: 94.66262555791687%\n"
     ]
    },
    {
     "name": "stderr",
     "output_type": "stream",
     "text": [
      "100%|███████████████████████████████████████████████████████████████████████████████████████████████████████| 574/574 [00:47<00:00, 12.09it/s]\n",
      "100%|█████████████████████████████████████████████████████████████████████████████████████████████████████████| 79/79 [00:02<00:00, 32.53it/s]\n"
     ]
    },
    {
     "name": "stdout",
     "output_type": "stream",
     "text": [
      "Epoch 32/100, Loss: 0.0020184054710709175, Val_Recall: 97.41729166713333%\n"
     ]
    },
    {
     "name": "stderr",
     "output_type": "stream",
     "text": [
      "100%|███████████████████████████████████████████████████████████████████████████████████████████████████████| 574/574 [00:47<00:00, 12.07it/s]\n",
      "100%|█████████████████████████████████████████████████████████████████████████████████████████████████████████| 79/79 [00:02<00:00, 33.89it/s]\n"
     ]
    },
    {
     "name": "stdout",
     "output_type": "stream",
     "text": [
      "Epoch 33/100, Loss: 0.0019558562022305606, Val_Recall: 96.93944120846292%\n"
     ]
    },
    {
     "name": "stderr",
     "output_type": "stream",
     "text": [
      "100%|███████████████████████████████████████████████████████████████████████████████████████████████████████| 574/574 [00:47<00:00, 12.08it/s]\n",
      "100%|█████████████████████████████████████████████████████████████████████████████████████████████████████████| 79/79 [00:02<00:00, 33.58it/s]\n"
     ]
    },
    {
     "name": "stdout",
     "output_type": "stream",
     "text": [
      "Epoch 34/100, Loss: 0.0013804343371247572, Val_Recall: 96.95457896202029%\n"
     ]
    },
    {
     "name": "stderr",
     "output_type": "stream",
     "text": [
      "100%|███████████████████████████████████████████████████████████████████████████████████████████████████████| 574/574 [00:47<00:00, 12.10it/s]\n",
      "100%|█████████████████████████████████████████████████████████████████████████████████████████████████████████| 79/79 [00:02<00:00, 32.52it/s]\n"
     ]
    },
    {
     "name": "stdout",
     "output_type": "stream",
     "text": [
      "Epoch 35/100, Loss: 0.002010574537840107, Val_Recall: 94.35173146777869%\n"
     ]
    },
    {
     "name": "stderr",
     "output_type": "stream",
     "text": [
      "100%|███████████████████████████████████████████████████████████████████████████████████████████████████████| 574/574 [00:47<00:00, 12.08it/s]\n",
      "100%|█████████████████████████████████████████████████████████████████████████████████████████████████████████| 79/79 [00:02<00:00, 33.41it/s]\n"
     ]
    },
    {
     "name": "stdout",
     "output_type": "stream",
     "text": [
      "Epoch 36/100, Loss: 0.0015517133605574668, Val_Recall: 96.30174973270381%\n"
     ]
    },
    {
     "name": "stderr",
     "output_type": "stream",
     "text": [
      "100%|███████████████████████████████████████████████████████████████████████████████████████████████████████| 574/574 [00:47<00:00, 12.08it/s]\n",
      "100%|█████████████████████████████████████████████████████████████████████████████████████████████████████████| 79/79 [00:02<00:00, 33.71it/s]\n"
     ]
    },
    {
     "name": "stdout",
     "output_type": "stream",
     "text": [
      "Epoch 37/100, Loss: 0.0014007497658435467, Val_Recall: 98.03883308786183%\n"
     ]
    },
    {
     "name": "stderr",
     "output_type": "stream",
     "text": [
      "100%|███████████████████████████████████████████████████████████████████████████████████████████████████████| 574/574 [00:47<00:00, 12.08it/s]\n",
      "100%|█████████████████████████████████████████████████████████████████████████████████████████████████████████| 79/79 [00:02<00:00, 33.97it/s]\n"
     ]
    },
    {
     "name": "stdout",
     "output_type": "stream",
     "text": [
      "Epoch 38/100, Loss: 0.0016569761274803504, Val_Recall: 97.54194542980473%\n"
     ]
    },
    {
     "name": "stderr",
     "output_type": "stream",
     "text": [
      "100%|███████████████████████████████████████████████████████████████████████████████████████████████████████| 574/574 [00:47<00:00, 12.09it/s]\n",
      "100%|█████████████████████████████████████████████████████████████████████████████████████████████████████████| 79/79 [00:02<00:00, 33.26it/s]\n"
     ]
    },
    {
     "name": "stdout",
     "output_type": "stream",
     "text": [
      "Epoch 39/100, Loss: 0.0010269154808931536, Val_Recall: 98.85506100998876%\n"
     ]
    },
    {
     "name": "stderr",
     "output_type": "stream",
     "text": [
      "100%|███████████████████████████████████████████████████████████████████████████████████████████████████████| 574/574 [00:47<00:00, 12.08it/s]\n",
      "100%|█████████████████████████████████████████████████████████████████████████████████████████████████████████| 79/79 [00:02<00:00, 33.76it/s]\n"
     ]
    },
    {
     "name": "stdout",
     "output_type": "stream",
     "text": [
      "Epoch 40/100, Loss: 0.0010036151447697544, Val_Recall: 98.23663024407159%\n"
     ]
    },
    {
     "name": "stderr",
     "output_type": "stream",
     "text": [
      "100%|███████████████████████████████████████████████████████████████████████████████████████████████████████| 574/574 [00:47<00:00, 12.08it/s]\n",
      "100%|█████████████████████████████████████████████████████████████████████████████████████████████████████████| 79/79 [00:02<00:00, 32.60it/s]\n"
     ]
    },
    {
     "name": "stdout",
     "output_type": "stream",
     "text": [
      "Epoch 41/100, Loss: 0.0007558149044216511, Val_Recall: 98.88200235183699%\n"
     ]
    },
    {
     "name": "stderr",
     "output_type": "stream",
     "text": [
      "100%|███████████████████████████████████████████████████████████████████████████████████████████████████████| 574/574 [00:47<00:00, 12.09it/s]\n",
      "100%|█████████████████████████████████████████████████████████████████████████████████████████████████████████| 79/79 [00:02<00:00, 32.99it/s]\n"
     ]
    },
    {
     "name": "stdout",
     "output_type": "stream",
     "text": [
      "Epoch 42/100, Loss: 0.0012391457062080414, Val_Recall: 98.20680175786725%\n"
     ]
    },
    {
     "name": "stderr",
     "output_type": "stream",
     "text": [
      "100%|███████████████████████████████████████████████████████████████████████████████████████████████████████| 574/574 [00:47<00:00, 12.09it/s]\n",
      "100%|█████████████████████████████████████████████████████████████████████████████████████████████████████████| 79/79 [00:02<00:00, 33.79it/s]\n"
     ]
    },
    {
     "name": "stdout",
     "output_type": "stream",
     "text": [
      "Epoch 43/100, Loss: 0.001322363392066949, Val_Recall: 97.59560460304596%\n"
     ]
    },
    {
     "name": "stderr",
     "output_type": "stream",
     "text": [
      "100%|███████████████████████████████████████████████████████████████████████████████████████████████████████| 574/574 [00:47<00:00, 12.08it/s]\n",
      "100%|█████████████████████████████████████████████████████████████████████████████████████████████████████████| 79/79 [00:02<00:00, 33.45it/s]\n"
     ]
    },
    {
     "name": "stdout",
     "output_type": "stream",
     "text": [
      "Epoch 44/100, Loss: 0.001200550550009916, Val_Recall: 98.71425719228677%\n"
     ]
    },
    {
     "name": "stderr",
     "output_type": "stream",
     "text": [
      "100%|███████████████████████████████████████████████████████████████████████████████████████████████████████| 574/574 [00:47<00:00, 12.08it/s]\n",
      "100%|█████████████████████████████████████████████████████████████████████████████████████████████████████████| 79/79 [00:02<00:00, 33.72it/s]\n"
     ]
    },
    {
     "name": "stdout",
     "output_type": "stream",
     "text": [
      "Epoch 45/100, Loss: 0.0007432156528052602, Val_Recall: 98.85093805370423%\n"
     ]
    },
    {
     "name": "stderr",
     "output_type": "stream",
     "text": [
      "100%|███████████████████████████████████████████████████████████████████████████████████████████████████████| 574/574 [00:47<00:00, 12.08it/s]\n",
      "100%|█████████████████████████████████████████████████████████████████████████████████████████████████████████| 79/79 [00:02<00:00, 33.66it/s]\n"
     ]
    },
    {
     "name": "stdout",
     "output_type": "stream",
     "text": [
      "Epoch 46/100, Loss: 0.0007293600403429592, Val_Recall: 98.8401467668866%\n"
     ]
    },
    {
     "name": "stderr",
     "output_type": "stream",
     "text": [
      "100%|███████████████████████████████████████████████████████████████████████████████████████████████████████| 574/574 [00:47<00:00, 12.10it/s]\n",
      "100%|█████████████████████████████████████████████████████████████████████████████████████████████████████████| 79/79 [00:02<00:00, 33.77it/s]\n"
     ]
    },
    {
     "name": "stdout",
     "output_type": "stream",
     "text": [
      "Epoch 47/100, Loss: 0.000720432593442938, Val_Recall: 98.86708810873482%\n"
     ]
    },
    {
     "name": "stderr",
     "output_type": "stream",
     "text": [
      "100%|███████████████████████████████████████████████████████████████████████████████████████████████████████| 574/574 [00:47<00:00, 12.08it/s]\n",
      "100%|█████████████████████████████████████████████████████████████████████████████████████████████████████████| 79/79 [00:02<00:00, 33.37it/s]\n"
     ]
    },
    {
     "name": "stdout",
     "output_type": "stream",
     "text": [
      "Epoch 48/100, Loss: 0.0008658690451090474, Val_Recall: 98.04752602134135%\n"
     ]
    },
    {
     "name": "stderr",
     "output_type": "stream",
     "text": [
      "100%|███████████████████████████████████████████████████████████████████████████████████████████████████████| 574/574 [00:47<00:00, 12.08it/s]\n",
      "100%|█████████████████████████████████████████████████████████████████████████████████████████████████████████| 79/79 [00:02<00:00, 33.90it/s]\n"
     ]
    },
    {
     "name": "stdout",
     "output_type": "stream",
     "text": [
      "Epoch 49/100, Loss: 0.0008906062553574416, Val_Recall: 98.69934294918461%\n"
     ]
    },
    {
     "name": "stderr",
     "output_type": "stream",
     "text": [
      "100%|███████████████████████████████████████████████████████████████████████████████████████████████████████| 574/574 [00:47<00:00, 12.08it/s]\n",
      "100%|█████████████████████████████████████████████████████████████████████████████████████████████████████████| 79/79 [00:02<00:00, 33.30it/s]\n"
     ]
    },
    {
     "name": "stdout",
     "output_type": "stream",
     "text": [
      "Epoch 50/100, Loss: 0.000685542341970969, Val_Recall: 98.69188582763351%\n",
      "Model saved based on lowest validation loss.\n"
     ]
    },
    {
     "name": "stderr",
     "output_type": "stream",
     "text": [
      "100%|███████████████████████████████████████████████████████████████████████████████████████████████████████| 574/574 [00:47<00:00, 12.12it/s]\n",
      "100%|█████████████████████████████████████████████████████████████████████████████████████████████████████████| 79/79 [00:02<00:00, 33.61it/s]\n"
     ]
    },
    {
     "name": "stdout",
     "output_type": "stream",
     "text": [
      "Epoch 51/100, Loss: 0.0011479609279099546, Val_Recall: 98.24843383236242%\n"
     ]
    },
    {
     "name": "stderr",
     "output_type": "stream",
     "text": [
      "100%|███████████████████████████████████████████████████████████████████████████████████████████████████████| 574/574 [00:47<00:00, 12.07it/s]\n",
      "100%|█████████████████████████████████████████████████████████████████████████████████████████████████████████| 79/79 [00:02<00:00, 33.24it/s]\n"
     ]
    },
    {
     "name": "stdout",
     "output_type": "stream",
     "text": [
      "Epoch 52/100, Loss: 0.0010068276303289814, Val_Recall: 98.68420519562724%\n"
     ]
    },
    {
     "name": "stderr",
     "output_type": "stream",
     "text": [
      "100%|███████████████████████████████████████████████████████████████████████████████████████████████████████| 574/574 [00:47<00:00, 11.99it/s]\n",
      "100%|█████████████████████████████████████████████████████████████████████████████████████████████████████████| 79/79 [00:02<00:00, 33.82it/s]\n"
     ]
    },
    {
     "name": "stdout",
     "output_type": "stream",
     "text": [
      "Epoch 53/100, Loss: 0.0009934071150205202, Val_Recall: 98.24408736562266%\n"
     ]
    },
    {
     "name": "stderr",
     "output_type": "stream",
     "text": [
      "100%|███████████████████████████████████████████████████████████████████████████████████████████████████████| 574/574 [00:47<00:00, 12.09it/s]\n",
      "100%|█████████████████████████████████████████████████████████████████████████████████████████████████████████| 79/79 [00:02<00:00, 33.48it/s]\n"
     ]
    },
    {
     "name": "stdout",
     "output_type": "stream",
     "text": [
      "Epoch 54/100, Loss: 0.0010754644224014707, Val_Recall: 97.92909356829259%\n"
     ]
    },
    {
     "name": "stderr",
     "output_type": "stream",
     "text": [
      "100%|███████████████████████████████████████████████████████████████████████████████████████████████████████| 574/574 [00:47<00:00, 12.10it/s]\n",
      "100%|█████████████████████████████████████████████████████████████████████████████████████████████████████████| 79/79 [00:02<00:00, 33.43it/s]\n"
     ]
    },
    {
     "name": "stdout",
     "output_type": "stream",
     "text": [
      "Epoch 55/100, Loss: 0.000878880338237932, Val_Recall: 98.5162365256218%\n"
     ]
    },
    {
     "name": "stderr",
     "output_type": "stream",
     "text": [
      "100%|███████████████████████████████████████████████████████████████████████████████████████████████████████| 574/574 [00:47<00:00, 12.10it/s]\n",
      "100%|█████████████████████████████████████████████████████████████████████████████████████████████████████████| 79/79 [00:02<00:00, 33.45it/s]\n"
     ]
    },
    {
     "name": "stdout",
     "output_type": "stream",
     "text": [
      "Epoch 56/100, Loss: 0.0008926249421301981, Val_Recall: 97.92163644674152%\n"
     ]
    },
    {
     "name": "stderr",
     "output_type": "stream",
     "text": [
      "100%|███████████████████████████████████████████████████████████████████████████████████████████████████████| 574/574 [00:47<00:00, 12.07it/s]\n",
      "100%|█████████████████████████████████████████████████████████████████████████████████████████████████████████| 79/79 [00:02<00:00, 33.74it/s]\n"
     ]
    },
    {
     "name": "stdout",
     "output_type": "stream",
     "text": [
      "Epoch 57/100, Loss: 0.0007121635849039197, Val_Recall: 98.84206044915%\n"
     ]
    },
    {
     "name": "stderr",
     "output_type": "stream",
     "text": [
      "100%|███████████████████████████████████████████████████████████████████████████████████████████████████████| 574/574 [00:47<00:00, 12.07it/s]\n",
      "100%|█████████████████████████████████████████████████████████████████████████████████████████████████████████| 79/79 [00:02<00:00, 33.50it/s]\n"
     ]
    },
    {
     "name": "stdout",
     "output_type": "stream",
     "text": [
      "Epoch 58/100, Loss: 0.001232421863826794, Val_Recall: 97.88000437224635%\n"
     ]
    },
    {
     "name": "stderr",
     "output_type": "stream",
     "text": [
      "100%|███████████████████████████████████████████████████████████████████████████████████████████████████████| 574/574 [00:47<00:00, 12.09it/s]\n",
      "100%|█████████████████████████████████████████████████████████████████████████████████████████████████████████| 79/79 [00:02<00:00, 33.52it/s]\n"
     ]
    },
    {
     "name": "stdout",
     "output_type": "stream",
     "text": [
      "Epoch 59/100, Loss: 0.0007395158254891177, Val_Recall: 99.1611772027646%\n"
     ]
    },
    {
     "name": "stderr",
     "output_type": "stream",
     "text": [
      "100%|███████████████████████████████████████████████████████████████████████████████████████████████████████| 574/574 [00:47<00:00, 12.07it/s]\n",
      "100%|█████████████████████████████████████████████████████████████████████████████████████████████████████████| 79/79 [00:02<00:00, 33.36it/s]\n"
     ]
    },
    {
     "name": "stdout",
     "output_type": "stream",
     "text": [
      "Epoch 60/100, Loss: 0.0013086216395189426, Val_Recall: 98.02826531149942%\n"
     ]
    },
    {
     "name": "stderr",
     "output_type": "stream",
     "text": [
      "100%|███████████████████████████████████████████████████████████████████████████████████████████████████████| 574/574 [00:47<00:00, 12.08it/s]\n",
      "100%|█████████████████████████████████████████████████████████████████████████████████████████████████████████| 79/79 [00:02<00:00, 33.37it/s]\n"
     ]
    },
    {
     "name": "stdout",
     "output_type": "stream",
     "text": [
      "Epoch 61/100, Loss: 0.0008346210880602459, Val_Recall: 98.69600878391806%\n"
     ]
    },
    {
     "name": "stderr",
     "output_type": "stream",
     "text": [
      "100%|███████████████████████████████████████████████████████████████████████████████████████████████████████| 574/574 [00:47<00:00, 12.09it/s]\n",
      "100%|█████████████████████████████████████████████████████████████████████████████████████████████████████████| 79/79 [00:02<00:00, 33.36it/s]\n"
     ]
    },
    {
     "name": "stdout",
     "output_type": "stream",
     "text": [
      "Epoch 62/100, Loss: 0.0010068949736829049, Val_Recall: 99.33579861301527%\n"
     ]
    },
    {
     "name": "stderr",
     "output_type": "stream",
     "text": [
      "100%|███████████████████████████████████████████████████████████████████████████████████████████████████████| 574/574 [00:47<00:00, 12.09it/s]\n",
      "100%|█████████████████████████████████████████████████████████████████████████████████████████████████████████| 79/79 [00:02<00:00, 32.78it/s]\n"
     ]
    },
    {
     "name": "stdout",
     "output_type": "stream",
     "text": [
      "Epoch 63/100, Loss: 0.0014681286917514944, Val_Recall: 99.48739371753489%\n"
     ]
    },
    {
     "name": "stderr",
     "output_type": "stream",
     "text": [
      "100%|███████████████████████████████████████████████████████████████████████████████████████████████████████| 574/574 [00:47<00:00, 12.10it/s]\n",
      "100%|█████████████████████████████████████████████████████████████████████████████████████████████████████████| 79/79 [00:02<00:00, 33.68it/s]\n"
     ]
    },
    {
     "name": "stdout",
     "output_type": "stream",
     "text": [
      "Epoch 64/100, Loss: 0.0012808799844417718, Val_Recall: 99.48428306272356%\n"
     ]
    },
    {
     "name": "stderr",
     "output_type": "stream",
     "text": [
      "100%|███████████████████████████████████████████████████████████████████████████████████████████████████████| 574/574 [00:47<00:00, 12.09it/s]\n",
      "100%|█████████████████████████████████████████████████████████████████████████████████████████████████████████| 79/79 [00:02<00:00, 33.48it/s]\n"
     ]
    },
    {
     "name": "stdout",
     "output_type": "stream",
     "text": [
      "Epoch 65/100, Loss: 0.0007502752110214858, Val_Recall: 98.67963521843225%\n"
     ]
    },
    {
     "name": "stderr",
     "output_type": "stream",
     "text": [
      "100%|███████████████████████████████████████████████████████████████████████████████████████████████████████| 574/574 [00:47<00:00, 12.07it/s]\n",
      "100%|█████████████████████████████████████████████████████████████████████████████████████████████████████████| 79/79 [00:02<00:00, 33.42it/s]\n"
     ]
    },
    {
     "name": "stdout",
     "output_type": "stream",
     "text": [
      "Epoch 66/100, Loss: 0.0010779070188183888, Val_Recall: 97.56532909593118%\n"
     ]
    },
    {
     "name": "stderr",
     "output_type": "stream",
     "text": [
      "100%|███████████████████████████████████████████████████████████████████████████████████████████████████████| 574/574 [00:47<00:00, 12.12it/s]\n",
      "100%|█████████████████████████████████████████████████████████████████████████████████████████████████████████| 79/79 [00:02<00:00, 33.35it/s]\n"
     ]
    },
    {
     "name": "stdout",
     "output_type": "stream",
     "text": [
      "Epoch 67/100, Loss: 0.0010764021685895774, Val_Recall: 98.18375986184839%\n"
     ]
    },
    {
     "name": "stderr",
     "output_type": "stream",
     "text": [
      "100%|███████████████████████████████████████████████████████████████████████████████████████████████████████| 574/574 [00:47<00:00, 12.08it/s]\n",
      "100%|█████████████████████████████████████████████████████████████████████████████████████████████████████████| 79/79 [00:02<00:00, 33.62it/s]\n"
     ]
    },
    {
     "name": "stdout",
     "output_type": "stream",
     "text": [
      "Epoch 68/100, Loss: 0.0009397077125428643, Val_Recall: 98.05809379770376%\n"
     ]
    },
    {
     "name": "stderr",
     "output_type": "stream",
     "text": [
      "100%|███████████████████████████████████████████████████████████████████████████████████████████████████████| 574/574 [00:47<00:00, 12.06it/s]\n",
      "100%|█████████████████████████████████████████████████████████████████████████████████████████████████████████| 79/79 [00:02<00:00, 33.55it/s]\n"
     ]
    },
    {
     "name": "stdout",
     "output_type": "stream",
     "text": [
      "Epoch 69/100, Loss: 0.0009686873336808631, Val_Recall: 98.68731585043857%\n"
     ]
    },
    {
     "name": "stderr",
     "output_type": "stream",
     "text": [
      "100%|███████████████████████████████████████████████████████████████████████████████████████████████████████| 574/574 [00:47<00:00, 12.08it/s]\n",
      "100%|█████████████████████████████████████████████████████████████████████████████████████████████████████████| 79/79 [00:02<00:00, 33.73it/s]\n"
     ]
    },
    {
     "name": "stdout",
     "output_type": "stream",
     "text": [
      "Epoch 70/100, Loss: 0.0009935613181290886, Val_Recall: 98.70657656028047%\n"
     ]
    },
    {
     "name": "stderr",
     "output_type": "stream",
     "text": [
      "100%|███████████████████████████████████████████████████████████████████████████████████████████████████████| 574/574 [00:47<00:00, 12.09it/s]\n",
      "100%|█████████████████████████████████████████████████████████████████████████████████████████████████████████| 79/79 [00:02<00:00, 33.52it/s]\n"
     ]
    },
    {
     "name": "stdout",
     "output_type": "stream",
     "text": [
      "Epoch 71/100, Loss: 0.0008814367329475761, Val_Recall: 98.22149249051422%\n"
     ]
    },
    {
     "name": "stderr",
     "output_type": "stream",
     "text": [
      "100%|███████████████████████████████████████████████████████████████████████████████████████████████████████| 574/574 [00:47<00:00, 12.09it/s]\n",
      "100%|█████████████████████████████████████████████████████████████████████████████████████████████████████████| 79/79 [00:02<00:00, 33.97it/s]\n"
     ]
    },
    {
     "name": "stdout",
     "output_type": "stream",
     "text": [
      "Epoch 72/100, Loss: 0.0010049053375585505, Val_Recall: 98.05809379770376%\n"
     ]
    },
    {
     "name": "stderr",
     "output_type": "stream",
     "text": [
      "100%|███████████████████████████████████████████████████████████████████████████████████████████████████████| 574/574 [00:47<00:00, 12.08it/s]\n",
      "100%|█████████████████████████████████████████████████████████████████████████████████████████████████████████| 79/79 [00:02<00:00, 33.81it/s]\n"
     ]
    },
    {
     "name": "stdout",
     "output_type": "stream",
     "text": [
      "Epoch 73/100, Loss: 0.0010055108858176107, Val_Recall: 98.22149249051422%\n"
     ]
    },
    {
     "name": "stderr",
     "output_type": "stream",
     "text": [
      "100%|███████████████████████████████████████████████████████████████████████████████████████████████████████| 574/574 [00:47<00:00, 12.08it/s]\n",
      "100%|█████████████████████████████████████████████████████████████████████████████████████████████████████████| 79/79 [00:02<00:00, 33.62it/s]\n"
     ]
    },
    {
     "name": "stdout",
     "output_type": "stream",
     "text": [
      "Epoch 74/100, Loss: 0.0008512706532041346, Val_Recall: 98.81099615101722%\n"
     ]
    },
    {
     "name": "stderr",
     "output_type": "stream",
     "text": [
      "100%|███████████████████████████████████████████████████████████████████████████████████████████████████████| 574/574 [00:47<00:00, 12.08it/s]\n",
      "100%|█████████████████████████████████████████████████████████████████████████████████████████████████████████| 79/79 [00:02<00:00, 33.66it/s]\n"
     ]
    },
    {
     "name": "stdout",
     "output_type": "stream",
     "text": [
      "Epoch 75/100, Loss: 0.000858152364659391, Val_Recall: 97.74408905275423%\n"
     ]
    },
    {
     "name": "stderr",
     "output_type": "stream",
     "text": [
      "100%|███████████████████████████████████████████████████████████████████████████████████████████████████████| 574/574 [00:47<00:00, 12.09it/s]\n",
      "100%|█████████████████████████████████████████████████████████████████████████████████████████████████████████| 79/79 [00:02<00:00, 33.55it/s]\n"
     ]
    },
    {
     "name": "stdout",
     "output_type": "stream",
     "text": [
      "Epoch 76/100, Loss: 0.0006543362033805471, Val_Recall: 98.3482834459042%\n",
      "Model saved based on lowest validation loss.\n"
     ]
    },
    {
     "name": "stderr",
     "output_type": "stream",
     "text": [
      "100%|███████████████████████████████████████████████████████████████████████████████████████████████████████| 574/574 [00:47<00:00, 12.07it/s]\n",
      "100%|█████████████████████████████████████████████████████████████████████████████████████████████████████████| 79/79 [00:02<00:00, 34.00it/s]\n"
     ]
    },
    {
     "name": "stdout",
     "output_type": "stream",
     "text": [
      "Epoch 77/100, Loss: 0.000762685165660124, Val_Recall: 98.07323155126113%\n"
     ]
    },
    {
     "name": "stderr",
     "output_type": "stream",
     "text": [
      "100%|███████████████████████████████████████████████████████████████████████████████████████████████████████| 574/574 [00:47<00:00, 12.09it/s]\n",
      "100%|█████████████████████████████████████████████████████████████████████████████████████████████████████████| 79/79 [00:02<00:00, 33.53it/s]\n"
     ]
    },
    {
     "name": "stdout",
     "output_type": "stream",
     "text": [
      "Epoch 78/100, Loss: 0.0015893392664686093, Val_Recall: 95.76904312824426%\n"
     ]
    },
    {
     "name": "stderr",
     "output_type": "stream",
     "text": [
      "100%|███████████████████████████████████████████████████████████████████████████████████████████████████████| 574/574 [00:47<00:00, 12.09it/s]\n",
      "100%|█████████████████████████████████████████████████████████████████████████████████████████████████████████| 79/79 [00:02<00:00, 33.73it/s]\n"
     ]
    },
    {
     "name": "stdout",
     "output_type": "stream",
     "text": [
      "Epoch 79/100, Loss: 0.000807981915118979, Val_Recall: 97.88246008597987%\n"
     ]
    },
    {
     "name": "stderr",
     "output_type": "stream",
     "text": [
      "100%|███████████████████████████████████████████████████████████████████████████████████████████████████████| 574/574 [00:47<00:00, 12.06it/s]\n",
      "100%|█████████████████████████████████████████████████████████████████████████████████████████████████████████| 79/79 [00:02<00:00, 33.13it/s]\n"
     ]
    },
    {
     "name": "stdout",
     "output_type": "stream",
     "text": [
      "Epoch 80/100, Loss: 0.0006922411356410897, Val_Recall: 98.87019876354614%\n"
     ]
    },
    {
     "name": "stderr",
     "output_type": "stream",
     "text": [
      "100%|███████████████████████████████████████████████████████████████████████████████████████████████████████| 574/574 [00:47<00:00, 12.11it/s]\n",
      "100%|█████████████████████████████████████████████████████████████████████████████████████████████████████████| 79/79 [00:02<00:00, 33.14it/s]\n"
     ]
    },
    {
     "name": "stdout",
     "output_type": "stream",
     "text": [
      "Epoch 81/100, Loss: 0.0013417117387036451, Val_Recall: 97.85551874413164%\n"
     ]
    },
    {
     "name": "stderr",
     "output_type": "stream",
     "text": [
      "100%|███████████████████████████████████████████████████████████████████████████████████████████████████████| 574/574 [00:47<00:00, 12.07it/s]\n",
      "100%|█████████████████████████████████████████████████████████████████████████████████████████████████████████| 79/79 [00:02<00:00, 33.50it/s]\n"
     ]
    },
    {
     "name": "stdout",
     "output_type": "stream",
     "text": [
      "Epoch 82/100, Loss: 0.0014614834047592558, Val_Recall: 97.3504084225981%\n"
     ]
    },
    {
     "name": "stderr",
     "output_type": "stream",
     "text": [
      "100%|███████████████████████████████████████████████████████████████████████████████████████████████████████| 574/574 [00:47<00:00, 12.07it/s]\n",
      "100%|█████████████████████████████████████████████████████████████████████████████████████████████████████████| 79/79 [00:02<00:00, 33.61it/s]\n"
     ]
    },
    {
     "name": "stdout",
     "output_type": "stream",
     "text": [
      "Epoch 83/100, Loss: 0.001379092244307671, Val_Recall: 98.31055081723838%\n"
     ]
    },
    {
     "name": "stderr",
     "output_type": "stream",
     "text": [
      "100%|███████████████████████████████████████████████████████████████████████████████████████████████████████| 574/574 [00:47<00:00, 12.09it/s]\n",
      "100%|█████████████████████████████████████████████████████████████████████████████████████████████████████████| 79/79 [00:02<00:00, 33.34it/s]\n"
     ]
    },
    {
     "name": "stdout",
     "output_type": "stream",
     "text": [
      "Epoch 84/100, Loss: 0.0017716071665150985, Val_Recall: 98.20991241267859%\n"
     ]
    },
    {
     "name": "stderr",
     "output_type": "stream",
     "text": [
      "100%|███████████████████████████████████████████████████████████████████████████████████████████████████████| 574/574 [00:47<00:00, 12.07it/s]\n",
      "100%|█████████████████████████████████████████████████████████████████████████████████████████████████████████| 79/79 [00:02<00:00, 33.96it/s]\n"
     ]
    },
    {
     "name": "stdout",
     "output_type": "stream",
     "text": [
      "Epoch 85/100, Loss: 0.0008922659235296136, Val_Recall: 98.15048628969446%\n"
     ]
    },
    {
     "name": "stderr",
     "output_type": "stream",
     "text": [
      "100%|███████████████████████████████████████████████████████████████████████████████████████████████████████| 574/574 [00:47<00:00, 12.08it/s]\n",
      "100%|█████████████████████████████████████████████████████████████████████████████████████████████████████████| 79/79 [00:02<00:00, 33.17it/s]\n"
     ]
    },
    {
     "name": "stdout",
     "output_type": "stream",
     "text": [
      "Epoch 86/100, Loss: 0.001102051523442181, Val_Recall: 98.33314569234682%\n"
     ]
    },
    {
     "name": "stderr",
     "output_type": "stream",
     "text": [
      "100%|███████████████████████████████████████████████████████████████████████████████████████████████████████| 574/574 [00:47<00:00, 12.06it/s]\n",
      "100%|█████████████████████████████████████████████████████████████████████████████████████████████████████████| 79/79 [00:02<00:00, 33.31it/s]\n"
     ]
    },
    {
     "name": "stdout",
     "output_type": "stream",
     "text": [
      "Epoch 87/100, Loss: 0.000759023832891181, Val_Recall: 98.0354989225953%\n"
     ]
    },
    {
     "name": "stderr",
     "output_type": "stream",
     "text": [
      "100%|███████████████████████████████████████████████████████████████████████████████████████████████████████| 574/574 [00:47<00:00, 12.07it/s]\n",
      "100%|█████████████████████████████████████████████████████████████████████████████████████████████████████████| 79/79 [00:02<00:00, 33.28it/s]\n"
     ]
    },
    {
     "name": "stdout",
     "output_type": "stream",
     "text": [
      "Epoch 88/100, Loss: 0.0008952182490417663, Val_Recall: 98.9934320432144%\n"
     ]
    },
    {
     "name": "stderr",
     "output_type": "stream",
     "text": [
      "100%|███████████████████████████████████████████████████████████████████████████████████████████████████████| 574/574 [00:47<00:00, 12.09it/s]\n",
      "100%|█████████████████████████████████████████████████████████████████████████████████████████████████████████| 79/79 [00:02<00:00, 33.47it/s]\n"
     ]
    },
    {
     "name": "stdout",
     "output_type": "stream",
     "text": [
      "Epoch 89/100, Loss: 0.0022551199291263964, Val_Recall: 98.013805428277%\n"
     ]
    },
    {
     "name": "stderr",
     "output_type": "stream",
     "text": [
      "100%|███████████████████████████████████████████████████████████████████████████████████████████████████████| 574/574 [00:47<00:00, 12.08it/s]\n",
      "100%|█████████████████████████████████████████████████████████████████████████████████████████████████████████| 79/79 [00:02<00:00, 33.16it/s]\n"
     ]
    },
    {
     "name": "stdout",
     "output_type": "stream",
     "text": [
      "Epoch 90/100, Loss: 0.0017589877391778774, Val_Recall: 97.9794069648777%\n"
     ]
    },
    {
     "name": "stderr",
     "output_type": "stream",
     "text": [
      "100%|███████████████████████████████████████████████████████████████████████████████████████████████████████| 574/574 [00:47<00:00, 12.06it/s]\n",
      "100%|█████████████████████████████████████████████████████████████████████████████████████████████████████████| 79/79 [00:02<00:00, 34.22it/s]\n"
     ]
    },
    {
     "name": "stdout",
     "output_type": "stream",
     "text": [
      "Epoch 91/100, Loss: 0.0013423553215433455, Val_Recall: 98.82591039411938%\n"
     ]
    },
    {
     "name": "stderr",
     "output_type": "stream",
     "text": [
      "100%|███████████████████████████████████████████████████████████████████████████████████████████████████████| 574/574 [00:47<00:00, 12.10it/s]\n",
      "100%|█████████████████████████████████████████████████████████████████████████████████████████████████████████| 79/79 [00:02<00:00, 33.77it/s]\n"
     ]
    },
    {
     "name": "stdout",
     "output_type": "stream",
     "text": [
      "Epoch 92/100, Loss: 0.0009701725746414183, Val_Recall: 98.83771398241022%\n"
     ]
    },
    {
     "name": "stderr",
     "output_type": "stream",
     "text": [
      "100%|███████████████████████████████████████████████████████████████████████████████████████████████████████| 574/574 [00:47<00:00, 12.07it/s]\n",
      "100%|█████████████████████████████████████████████████████████████████████████████████████████████████████████| 79/79 [00:02<00:00, 33.73it/s]\n"
     ]
    },
    {
     "name": "stdout",
     "output_type": "stream",
     "text": [
      "Epoch 93/100, Loss: 0.0010052883989841075, Val_Recall: 98.810772640562%\n"
     ]
    },
    {
     "name": "stderr",
     "output_type": "stream",
     "text": [
      "100%|███████████████████████████████████████████████████████████████████████████████████████████████████████| 574/574 [00:47<00:00, 12.05it/s]\n",
      "100%|█████████████████████████████████████████████████████████████████████████████████████████████████████████| 79/79 [00:02<00:00, 33.53it/s]\n"
     ]
    },
    {
     "name": "stdout",
     "output_type": "stream",
     "text": [
      "Epoch 94/100, Loss: 0.000881627628979647, Val_Recall: 98.82257622885285%\n"
     ]
    },
    {
     "name": "stderr",
     "output_type": "stream",
     "text": [
      "100%|███████████████████████████████████████████████████████████████████████████████████████████████████████| 574/574 [00:47<00:00, 12.09it/s]\n",
      "100%|█████████████████████████████████████████████████████████████████████████████████████████████████████████| 79/79 [00:02<00:00, 33.71it/s]\n"
     ]
    },
    {
     "name": "stdout",
     "output_type": "stream",
     "text": [
      "Epoch 95/100, Loss: 0.0019979153839971833, Val_Recall: 98.27770867570705%\n"
     ]
    },
    {
     "name": "stderr",
     "output_type": "stream",
     "text": [
      "100%|███████████████████████████████████████████████████████████████████████████████████████████████████████| 574/574 [00:47<00:00, 12.08it/s]\n",
      "100%|█████████████████████████████████████████████████████████████████████████████████████████████████████████| 79/79 [00:02<00:00, 33.43it/s]\n"
     ]
    },
    {
     "name": "stdout",
     "output_type": "stream",
     "text": [
      "Epoch 96/100, Loss: 0.0007759246826683601, Val_Recall: 99.6120863195868%\n"
     ]
    },
    {
     "name": "stderr",
     "output_type": "stream",
     "text": [
      "100%|███████████████████████████████████████████████████████████████████████████████████████████████████████| 574/574 [00:47<00:00, 12.07it/s]\n",
      "100%|█████████████████████████████████████████████████████████████████████████████████████████████████████████| 79/79 [00:02<00:00, 33.29it/s]\n"
     ]
    },
    {
     "name": "stdout",
     "output_type": "stream",
     "text": [
      "Epoch 97/100, Loss: 0.002207217125999397, Val_Recall: 96.73610061296546%\n"
     ]
    },
    {
     "name": "stderr",
     "output_type": "stream",
     "text": [
      "100%|███████████████████████████████████████████████████████████████████████████████████████████████████████| 574/574 [00:47<00:00, 12.08it/s]\n",
      "100%|█████████████████████████████████████████████████████████████████████████████████████████████████████████| 79/79 [00:02<00:00, 33.49it/s]\n"
     ]
    },
    {
     "name": "stdout",
     "output_type": "stream",
     "text": [
      "Epoch 98/100, Loss: 0.0008651583169388226, Val_Recall: 98.49476654175872%\n"
     ]
    },
    {
     "name": "stderr",
     "output_type": "stream",
     "text": [
      "100%|███████████████████████████████████████████████████████████████████████████████████████████████████████| 574/574 [00:47<00:00, 12.09it/s]\n",
      "100%|█████████████████████████████████████████████████████████████████████████████████████████████████████████| 79/79 [00:02<00:00, 33.02it/s]\n"
     ]
    },
    {
     "name": "stdout",
     "output_type": "stream",
     "text": [
      "Epoch 99/100, Loss: 0.00041152953497771366, Val_Recall: 99.841132445004%\n",
      "Model saved based on lowest validation loss.\n"
     ]
    },
    {
     "name": "stderr",
     "output_type": "stream",
     "text": [
      "100%|███████████████████████████████████████████████████████████████████████████████████████████████████████| 574/574 [00:47<00:00, 12.09it/s]\n",
      "100%|█████████████████████████████████████████████████████████████████████████████████████████████████████████| 79/79 [00:02<00:00, 33.81it/s]\n"
     ]
    },
    {
     "name": "stdout",
     "output_type": "stream",
     "text": [
      "Epoch 100/100, Loss: 0.000437052473769523, Val_Recall: 99.47439315669611%\n",
      "Loaded pretrained weights for efficientnet-b0\n"
     ]
    },
    {
     "name": "stderr",
     "output_type": "stream",
     "text": [
      "100%|███████████████████████████████████████████████████████████████████████████████████████████████████████| 574/574 [00:47<00:00, 12.07it/s]\n",
      "100%|█████████████████████████████████████████████████████████████████████████████████████████████████████████| 79/79 [00:02<00:00, 33.57it/s]\n"
     ]
    },
    {
     "name": "stdout",
     "output_type": "stream",
     "text": [
      "Epoch 1/100, Loss: 0.032824205558841364, Val_Recall: 64.97064888944087%\n",
      "Model saved based on lowest validation loss.\n"
     ]
    },
    {
     "name": "stderr",
     "output_type": "stream",
     "text": [
      "100%|███████████████████████████████████████████████████████████████████████████████████████████████████████| 574/574 [00:47<00:00, 12.08it/s]\n",
      "100%|█████████████████████████████████████████████████████████████████████████████████████████████████████████| 79/79 [00:02<00:00, 33.63it/s]\n"
     ]
    },
    {
     "name": "stdout",
     "output_type": "stream",
     "text": [
      "Epoch 2/100, Loss: 0.015356159121346295, Val_Recall: 77.64898618609658%\n",
      "Model saved based on lowest validation loss.\n"
     ]
    },
    {
     "name": "stderr",
     "output_type": "stream",
     "text": [
      "100%|███████████████████████████████████████████████████████████████████████████████████████████████████████| 574/574 [00:47<00:00, 12.07it/s]\n",
      "100%|█████████████████████████████████████████████████████████████████████████████████████████████████████████| 79/79 [00:02<00:00, 33.97it/s]\n"
     ]
    },
    {
     "name": "stdout",
     "output_type": "stream",
     "text": [
      "Epoch 3/100, Loss: 0.010274822765127225, Val_Recall: 80.24168338813517%\n",
      "Model saved based on lowest validation loss.\n"
     ]
    },
    {
     "name": "stderr",
     "output_type": "stream",
     "text": [
      "100%|███████████████████████████████████████████████████████████████████████████████████████████████████████| 574/574 [00:47<00:00, 12.11it/s]\n",
      "100%|█████████████████████████████████████████████████████████████████████████████████████████████████████████| 79/79 [00:02<00:00, 32.99it/s]\n"
     ]
    },
    {
     "name": "stdout",
     "output_type": "stream",
     "text": [
      "Epoch 4/100, Loss: 0.0073966579016259745, Val_Recall: 82.21051929457653%\n",
      "Model saved based on lowest validation loss.\n"
     ]
    },
    {
     "name": "stderr",
     "output_type": "stream",
     "text": [
      "100%|███████████████████████████████████████████████████████████████████████████████████████████████████████| 574/574 [00:47<00:00, 12.08it/s]\n",
      "100%|█████████████████████████████████████████████████████████████████████████████████████████████████████████| 79/79 [00:02<00:00, 33.42it/s]\n"
     ]
    },
    {
     "name": "stdout",
     "output_type": "stream",
     "text": [
      "Epoch 5/100, Loss: 0.0051721878960593074, Val_Recall: 85.52652352190891%\n",
      "Model saved based on lowest validation loss.\n"
     ]
    },
    {
     "name": "stderr",
     "output_type": "stream",
     "text": [
      "100%|███████████████████████████████████████████████████████████████████████████████████████████████████████| 574/574 [00:47<00:00, 12.01it/s]\n",
      "100%|█████████████████████████████████████████████████████████████████████████████████████████████████████████| 79/79 [00:02<00:00, 33.33it/s]\n"
     ]
    },
    {
     "name": "stdout",
     "output_type": "stream",
     "text": [
      "Epoch 6/100, Loss: 0.0036205516998616305, Val_Recall: 90.99936626257372%\n",
      "Model saved based on lowest validation loss.\n"
     ]
    },
    {
     "name": "stderr",
     "output_type": "stream",
     "text": [
      "100%|███████████████████████████████████████████████████████████████████████████████████████████████████████| 574/574 [00:47<00:00, 12.07it/s]\n",
      "100%|█████████████████████████████████████████████████████████████████████████████████████████████████████████| 79/79 [00:02<00:00, 33.20it/s]\n"
     ]
    },
    {
     "name": "stdout",
     "output_type": "stream",
     "text": [
      "Epoch 7/100, Loss: 0.0026511645692038127, Val_Recall: 95.10195459690341%\n",
      "Model saved based on lowest validation loss.\n"
     ]
    },
    {
     "name": "stderr",
     "output_type": "stream",
     "text": [
      "100%|███████████████████████████████████████████████████████████████████████████████████████████████████████| 574/574 [00:47<00:00, 12.11it/s]\n",
      "100%|█████████████████████████████████████████████████████████████████████████████████████████████████████████| 79/79 [00:02<00:00, 34.10it/s]\n"
     ]
    },
    {
     "name": "stdout",
     "output_type": "stream",
     "text": [
      "Epoch 8/100, Loss: 0.0021251145202008555, Val_Recall: 96.03729284241408%\n",
      "Model saved based on lowest validation loss.\n"
     ]
    },
    {
     "name": "stderr",
     "output_type": "stream",
     "text": [
      "100%|███████████████████████████████████████████████████████████████████████████████████████████████████████| 574/574 [00:47<00:00, 12.08it/s]\n",
      "100%|█████████████████████████████████████████████████████████████████████████████████████████████████████████| 79/79 [00:02<00:00, 33.87it/s]\n"
     ]
    },
    {
     "name": "stdout",
     "output_type": "stream",
     "text": [
      "Epoch 9/100, Loss: 0.001737306010955429, Val_Recall: 97.17955260823658%\n",
      "Model saved based on lowest validation loss.\n"
     ]
    },
    {
     "name": "stderr",
     "output_type": "stream",
     "text": [
      "100%|███████████████████████████████████████████████████████████████████████████████████████████████████████| 574/574 [00:47<00:00, 12.12it/s]\n",
      "100%|█████████████████████████████████████████████████████████████████████████████████████████████████████████| 79/79 [00:02<00:00, 33.42it/s]\n"
     ]
    },
    {
     "name": "stdout",
     "output_type": "stream",
     "text": [
      "Epoch 10/100, Loss: 0.0014880333377432985, Val_Recall: 98.14737563488313%\n",
      "Model saved based on lowest validation loss.\n"
     ]
    },
    {
     "name": "stderr",
     "output_type": "stream",
     "text": [
      "100%|███████████████████████████████████████████████████████████████████████████████████████████████████████| 574/574 [00:47<00:00, 12.08it/s]\n",
      "100%|█████████████████████████████████████████████████████████████████████████████████████████████████████████| 79/79 [00:02<00:00, 33.15it/s]\n"
     ]
    },
    {
     "name": "stdout",
     "output_type": "stream",
     "text": [
      "Epoch 11/100, Loss: 0.0013209065129581464, Val_Recall: 98.61732195109202%\n",
      "Model saved based on lowest validation loss.\n"
     ]
    },
    {
     "name": "stderr",
     "output_type": "stream",
     "text": [
      "100%|███████████████████████████████████████████████████████████████████████████████████████████████████████| 574/574 [00:47<00:00, 12.08it/s]\n",
      "100%|█████████████████████████████████████████████████████████████████████████████████████████████████████████| 79/79 [00:02<00:00, 33.24it/s]\n"
     ]
    },
    {
     "name": "stdout",
     "output_type": "stream",
     "text": [
      "Epoch 12/100, Loss: 0.0012464790948060794, Val_Recall: 98.64759745820676%\n",
      "Model saved based on lowest validation loss.\n"
     ]
    },
    {
     "name": "stderr",
     "output_type": "stream",
     "text": [
      "100%|███████████████████████████████████████████████████████████████████████████████████████████████████████| 574/574 [00:47<00:00, 12.10it/s]\n",
      "100%|█████████████████████████████████████████████████████████████████████████████████████████████████████████| 79/79 [00:02<00:00, 33.60it/s]\n"
     ]
    },
    {
     "name": "stdout",
     "output_type": "stream",
     "text": [
      "Epoch 13/100, Loss: 0.001213702752270192, Val_Recall: 98.81099615101722%\n",
      "Model saved based on lowest validation loss.\n"
     ]
    },
    {
     "name": "stderr",
     "output_type": "stream",
     "text": [
      "100%|███████████████████████████████████████████████████████████████████████████████████████████████████████| 574/574 [00:47<00:00, 12.10it/s]\n",
      "100%|█████████████████████████████████████████████████████████████████████████████████████████████████████████| 79/79 [00:02<00:00, 33.48it/s]\n"
     ]
    },
    {
     "name": "stdout",
     "output_type": "stream",
     "text": [
      "Epoch 14/100, Loss: 0.00116849716443217, Val_Recall: 98.03905659831705%\n",
      "Model saved based on lowest validation loss.\n"
     ]
    },
    {
     "name": "stderr",
     "output_type": "stream",
     "text": [
      "100%|███████████████████████████████████████████████████████████████████████████████████████████████████████| 574/574 [00:47<00:00, 12.09it/s]\n",
      "100%|█████████████████████████████████████████████████████████████████████████████████████████████████████████| 79/79 [00:02<00:00, 32.97it/s]\n"
     ]
    },
    {
     "name": "stdout",
     "output_type": "stream",
     "text": [
      "Epoch 15/100, Loss: 0.0010730964484456664, Val_Recall: 98.80353902946615%\n",
      "Model saved based on lowest validation loss.\n"
     ]
    },
    {
     "name": "stderr",
     "output_type": "stream",
     "text": [
      "100%|███████████████████████████████████████████████████████████████████████████████████████████████████████| 574/574 [00:47<00:00, 12.11it/s]\n",
      "100%|█████████████████████████████████████████████████████████████████████████████████████████████████████████| 79/79 [00:02<00:00, 33.53it/s]\n"
     ]
    },
    {
     "name": "stdout",
     "output_type": "stream",
     "text": [
      "Epoch 16/100, Loss: 0.001050464524058941, Val_Recall: 98.81099615101722%\n",
      "Model saved based on lowest validation loss.\n"
     ]
    },
    {
     "name": "stderr",
     "output_type": "stream",
     "text": [
      "100%|███████████████████████████████████████████████████████████████████████████████████████████████████████| 574/574 [00:47<00:00, 12.09it/s]\n",
      "100%|█████████████████████████████████████████████████████████████████████████████████████████████████████████| 79/79 [00:02<00:00, 33.37it/s]\n"
     ]
    },
    {
     "name": "stdout",
     "output_type": "stream",
     "text": [
      "Epoch 17/100, Loss: 0.0009867396148981438, Val_Recall: 98.9667142118214%\n",
      "Model saved based on lowest validation loss.\n"
     ]
    },
    {
     "name": "stderr",
     "output_type": "stream",
     "text": [
      "100%|███████████████████████████████████████████████████████████████████████████████████████████████████████| 574/574 [00:47<00:00, 12.08it/s]\n",
      "100%|█████████████████████████████████████████████████████████████████████████████████████████████████████████| 79/79 [00:02<00:00, 33.13it/s]\n"
     ]
    },
    {
     "name": "stdout",
     "output_type": "stream",
     "text": [
      "Epoch 18/100, Loss: 0.0009980033903416428, Val_Recall: 99.13033641508706%\n"
     ]
    },
    {
     "name": "stderr",
     "output_type": "stream",
     "text": [
      "100%|███████████████████████████████████████████████████████████████████████████████████████████████████████| 574/574 [00:47<00:00, 12.10it/s]\n",
      "100%|█████████████████████████████████████████████████████████████████████████████████████████████████████████| 79/79 [00:02<00:00, 33.65it/s]\n"
     ]
    },
    {
     "name": "stdout",
     "output_type": "stream",
     "text": [
      "Epoch 19/100, Loss: 0.000932595397654052, Val_Recall: 98.9667142118214%\n",
      "Model saved based on lowest validation loss.\n"
     ]
    },
    {
     "name": "stderr",
     "output_type": "stream",
     "text": [
      "100%|███████████████████████████████████████████████████████████████████████████████████████████████████████| 574/574 [00:47<00:00, 12.10it/s]\n",
      "100%|█████████████████████████████████████████████████████████████████████████████████████████████████████████| 79/79 [00:02<00:00, 33.25it/s]\n"
     ]
    },
    {
     "name": "stdout",
     "output_type": "stream",
     "text": [
      "Epoch 20/100, Loss: 0.0008977119829426015, Val_Recall: 98.79585839745985%\n",
      "Model saved based on lowest validation loss.\n"
     ]
    },
    {
     "name": "stderr",
     "output_type": "stream",
     "text": [
      "100%|███████████████████████████████████████████████████████████████████████████████████████████████████████| 574/574 [00:47<00:00, 12.08it/s]\n",
      "100%|█████████████████████████████████████████████████████████████████████████████████████████████████████████| 79/79 [00:02<00:00, 33.42it/s]\n"
     ]
    },
    {
     "name": "stdout",
     "output_type": "stream",
     "text": [
      "Epoch 21/100, Loss: 0.0008852942384988591, Val_Recall: 98.8184532725683%\n",
      "Model saved based on lowest validation loss.\n"
     ]
    },
    {
     "name": "stderr",
     "output_type": "stream",
     "text": [
      "100%|███████████████████████████████████████████████████████████████████████████████████████████████████████| 574/574 [00:47<00:00, 12.09it/s]\n",
      "100%|█████████████████████████████████████████████████████████████████████████████████████████████████████████| 79/79 [00:02<00:00, 33.94it/s]\n"
     ]
    },
    {
     "name": "stdout",
     "output_type": "stream",
     "text": [
      "Epoch 22/100, Loss: 0.0008335383599151562, Val_Recall: 99.78627629921486%\n",
      "Model saved based on lowest validation loss.\n"
     ]
    },
    {
     "name": "stderr",
     "output_type": "stream",
     "text": [
      "100%|███████████████████████████████████████████████████████████████████████████████████████████████████████| 574/574 [00:47<00:00, 12.06it/s]\n",
      "100%|█████████████████████████████████████████████████████████████████████████████████████████████████████████| 79/79 [00:02<00:00, 33.35it/s]\n"
     ]
    },
    {
     "name": "stdout",
     "output_type": "stream",
     "text": [
      "Epoch 23/100, Loss: 0.0009201689065465169, Val_Recall: 98.93977286997318%\n"
     ]
    },
    {
     "name": "stderr",
     "output_type": "stream",
     "text": [
      "100%|███████████████████████████████████████████████████████████████████████████████████████████████████████| 574/574 [00:47<00:00, 12.07it/s]\n",
      "100%|█████████████████████████████████████████████████████████████████████████████████████████████████████████| 79/79 [00:02<00:00, 33.36it/s]\n"
     ]
    },
    {
     "name": "stdout",
     "output_type": "stream",
     "text": [
      "Epoch 24/100, Loss: 0.0009690055545805287, Val_Recall: 98.95491062353055%\n"
     ]
    },
    {
     "name": "stderr",
     "output_type": "stream",
     "text": [
      "100%|███████████████████████████████████████████████████████████████████████████████████████████████████████| 574/574 [00:47<00:00, 12.09it/s]\n",
      "100%|█████████████████████████████████████████████████████████████████████████████████████████████████████████| 79/79 [00:02<00:00, 33.55it/s]\n"
     ]
    },
    {
     "name": "stdout",
     "output_type": "stream",
     "text": [
      "Epoch 25/100, Loss: 0.0008571585872045311, Val_Recall: 99.11497515107447%\n"
     ]
    },
    {
     "name": "stderr",
     "output_type": "stream",
     "text": [
      "100%|███████████████████████████████████████████████████████████████████████████████████████████████████████| 574/574 [00:47<00:00, 12.09it/s]\n",
      "100%|█████████████████████████████████████████████████████████████████████████████████████████████████████████| 79/79 [00:02<00:00, 33.84it/s]\n"
     ]
    },
    {
     "name": "stdout",
     "output_type": "stream",
     "text": [
      "Epoch 26/100, Loss: 0.0009138565651087331, Val_Recall: 99.10339507323883%\n"
     ]
    },
    {
     "name": "stderr",
     "output_type": "stream",
     "text": [
      "100%|███████████████████████████████████████████████████████████████████████████████████████████████████████| 574/574 [00:47<00:00, 12.08it/s]\n",
      "100%|█████████████████████████████████████████████████████████████████████████████████████████████████████████| 79/79 [00:02<00:00, 33.56it/s]\n"
     ]
    },
    {
     "name": "stdout",
     "output_type": "stream",
     "text": [
      "Epoch 27/100, Loss: 0.0009472574523256385, Val_Recall: 98.60551836280118%\n"
     ]
    },
    {
     "name": "stderr",
     "output_type": "stream",
     "text": [
      "100%|███████████████████████████████████████████████████████████████████████████████████████████████████████| 574/574 [00:47<00:00, 12.08it/s]\n",
      "100%|█████████████████████████████████████████████████████████████████████████████████████████████████████████| 79/79 [00:02<00:00, 33.49it/s]\n"
     ]
    },
    {
     "name": "stdout",
     "output_type": "stream",
     "text": [
      "Epoch 28/100, Loss: 0.0008987065090631076, Val_Recall: 98.95491062353055%\n"
     ]
    },
    {
     "name": "stderr",
     "output_type": "stream",
     "text": [
      "100%|███████████████████████████████████████████████████████████████████████████████████████████████████████| 574/574 [00:47<00:00, 12.07it/s]\n",
      "100%|█████████████████████████████████████████████████████████████████████████████████████████████████████████| 79/79 [00:02<00:00, 33.19it/s]\n"
     ]
    },
    {
     "name": "stdout",
     "output_type": "stream",
     "text": [
      "Epoch 29/100, Loss: 0.0009354931523920543, Val_Recall: 98.97004837708792%\n"
     ]
    },
    {
     "name": "stderr",
     "output_type": "stream",
     "text": [
      "100%|███████████████████████████████████████████████████████████████████████████████████████████████████████| 574/574 [00:47<00:00, 12.10it/s]\n",
      "100%|█████████████████████████████████████████████████████████████████████████████████████████████████████████| 79/79 [00:02<00:00, 33.42it/s]\n"
     ]
    },
    {
     "name": "stdout",
     "output_type": "stream",
     "text": [
      "Epoch 30/100, Loss: 0.0009163510808060175, Val_Recall: 99.13344706989838%\n"
     ]
    },
    {
     "name": "stderr",
     "output_type": "stream",
     "text": [
      "100%|███████████████████████████████████████████████████████████████████████████████████████████████████████| 574/574 [00:47<00:00, 12.09it/s]\n",
      "100%|█████████████████████████████████████████████████████████████████████████████████████████████████████████| 79/79 [00:02<00:00, 33.16it/s]\n"
     ]
    },
    {
     "name": "stdout",
     "output_type": "stream",
     "text": [
      "Epoch 31/100, Loss: 0.0009764252610396634, Val_Recall: 98.784054809169%\n"
     ]
    },
    {
     "name": "stderr",
     "output_type": "stream",
     "text": [
      "100%|███████████████████████████████████████████████████████████████████████████████████████████████████████| 574/574 [00:47<00:00, 12.08it/s]\n",
      "100%|█████████████████████████████████████████████████████████████████████████████████████████████████████████| 79/79 [00:02<00:00, 33.18it/s]\n"
     ]
    },
    {
     "name": "stdout",
     "output_type": "stream",
     "text": [
      "Epoch 32/100, Loss: 0.0008804373114011198, Val_Recall: 99.14525065818923%\n"
     ]
    },
    {
     "name": "stderr",
     "output_type": "stream",
     "text": [
      "100%|███████████████████████████████████████████████████████████████████████████████████████████████████████| 574/574 [00:47<00:00, 12.10it/s]\n",
      "100%|█████████████████████████████████████████████████████████████████████████████████████████████████████████| 79/79 [00:02<00:00, 33.34it/s]\n"
     ]
    },
    {
     "name": "stdout",
     "output_type": "stream",
     "text": [
      "Epoch 33/100, Loss: 0.0009055565981403889, Val_Recall: 98.97004837708792%\n"
     ]
    },
    {
     "name": "stderr",
     "output_type": "stream",
     "text": [
      "100%|███████████████████████████████████████████████████████████████████████████████████████████████████████| 574/574 [00:47<00:00, 12.12it/s]\n",
      "100%|█████████████████████████████████████████████████████████████████████████████████████████████████████████| 79/79 [00:02<00:00, 33.18it/s]\n"
     ]
    },
    {
     "name": "stdout",
     "output_type": "stream",
     "text": [
      "Epoch 34/100, Loss: 0.0008771510982311138, Val_Recall: 98.97004837708792%\n"
     ]
    },
    {
     "name": "stderr",
     "output_type": "stream",
     "text": [
      "100%|███████████████████████████████████████████████████████████████████████████████████████████████████████| 574/574 [00:47<00:00, 12.09it/s]\n",
      "100%|█████████████████████████████████████████████████████████████████████████████████████████████████████████| 79/79 [00:02<00:00, 33.23it/s]\n"
     ]
    },
    {
     "name": "stdout",
     "output_type": "stream",
     "text": [
      "Epoch 35/100, Loss: 0.0008728393148325356, Val_Recall: 99.77447271092402%\n"
     ]
    },
    {
     "name": "stderr",
     "output_type": "stream",
     "text": [
      "100%|███████████████████████████████████████████████████████████████████████████████████████████████████████| 574/574 [00:47<00:00, 12.07it/s]\n",
      "100%|█████████████████████████████████████████████████████████████████████████████████████████████████████████| 79/79 [00:02<00:00, 33.70it/s]\n"
     ]
    },
    {
     "name": "stdout",
     "output_type": "stream",
     "text": [
      "Epoch 36/100, Loss: 0.0008101081002935491, Val_Recall: 99.43253757174574%\n",
      "Model saved based on lowest validation loss.\n"
     ]
    },
    {
     "name": "stderr",
     "output_type": "stream",
     "text": [
      "100%|███████████████████████████████████████████████████████████████████████████████████████████████████████| 574/574 [00:47<00:00, 12.08it/s]\n",
      "100%|█████████████████████████████████████████████████████████████████████████████████████████████████████████| 79/79 [00:02<00:00, 34.03it/s]\n"
     ]
    },
    {
     "name": "stdout",
     "output_type": "stream",
     "text": [
      "Epoch 37/100, Loss: 0.0008132870288191518, Val_Recall: 99.61107401811357%\n"
     ]
    },
    {
     "name": "stderr",
     "output_type": "stream",
     "text": [
      "100%|███████████████████████████████████████████████████████████████████████████████████████████████████████| 574/574 [00:47<00:00, 12.09it/s]\n",
      "100%|█████████████████████████████████████████████████████████████████████████████████████████████████████████| 79/79 [00:02<00:00, 33.63it/s]\n"
     ]
    },
    {
     "name": "stdout",
     "output_type": "stream",
     "text": [
      "Epoch 38/100, Loss: 0.0008150351992533535, Val_Recall: 99.11085219478993%\n"
     ]
    },
    {
     "name": "stderr",
     "output_type": "stream",
     "text": [
      "100%|███████████████████████████████████████████████████████████████████████████████████████████████████████| 574/574 [00:47<00:00, 12.09it/s]\n",
      "100%|█████████████████████████████████████████████████████████████████████████████████████████████████████████| 79/79 [00:02<00:00, 32.70it/s]\n"
     ]
    },
    {
     "name": "stdout",
     "output_type": "stream",
     "text": [
      "Epoch 39/100, Loss: 0.0008249700872469939, Val_Recall: 99.75933495736665%\n"
     ]
    },
    {
     "name": "stderr",
     "output_type": "stream",
     "text": [
      "100%|███████████████████████████████████████████████████████████████████████████████████████████████████████| 574/574 [00:47<00:00, 12.09it/s]\n",
      "100%|█████████████████████████████████████████████████████████████████████████████████████████████████████████| 79/79 [00:02<00:00, 33.57it/s]\n"
     ]
    },
    {
     "name": "stdout",
     "output_type": "stream",
     "text": [
      "Epoch 40/100, Loss: 0.0008276688524059089, Val_Recall: 99.48428306272356%\n"
     ]
    },
    {
     "name": "stderr",
     "output_type": "stream",
     "text": [
      "100%|███████████████████████████████████████████████████████████████████████████████████████████████████████| 574/574 [00:47<00:00, 12.08it/s]\n",
      "100%|█████████████████████████████████████████████████████████████████████████████████████████████████████████| 79/79 [00:02<00:00, 33.03it/s]\n"
     ]
    },
    {
     "name": "stdout",
     "output_type": "stream",
     "text": [
      "Epoch 41/100, Loss: 0.0008736695269975872, Val_Recall: 99.4876172279901%\n"
     ]
    },
    {
     "name": "stderr",
     "output_type": "stream",
     "text": [
      "100%|███████████████████████████████████████████████████████████████████████████████████████████████████████| 574/574 [00:47<00:00, 12.07it/s]\n",
      "100%|█████████████████████████████████████████████████████████████████████████████████████████████████████████| 79/79 [00:02<00:00, 33.14it/s]\n"
     ]
    },
    {
     "name": "stdout",
     "output_type": "stream",
     "text": [
      "Epoch 42/100, Loss: 0.0008227924954330544, Val_Recall: 99.65101592080057%\n"
     ]
    },
    {
     "name": "stderr",
     "output_type": "stream",
     "text": [
      "100%|███████████████████████████████████████████████████████████████████████████████████████████████████████| 574/574 [00:47<00:00, 12.11it/s]\n",
      "100%|█████████████████████████████████████████████████████████████████████████████████████████████████████████| 79/79 [00:02<00:00, 33.59it/s]\n"
     ]
    },
    {
     "name": "stdout",
     "output_type": "stream",
     "text": [
      "Epoch 43/100, Loss: 0.0008291639650879847, Val_Recall: 99.65101592080057%\n"
     ]
    },
    {
     "name": "stderr",
     "output_type": "stream",
     "text": [
      "100%|███████████████████████████████████████████████████████████████████████████████████████████████████████| 574/574 [00:47<00:00, 12.10it/s]\n",
      "100%|█████████████████████████████████████████████████████████████████████████████████████████████████████████| 79/79 [00:02<00:00, 33.88it/s]\n"
     ]
    },
    {
     "name": "stdout",
     "output_type": "stream",
     "text": [
      "Epoch 44/100, Loss: 0.0007789237702242265, Val_Recall: 99.79927686005364%\n",
      "Model saved based on lowest validation loss.\n"
     ]
    },
    {
     "name": "stderr",
     "output_type": "stream",
     "text": [
      "100%|███████████████████████████████████████████████████████████████████████████████████████████████████████| 574/574 [00:47<00:00, 12.07it/s]\n",
      "100%|█████████████████████████████████████████████████████████████████████████████████████████████████████████| 79/79 [00:02<00:00, 33.57it/s]\n"
     ]
    },
    {
     "name": "stdout",
     "output_type": "stream",
     "text": [
      "Epoch 45/100, Loss: 0.0007570733129326423, Val_Recall: 99.65101592080057%\n",
      "Model saved based on lowest validation loss.\n"
     ]
    },
    {
     "name": "stderr",
     "output_type": "stream",
     "text": [
      "100%|███████████████████████████████████████████████████████████████████████████████████████████████████████| 574/574 [00:47<00:00, 12.09it/s]\n",
      "100%|█████████████████████████████████████████████████████████████████████████████████████████████████████████| 79/79 [00:02<00:00, 33.35it/s]\n"
     ]
    },
    {
     "name": "stdout",
     "output_type": "stream",
     "text": [
      "Epoch 46/100, Loss: 0.0007793462214731626, Val_Recall: 99.44767532530311%\n"
     ]
    },
    {
     "name": "stderr",
     "output_type": "stream",
     "text": [
      "100%|███████████████████████████████████████████████████████████████████████████████████████████████████████| 574/574 [00:47<00:00, 12.07it/s]\n",
      "100%|█████████████████████████████████████████████████████████████████████████████████████████████████████████| 79/79 [00:02<00:00, 33.34it/s]\n"
     ]
    },
    {
     "name": "stdout",
     "output_type": "stream",
     "text": [
      "Epoch 47/100, Loss: 0.000827043761704638, Val_Recall: 99.44767532530311%\n"
     ]
    },
    {
     "name": "stderr",
     "output_type": "stream",
     "text": [
      "100%|███████████████████████████████████████████████████████████████████████████████████████████████████████| 574/574 [00:47<00:00, 12.09it/s]\n",
      "100%|█████████████████████████████████████████████████████████████████████████████████████████████████████████| 79/79 [00:02<00:00, 33.32it/s]\n"
     ]
    },
    {
     "name": "stdout",
     "output_type": "stream",
     "text": [
      "Epoch 48/100, Loss: 0.0007746023802541324, Val_Recall: 99.65101592080057%\n"
     ]
    },
    {
     "name": "stderr",
     "output_type": "stream",
     "text": [
      "100%|███████████████████████████████████████████████████████████████████████████████████████████████████████| 574/574 [00:47<00:00, 12.07it/s]\n",
      "100%|█████████████████████████████████████████████████████████████████████████████████████████████████████████| 79/79 [00:02<00:00, 33.54it/s]\n"
     ]
    },
    {
     "name": "stdout",
     "output_type": "stream",
     "text": [
      "Epoch 49/100, Loss: 0.000749968418926587, Val_Recall: 99.77447271092402%\n",
      "Model saved based on lowest validation loss.\n"
     ]
    },
    {
     "name": "stderr",
     "output_type": "stream",
     "text": [
      "100%|███████████████████████████████████████████████████████████████████████████████████████████████████████| 574/574 [00:47<00:00, 12.07it/s]\n",
      "100%|█████████████████████████████████████████████████████████████████████████████████████████████████████████| 79/79 [00:02<00:00, 33.16it/s]\n"
     ]
    },
    {
     "name": "stdout",
     "output_type": "stream",
     "text": [
      "Epoch 50/100, Loss: 0.0008112679784500511, Val_Recall: 99.77447271092402%\n"
     ]
    },
    {
     "name": "stderr",
     "output_type": "stream",
     "text": [
      "100%|███████████████████████████████████████████████████████████████████████████████████████████████████████| 574/574 [00:47<00:00, 12.06it/s]\n",
      "100%|█████████████████████████████████████████████████████████████████████████████████████████████████████████| 79/79 [00:02<00:00, 33.25it/s]\n"
     ]
    },
    {
     "name": "stdout",
     "output_type": "stream",
     "text": [
      "Epoch 51/100, Loss: 0.0007358992200099699, Val_Recall: 99.77447271092402%\n",
      "Model saved based on lowest validation loss.\n"
     ]
    },
    {
     "name": "stderr",
     "output_type": "stream",
     "text": [
      "100%|███████████████████████████████████████████████████████████████████████████████████████████████████████| 574/574 [00:47<00:00, 12.08it/s]\n",
      "100%|█████████████████████████████████████████████████████████████████████████████████████████████████████████| 79/79 [00:02<00:00, 33.12it/s]\n"
     ]
    },
    {
     "name": "stdout",
     "output_type": "stream",
     "text": [
      "Epoch 52/100, Loss: 0.0006330445743303073, Val_Recall: 99.65101592080057%\n",
      "Model saved based on lowest validation loss.\n"
     ]
    },
    {
     "name": "stderr",
     "output_type": "stream",
     "text": [
      "100%|███████████████████████████████████████████████████████████████████████████████████████████████████████| 574/574 [00:47<00:00, 12.09it/s]\n",
      "100%|█████████████████████████████████████████████████████████████████████████████████████████████████████████| 79/79 [00:02<00:00, 33.27it/s]\n"
     ]
    },
    {
     "name": "stdout",
     "output_type": "stream",
     "text": [
      "Epoch 53/100, Loss: 0.0007417319826266314, Val_Recall: 99.32421853517964%\n"
     ]
    },
    {
     "name": "stderr",
     "output_type": "stream",
     "text": [
      "100%|███████████████████████████████████████████████████████████████████████████████████████████████████████| 574/574 [00:47<00:00, 12.02it/s]\n",
      "100%|█████████████████████████████████████████████████████████████████████████████████████████████████████████| 79/79 [00:02<00:00, 33.41it/s]\n"
     ]
    },
    {
     "name": "stdout",
     "output_type": "stream",
     "text": [
      "Epoch 54/100, Loss: 0.0007760239687292211, Val_Recall: 99.47247947443273%\n"
     ]
    },
    {
     "name": "stderr",
     "output_type": "stream",
     "text": [
      "100%|███████████████████████████████████████████████████████████████████████████████████████████████████████| 574/574 [00:47<00:00, 12.08it/s]\n",
      "100%|█████████████████████████████████████████████████████████████████████████████████████████████████████████| 79/79 [00:02<00:00, 33.46it/s]\n"
     ]
    },
    {
     "name": "stdout",
     "output_type": "stream",
     "text": [
      "Epoch 55/100, Loss: 0.0006941144845216691, Val_Recall: 99.5959362645562%\n"
     ]
    },
    {
     "name": "stderr",
     "output_type": "stream",
     "text": [
      "100%|███████████████████████████████████████████████████████████████████████████████████████████████████████| 574/574 [00:47<00:00, 12.08it/s]\n",
      "100%|█████████████████████████████████████████████████████████████████████████████████████████████████████████| 79/79 [00:02<00:00, 32.68it/s]\n"
     ]
    },
    {
     "name": "stdout",
     "output_type": "stream",
     "text": [
      "Epoch 56/100, Loss: 0.0007177552252602338, Val_Recall: 99.61107401811357%\n"
     ]
    },
    {
     "name": "stderr",
     "output_type": "stream",
     "text": [
      "100%|███████████████████████████████████████████████████████████████████████████████████████████████████████| 574/574 [00:47<00:00, 12.06it/s]\n",
      "100%|█████████████████████████████████████████████████████████████████████████████████████████████████████████| 79/79 [00:02<00:00, 33.16it/s]\n"
     ]
    },
    {
     "name": "stdout",
     "output_type": "stream",
     "text": [
      "Epoch 57/100, Loss: 0.0007873840716984341, Val_Recall: 99.5959362645562%\n"
     ]
    },
    {
     "name": "stderr",
     "output_type": "stream",
     "text": [
      "100%|███████████████████████████████████████████████████████████████████████████████████████████████████████| 574/574 [00:47<00:00, 12.07it/s]\n",
      "100%|█████████████████████████████████████████████████████████████████████████████████████████████████████████| 79/79 [00:02<00:00, 33.74it/s]\n"
     ]
    },
    {
     "name": "stdout",
     "output_type": "stream",
     "text": [
      "Epoch 58/100, Loss: 0.0006998807152209824, Val_Recall: 99.7711385456575%\n"
     ]
    },
    {
     "name": "stderr",
     "output_type": "stream",
     "text": [
      "100%|███████████████████████████████████████████████████████████████████████████████████████████████████████| 574/574 [00:47<00:00, 12.07it/s]\n",
      "100%|█████████████████████████████████████████████████████████████████████████████████████████████████████████| 79/79 [00:02<00:00, 33.41it/s]\n"
     ]
    },
    {
     "name": "stdout",
     "output_type": "stream",
     "text": [
      "Epoch 59/100, Loss: 0.0007355597763805572, Val_Recall: 99.75933495736665%\n"
     ]
    },
    {
     "name": "stderr",
     "output_type": "stream",
     "text": [
      "100%|███████████████████████████████████████████████████████████████████████████████████████████████████████| 574/574 [00:47<00:00, 12.11it/s]\n",
      "100%|█████████████████████████████████████████████████████████████████████████████████████████████████████████| 79/79 [00:02<00:00, 33.42it/s]\n"
     ]
    },
    {
     "name": "stdout",
     "output_type": "stream",
     "text": [
      "Epoch 60/100, Loss: 0.0007195922036054914, Val_Recall: 99.5959362645562%\n"
     ]
    },
    {
     "name": "stderr",
     "output_type": "stream",
     "text": [
      "100%|███████████████████████████████████████████████████████████████████████████████████████████████████████| 574/574 [00:47<00:00, 12.09it/s]\n",
      "100%|█████████████████████████████████████████████████████████████████████████████████████████████████████████| 79/79 [00:02<00:00, 33.32it/s]\n"
     ]
    },
    {
     "name": "stdout",
     "output_type": "stream",
     "text": [
      "Epoch 61/100, Loss: 0.0008018436807505513, Val_Recall: 99.75933495736665%\n"
     ]
    },
    {
     "name": "stderr",
     "output_type": "stream",
     "text": [
      "100%|███████████████████████████████████████████████████████████████████████████████████████████████████████| 574/574 [00:47<00:00, 12.08it/s]\n",
      "100%|█████████████████████████████████████████████████████████████████████████████████████████████████████████| 79/79 [00:02<00:00, 33.59it/s]\n"
     ]
    },
    {
     "name": "stdout",
     "output_type": "stream",
     "text": [
      "Epoch 62/100, Loss: 0.0007333879689828268, Val_Recall: 99.75933495736665%\n"
     ]
    },
    {
     "name": "stderr",
     "output_type": "stream",
     "text": [
      "100%|███████████████████████████████████████████████████████████████████████████████████████████████████████| 574/574 [00:47<00:00, 12.09it/s]\n",
      "100%|█████████████████████████████████████████████████████████████████████████████████████████████████████████| 79/79 [00:02<00:00, 33.37it/s]\n"
     ]
    },
    {
     "name": "stdout",
     "output_type": "stream",
     "text": [
      "Epoch 63/100, Loss: 0.0007301458047573408, Val_Recall: 99.60339338610726%\n"
     ]
    },
    {
     "name": "stderr",
     "output_type": "stream",
     "text": [
      "100%|███████████████████████████████████████████████████████████████████████████████████████████████████████| 574/574 [00:47<00:00, 12.09it/s]\n",
      "100%|█████████████████████████████████████████████████████████████████████████████████████████████████████████| 79/79 [00:02<00:00, 33.29it/s]\n"
     ]
    },
    {
     "name": "stdout",
     "output_type": "stream",
     "text": [
      "Epoch 64/100, Loss: 0.0008318666163528292, Val_Recall: 99.76679207891772%\n"
     ]
    },
    {
     "name": "stderr",
     "output_type": "stream",
     "text": [
      "100%|███████████████████████████████████████████████████████████████████████████████████████████████████████| 574/574 [00:47<00:00, 12.08it/s]\n",
      "100%|█████████████████████████████████████████████████████████████████████████████████████████████████████████| 79/79 [00:02<00:00, 33.01it/s]\n"
     ]
    },
    {
     "name": "stdout",
     "output_type": "stream",
     "text": [
      "Epoch 65/100, Loss: 0.0008634113187892386, Val_Recall: 99.60339338610726%\n"
     ]
    },
    {
     "name": "stderr",
     "output_type": "stream",
     "text": [
      "100%|███████████████████████████████████████████████████████████████████████████████████████████████████████| 574/574 [00:47<00:00, 12.08it/s]\n",
      "100%|█████████████████████████████████████████████████████████████████████████████████████████████████████████| 79/79 [00:02<00:00, 33.20it/s]\n"
     ]
    },
    {
     "name": "stdout",
     "output_type": "stream",
     "text": [
      "Epoch 66/100, Loss: 0.0008521198570375626, Val_Recall: 99.60339338610726%\n"
     ]
    },
    {
     "name": "stderr",
     "output_type": "stream",
     "text": [
      "100%|███████████████████████████████████████████████████████████████████████████████████████████████████████| 574/574 [00:47<00:00, 12.08it/s]\n",
      "100%|█████████████████████████████████████████████████████████████████████████████████████████████████████████| 79/79 [00:02<00:00, 32.81it/s]\n"
     ]
    },
    {
     "name": "stdout",
     "output_type": "stream",
     "text": [
      "Epoch 67/100, Loss: 0.0009111227376768343, Val_Recall: 99.43999469329681%\n"
     ]
    },
    {
     "name": "stderr",
     "output_type": "stream",
     "text": [
      "100%|███████████████████████████████████████████████████████████████████████████████████████████████████████| 574/574 [00:47<00:00, 12.09it/s]\n",
      "100%|█████████████████████████████████████████████████████████████████████████████████████████████████████████| 79/79 [00:02<00:00, 33.74it/s]\n"
     ]
    },
    {
     "name": "stdout",
     "output_type": "stream",
     "text": [
      "Epoch 68/100, Loss: 0.0007823861708905548, Val_Recall: 99.43999469329681%\n"
     ]
    },
    {
     "name": "stderr",
     "output_type": "stream",
     "text": [
      "100%|███████████████████████████████████████████████████████████████████████████████████████████████████████| 574/574 [00:47<00:00, 12.07it/s]\n",
      "100%|█████████████████████████████████████████████████████████████████████████████████████████████████████████| 79/79 [00:02<00:00, 33.49it/s]\n"
     ]
    },
    {
     "name": "stdout",
     "output_type": "stream",
     "text": [
      "Epoch 69/100, Loss: 0.000750956115954966, Val_Recall: 99.27659600048635%\n"
     ]
    },
    {
     "name": "stderr",
     "output_type": "stream",
     "text": [
      "100%|███████████████████████████████████████████████████████████████████████████████████████████████████████| 574/574 [00:47<00:00, 12.09it/s]\n",
      "100%|█████████████████████████████████████████████████████████████████████████████████████████████████████████| 79/79 [00:02<00:00, 33.93it/s]\n"
     ]
    },
    {
     "name": "stdout",
     "output_type": "stream",
     "text": [
      "Epoch 70/100, Loss: 0.0008735328474472991, Val_Recall: 99.42485693973944%\n"
     ]
    },
    {
     "name": "stderr",
     "output_type": "stream",
     "text": [
      "100%|███████████████████████████████████████████████████████████████████████████████████████████████████████| 574/574 [00:47<00:00, 12.08it/s]\n",
      "100%|█████████████████████████████████████████████████████████████████████████████████████████████████████████| 79/79 [00:02<00:00, 33.62it/s]\n"
     ]
    },
    {
     "name": "stdout",
     "output_type": "stream",
     "text": [
      "Epoch 71/100, Loss: 0.000739334398206945, Val_Recall: 99.60339338610726%\n"
     ]
    },
    {
     "name": "stderr",
     "output_type": "stream",
     "text": [
      "100%|███████████████████████████████████████████████████████████████████████████████████████████████████████| 574/574 [00:47<00:00, 12.10it/s]\n",
      "100%|█████████████████████████████████████████████████████████████████████████████████████████████████████████| 79/79 [00:02<00:00, 33.41it/s]\n"
     ]
    },
    {
     "name": "stdout",
     "output_type": "stream",
     "text": [
      "Epoch 72/100, Loss: 0.0007074521618885885, Val_Recall: 99.76679207891772%\n"
     ]
    },
    {
     "name": "stderr",
     "output_type": "stream",
     "text": [
      "100%|███████████████████████████████████████████████████████████████████████████████████████████████████████| 574/574 [00:47<00:00, 12.09it/s]\n",
      "100%|█████████████████████████████████████████████████████████████████████████████████████████████████████████| 79/79 [00:02<00:00, 33.41it/s]\n"
     ]
    },
    {
     "name": "stdout",
     "output_type": "stream",
     "text": [
      "Epoch 73/100, Loss: 0.0008288081197083692, Val_Recall: 99.27659600048635%\n"
     ]
    },
    {
     "name": "stderr",
     "output_type": "stream",
     "text": [
      "100%|███████████████████████████████████████████████████████████████████████████████████████████████████████| 574/574 [00:47<00:00, 12.10it/s]\n",
      "100%|█████████████████████████████████████████████████████████████████████████████████████████████████████████| 79/79 [00:02<00:00, 33.68it/s]\n"
     ]
    },
    {
     "name": "stdout",
     "output_type": "stream",
     "text": [
      "Epoch 74/100, Loss: 0.000745459802488656, Val_Recall: 99.43253757174574%\n"
     ]
    },
    {
     "name": "stderr",
     "output_type": "stream",
     "text": [
      "100%|███████████████████████████████████████████████████████████████████████████████████████████████████████| 574/574 [00:47<00:00, 12.10it/s]\n",
      "100%|█████████████████████████████████████████████████████████████████████████████████████████████████████████| 79/79 [00:02<00:00, 33.21it/s]\n"
     ]
    },
    {
     "name": "stdout",
     "output_type": "stream",
     "text": [
      "Epoch 75/100, Loss: 0.0007494083886977125, Val_Recall: 99.44434116003657%\n"
     ]
    },
    {
     "name": "stderr",
     "output_type": "stream",
     "text": [
      "100%|███████████████████████████████████████████████████████████████████████████████████████████████████████| 574/574 [00:47<00:00, 12.09it/s]\n",
      "100%|█████████████████████████████████████████████████████████████████████████████████████████████████████████| 79/79 [00:02<00:00, 33.26it/s]\n"
     ]
    },
    {
     "name": "stdout",
     "output_type": "stream",
     "text": [
      "Epoch 76/100, Loss: 0.0007539235709088963, Val_Recall: 99.45513244685418%\n"
     ]
    },
    {
     "name": "stderr",
     "output_type": "stream",
     "text": [
      "100%|███████████████████████████████████████████████████████████████████████████████████████████████████████| 574/574 [00:47<00:00, 12.08it/s]\n",
      "100%|█████████████████████████████████████████████████████████████████████████████████████████████████████████| 79/79 [00:02<00:00, 33.04it/s]\n"
     ]
    },
    {
     "name": "stdout",
     "output_type": "stream",
     "text": [
      "Epoch 77/100, Loss: 0.000755696575891288, Val_Recall: 99.44767532530311%\n"
     ]
    },
    {
     "name": "stderr",
     "output_type": "stream",
     "text": [
      "100%|███████████████████████████████████████████████████████████████████████████████████████████████████████| 574/574 [00:47<00:00, 12.11it/s]\n",
      "100%|█████████████████████████████████████████████████████████████████████████████████████████████████████████| 79/79 [00:02<00:00, 33.09it/s]\n"
     ]
    },
    {
     "name": "stdout",
     "output_type": "stream",
     "text": [
      "Epoch 78/100, Loss: 0.0007459690154900189, Val_Recall: 99.45947891359394%\n"
     ]
    },
    {
     "name": "stderr",
     "output_type": "stream",
     "text": [
      "100%|███████████████████████████████████████████████████████████████████████████████████████████████████████| 574/574 [00:47<00:00, 12.10it/s]\n",
      "100%|█████████████████████████████████████████████████████████████████████████████████████████████████████████| 79/79 [00:02<00:00, 33.38it/s]\n"
     ]
    },
    {
     "name": "stdout",
     "output_type": "stream",
     "text": [
      "Epoch 79/100, Loss: 0.0007381021697068365, Val_Recall: 99.63033472795547%\n"
     ]
    },
    {
     "name": "stderr",
     "output_type": "stream",
     "text": [
      "100%|███████████████████████████████████████████████████████████████████████████████████████████████████████| 574/574 [00:47<00:00, 12.09it/s]\n",
      "100%|█████████████████████████████████████████████████████████████████████████████████████████████████████████| 79/79 [00:02<00:00, 33.17it/s]\n"
     ]
    },
    {
     "name": "stdout",
     "output_type": "stream",
     "text": [
      "Epoch 80/100, Loss: 0.0007477593817398835, Val_Recall: 99.79373342076595%\n"
     ]
    },
    {
     "name": "stderr",
     "output_type": "stream",
     "text": [
      "100%|███████████████████████████████████████████████████████████████████████████████████████████████████████| 574/574 [00:47<00:00, 12.07it/s]\n",
      "100%|█████████████████████████████████████████████████████████████████████████████████████████████████████████| 79/79 [00:02<00:00, 33.42it/s]\n"
     ]
    },
    {
     "name": "stdout",
     "output_type": "stream",
     "text": [
      "Epoch 81/100, Loss: 0.0008033558773285284, Val_Recall: 99.14090419144947%\n"
     ]
    },
    {
     "name": "stderr",
     "output_type": "stream",
     "text": [
      "100%|███████████████████████████████████████████████████████████████████████████████████████████████████████| 574/574 [00:47<00:00, 12.07it/s]\n",
      "100%|█████████████████████████████████████████████████████████████████████████████████████████████████████████| 79/79 [00:02<00:00, 33.24it/s]\n"
     ]
    },
    {
     "name": "stdout",
     "output_type": "stream",
     "text": [
      "Epoch 82/100, Loss: 0.0007154241848239005, Val_Recall: 99.79373342076595%\n",
      "Early stopping\n",
      "Loaded pretrained weights for efficientnet-b0\n"
     ]
    },
    {
     "name": "stderr",
     "output_type": "stream",
     "text": [
      "100%|███████████████████████████████████████████████████████████████████████████████████████████████████████| 574/574 [00:47<00:00, 12.07it/s]\n",
      "100%|█████████████████████████████████████████████████████████████████████████████████████████████████████████| 79/79 [00:02<00:00, 33.76it/s]\n"
     ]
    },
    {
     "name": "stdout",
     "output_type": "stream",
     "text": [
      "Epoch 1/100, Loss: 0.03181072599785049, Val_Recall: 64.81714773514918%\n",
      "Model saved based on lowest validation loss.\n"
     ]
    },
    {
     "name": "stderr",
     "output_type": "stream",
     "text": [
      "100%|███████████████████████████████████████████████████████████████████████████████████████████████████████| 574/574 [00:47<00:00, 12.06it/s]\n",
      "100%|█████████████████████████████████████████████████████████████████████████████████████████████████████████| 79/79 [00:02<00:00, 33.30it/s]\n"
     ]
    },
    {
     "name": "stdout",
     "output_type": "stream",
     "text": [
      "Epoch 2/100, Loss: 0.01564374278871272, Val_Recall: 77.20252053549848%\n",
      "Model saved based on lowest validation loss.\n"
     ]
    },
    {
     "name": "stderr",
     "output_type": "stream",
     "text": [
      "100%|███████████████████████████████████████████████████████████████████████████████████████████████████████| 574/574 [00:47<00:00, 12.07it/s]\n",
      "100%|█████████████████████████████████████████████████████████████████████████████████████████████████████████| 79/79 [00:02<00:00, 33.48it/s]\n"
     ]
    },
    {
     "name": "stdout",
     "output_type": "stream",
     "text": [
      "Epoch 3/100, Loss: 0.010723969107051675, Val_Recall: 80.30279968292747%\n",
      "Model saved based on lowest validation loss.\n"
     ]
    },
    {
     "name": "stderr",
     "output_type": "stream",
     "text": [
      "100%|███████████████████████████████████████████████████████████████████████████████████████████████████████| 574/574 [00:47<00:00, 12.05it/s]\n",
      "100%|█████████████████████████████████████████████████████████████████████████████████████████████████████████| 79/79 [00:02<00:00, 33.31it/s]\n"
     ]
    },
    {
     "name": "stdout",
     "output_type": "stream",
     "text": [
      "Epoch 4/100, Loss: 0.007861879466895804, Val_Recall: 82.71797472899604%\n",
      "Model saved based on lowest validation loss.\n"
     ]
    },
    {
     "name": "stderr",
     "output_type": "stream",
     "text": [
      "100%|███████████████████████████████████████████████████████████████████████████████████████████████████████| 574/574 [00:47<00:00, 12.08it/s]\n",
      "100%|█████████████████████████████████████████████████████████████████████████████████████████████████████████| 79/79 [00:02<00:00, 32.99it/s]\n"
     ]
    },
    {
     "name": "stdout",
     "output_type": "stream",
     "text": [
      "Epoch 5/100, Loss: 0.0054626380933538565, Val_Recall: 84.99790103435342%\n",
      "Model saved based on lowest validation loss.\n"
     ]
    },
    {
     "name": "stderr",
     "output_type": "stream",
     "text": [
      "100%|███████████████████████████████████████████████████████████████████████████████████████████████████████| 574/574 [00:47<00:00, 12.06it/s]\n",
      "100%|█████████████████████████████████████████████████████████████████████████████████████████████████████████| 79/79 [00:02<00:00, 32.66it/s]\n"
     ]
    },
    {
     "name": "stdout",
     "output_type": "stream",
     "text": [
      "Epoch 6/100, Loss: 0.003621144254126032, Val_Recall: 89.69823894175524%\n",
      "Model saved based on lowest validation loss.\n"
     ]
    },
    {
     "name": "stderr",
     "output_type": "stream",
     "text": [
      "100%|███████████████████████████████████████████████████████████████████████████████████████████████████████| 574/574 [00:47<00:00, 12.07it/s]\n",
      "100%|█████████████████████████████████████████████████████████████████████████████████████████████████████████| 79/79 [00:02<00:00, 33.40it/s]\n"
     ]
    },
    {
     "name": "stdout",
     "output_type": "stream",
     "text": [
      "Epoch 7/100, Loss: 0.00269553441034123, Val_Recall: 93.58415001952136%\n",
      "Model saved based on lowest validation loss.\n"
     ]
    },
    {
     "name": "stderr",
     "output_type": "stream",
     "text": [
      "100%|███████████████████████████████████████████████████████████████████████████████████████████████████████| 574/574 [00:47<00:00, 12.06it/s]\n",
      "100%|█████████████████████████████████████████████████████████████████████████████████████████████████████████| 79/79 [00:02<00:00, 33.21it/s]\n"
     ]
    },
    {
     "name": "stdout",
     "output_type": "stream",
     "text": [
      "Epoch 8/100, Loss: 0.0021481955009451815, Val_Recall: 96.3234548647252%\n",
      "Model saved based on lowest validation loss.\n"
     ]
    },
    {
     "name": "stderr",
     "output_type": "stream",
     "text": [
      "100%|███████████████████████████████████████████████████████████████████████████████████████████████████████| 574/574 [00:47<00:00, 12.05it/s]\n",
      "100%|█████████████████████████████████████████████████████████████████████████████████████████████████████████| 79/79 [00:02<00:00, 33.26it/s]\n"
     ]
    },
    {
     "name": "stdout",
     "output_type": "stream",
     "text": [
      "Epoch 9/100, Loss: 0.0018198715078246027, Val_Recall: 96.76523961744529%\n",
      "Model saved based on lowest validation loss.\n"
     ]
    },
    {
     "name": "stderr",
     "output_type": "stream",
     "text": [
      "100%|███████████████████████████████████████████████████████████████████████████████████████████████████████| 574/574 [00:47<00:00, 12.08it/s]\n",
      "100%|█████████████████████████████████████████████████████████████████████████████████████████████████████████| 79/79 [00:02<00:00, 33.44it/s]\n"
     ]
    },
    {
     "name": "stdout",
     "output_type": "stream",
     "text": [
      "Epoch 10/100, Loss: 0.0015518616910412675, Val_Recall: 98.13343485387371%\n",
      "Model saved based on lowest validation loss.\n"
     ]
    },
    {
     "name": "stderr",
     "output_type": "stream",
     "text": [
      "100%|███████████████████████████████████████████████████████████████████████████████████████████████████████| 574/574 [00:47<00:00, 12.07it/s]\n",
      "100%|█████████████████████████████████████████████████████████████████████████████████████████████████████████| 79/79 [00:02<00:00, 33.87it/s]\n"
     ]
    },
    {
     "name": "stdout",
     "output_type": "stream",
     "text": [
      "Epoch 11/100, Loss: 0.001424242215042669, Val_Recall: 98.14089197542478%\n",
      "Model saved based on lowest validation loss.\n"
     ]
    },
    {
     "name": "stderr",
     "output_type": "stream",
     "text": [
      "100%|███████████████████████████████████████████████████████████████████████████████████████████████████████| 574/574 [00:47<00:00, 12.06it/s]\n",
      "100%|█████████████████████████████████████████████████████████████████████████████████████████████████████████| 79/79 [00:02<00:00, 33.12it/s]\n"
     ]
    },
    {
     "name": "stdout",
     "output_type": "stream",
     "text": [
      "Epoch 12/100, Loss: 0.0013806829070526414, Val_Recall: 98.14089197542478%\n",
      "Model saved based on lowest validation loss.\n"
     ]
    },
    {
     "name": "stderr",
     "output_type": "stream",
     "text": [
      "100%|███████████████████████████████████████████████████████████████████████████████████████████████████████| 574/574 [00:47<00:00, 12.09it/s]\n",
      "100%|█████████████████████████████████████████████████████████████████████████████████████████████████████████| 79/79 [00:02<00:00, 33.91it/s]\n"
     ]
    },
    {
     "name": "stdout",
     "output_type": "stream",
     "text": [
      "Epoch 13/100, Loss: 0.0013272665751979799, Val_Recall: 98.14857260743108%\n",
      "Model saved based on lowest validation loss.\n"
     ]
    },
    {
     "name": "stderr",
     "output_type": "stream",
     "text": [
      "100%|███████████████████████████████████████████████████████████████████████████████████████████████████████| 574/574 [00:47<00:00, 12.08it/s]\n",
      "100%|█████████████████████████████████████████████████████████████████████████████████████████████████████████| 79/79 [00:02<00:00, 33.60it/s]\n"
     ]
    },
    {
     "name": "stdout",
     "output_type": "stream",
     "text": [
      "Epoch 14/100, Loss: 0.0011767921555129082, Val_Recall: 98.17963690556383%\n",
      "Model saved based on lowest validation loss.\n"
     ]
    },
    {
     "name": "stderr",
     "output_type": "stream",
     "text": [
      "100%|███████████████████████████████████████████████████████████████████████████████████████████████████████| 574/574 [00:47<00:00, 12.06it/s]\n",
      "100%|█████████████████████████████████████████████████████████████████████████████████████████████████████████| 79/79 [00:02<00:00, 33.90it/s]\n"
     ]
    },
    {
     "name": "stdout",
     "output_type": "stream",
     "text": [
      "Epoch 15/100, Loss: 0.0012234736339946089, Val_Recall: 98.16015268526671%\n"
     ]
    },
    {
     "name": "stderr",
     "output_type": "stream",
     "text": [
      "100%|███████████████████████████████████████████████████████████████████████████████████████████████████████| 574/574 [00:47<00:00, 12.07it/s]\n",
      "100%|█████████████████████████████████████████████████████████████████████████████████████████████████████████| 79/79 [00:02<00:00, 33.20it/s]\n"
     ]
    },
    {
     "name": "stdout",
     "output_type": "stream",
     "text": [
      "Epoch 16/100, Loss: 0.0010299383288982634, Val_Recall: 98.82500901332924%\n",
      "Model saved based on lowest validation loss.\n"
     ]
    },
    {
     "name": "stderr",
     "output_type": "stream",
     "text": [
      "100%|███████████████████████████████████████████████████████████████████████████████████████████████████████| 574/574 [00:47<00:00, 12.07it/s]\n",
      "100%|█████████████████████████████████████████████████████████████████████████████████████████████████████████| 79/79 [00:02<00:00, 32.91it/s]\n"
     ]
    },
    {
     "name": "stdout",
     "output_type": "stream",
     "text": [
      "Epoch 17/100, Loss: 0.0010317161991181393, Val_Recall: 98.83580030014686%\n"
     ]
    },
    {
     "name": "stderr",
     "output_type": "stream",
     "text": [
      "100%|███████████████████████████████████████████████████████████████████████████████████████████████████████| 574/574 [00:47<00:00, 12.07it/s]\n",
      "100%|█████████████████████████████████████████████████████████████████████████████████████████████████████████| 79/79 [00:02<00:00, 33.20it/s]\n"
     ]
    },
    {
     "name": "stdout",
     "output_type": "stream",
     "text": [
      "Epoch 18/100, Loss: 0.0009056266132468329, Val_Recall: 98.68420519562724%\n",
      "Model saved based on lowest validation loss.\n"
     ]
    },
    {
     "name": "stderr",
     "output_type": "stream",
     "text": [
      "100%|███████████████████████████████████████████████████████████████████████████████████████████████████████| 574/574 [00:47<00:00, 12.07it/s]\n",
      "100%|█████████████████████████████████████████████████████████████████████████████████████████████████████████| 79/79 [00:02<00:00, 33.43it/s]\n"
     ]
    },
    {
     "name": "stdout",
     "output_type": "stream",
     "text": [
      "Epoch 19/100, Loss: 0.0010607526083368853, Val_Recall: 98.21403536896312%\n"
     ]
    },
    {
     "name": "stderr",
     "output_type": "stream",
     "text": [
      "100%|███████████████████████████████████████████████████████████████████████████████████████████████████████| 574/574 [00:47<00:00, 12.06it/s]\n",
      "100%|█████████████████████████████████████████████████████████████████████████████████████████████████████████| 79/79 [00:02<00:00, 33.78it/s]\n"
     ]
    },
    {
     "name": "stdout",
     "output_type": "stream",
     "text": [
      "Epoch 20/100, Loss: 0.001061578131833513, Val_Recall: 98.83580030014686%\n"
     ]
    },
    {
     "name": "stderr",
     "output_type": "stream",
     "text": [
      "100%|███████████████████████████████████████████████████████████████████████████████████████████████████████| 574/574 [00:47<00:00, 12.06it/s]\n",
      "100%|█████████████████████████████████████████████████████████████████████████████████████████████████████████| 79/79 [00:02<00:00, 33.37it/s]\n"
     ]
    },
    {
     "name": "stdout",
     "output_type": "stream",
     "text": [
      "Epoch 21/100, Loss: 0.0011179877297026791, Val_Recall: 98.83580030014686%\n"
     ]
    },
    {
     "name": "stderr",
     "output_type": "stream",
     "text": [
      "100%|███████████████████████████████████████████████████████████████████████████████████████████████████████| 574/574 [00:47<00:00, 12.08it/s]\n",
      "100%|█████████████████████████████████████████████████████████████████████████████████████████████████████████| 79/79 [00:02<00:00, 32.87it/s]\n"
     ]
    },
    {
     "name": "stdout",
     "output_type": "stream",
     "text": [
      "Epoch 22/100, Loss: 0.001165324066954482, Val_Recall: 98.83580030014686%\n"
     ]
    },
    {
     "name": "stderr",
     "output_type": "stream",
     "text": [
      "100%|███████████████████████████████████████████████████████████████████████████████████████████████████████| 574/574 [00:47<00:00, 12.08it/s]\n",
      "100%|█████████████████████████████████████████████████████████████████████████████████████████████████████████| 79/79 [00:02<00:00, 33.10it/s]\n"
     ]
    },
    {
     "name": "stdout",
     "output_type": "stream",
     "text": [
      "Epoch 23/100, Loss: 0.0010952805952315371, Val_Recall: 98.19889761540576%\n"
     ]
    },
    {
     "name": "stderr",
     "output_type": "stream",
     "text": [
      "100%|███████████████████████████████████████████████████████████████████████████████████████████████████████| 574/574 [00:47<00:00, 12.03it/s]\n",
      "100%|█████████████████████████████████████████████████████████████████████████████████████████████████████████| 79/79 [00:02<00:00, 33.52it/s]\n"
     ]
    },
    {
     "name": "stdout",
     "output_type": "stream",
     "text": [
      "Epoch 24/100, Loss: 0.0010592720843659881, Val_Recall: 98.8476038884377%\n"
     ]
    },
    {
     "name": "stderr",
     "output_type": "stream",
     "text": [
      "100%|███████████████████████████████████████████████████████████████████████████████████████████████████████| 574/574 [00:47<00:00, 12.08it/s]\n",
      "100%|█████████████████████████████████████████████████████████████████████████████████████████████████████████| 79/79 [00:02<00:00, 33.16it/s]\n"
     ]
    },
    {
     "name": "stdout",
     "output_type": "stream",
     "text": [
      "Epoch 25/100, Loss: 0.000977536031685871, Val_Recall: 98.83246613488032%\n"
     ]
    },
    {
     "name": "stderr",
     "output_type": "stream",
     "text": [
      "100%|███████████████████████████████████████████████████████████████████████████████████████████████████████| 574/574 [00:47<00:00, 12.06it/s]\n",
      "100%|█████████████████████████████████████████████████████████████████████████████████████████████████████████| 79/79 [00:02<00:00, 33.72it/s]\n"
     ]
    },
    {
     "name": "stdout",
     "output_type": "stream",
     "text": [
      "Epoch 26/100, Loss: 0.0010189899654895276, Val_Recall: 98.83246613488032%\n"
     ]
    },
    {
     "name": "stderr",
     "output_type": "stream",
     "text": [
      "100%|███████████████████████████████████████████████████████████████████████████████████████████████████████| 574/574 [00:47<00:00, 12.09it/s]\n",
      "100%|█████████████████████████████████████████████████████████████████████████████████████████████████████████| 79/79 [00:02<00:00, 33.54it/s]\n"
     ]
    },
    {
     "name": "stdout",
     "output_type": "stream",
     "text": [
      "Epoch 27/100, Loss: 0.000945783399831283, Val_Recall: 98.97106067856114%\n"
     ]
    },
    {
     "name": "stderr",
     "output_type": "stream",
     "text": [
      "100%|███████████████████████████████████████████████████████████████████████████████████████████████████████| 574/574 [00:47<00:00, 12.03it/s]\n",
      "100%|█████████████████████████████████████████████████████████████████████████████████████████████████████████| 79/79 [00:02<00:00, 33.36it/s]\n"
     ]
    },
    {
     "name": "stdout",
     "output_type": "stream",
     "text": [
      "Epoch 28/100, Loss: 0.0010373168046462207, Val_Recall: 98.82478550287402%\n"
     ]
    },
    {
     "name": "stderr",
     "output_type": "stream",
     "text": [
      "100%|███████████████████████████████████████████████████████████████████████████████████████████████████████| 574/574 [00:47<00:00, 12.07it/s]\n",
      "100%|█████████████████████████████████████████████████████████████████████████████████████████████████████████| 79/79 [00:02<00:00, 33.02it/s]\n"
     ]
    },
    {
     "name": "stdout",
     "output_type": "stream",
     "text": [
      "Epoch 29/100, Loss: 0.0007874575587422598, Val_Recall: 98.68420519562724%\n",
      "Model saved based on lowest validation loss.\n"
     ]
    },
    {
     "name": "stderr",
     "output_type": "stream",
     "text": [
      "100%|███████████████████████████████████████████████████████████████████████████████████████████████████████| 574/574 [00:47<00:00, 12.06it/s]\n",
      "100%|█████████████████████████████████████████████████████████████████████████████████████████████████████████| 79/79 [00:02<00:00, 33.41it/s]\n"
     ]
    },
    {
     "name": "stdout",
     "output_type": "stream",
     "text": [
      "Epoch 30/100, Loss: 0.0007677125631553597, Val_Recall: 98.83246613488032%\n",
      "Model saved based on lowest validation loss.\n"
     ]
    },
    {
     "name": "stderr",
     "output_type": "stream",
     "text": [
      "100%|███████████████████████████████████████████████████████████████████████████████████████████████████████| 574/574 [00:47<00:00, 12.05it/s]\n",
      "100%|█████████████████████████████████████████████████████████████████████████████████████████████████████████| 79/79 [00:02<00:00, 33.64it/s]\n"
     ]
    },
    {
     "name": "stdout",
     "output_type": "stream",
     "text": [
      "Epoch 31/100, Loss: 0.000992563771105268, Val_Recall: 98.0354989225953%\n"
     ]
    },
    {
     "name": "stderr",
     "output_type": "stream",
     "text": [
      "100%|███████████████████████████████████████████████████████████████████████████████████████████████████████| 574/574 [00:47<00:00, 12.08it/s]\n",
      "100%|█████████████████████████████████████████████████████████████████████████████████████████████████████████| 79/79 [00:02<00:00, 33.85it/s]\n"
     ]
    },
    {
     "name": "stdout",
     "output_type": "stream",
     "text": [
      "Epoch 32/100, Loss: 0.0007869185931287648, Val_Recall: 98.69166231717831%\n"
     ]
    },
    {
     "name": "stderr",
     "output_type": "stream",
     "text": [
      "100%|███████████████████████████████████████████████████████████████████████████████████████████████████████| 574/574 [00:47<00:00, 12.07it/s]\n",
      "100%|█████████████████████████████████████████████████████████████████████████████████████████████████████████| 79/79 [00:02<00:00, 33.13it/s]\n"
     ]
    },
    {
     "name": "stdout",
     "output_type": "stream",
     "text": [
      "Epoch 33/100, Loss: 0.000816987840455366, Val_Recall: 98.67985872888747%\n"
     ]
    },
    {
     "name": "stderr",
     "output_type": "stream",
     "text": [
      "100%|███████████████████████████████████████████████████████████████████████████████████████████████████████| 574/574 [00:47<00:00, 12.05it/s]\n",
      "100%|█████████████████████████████████████████████████████████████████████████████████████████████████████████| 79/79 [00:02<00:00, 33.23it/s]\n"
     ]
    },
    {
     "name": "stdout",
     "output_type": "stream",
     "text": [
      "Epoch 34/100, Loss: 0.001020160745280775, Val_Recall: 98.4895186942288%\n"
     ]
    },
    {
     "name": "stderr",
     "output_type": "stream",
     "text": [
      "100%|███████████████████████████████████████████████████████████████████████████████████████████████████████| 574/574 [00:47<00:00, 12.10it/s]\n",
      "100%|█████████████████████████████████████████████████████████████████████████████████████████████████████████| 79/79 [00:02<00:00, 33.11it/s]\n"
     ]
    },
    {
     "name": "stdout",
     "output_type": "stream",
     "text": [
      "Epoch 35/100, Loss: 0.0009159196541748436, Val_Recall: 98.85506100998876%\n"
     ]
    },
    {
     "name": "stderr",
     "output_type": "stream",
     "text": [
      "100%|███████████████████████████████████████████████████████████████████████████████████████████████████████| 574/574 [00:47<00:00, 12.07it/s]\n",
      "100%|█████████████████████████████████████████████████████████████████████████████████████████████████████████| 79/79 [00:02<00:00, 33.70it/s]\n"
     ]
    },
    {
     "name": "stdout",
     "output_type": "stream",
     "text": [
      "Epoch 36/100, Loss: 0.0009339798033299887, Val_Recall: 98.83992325643139%\n"
     ]
    },
    {
     "name": "stderr",
     "output_type": "stream",
     "text": [
      "100%|███████████████████████████████████████████████████████████████████████████████████████████████████████| 574/574 [00:47<00:00, 12.05it/s]\n",
      "100%|█████████████████████████████████████████████████████████████████████████████████████████████████████████| 79/79 [00:02<00:00, 33.26it/s]\n"
     ]
    },
    {
     "name": "stdout",
     "output_type": "stream",
     "text": [
      "Epoch 37/100, Loss: 0.0009233468841633894, Val_Recall: 98.83992325643139%\n"
     ]
    },
    {
     "name": "stderr",
     "output_type": "stream",
     "text": [
      "100%|███████████████████████████████████████████████████████████████████████████████████████████████████████| 574/574 [00:47<00:00, 12.06it/s]\n",
      "100%|█████████████████████████████████████████████████████████████████████████████████████████████████████████| 79/79 [00:02<00:00, 33.53it/s]\n"
     ]
    },
    {
     "name": "stdout",
     "output_type": "stream",
     "text": [
      "Epoch 38/100, Loss: 0.0010090958916284054, Val_Recall: 98.83992325643139%\n"
     ]
    },
    {
     "name": "stderr",
     "output_type": "stream",
     "text": [
      "100%|███████████████████████████████████████████████████████████████████████████████████████████████████████| 574/574 [00:47<00:00, 12.06it/s]\n",
      "100%|█████████████████████████████████████████████████████████████████████████████████████████████████████████| 79/79 [00:02<00:00, 33.99it/s]\n"
     ]
    },
    {
     "name": "stdout",
     "output_type": "stream",
     "text": [
      "Epoch 39/100, Loss: 0.0009783741564754695, Val_Recall: 98.85506100998876%\n"
     ]
    },
    {
     "name": "stderr",
     "output_type": "stream",
     "text": [
      "100%|███████████████████████████████████████████████████████████████████████████████████████████████████████| 574/574 [00:47<00:00, 12.07it/s]\n",
      "100%|█████████████████████████████████████████████████████████████████████████████████████████████████████████| 79/79 [00:02<00:00, 33.45it/s]\n"
     ]
    },
    {
     "name": "stdout",
     "output_type": "stream",
     "text": [
      "Epoch 40/100, Loss: 0.0010095752234709438, Val_Recall: 98.83992325643139%\n"
     ]
    },
    {
     "name": "stderr",
     "output_type": "stream",
     "text": [
      "100%|███████████████████████████████████████████████████████████████████████████████████████████████████████| 574/574 [00:47<00:00, 12.07it/s]\n",
      "100%|█████████████████████████████████████████████████████████████████████████████████████████████████████████| 79/79 [00:02<00:00, 33.61it/s]\n"
     ]
    },
    {
     "name": "stdout",
     "output_type": "stream",
     "text": [
      "Epoch 41/100, Loss: 0.0009610405540601475, Val_Recall: 98.83992325643139%\n"
     ]
    },
    {
     "name": "stderr",
     "output_type": "stream",
     "text": [
      "100%|███████████████████████████████████████████████████████████████████████████████████████████████████████| 574/574 [00:47<00:00, 12.11it/s]\n",
      "100%|█████████████████████████████████████████████████████████████████████████████████████████████████████████| 79/79 [00:02<00:00, 32.54it/s]\n"
     ]
    },
    {
     "name": "stdout",
     "output_type": "stream",
     "text": [
      "Epoch 42/100, Loss: 0.0008052035365302497, Val_Recall: 98.85506100998876%\n"
     ]
    },
    {
     "name": "stderr",
     "output_type": "stream",
     "text": [
      "100%|███████████████████████████████████████████████████████████████████████████████████████████████████████| 574/574 [00:47<00:00, 12.07it/s]\n",
      "100%|█████████████████████████████████████████████████████████████████████████████████████████████████████████| 79/79 [00:02<00:00, 33.41it/s]\n"
     ]
    },
    {
     "name": "stdout",
     "output_type": "stream",
     "text": [
      "Epoch 43/100, Loss: 0.0008213249379229175, Val_Recall: 98.85506100998876%\n"
     ]
    },
    {
     "name": "stderr",
     "output_type": "stream",
     "text": [
      "100%|███████████████████████████████████████████████████████████████████████████████████████████████████████| 574/574 [00:47<00:00, 12.06it/s]\n",
      "100%|█████████████████████████████████████████████████████████████████████████████████████████████████████████| 79/79 [00:02<00:00, 32.99it/s]\n"
     ]
    },
    {
     "name": "stdout",
     "output_type": "stream",
     "text": [
      "Epoch 44/100, Loss: 0.000759660273444914, Val_Recall: 98.83992325643139%\n",
      "Model saved based on lowest validation loss.\n"
     ]
    },
    {
     "name": "stderr",
     "output_type": "stream",
     "text": [
      "100%|███████████████████████████████████████████████████████████████████████████████████████████████████████| 574/574 [00:47<00:00, 12.07it/s]\n",
      "100%|█████████████████████████████████████████████████████████████████████████████████████████████████████████| 79/79 [00:02<00:00, 32.96it/s]\n"
     ]
    },
    {
     "name": "stdout",
     "output_type": "stream",
     "text": [
      "Epoch 45/100, Loss: 0.0007901829237106747, Val_Recall: 99.49608665101441%\n"
     ]
    },
    {
     "name": "stderr",
     "output_type": "stream",
     "text": [
      "100%|███████████████████████████████████████████████████████████████████████████████████████████████████████| 574/574 [00:47<00:00, 12.06it/s]\n",
      "100%|█████████████████████████████████████████████████████████████████████████████████████████████████████████| 79/79 [00:02<00:00, 33.22it/s]\n"
     ]
    },
    {
     "name": "stdout",
     "output_type": "stream",
     "text": [
      "Epoch 46/100, Loss: 0.0008180897624211129, Val_Recall: 98.81511910730177%\n"
     ]
    },
    {
     "name": "stderr",
     "output_type": "stream",
     "text": [
      "100%|███████████████████████████████████████████████████████████████████████████████████████████████████████| 574/574 [00:47<00:00, 12.07it/s]\n",
      "100%|█████████████████████████████████████████████████████████████████████████████████████████████████████████| 79/79 [00:02<00:00, 33.58it/s]\n"
     ]
    },
    {
     "name": "stdout",
     "output_type": "stream",
     "text": [
      "Epoch 47/100, Loss: 0.0007632745140011245, Val_Recall: 98.65172041449132%\n"
     ]
    },
    {
     "name": "stderr",
     "output_type": "stream",
     "text": [
      "100%|███████████████████████████████████████████████████████████████████████████████████████████████████████| 574/574 [00:47<00:00, 12.06it/s]\n",
      "100%|█████████████████████████████████████████████████████████████████████████████████████████████████████████| 79/79 [00:02<00:00, 33.29it/s]\n"
     ]
    },
    {
     "name": "stdout",
     "output_type": "stream",
     "text": [
      "Epoch 48/100, Loss: 0.0008174623434384993, Val_Recall: 98.52826362436785%\n"
     ]
    },
    {
     "name": "stderr",
     "output_type": "stream",
     "text": [
      "100%|███████████████████████████████████████████████████████████████████████████████████████████████████████| 574/574 [00:47<00:00, 12.07it/s]\n",
      "100%|█████████████████████████████████████████████████████████████████████████████████████████████████████████| 79/79 [00:02<00:00, 33.05it/s]\n"
     ]
    },
    {
     "name": "stdout",
     "output_type": "stream",
     "text": [
      "Epoch 49/100, Loss: 0.0008695995029608159, Val_Recall: 98.97851780011223%\n"
     ]
    },
    {
     "name": "stderr",
     "output_type": "stream",
     "text": [
      "100%|███████████████████████████████████████████████████████████████████████████████████████████████████████| 574/574 [00:47<00:00, 12.07it/s]\n",
      "100%|█████████████████████████████████████████████████████████████████████████████████████████████████████████| 79/79 [00:02<00:00, 33.52it/s]\n"
     ]
    },
    {
     "name": "stdout",
     "output_type": "stream",
     "text": [
      "Epoch 50/100, Loss: 0.0010119179380567553, Val_Recall: 98.81511910730177%\n"
     ]
    },
    {
     "name": "stderr",
     "output_type": "stream",
     "text": [
      "100%|███████████████████████████████████████████████████████████████████████████████████████████████████████| 574/574 [00:47<00:00, 12.06it/s]\n",
      "100%|█████████████████████████████████████████████████████████████████████████████████████████████████████████| 79/79 [00:02<00:00, 33.69it/s]\n"
     ]
    },
    {
     "name": "stdout",
     "output_type": "stream",
     "text": [
      "Epoch 51/100, Loss: 0.0010079084558451742, Val_Recall: 98.81511910730177%\n"
     ]
    },
    {
     "name": "stderr",
     "output_type": "stream",
     "text": [
      "100%|███████████████████████████████████████████████████████████████████████████████████████████████████████| 574/574 [00:47<00:00, 12.07it/s]\n",
      "100%|█████████████████████████████████████████████████████████████████████████████████████████████████████████| 79/79 [00:02<00:00, 33.27it/s]\n"
     ]
    },
    {
     "name": "stdout",
     "output_type": "stream",
     "text": [
      "Epoch 52/100, Loss: 0.0008159663212771244, Val_Recall: 98.81511910730177%\n"
     ]
    },
    {
     "name": "stderr",
     "output_type": "stream",
     "text": [
      "100%|███████████████████████████████████████████████████████████████████████████████████████████████████████| 574/574 [00:47<00:00, 12.05it/s]\n",
      "100%|█████████████████████████████████████████████████████████████████████████████████████████████████████████| 79/79 [00:02<00:00, 33.13it/s]\n"
     ]
    },
    {
     "name": "stdout",
     "output_type": "stream",
     "text": [
      "Epoch 53/100, Loss: 0.0008994213531122772, Val_Recall: 98.3374921590866%\n"
     ]
    },
    {
     "name": "stderr",
     "output_type": "stream",
     "text": [
      "100%|███████████████████████████████████████████████████████████████████████████████████████████████████████| 574/574 [00:47<00:00, 12.06it/s]\n",
      "100%|█████████████████████████████████████████████████████████████████████████████████████████████████████████| 79/79 [00:02<00:00, 33.07it/s]\n"
     ]
    },
    {
     "name": "stdout",
     "output_type": "stream",
     "text": [
      "Epoch 54/100, Loss: 0.0009978760132095545, Val_Recall: 97.5330678252505%\n"
     ]
    },
    {
     "name": "stderr",
     "output_type": "stream",
     "text": [
      "100%|███████████████████████████████████████████████████████████████████████████████████████████████████████| 574/574 [00:47<00:00, 12.05it/s]\n",
      "100%|█████████████████████████████████████████████████████████████████████████████████████████████████████████| 79/79 [00:02<00:00, 33.00it/s]\n"
     ]
    },
    {
     "name": "stdout",
     "output_type": "stream",
     "text": [
      "Epoch 55/100, Loss: 0.0009118982710436991, Val_Recall: 97.39447328156965%\n"
     ]
    },
    {
     "name": "stderr",
     "output_type": "stream",
     "text": [
      "100%|███████████████████████████████████████████████████████████████████████████████████████████████████████| 574/574 [00:47<00:00, 12.06it/s]\n",
      "100%|█████████████████████████████████████████████████████████████████████████████████████████████████████████| 79/79 [00:02<00:00, 33.29it/s]\n"
     ]
    },
    {
     "name": "stdout",
     "output_type": "stream",
     "text": [
      "Epoch 56/100, Loss: 0.0008978653142636423, Val_Recall: 96.87690443066748%\n"
     ]
    },
    {
     "name": "stderr",
     "output_type": "stream",
     "text": [
      "100%|███████████████████████████████████████████████████████████████████████████████████████████████████████| 574/574 [00:47<00:00, 12.07it/s]\n",
      "100%|█████████████████████████████████████████████████████████████████████████████████████████████████████████| 79/79 [00:02<00:00, 33.27it/s]\n"
     ]
    },
    {
     "name": "stdout",
     "output_type": "stream",
     "text": [
      "Epoch 57/100, Loss: 0.0007463724139397855, Val_Recall: 98.85506100998876%\n",
      "Model saved based on lowest validation loss.\n"
     ]
    },
    {
     "name": "stderr",
     "output_type": "stream",
     "text": [
      "100%|███████████████████████████████████████████████████████████████████████████████████████████████████████| 574/574 [00:47<00:00, 12.06it/s]\n",
      "100%|█████████████████████████████████████████████████████████████████████████████████████████████████████████| 79/79 [00:02<00:00, 33.41it/s]\n"
     ]
    },
    {
     "name": "stdout",
     "output_type": "stream",
     "text": [
      "Epoch 58/100, Loss: 0.0007679853448146513, Val_Recall: 98.7999813537444%\n"
     ]
    },
    {
     "name": "stderr",
     "output_type": "stream",
     "text": [
      "100%|███████████████████████████████████████████████████████████████████████████████████████████████████████| 574/574 [00:47<00:00, 12.07it/s]\n",
      "100%|█████████████████████████████████████████████████████████████████████████████████████████████████████████| 79/79 [00:02<00:00, 33.54it/s]\n"
     ]
    },
    {
     "name": "stdout",
     "output_type": "stream",
     "text": [
      "Epoch 59/100, Loss: 0.0008151004763856831, Val_Recall: 98.19889761540576%\n"
     ]
    },
    {
     "name": "stderr",
     "output_type": "stream",
     "text": [
      "100%|███████████████████████████████████████████████████████████████████████████████████████████████████████| 574/574 [00:47<00:00, 12.07it/s]\n",
      "100%|█████████████████████████████████████████████████████████████████████████████████████████████████████████| 79/79 [00:02<00:00, 33.58it/s]\n"
     ]
    },
    {
     "name": "stdout",
     "output_type": "stream",
     "text": [
      "Epoch 60/100, Loss: 0.0008523561594823752, Val_Recall: 99.43354987321896%\n"
     ]
    },
    {
     "name": "stderr",
     "output_type": "stream",
     "text": [
      "100%|███████████████████████████████████████████████████████████████████████████████████████████████████████| 574/574 [00:47<00:00, 12.09it/s]\n",
      "100%|█████████████████████████████████████████████████████████████████████████████████████████████████████████| 79/79 [00:02<00:00, 33.24it/s]\n"
     ]
    },
    {
     "name": "stdout",
     "output_type": "stream",
     "text": [
      "Epoch 61/100, Loss: 0.0007921667299681463, Val_Recall: 98.7999813537444%\n"
     ]
    },
    {
     "name": "stderr",
     "output_type": "stream",
     "text": [
      "100%|███████████████████████████████████████████████████████████████████████████████████████████████████████| 574/574 [00:47<00:00, 12.10it/s]\n",
      "100%|█████████████████████████████████████████████████████████████████████████████████████████████████████████| 79/79 [00:02<00:00, 33.73it/s]\n"
     ]
    },
    {
     "name": "stdout",
     "output_type": "stream",
     "text": [
      "Epoch 62/100, Loss: 0.0008552684361541203, Val_Recall: 98.15895571271876%\n"
     ]
    },
    {
     "name": "stderr",
     "output_type": "stream",
     "text": [
      "100%|███████████████████████████████████████████████████████████████████████████████████████████████████████| 574/574 [00:47<00:00, 12.05it/s]\n",
      "100%|█████████████████████████████████████████████████████████████████████████████████████████████████████████| 79/79 [00:02<00:00, 33.48it/s]\n"
     ]
    },
    {
     "name": "stdout",
     "output_type": "stream",
     "text": [
      "Epoch 63/100, Loss: 0.0007995814457732249, Val_Recall: 98.81511910730177%\n"
     ]
    },
    {
     "name": "stderr",
     "output_type": "stream",
     "text": [
      "100%|███████████████████████████████████████████████████████████████████████████████████████████████████████| 574/574 [00:47<00:00, 12.05it/s]\n",
      "100%|█████████████████████████████████████████████████████████████████████████████████████████████████████████| 79/79 [00:02<00:00, 33.58it/s]\n"
     ]
    },
    {
     "name": "stdout",
     "output_type": "stream",
     "text": [
      "Epoch 64/100, Loss: 0.0009272959017817284, Val_Recall: 98.78817776545357%\n"
     ]
    },
    {
     "name": "stderr",
     "output_type": "stream",
     "text": [
      "100%|███████████████████████████████████████████████████████████████████████████████████████████████████████| 574/574 [00:47<00:00, 12.08it/s]\n",
      "100%|█████████████████████████████████████████████████████████████████████████████████████████████████████████| 79/79 [00:02<00:00, 33.30it/s]\n"
     ]
    },
    {
     "name": "stdout",
     "output_type": "stream",
     "text": [
      "Epoch 65/100, Loss: 0.0009283681112573866, Val_Recall: 98.95157645826403%\n"
     ]
    },
    {
     "name": "stderr",
     "output_type": "stream",
     "text": [
      "100%|███████████████████████████████████████████████████████████████████████████████████████████████████████| 574/574 [00:47<00:00, 12.07it/s]\n",
      "100%|█████████████████████████████████████████████████████████████████████████████████████████████████████████| 79/79 [00:02<00:00, 33.08it/s]\n"
     ]
    },
    {
     "name": "stdout",
     "output_type": "stream",
     "text": [
      "Epoch 66/100, Loss: 0.0008306952784625971, Val_Recall: 98.7999813537444%\n"
     ]
    },
    {
     "name": "stderr",
     "output_type": "stream",
     "text": [
      "100%|███████████████████████████████████████████████████████████████████████████████████████████████████████| 574/574 [00:47<00:00, 12.05it/s]\n",
      "100%|█████████████████████████████████████████████████████████████████████████████████████████████████████████| 79/79 [00:02<00:00, 33.55it/s]\n"
     ]
    },
    {
     "name": "stdout",
     "output_type": "stream",
     "text": [
      "Epoch 67/100, Loss: 0.0009323226110436379, Val_Recall: 98.96338004655486%\n"
     ]
    },
    {
     "name": "stderr",
     "output_type": "stream",
     "text": [
      "100%|███████████████████████████████████████████████████████████████████████████████████████████████████████| 574/574 [00:47<00:00, 12.08it/s]\n",
      "100%|█████████████████████████████████████████████████████████████████████████████████████████████████████████| 79/79 [00:02<00:00, 33.23it/s]\n"
     ]
    },
    {
     "name": "stdout",
     "output_type": "stream",
     "text": [
      "Epoch 68/100, Loss: 0.0009175104502506958, Val_Recall: 97.51793007169312%\n"
     ]
    },
    {
     "name": "stderr",
     "output_type": "stream",
     "text": [
      "100%|███████████████████████████████████████████████████████████████████████████████████████████████████████| 574/574 [00:47<00:00, 12.06it/s]\n",
      "100%|█████████████████████████████████████████████████████████████████████████████████████████████████████████| 79/79 [00:02<00:00, 33.34it/s]\n"
     ]
    },
    {
     "name": "stdout",
     "output_type": "stream",
     "text": [
      "Epoch 69/100, Loss: 0.0009057286821553084, Val_Recall: 98.9667142118214%\n"
     ]
    },
    {
     "name": "stderr",
     "output_type": "stream",
     "text": [
      "100%|███████████████████████████████████████████████████████████████████████████████████████████████████████| 574/574 [00:47<00:00, 12.06it/s]\n",
      "100%|█████████████████████████████████████████████████████████████████████████████████████████████████████████| 79/79 [00:02<00:00, 33.61it/s]\n"
     ]
    },
    {
     "name": "stdout",
     "output_type": "stream",
     "text": [
      "Epoch 70/100, Loss: 0.0010107481360424222, Val_Recall: 97.68466292977011%\n"
     ]
    },
    {
     "name": "stderr",
     "output_type": "stream",
     "text": [
      "100%|███████████████████████████████████████████████████████████████████████████████████████████████████████| 574/574 [00:47<00:00, 12.08it/s]\n",
      "100%|█████████████████████████████████████████████████████████████████████████████████████████████████████████| 79/79 [00:02<00:00, 33.56it/s]\n"
     ]
    },
    {
     "name": "stdout",
     "output_type": "stream",
     "text": [
      "Epoch 71/100, Loss: 0.0010305192579560163, Val_Recall: 97.99889118517484%\n"
     ]
    },
    {
     "name": "stderr",
     "output_type": "stream",
     "text": [
      "100%|███████████████████████████████████████████████████████████████████████████████████████████████████████| 574/574 [00:47<00:00, 12.07it/s]\n",
      "100%|█████████████████████████████████████████████████████████████████████████████████████████████████████████| 79/79 [00:02<00:00, 33.61it/s]\n"
     ]
    },
    {
     "name": "stdout",
     "output_type": "stream",
     "text": [
      "Epoch 72/100, Loss: 0.00091298945812935, Val_Recall: 99.44434116003657%\n"
     ]
    },
    {
     "name": "stderr",
     "output_type": "stream",
     "text": [
      "100%|███████████████████████████████████████████████████████████████████████████████████████████████████████| 574/574 [00:47<00:00, 12.07it/s]\n",
      "100%|█████████████████████████████████████████████████████████████████████████████████████████████████████████| 79/79 [00:02<00:00, 33.19it/s]\n"
     ]
    },
    {
     "name": "stdout",
     "output_type": "stream",
     "text": [
      "Epoch 73/100, Loss: 0.0009396720716573815, Val_Recall: 99.59260209928966%\n"
     ]
    },
    {
     "name": "stderr",
     "output_type": "stream",
     "text": [
      "100%|███████████████████████████████████████████████████████████████████████████████████████████████████████| 574/574 [00:47<00:00, 12.07it/s]\n",
      "100%|█████████████████████████████████████████████████████████████████████████████████████████████████████████| 79/79 [00:02<00:00, 33.88it/s]\n"
     ]
    },
    {
     "name": "stdout",
     "output_type": "stream",
     "text": [
      "Epoch 74/100, Loss: 0.0010180531947048153, Val_Recall: 99.42174628492812%\n"
     ]
    },
    {
     "name": "stderr",
     "output_type": "stream",
     "text": [
      "100%|███████████████████████████████████████████████████████████████████████████████████████████████████████| 574/574 [00:47<00:00, 12.07it/s]\n",
      "100%|█████████████████████████████████████████████████████████████████████████████████████████████████████████| 79/79 [00:02<00:00, 33.41it/s]\n"
     ]
    },
    {
     "name": "stdout",
     "output_type": "stream",
     "text": [
      "Epoch 75/100, Loss: 0.0010819735277039998, Val_Recall: 98.6647209753301%\n"
     ]
    },
    {
     "name": "stderr",
     "output_type": "stream",
     "text": [
      "100%|███████████████████████████████████████████████████████████████████████████████████████████████████████| 574/574 [00:47<00:00, 12.06it/s]\n",
      "100%|█████████████████████████████████████████████████████████████████████████████████████████████████████████| 79/79 [00:02<00:00, 33.69it/s]\n"
     ]
    },
    {
     "name": "stdout",
     "output_type": "stream",
     "text": [
      "Epoch 76/100, Loss: 0.0008744988808083903, Val_Recall: 99.48094889745704%\n"
     ]
    },
    {
     "name": "stderr",
     "output_type": "stream",
     "text": [
      "100%|███████████████████████████████████████████████████████████████████████████████████████████████████████| 574/574 [00:47<00:00, 12.00it/s]\n",
      "100%|█████████████████████████████████████████████████████████████████████████████████████████████████████████| 79/79 [00:02<00:00, 33.36it/s]\n"
     ]
    },
    {
     "name": "stdout",
     "output_type": "stream",
     "text": [
      "Epoch 77/100, Loss: 0.0009808131387588639, Val_Recall: 98.96338004655486%\n"
     ]
    },
    {
     "name": "stderr",
     "output_type": "stream",
     "text": [
      "100%|███████████████████████████████████████████████████████████████████████████████████████████████████████| 574/574 [00:47<00:00, 12.07it/s]\n",
      "100%|█████████████████████████████████████████████████████████████████████████████████████████████████████████| 79/79 [00:02<00:00, 33.20it/s]\n"
     ]
    },
    {
     "name": "stdout",
     "output_type": "stream",
     "text": [
      "Epoch 78/100, Loss: 0.0011103523860504527, Val_Recall: 98.7999813537444%\n"
     ]
    },
    {
     "name": "stderr",
     "output_type": "stream",
     "text": [
      "100%|███████████████████████████████████████████████████████████████████████████████████████████████████████| 574/574 [00:47<00:00, 12.07it/s]\n",
      "100%|█████████████████████████████████████████████████████████████████████████████████████████████████████████| 79/79 [00:02<00:00, 33.40it/s]\n"
     ]
    },
    {
     "name": "stdout",
     "output_type": "stream",
     "text": [
      "Epoch 79/100, Loss: 0.0012313614177803466, Val_Recall: 97.50612648340228%\n"
     ]
    },
    {
     "name": "stderr",
     "output_type": "stream",
     "text": [
      "100%|███████████████████████████████████████████████████████████████████████████████████████████████████████| 574/574 [00:47<00:00, 12.07it/s]\n",
      "100%|█████████████████████████████████████████████████████████████████████████████████████████████████████████| 79/79 [00:02<00:00, 34.20it/s]\n"
     ]
    },
    {
     "name": "stdout",
     "output_type": "stream",
     "text": [
      "Epoch 80/100, Loss: 0.0012152971232373161, Val_Recall: 97.66952517621273%\n"
     ]
    },
    {
     "name": "stderr",
     "output_type": "stream",
     "text": [
      "100%|███████████████████████████████████████████████████████████████████████████████████████████████████████| 574/574 [00:47<00:00, 12.06it/s]\n",
      "100%|█████████████████████████████████████████████████████████████████████████████████████████████████████████| 79/79 [00:02<00:00, 33.22it/s]\n"
     ]
    },
    {
     "name": "stdout",
     "output_type": "stream",
     "text": [
      "Epoch 81/100, Loss: 0.0010066224388151164, Val_Recall: 97.68466292977011%\n"
     ]
    },
    {
     "name": "stderr",
     "output_type": "stream",
     "text": [
      "100%|███████████████████████████████████████████████████████████████████████████████████████████████████████| 574/574 [00:47<00:00, 12.06it/s]\n",
      "100%|█████████████████████████████████████████████████████████████████████████████████████████████████████████| 79/79 [00:02<00:00, 33.32it/s]\n"
     ]
    },
    {
     "name": "stdout",
     "output_type": "stream",
     "text": [
      "Epoch 82/100, Loss: 0.0009174403683088483, Val_Recall: 98.02369533430446%\n"
     ]
    },
    {
     "name": "stderr",
     "output_type": "stream",
     "text": [
      "100%|███████████████████████████████████████████████████████████████████████████████████████████████████████| 574/574 [00:47<00:00, 12.07it/s]\n",
      "100%|█████████████████████████████████████████████████████████████████████████████████████████████████████████| 79/79 [00:02<00:00, 33.80it/s]\n"
     ]
    },
    {
     "name": "stdout",
     "output_type": "stream",
     "text": [
      "Epoch 83/100, Loss: 0.00095161669005899, Val_Recall: 98.02369533430446%\n"
     ]
    },
    {
     "name": "stderr",
     "output_type": "stream",
     "text": [
      "100%|███████████████████████████████████████████████████████████████████████████████████████████████████████| 574/574 [00:47<00:00, 12.07it/s]\n",
      "100%|█████████████████████████████████████████████████████████████████████████████████████████████████████████| 79/79 [00:02<00:00, 33.64it/s]\n"
     ]
    },
    {
     "name": "stdout",
     "output_type": "stream",
     "text": [
      "Epoch 84/100, Loss: 0.0008522150312140996, Val_Recall: 99.60773985284703%\n"
     ]
    },
    {
     "name": "stderr",
     "output_type": "stream",
     "text": [
      "100%|███████████████████████████████████████████████████████████████████████████████████████████████████████| 574/574 [00:47<00:00, 12.06it/s]\n",
      "100%|█████████████████████████████████████████████████████████████████████████████████████████████████████████| 79/79 [00:02<00:00, 33.53it/s]\n"
     ]
    },
    {
     "name": "stdout",
     "output_type": "stream",
     "text": [
      "Epoch 85/100, Loss: 0.0009350170500114233, Val_Recall: 98.9667142118214%\n"
     ]
    },
    {
     "name": "stderr",
     "output_type": "stream",
     "text": [
      "100%|███████████████████████████████████████████████████████████████████████████████████████████████████████| 574/574 [00:47<00:00, 12.07it/s]\n",
      "100%|█████████████████████████████████████████████████████████████████████████████████████████████████████████| 79/79 [00:02<00:00, 33.14it/s]\n"
     ]
    },
    {
     "name": "stdout",
     "output_type": "stream",
     "text": [
      "Epoch 86/100, Loss: 0.0009724880838958859, Val_Recall: 98.84325742169793%\n"
     ]
    },
    {
     "name": "stderr",
     "output_type": "stream",
     "text": [
      "100%|███████████████████████████████████████████████████████████████████████████████████████████████████████| 574/574 [00:47<00:00, 12.07it/s]\n",
      "100%|█████████████████████████████████████████████████████████████████████████████████████████████████████████| 79/79 [00:02<00:00, 33.75it/s]\n"
     ]
    },
    {
     "name": "stdout",
     "output_type": "stream",
     "text": [
      "Epoch 87/100, Loss: 0.0009579911739956757, Val_Recall: 98.95157645826403%\n",
      "Early stopping\n",
      "Loaded pretrained weights for efficientnet-b0\n"
     ]
    },
    {
     "name": "stderr",
     "output_type": "stream",
     "text": [
      "100%|███████████████████████████████████████████████████████████████████████████████████████████████████████| 287/287 [00:52<00:00,  5.44it/s]\n",
      "100%|█████████████████████████████████████████████████████████████████████████████████████████████████████████| 40/40 [00:02<00:00, 15.51it/s]\n"
     ]
    },
    {
     "name": "stdout",
     "output_type": "stream",
     "text": [
      "Epoch 1/100, Loss: 0.00724910037748856, Val_Recall: 90.9942954744711%\n",
      "Model saved based on lowest validation loss.\n"
     ]
    },
    {
     "name": "stderr",
     "output_type": "stream",
     "text": [
      "100%|███████████████████████████████████████████████████████████████████████████████████████████████████████| 287/287 [00:51<00:00,  5.62it/s]\n",
      "100%|█████████████████████████████████████████████████████████████████████████████████████████████████████████| 40/40 [00:02<00:00, 15.41it/s]\n"
     ]
    },
    {
     "name": "stdout",
     "output_type": "stream",
     "text": [
      "Epoch 2/100, Loss: 0.0026514336757149427, Val_Recall: 95.96059010406492%\n",
      "Model saved based on lowest validation loss.\n"
     ]
    },
    {
     "name": "stderr",
     "output_type": "stream",
     "text": [
      "100%|███████████████████████████████████████████████████████████████████████████████████████████████████████| 287/287 [00:51<00:00,  5.62it/s]\n",
      "100%|█████████████████████████████████████████████████████████████████████████████████████████████████████████| 40/40 [00:02<00:00, 15.37it/s]\n"
     ]
    },
    {
     "name": "stdout",
     "output_type": "stream",
     "text": [
      "Epoch 3/100, Loss: 0.006261864577721354, Val_Recall: 94.6522305959241%\n"
     ]
    },
    {
     "name": "stderr",
     "output_type": "stream",
     "text": [
      "100%|███████████████████████████████████████████████████████████████████████████████████████████████████████| 287/287 [00:51<00:00,  5.62it/s]\n",
      "100%|█████████████████████████████████████████████████████████████████████████████████████████████████████████| 40/40 [00:02<00:00, 15.36it/s]\n"
     ]
    },
    {
     "name": "stdout",
     "output_type": "stream",
     "text": [
      "Epoch 4/100, Loss: 0.004221174192932153, Val_Recall: 98.22458115473114%\n"
     ]
    },
    {
     "name": "stderr",
     "output_type": "stream",
     "text": [
      "100%|███████████████████████████████████████████████████████████████████████████████████████████████████████| 287/287 [00:51<00:00,  5.62it/s]\n",
      "100%|█████████████████████████████████████████████████████████████████████████████████████████████████████████| 40/40 [00:02<00:00, 15.57it/s]\n"
     ]
    },
    {
     "name": "stdout",
     "output_type": "stream",
     "text": [
      "Epoch 5/100, Loss: 0.0051687418133433026, Val_Recall: 96.26991059001627%\n"
     ]
    },
    {
     "name": "stderr",
     "output_type": "stream",
     "text": [
      "100%|███████████████████████████████████████████████████████████████████████████████████████████████████████| 287/287 [00:51<00:00,  5.62it/s]\n",
      "100%|█████████████████████████████████████████████████████████████████████████████████████████████████████████| 40/40 [00:02<00:00, 15.37it/s]\n"
     ]
    },
    {
     "name": "stdout",
     "output_type": "stream",
     "text": [
      "Epoch 6/100, Loss: 0.003070591085940322, Val_Recall: 97.60383890422547%\n"
     ]
    },
    {
     "name": "stderr",
     "output_type": "stream",
     "text": [
      "100%|███████████████████████████████████████████████████████████████████████████████████████████████████████| 287/287 [00:51<00:00,  5.63it/s]\n",
      "100%|█████████████████████████████████████████████████████████████████████████████████████████████████████████| 40/40 [00:02<00:00, 15.35it/s]\n"
     ]
    },
    {
     "name": "stdout",
     "output_type": "stream",
     "text": [
      "Epoch 7/100, Loss: 0.004170926759283588, Val_Recall: 96.89633820019453%\n"
     ]
    },
    {
     "name": "stderr",
     "output_type": "stream",
     "text": [
      "100%|███████████████████████████████████████████████████████████████████████████████████████████████████████| 287/287 [00:51<00:00,  5.63it/s]\n",
      "100%|█████████████████████████████████████████████████████████████████████████████████████████████████████████| 40/40 [00:02<00:00, 15.44it/s]\n"
     ]
    },
    {
     "name": "stdout",
     "output_type": "stream",
     "text": [
      "Epoch 8/100, Loss: 0.003527472330819137, Val_Recall: 98.30407879548312%\n"
     ]
    },
    {
     "name": "stderr",
     "output_type": "stream",
     "text": [
      "100%|███████████████████████████████████████████████████████████████████████████████████████████████████████| 287/287 [00:50<00:00,  5.63it/s]\n",
      "100%|█████████████████████████████████████████████████████████████████████████████████████████████████████████| 40/40 [00:02<00:00, 15.38it/s]\n"
     ]
    },
    {
     "name": "stdout",
     "output_type": "stream",
     "text": [
      "Epoch 9/100, Loss: 0.008916006421210909, Val_Recall: 92.53859467178262%\n"
     ]
    },
    {
     "name": "stderr",
     "output_type": "stream",
     "text": [
      "100%|███████████████████████████████████████████████████████████████████████████████████████████████████████| 287/287 [00:51<00:00,  5.62it/s]\n",
      "100%|█████████████████████████████████████████████████████████████████████████████████████████████████████████| 40/40 [00:02<00:00, 15.35it/s]\n"
     ]
    },
    {
     "name": "stdout",
     "output_type": "stream",
     "text": [
      "Epoch 10/100, Loss: 0.001483260982416823, Val_Recall: 98.67831404472261%\n",
      "Model saved based on lowest validation loss.\n"
     ]
    },
    {
     "name": "stderr",
     "output_type": "stream",
     "text": [
      "100%|███████████████████████████████████████████████████████████████████████████████████████████████████████| 287/287 [00:50<00:00,  5.63it/s]\n",
      "100%|█████████████████████████████████████████████████████████████████████████████████████████████████████████| 40/40 [00:02<00:00, 15.88it/s]\n"
     ]
    },
    {
     "name": "stdout",
     "output_type": "stream",
     "text": [
      "Epoch 11/100, Loss: 0.003051972846141127, Val_Recall: 97.38723967047379%\n"
     ]
    },
    {
     "name": "stderr",
     "output_type": "stream",
     "text": [
      "100%|███████████████████████████████████████████████████████████████████████████████████████████████████████| 287/287 [00:51<00:00,  5.62it/s]\n",
      "100%|█████████████████████████████████████████████████████████████████████████████████████████████████████████| 40/40 [00:02<00:00, 15.64it/s]\n"
     ]
    },
    {
     "name": "stdout",
     "output_type": "stream",
     "text": [
      "Epoch 12/100, Loss: 0.027350900029567648, Val_Recall: 93.17008325824534%\n"
     ]
    },
    {
     "name": "stderr",
     "output_type": "stream",
     "text": [
      "100%|███████████████████████████████████████████████████████████████████████████████████████████████████████| 287/287 [00:50<00:00,  5.63it/s]\n",
      "100%|█████████████████████████████████████████████████████████████████████████████████████████████████████████| 40/40 [00:02<00:00, 15.22it/s]\n"
     ]
    },
    {
     "name": "stdout",
     "output_type": "stream",
     "text": [
      "Epoch 13/100, Loss: 0.007473050664120379, Val_Recall: 94.25404323471089%\n"
     ]
    },
    {
     "name": "stderr",
     "output_type": "stream",
     "text": [
      "100%|███████████████████████████████████████████████████████████████████████████████████████████████████████| 287/287 [00:51<00:00,  5.63it/s]\n",
      "100%|█████████████████████████████████████████████████████████████████████████████████████████████████████████| 40/40 [00:02<00:00, 15.27it/s]\n"
     ]
    },
    {
     "name": "stdout",
     "output_type": "stream",
     "text": [
      "Epoch 14/100, Loss: 0.002894023788798594, Val_Recall: 97.80788887046906%\n"
     ]
    },
    {
     "name": "stderr",
     "output_type": "stream",
     "text": [
      "100%|███████████████████████████████████████████████████████████████████████████████████████████████████████| 287/287 [00:51<00:00,  5.62it/s]\n",
      "100%|█████████████████████████████████████████████████████████████████████████████████████████████████████████| 40/40 [00:02<00:00, 15.46it/s]\n"
     ]
    },
    {
     "name": "stdout",
     "output_type": "stream",
     "text": [
      "Epoch 15/100, Loss: 0.0023042945694966123, Val_Recall: 96.27189404482209%\n"
     ]
    },
    {
     "name": "stderr",
     "output_type": "stream",
     "text": [
      "100%|███████████████████████████████████████████████████████████████████████████████████████████████████████| 287/287 [00:50<00:00,  5.63it/s]\n",
      "100%|█████████████████████████████████████████████████████████████████████████████████████████████████████████| 40/40 [00:02<00:00, 15.76it/s]\n"
     ]
    },
    {
     "name": "stdout",
     "output_type": "stream",
     "text": [
      "Epoch 16/100, Loss: 0.008902225225608618, Val_Recall: 94.0446036405633%\n"
     ]
    },
    {
     "name": "stderr",
     "output_type": "stream",
     "text": [
      "100%|███████████████████████████████████████████████████████████████████████████████████████████████████████| 287/287 [00:51<00:00,  5.62it/s]\n",
      "100%|█████████████████████████████████████████████████████████████████████████████████████████████████████████| 40/40 [00:02<00:00, 15.26it/s]\n"
     ]
    },
    {
     "name": "stdout",
     "output_type": "stream",
     "text": [
      "Epoch 17/100, Loss: 0.003775778343356262, Val_Recall: 95.83125544351546%\n"
     ]
    },
    {
     "name": "stderr",
     "output_type": "stream",
     "text": [
      "100%|███████████████████████████████████████████████████████████████████████████████████████████████████████| 287/287 [00:51<00:00,  5.62it/s]\n",
      "100%|█████████████████████████████████████████████████████████████████████████████████████████████████████████| 40/40 [00:02<00:00, 15.35it/s]\n"
     ]
    },
    {
     "name": "stdout",
     "output_type": "stream",
     "text": [
      "Epoch 18/100, Loss: 0.006105751478219396, Val_Recall: 94.56736581059168%\n"
     ]
    },
    {
     "name": "stderr",
     "output_type": "stream",
     "text": [
      "100%|███████████████████████████████████████████████████████████████████████████████████████████████████████| 287/287 [00:51<00:00,  5.62it/s]\n",
      "100%|█████████████████████████████████████████████████████████████████████████████████████████████████████████| 40/40 [00:02<00:00, 15.34it/s]\n"
     ]
    },
    {
     "name": "stdout",
     "output_type": "stream",
     "text": [
      "Epoch 19/100, Loss: 0.006243348603247512, Val_Recall: 92.55519906037941%\n"
     ]
    },
    {
     "name": "stderr",
     "output_type": "stream",
     "text": [
      "100%|███████████████████████████████████████████████████████████████████████████████████████████████████████| 287/287 [00:51<00:00,  5.63it/s]\n",
      "100%|█████████████████████████████████████████████████████████████████████████████████████████████████████████| 40/40 [00:02<00:00, 15.64it/s]\n"
     ]
    },
    {
     "name": "stdout",
     "output_type": "stream",
     "text": [
      "Epoch 20/100, Loss: 0.006752330664417985, Val_Recall: 93.6742774366761%\n"
     ]
    },
    {
     "name": "stderr",
     "output_type": "stream",
     "text": [
      "100%|███████████████████████████████████████████████████████████████████████████████████████████████████████| 287/287 [00:51<00:00,  5.61it/s]\n",
      "100%|█████████████████████████████████████████████████████████████████████████████████████████████████████████| 40/40 [00:02<00:00, 15.54it/s]\n"
     ]
    },
    {
     "name": "stdout",
     "output_type": "stream",
     "text": [
      "Epoch 21/100, Loss: 0.004195902736096935, Val_Recall: 93.85277069440075%\n"
     ]
    },
    {
     "name": "stderr",
     "output_type": "stream",
     "text": [
      "100%|███████████████████████████████████████████████████████████████████████████████████████████████████████| 287/287 [00:51<00:00,  5.62it/s]\n",
      "100%|█████████████████████████████████████████████████████████████████████████████████████████████████████████| 40/40 [00:02<00:00, 15.57it/s]\n"
     ]
    },
    {
     "name": "stdout",
     "output_type": "stream",
     "text": [
      "Epoch 22/100, Loss: 0.029340787843102588, Val_Recall: 86.32750834795817%\n"
     ]
    },
    {
     "name": "stderr",
     "output_type": "stream",
     "text": [
      "100%|███████████████████████████████████████████████████████████████████████████████████████████████████████| 287/287 [00:50<00:00,  5.63it/s]\n",
      "100%|█████████████████████████████████████████████████████████████████████████████████████████████████████████| 40/40 [00:02<00:00, 15.62it/s]\n"
     ]
    },
    {
     "name": "stdout",
     "output_type": "stream",
     "text": [
      "Epoch 23/100, Loss: 0.002050412206301173, Val_Recall: 97.3192255931839%\n"
     ]
    },
    {
     "name": "stderr",
     "output_type": "stream",
     "text": [
      "100%|███████████████████████████████████████████████████████████████████████████████████████████████████████| 287/287 [00:51<00:00,  5.62it/s]\n",
      "100%|█████████████████████████████████████████████████████████████████████████████████████████████████████████| 40/40 [00:02<00:00, 15.34it/s]\n"
     ]
    },
    {
     "name": "stdout",
     "output_type": "stream",
     "text": [
      "Epoch 24/100, Loss: 0.004291778694496323, Val_Recall: 96.67435157487711%\n"
     ]
    },
    {
     "name": "stderr",
     "output_type": "stream",
     "text": [
      "100%|███████████████████████████████████████████████████████████████████████████████████████████████████████| 287/287 [00:51<00:00,  5.62it/s]\n",
      "100%|█████████████████████████████████████████████████████████████████████████████████████████████████████████| 40/40 [00:02<00:00, 15.35it/s]\n"
     ]
    },
    {
     "name": "stdout",
     "output_type": "stream",
     "text": [
      "Epoch 25/100, Loss: 0.0024323922592358826, Val_Recall: 98.27070994114041%\n"
     ]
    },
    {
     "name": "stderr",
     "output_type": "stream",
     "text": [
      "100%|███████████████████████████████████████████████████████████████████████████████████████████████████████| 287/287 [00:51<00:00,  5.62it/s]\n",
      "100%|█████████████████████████████████████████████████████████████████████████████████████████████████████████| 40/40 [00:02<00:00, 15.44it/s]\n"
     ]
    },
    {
     "name": "stdout",
     "output_type": "stream",
     "text": [
      "Epoch 26/100, Loss: 0.001004088472757353, Val_Recall: 98.79885646249905%\n",
      "Model saved based on lowest validation loss.\n"
     ]
    },
    {
     "name": "stderr",
     "output_type": "stream",
     "text": [
      "100%|███████████████████████████████████████████████████████████████████████████████████████████████████████| 287/287 [00:51<00:00,  5.62it/s]\n",
      "100%|█████████████████████████████████████████████████████████████████████████████████████████████████████████| 40/40 [00:02<00:00, 15.11it/s]\n"
     ]
    },
    {
     "name": "stdout",
     "output_type": "stream",
     "text": [
      "Epoch 27/100, Loss: 0.0010607336490994434, Val_Recall: 98.96360355701006%\n"
     ]
    },
    {
     "name": "stderr",
     "output_type": "stream",
     "text": [
      "100%|███████████████████████████████████████████████████████████████████████████████████████████████████████| 287/287 [00:51<00:00,  5.62it/s]\n",
      "100%|█████████████████████████████████████████████████████████████████████████████████████████████████████████| 40/40 [00:02<00:00, 15.25it/s]\n"
     ]
    },
    {
     "name": "stdout",
     "output_type": "stream",
     "text": [
      "Epoch 28/100, Loss: 0.0008232563074720811, Val_Recall: 99.14525065818923%\n",
      "Model saved based on lowest validation loss.\n"
     ]
    },
    {
     "name": "stderr",
     "output_type": "stream",
     "text": [
      "100%|███████████████████████████████████████████████████████████████████████████████████████████████████████| 287/287 [00:51<00:00,  5.62it/s]\n",
      "100%|█████████████████████████████████████████████████████████████████████████████████████████████████████████| 40/40 [00:02<00:00, 15.27it/s]\n"
     ]
    },
    {
     "name": "stdout",
     "output_type": "stream",
     "text": [
      "Epoch 29/100, Loss: 0.0018160858112021444, Val_Recall: 97.84806162258057%\n"
     ]
    },
    {
     "name": "stderr",
     "output_type": "stream",
     "text": [
      "100%|███████████████████████████████████████████████████████████████████████████████████████████████████████| 287/287 [00:51<00:00,  5.62it/s]\n",
      "100%|█████████████████████████████████████████████████████████████████████████████████████████████████████████| 40/40 [00:02<00:00, 15.25it/s]\n"
     ]
    },
    {
     "name": "stdout",
     "output_type": "stream",
     "text": [
      "Epoch 30/100, Loss: 0.0008512367753057621, Val_Recall: 99.05285816619852%\n"
     ]
    },
    {
     "name": "stderr",
     "output_type": "stream",
     "text": [
      "100%|███████████████████████████████████████████████████████████████████████████████████████████████████████| 287/287 [00:50<00:00,  5.63it/s]\n",
      "100%|█████████████████████████████████████████████████████████████████████████████████████████████████████████| 40/40 [00:02<00:00, 14.86it/s]\n"
     ]
    },
    {
     "name": "stdout",
     "output_type": "stream",
     "text": [
      "Epoch 31/100, Loss: 0.000557650445952329, Val_Recall: 99.49942081628093%\n",
      "Model saved based on lowest validation loss.\n"
     ]
    },
    {
     "name": "stderr",
     "output_type": "stream",
     "text": [
      "100%|███████████████████████████████████████████████████████████████████████████████████████████████████████| 287/287 [00:51<00:00,  5.62it/s]\n",
      "100%|█████████████████████████████████████████████████████████████████████████████████████████████████████████| 40/40 [00:02<00:00, 15.40it/s]\n"
     ]
    },
    {
     "name": "stdout",
     "output_type": "stream",
     "text": [
      "Epoch 32/100, Loss: 0.003886970954324065, Val_Recall: 96.48108660779275%\n"
     ]
    },
    {
     "name": "stderr",
     "output_type": "stream",
     "text": [
      "100%|███████████████████████████████████████████████████████████████████████████████████████████████████████| 287/287 [00:51<00:00,  5.61it/s]\n",
      "100%|█████████████████████████████████████████████████████████████████████████████████████████████████████████| 40/40 [00:02<00:00, 15.40it/s]\n"
     ]
    },
    {
     "name": "stdout",
     "output_type": "stream",
     "text": [
      "Epoch 33/100, Loss: 0.0033887890098210248, Val_Recall: 95.21363104782871%\n"
     ]
    },
    {
     "name": "stderr",
     "output_type": "stream",
     "text": [
      "100%|███████████████████████████████████████████████████████████████████████████████████████████████████████| 287/287 [00:51<00:00,  5.62it/s]\n",
      "100%|█████████████████████████████████████████████████████████████████████████████████████████████████████████| 40/40 [00:02<00:00, 15.34it/s]\n"
     ]
    },
    {
     "name": "stdout",
     "output_type": "stream",
     "text": [
      "Epoch 34/100, Loss: 0.0053960266207419595, Val_Recall: 95.92018387288415%\n"
     ]
    },
    {
     "name": "stderr",
     "output_type": "stream",
     "text": [
      "100%|███████████████████████████████████████████████████████████████████████████████████████████████████████| 287/287 [00:51<00:00,  5.62it/s]\n",
      "100%|█████████████████████████████████████████████████████████████████████████████████████████████████████████| 40/40 [00:02<00:00, 15.25it/s]\n"
     ]
    },
    {
     "name": "stdout",
     "output_type": "stream",
     "text": [
      "Epoch 35/100, Loss: 0.007369624553327725, Val_Recall: 93.91240672752592%\n"
     ]
    },
    {
     "name": "stderr",
     "output_type": "stream",
     "text": [
      "100%|███████████████████████████████████████████████████████████████████████████████████████████████████████| 287/287 [00:50<00:00,  5.63it/s]\n",
      "100%|█████████████████████████████████████████████████████████████████████████████████████████████████████████| 40/40 [00:02<00:00, 15.23it/s]\n"
     ]
    },
    {
     "name": "stdout",
     "output_type": "stream",
     "text": [
      "Epoch 36/100, Loss: 0.006656114036040289, Val_Recall: 93.48369098209992%\n"
     ]
    },
    {
     "name": "stderr",
     "output_type": "stream",
     "text": [
      "100%|███████████████████████████████████████████████████████████████████████████████████████████████████████| 287/287 [00:50<00:00,  5.63it/s]\n",
      "100%|█████████████████████████████████████████████████████████████████████████████████████████████████████████| 40/40 [00:02<00:00, 15.56it/s]\n"
     ]
    },
    {
     "name": "stdout",
     "output_type": "stream",
     "text": [
      "Epoch 37/100, Loss: 0.0016845988156077407, Val_Recall: 97.02460008935775%\n"
     ]
    },
    {
     "name": "stderr",
     "output_type": "stream",
     "text": [
      "100%|███████████████████████████████████████████████████████████████████████████████████████████████████████| 287/287 [00:51<00:00,  5.62it/s]\n",
      "100%|█████████████████████████████████████████████████████████████████████████████████████████████████████████| 40/40 [00:02<00:00, 15.36it/s]\n"
     ]
    },
    {
     "name": "stdout",
     "output_type": "stream",
     "text": [
      "Epoch 38/100, Loss: 0.0012232871317964203, Val_Recall: 97.83625803428974%\n"
     ]
    },
    {
     "name": "stderr",
     "output_type": "stream",
     "text": [
      "100%|███████████████████████████████████████████████████████████████████████████████████████████████████████| 287/287 [00:51<00:00,  5.62it/s]\n",
      "100%|█████████████████████████████████████████████████████████████████████████████████████████████████████████| 40/40 [00:02<00:00, 15.36it/s]\n"
     ]
    },
    {
     "name": "stdout",
     "output_type": "stream",
     "text": [
      "Epoch 39/100, Loss: 0.0010100328138416687, Val_Recall: 99.00230964776863%\n"
     ]
    },
    {
     "name": "stderr",
     "output_type": "stream",
     "text": [
      "100%|███████████████████████████████████████████████████████████████████████████████████████████████████████| 287/287 [00:51<00:00,  5.62it/s]\n",
      "100%|█████████████████████████████████████████████████████████████████████████████████████████████████████████| 40/40 [00:02<00:00, 15.71it/s]\n"
     ]
    },
    {
     "name": "stdout",
     "output_type": "stream",
     "text": [
      "Epoch 40/100, Loss: 0.0010004117773431047, Val_Recall: 99.01411323605947%\n"
     ]
    },
    {
     "name": "stderr",
     "output_type": "stream",
     "text": [
      "100%|███████████████████████████████████████████████████████████████████████████████████████████████████████| 287/287 [00:51<00:00,  5.62it/s]\n",
      "100%|█████████████████████████████████████████████████████████████████████████████████████████████████████████| 40/40 [00:02<00:00, 15.28it/s]\n"
     ]
    },
    {
     "name": "stdout",
     "output_type": "stream",
     "text": [
      "Epoch 41/100, Loss: 0.011986779510784518, Val_Recall: 85.7089128906563%\n"
     ]
    },
    {
     "name": "stderr",
     "output_type": "stream",
     "text": [
      "100%|███████████████████████████████████████████████████████████████████████████████████████████████████████| 287/287 [00:51<00:00,  5.62it/s]\n",
      "100%|█████████████████████████████████████████████████████████████████████████████████████████████████████████| 40/40 [00:02<00:00, 15.60it/s]\n"
     ]
    },
    {
     "name": "stdout",
     "output_type": "stream",
     "text": [
      "Epoch 42/100, Loss: 0.003498320918847625, Val_Recall: 96.66508879047194%\n"
     ]
    },
    {
     "name": "stderr",
     "output_type": "stream",
     "text": [
      "100%|███████████████████████████████████████████████████████████████████████████████████████████████████████| 287/287 [00:51<00:00,  5.61it/s]\n",
      "100%|█████████████████████████████████████████████████████████████████████████████████████████████████████████| 40/40 [00:02<00:00, 15.17it/s]\n"
     ]
    },
    {
     "name": "stdout",
     "output_type": "stream",
     "text": [
      "Epoch 43/100, Loss: 0.004644051281303563, Val_Recall: 93.19002037953021%\n"
     ]
    },
    {
     "name": "stderr",
     "output_type": "stream",
     "text": [
      "100%|███████████████████████████████████████████████████████████████████████████████████████████████████████| 287/287 [00:51<00:00,  5.62it/s]\n",
      "100%|█████████████████████████████████████████████████████████████████████████████████████████████████████████| 40/40 [00:02<00:00, 15.51it/s]\n"
     ]
    },
    {
     "name": "stdout",
     "output_type": "stream",
     "text": [
      "Epoch 44/100, Loss: 0.0016147536467179542, Val_Recall: 96.74186756270838%\n"
     ]
    },
    {
     "name": "stderr",
     "output_type": "stream",
     "text": [
      "100%|███████████████████████████████████████████████████████████████████████████████████████████████████████| 287/287 [00:50<00:00,  5.63it/s]\n",
      "100%|█████████████████████████████████████████████████████████████████████████████████████████████████████████| 40/40 [00:02<00:00, 15.27it/s]\n"
     ]
    },
    {
     "name": "stdout",
     "output_type": "stream",
     "text": [
      "Epoch 45/100, Loss: 0.0019077812965724225, Val_Recall: 98.17217978401276%\n"
     ]
    },
    {
     "name": "stderr",
     "output_type": "stream",
     "text": [
      "100%|███████████████████████████████████████████████████████████████████████████████████████████████████████| 287/287 [00:51<00:00,  5.62it/s]\n",
      "100%|█████████████████████████████████████████████████████████████████████████████████████████████████████████| 40/40 [00:02<00:00, 15.15it/s]\n"
     ]
    },
    {
     "name": "stdout",
     "output_type": "stream",
     "text": [
      "Epoch 46/100, Loss: 0.0017206618704416316, Val_Recall: 97.87131143876682%\n"
     ]
    },
    {
     "name": "stderr",
     "output_type": "stream",
     "text": [
      "100%|███████████████████████████████████████████████████████████████████████████████████████████████████████| 287/287 [00:51<00:00,  5.62it/s]\n",
      "100%|█████████████████████████████████████████████████████████████████████████████████████████████████████████| 40/40 [00:02<00:00, 15.07it/s]\n"
     ]
    },
    {
     "name": "stdout",
     "output_type": "stream",
     "text": [
      "Epoch 47/100, Loss: 0.006018244350383082, Val_Recall: 95.34616742116448%\n"
     ]
    },
    {
     "name": "stderr",
     "output_type": "stream",
     "text": [
      "100%|███████████████████████████████████████████████████████████████████████████████████████████████████████| 287/287 [00:51<00:00,  5.63it/s]\n",
      "100%|█████████████████████████████████████████████████████████████████████████████████████████████████████████| 40/40 [00:02<00:00, 15.21it/s]\n"
     ]
    },
    {
     "name": "stdout",
     "output_type": "stream",
     "text": [
      "Epoch 48/100, Loss: 0.0031179481650402104, Val_Recall: 96.37032744778097%\n"
     ]
    },
    {
     "name": "stderr",
     "output_type": "stream",
     "text": [
      "100%|███████████████████████████████████████████████████████████████████████████████████████████████████████| 287/287 [00:50<00:00,  5.63it/s]\n",
      "100%|█████████████████████████████████████████████████████████████████████████████████████████████████████████| 40/40 [00:02<00:00, 15.77it/s]\n"
     ]
    },
    {
     "name": "stdout",
     "output_type": "stream",
     "text": [
      "Epoch 49/100, Loss: 0.0014127530978033682, Val_Recall: 98.84605920427283%\n"
     ]
    },
    {
     "name": "stderr",
     "output_type": "stream",
     "text": [
      "100%|███████████████████████████████████████████████████████████████████████████████████████████████████████| 287/287 [00:51<00:00,  5.61it/s]\n",
      "100%|█████████████████████████████████████████████████████████████████████████████████████████████████████████| 40/40 [00:02<00:00, 15.24it/s]\n"
     ]
    },
    {
     "name": "stdout",
     "output_type": "stream",
     "text": [
      "Epoch 50/100, Loss: 0.004527900319337752, Val_Recall: 95.84543768455696%\n"
     ]
    },
    {
     "name": "stderr",
     "output_type": "stream",
     "text": [
      "100%|███████████████████████████████████████████████████████████████████████████████████████████████████████| 287/287 [00:51<00:00,  5.62it/s]\n",
      "100%|█████████████████████████████████████████████████████████████████████████████████████████████████████████| 40/40 [00:02<00:00, 15.63it/s]\n"
     ]
    },
    {
     "name": "stdout",
     "output_type": "stream",
     "text": [
      "Epoch 51/100, Loss: 0.002851742516094512, Val_Recall: 97.5070248239569%\n"
     ]
    },
    {
     "name": "stderr",
     "output_type": "stream",
     "text": [
      "100%|███████████████████████████████████████████████████████████████████████████████████████████████████████| 287/287 [00:50<00:00,  5.63it/s]\n",
      "100%|█████████████████████████████████████████████████████████████████████████████████████████████████████████| 40/40 [00:02<00:00, 15.24it/s]\n"
     ]
    },
    {
     "name": "stdout",
     "output_type": "stream",
     "text": [
      "Epoch 52/100, Loss: 0.0026689616924682946, Val_Recall: 97.16107474790334%\n"
     ]
    },
    {
     "name": "stderr",
     "output_type": "stream",
     "text": [
      "100%|███████████████████████████████████████████████████████████████████████████████████████████████████████| 287/287 [00:50<00:00,  5.63it/s]\n",
      "100%|█████████████████████████████████████████████████████████████████████████████████████████████████████████| 40/40 [00:02<00:00, 15.24it/s]\n"
     ]
    },
    {
     "name": "stdout",
     "output_type": "stream",
     "text": [
      "Epoch 53/100, Loss: 0.005256546815804336, Val_Recall: 95.8709293264865%\n"
     ]
    },
    {
     "name": "stderr",
     "output_type": "stream",
     "text": [
      "100%|███████████████████████████████████████████████████████████████████████████████████████████████████████| 287/287 [00:50<00:00,  5.63it/s]\n",
      "100%|█████████████████████████████████████████████████████████████████████████████████████████████████████████| 40/40 [00:02<00:00, 15.51it/s]\n"
     ]
    },
    {
     "name": "stdout",
     "output_type": "stream",
     "text": [
      "Epoch 54/100, Loss: 0.0039954257560919065, Val_Recall: 97.59995536851949%\n"
     ]
    },
    {
     "name": "stderr",
     "output_type": "stream",
     "text": [
      "100%|███████████████████████████████████████████████████████████████████████████████████████████████████████| 287/287 [00:51<00:00,  5.62it/s]\n",
      "100%|█████████████████████████████████████████████████████████████████████████████████████████████████████████| 40/40 [00:02<00:00, 15.20it/s]\n"
     ]
    },
    {
     "name": "stdout",
     "output_type": "stream",
     "text": [
      "Epoch 55/100, Loss: 0.0028489352472007125, Val_Recall: 97.5147805775013%\n"
     ]
    },
    {
     "name": "stderr",
     "output_type": "stream",
     "text": [
      "100%|███████████████████████████████████████████████████████████████████████████████████████████████████████| 287/287 [00:51<00:00,  5.62it/s]\n",
      "100%|█████████████████████████████████████████████████████████████████████████████████████████████████████████| 40/40 [00:02<00:00, 15.20it/s]\n"
     ]
    },
    {
     "name": "stdout",
     "output_type": "stream",
     "text": [
      "Epoch 56/100, Loss: 0.00781956772784565, Val_Recall: 95.86232173057283%\n"
     ]
    },
    {
     "name": "stderr",
     "output_type": "stream",
     "text": [
      "100%|███████████████████████████████████████████████████████████████████████████████████████████████████████| 287/287 [00:51<00:00,  5.62it/s]\n",
      "100%|█████████████████████████████████████████████████████████████████████████████████████████████████████████| 40/40 [00:02<00:00, 15.58it/s]\n"
     ]
    },
    {
     "name": "stdout",
     "output_type": "stream",
     "text": [
      "Epoch 57/100, Loss: 0.004660005074159379, Val_Recall: 97.62275394190398%\n"
     ]
    },
    {
     "name": "stderr",
     "output_type": "stream",
     "text": [
      "100%|███████████████████████████████████████████████████████████████████████████████████████████████████████| 287/287 [00:50<00:00,  5.64it/s]\n",
      "100%|█████████████████████████████████████████████████████████████████████████████████████████████████████████| 40/40 [00:02<00:00, 15.36it/s]\n"
     ]
    },
    {
     "name": "stdout",
     "output_type": "stream",
     "text": [
      "Epoch 58/100, Loss: 0.0014878524837306562, Val_Recall: 97.82569025792732%\n"
     ]
    },
    {
     "name": "stderr",
     "output_type": "stream",
     "text": [
      "100%|███████████████████████████████████████████████████████████████████████████████████████████████████████| 287/287 [00:51<00:00,  5.62it/s]\n",
      "100%|█████████████████████████████████████████████████████████████████████████████████████████████████████████| 40/40 [00:02<00:00, 15.34it/s]\n"
     ]
    },
    {
     "name": "stdout",
     "output_type": "stream",
     "text": [
      "Epoch 59/100, Loss: 0.0024933900330293413, Val_Recall: 97.96760337658687%\n"
     ]
    },
    {
     "name": "stderr",
     "output_type": "stream",
     "text": [
      "100%|███████████████████████████████████████████████████████████████████████████████████████████████████████| 287/287 [00:50<00:00,  5.63it/s]\n",
      "100%|█████████████████████████████████████████████████████████████████████████████████████████████████████████| 40/40 [00:02<00:00, 15.89it/s]\n"
     ]
    },
    {
     "name": "stdout",
     "output_type": "stream",
     "text": [
      "Epoch 60/100, Loss: 0.005500470759200249, Val_Recall: 95.41604701344335%\n"
     ]
    },
    {
     "name": "stderr",
     "output_type": "stream",
     "text": [
      "100%|███████████████████████████████████████████████████████████████████████████████████████████████████████| 287/287 [00:51<00:00,  5.63it/s]\n",
      "100%|█████████████████████████████████████████████████████████████████████████████████████████████████████████| 40/40 [00:02<00:00, 15.53it/s]\n"
     ]
    },
    {
     "name": "stdout",
     "output_type": "stream",
     "text": [
      "Epoch 61/100, Loss: 0.005768541119676845, Val_Recall: 95.2981798409574%\n",
      "Early stopping\n",
      "Loaded pretrained weights for efficientnet-b0\n"
     ]
    },
    {
     "name": "stderr",
     "output_type": "stream",
     "text": [
      "100%|███████████████████████████████████████████████████████████████████████████████████████████████████████| 287/287 [00:50<00:00,  5.63it/s]\n",
      "100%|█████████████████████████████████████████████████████████████████████████████████████████████████████████| 40/40 [00:02<00:00, 15.18it/s]\n"
     ]
    },
    {
     "name": "stdout",
     "output_type": "stream",
     "text": [
      "Epoch 1/100, Loss: 0.0024346737359409953, Val_Recall: 97.69006090772803%\n",
      "Model saved based on lowest validation loss.\n"
     ]
    },
    {
     "name": "stderr",
     "output_type": "stream",
     "text": [
      "100%|███████████████████████████████████████████████████████████████████████████████████████████████████████| 287/287 [00:51<00:00,  5.61it/s]\n",
      "100%|█████████████████████████████████████████████████████████████████████████████████████████████████████████| 40/40 [00:02<00:00, 15.51it/s]\n"
     ]
    },
    {
     "name": "stdout",
     "output_type": "stream",
     "text": [
      "Epoch 2/100, Loss: 0.0026699055227126676, Val_Recall: 94.88802864583116%\n"
     ]
    },
    {
     "name": "stderr",
     "output_type": "stream",
     "text": [
      "100%|███████████████████████████████████████████████████████████████████████████████████████████████████████| 287/287 [00:51<00:00,  5.61it/s]\n",
      "100%|█████████████████████████████████████████████████████████████████████████████████████████████████████████| 40/40 [00:02<00:00, 15.23it/s]\n"
     ]
    },
    {
     "name": "stdout",
     "output_type": "stream",
     "text": [
      "Epoch 3/100, Loss: 0.0012503568798372556, Val_Recall: 98.7048083656604%\n",
      "Model saved based on lowest validation loss.\n"
     ]
    },
    {
     "name": "stderr",
     "output_type": "stream",
     "text": [
      "100%|███████████████████████████████████████████████████████████████████████████████████████████████████████| 287/287 [00:50<00:00,  5.63it/s]\n",
      "100%|█████████████████████████████████████████████████████████████████████████████████████████████████████████| 40/40 [00:02<00:00, 15.19it/s]\n"
     ]
    },
    {
     "name": "stdout",
     "output_type": "stream",
     "text": [
      "Epoch 4/100, Loss: 0.006115453639199586, Val_Recall: 97.16502899376543%\n"
     ]
    },
    {
     "name": "stderr",
     "output_type": "stream",
     "text": [
      "100%|███████████████████████████████████████████████████████████████████████████████████████████████████████| 287/287 [00:51<00:00,  5.62it/s]\n",
      "100%|█████████████████████████████████████████████████████████████████████████████████████████████████████████| 40/40 [00:02<00:00, 15.19it/s]\n"
     ]
    },
    {
     "name": "stdout",
     "output_type": "stream",
     "text": [
      "Epoch 5/100, Loss: 0.004444557663786241, Val_Recall: 93.73530974083366%\n"
     ]
    },
    {
     "name": "stderr",
     "output_type": "stream",
     "text": [
      "100%|███████████████████████████████████████████████████████████████████████████████████████████████████████| 287/287 [00:51<00:00,  5.63it/s]\n",
      "100%|█████████████████████████████████████████████████████████████████████████████████████████████████████████| 40/40 [00:02<00:00, 15.20it/s]\n"
     ]
    },
    {
     "name": "stdout",
     "output_type": "stream",
     "text": [
      "Epoch 6/100, Loss: 0.0028607992112355874, Val_Recall: 95.78206357810465%\n"
     ]
    },
    {
     "name": "stderr",
     "output_type": "stream",
     "text": [
      "100%|███████████████████████████████████████████████████████████████████████████████████████████████████████| 287/287 [00:51<00:00,  5.62it/s]\n",
      "100%|█████████████████████████████████████████████████████████████████████████████████████████████████████████| 40/40 [00:02<00:00, 15.29it/s]\n"
     ]
    },
    {
     "name": "stdout",
     "output_type": "stream",
     "text": [
      "Epoch 7/100, Loss: 0.006390131122332429, Val_Recall: 94.90118063582256%\n"
     ]
    },
    {
     "name": "stderr",
     "output_type": "stream",
     "text": [
      "100%|███████████████████████████████████████████████████████████████████████████████████████████████████████| 287/287 [00:51<00:00,  5.61it/s]\n",
      "100%|█████████████████████████████████████████████████████████████████████████████████████████████████████████| 40/40 [00:02<00:00, 15.25it/s]\n"
     ]
    },
    {
     "name": "stdout",
     "output_type": "stream",
     "text": [
      "Epoch 8/100, Loss: 0.006708806294022906, Val_Recall: 93.29896551167214%\n"
     ]
    },
    {
     "name": "stderr",
     "output_type": "stream",
     "text": [
      "100%|███████████████████████████████████████████████████████████████████████████████████████████████████████| 287/287 [00:51<00:00,  5.62it/s]\n",
      "100%|█████████████████████████████████████████████████████████████████████████████████████████████████████████| 40/40 [00:02<00:00, 15.11it/s]\n"
     ]
    },
    {
     "name": "stdout",
     "output_type": "stream",
     "text": [
      "Epoch 9/100, Loss: 0.0019846994602424894, Val_Recall: 98.76024968103398%\n"
     ]
    },
    {
     "name": "stderr",
     "output_type": "stream",
     "text": [
      "100%|███████████████████████████████████████████████████████████████████████████████████████████████████████| 287/287 [00:51<00:00,  5.63it/s]\n",
      "100%|█████████████████████████████████████████████████████████████████████████████████████████████████████████| 40/40 [00:02<00:00, 15.52it/s]\n"
     ]
    },
    {
     "name": "stdout",
     "output_type": "stream",
     "text": [
      "Epoch 10/100, Loss: 0.002115532526387476, Val_Recall: 98.09517578402556%\n"
     ]
    },
    {
     "name": "stderr",
     "output_type": "stream",
     "text": [
      "100%|███████████████████████████████████████████████████████████████████████████████████████████████████████| 287/287 [00:50<00:00,  5.63it/s]\n",
      "100%|█████████████████████████████████████████████████████████████████████████████████████████████████████████| 40/40 [00:02<00:00, 15.43it/s]\n"
     ]
    },
    {
     "name": "stdout",
     "output_type": "stream",
     "text": [
      "Epoch 11/100, Loss: 0.009096130880985997, Val_Recall: 95.196818712751%\n"
     ]
    },
    {
     "name": "stderr",
     "output_type": "stream",
     "text": [
      "100%|███████████████████████████████████████████████████████████████████████████████████████████████████████| 287/287 [00:51<00:00,  5.61it/s]\n",
      "100%|█████████████████████████████████████████████████████████████████████████████████████████████████████████| 40/40 [00:02<00:00, 15.29it/s]\n"
     ]
    },
    {
     "name": "stdout",
     "output_type": "stream",
     "text": [
      "Epoch 12/100, Loss: 0.0017131264017281821, Val_Recall: 97.91694226838484%\n"
     ]
    },
    {
     "name": "stderr",
     "output_type": "stream",
     "text": [
      "100%|███████████████████████████████████████████████████████████████████████████████████████████████████████| 287/287 [00:51<00:00,  5.62it/s]\n",
      "100%|█████████████████████████████████████████████████████████████████████████████████████████████████████████| 40/40 [00:02<00:00, 15.42it/s]\n"
     ]
    },
    {
     "name": "stdout",
     "output_type": "stream",
     "text": [
      "Epoch 13/100, Loss: 0.006919310023221168, Val_Recall: 95.20535287810858%\n"
     ]
    },
    {
     "name": "stderr",
     "output_type": "stream",
     "text": [
      "100%|███████████████████████████████████████████████████████████████████████████████████████████████████████| 287/287 [00:51<00:00,  5.62it/s]\n",
      "100%|█████████████████████████████████████████████████████████████████████████████████████████████████████████| 40/40 [00:02<00:00, 15.53it/s]\n"
     ]
    },
    {
     "name": "stdout",
     "output_type": "stream",
     "text": [
      "Epoch 14/100, Loss: 0.0016707257057474224, Val_Recall: 97.16774901994573%\n"
     ]
    },
    {
     "name": "stderr",
     "output_type": "stream",
     "text": [
      "100%|███████████████████████████████████████████████████████████████████████████████████████████████████████| 287/287 [00:51<00:00,  5.61it/s]\n",
      "100%|█████████████████████████████████████████████████████████████████████████████████████████████████████████| 40/40 [00:02<00:00, 15.57it/s]\n"
     ]
    },
    {
     "name": "stdout",
     "output_type": "stream",
     "text": [
      "Epoch 15/100, Loss: 0.027387990156580288, Val_Recall: 84.31191459598666%\n"
     ]
    },
    {
     "name": "stderr",
     "output_type": "stream",
     "text": [
      "100%|███████████████████████████████████████████████████████████████████████████████████████████████████████| 287/287 [00:51<00:00,  5.62it/s]\n",
      "100%|█████████████████████████████████████████████████████████████████████████████████████████████████████████| 40/40 [00:02<00:00, 15.71it/s]\n"
     ]
    },
    {
     "name": "stdout",
     "output_type": "stream",
     "text": [
      "Epoch 16/100, Loss: 0.0007707949525549651, Val_Recall: 98.82834317859577%\n",
      "Model saved based on lowest validation loss.\n"
     ]
    },
    {
     "name": "stderr",
     "output_type": "stream",
     "text": [
      "100%|███████████████████████████████████████████████████████████████████████████████████████████████████████| 287/287 [00:50<00:00,  5.63it/s]\n",
      "100%|█████████████████████████████████████████████████████████████████████████████████████████████████████████| 40/40 [00:02<00:00, 15.50it/s]\n"
     ]
    },
    {
     "name": "stdout",
     "output_type": "stream",
     "text": [
      "Epoch 17/100, Loss: 0.00764403493705137, Val_Recall: 93.67659086070933%\n"
     ]
    },
    {
     "name": "stderr",
     "output_type": "stream",
     "text": [
      "100%|███████████████████████████████████████████████████████████████████████████████████████████████████████| 287/287 [00:51<00:00,  5.62it/s]\n",
      "100%|█████████████████████████████████████████████████████████████████████████████████████████████████████████| 40/40 [00:02<00:00, 15.59it/s]\n"
     ]
    },
    {
     "name": "stdout",
     "output_type": "stream",
     "text": [
      "Epoch 18/100, Loss: 0.001734390535320613, Val_Recall: 97.92029968274404%\n"
     ]
    },
    {
     "name": "stderr",
     "output_type": "stream",
     "text": [
      "100%|███████████████████████████████████████████████████████████████████████████████████████████████████████| 287/287 [00:51<00:00,  5.61it/s]\n",
      "100%|█████████████████████████████████████████████████████████████████████████████████████████████████████████| 40/40 [00:02<00:00, 15.82it/s]\n"
     ]
    },
    {
     "name": "stdout",
     "output_type": "stream",
     "text": [
      "Epoch 19/100, Loss: 0.00077869937209952, Val_Recall: 98.09971426080935%\n"
     ]
    },
    {
     "name": "stderr",
     "output_type": "stream",
     "text": [
      "100%|███████████████████████████████████████████████████████████████████████████████████████████████████████| 287/287 [00:51<00:00,  5.62it/s]\n",
      "100%|█████████████████████████████████████████████████████████████████████████████████████████████████████████| 40/40 [00:02<00:00, 15.57it/s]\n"
     ]
    },
    {
     "name": "stdout",
     "output_type": "stream",
     "text": [
      "Epoch 20/100, Loss: 0.006069748865521118, Val_Recall: 92.92816361194375%\n"
     ]
    },
    {
     "name": "stderr",
     "output_type": "stream",
     "text": [
      "100%|███████████████████████████████████████████████████████████████████████████████████████████████████████| 287/287 [00:51<00:00,  5.62it/s]\n",
      "100%|█████████████████████████████████████████████████████████████████████████████████████████████████████████| 40/40 [00:02<00:00, 15.57it/s]\n"
     ]
    },
    {
     "name": "stdout",
     "output_type": "stream",
     "text": [
      "Epoch 21/100, Loss: 0.0022310165974893507, Val_Recall: 97.51890353378586%\n"
     ]
    },
    {
     "name": "stderr",
     "output_type": "stream",
     "text": [
      "100%|███████████████████████████████████████████████████████████████████████████████████████████████████████| 287/287 [00:51<00:00,  5.63it/s]\n",
      "100%|█████████████████████████████████████████████████████████████████████████████████████████████████████████| 40/40 [00:02<00:00, 15.31it/s]\n"
     ]
    },
    {
     "name": "stdout",
     "output_type": "stream",
     "text": [
      "Epoch 22/100, Loss: 0.005757173382732398, Val_Recall: 96.59571442846287%\n"
     ]
    },
    {
     "name": "stderr",
     "output_type": "stream",
     "text": [
      "100%|███████████████████████████████████████████████████████████████████████████████████████████████████████| 287/287 [00:51<00:00,  5.62it/s]\n",
      "100%|█████████████████████████████████████████████████████████████████████████████████████████████████████████| 40/40 [00:02<00:00, 15.23it/s]\n"
     ]
    },
    {
     "name": "stdout",
     "output_type": "stream",
     "text": [
      "Epoch 23/100, Loss: 0.0024676737540609396, Val_Recall: 96.85494124754416%\n"
     ]
    },
    {
     "name": "stderr",
     "output_type": "stream",
     "text": [
      "100%|███████████████████████████████████████████████████████████████████████████████████████████████████████| 287/287 [00:50<00:00,  5.63it/s]\n",
      "100%|█████████████████████████████████████████████████████████████████████████████████████████████████████████| 40/40 [00:02<00:00, 15.24it/s]\n"
     ]
    },
    {
     "name": "stdout",
     "output_type": "stream",
     "text": [
      "Epoch 24/100, Loss: 0.011195230603643516, Val_Recall: 93.14742491156512%\n"
     ]
    },
    {
     "name": "stderr",
     "output_type": "stream",
     "text": [
      "100%|███████████████████████████████████████████████████████████████████████████████████████████████████████| 287/287 [00:51<00:00,  5.61it/s]\n",
      "100%|█████████████████████████████████████████████████████████████████████████████████████████████████████████| 40/40 [00:02<00:00, 15.31it/s]\n"
     ]
    },
    {
     "name": "stdout",
     "output_type": "stream",
     "text": [
      "Epoch 25/100, Loss: 0.004701290643578576, Val_Recall: 94.52936653335638%\n"
     ]
    },
    {
     "name": "stderr",
     "output_type": "stream",
     "text": [
      "100%|███████████████████████████████████████████████████████████████████████████████████████████████████████| 287/287 [00:51<00:00,  5.61it/s]\n",
      "100%|█████████████████████████████████████████████████████████████████████████████████████████████████████████| 40/40 [00:02<00:00, 15.58it/s]\n"
     ]
    },
    {
     "name": "stdout",
     "output_type": "stream",
     "text": [
      "Epoch 26/100, Loss: 0.003094856432397604, Val_Recall: 98.8353502390009%\n"
     ]
    },
    {
     "name": "stderr",
     "output_type": "stream",
     "text": [
      "100%|███████████████████████████████████████████████████████████████████████████████████████████████████████| 287/287 [00:51<00:00,  5.62it/s]\n",
      "100%|█████████████████████████████████████████████████████████████████████████████████████████████████████████| 40/40 [00:02<00:00, 14.87it/s]\n"
     ]
    },
    {
     "name": "stdout",
     "output_type": "stream",
     "text": [
      "Epoch 27/100, Loss: 0.00527640221953095, Val_Recall: 97.03751560825089%\n"
     ]
    },
    {
     "name": "stderr",
     "output_type": "stream",
     "text": [
      "100%|███████████████████████████████████████████████████████████████████████████████████████████████████████| 287/287 [00:51<00:00,  5.61it/s]\n",
      "100%|█████████████████████████████████████████████████████████████████████████████████████████████████████████| 40/40 [00:02<00:00, 15.64it/s]\n"
     ]
    },
    {
     "name": "stdout",
     "output_type": "stream",
     "text": [
      "Epoch 28/100, Loss: 0.006099765398310422, Val_Recall: 91.6785234336953%\n"
     ]
    },
    {
     "name": "stderr",
     "output_type": "stream",
     "text": [
      "100%|███████████████████████████████████████████████████████████████████████████████████████████████████████| 287/287 [00:51<00:00,  5.61it/s]\n",
      "100%|█████████████████████████████████████████████████████████████████████████████████████████████████████████| 40/40 [00:02<00:00, 15.61it/s]\n"
     ]
    },
    {
     "name": "stdout",
     "output_type": "stream",
     "text": [
      "Epoch 29/100, Loss: 0.00143480405807322, Val_Recall: 98.12721354425106%\n"
     ]
    },
    {
     "name": "stderr",
     "output_type": "stream",
     "text": [
      "100%|███████████████████████████████████████████████████████████████████████████████████████████████████████| 287/287 [00:50<00:00,  5.63it/s]\n",
      "100%|█████████████████████████████████████████████████████████████████████████████████████████████████████████| 40/40 [00:02<00:00, 15.59it/s]\n"
     ]
    },
    {
     "name": "stdout",
     "output_type": "stream",
     "text": [
      "Epoch 30/100, Loss: 0.0008982042625567566, Val_Recall: 99.23474041553598%\n"
     ]
    },
    {
     "name": "stderr",
     "output_type": "stream",
     "text": [
      "100%|███████████████████████████████████████████████████████████████████████████████████████████████████████| 287/287 [00:51<00:00,  5.62it/s]\n",
      "100%|█████████████████████████████████████████████████████████████████████████████████████████████████████████| 40/40 [00:02<00:00, 15.16it/s]\n"
     ]
    },
    {
     "name": "stdout",
     "output_type": "stream",
     "text": [
      "Epoch 31/100, Loss: 0.0009436090148596144, Val_Recall: 99.40994269663727%\n"
     ]
    },
    {
     "name": "stderr",
     "output_type": "stream",
     "text": [
      "100%|███████████████████████████████████████████████████████████████████████████████████████████████████████| 287/287 [00:51<00:00,  5.62it/s]\n",
      "100%|█████████████████████████████████████████████████████████████████████████████████████████████████████████| 40/40 [00:02<00:00, 15.35it/s]\n"
     ]
    },
    {
     "name": "stdout",
     "output_type": "stream",
     "text": [
      "Epoch 32/100, Loss: 0.002262241846536739, Val_Recall: 95.94634806141745%\n"
     ]
    },
    {
     "name": "stderr",
     "output_type": "stream",
     "text": [
      "100%|███████████████████████████████████████████████████████████████████████████████████████████████████████| 287/287 [00:51<00:00,  5.61it/s]\n",
      "100%|█████████████████████████████████████████████████████████████████████████████████████████████████████████| 40/40 [00:02<00:00, 15.23it/s]\n"
     ]
    },
    {
     "name": "stdout",
     "output_type": "stream",
     "text": [
      "Epoch 33/100, Loss: 0.005528570876128213, Val_Recall: 95.7549865456069%\n"
     ]
    },
    {
     "name": "stderr",
     "output_type": "stream",
     "text": [
      "100%|███████████████████████████████████████████████████████████████████████████████████████████████████████| 287/287 [00:51<00:00,  5.62it/s]\n",
      "100%|█████████████████████████████████████████████████████████████████████████████████████████████████████████| 40/40 [00:02<00:00, 15.28it/s]\n"
     ]
    },
    {
     "name": "stdout",
     "output_type": "stream",
     "text": [
      "Epoch 34/100, Loss: 0.00452574952737048, Val_Recall: 93.34193292744033%\n"
     ]
    },
    {
     "name": "stderr",
     "output_type": "stream",
     "text": [
      "100%|███████████████████████████████████████████████████████████████████████████████████████████████████████| 287/287 [00:51<00:00,  5.62it/s]\n",
      "100%|█████████████████████████████████████████████████████████████████████████████████████████████████████████| 40/40 [00:02<00:00, 15.19it/s]\n"
     ]
    },
    {
     "name": "stdout",
     "output_type": "stream",
     "text": [
      "Epoch 35/100, Loss: 0.00500133735221518, Val_Recall: 93.93334970400656%\n"
     ]
    },
    {
     "name": "stderr",
     "output_type": "stream",
     "text": [
      "100%|███████████████████████████████████████████████████████████████████████████████████████████████████████| 287/287 [00:51<00:00,  5.62it/s]\n",
      "100%|█████████████████████████████████████████████████████████████████████████████████████████████████████████| 40/40 [00:02<00:00, 15.62it/s]\n"
     ]
    },
    {
     "name": "stdout",
     "output_type": "stream",
     "text": [
      "Epoch 36/100, Loss: 0.002456084267815776, Val_Recall: 98.69080071443138%\n"
     ]
    },
    {
     "name": "stderr",
     "output_type": "stream",
     "text": [
      "100%|███████████████████████████████████████████████████████████████████████████████████████████████████████| 287/287 [00:51<00:00,  5.62it/s]\n",
      "100%|█████████████████████████████████████████████████████████████████████████████████████████████████████████| 40/40 [00:02<00:00, 15.23it/s]\n"
     ]
    },
    {
     "name": "stdout",
     "output_type": "stream",
     "text": [
      "Epoch 37/100, Loss: 0.004195941057371399, Val_Recall: 95.89858968785934%\n"
     ]
    },
    {
     "name": "stderr",
     "output_type": "stream",
     "text": [
      "100%|███████████████████████████████████████████████████████████████████████████████████████████████████████| 287/287 [00:50<00:00,  5.63it/s]\n",
      "100%|█████████████████████████████████████████████████████████████████████████████████████████████████████████| 40/40 [00:02<00:00, 15.14it/s]\n"
     ]
    },
    {
     "name": "stdout",
     "output_type": "stream",
     "text": [
      "Epoch 38/100, Loss: 0.0016904278642158488, Val_Recall: 98.24438295738047%\n"
     ]
    },
    {
     "name": "stderr",
     "output_type": "stream",
     "text": [
      "100%|███████████████████████████████████████████████████████████████████████████████████████████████████████| 287/287 [00:51<00:00,  5.62it/s]\n",
      "100%|█████████████████████████████████████████████████████████████████████████████████████████████████████████| 40/40 [00:02<00:00, 15.49it/s]\n"
     ]
    },
    {
     "name": "stdout",
     "output_type": "stream",
     "text": [
      "Epoch 39/100, Loss: 0.0005908028484860218, Val_Recall: 99.13344706989838%\n",
      "Model saved based on lowest validation loss.\n"
     ]
    },
    {
     "name": "stderr",
     "output_type": "stream",
     "text": [
      "100%|███████████████████████████████████████████████████████████████████████████████████████████████████████| 287/287 [00:51<00:00,  5.61it/s]\n",
      "100%|█████████████████████████████████████████████████████████████████████████████████████████████████████████| 40/40 [00:02<00:00, 15.28it/s]\n"
     ]
    },
    {
     "name": "stdout",
     "output_type": "stream",
     "text": [
      "Epoch 40/100, Loss: 0.00046176075399890614, Val_Recall: 98.97439484382767%\n",
      "Model saved based on lowest validation loss.\n"
     ]
    },
    {
     "name": "stderr",
     "output_type": "stream",
     "text": [
      "100%|███████████████████████████████████████████████████████████████████████████████████████████████████████| 287/287 [00:51<00:00,  5.62it/s]\n",
      "100%|█████████████████████████████████████████████████████████████████████████████████████████████████████████| 40/40 [00:02<00:00, 15.65it/s]\n"
     ]
    },
    {
     "name": "stdout",
     "output_type": "stream",
     "text": [
      "Epoch 41/100, Loss: 0.0015131176042832775, Val_Recall: 98.46960304330908%\n"
     ]
    },
    {
     "name": "stderr",
     "output_type": "stream",
     "text": [
      "100%|███████████████████████████████████████████████████████████████████████████████████████████████████████| 287/287 [00:51<00:00,  5.63it/s]\n",
      "100%|█████████████████████████████████████████████████████████████████████████████████████████████████████████| 40/40 [00:02<00:00, 15.23it/s]\n"
     ]
    },
    {
     "name": "stdout",
     "output_type": "stream",
     "text": [
      "Epoch 42/100, Loss: 0.007022161528952076, Val_Recall: 94.0194052279553%\n"
     ]
    },
    {
     "name": "stderr",
     "output_type": "stream",
     "text": [
      "100%|███████████████████████████████████████████████████████████████████████████████████████████████████████| 287/287 [00:51<00:00,  5.61it/s]\n",
      "100%|█████████████████████████████████████████████████████████████████████████████████████████████████████████| 40/40 [00:02<00:00, 14.92it/s]\n"
     ]
    },
    {
     "name": "stdout",
     "output_type": "stream",
     "text": [
      "Epoch 43/100, Loss: 0.027285654235820144, Val_Recall: 80.72968722849967%\n"
     ]
    },
    {
     "name": "stderr",
     "output_type": "stream",
     "text": [
      "100%|███████████████████████████████████████████████████████████████████████████████████████████████████████| 287/287 [00:51<00:00,  5.62it/s]\n",
      "100%|█████████████████████████████████████████████████████████████████████████████████████████████████████████| 40/40 [00:02<00:00, 15.32it/s]\n"
     ]
    },
    {
     "name": "stdout",
     "output_type": "stream",
     "text": [
      "Epoch 44/100, Loss: 0.004118601496311491, Val_Recall: 93.66885024180266%\n"
     ]
    },
    {
     "name": "stderr",
     "output_type": "stream",
     "text": [
      "100%|███████████████████████████████████████████████████████████████████████████████████████████████████████| 287/287 [00:50<00:00,  5.63it/s]\n",
      "100%|█████████████████████████████████████████████████████████████████████████████████████████████████████████| 40/40 [00:02<00:00, 15.24it/s]\n"
     ]
    },
    {
     "name": "stdout",
     "output_type": "stream",
     "text": [
      "Epoch 45/100, Loss: 0.001918052889486721, Val_Recall: 96.71492622086016%\n"
     ]
    },
    {
     "name": "stderr",
     "output_type": "stream",
     "text": [
      "100%|███████████████████████████████████████████████████████████████████████████████████████████████████████| 287/287 [00:51<00:00,  5.62it/s]\n",
      "100%|█████████████████████████████████████████████████████████████████████████████████████████████████████████| 40/40 [00:02<00:00, 15.45it/s]\n"
     ]
    },
    {
     "name": "stdout",
     "output_type": "stream",
     "text": [
      "Epoch 46/100, Loss: 0.0013298039136724782, Val_Recall: 98.8132054250384%\n"
     ]
    },
    {
     "name": "stderr",
     "output_type": "stream",
     "text": [
      "100%|███████████████████████████████████████████████████████████████████████████████████████████████████████| 287/287 [00:51<00:00,  5.61it/s]\n",
      "100%|█████████████████████████████████████████████████████████████████████████████████████████████████████████| 40/40 [00:02<00:00, 15.26it/s]\n"
     ]
    },
    {
     "name": "stdout",
     "output_type": "stream",
     "text": [
      "Epoch 47/100, Loss: 0.0017178466792344693, Val_Recall: 98.63920011648504%\n"
     ]
    },
    {
     "name": "stderr",
     "output_type": "stream",
     "text": [
      "100%|███████████████████████████████████████████████████████████████████████████████████████████████████████| 287/287 [00:51<00:00,  5.61it/s]\n",
      "100%|█████████████████████████████████████████████████████████████████████████████████████████████████████████| 40/40 [00:02<00:00, 15.11it/s]\n"
     ]
    },
    {
     "name": "stdout",
     "output_type": "stream",
     "text": [
      "Epoch 48/100, Loss: 0.0031910882695004084, Val_Recall: 97.07762794097826%\n"
     ]
    },
    {
     "name": "stderr",
     "output_type": "stream",
     "text": [
      "100%|███████████████████████████████████████████████████████████████████████████████████████████████████████| 287/287 [00:51<00:00,  5.62it/s]\n",
      "100%|█████████████████████████████████████████████████████████████████████████████████████████████████████████| 40/40 [00:02<00:00, 15.54it/s]\n"
     ]
    },
    {
     "name": "stdout",
     "output_type": "stream",
     "text": [
      "Epoch 49/100, Loss: 0.012272693346445868, Val_Recall: 92.99123508328911%\n"
     ]
    },
    {
     "name": "stderr",
     "output_type": "stream",
     "text": [
      "100%|███████████████████████████████████████████████████████████████████████████████████████████████████████| 287/287 [00:51<00:00,  5.63it/s]\n",
      "100%|█████████████████████████████████████████████████████████████████████████████████████████████████████████| 40/40 [00:02<00:00, 15.70it/s]\n"
     ]
    },
    {
     "name": "stdout",
     "output_type": "stream",
     "text": [
      "Epoch 50/100, Loss: 0.002568548841827061, Val_Recall: 98.40246602009222%\n"
     ]
    },
    {
     "name": "stderr",
     "output_type": "stream",
     "text": [
      "100%|███████████████████████████████████████████████████████████████████████████████████████████████████████| 287/287 [00:51<00:00,  5.62it/s]\n",
      "100%|█████████████████████████████████████████████████████████████████████████████████████████████████████████| 40/40 [00:02<00:00, 15.25it/s]\n"
     ]
    },
    {
     "name": "stdout",
     "output_type": "stream",
     "text": [
      "Epoch 51/100, Loss: 0.0026654450622344414, Val_Recall: 99.08012232779546%\n"
     ]
    },
    {
     "name": "stderr",
     "output_type": "stream",
     "text": [
      "100%|███████████████████████████████████████████████████████████████████████████████████████████████████████| 287/287 [00:51<00:00,  5.61it/s]\n",
      "100%|█████████████████████████████████████████████████████████████████████████████████████████████████████████| 40/40 [00:02<00:00, 15.61it/s]\n"
     ]
    },
    {
     "name": "stdout",
     "output_type": "stream",
     "text": [
      "Epoch 52/100, Loss: 0.00631346778445443, Val_Recall: 92.79179933314556%\n"
     ]
    },
    {
     "name": "stderr",
     "output_type": "stream",
     "text": [
      "100%|███████████████████████████████████████████████████████████████████████████████████████████████████████| 287/287 [00:51<00:00,  5.62it/s]\n",
      "100%|█████████████████████████████████████████████████████████████████████████████████████████████████████████| 40/40 [00:02<00:00, 15.35it/s]\n"
     ]
    },
    {
     "name": "stdout",
     "output_type": "stream",
     "text": [
      "Epoch 53/100, Loss: 0.08054234241925359, Val_Recall: 77.7668105129412%\n"
     ]
    },
    {
     "name": "stderr",
     "output_type": "stream",
     "text": [
      "100%|███████████████████████████████████████████████████████████████████████████████████████████████████████| 287/287 [00:51<00:00,  5.62it/s]\n",
      "100%|█████████████████████████████████████████████████████████████████████████████████████████████████████████| 40/40 [00:02<00:00, 15.24it/s]\n"
     ]
    },
    {
     "name": "stdout",
     "output_type": "stream",
     "text": [
      "Epoch 54/100, Loss: 0.024524066556501516, Val_Recall: 93.53488493179084%\n"
     ]
    },
    {
     "name": "stderr",
     "output_type": "stream",
     "text": [
      "100%|███████████████████████████████████████████████████████████████████████████████████████████████████████| 287/287 [00:50<00:00,  5.64it/s]\n",
      "100%|█████████████████████████████████████████████████████████████████████████████████████████████████████████| 40/40 [00:02<00:00, 15.18it/s]\n"
     ]
    },
    {
     "name": "stdout",
     "output_type": "stream",
     "text": [
      "Epoch 55/100, Loss: 0.0010516207227664637, Val_Recall: 98.36685069512336%\n"
     ]
    },
    {
     "name": "stderr",
     "output_type": "stream",
     "text": [
      "100%|███████████████████████████████████████████████████████████████████████████████████████████████████████| 287/287 [00:51<00:00,  5.59it/s]\n",
      "100%|█████████████████████████████████████████████████████████████████████████████████████████████████████████| 40/40 [00:02<00:00, 15.11it/s]\n"
     ]
    },
    {
     "name": "stdout",
     "output_type": "stream",
     "text": [
      "Epoch 56/100, Loss: 0.007855220043085786, Val_Recall: 92.88057596299716%\n"
     ]
    },
    {
     "name": "stderr",
     "output_type": "stream",
     "text": [
      "100%|███████████████████████████████████████████████████████████████████████████████████████████████████████| 287/287 [00:51<00:00,  5.62it/s]\n",
      "100%|█████████████████████████████████████████████████████████████████████████████████████████████████████████| 40/40 [00:02<00:00, 15.17it/s]\n"
     ]
    },
    {
     "name": "stdout",
     "output_type": "stream",
     "text": [
      "Epoch 57/100, Loss: 0.005281526637157685, Val_Recall: 96.27382898725355%\n"
     ]
    },
    {
     "name": "stderr",
     "output_type": "stream",
     "text": [
      "100%|███████████████████████████████████████████████████████████████████████████████████████████████████████| 287/287 [00:51<00:00,  5.62it/s]\n",
      "100%|█████████████████████████████████████████████████████████████████████████████████████████████████████████| 40/40 [00:02<00:00, 15.28it/s]\n"
     ]
    },
    {
     "name": "stdout",
     "output_type": "stream",
     "text": [
      "Epoch 58/100, Loss: 0.0057920941728735985, Val_Recall: 95.71327001137713%\n"
     ]
    },
    {
     "name": "stderr",
     "output_type": "stream",
     "text": [
      "100%|███████████████████████████████████████████████████████████████████████████████████████████████████████| 287/287 [00:51<00:00,  5.62it/s]\n",
      "100%|█████████████████████████████████████████████████████████████████████████████████████████████████████████| 40/40 [00:02<00:00, 15.34it/s]\n"
     ]
    },
    {
     "name": "stdout",
     "output_type": "stream",
     "text": [
      "Epoch 59/100, Loss: 0.0013124305702411077, Val_Recall: 99.08726826730091%\n"
     ]
    },
    {
     "name": "stderr",
     "output_type": "stream",
     "text": [
      "100%|███████████████████████████████████████████████████████████████████████████████████████████████████████| 287/287 [00:50<00:00,  5.63it/s]\n",
      "100%|█████████████████████████████████████████████████████████████████████████████████████████████████████████| 40/40 [00:02<00:00, 15.71it/s]\n"
     ]
    },
    {
     "name": "stdout",
     "output_type": "stream",
     "text": [
      "Epoch 60/100, Loss: 0.0007764414960059085, Val_Recall: 99.00154410584328%\n"
     ]
    },
    {
     "name": "stderr",
     "output_type": "stream",
     "text": [
      "100%|███████████████████████████████████████████████████████████████████████████████████████████████████████| 287/287 [00:51<00:00,  5.63it/s]\n",
      "100%|█████████████████████████████████████████████████████████████████████████████████████████████████████████| 40/40 [00:02<00:00, 15.29it/s]\n"
     ]
    },
    {
     "name": "stdout",
     "output_type": "stream",
     "text": [
      "Epoch 61/100, Loss: 0.006226205279328001, Val_Recall: 94.73702244133148%\n"
     ]
    },
    {
     "name": "stderr",
     "output_type": "stream",
     "text": [
      "100%|███████████████████████████████████████████████████████████████████████████████████████████████████████| 287/287 [00:51<00:00,  5.61it/s]\n",
      "100%|█████████████████████████████████████████████████████████████████████████████████████████████████████████| 40/40 [00:02<00:00, 15.22it/s]\n"
     ]
    },
    {
     "name": "stdout",
     "output_type": "stream",
     "text": [
      "Epoch 62/100, Loss: 0.005497694564473754, Val_Recall: 96.12564607081238%\n"
     ]
    },
    {
     "name": "stderr",
     "output_type": "stream",
     "text": [
      "100%|███████████████████████████████████████████████████████████████████████████████████████████████████████| 287/287 [00:51<00:00,  5.61it/s]\n",
      "100%|█████████████████████████████████████████████████████████████████████████████████████████████████████████| 40/40 [00:02<00:00, 15.15it/s]\n"
     ]
    },
    {
     "name": "stdout",
     "output_type": "stream",
     "text": [
      "Epoch 63/100, Loss: 0.006481904651546193, Val_Recall: 96.82946185772433%\n"
     ]
    },
    {
     "name": "stderr",
     "output_type": "stream",
     "text": [
      "100%|███████████████████████████████████████████████████████████████████████████████████████████████████████| 287/287 [00:51<00:00,  5.61it/s]\n",
      "100%|█████████████████████████████████████████████████████████████████████████████████████████████████████████| 40/40 [00:02<00:00, 15.50it/s]\n"
     ]
    },
    {
     "name": "stdout",
     "output_type": "stream",
     "text": [
      "Epoch 64/100, Loss: 0.0016366817683444814, Val_Recall: 97.18856406273102%\n"
     ]
    },
    {
     "name": "stderr",
     "output_type": "stream",
     "text": [
      "100%|███████████████████████████████████████████████████████████████████████████████████████████████████████| 287/287 [00:51<00:00,  5.61it/s]\n",
      "100%|█████████████████████████████████████████████████████████████████████████████████████████████████████████| 40/40 [00:02<00:00, 15.43it/s]\n"
     ]
    },
    {
     "name": "stdout",
     "output_type": "stream",
     "text": [
      "Epoch 65/100, Loss: 0.0011194606429568855, Val_Recall: 98.47807246633339%\n"
     ]
    },
    {
     "name": "stderr",
     "output_type": "stream",
     "text": [
      "100%|███████████████████████████████████████████████████████████████████████████████████████████████████████| 287/287 [00:51<00:00,  5.62it/s]\n",
      "100%|█████████████████████████████████████████████████████████████████████████████████████████████████████████| 40/40 [00:02<00:00, 15.26it/s]\n"
     ]
    },
    {
     "name": "stdout",
     "output_type": "stream",
     "text": [
      "Epoch 66/100, Loss: 0.01136452279405944, Val_Recall: 92.55646983467267%\n"
     ]
    },
    {
     "name": "stderr",
     "output_type": "stream",
     "text": [
      "100%|███████████████████████████████████████████████████████████████████████████████████████████████████████| 287/287 [00:51<00:00,  5.62it/s]\n",
      "100%|█████████████████████████████████████████████████████████████████████████████████████████████████████████| 40/40 [00:02<00:00, 15.13it/s]\n"
     ]
    },
    {
     "name": "stdout",
     "output_type": "stream",
     "text": [
      "Epoch 67/100, Loss: 0.002565371514530107, Val_Recall: 95.4519121381956%\n"
     ]
    },
    {
     "name": "stderr",
     "output_type": "stream",
     "text": [
      "100%|███████████████████████████████████████████████████████████████████████████████████████████████████████| 287/287 [00:51<00:00,  5.62it/s]\n",
      "100%|█████████████████████████████████████████████████████████████████████████████████████████████████████████| 40/40 [00:02<00:00, 15.17it/s]\n"
     ]
    },
    {
     "name": "stdout",
     "output_type": "stream",
     "text": [
      "Epoch 68/100, Loss: 0.004140432521823945, Val_Recall: 97.77376589080394%\n"
     ]
    },
    {
     "name": "stderr",
     "output_type": "stream",
     "text": [
      "100%|███████████████████████████████████████████████████████████████████████████████████████████████████████| 287/287 [00:51<00:00,  5.61it/s]\n",
      "100%|█████████████████████████████████████████████████████████████████████████████████████████████████████████| 40/40 [00:02<00:00, 15.46it/s]\n"
     ]
    },
    {
     "name": "stdout",
     "output_type": "stream",
     "text": [
      "Epoch 69/100, Loss: 0.0007721708949568224, Val_Recall: 99.66716597583117%\n"
     ]
    },
    {
     "name": "stderr",
     "output_type": "stream",
     "text": [
      "100%|███████████████████████████████████████████████████████████████████████████████████████████████████████| 287/287 [00:51<00:00,  5.62it/s]\n",
      "100%|█████████████████████████████████████████████████████████████████████████████████████████████████████████| 40/40 [00:02<00:00, 15.31it/s]\n"
     ]
    },
    {
     "name": "stdout",
     "output_type": "stream",
     "text": [
      "Epoch 70/100, Loss: 0.006953293888313739, Val_Recall: 93.0935225104674%\n",
      "Early stopping\n",
      "Loaded pretrained weights for efficientnet-b0\n"
     ]
    },
    {
     "name": "stderr",
     "output_type": "stream",
     "text": [
      "100%|███████████████████████████████████████████████████████████████████████████████████████████████████████| 287/287 [00:51<00:00,  5.62it/s]\n",
      "100%|█████████████████████████████████████████████████████████████████████████████████████████████████████████| 40/40 [00:02<00:00, 15.15it/s]\n"
     ]
    },
    {
     "name": "stdout",
     "output_type": "stream",
     "text": [
      "Epoch 1/100, Loss: 0.0060811535162429205, Val_Recall: 90.7779386806896%\n",
      "Model saved based on lowest validation loss.\n"
     ]
    },
    {
     "name": "stderr",
     "output_type": "stream",
     "text": [
      "100%|███████████████████████████████████████████████████████████████████████████████████████████████████████| 287/287 [00:51<00:00,  5.63it/s]\n",
      "100%|█████████████████████████████████████████████████████████████████████████████████████████████████████████| 40/40 [00:02<00:00, 15.31it/s]\n"
     ]
    },
    {
     "name": "stdout",
     "output_type": "stream",
     "text": [
      "Epoch 2/100, Loss: 0.0017895804833642614, Val_Recall: 97.92987074792103%\n",
      "Model saved based on lowest validation loss.\n"
     ]
    },
    {
     "name": "stderr",
     "output_type": "stream",
     "text": [
      "100%|███████████████████████████████████████████████████████████████████████████████████████████████████████| 287/287 [00:51<00:00,  5.63it/s]\n",
      "100%|█████████████████████████████████████████████████████████████████████████████████████████████████████████| 40/40 [00:02<00:00, 15.45it/s]\n"
     ]
    },
    {
     "name": "stdout",
     "output_type": "stream",
     "text": [
      "Epoch 3/100, Loss: 0.0021356021355472877, Val_Recall: 96.69424502801509%\n"
     ]
    },
    {
     "name": "stderr",
     "output_type": "stream",
     "text": [
      "100%|███████████████████████████████████████████████████████████████████████████████████████████████████████| 287/287 [00:51<00:00,  5.62it/s]\n",
      "100%|█████████████████████████████████████████████████████████████████████████████████████████████████████████| 40/40 [00:02<00:00, 15.25it/s]\n"
     ]
    },
    {
     "name": "stdout",
     "output_type": "stream",
     "text": [
      "Epoch 4/100, Loss: 0.0014058980749950933, Val_Recall: 98.81511910730177%\n",
      "Model saved based on lowest validation loss.\n"
     ]
    },
    {
     "name": "stderr",
     "output_type": "stream",
     "text": [
      "100%|███████████████████████████████████████████████████████████████████████████████████████████████████████| 287/287 [00:51<00:00,  5.62it/s]\n",
      "100%|█████████████████████████████████████████████████████████████████████████████████████████████████████████| 40/40 [00:02<00:00, 15.54it/s]\n"
     ]
    },
    {
     "name": "stdout",
     "output_type": "stream",
     "text": [
      "Epoch 5/100, Loss: 0.001785484222006062, Val_Recall: 98.45703391309289%\n"
     ]
    },
    {
     "name": "stderr",
     "output_type": "stream",
     "text": [
      "100%|███████████████████████████████████████████████████████████████████████████████████████████████████████| 287/287 [00:51<00:00,  5.62it/s]\n",
      "100%|█████████████████████████████████████████████████████████████████████████████████████████████████████████| 40/40 [00:02<00:00, 15.66it/s]\n"
     ]
    },
    {
     "name": "stdout",
     "output_type": "stream",
     "text": [
      "Epoch 6/100, Loss: 0.0018607785261337995, Val_Recall: 98.81511910730177%\n"
     ]
    },
    {
     "name": "stderr",
     "output_type": "stream",
     "text": [
      "100%|███████████████████████████████████████████████████████████████████████████████████████████████████████| 287/287 [00:51<00:00,  5.62it/s]\n",
      "100%|█████████████████████████████████████████████████████████████████████████████████████████████████████████| 40/40 [00:02<00:00, 15.07it/s]\n"
     ]
    },
    {
     "name": "stdout",
     "output_type": "stream",
     "text": [
      "Epoch 7/100, Loss: 0.001987691794465718, Val_Recall: 98.1040607275491%\n"
     ]
    },
    {
     "name": "stderr",
     "output_type": "stream",
     "text": [
      "100%|███████████████████████████████████████████████████████████████████████████████████████████████████████| 287/287 [00:51<00:00,  5.62it/s]\n",
      "100%|█████████████████████████████████████████████████████████████████████████████████████████████████████████| 40/40 [00:02<00:00, 15.32it/s]\n"
     ]
    },
    {
     "name": "stdout",
     "output_type": "stream",
     "text": [
      "Epoch 8/100, Loss: 0.0026071858476427678, Val_Recall: 97.66774733281416%\n"
     ]
    },
    {
     "name": "stderr",
     "output_type": "stream",
     "text": [
      "100%|███████████████████████████████████████████████████████████████████████████████████████████████████████| 287/287 [00:51<00:00,  5.62it/s]\n",
      "100%|█████████████████████████████████████████████████████████████████████████████████████████████████████████| 40/40 [00:02<00:00, 15.29it/s]\n"
     ]
    },
    {
     "name": "stdout",
     "output_type": "stream",
     "text": [
      "Epoch 9/100, Loss: 0.0014332665313418146, Val_Recall: 98.31311944057957%\n"
     ]
    },
    {
     "name": "stderr",
     "output_type": "stream",
     "text": [
      "100%|███████████████████████████████████████████████████████████████████████████████████████████████████████| 287/287 [00:51<00:00,  5.62it/s]\n",
      "100%|█████████████████████████████████████████████████████████████████████████████████████████████████████████| 40/40 [00:02<00:00, 15.18it/s]\n"
     ]
    },
    {
     "name": "stdout",
     "output_type": "stream",
     "text": [
      "Epoch 10/100, Loss: 0.001638548062661016, Val_Recall: 98.46883750138372%\n"
     ]
    },
    {
     "name": "stderr",
     "output_type": "stream",
     "text": [
      "100%|███████████████████████████████████████████████████████████████████████████████████████████████████████| 287/287 [00:51<00:00,  5.62it/s]\n",
      "100%|█████████████████████████████████████████████████████████████████████████████████████████████████████████| 40/40 [00:02<00:00, 15.45it/s]\n"
     ]
    },
    {
     "name": "stdout",
     "output_type": "stream",
     "text": [
      "Epoch 11/100, Loss: 0.0020959595492648477, Val_Recall: 97.97528400859315%\n"
     ]
    },
    {
     "name": "stderr",
     "output_type": "stream",
     "text": [
      "100%|███████████████████████████████████████████████████████████████████████████████████████████████████████| 287/287 [00:51<00:00,  5.62it/s]\n",
      "100%|█████████████████████████████████████████████████████████████████████████████████████████████████████████| 40/40 [00:02<00:00, 15.18it/s]\n"
     ]
    },
    {
     "name": "stdout",
     "output_type": "stream",
     "text": [
      "Epoch 12/100, Loss: 0.0022356994857140934, Val_Recall: 98.62065611635855%\n"
     ]
    },
    {
     "name": "stderr",
     "output_type": "stream",
     "text": [
      "100%|███████████████████████████████████████████████████████████████████████████████████████████████████████| 287/287 [00:51<00:00,  5.62it/s]\n",
      "100%|█████████████████████████████████████████████████████████████████████████████████████████████████████████| 40/40 [00:02<00:00, 15.21it/s]\n"
     ]
    },
    {
     "name": "stdout",
     "output_type": "stream",
     "text": [
      "Epoch 13/100, Loss: 0.0017903154075625594, Val_Recall: 96.87278147438292%\n"
     ]
    },
    {
     "name": "stderr",
     "output_type": "stream",
     "text": [
      "100%|███████████████████████████████████████████████████████████████████████████████████████████████████████| 287/287 [00:51<00:00,  5.61it/s]\n",
      "100%|█████████████████████████████████████████████████████████████████████████████████████████████████████████| 40/40 [00:02<00:00, 15.16it/s]\n"
     ]
    },
    {
     "name": "stdout",
     "output_type": "stream",
     "text": [
      "Epoch 14/100, Loss: 0.0011804230059219377, Val_Recall: 98.81099615101722%\n",
      "Model saved based on lowest validation loss.\n"
     ]
    },
    {
     "name": "stderr",
     "output_type": "stream",
     "text": [
      "100%|███████████████████████████████████████████████████████████████████████████████████████████████████████| 287/287 [00:51<00:00,  5.62it/s]\n",
      "100%|█████████████████████████████████████████████████████████████████████████████████████████████████████████| 40/40 [00:02<00:00, 15.27it/s]\n"
     ]
    },
    {
     "name": "stdout",
     "output_type": "stream",
     "text": [
      "Epoch 15/100, Loss: 0.0019183923771727506, Val_Recall: 98.10040804126766%\n"
     ]
    },
    {
     "name": "stderr",
     "output_type": "stream",
     "text": [
      "100%|███████████████████████████████████████████████████████████████████████████████████████████████████████| 287/287 [00:51<00:00,  5.60it/s]\n",
      "100%|█████████████████████████████████████████████████████████████████████████████████████████████████████████| 40/40 [00:02<00:00, 15.47it/s]\n"
     ]
    },
    {
     "name": "stdout",
     "output_type": "stream",
     "text": [
      "Epoch 16/100, Loss: 0.0015175166167393783, Val_Recall: 98.63680617138914%\n"
     ]
    },
    {
     "name": "stderr",
     "output_type": "stream",
     "text": [
      "100%|███████████████████████████████████████████████████████████████████████████████████████████████████████| 287/287 [00:51<00:00,  5.62it/s]\n",
      "100%|█████████████████████████████████████████████████████████████████████████████████████████████████████████| 40/40 [00:02<00:00, 15.76it/s]\n"
     ]
    },
    {
     "name": "stdout",
     "output_type": "stream",
     "text": [
      "Epoch 17/100, Loss: 0.001041985832331349, Val_Recall: 98.78072064390247%\n",
      "Model saved based on lowest validation loss.\n"
     ]
    },
    {
     "name": "stderr",
     "output_type": "stream",
     "text": [
      "100%|███████████████████████████████████████████████████████████████████████████████████████████████████████| 287/287 [00:51<00:00,  5.62it/s]\n",
      "100%|█████████████████████████████████████████████████████████████████████████████████████████████████████████| 40/40 [00:02<00:00, 15.54it/s]\n"
     ]
    },
    {
     "name": "stdout",
     "output_type": "stream",
     "text": [
      "Epoch 18/100, Loss: 0.001225888336766534, Val_Recall: 97.99143406362376%\n"
     ]
    },
    {
     "name": "stderr",
     "output_type": "stream",
     "text": [
      "100%|███████████████████████████████████████████████████████████████████████████████████████████████████████| 287/287 [00:51<00:00,  5.62it/s]\n",
      "100%|█████████████████████████████████████████████████████████████████████████████████████████████████████████| 40/40 [00:02<00:00, 15.22it/s]\n"
     ]
    },
    {
     "name": "stdout",
     "output_type": "stream",
     "text": [
      "Epoch 19/100, Loss: 0.0012965108608822718, Val_Recall: 98.49843513816353%\n"
     ]
    },
    {
     "name": "stderr",
     "output_type": "stream",
     "text": [
      "100%|███████████████████████████████████████████████████████████████████████████████████████████████████████| 287/287 [00:50<00:00,  5.63it/s]\n",
      "100%|█████████████████████████████████████████████████████████████████████████████████████████████████████████| 40/40 [00:02<00:00, 15.21it/s]\n"
     ]
    },
    {
     "name": "stdout",
     "output_type": "stream",
     "text": [
      "Epoch 20/100, Loss: 0.002293833067581641, Val_Recall: 98.7571134673208%\n"
     ]
    },
    {
     "name": "stderr",
     "output_type": "stream",
     "text": [
      "100%|███████████████████████████████████████████████████████████████████████████████████████████████████████| 287/287 [00:51<00:00,  5.62it/s]\n",
      "100%|█████████████████████████████████████████████████████████████████████████████████████████████████████████| 40/40 [00:02<00:00, 15.16it/s]\n"
     ]
    },
    {
     "name": "stdout",
     "output_type": "stream",
     "text": [
      "Epoch 21/100, Loss: 0.0016880795492639322, Val_Recall: 98.46984980285694%\n"
     ]
    },
    {
     "name": "stderr",
     "output_type": "stream",
     "text": [
      "100%|███████████████████████████████████████████████████████████████████████████████████████████████████████| 287/287 [00:51<00:00,  5.62it/s]\n",
      "100%|█████████████████████████████████████████████████████████████████████████████████████████████████████████| 40/40 [00:02<00:00, 15.30it/s]\n"
     ]
    },
    {
     "name": "stdout",
     "output_type": "stream",
     "text": [
      "Epoch 22/100, Loss: 0.002929330487635262, Val_Recall: 96.7288670018696%\n"
     ]
    },
    {
     "name": "stderr",
     "output_type": "stream",
     "text": [
      "100%|███████████████████████████████████████████████████████████████████████████████████████████████████████| 287/287 [00:51<00:00,  5.61it/s]\n",
      "100%|█████████████████████████████████████████████████████████████████████████████████████████████████████████| 40/40 [00:02<00:00, 15.15it/s]\n"
     ]
    },
    {
     "name": "stdout",
     "output_type": "stream",
     "text": [
      "Epoch 23/100, Loss: 0.0014823384538507956, Val_Recall: 98.4841987653963%\n"
     ]
    },
    {
     "name": "stderr",
     "output_type": "stream",
     "text": [
      "100%|███████████████████████████████████████████████████████████████████████████████████████████████████████| 287/287 [00:51<00:00,  5.62it/s]\n",
      "100%|█████████████████████████████████████████████████████████████████████████████████████████████████████████| 40/40 [00:02<00:00, 15.74it/s]\n"
     ]
    },
    {
     "name": "stdout",
     "output_type": "stream",
     "text": [
      "Epoch 24/100, Loss: 0.0014303054857254694, Val_Recall: 98.60551836280118%\n"
     ]
    },
    {
     "name": "stderr",
     "output_type": "stream",
     "text": [
      "100%|███████████████████████████████████████████████████████████████████████████████████████████████████████| 287/287 [00:51<00:00,  5.61it/s]\n",
      "100%|█████████████████████████████████████████████████████████████████████████████████████████████████████████| 40/40 [00:02<00:00, 15.46it/s]\n"
     ]
    },
    {
     "name": "stdout",
     "output_type": "stream",
     "text": [
      "Epoch 25/100, Loss: 0.0012396082200556435, Val_Recall: 98.62833674836486%\n"
     ]
    },
    {
     "name": "stderr",
     "output_type": "stream",
     "text": [
      "100%|███████████████████████████████████████████████████████████████████████████████████████████████████████| 287/287 [00:51<00:00,  5.62it/s]\n",
      "100%|█████████████████████████████████████████████████████████████████████████████████████████████████████████| 40/40 [00:02<00:00, 15.17it/s]\n"
     ]
    },
    {
     "name": "stdout",
     "output_type": "stream",
     "text": [
      "Epoch 26/100, Loss: 0.000934322234649354, Val_Recall: 98.65194392494652%\n",
      "Model saved based on lowest validation loss.\n"
     ]
    },
    {
     "name": "stderr",
     "output_type": "stream",
     "text": [
      "100%|███████████████████████████████████████████████████████████████████████████████████████████████████████| 287/287 [00:50<00:00,  5.63it/s]\n",
      "100%|█████████████████████████████████████████████████████████████████████████████████████████████████████████| 40/40 [00:02<00:00, 15.35it/s]\n"
     ]
    },
    {
     "name": "stdout",
     "output_type": "stream",
     "text": [
      "Epoch 27/100, Loss: 0.000985367179093366, Val_Recall: 98.01069477346567%\n"
     ]
    },
    {
     "name": "stderr",
     "output_type": "stream",
     "text": [
      "100%|███████████████████████████████████████████████████████████████████████████████████████████████████████| 287/287 [00:51<00:00,  5.62it/s]\n",
      "100%|█████████████████████████████████████████████████████████████████████████████████████████████████████████| 40/40 [00:02<00:00, 15.86it/s]\n"
     ]
    },
    {
     "name": "stdout",
     "output_type": "stream",
     "text": [
      "Epoch 28/100, Loss: 0.0022442709940792673, Val_Recall: 97.83549249236438%\n"
     ]
    },
    {
     "name": "stderr",
     "output_type": "stream",
     "text": [
      "100%|███████████████████████████████████████████████████████████████████████████████████████████████████████| 287/287 [00:51<00:00,  5.62it/s]\n",
      "100%|█████████████████████████████████████████████████████████████████████████████████████████████████████████| 40/40 [00:02<00:00, 15.64it/s]\n"
     ]
    },
    {
     "name": "stdout",
     "output_type": "stream",
     "text": [
      "Epoch 29/100, Loss: 0.0016769582395240955, Val_Recall: 98.4841987653963%\n"
     ]
    },
    {
     "name": "stderr",
     "output_type": "stream",
     "text": [
      "100%|███████████████████████████████████████████████████████████████████████████████████████████████████████| 287/287 [00:51<00:00,  5.62it/s]\n",
      "100%|█████████████████████████████████████████████████████████████████████████████████████████████████████████| 40/40 [00:02<00:00, 15.75it/s]\n"
     ]
    },
    {
     "name": "stdout",
     "output_type": "stream",
     "text": [
      "Epoch 30/100, Loss: 0.0017320077009966184, Val_Recall: 98.79687069893308%\n"
     ]
    },
    {
     "name": "stderr",
     "output_type": "stream",
     "text": [
      "100%|███████████████████████████████████████████████████████████████████████████████████████████████████████| 287/287 [00:51<00:00,  5.61it/s]\n",
      "100%|█████████████████████████████████████████████████████████████████████████████████████████████████████████| 40/40 [00:02<00:00, 15.19it/s]\n"
     ]
    },
    {
     "name": "stdout",
     "output_type": "stream",
     "text": [
      "Epoch 31/100, Loss: 0.0018941552881998503, Val_Recall: 98.46906101183893%\n"
     ]
    },
    {
     "name": "stderr",
     "output_type": "stream",
     "text": [
      "100%|███████████████████████████████████████████████████████████████████████████████████████████████████████| 287/287 [00:51<00:00,  5.62it/s]\n",
      "100%|█████████████████████████████████████████████████████████████████████████████████████████████████████████| 40/40 [00:02<00:00, 15.44it/s]\n"
     ]
    },
    {
     "name": "stdout",
     "output_type": "stream",
     "text": [
      "Epoch 32/100, Loss: 0.0016616491456445837, Val_Recall: 98.62477907264311%\n"
     ]
    },
    {
     "name": "stderr",
     "output_type": "stream",
     "text": [
      "100%|███████████████████████████████████████████████████████████████████████████████████████████████████████| 287/287 [00:51<00:00,  5.62it/s]\n",
      "100%|█████████████████████████████████████████████████████████████████████████████████████████████████████████| 40/40 [00:02<00:00, 15.47it/s]\n"
     ]
    },
    {
     "name": "stdout",
     "output_type": "stream",
     "text": [
      "Epoch 33/100, Loss: 0.0024767061262756405, Val_Recall: 97.01167160982155%\n"
     ]
    },
    {
     "name": "stderr",
     "output_type": "stream",
     "text": [
      "100%|███████████████████████████████████████████████████████████████████████████████████████████████████████| 287/287 [00:51<00:00,  5.62it/s]\n",
      "100%|█████████████████████████████████████████████████████████████████████████████████████████████████████████| 40/40 [00:02<00:00, 15.22it/s]\n"
     ]
    },
    {
     "name": "stdout",
     "output_type": "stream",
     "text": [
      "Epoch 34/100, Loss: 0.0011404821121230758, Val_Recall: 98.19912112586097%\n"
     ]
    },
    {
     "name": "stderr",
     "output_type": "stream",
     "text": [
      "100%|███████████████████████████████████████████████████████████████████████████████████████████████████████| 287/287 [00:50<00:00,  5.63it/s]\n",
      "100%|█████████████████████████████████████████████████████████████████████████████████████████████████████████| 40/40 [00:02<00:00, 15.23it/s]\n"
     ]
    },
    {
     "name": "stdout",
     "output_type": "stream",
     "text": [
      "Epoch 35/100, Loss: 0.001921510053883413, Val_Recall: 98.46092601995292%\n"
     ]
    },
    {
     "name": "stderr",
     "output_type": "stream",
     "text": [
      "100%|███████████████████████████████████████████████████████████████████████████████████████████████████████| 287/287 [00:50<00:00,  5.63it/s]\n",
      "100%|█████████████████████████████████████████████████████████████████████████████████████████████████████████| 40/40 [00:02<00:00, 15.32it/s]\n"
     ]
    },
    {
     "name": "stdout",
     "output_type": "stream",
     "text": [
      "Epoch 36/100, Loss: 0.0007753372051443885, Val_Recall: 99.2701511804085%\n",
      "Model saved based on lowest validation loss.\n"
     ]
    },
    {
     "name": "stderr",
     "output_type": "stream",
     "text": [
      "100%|███████████████████████████████████████████████████████████████████████████████████████████████████████| 287/287 [00:51<00:00,  5.62it/s]\n",
      "100%|█████████████████████████████████████████████████████████████████████████████████████████████████████████| 40/40 [00:02<00:00, 15.25it/s]\n"
     ]
    },
    {
     "name": "stdout",
     "output_type": "stream",
     "text": [
      "Epoch 37/100, Loss: 0.0010504345098156787, Val_Recall: 99.10652897714284%\n"
     ]
    },
    {
     "name": "stderr",
     "output_type": "stream",
     "text": [
      "100%|███████████████████████████████████████████████████████████████████████████████████████████████████████| 287/287 [00:51<00:00,  5.62it/s]\n",
      "100%|█████████████████████████████████████████████████████████████████████████████████████████████████████████| 40/40 [00:02<00:00, 15.34it/s]\n"
     ]
    },
    {
     "name": "stdout",
     "output_type": "stream",
     "text": [
      "Epoch 38/100, Loss: 0.0010350112035479864, Val_Recall: 98.66251170130892%\n"
     ]
    },
    {
     "name": "stderr",
     "output_type": "stream",
     "text": [
      "100%|███████████████████████████████████████████████████████████████████████████████████████████████████████| 287/287 [00:51<00:00,  5.62it/s]\n",
      "100%|█████████████████████████████████████████████████████████████████████████████████████████████████████████| 40/40 [00:02<00:00, 15.13it/s]\n"
     ]
    },
    {
     "name": "stdout",
     "output_type": "stream",
     "text": [
      "Epoch 39/100, Loss: 0.001043697857128545, Val_Recall: 98.53159778963439%\n"
     ]
    },
    {
     "name": "stderr",
     "output_type": "stream",
     "text": [
      "100%|███████████████████████████████████████████████████████████████████████████████████████████████████████| 287/287 [00:51<00:00,  5.62it/s]\n",
      "100%|█████████████████████████████████████████████████████████████████████████████████████████████████████████| 40/40 [00:02<00:00, 15.60it/s]\n"
     ]
    },
    {
     "name": "stdout",
     "output_type": "stream",
     "text": [
      "Epoch 40/100, Loss: 0.0010448029083612975, Val_Recall: 98.38000268511476%\n"
     ]
    },
    {
     "name": "stderr",
     "output_type": "stream",
     "text": [
      "100%|███████████████████████████████████████████████████████████████████████████████████████████████████████| 287/287 [00:51<00:00,  5.62it/s]\n",
      "100%|█████████████████████████████████████████████████████████████████████████████████████████████████████████| 40/40 [00:02<00:00, 15.25it/s]\n"
     ]
    },
    {
     "name": "stdout",
     "output_type": "stream",
     "text": [
      "Epoch 41/100, Loss: 0.001002828499079711, Val_Recall: 98.67431528959976%\n"
     ]
    },
    {
     "name": "stderr",
     "output_type": "stream",
     "text": [
      "100%|███████████████████████████████████████████████████████████████████████████████████████████████████████| 287/287 [00:51<00:00,  5.62it/s]\n",
      "100%|█████████████████████████████████████████████████████████████████████████████████████████████████████████| 40/40 [00:02<00:00, 15.79it/s]\n"
     ]
    },
    {
     "name": "stdout",
     "output_type": "stream",
     "text": [
      "Epoch 42/100, Loss: 0.0009377395774011532, Val_Recall: 98.67431528959976%\n"
     ]
    },
    {
     "name": "stderr",
     "output_type": "stream",
     "text": [
      "100%|███████████████████████████████████████████████████████████████████████████████████████████████████████| 287/287 [00:51<00:00,  5.62it/s]\n",
      "100%|█████████████████████████████████████████████████████████████████████████████████████████████████████████| 40/40 [00:02<00:00, 15.16it/s]\n"
     ]
    },
    {
     "name": "stdout",
     "output_type": "stream",
     "text": [
      "Epoch 43/100, Loss: 0.0016115183262033427, Val_Recall: 97.37712625399112%\n"
     ]
    },
    {
     "name": "stderr",
     "output_type": "stream",
     "text": [
      "100%|███████████████████████████████████████████████████████████████████████████████████████████████████████| 287/287 [00:51<00:00,  5.62it/s]\n",
      "100%|█████████████████████████████████████████████████████████████████████████████████████████████████████████| 40/40 [00:02<00:00, 15.58it/s]\n"
     ]
    },
    {
     "name": "stdout",
     "output_type": "stream",
     "text": [
      "Epoch 44/100, Loss: 0.0010743778513498975, Val_Recall: 98.65070811301808%\n"
     ]
    },
    {
     "name": "stderr",
     "output_type": "stream",
     "text": [
      "100%|███████████████████████████████████████████████████████████████████████████████████████████████████████| 287/287 [00:50<00:00,  5.64it/s]\n",
      "100%|█████████████████████████████████████████████████████████████████████████████████████████████████████████| 40/40 [00:02<00:00, 15.22it/s]\n"
     ]
    },
    {
     "name": "stdout",
     "output_type": "stream",
     "text": [
      "Epoch 45/100, Loss: 0.0007565728794386994, Val_Recall: 99.47128250188479%\n",
      "Model saved based on lowest validation loss.\n"
     ]
    },
    {
     "name": "stderr",
     "output_type": "stream",
     "text": [
      "100%|███████████████████████████████████████████████████████████████████████████████████████████████████████| 287/287 [00:51<00:00,  5.62it/s]\n",
      "100%|█████████████████████████████████████████████████████████████████████████████████████████████████████████| 40/40 [00:02<00:00, 15.50it/s]\n"
     ]
    },
    {
     "name": "stdout",
     "output_type": "stream",
     "text": [
      "Epoch 46/100, Loss: 0.0006899526843505734, Val_Recall: 99.47128250188479%\n",
      "Model saved based on lowest validation loss.\n"
     ]
    },
    {
     "name": "stderr",
     "output_type": "stream",
     "text": [
      "100%|███████████████████████████████████████████████████████████████████████████████████████████████████████| 287/287 [00:51<00:00,  5.63it/s]\n",
      "100%|█████████████████████████████████████████████████████████████████████████████████████████████████████████| 40/40 [00:02<00:00, 15.18it/s]\n"
     ]
    },
    {
     "name": "stdout",
     "output_type": "stream",
     "text": [
      "Epoch 47/100, Loss: 0.0010082860295561186, Val_Recall: 98.64325099146701%\n"
     ]
    },
    {
     "name": "stderr",
     "output_type": "stream",
     "text": [
      "100%|███████████████████████████████████████████████████████████████████████████████████████████████████████| 287/287 [00:51<00:00,  5.62it/s]\n",
      "100%|█████████████████████████████████████████████████████████████████████████████████████████████████████████| 40/40 [00:02<00:00, 15.30it/s]\n"
     ]
    },
    {
     "name": "stdout",
     "output_type": "stream",
     "text": [
      "Epoch 48/100, Loss: 0.0016296854867380028, Val_Recall: 97.5600091670987%\n"
     ]
    },
    {
     "name": "stderr",
     "output_type": "stream",
     "text": [
      "100%|███████████████████████████████████████████████████████████████████████████████████████████████████████| 287/287 [00:51<00:00,  5.63it/s]\n",
      "100%|█████████████████████████████████████████████████████████████████████████████████████████████████████████| 40/40 [00:02<00:00, 15.53it/s]\n"
     ]
    },
    {
     "name": "stdout",
     "output_type": "stream",
     "text": [
      "Epoch 49/100, Loss: 0.0012656234287755975, Val_Recall: 98.65917753604239%\n"
     ]
    },
    {
     "name": "stderr",
     "output_type": "stream",
     "text": [
      "100%|███████████████████████████████████████████████████████████████████████████████████████████████████████| 287/287 [00:51<00:00,  5.62it/s]\n",
      "100%|█████████████████████████████████████████████████████████████████████████████████████████████████████████| 40/40 [00:02<00:00, 15.15it/s]\n"
     ]
    },
    {
     "name": "stdout",
     "output_type": "stream",
     "text": [
      "Epoch 50/100, Loss: 0.00078290059176781, Val_Recall: 99.29274605551696%\n"
     ]
    },
    {
     "name": "stderr",
     "output_type": "stream",
     "text": [
      "100%|███████████████████████████████████████████████████████████████████████████████████████████████████████| 287/287 [00:50<00:00,  5.63it/s]\n",
      "100%|█████████████████████████████████████████████████████████████████████████████████████████████████████████| 40/40 [00:02<00:00, 15.35it/s]\n"
     ]
    },
    {
     "name": "stdout",
     "output_type": "stream",
     "text": [
      "Epoch 51/100, Loss: 0.0006884964236224589, Val_Recall: 98.84183693869478%\n",
      "Model saved based on lowest validation loss.\n"
     ]
    },
    {
     "name": "stderr",
     "output_type": "stream",
     "text": [
      "100%|███████████████████████████████████████████████████████████████████████████████████████████████████████| 287/287 [00:50<00:00,  5.63it/s]\n",
      "100%|█████████████████████████████████████████████████████████████████████████████████████████████████████████| 40/40 [00:02<00:00, 15.25it/s]\n"
     ]
    },
    {
     "name": "stdout",
     "output_type": "stream",
     "text": [
      "Epoch 52/100, Loss: 0.00048291228794208885, Val_Recall: 99.48619674498694%\n",
      "Model saved based on lowest validation loss.\n"
     ]
    },
    {
     "name": "stderr",
     "output_type": "stream",
     "text": [
      "100%|███████████████████████████████████████████████████████████████████████████████████████████████████████| 287/287 [00:51<00:00,  5.62it/s]\n",
      "100%|█████████████████████████████████████████████████████████████████████████████████████████████████████████| 40/40 [00:02<00:00, 15.22it/s]\n"
     ]
    },
    {
     "name": "stdout",
     "output_type": "stream",
     "text": [
      "Epoch 53/100, Loss: 0.001071332121890256, Val_Recall: 98.83437981714368%\n"
     ]
    },
    {
     "name": "stderr",
     "output_type": "stream",
     "text": [
      "100%|███████████████████████████████████████████████████████████████████████████████████████████████████████| 287/287 [00:51<00:00,  5.62it/s]\n",
      "100%|█████████████████████████████████████████████████████████████████████████████████████████████████████████| 40/40 [00:02<00:00, 15.46it/s]\n"
     ]
    },
    {
     "name": "stdout",
     "output_type": "stream",
     "text": [
      "Epoch 54/100, Loss: 0.0016275662744124398, Val_Recall: 96.87357026540093%\n"
     ]
    },
    {
     "name": "stderr",
     "output_type": "stream",
     "text": [
      "100%|███████████████████████████████████████████████████████████████████████████████████████████████████████| 287/287 [00:51<00:00,  5.59it/s]\n",
      "100%|█████████████████████████████████████████████████████████████████████████████████████████████████████████| 40/40 [00:02<00:00, 15.48it/s]\n"
     ]
    },
    {
     "name": "stdout",
     "output_type": "stream",
     "text": [
      "Epoch 55/100, Loss: 0.0012020516857628248, Val_Recall: 97.98375343161747%\n"
     ]
    },
    {
     "name": "stderr",
     "output_type": "stream",
     "text": [
      "100%|███████████████████████████████████████████████████████████████████████████████████████████████████████| 287/287 [00:51<00:00,  5.62it/s]\n",
      "100%|█████████████████████████████████████████████████████████████████████████████████████████████████████████| 40/40 [00:02<00:00, 15.39it/s]\n"
     ]
    },
    {
     "name": "stdout",
     "output_type": "stream",
     "text": [
      "Epoch 56/100, Loss: 0.0011794472527519473, Val_Recall: 97.99967997619285%\n"
     ]
    },
    {
     "name": "stderr",
     "output_type": "stream",
     "text": [
      "100%|███████████████████████████████████████████████████████████████████████████████████████████████████████| 287/287 [00:51<00:00,  5.61it/s]\n",
      "100%|█████████████████████████████████████████████████████████████████████████████████████████████████████████| 40/40 [00:02<00:00, 15.39it/s]\n"
     ]
    },
    {
     "name": "stdout",
     "output_type": "stream",
     "text": [
      "Epoch 57/100, Loss: 0.001350289790231341, Val_Recall: 97.99222285464177%\n"
     ]
    },
    {
     "name": "stderr",
     "output_type": "stream",
     "text": [
      "100%|███████████████████████████████████████████████████████████████████████████████████████████████████████| 287/287 [00:51<00:00,  5.62it/s]\n",
      "100%|█████████████████████████████████████████████████████████████████████████████████████████████████████████| 40/40 [00:02<00:00, 15.24it/s]\n"
     ]
    },
    {
     "name": "stdout",
     "output_type": "stream",
     "text": [
      "Epoch 58/100, Loss: 0.0009706568133824858, Val_Recall: 98.01815189501676%\n"
     ]
    },
    {
     "name": "stderr",
     "output_type": "stream",
     "text": [
      "100%|███████████████████████████████████████████████████████████████████████████████████████████████████████| 287/287 [00:51<00:00,  5.62it/s]\n",
      "100%|█████████████████████████████████████████████████████████████████████████████████████████████████████████| 40/40 [00:02<00:00, 15.15it/s]\n"
     ]
    },
    {
     "name": "stdout",
     "output_type": "stream",
     "text": [
      "Epoch 59/100, Loss: 0.0010492341254499187, Val_Recall: 98.18488475309374%\n"
     ]
    },
    {
     "name": "stderr",
     "output_type": "stream",
     "text": [
      "100%|███████████████████████████████████████████████████████████████████████████████████████████████████████| 287/287 [00:51<00:00,  5.62it/s]\n",
      "100%|█████████████████████████████████████████████████████████████████████████████████████████████████████████| 40/40 [00:02<00:00, 15.10it/s]\n"
     ]
    },
    {
     "name": "stdout",
     "output_type": "stream",
     "text": [
      "Epoch 60/100, Loss: 0.0009166111464447568, Val_Recall: 98.82591039411938%\n"
     ]
    },
    {
     "name": "stderr",
     "output_type": "stream",
     "text": [
      "100%|███████████████████████████████████████████████████████████████████████████████████████████████████████| 287/287 [00:51<00:00,  5.62it/s]\n",
      "100%|█████████████████████████████████████████████████████████████████████████████████████████████████████████| 40/40 [00:02<00:00, 15.25it/s]\n"
     ]
    },
    {
     "name": "stdout",
     "output_type": "stream",
     "text": [
      "Epoch 61/100, Loss: 0.0013306998002202918, Val_Recall: 98.55988159167386%\n"
     ]
    },
    {
     "name": "stderr",
     "output_type": "stream",
     "text": [
      "100%|███████████████████████████████████████████████████████████████████████████████████████████████████████| 287/287 [00:51<00:00,  5.62it/s]\n",
      "100%|█████████████████████████████████████████████████████████████████████████████████████████████████████████| 40/40 [00:02<00:00, 15.54it/s]\n"
     ]
    },
    {
     "name": "stdout",
     "output_type": "stream",
     "text": [
      "Epoch 62/100, Loss: 0.0010495806407462087, Val_Recall: 98.63223619419418%\n"
     ]
    },
    {
     "name": "stderr",
     "output_type": "stream",
     "text": [
      "100%|███████████████████████████████████████████████████████████████████████████████████████████████████████| 287/287 [00:51<00:00,  5.61it/s]\n",
      "100%|█████████████████████████████████████████████████████████████████████████████████████████████████████████| 40/40 [00:02<00:00, 15.20it/s]\n"
     ]
    },
    {
     "name": "stdout",
     "output_type": "stream",
     "text": [
      "Epoch 63/100, Loss: 0.001487988937543451, Val_Recall: 97.38046041925763%\n"
     ]
    },
    {
     "name": "stderr",
     "output_type": "stream",
     "text": [
      "100%|███████████████████████████████████████████████████████████████████████████████████████████████████████| 287/287 [00:51<00:00,  5.61it/s]\n",
      "100%|█████████████████████████████████████████████████████████████████████████████████████████████████████████| 40/40 [00:02<00:00, 15.21it/s]\n"
     ]
    },
    {
     "name": "stdout",
     "output_type": "stream",
     "text": [
      "Epoch 64/100, Loss: 0.0013829146800319546, Val_Recall: 98.15382045496098%\n"
     ]
    },
    {
     "name": "stderr",
     "output_type": "stream",
     "text": [
      "100%|███████████████████████████████████████████████████████████████████████████████████████████████████████| 287/287 [00:50<00:00,  5.63it/s]\n",
      "100%|█████████████████████████████████████████████████████████████████████████████████████████████████████████| 40/40 [00:02<00:00, 15.49it/s]\n"
     ]
    },
    {
     "name": "stdout",
     "output_type": "stream",
     "text": [
      "Epoch 65/100, Loss: 0.0008720158939312051, Val_Recall: 98.81410680582854%\n"
     ]
    },
    {
     "name": "stderr",
     "output_type": "stream",
     "text": [
      "100%|███████████████████████████████████████████████████████████████████████████████████████████████████████| 287/287 [00:51<00:00,  5.63it/s]\n",
      "100%|█████████████████████████████████████████████████████████████████████████████████████████████████████████| 40/40 [00:02<00:00, 15.51it/s]\n"
     ]
    },
    {
     "name": "stdout",
     "output_type": "stream",
     "text": [
      "Epoch 66/100, Loss: 0.0013663903732781192, Val_Recall: 97.51691777021989%\n"
     ]
    },
    {
     "name": "stderr",
     "output_type": "stream",
     "text": [
      "100%|███████████████████████████████████████████████████████████████████████████████████████████████████████| 287/287 [00:51<00:00,  5.61it/s]\n",
      "100%|█████████████████████████████████████████████████████████████████████████████████████████████████████████| 40/40 [00:02<00:00, 15.00it/s]\n"
     ]
    },
    {
     "name": "stdout",
     "output_type": "stream",
     "text": [
      "Epoch 67/100, Loss: 0.0016312307465878861, Val_Recall: 96.25000424172597%\n"
     ]
    },
    {
     "name": "stderr",
     "output_type": "stream",
     "text": [
      "100%|███████████████████████████████████████████████████████████████████████████████████████████████████████| 287/287 [00:51<00:00,  5.62it/s]\n",
      "100%|█████████████████████████████████████████████████████████████████████████████████████████████████████████| 40/40 [00:02<00:00, 15.17it/s]\n"
     ]
    },
    {
     "name": "stdout",
     "output_type": "stream",
     "text": [
      "Epoch 68/100, Loss: 0.0009194874209753547, Val_Recall: 99.60361689656247%\n"
     ]
    },
    {
     "name": "stderr",
     "output_type": "stream",
     "text": [
      "100%|███████████████████████████████████████████████████████████████████████████████████████████████████████| 287/287 [00:51<00:00,  5.62it/s]\n",
      "100%|█████████████████████████████████████████████████████████████████████████████████████████████████████████| 40/40 [00:02<00:00, 15.03it/s]\n"
     ]
    },
    {
     "name": "stdout",
     "output_type": "stream",
     "text": [
      "Epoch 69/100, Loss: 0.001032532447261758, Val_Recall: 99.63033472795547%\n"
     ]
    },
    {
     "name": "stderr",
     "output_type": "stream",
     "text": [
      "100%|███████████████████████████████████████████████████████████████████████████████████████████████████████| 287/287 [00:51<00:00,  5.62it/s]\n",
      "100%|█████████████████████████████████████████████████████████████████████████████████████████████████████████| 40/40 [00:02<00:00, 15.32it/s]\n"
     ]
    },
    {
     "name": "stdout",
     "output_type": "stream",
     "text": [
      "Epoch 70/100, Loss: 0.0008346122564149988, Val_Recall: 99.63033472795547%\n"
     ]
    },
    {
     "name": "stderr",
     "output_type": "stream",
     "text": [
      "100%|███████████████████████████████████████████████████████████████████████████████████████████████████████| 287/287 [00:50<00:00,  5.63it/s]\n",
      "100%|█████████████████████████████████████████████████████████████████████████████████████████████████████████| 40/40 [00:02<00:00, 15.52it/s]\n"
     ]
    },
    {
     "name": "stdout",
     "output_type": "stream",
     "text": [
      "Epoch 71/100, Loss: 0.0009504550882488833, Val_Recall: 99.63033472795547%\n"
     ]
    },
    {
     "name": "stderr",
     "output_type": "stream",
     "text": [
      "100%|███████████████████████████████████████████████████████████████████████████████████████████████████████| 287/287 [00:50<00:00,  5.63it/s]\n",
      "100%|█████████████████████████████████████████████████████████████████████████████████████████████████████████| 40/40 [00:02<00:00, 15.45it/s]\n"
     ]
    },
    {
     "name": "stdout",
     "output_type": "stream",
     "text": [
      "Epoch 72/100, Loss: 0.0009309766418335412, Val_Recall: 99.46693603514501%\n"
     ]
    },
    {
     "name": "stderr",
     "output_type": "stream",
     "text": [
      "100%|███████████████████████████████████████████████████████████████████████████████████████████████████████| 287/287 [00:51<00:00,  5.61it/s]\n",
      "100%|█████████████████████████████████████████████████████████████████████████████████████████████████████████| 40/40 [00:02<00:00, 15.03it/s]\n"
     ]
    },
    {
     "name": "stdout",
     "output_type": "stream",
     "text": [
      "Epoch 73/100, Loss: 0.0009289069559736448, Val_Recall: 99.63033472795547%\n"
     ]
    },
    {
     "name": "stderr",
     "output_type": "stream",
     "text": [
      "100%|███████████████████████████████████████████████████████████████████████████████████████████████████████| 287/287 [00:51<00:00,  5.62it/s]\n",
      "100%|█████████████████████████████████████████████████████████████████████████████████████████████████████████| 40/40 [00:02<00:00, 15.07it/s]\n"
     ]
    },
    {
     "name": "stdout",
     "output_type": "stream",
     "text": [
      "Epoch 74/100, Loss: 0.001026176436501, Val_Recall: 99.45179828158764%\n"
     ]
    },
    {
     "name": "stderr",
     "output_type": "stream",
     "text": [
      "100%|███████████████████████████████████████████████████████████████████████████████████████████████████████| 287/287 [00:51<00:00,  5.63it/s]\n",
      "100%|█████████████████████████████████████████████████████████████████████████████████████████████████████████| 40/40 [00:02<00:00, 15.21it/s]\n"
     ]
    },
    {
     "name": "stdout",
     "output_type": "stream",
     "text": [
      "Epoch 75/100, Loss: 0.0015282100805457332, Val_Recall: 98.96160220315627%\n"
     ]
    },
    {
     "name": "stderr",
     "output_type": "stream",
     "text": [
      "100%|███████████████████████████████████████████████████████████████████████████████████████████████████████| 287/287 [00:51<00:00,  5.61it/s]\n",
      "100%|█████████████████████████████████████████████████████████████████████████████████████████████████████████| 40/40 [00:02<00:00, 15.51it/s]\n"
     ]
    },
    {
     "name": "stdout",
     "output_type": "stream",
     "text": [
      "Epoch 76/100, Loss: 0.0011447656363209643, Val_Recall: 99.2960802207835%\n"
     ]
    },
    {
     "name": "stderr",
     "output_type": "stream",
     "text": [
      "100%|███████████████████████████████████████████████████████████████████████████████████████████████████████| 287/287 [00:51<00:00,  5.62it/s]\n",
      "100%|█████████████████████████████████████████████████████████████████████████████████████████████████████████| 40/40 [00:02<00:00, 15.54it/s]\n"
     ]
    },
    {
     "name": "stdout",
     "output_type": "stream",
     "text": [
      "Epoch 77/100, Loss: 0.0014169186244670866, Val_Recall: 98.34751790397885%\n"
     ]
    },
    {
     "name": "stderr",
     "output_type": "stream",
     "text": [
      "100%|███████████████████████████████████████████████████████████████████████████████████████████████████████| 287/287 [00:51<00:00,  5.62it/s]\n",
      "100%|█████████████████████████████████████████████████████████████████████████████████████████████████████████| 40/40 [00:02<00:00, 15.28it/s]\n"
     ]
    },
    {
     "name": "stdout",
     "output_type": "stream",
     "text": [
      "Epoch 78/100, Loss: 0.0011841274845971151, Val_Recall: 98.65917753604239%\n"
     ]
    },
    {
     "name": "stderr",
     "output_type": "stream",
     "text": [
      "100%|███████████████████████████████████████████████████████████████████████████████████████████████████████| 287/287 [00:50<00:00,  5.63it/s]\n",
      "100%|█████████████████████████████████████████████████████████████████████████████████████████████████████████| 40/40 [00:02<00:00, 15.23it/s]\n"
     ]
    },
    {
     "name": "stdout",
     "output_type": "stream",
     "text": [
      "Epoch 79/100, Loss: 0.0010637130499204597, Val_Recall: 98.82257622885285%\n"
     ]
    },
    {
     "name": "stderr",
     "output_type": "stream",
     "text": [
      "100%|███████████████████████████████████████████████████████████████████████████████████████████████████████| 287/287 [00:51<00:00,  5.62it/s]\n",
      "100%|█████████████████████████████████████████████████████████████████████████████████████████████████████████| 40/40 [00:02<00:00, 15.29it/s]\n"
     ]
    },
    {
     "name": "stdout",
     "output_type": "stream",
     "text": [
      "Epoch 80/100, Loss: 0.000978185978020838, Val_Recall: 99.45303409351608%\n"
     ]
    },
    {
     "name": "stderr",
     "output_type": "stream",
     "text": [
      "100%|███████████████████████████████████████████████████████████████████████████████████████████████████████| 287/287 [00:51<00:00,  5.62it/s]\n",
      "100%|█████████████████████████████████████████████████████████████████████████████████████████████████████████| 40/40 [00:02<00:00, 15.48it/s]\n"
     ]
    },
    {
     "name": "stdout",
     "output_type": "stream",
     "text": [
      "Epoch 81/100, Loss: 0.0008643120377614833, Val_Recall: 98.67098112433324%\n"
     ]
    },
    {
     "name": "stderr",
     "output_type": "stream",
     "text": [
      "100%|███████████████████████████████████████████████████████████████████████████████████████████████████████| 287/287 [00:51<00:00,  5.62it/s]\n",
      "100%|█████████████████████████████████████████████████████████████████████████████████████████████████████████| 40/40 [00:02<00:00, 15.70it/s]\n"
     ]
    },
    {
     "name": "stdout",
     "output_type": "stream",
     "text": [
      "Epoch 82/100, Loss: 0.0009876896713907207, Val_Recall: 98.82591039411938%\n",
      "Early stopping\n",
      "Loaded pretrained weights for efficientnet-b0\n"
     ]
    },
    {
     "name": "stderr",
     "output_type": "stream",
     "text": [
      "100%|███████████████████████████████████████████████████████████████████████████████████████████████████████| 287/287 [00:51<00:00,  5.62it/s]\n",
      "100%|█████████████████████████████████████████████████████████████████████████████████████████████████████████| 40/40 [00:02<00:00, 15.48it/s]\n"
     ]
    },
    {
     "name": "stdout",
     "output_type": "stream",
     "text": [
      "Epoch 1/100, Loss: 0.007359655514665065, Val_Recall: 89.11233179635445%\n",
      "Model saved based on lowest validation loss.\n"
     ]
    },
    {
     "name": "stderr",
     "output_type": "stream",
     "text": [
      "100%|███████████████████████████████████████████████████████████████████████████████████████████████████████| 287/287 [00:51<00:00,  5.62it/s]\n",
      "100%|█████████████████████████████████████████████████████████████████████████████████████████████████████████| 40/40 [00:02<00:00, 15.48it/s]\n"
     ]
    },
    {
     "name": "stdout",
     "output_type": "stream",
     "text": [
      "Epoch 2/100, Loss: 0.002309647754555044, Val_Recall: 95.90282125501778%\n",
      "Model saved based on lowest validation loss.\n"
     ]
    },
    {
     "name": "stderr",
     "output_type": "stream",
     "text": [
      "100%|███████████████████████████████████████████████████████████████████████████████████████████████████████| 287/287 [00:51<00:00,  5.62it/s]\n",
      "100%|█████████████████████████████████████████████████████████████████████████████████████████████████████████| 40/40 [00:02<00:00, 15.38it/s]\n"
     ]
    },
    {
     "name": "stdout",
     "output_type": "stream",
     "text": [
      "Epoch 3/100, Loss: 0.0013938574311396223, Val_Recall: 98.73017212547258%\n",
      "Model saved based on lowest validation loss.\n"
     ]
    },
    {
     "name": "stderr",
     "output_type": "stream",
     "text": [
      "100%|███████████████████████████████████████████████████████████████████████████████████████████████████████| 287/287 [00:51<00:00,  5.63it/s]\n",
      "100%|█████████████████████████████████████████████████████████████████████████████████████████████████████████| 40/40 [00:02<00:00, 15.20it/s]\n"
     ]
    },
    {
     "name": "stdout",
     "output_type": "stream",
     "text": [
      "Epoch 4/100, Loss: 0.0013935964240545217, Val_Recall: 98.49285285949533%\n",
      "Model saved based on lowest validation loss.\n"
     ]
    },
    {
     "name": "stderr",
     "output_type": "stream",
     "text": [
      "100%|███████████████████████████████████████████████████████████████████████████████████████████████████████| 287/287 [00:51<00:00,  5.62it/s]\n",
      "100%|█████████████████████████████████████████████████████████████████████████████████████████████████████████| 40/40 [00:02<00:00, 15.31it/s]\n"
     ]
    },
    {
     "name": "stdout",
     "output_type": "stream",
     "text": [
      "Epoch 5/100, Loss: 0.0012167909744903228, Val_Recall: 97.83691297536753%\n",
      "Model saved based on lowest validation loss.\n"
     ]
    },
    {
     "name": "stderr",
     "output_type": "stream",
     "text": [
      "100%|███████████████████████████████████████████████████████████████████████████████████████████████████████| 287/287 [00:51<00:00,  5.62it/s]\n",
      "100%|█████████████████████████████████████████████████████████████████████████████████████████████████████████| 40/40 [00:02<00:00, 15.69it/s]\n"
     ]
    },
    {
     "name": "stdout",
     "output_type": "stream",
     "text": [
      "Epoch 6/100, Loss: 0.000896037488780621, Val_Recall: 99.56633128880706%\n",
      "Model saved based on lowest validation loss.\n"
     ]
    },
    {
     "name": "stderr",
     "output_type": "stream",
     "text": [
      "100%|███████████████████████████████████████████████████████████████████████████████████████████████████████| 287/287 [00:51<00:00,  5.61it/s]\n",
      "100%|█████████████████████████████████████████████████████████████████████████████████████████████████████████| 40/40 [00:02<00:00, 15.11it/s]\n"
     ]
    },
    {
     "name": "stdout",
     "output_type": "stream",
     "text": [
      "Epoch 7/100, Loss: 0.0012619848100783315, Val_Recall: 98.1730811648029%\n"
     ]
    },
    {
     "name": "stderr",
     "output_type": "stream",
     "text": [
      "100%|███████████████████████████████████████████████████████████████████████████████████████████████████████| 287/287 [00:51<00:00,  5.62it/s]\n",
      "100%|█████████████████████████████████████████████████████████████████████████████████████████████████████████| 40/40 [00:02<00:00, 15.21it/s]\n"
     ]
    },
    {
     "name": "stdout",
     "output_type": "stream",
     "text": [
      "Epoch 8/100, Loss: 0.0017146030981521677, Val_Recall: 97.994952899965%\n"
     ]
    },
    {
     "name": "stderr",
     "output_type": "stream",
     "text": [
      "100%|███████████████████████████████████████████████████████████████████████████████████████████████████████| 287/287 [00:51<00:00,  5.63it/s]\n",
      "100%|█████████████████████████████████████████████████████████████████████████████████████████████████████████| 40/40 [00:02<00:00, 15.41it/s]\n"
     ]
    },
    {
     "name": "stdout",
     "output_type": "stream",
     "text": [
      "Epoch 9/100, Loss: 0.0014177594125598602, Val_Recall: 97.57634389320401%\n"
     ]
    },
    {
     "name": "stderr",
     "output_type": "stream",
     "text": [
      "100%|███████████████████████████████████████████████████████████████████████████████████████████████████████| 287/287 [00:51<00:00,  5.63it/s]\n",
      "100%|█████████████████████████████████████████████████████████████████████████████████████████████████████████| 40/40 [00:02<00:00, 15.00it/s]\n"
     ]
    },
    {
     "name": "stdout",
     "output_type": "stream",
     "text": [
      "Epoch 10/100, Loss: 0.001273560433747889, Val_Recall: 97.9524656230295%\n"
     ]
    },
    {
     "name": "stderr",
     "output_type": "stream",
     "text": [
      "100%|███████████████████████████████████████████████████████████████████████████████████████████████████████| 287/287 [00:51<00:00,  5.61it/s]\n",
      "100%|█████████████████████████████████████████████████████████████████████████████████████████████████████████| 40/40 [00:02<00:00, 15.05it/s]\n"
     ]
    },
    {
     "name": "stdout",
     "output_type": "stream",
     "text": [
      "Epoch 11/100, Loss: 0.0010096072135766577, Val_Recall: 98.85093805370423%\n"
     ]
    },
    {
     "name": "stderr",
     "output_type": "stream",
     "text": [
      "100%|███████████████████████████████████████████████████████████████████████████████████████████████████████| 287/287 [00:51<00:00,  5.61it/s]\n",
      "100%|█████████████████████████████████████████████████████████████████████████████████████████████████████████| 40/40 [00:02<00:00, 15.15it/s]\n"
     ]
    },
    {
     "name": "stdout",
     "output_type": "stream",
     "text": [
      "Epoch 12/100, Loss: 0.0011057386917443068, Val_Recall: 98.52080650281678%\n"
     ]
    },
    {
     "name": "stderr",
     "output_type": "stream",
     "text": [
      "100%|███████████████████████████████████████████████████████████████████████████████████████████████████████| 287/287 [00:51<00:00,  5.61it/s]\n",
      "100%|█████████████████████████████████████████████████████████████████████████████████████████████████████████| 40/40 [00:02<00:00, 15.74it/s]\n"
     ]
    },
    {
     "name": "stdout",
     "output_type": "stream",
     "text": [
      "Epoch 13/100, Loss: 0.0013250495875503532, Val_Recall: 97.91417932519043%\n"
     ]
    },
    {
     "name": "stderr",
     "output_type": "stream",
     "text": [
      "100%|███████████████████████████████████████████████████████████████████████████████████████████████████████| 287/287 [00:51<00:00,  5.61it/s]\n",
      "100%|█████████████████████████████████████████████████████████████████████████████████████████████████████████| 40/40 [00:02<00:00, 15.25it/s]\n"
     ]
    },
    {
     "name": "stdout",
     "output_type": "stream",
     "text": [
      "Epoch 14/100, Loss: 0.0014010990638276156, Val_Recall: 97.37521257172773%\n"
     ]
    },
    {
     "name": "stderr",
     "output_type": "stream",
     "text": [
      "100%|███████████████████████████████████████████████████████████████████████████████████████████████████████| 287/287 [00:51<00:00,  5.62it/s]\n",
      "100%|█████████████████████████████████████████████████████████████████████████████████████████████████████████| 40/40 [00:02<00:00, 14.83it/s]\n"
     ]
    },
    {
     "name": "stdout",
     "output_type": "stream",
     "text": [
      "Epoch 15/100, Loss: 0.0011007822504250698, Val_Recall: 98.67573577260292%\n"
     ]
    },
    {
     "name": "stderr",
     "output_type": "stream",
     "text": [
      "100%|███████████████████████████████████████████████████████████████████████████████████████████████████████| 287/287 [00:51<00:00,  5.62it/s]\n",
      "100%|█████████████████████████████████████████████████████████████████████████████████████████████████████████| 40/40 [00:02<00:00, 15.39it/s]\n"
     ]
    },
    {
     "name": "stdout",
     "output_type": "stream",
     "text": [
      "Epoch 16/100, Loss: 0.0020677299727839492, Val_Recall: 96.51825395589579%\n"
     ]
    },
    {
     "name": "stderr",
     "output_type": "stream",
     "text": [
      "100%|███████████████████████████████████████████████████████████████████████████████████████████████████████| 287/287 [00:51<00:00,  5.61it/s]\n",
      "100%|█████████████████████████████████████████████████████████████████████████████████████████████████████████| 40/40 [00:02<00:00, 15.26it/s]\n"
     ]
    },
    {
     "name": "stdout",
     "output_type": "stream",
     "text": [
      "Epoch 17/100, Loss: 0.0006493100617842807, Val_Recall: 98.71425719228677%\n",
      "Model saved based on lowest validation loss.\n"
     ]
    },
    {
     "name": "stderr",
     "output_type": "stream",
     "text": [
      "100%|███████████████████████████████████████████████████████████████████████████████████████████████████████| 287/287 [00:51<00:00,  5.62it/s]\n",
      "100%|█████████████████████████████████████████████████████████████████████████████████████████████████████████| 40/40 [00:02<00:00, 15.61it/s]\n"
     ]
    },
    {
     "name": "stdout",
     "output_type": "stream",
     "text": [
      "Epoch 18/100, Loss: 0.0034967062708398445, Val_Recall: 95.59818731388273%\n"
     ]
    },
    {
     "name": "stderr",
     "output_type": "stream",
     "text": [
      "100%|███████████████████████████████████████████████████████████████████████████████████████████████████████| 287/287 [00:51<00:00,  5.62it/s]\n",
      "100%|█████████████████████████████████████████████████████████████████████████████████████████████████████████| 40/40 [00:02<00:00, 15.65it/s]\n"
     ]
    },
    {
     "name": "stdout",
     "output_type": "stream",
     "text": [
      "Epoch 19/100, Loss: 0.0014325877434124834, Val_Recall: 97.73974258601449%\n"
     ]
    },
    {
     "name": "stderr",
     "output_type": "stream",
     "text": [
      "100%|███████████████████████████████████████████████████████████████████████████████████████████████████████| 287/287 [00:51<00:00,  5.59it/s]\n",
      "100%|█████████████████████████████████████████████████████████████████████████████████████████████████████████| 40/40 [00:02<00:00, 15.18it/s]\n"
     ]
    },
    {
     "name": "stdout",
     "output_type": "stream",
     "text": [
      "Epoch 20/100, Loss: 0.0010192863186489376, Val_Recall: 97.85551874413164%\n"
     ]
    },
    {
     "name": "stderr",
     "output_type": "stream",
     "text": [
      "100%|███████████████████████████████████████████████████████████████████████████████████████████████████████| 287/287 [00:51<00:00,  5.62it/s]\n",
      "100%|█████████████████████████████████████████████████████████████████████████████████████████████████████████| 40/40 [00:02<00:00, 15.31it/s]\n"
     ]
    },
    {
     "name": "stdout",
     "output_type": "stream",
     "text": [
      "Epoch 21/100, Loss: 0.0015581851194443885, Val_Recall: 97.69212005132118%\n"
     ]
    },
    {
     "name": "stderr",
     "output_type": "stream",
     "text": [
      "100%|███████████████████████████████████████████████████████████████████████████████████████████████████████| 287/287 [00:51<00:00,  5.62it/s]\n",
      "100%|█████████████████████████████████████████████████████████████████████████████████████████████████████████| 40/40 [00:02<00:00, 15.57it/s]\n"
     ]
    },
    {
     "name": "stdout",
     "output_type": "stream",
     "text": [
      "Epoch 22/100, Loss: 0.0011264052028110427, Val_Recall: 98.65505457975785%\n"
     ]
    },
    {
     "name": "stderr",
     "output_type": "stream",
     "text": [
      "100%|███████████████████████████████████████████████████████████████████████████████████████████████████████| 287/287 [00:51<00:00,  5.62it/s]\n",
      "100%|█████████████████████████████████████████████████████████████████████████████████████████████████████████| 40/40 [00:02<00:00, 15.32it/s]\n"
     ]
    },
    {
     "name": "stdout",
     "output_type": "stream",
     "text": [
      "Epoch 23/100, Loss: 0.0024504413150449266, Val_Recall: 96.21896319268588%\n"
     ]
    },
    {
     "name": "stderr",
     "output_type": "stream",
     "text": [
      "100%|███████████████████████████████████████████████████████████████████████████████████████████████████████| 287/287 [00:51<00:00,  5.61it/s]\n",
      "100%|█████████████████████████████████████████████████████████████████████████████████████████████████████████| 40/40 [00:02<00:00, 15.19it/s]\n"
     ]
    },
    {
     "name": "stdout",
     "output_type": "stream",
     "text": [
      "Epoch 24/100, Loss: 0.002542529771455815, Val_Recall: 97.3501849121429%\n"
     ]
    },
    {
     "name": "stderr",
     "output_type": "stream",
     "text": [
      "100%|███████████████████████████████████████████████████████████████████████████████████████████████████████| 287/287 [00:51<00:00,  5.63it/s]\n",
      "100%|█████████████████████████████████████████████████████████████████████████████████████████████████████████| 40/40 [00:02<00:00, 15.02it/s]\n"
     ]
    },
    {
     "name": "stdout",
     "output_type": "stream",
     "text": [
      "Epoch 25/100, Loss: 0.0017539670321448319, Val_Recall: 98.04629020941292%\n"
     ]
    },
    {
     "name": "stderr",
     "output_type": "stream",
     "text": [
      "100%|███████████████████████████████████████████████████████████████████████████████████████████████████████| 287/287 [00:51<00:00,  5.62it/s]\n",
      "100%|█████████████████████████████████████████████████████████████████████████████████████████████████████████| 40/40 [00:02<00:00, 15.32it/s]\n"
     ]
    },
    {
     "name": "stdout",
     "output_type": "stream",
     "text": [
      "Epoch 26/100, Loss: 0.0012983949378863491, Val_Recall: 98.16974699953637%\n"
     ]
    },
    {
     "name": "stderr",
     "output_type": "stream",
     "text": [
      "100%|███████████████████████████████████████████████████████████████████████████████████████████████████████| 287/287 [00:51<00:00,  5.62it/s]\n",
      "100%|█████████████████████████████████████████████████████████████████████████████████████████████████████████| 40/40 [00:02<00:00, 15.14it/s]\n"
     ]
    },
    {
     "name": "stdout",
     "output_type": "stream",
     "text": [
      "Epoch 27/100, Loss: 0.0012205163562704513, Val_Recall: 98.18155058782722%\n"
     ]
    },
    {
     "name": "stderr",
     "output_type": "stream",
     "text": [
      "100%|███████████████████████████████████████████████████████████████████████████████████████████████████████| 287/287 [00:51<00:00,  5.61it/s]\n",
      "100%|█████████████████████████████████████████████████████████████████████████████████████████████████████████| 40/40 [00:02<00:00, 15.06it/s]\n"
     ]
    },
    {
     "name": "stdout",
     "output_type": "stream",
     "text": [
      "Epoch 28/100, Loss: 0.002112141954150504, Val_Recall: 97.54052494680158%\n"
     ]
    },
    {
     "name": "stderr",
     "output_type": "stream",
     "text": [
      "100%|███████████████████████████████████████████████████████████████████████████████████████████████████████| 287/287 [00:51<00:00,  5.62it/s]\n",
      "100%|█████████████████████████████████████████████████████████████████████████████████████████████████████████| 40/40 [00:02<00:00, 15.26it/s]\n"
     ]
    },
    {
     "name": "stdout",
     "output_type": "stream",
     "text": [
      "Epoch 29/100, Loss: 0.0010330658379049563, Val_Recall: 98.32134210405599%\n"
     ]
    },
    {
     "name": "stderr",
     "output_type": "stream",
     "text": [
      "100%|███████████████████████████████████████████████████████████████████████████████████████████████████████| 287/287 [00:51<00:00,  5.62it/s]\n",
      "100%|█████████████████████████████████████████████████████████████████████████████████████████████████████████| 40/40 [00:02<00:00, 15.35it/s]\n"
     ]
    },
    {
     "name": "stdout",
     "output_type": "stream",
     "text": [
      "Epoch 30/100, Loss: 0.0006873053612097335, Val_Recall: 98.97829428965701%\n"
     ]
    },
    {
     "name": "stderr",
     "output_type": "stream",
     "text": [
      "100%|███████████████████████████████████████████████████████████████████████████████████████████████████████| 287/287 [00:51<00:00,  5.61it/s]\n",
      "100%|█████████████████████████████████████████████████████████████████████████████████████████████████████████| 40/40 [00:02<00:00, 15.01it/s]\n"
     ]
    },
    {
     "name": "stdout",
     "output_type": "stream",
     "text": [
      "Epoch 31/100, Loss: 0.0011558621592310803, Val_Recall: 98.85071454324901%\n"
     ]
    },
    {
     "name": "stderr",
     "output_type": "stream",
     "text": [
      "100%|███████████████████████████████████████████████████████████████████████████████████████████████████████| 287/287 [00:51<00:00,  5.62it/s]\n",
      "100%|█████████████████████████████████████████████████████████████████████████████████████████████████████████| 40/40 [00:02<00:00, 15.19it/s]\n"
     ]
    },
    {
     "name": "stdout",
     "output_type": "stream",
     "text": [
      "Epoch 32/100, Loss: 0.000803933329925699, Val_Recall: 98.33314569234682%\n"
     ]
    },
    {
     "name": "stderr",
     "output_type": "stream",
     "text": [
      "100%|███████████████████████████████████████████████████████████████████████████████████████████████████████| 287/287 [00:51<00:00,  5.61it/s]\n",
      "100%|█████████████████████████████████████████████████████████████████████████████████████████████████████████| 40/40 [00:02<00:00, 15.27it/s]\n"
     ]
    },
    {
     "name": "stdout",
     "output_type": "stream",
     "text": [
      "Epoch 33/100, Loss: 0.0007040580711052292, Val_Recall: 98.98597492166331%\n"
     ]
    },
    {
     "name": "stderr",
     "output_type": "stream",
     "text": [
      "100%|███████████████████████████████████████████████████████████████████████████████████████████████████████| 287/287 [00:51<00:00,  5.62it/s]\n",
      "100%|█████████████████████████████████████████████████████████████████████████████████████████████████████████| 40/40 [00:02<00:00, 15.29it/s]\n"
     ]
    },
    {
     "name": "stdout",
     "output_type": "stream",
     "text": [
      "Epoch 34/100, Loss: 0.0005705992577495781, Val_Recall: 99.29274605551696%\n",
      "Model saved based on lowest validation loss.\n"
     ]
    },
    {
     "name": "stderr",
     "output_type": "stream",
     "text": [
      "100%|███████████████████████████████████████████████████████████████████████████████████████████████████████| 287/287 [00:51<00:00,  5.62it/s]\n",
      "100%|█████████████████████████████████████████████████████████████████████████████████████████████████████████| 40/40 [00:02<00:00, 15.56it/s]\n"
     ]
    },
    {
     "name": "stdout",
     "output_type": "stream",
     "text": [
      "Epoch 35/100, Loss: 0.001201195173266001, Val_Recall: 98.98496262019009%\n"
     ]
    },
    {
     "name": "stderr",
     "output_type": "stream",
     "text": [
      "100%|███████████████████████████████████████████████████████████████████████████████████████████████████████| 287/287 [00:51<00:00,  5.62it/s]\n",
      "100%|█████████████████████████████████████████████████████████████████████████████████████████████████████████| 40/40 [00:02<00:00, 15.62it/s]\n"
     ]
    },
    {
     "name": "stdout",
     "output_type": "stream",
     "text": [
      "Epoch 36/100, Loss: 0.0007715096871173027, Val_Recall: 98.80331551901094%\n"
     ]
    },
    {
     "name": "stderr",
     "output_type": "stream",
     "text": [
      "100%|███████████████████████████████████████████████████████████████████████████████████████████████████████| 287/287 [00:51<00:00,  5.62it/s]\n",
      "100%|█████████████████████████████████████████████████████████████████████████████████████████████████████████| 40/40 [00:02<00:00, 15.22it/s]\n"
     ]
    },
    {
     "name": "stdout",
     "output_type": "stream",
     "text": [
      "Epoch 37/100, Loss: 0.0006207489465829663, Val_Recall: 99.3206608594579%\n"
     ]
    },
    {
     "name": "stderr",
     "output_type": "stream",
     "text": [
      "100%|███████████████████████████████████████████████████████████████████████████████████████████████████████| 287/287 [00:50<00:00,  5.63it/s]\n",
      "100%|█████████████████████████████████████████████████████████████████████████████████████████████████████████| 40/40 [00:02<00:00, 15.54it/s]\n"
     ]
    },
    {
     "name": "stdout",
     "output_type": "stream",
     "text": [
      "Epoch 38/100, Loss: 0.0008205897004080143, Val_Recall: 98.83557678969163%\n"
     ]
    },
    {
     "name": "stderr",
     "output_type": "stream",
     "text": [
      "100%|███████████████████████████████████████████████████████████████████████████████████████████████████████| 287/287 [00:51<00:00,  5.61it/s]\n",
      "100%|█████████████████████████████████████████████████████████████████████████████████████████████████████████| 40/40 [00:02<00:00, 15.32it/s]\n"
     ]
    },
    {
     "name": "stdout",
     "output_type": "stream",
     "text": [
      "Epoch 39/100, Loss: 0.0007944469246588384, Val_Recall: 99.62700056268895%\n"
     ]
    },
    {
     "name": "stderr",
     "output_type": "stream",
     "text": [
      "100%|███████████████████████████████████████████████████████████████████████████████████████████████████████| 287/287 [00:51<00:00,  5.61it/s]\n",
      "100%|█████████████████████████████████████████████████████████████████████████████████████████████████████████| 40/40 [00:02<00:00, 15.33it/s]\n"
     ]
    },
    {
     "name": "stdout",
     "output_type": "stream",
     "text": [
      "Epoch 40/100, Loss: 0.0007984928815530478, Val_Recall: 99.19188414050195%\n"
     ]
    },
    {
     "name": "stderr",
     "output_type": "stream",
     "text": [
      "100%|███████████████████████████████████████████████████████████████████████████████████████████████████████| 287/287 [00:51<00:00,  5.62it/s]\n",
      "100%|█████████████████████████████████████████████████████████████████████████████████████████████████████████| 40/40 [00:02<00:00, 15.34it/s]\n"
     ]
    },
    {
     "name": "stdout",
     "output_type": "stream",
     "text": [
      "Epoch 41/100, Loss: 0.002409984140789523, Val_Recall: 97.30186891682685%\n"
     ]
    },
    {
     "name": "stderr",
     "output_type": "stream",
     "text": [
      "100%|███████████████████████████████████████████████████████████████████████████████████████████████████████| 287/287 [00:51<00:00,  5.61it/s]\n",
      "100%|█████████████████████████████████████████████████████████████████████████████████████████████████████████| 40/40 [00:02<00:00, 15.20it/s]\n"
     ]
    },
    {
     "name": "stdout",
     "output_type": "stream",
     "text": [
      "Epoch 42/100, Loss: 0.000539366331047153, Val_Recall: 99.50687793783203%\n",
      "Model saved based on lowest validation loss.\n"
     ]
    },
    {
     "name": "stderr",
     "output_type": "stream",
     "text": [
      "100%|███████████████████████████████████████████████████████████████████████████████████████████████████████| 287/287 [00:51<00:00,  5.61it/s]\n",
      "100%|█████████████████████████████████████████████████████████████████████████████████████████████████████████| 40/40 [00:02<00:00, 15.23it/s]\n"
     ]
    },
    {
     "name": "stdout",
     "output_type": "stream",
     "text": [
      "Epoch 43/100, Loss: 0.0008714854642806636, Val_Recall: 98.20534243548362%\n"
     ]
    },
    {
     "name": "stderr",
     "output_type": "stream",
     "text": [
      "100%|███████████████████████████████████████████████████████████████████████████████████████████████████████| 287/287 [00:51<00:00,  5.62it/s]\n",
      "100%|█████████████████████████████████████████████████████████████████████████████████████████████████████████| 40/40 [00:02<00:00, 15.43it/s]\n"
     ]
    },
    {
     "name": "stdout",
     "output_type": "stream",
     "text": [
      "Epoch 44/100, Loss: 0.0005106258560649724, Val_Recall: 99.62943334716533%\n",
      "Model saved based on lowest validation loss.\n"
     ]
    },
    {
     "name": "stderr",
     "output_type": "stream",
     "text": [
      "100%|███████████████████████████████████████████████████████████████████████████████████████████████████████| 287/287 [00:51<00:00,  5.62it/s]\n",
      "100%|█████████████████████████████████████████████████████████████████████████████████████████████████████████| 40/40 [00:02<00:00, 15.36it/s]\n"
     ]
    },
    {
     "name": "stdout",
     "output_type": "stream",
     "text": [
      "Epoch 45/100, Loss: 0.0007334978804168669, Val_Recall: 99.62074041368582%\n"
     ]
    },
    {
     "name": "stderr",
     "output_type": "stream",
     "text": [
      "100%|███████████████████████████████████████████████████████████████████████████████████████████████████████| 287/287 [00:51<00:00,  5.62it/s]\n",
      "100%|█████████████████████████████████████████████████████████████████████████████████████████████████████████| 40/40 [00:02<00:00, 15.32it/s]\n"
     ]
    },
    {
     "name": "stdout",
     "output_type": "stream",
     "text": [
      "Epoch 46/100, Loss: 0.0007240906396364016, Val_Recall: 99.4691453091662%\n"
     ]
    },
    {
     "name": "stderr",
     "output_type": "stream",
     "text": [
      "100%|███████████████████████████████████████████████████████████████████████████████████████████████████████| 287/287 [00:51<00:00,  5.63it/s]\n",
      "100%|█████████████████████████████████████████████████████████████████████████████████████████████████████████| 40/40 [00:02<00:00, 15.38it/s]\n"
     ]
    },
    {
     "name": "stdout",
     "output_type": "stream",
     "text": [
      "Epoch 47/100, Loss: 0.0006900694251625733, Val_Recall: 99.62074041368582%\n"
     ]
    },
    {
     "name": "stderr",
     "output_type": "stream",
     "text": [
      "100%|███████████████████████████████████████████████████████████████████████████████████████████████████████| 287/287 [00:51<00:00,  5.62it/s]\n",
      "100%|█████████████████████████████████████████████████████████████████████████████████████████████████████████| 40/40 [00:02<00:00, 15.21it/s]\n"
     ]
    },
    {
     "name": "stdout",
     "output_type": "stream",
     "text": [
      "Epoch 48/100, Loss: 0.0005562910582461805, Val_Recall: 99.8033998163382%\n"
     ]
    },
    {
     "name": "stderr",
     "output_type": "stream",
     "text": [
      "100%|███████████████████████████████████████████████████████████████████████████████████████████████████████| 287/287 [00:51<00:00,  5.61it/s]\n",
      "100%|█████████████████████████████████████████████████████████████████████████████████████████████████████████| 40/40 [00:02<00:00, 15.61it/s]\n"
     ]
    },
    {
     "name": "stdout",
     "output_type": "stream",
     "text": [
      "Epoch 49/100, Loss: 0.00043220601570630456, Val_Recall: 99.82288403663532%\n",
      "Model saved based on lowest validation loss.\n"
     ]
    },
    {
     "name": "stderr",
     "output_type": "stream",
     "text": [
      "100%|███████████████████████████████████████████████████████████████████████████████████████████████████████| 287/287 [00:50<00:00,  5.63it/s]\n",
      "100%|█████████████████████████████████████████████████████████████████████████████████████████████████████████| 40/40 [00:02<00:00, 15.46it/s]\n"
     ]
    },
    {
     "name": "stdout",
     "output_type": "stream",
     "text": [
      "Epoch 50/100, Loss: 0.0008393181714714093, Val_Recall: 98.83891095495817%\n"
     ]
    },
    {
     "name": "stderr",
     "output_type": "stream",
     "text": [
      "100%|███████████████████████████████████████████████████████████████████████████████████████████████████████| 287/287 [00:51<00:00,  5.62it/s]\n",
      "100%|█████████████████████████████████████████████████████████████████████████████████████████████████████████| 40/40 [00:02<00:00, 15.06it/s]\n"
     ]
    },
    {
     "name": "stdout",
     "output_type": "stream",
     "text": [
      "Epoch 51/100, Loss: 0.0007807797408173778, Val_Recall: 98.68753936089377%\n"
     ]
    },
    {
     "name": "stderr",
     "output_type": "stream",
     "text": [
      "100%|███████████████████████████████████████████████████████████████████████████████████████████████████████| 287/287 [00:51<00:00,  5.61it/s]\n",
      "100%|█████████████████████████████████████████████████████████████████████████████████████████████████████████| 40/40 [00:02<00:00, 15.47it/s]\n"
     ]
    },
    {
     "name": "stdout",
     "output_type": "stream",
     "text": [
      "Epoch 52/100, Loss: 0.0009458167248513561, Val_Recall: 99.1531392103629%\n"
     ]
    },
    {
     "name": "stderr",
     "output_type": "stream",
     "text": [
      "100%|███████████████████████████████████████████████████████████████████████████████████████████████████████| 287/287 [00:51<00:00,  5.62it/s]\n",
      "100%|█████████████████████████████████████████████████████████████████████████████████████████████████████████| 40/40 [00:02<00:00, 15.10it/s]\n"
     ]
    },
    {
     "name": "stdout",
     "output_type": "stream",
     "text": [
      "Epoch 53/100, Loss: 0.0021463062022953005, Val_Recall: 98.19042819238145%\n"
     ]
    },
    {
     "name": "stderr",
     "output_type": "stream",
     "text": [
      "100%|███████████████████████████████████████████████████████████████████████████████████████████████████████| 287/287 [00:51<00:00,  5.62it/s]\n",
      "100%|█████████████████████████████████████████████████████████████████████████████████████████████████████████| 40/40 [00:02<00:00, 15.57it/s]\n"
     ]
    },
    {
     "name": "stdout",
     "output_type": "stream",
     "text": [
      "Epoch 54/100, Loss: 0.0012985085596666193, Val_Recall: 98.80331551901094%\n"
     ]
    },
    {
     "name": "stderr",
     "output_type": "stream",
     "text": [
      "100%|███████████████████████████████████████████████████████████████████████████████████████████████████████| 287/287 [00:51<00:00,  5.62it/s]\n",
      "100%|█████████████████████████████████████████████████████████████████████████████████████████████████████████| 40/40 [00:02<00:00, 15.47it/s]\n"
     ]
    },
    {
     "name": "stdout",
     "output_type": "stream",
     "text": [
      "Epoch 55/100, Loss: 0.0012617816017702842, Val_Recall: 98.48730942020762%\n"
     ]
    },
    {
     "name": "stderr",
     "output_type": "stream",
     "text": [
      "100%|███████████████████████████████████████████████████████████████████████████████████████████████████████| 287/287 [00:51<00:00,  5.62it/s]\n",
      "100%|█████████████████████████████████████████████████████████████████████████████████████████████████████████| 40/40 [00:02<00:00, 15.18it/s]\n"
     ]
    },
    {
     "name": "stdout",
     "output_type": "stream",
     "text": [
      "Epoch 56/100, Loss: 0.00262871949899509, Val_Recall: 97.74643416564021%\n"
     ]
    },
    {
     "name": "stderr",
     "output_type": "stream",
     "text": [
      "100%|███████████████████████████████████████████████████████████████████████████████████████████████████████| 287/287 [00:51<00:00,  5.62it/s]\n",
      "100%|█████████████████████████████████████████████████████████████████████████████████████████████████████████| 40/40 [00:02<00:00, 15.60it/s]\n"
     ]
    },
    {
     "name": "stdout",
     "output_type": "stream",
     "text": [
      "Epoch 57/100, Loss: 0.0017570451187241209, Val_Recall: 98.01815189501676%\n"
     ]
    },
    {
     "name": "stderr",
     "output_type": "stream",
     "text": [
      "100%|███████████████████████████████████████████████████████████████████████████████████████████████████████| 287/287 [00:51<00:00,  5.62it/s]\n",
      "100%|█████████████████████████████████████████████████████████████████████████████████████████████████████████| 40/40 [00:02<00:00, 15.23it/s]\n"
     ]
    },
    {
     "name": "stdout",
     "output_type": "stream",
     "text": [
      "Epoch 58/100, Loss: 0.0020522027046631143, Val_Recall: 98.18488475309374%\n"
     ]
    },
    {
     "name": "stderr",
     "output_type": "stream",
     "text": [
      "100%|███████████████████████████████████████████████████████████████████████████████████████████████████████| 287/287 [00:51<00:00,  5.61it/s]\n",
      "100%|█████████████████████████████████████████████████████████████████████████████████████████████████████████| 40/40 [00:02<00:00, 15.19it/s]\n"
     ]
    },
    {
     "name": "stdout",
     "output_type": "stream",
     "text": [
      "Epoch 59/100, Loss: 0.0021721025710747023, Val_Recall: 97.53205552377725%\n"
     ]
    },
    {
     "name": "stderr",
     "output_type": "stream",
     "text": [
      "100%|███████████████████████████████████████████████████████████████████████████████████████████████████████| 287/287 [00:50<00:00,  5.63it/s]\n",
      "100%|█████████████████████████████████████████████████████████████████████████████████████████████████████████| 40/40 [00:02<00:00, 15.39it/s]\n"
     ]
    },
    {
     "name": "stdout",
     "output_type": "stream",
     "text": [
      "Epoch 60/100, Loss: 0.0020983017696939886, Val_Recall: 98.03036366483752%\n"
     ]
    },
    {
     "name": "stderr",
     "output_type": "stream",
     "text": [
      "100%|███████████████████████████████████████████████████████████████████████████████████████████████████████| 287/287 [00:51<00:00,  5.62it/s]\n",
      "100%|█████████████████████████████████████████████████████████████████████████████████████████████████████████| 40/40 [00:02<00:00, 15.77it/s]\n"
     ]
    },
    {
     "name": "stdout",
     "output_type": "stream",
     "text": [
      "Epoch 61/100, Loss: 0.0017797416181648776, Val_Recall: 98.23663024407159%\n"
     ]
    },
    {
     "name": "stderr",
     "output_type": "stream",
     "text": [
      "100%|███████████████████████████████████████████████████████████████████████████████████████████████████████| 287/287 [00:51<00:00,  5.62it/s]\n",
      "100%|█████████████████████████████████████████████████████████████████████████████████████████████████████████| 40/40 [00:02<00:00, 15.60it/s]\n"
     ]
    },
    {
     "name": "stdout",
     "output_type": "stream",
     "text": [
      "Epoch 62/100, Loss: 0.002350530880867088, Val_Recall: 98.0614279629703%\n"
     ]
    },
    {
     "name": "stderr",
     "output_type": "stream",
     "text": [
      "100%|███████████████████████████████████████████████████████████████████████████████████████████████████████| 287/287 [00:51<00:00,  5.62it/s]\n",
      "100%|█████████████████████████████████████████████████████████████████████████████████████████████████████████| 40/40 [00:02<00:00, 15.40it/s]\n"
     ]
    },
    {
     "name": "stdout",
     "output_type": "stream",
     "text": [
      "Epoch 63/100, Loss: 0.0020656182539813355, Val_Recall: 98.0614279629703%\n"
     ]
    },
    {
     "name": "stderr",
     "output_type": "stream",
     "text": [
      "100%|███████████████████████████████████████████████████████████████████████████████████████████████████████| 287/287 [00:51<00:00,  5.62it/s]\n",
      "100%|█████████████████████████████████████████████████████████████████████████████████████████████████████████| 40/40 [00:02<00:00, 15.44it/s]\n"
     ]
    },
    {
     "name": "stdout",
     "output_type": "stream",
     "text": [
      "Epoch 64/100, Loss: 0.0023016624358869393, Val_Recall: 98.05475963243721%\n"
     ]
    },
    {
     "name": "stderr",
     "output_type": "stream",
     "text": [
      "100%|███████████████████████████████████████████████████████████████████████████████████████████████████████| 287/287 [00:51<00:00,  5.62it/s]\n",
      "100%|█████████████████████████████████████████████████████████████████████████████████████████████████████████| 40/40 [00:02<00:00, 15.72it/s]\n"
     ]
    },
    {
     "name": "stdout",
     "output_type": "stream",
     "text": [
      "Epoch 65/100, Loss: 0.0035022368350592385, Val_Recall: 96.76423892736162%\n"
     ]
    },
    {
     "name": "stderr",
     "output_type": "stream",
     "text": [
      "100%|███████████████████████████████████████████████████████████████████████████████████████████████████████| 287/287 [00:51<00:00,  5.62it/s]\n",
      "100%|█████████████████████████████████████████████████████████████████████████████████████████████████████████| 40/40 [00:02<00:00, 15.16it/s]\n"
     ]
    },
    {
     "name": "stdout",
     "output_type": "stream",
     "text": [
      "Epoch 66/100, Loss: 0.0037670558535314396, Val_Recall: 97.34583844540316%\n"
     ]
    },
    {
     "name": "stderr",
     "output_type": "stream",
     "text": [
      "100%|███████████████████████████████████████████████████████████████████████████████████████████████████████| 287/287 [00:51<00:00,  5.61it/s]\n",
      "100%|█████████████████████████████████████████████████████████████████████████████████████████████████████████| 40/40 [00:02<00:00, 15.37it/s]\n"
     ]
    },
    {
     "name": "stdout",
     "output_type": "stream",
     "text": [
      "Epoch 67/100, Loss: 0.0031545512228401866, Val_Recall: 97.56866326119771%\n"
     ]
    },
    {
     "name": "stderr",
     "output_type": "stream",
     "text": [
      "100%|███████████████████████████████████████████████████████████████████████████████████████████████████████| 287/287 [00:51<00:00,  5.63it/s]\n",
      "100%|█████████████████████████████████████████████████████████████████████████████████████████████████████████| 40/40 [00:02<00:00, 15.27it/s]\n"
     ]
    },
    {
     "name": "stdout",
     "output_type": "stream",
     "text": [
      "Epoch 68/100, Loss: 0.0018791493868185627, Val_Recall: 97.22415949867825%\n"
     ]
    },
    {
     "name": "stderr",
     "output_type": "stream",
     "text": [
      "100%|███████████████████████████████████████████████████████████████████████████████████████████████████████| 287/287 [00:51<00:00,  5.62it/s]\n",
      "100%|█████████████████████████████████████████████████████████████████████████████████████████████████████████| 40/40 [00:02<00:00, 15.70it/s]\n"
     ]
    },
    {
     "name": "stdout",
     "output_type": "stream",
     "text": [
      "Epoch 69/100, Loss: 0.0011325170053901345, Val_Recall: 97.74386554229902%\n"
     ]
    },
    {
     "name": "stderr",
     "output_type": "stream",
     "text": [
      "100%|███████████████████████████████████████████████████████████████████████████████████████████████████████| 287/287 [00:51<00:00,  5.62it/s]\n",
      "100%|█████████████████████████████████████████████████████████████████████████████████████████████████████████| 40/40 [00:02<00:00, 15.45it/s]\n"
     ]
    },
    {
     "name": "stdout",
     "output_type": "stream",
     "text": [
      "Epoch 70/100, Loss: 0.001279959888901294, Val_Recall: 97.73951907555927%\n"
     ]
    },
    {
     "name": "stderr",
     "output_type": "stream",
     "text": [
      "100%|███████████████████████████████████████████████████████████████████████████████████████████████████████| 287/287 [00:51<00:00,  5.63it/s]\n",
      "100%|█████████████████████████████████████████████████████████████████████████████████████████████████████████| 40/40 [00:02<00:00, 15.39it/s]\n"
     ]
    },
    {
     "name": "stdout",
     "output_type": "stream",
     "text": [
      "Epoch 71/100, Loss: 0.0011589318987910262, Val_Recall: 97.73951907555927%\n"
     ]
    },
    {
     "name": "stderr",
     "output_type": "stream",
     "text": [
      "100%|███████████████████████████████████████████████████████████████████████████████████████████████████████| 287/287 [00:51<00:00,  5.61it/s]\n",
      "100%|█████████████████████████████████████████████████████████████████████████████████████████████████████████| 40/40 [00:02<00:00, 15.00it/s]\n"
     ]
    },
    {
     "name": "stdout",
     "output_type": "stream",
     "text": [
      "Epoch 72/100, Loss: 0.0012862573786676706, Val_Recall: 97.41272168993834%\n"
     ]
    },
    {
     "name": "stderr",
     "output_type": "stream",
     "text": [
      "100%|███████████████████████████████████████████████████████████████████████████████████████████████████████| 287/287 [00:51<00:00,  5.57it/s]\n",
      "100%|█████████████████████████████████████████████████████████████████████████████████████████████████████████| 40/40 [00:02<00:00, 15.18it/s]\n"
     ]
    },
    {
     "name": "stdout",
     "output_type": "stream",
     "text": [
      "Epoch 73/100, Loss: 0.0006354301315200858, Val_Recall: 98.40002893688205%\n"
     ]
    },
    {
     "name": "stderr",
     "output_type": "stream",
     "text": [
      "100%|███████████████████████████████████████████████████████████████████████████████████████████████████████| 287/287 [00:51<00:00,  5.61it/s]\n",
      "100%|█████████████████████████████████████████████████████████████████████████████████████████████████████████| 40/40 [00:02<00:00, 15.20it/s]\n"
     ]
    },
    {
     "name": "stdout",
     "output_type": "stream",
     "text": [
      "Epoch 74/100, Loss: 0.0008568802836744757, Val_Recall: 97.57278621748227%\n"
     ]
    },
    {
     "name": "stderr",
     "output_type": "stream",
     "text": [
      "100%|███████████████████████████████████████████████████████████████████████████████████████████████████████| 287/287 [00:50<00:00,  5.64it/s]\n",
      "100%|█████████████████████████████████████████████████████████████████████████████████████████████████████████| 40/40 [00:02<00:00, 15.49it/s]\n"
     ]
    },
    {
     "name": "stdout",
     "output_type": "stream",
     "text": [
      "Epoch 75/100, Loss: 0.0010762686521595423, Val_Recall: 97.92240198866686%\n"
     ]
    },
    {
     "name": "stderr",
     "output_type": "stream",
     "text": [
      "100%|███████████████████████████████████████████████████████████████████████████████████████████████████████| 287/287 [00:51<00:00,  5.61it/s]\n",
      "100%|█████████████████████████████████████████████████████████████████████████████████████████████████████████| 40/40 [00:02<00:00, 15.75it/s]\n"
     ]
    },
    {
     "name": "stdout",
     "output_type": "stream",
     "text": [
      "Epoch 76/100, Loss: 0.0015532354436768928, Val_Recall: 98.40002893688205%\n"
     ]
    },
    {
     "name": "stderr",
     "output_type": "stream",
     "text": [
      "100%|███████████████████████████████████████████████████████████████████████████████████████████████████████| 287/287 [00:50<00:00,  5.63it/s]\n",
      "100%|█████████████████████████████████████████████████████████████████████████████████████████████████████████| 40/40 [00:02<00:00, 15.13it/s]\n"
     ]
    },
    {
     "name": "stdout",
     "output_type": "stream",
     "text": [
      "Epoch 77/100, Loss: 0.0014084463999331051, Val_Recall: 97.74719970756557%\n"
     ]
    },
    {
     "name": "stderr",
     "output_type": "stream",
     "text": [
      "100%|███████████████████████████████████████████████████████████████████████████████████████████████████████| 287/287 [00:51<00:00,  5.61it/s]\n",
      "100%|█████████████████████████████████████████████████████████████████████████████████████████████████████████| 40/40 [00:02<00:00, 15.14it/s]\n"
     ]
    },
    {
     "name": "stdout",
     "output_type": "stream",
     "text": [
      "Epoch 78/100, Loss: 0.0011964699508505434, Val_Recall: 97.58380101475511%\n"
     ]
    },
    {
     "name": "stderr",
     "output_type": "stream",
     "text": [
      "100%|███████████████████████████████████████████████████████████████████████████████████████████████████████| 287/287 [00:51<00:00,  5.62it/s]\n",
      "100%|█████████████████████████████████████████████████████████████████████████████████████████████████████████| 40/40 [00:02<00:00, 15.15it/s]\n"
     ]
    },
    {
     "name": "stdout",
     "output_type": "stream",
     "text": [
      "Epoch 79/100, Loss: 0.0012968689976467595, Val_Recall: 98.63890452472724%\n",
      "Early stopping\n",
      "Loaded pretrained weights for efficientnet-b0\n"
     ]
    },
    {
     "name": "stderr",
     "output_type": "stream",
     "text": [
      "100%|███████████████████████████████████████████████████████████████████████████████████████████████████████| 287/287 [00:51<00:00,  5.62it/s]\n",
      "100%|█████████████████████████████████████████████████████████████████████████████████████████████████████████| 40/40 [00:02<00:00, 15.56it/s]\n"
     ]
    },
    {
     "name": "stdout",
     "output_type": "stream",
     "text": [
      "Epoch 1/100, Loss: 0.05812487034127116, Val_Recall: 60.4857772766303%\n",
      "Model saved based on lowest validation loss.\n"
     ]
    },
    {
     "name": "stderr",
     "output_type": "stream",
     "text": [
      "100%|███████████████████████████████████████████████████████████████████████████████████████████████████████| 287/287 [00:51<00:00,  5.62it/s]\n",
      "100%|█████████████████████████████████████████████████████████████████████████████████████████████████████████| 40/40 [00:02<00:00, 15.38it/s]\n"
     ]
    },
    {
     "name": "stdout",
     "output_type": "stream",
     "text": [
      "Epoch 2/100, Loss: 0.030540316179394723, Val_Recall: 69.9310925523435%\n",
      "Model saved based on lowest validation loss.\n"
     ]
    },
    {
     "name": "stderr",
     "output_type": "stream",
     "text": [
      "100%|███████████████████████████████████████████████████████████████████████████████████████████████████████| 287/287 [00:51<00:00,  5.62it/s]\n",
      "100%|█████████████████████████████████████████████████████████████████████████████████████████████████████████| 40/40 [00:02<00:00, 15.19it/s]\n"
     ]
    },
    {
     "name": "stdout",
     "output_type": "stream",
     "text": [
      "Epoch 3/100, Loss: 0.02179927175748162, Val_Recall: 77.24014057439219%\n",
      "Model saved based on lowest validation loss.\n"
     ]
    },
    {
     "name": "stderr",
     "output_type": "stream",
     "text": [
      "100%|███████████████████████████████████████████████████████████████████████████████████████████████████████| 287/287 [00:51<00:00,  5.62it/s]\n",
      "100%|█████████████████████████████████████████████████████████████████████████████████████████████████████████| 40/40 [00:02<00:00, 15.26it/s]\n"
     ]
    },
    {
     "name": "stdout",
     "output_type": "stream",
     "text": [
      "Epoch 4/100, Loss: 0.017810030883993022, Val_Recall: 79.5662825328029%\n",
      "Model saved based on lowest validation loss.\n"
     ]
    },
    {
     "name": "stderr",
     "output_type": "stream",
     "text": [
      "100%|███████████████████████████████████████████████████████████████████████████████████████████████████████| 287/287 [00:51<00:00,  5.62it/s]\n",
      "100%|█████████████████████████████████████████████████████████████████████████████████████████████████████████| 40/40 [00:02<00:00, 15.45it/s]\n"
     ]
    },
    {
     "name": "stdout",
     "output_type": "stream",
     "text": [
      "Epoch 5/100, Loss: 0.015151000479818322, Val_Recall: 80.9719792286371%\n",
      "Model saved based on lowest validation loss.\n"
     ]
    },
    {
     "name": "stderr",
     "output_type": "stream",
     "text": [
      "100%|███████████████████████████████████████████████████████████████████████████████████████████████████████| 287/287 [00:51<00:00,  5.61it/s]\n",
      "100%|█████████████████████████████████████████████████████████████████████████████████████████████████████████| 40/40 [00:02<00:00, 15.14it/s]\n"
     ]
    },
    {
     "name": "stdout",
     "output_type": "stream",
     "text": [
      "Epoch 6/100, Loss: 0.012692785498074954, Val_Recall: 81.41688624755804%\n",
      "Model saved based on lowest validation loss.\n"
     ]
    },
    {
     "name": "stderr",
     "output_type": "stream",
     "text": [
      "100%|███████████████████████████████████████████████████████████████████████████████████████████████████████| 287/287 [00:51<00:00,  5.62it/s]\n",
      "100%|█████████████████████████████████████████████████████████████████████████████████████████████████████████| 40/40 [00:02<00:00, 15.61it/s]\n"
     ]
    },
    {
     "name": "stdout",
     "output_type": "stream",
     "text": [
      "Epoch 7/100, Loss: 0.01001044080767315, Val_Recall: 83.54521744839579%\n",
      "Model saved based on lowest validation loss.\n"
     ]
    },
    {
     "name": "stderr",
     "output_type": "stream",
     "text": [
      "100%|███████████████████████████████████████████████████████████████████████████████████████████████████████| 287/287 [00:51<00:00,  5.62it/s]\n",
      "100%|█████████████████████████████████████████████████████████████████████████████████████████████████████████| 40/40 [00:02<00:00, 15.09it/s]\n"
     ]
    },
    {
     "name": "stdout",
     "output_type": "stream",
     "text": [
      "Epoch 8/100, Loss: 0.007332310196943581, Val_Recall: 86.61030737774735%\n",
      "Model saved based on lowest validation loss.\n"
     ]
    },
    {
     "name": "stderr",
     "output_type": "stream",
     "text": [
      "100%|███████████████████████████████████████████████████████████████████████████████████████████████████████| 287/287 [00:51<00:00,  5.61it/s]\n",
      "100%|█████████████████████████████████████████████████████████████████████████████████████████████████████████| 40/40 [00:02<00:00, 15.54it/s]\n"
     ]
    },
    {
     "name": "stdout",
     "output_type": "stream",
     "text": [
      "Epoch 9/100, Loss: 0.005184314893267583, Val_Recall: 89.06489393273588%\n",
      "Model saved based on lowest validation loss.\n"
     ]
    },
    {
     "name": "stderr",
     "output_type": "stream",
     "text": [
      "100%|███████████████████████████████████████████████████████████████████████████████████████████████████████| 287/287 [00:51<00:00,  5.62it/s]\n",
      "100%|█████████████████████████████████████████████████████████████████████████████████████████████████████████| 40/40 [00:02<00:00, 15.29it/s]\n"
     ]
    },
    {
     "name": "stdout",
     "output_type": "stream",
     "text": [
      "Epoch 10/100, Loss: 0.003912659727211576, Val_Recall: 92.46036217252275%\n",
      "Model saved based on lowest validation loss.\n"
     ]
    },
    {
     "name": "stderr",
     "output_type": "stream",
     "text": [
      "100%|███████████████████████████████████████████████████████████████████████████████████████████████████████| 287/287 [00:51<00:00,  5.62it/s]\n",
      "100%|█████████████████████████████████████████████████████████████████████████████████████████████████████████| 40/40 [00:02<00:00, 15.66it/s]\n"
     ]
    },
    {
     "name": "stdout",
     "output_type": "stream",
     "text": [
      "Epoch 11/100, Loss: 0.0031832355144615575, Val_Recall: 94.41884986047219%\n",
      "Model saved based on lowest validation loss.\n"
     ]
    },
    {
     "name": "stderr",
     "output_type": "stream",
     "text": [
      "100%|███████████████████████████████████████████████████████████████████████████████████████████████████████| 287/287 [00:51<00:00,  5.62it/s]\n",
      "100%|█████████████████████████████████████████████████████████████████████████████████████████████████████████| 40/40 [00:02<00:00, 15.25it/s]\n"
     ]
    },
    {
     "name": "stdout",
     "output_type": "stream",
     "text": [
      "Epoch 12/100, Loss: 0.0027256358225713484, Val_Recall: 95.87175695688502%\n",
      "Model saved based on lowest validation loss.\n"
     ]
    },
    {
     "name": "stderr",
     "output_type": "stream",
     "text": [
      "100%|███████████████████████████████████████████████████████████████████████████████████████████████████████| 287/287 [00:51<00:00,  5.61it/s]\n",
      "100%|█████████████████████████████████████████████████████████████████████████████████████████████████████████| 40/40 [00:02<00:00, 15.54it/s]\n"
     ]
    },
    {
     "name": "stdout",
     "output_type": "stream",
     "text": [
      "Epoch 13/100, Loss: 0.002363541332579189, Val_Recall: 96.03515564969548%\n",
      "Model saved based on lowest validation loss.\n"
     ]
    },
    {
     "name": "stderr",
     "output_type": "stream",
     "text": [
      "100%|███████████████████████████████████████████████████████████████████████████████████████████████████████| 287/287 [00:51<00:00,  5.61it/s]\n",
      "100%|█████████████████████████████████████████████████████████████████████████████████████████████████████████| 40/40 [00:02<00:00, 15.76it/s]\n"
     ]
    },
    {
     "name": "stdout",
     "output_type": "stream",
     "text": [
      "Epoch 14/100, Loss: 0.0020229219814609676, Val_Recall: 96.67618129072112%\n",
      "Model saved based on lowest validation loss.\n"
     ]
    },
    {
     "name": "stderr",
     "output_type": "stream",
     "text": [
      "100%|███████████████████████████████████████████████████████████████████████████████████████████████████████| 287/287 [00:51<00:00,  5.61it/s]\n",
      "100%|█████████████████████████████████████████████████████████████████████████████████████████████████████████| 40/40 [00:02<00:00, 15.34it/s]\n"
     ]
    },
    {
     "name": "stdout",
     "output_type": "stream",
     "text": [
      "Epoch 15/100, Loss: 0.0017006981393024034, Val_Recall: 97.95077545122132%\n",
      "Model saved based on lowest validation loss.\n"
     ]
    },
    {
     "name": "stderr",
     "output_type": "stream",
     "text": [
      "100%|███████████████████████████████████████████████████████████████████████████████████████████████████████| 287/287 [00:51<00:00,  5.62it/s]\n",
      "100%|█████████████████████████████████████████████████████████████████████████████████████████████████████████| 40/40 [00:02<00:00, 15.11it/s]\n"
     ]
    },
    {
     "name": "stdout",
     "output_type": "stream",
     "text": [
      "Epoch 16/100, Loss: 0.0016393908342479334, Val_Recall: 97.9582325727724%\n",
      "Model saved based on lowest validation loss.\n"
     ]
    },
    {
     "name": "stderr",
     "output_type": "stream",
     "text": [
      "100%|███████████████████████████████████████████████████████████████████████████████████████████████████████| 287/287 [00:51<00:00,  5.61it/s]\n",
      "100%|█████████████████████████████████████████████████████████████████████████████████████████████████████████| 40/40 [00:02<00:00, 15.20it/s]\n"
     ]
    },
    {
     "name": "stdout",
     "output_type": "stream",
     "text": [
      "Epoch 17/100, Loss: 0.0014646238973455184, Val_Recall: 98.45099727454496%\n",
      "Model saved based on lowest validation loss.\n"
     ]
    },
    {
     "name": "stderr",
     "output_type": "stream",
     "text": [
      "100%|███████████████████████████████████████████████████████████████████████████████████████████████████████| 287/287 [00:51<00:00,  5.63it/s]\n",
      "100%|█████████████████████████████████████████████████████████████████████████████████████████████████████████| 40/40 [00:02<00:00, 15.57it/s]\n"
     ]
    },
    {
     "name": "stdout",
     "output_type": "stream",
     "text": [
      "Epoch 18/100, Loss: 0.0014456587872473392, Val_Recall: 97.50320049966567%\n",
      "Model saved based on lowest validation loss.\n"
     ]
    },
    {
     "name": "stderr",
     "output_type": "stream",
     "text": [
      "100%|███████████████████████████████████████████████████████████████████████████████████████████████████████| 287/287 [00:50<00:00,  5.63it/s]\n",
      "100%|█████████████████████████████████████████████████████████████████████████████████████████████████████████| 40/40 [00:02<00:00, 15.66it/s]\n"
     ]
    },
    {
     "name": "stdout",
     "output_type": "stream",
     "text": [
      "Epoch 19/100, Loss: 0.001309253637373331, Val_Recall: 98.77779466016588%\n",
      "Model saved based on lowest validation loss.\n"
     ]
    },
    {
     "name": "stderr",
     "output_type": "stream",
     "text": [
      "100%|███████████████████████████████████████████████████████████████████████████████████████████████████████| 287/287 [00:51<00:00,  5.62it/s]\n",
      "100%|█████████████████████████████████████████████████████████████████████████████████████████████████████████| 40/40 [00:02<00:00, 15.32it/s]\n"
     ]
    },
    {
     "name": "stdout",
     "output_type": "stream",
     "text": [
      "Epoch 20/100, Loss: 0.0012669771611626857, Val_Recall: 98.61439596735542%\n",
      "Model saved based on lowest validation loss.\n"
     ]
    },
    {
     "name": "stderr",
     "output_type": "stream",
     "text": [
      "100%|███████████████████████████████████████████████████████████████████████████████████████████████████████| 287/287 [00:51<00:00,  5.62it/s]\n",
      "100%|█████████████████████████████████████████████████████████████████████████████████████████████████████████| 40/40 [00:02<00:00, 15.47it/s]\n"
     ]
    },
    {
     "name": "stdout",
     "output_type": "stream",
     "text": [
      "Epoch 21/100, Loss: 0.001313882198508054, Val_Recall: 97.98082744788084%\n"
     ]
    },
    {
     "name": "stderr",
     "output_type": "stream",
     "text": [
      "100%|███████████████████████████████████████████████████████████████████████████████████████████████████████| 287/287 [00:50<00:00,  5.64it/s]\n",
      "100%|█████████████████████████████████████████████████████████████████████████████████████████████████████████| 40/40 [00:02<00:00, 15.22it/s]\n"
     ]
    },
    {
     "name": "stdout",
     "output_type": "stream",
     "text": [
      "Epoch 22/100, Loss: 0.0012634568135581504, Val_Recall: 97.98082744788084%\n",
      "Model saved based on lowest validation loss.\n"
     ]
    },
    {
     "name": "stderr",
     "output_type": "stream",
     "text": [
      "100%|███████████████████████████████████████████████████████████████████████████████████████████████████████| 287/287 [00:51<00:00,  5.61it/s]\n",
      "100%|█████████████████████████████████████████████████████████████████████████████████████████████████████████| 40/40 [00:02<00:00, 15.63it/s]\n"
     ]
    },
    {
     "name": "stdout",
     "output_type": "stream",
     "text": [
      "Epoch 23/100, Loss: 0.0012013364897711654, Val_Recall: 98.1442261406913%\n",
      "Model saved based on lowest validation loss.\n"
     ]
    },
    {
     "name": "stderr",
     "output_type": "stream",
     "text": [
      "100%|███████████████████████████████████████████████████████████████████████████████████████████████████████| 287/287 [00:51<00:00,  5.62it/s]\n",
      "100%|█████████████████████████████████████████████████████████████████████████████████████████████████████████| 40/40 [00:02<00:00, 15.51it/s]\n"
     ]
    },
    {
     "name": "stdout",
     "output_type": "stream",
     "text": [
      "Epoch 24/100, Loss: 0.0011238829230990177, Val_Recall: 98.78959824845671%\n",
      "Model saved based on lowest validation loss.\n"
     ]
    },
    {
     "name": "stderr",
     "output_type": "stream",
     "text": [
      "100%|███████████████████████████████████████████████████████████████████████████████████████████████████████| 287/287 [00:51<00:00,  5.61it/s]\n",
      "100%|█████████████████████████████████████████████████████████████████████████████████████████████████████████| 40/40 [00:02<00:00, 14.87it/s]\n"
     ]
    },
    {
     "name": "stdout",
     "output_type": "stream",
     "text": [
      "Epoch 25/100, Loss: 0.001101515941377329, Val_Recall: 98.61439596735542%\n",
      "Model saved based on lowest validation loss.\n"
     ]
    },
    {
     "name": "stderr",
     "output_type": "stream",
     "text": [
      "100%|███████████████████████████████████████████████████████████████████████████████████████████████████████| 287/287 [00:51<00:00,  5.62it/s]\n",
      "100%|█████████████████████████████████████████████████████████████████████████████████████████████████████████| 40/40 [00:02<00:00, 15.26it/s]\n"
     ]
    },
    {
     "name": "stdout",
     "output_type": "stream",
     "text": [
      "Epoch 26/100, Loss: 0.0012506231568295335, Val_Recall: 98.01189174601362%\n"
     ]
    },
    {
     "name": "stderr",
     "output_type": "stream",
     "text": [
      "100%|███████████████████████████████████████████████████████████████████████████████████████████████████████| 287/287 [00:51<00:00,  5.61it/s]\n",
      "100%|█████████████████████████████████████████████████████████████████████████████████████████████████████████| 40/40 [00:02<00:00, 15.26it/s]\n"
     ]
    },
    {
     "name": "stdout",
     "output_type": "stream",
     "text": [
      "Epoch 27/100, Loss: 0.0010645961778266155, Val_Recall: 97.98828456943194%\n",
      "Model saved based on lowest validation loss.\n"
     ]
    },
    {
     "name": "stderr",
     "output_type": "stream",
     "text": [
      "100%|███████████████████████████████████████████████████████████████████████████████████████████████████████| 287/287 [00:51<00:00,  5.62it/s]\n",
      "100%|█████████████████████████████████████████████████████████████████████████████████████████████████████████| 40/40 [00:02<00:00, 15.47it/s]\n"
     ]
    },
    {
     "name": "stdout",
     "output_type": "stream",
     "text": [
      "Epoch 28/100, Loss: 0.0010977440495821612, Val_Recall: 98.14857260743108%\n"
     ]
    },
    {
     "name": "stderr",
     "output_type": "stream",
     "text": [
      "100%|███████████████████████████████████████████████████████████████████████████████████████████████████████| 287/287 [00:51<00:00,  5.62it/s]\n",
      "100%|█████████████████████████████████████████████████████████████████████████████████████████████████████████| 40/40 [00:02<00:00, 15.19it/s]\n"
     ]
    },
    {
     "name": "stdout",
     "output_type": "stream",
     "text": [
      "Epoch 29/100, Loss: 0.0010931631144217135, Val_Recall: 97.98082744788084%\n"
     ]
    },
    {
     "name": "stderr",
     "output_type": "stream",
     "text": [
      "100%|███████████████████████████████████████████████████████████████████████████████████████████████████████| 287/287 [00:51<00:00,  5.62it/s]\n",
      "100%|█████████████████████████████████████████████████████████████████████████████████████████████████████████| 40/40 [00:02<00:00, 15.51it/s]\n"
     ]
    },
    {
     "name": "stdout",
     "output_type": "stream",
     "text": [
      "Epoch 30/100, Loss: 0.0011472173268998632, Val_Recall: 97.9926310361717%\n"
     ]
    },
    {
     "name": "stderr",
     "output_type": "stream",
     "text": [
      "100%|███████████████████████████████████████████████████████████████████████████████████████████████████████| 287/287 [00:51<00:00,  5.62it/s]\n",
      "100%|█████████████████████████████████████████████████████████████████████████████████████████████████████████| 40/40 [00:02<00:00, 15.12it/s]\n"
     ]
    },
    {
     "name": "stdout",
     "output_type": "stream",
     "text": [
      "Epoch 31/100, Loss: 0.001048791526579862, Val_Recall: 97.9926310361717%\n",
      "Model saved based on lowest validation loss.\n"
     ]
    },
    {
     "name": "stderr",
     "output_type": "stream",
     "text": [
      "100%|███████████████████████████████████████████████████████████████████████████████████████████████████████| 287/287 [00:51<00:00,  5.60it/s]\n",
      "100%|█████████████████████████████████████████████████████████████████████████████████████████████████████████| 40/40 [00:02<00:00, 15.12it/s]\n"
     ]
    },
    {
     "name": "stdout",
     "output_type": "stream",
     "text": [
      "Epoch 32/100, Loss: 0.0010098912495891455, Val_Recall: 98.64133730920362%\n",
      "Model saved based on lowest validation loss.\n"
     ]
    },
    {
     "name": "stderr",
     "output_type": "stream",
     "text": [
      "100%|███████████████████████████████████████████████████████████████████████████████████████████████████████| 287/287 [00:51<00:00,  5.62it/s]\n",
      "100%|█████████████████████████████████████████████████████████████████████████████████████████████████████████| 40/40 [00:02<00:00, 15.13it/s]\n"
     ]
    },
    {
     "name": "stdout",
     "output_type": "stream",
     "text": [
      "Epoch 33/100, Loss: 0.0008918522119415684, Val_Recall: 99.28213943977406%\n",
      "Model saved based on lowest validation loss.\n"
     ]
    },
    {
     "name": "stderr",
     "output_type": "stream",
     "text": [
      "100%|███████████████████████████████████████████████████████████████████████████████████████████████████████| 287/287 [00:51<00:00,  5.62it/s]\n",
      "100%|█████████████████████████████████████████████████████████████████████████████████████████████████████████| 40/40 [00:02<00:00, 15.10it/s]\n"
     ]
    },
    {
     "name": "stdout",
     "output_type": "stream",
     "text": [
      "Epoch 34/100, Loss: 0.0009470904055959295, Val_Recall: 98.64879443075472%\n"
     ]
    },
    {
     "name": "stderr",
     "output_type": "stream",
     "text": [
      "100%|███████████████████████████████████████████████████████████████████████████████████████████████████████| 287/287 [00:51<00:00,  5.62it/s]\n",
      "100%|█████████████████████████████████████████████████████████████████████████████████████████████████████████| 40/40 [00:02<00:00, 15.38it/s]\n"
     ]
    },
    {
     "name": "stdout",
     "output_type": "stream",
     "text": [
      "Epoch 35/100, Loss: 0.0009707420471556816, Val_Recall: 98.00878109120231%\n"
     ]
    },
    {
     "name": "stderr",
     "output_type": "stream",
     "text": [
      "100%|███████████████████████████████████████████████████████████████████████████████████████████████████████| 287/287 [00:51<00:00,  5.61it/s]\n",
      "100%|█████████████████████████████████████████████████████████████████████████████████████████████████████████| 40/40 [00:02<00:00, 15.32it/s]\n"
     ]
    },
    {
     "name": "stdout",
     "output_type": "stream",
     "text": [
      "Epoch 36/100, Loss: 0.0008966812189669327, Val_Recall: 98.64111379874842%\n"
     ]
    },
    {
     "name": "stderr",
     "output_type": "stream",
     "text": [
      "100%|███████████████████████████████████████████████████████████████████████████████████████████████████████| 287/287 [00:51<00:00,  5.61it/s]\n",
      "100%|█████████████████████████████████████████████████████████████████████████████████████████████████████████| 40/40 [00:02<00:00, 15.46it/s]\n"
     ]
    },
    {
     "name": "stdout",
     "output_type": "stream",
     "text": [
      "Epoch 37/100, Loss: 0.0009046793591522828, Val_Recall: 98.63365667719734%\n"
     ]
    },
    {
     "name": "stderr",
     "output_type": "stream",
     "text": [
      "100%|███████████████████████████████████████████████████████████████████████████████████████████████████████| 287/287 [00:50<00:00,  5.63it/s]\n",
      "100%|█████████████████████████████████████████████████████████████████████████████████████████████████████████| 40/40 [00:02<00:00, 15.46it/s]\n"
     ]
    },
    {
     "name": "stdout",
     "output_type": "stream",
     "text": [
      "Epoch 38/100, Loss: 0.0009579298021463956, Val_Recall: 98.01934886756469%\n"
     ]
    },
    {
     "name": "stderr",
     "output_type": "stream",
     "text": [
      "100%|███████████████████████████████████████████████████████████████████████████████████████████████████████| 287/287 [00:51<00:00,  5.62it/s]\n",
      "100%|█████████████████████████████████████████████████████████████████████████████████████████████████████████| 40/40 [00:02<00:00, 14.97it/s]\n"
     ]
    },
    {
     "name": "stdout",
     "output_type": "stream",
     "text": [
      "Epoch 39/100, Loss: 0.0009561426255231709, Val_Recall: 98.01189174601362%\n"
     ]
    },
    {
     "name": "stderr",
     "output_type": "stream",
     "text": [
      "100%|███████████████████████████████████████████████████████████████████████████████████████████████████████| 287/287 [00:51<00:00,  5.60it/s]\n",
      "100%|█████████████████████████████████████████████████████████████████████████████████████████████████████████| 40/40 [00:02<00:00, 15.40it/s]\n"
     ]
    },
    {
     "name": "stdout",
     "output_type": "stream",
     "text": [
      "Epoch 40/100, Loss: 0.0009781744550316773, Val_Recall: 99.30140014961597%\n"
     ]
    },
    {
     "name": "stderr",
     "output_type": "stream",
     "text": [
      "100%|███████████████████████████████████████████████████████████████████████████████████████████████████████| 287/287 [00:51<00:00,  5.62it/s]\n",
      "100%|█████████████████████████████████████████████████████████████████████████████████████████████████████████| 40/40 [00:02<00:00, 15.17it/s]\n"
     ]
    },
    {
     "name": "stdout",
     "output_type": "stream",
     "text": [
      "Epoch 41/100, Loss: 0.0010203036387991915, Val_Recall: 98.01189174601362%\n"
     ]
    },
    {
     "name": "stderr",
     "output_type": "stream",
     "text": [
      "100%|███████████████████████████████████████████████████████████████████████████████████████████████████████| 287/287 [00:51<00:00,  5.62it/s]\n",
      "100%|█████████████████████████████████████████████████████████████████████████████████████████████████████████| 40/40 [00:02<00:00, 15.29it/s]\n"
     ]
    },
    {
     "name": "stdout",
     "output_type": "stream",
     "text": [
      "Epoch 42/100, Loss: 0.0009279217886088986, Val_Recall: 99.2939430280649%\n"
     ]
    },
    {
     "name": "stderr",
     "output_type": "stream",
     "text": [
      "100%|███████████████████████████████████████████████████████████████████████████████████████████████████████| 287/287 [00:51<00:00,  5.62it/s]\n",
      "100%|█████████████████████████████████████████████████████████████████████████████████████████████████████████| 40/40 [00:02<00:00, 15.20it/s]\n"
     ]
    },
    {
     "name": "stdout",
     "output_type": "stream",
     "text": [
      "Epoch 43/100, Loss: 0.0009391294373017444, Val_Recall: 98.65291738703927%\n"
     ]
    },
    {
     "name": "stderr",
     "output_type": "stream",
     "text": [
      "100%|███████████████████████████████████████████████████████████████████████████████████████████████████████| 287/287 [00:51<00:00,  5.62it/s]\n",
      "100%|█████████████████████████████████████████████████████████████████████████████████████████████████████████| 40/40 [00:02<00:00, 15.16it/s]\n"
     ]
    },
    {
     "name": "stdout",
     "output_type": "stream",
     "text": [
      "Epoch 44/100, Loss: 0.0009585009274871936, Val_Recall: 98.6380031439371%\n"
     ]
    },
    {
     "name": "stderr",
     "output_type": "stream",
     "text": [
      "100%|███████████████████████████████████████████████████████████████████████████████████████████████████████| 287/287 [00:51<00:00,  5.62it/s]\n",
      "100%|█████████████████████████████████████████████████████████████████████████████████████████████████████████| 40/40 [00:02<00:00, 15.28it/s]\n"
     ]
    },
    {
     "name": "stdout",
     "output_type": "stream",
     "text": [
      "Epoch 45/100, Loss: 0.0010879670020813137, Val_Recall: 98.01189174601362%\n"
     ]
    },
    {
     "name": "stderr",
     "output_type": "stream",
     "text": [
      "100%|███████████████████████████████████████████████████████████████████████████████████████████████████████| 287/287 [00:51<00:00,  5.63it/s]\n",
      "100%|█████████████████████████████████████████████████████████████████████████████████████████████████████████| 40/40 [00:02<00:00, 15.62it/s]\n"
     ]
    },
    {
     "name": "stdout",
     "output_type": "stream",
     "text": [
      "Epoch 46/100, Loss: 0.0010898697917266277, Val_Recall: 98.81631607984971%\n"
     ]
    },
    {
     "name": "stderr",
     "output_type": "stream",
     "text": [
      "100%|███████████████████████████████████████████████████████████████████████████████████████████████████████| 287/287 [00:51<00:00,  5.62it/s]\n",
      "100%|█████████████████████████████████████████████████████████████████████████████████████████████████████████| 40/40 [00:02<00:00, 15.18it/s]\n"
     ]
    },
    {
     "name": "stdout",
     "output_type": "stream",
     "text": [
      "Epoch 47/100, Loss: 0.0009615741441017178, Val_Recall: 98.66805514059664%\n"
     ]
    },
    {
     "name": "stderr",
     "output_type": "stream",
     "text": [
      "100%|███████████████████████████████████████████████████████████████████████████████████████████████████████| 287/287 [00:51<00:00,  5.62it/s]\n",
      "100%|█████████████████████████████████████████████████████████████████████████████████████████████████████████| 40/40 [00:02<00:00, 15.22it/s]\n"
     ]
    },
    {
     "name": "stdout",
     "output_type": "stream",
     "text": [
      "Epoch 48/100, Loss: 0.0010379550539845184, Val_Recall: 98.01189174601362%\n"
     ]
    },
    {
     "name": "stderr",
     "output_type": "stream",
     "text": [
      "100%|███████████████████████████████████████████████████████████████████████████████████████████████████████| 287/287 [00:51<00:00,  5.61it/s]\n",
      "100%|█████████████████████████████████████████████████████████████████████████████████████████████████████████| 40/40 [00:02<00:00, 15.67it/s]\n"
     ]
    },
    {
     "name": "stdout",
     "output_type": "stream",
     "text": [
      "Epoch 49/100, Loss: 0.0010468998512592974, Val_Recall: 98.02369533430446%\n"
     ]
    },
    {
     "name": "stderr",
     "output_type": "stream",
     "text": [
      "100%|███████████████████████████████████████████████████████████████████████████████████████████████████████| 287/287 [00:51<00:00,  5.62it/s]\n",
      "100%|█████████████████████████████████████████████████████████████████████████████████████████████████████████| 40/40 [00:02<00:00, 15.20it/s]\n"
     ]
    },
    {
     "name": "stdout",
     "output_type": "stream",
     "text": [
      "Epoch 50/100, Loss: 0.0009433177358872058, Val_Recall: 98.01189174601362%\n"
     ]
    },
    {
     "name": "stderr",
     "output_type": "stream",
     "text": [
      "100%|███████████████████████████████████████████████████████████████████████████████████████████████████████| 287/287 [00:51<00:00,  5.62it/s]\n",
      "100%|█████████████████████████████████████████████████████████████████████████████████████████████████████████| 40/40 [00:02<00:00, 15.18it/s]\n"
     ]
    },
    {
     "name": "stdout",
     "output_type": "stream",
     "text": [
      "Epoch 51/100, Loss: 0.0009063130711837175, Val_Recall: 98.00443462446253%\n"
     ]
    },
    {
     "name": "stderr",
     "output_type": "stream",
     "text": [
      "100%|███████████████████████████████████████████████████████████████████████████████████████████████████████| 287/287 [00:51<00:00,  5.61it/s]\n",
      "100%|█████████████████████████████████████████████████████████████████████████████████████████████████████████| 40/40 [00:02<00:00, 15.10it/s]\n"
     ]
    },
    {
     "name": "stdout",
     "output_type": "stream",
     "text": [
      "Epoch 52/100, Loss: 0.0009794742332196904, Val_Recall: 98.17529043882408%\n"
     ]
    },
    {
     "name": "stderr",
     "output_type": "stream",
     "text": [
      "100%|███████████████████████████████████████████████████████████████████████████████████████████████████████| 287/287 [00:51<00:00,  5.61it/s]\n",
      "100%|█████████████████████████████████████████████████████████████████████████████████████████████████████████| 40/40 [00:02<00:00, 15.18it/s]\n"
     ]
    },
    {
     "name": "stdout",
     "output_type": "stream",
     "text": [
      "Epoch 53/100, Loss: 0.0010874259980919732, Val_Recall: 98.01189174601362%\n"
     ]
    },
    {
     "name": "stderr",
     "output_type": "stream",
     "text": [
      "100%|███████████████████████████████████████████████████████████████████████████████████████████████████████| 287/287 [00:51<00:00,  5.61it/s]\n",
      "100%|█████████████████████████████████████████████████████████████████████████████████████████████████████████| 40/40 [00:02<00:00, 15.57it/s]\n"
     ]
    },
    {
     "name": "stdout",
     "output_type": "stream",
     "text": [
      "Epoch 54/100, Loss: 0.0009719087701199669, Val_Recall: 98.02369533430446%\n"
     ]
    },
    {
     "name": "stderr",
     "output_type": "stream",
     "text": [
      "100%|███████████████████████████████████████████████████████████████████████████████████████████████████████| 287/287 [00:50<00:00,  5.63it/s]\n",
      "100%|█████████████████████████████████████████████████████████████████████████████████████████████████████████| 40/40 [00:02<00:00, 15.17it/s]\n"
     ]
    },
    {
     "name": "stdout",
     "output_type": "stream",
     "text": [
      "Epoch 55/100, Loss: 0.0009381993183879445, Val_Recall: 98.02391884475968%\n"
     ]
    },
    {
     "name": "stderr",
     "output_type": "stream",
     "text": [
      "100%|███████████████████████████████████████████████████████████████████████████████████████████████████████| 287/287 [00:51<00:00,  5.62it/s]\n",
      "100%|█████████████████████████████████████████████████████████████████████████████████████████████████████████| 40/40 [00:02<00:00, 15.17it/s]\n"
     ]
    },
    {
     "name": "stdout",
     "output_type": "stream",
     "text": [
      "Epoch 56/100, Loss: 0.0010039625592053625, Val_Recall: 98.03137596631076%\n"
     ]
    },
    {
     "name": "stderr",
     "output_type": "stream",
     "text": [
      "100%|███████████████████████████████████████████████████████████████████████████████████████████████████████| 287/287 [00:51<00:00,  5.61it/s]\n",
      "100%|█████████████████████████████████████████████████████████████████████████████████████████████████████████| 40/40 [00:02<00:00, 15.19it/s]\n"
     ]
    },
    {
     "name": "stdout",
     "output_type": "stream",
     "text": [
      "Epoch 57/100, Loss: 0.000979664769111821, Val_Recall: 98.02369533430446%\n"
     ]
    },
    {
     "name": "stderr",
     "output_type": "stream",
     "text": [
      "100%|███████████████████████████████████████████████████████████████████████████████████████████████████████| 287/287 [00:51<00:00,  5.62it/s]\n",
      "100%|█████████████████████████████████████████████████████████████████████████████████████████████████████████| 40/40 [00:02<00:00, 15.29it/s]\n"
     ]
    },
    {
     "name": "stdout",
     "output_type": "stream",
     "text": [
      "Epoch 58/100, Loss: 0.0011884470324954322, Val_Recall: 98.02369533430446%\n"
     ]
    },
    {
     "name": "stderr",
     "output_type": "stream",
     "text": [
      "100%|███████████████████████████████████████████████████████████████████████████████████████████████████████| 287/287 [00:51<00:00,  5.62it/s]\n",
      "100%|█████████████████████████████████████████████████████████████████████████████████████████████████████████| 40/40 [00:02<00:00, 15.34it/s]\n"
     ]
    },
    {
     "name": "stdout",
     "output_type": "stream",
     "text": [
      "Epoch 59/100, Loss: 0.0010276425802121735, Val_Recall: 98.02369533430446%\n"
     ]
    },
    {
     "name": "stderr",
     "output_type": "stream",
     "text": [
      "100%|███████████████████████████████████████████████████████████████████████████████████████████████████████| 287/287 [00:51<00:00,  5.62it/s]\n",
      "100%|█████████████████████████████████████████████████████████████████████████████████████████████████████████| 40/40 [00:02<00:00, 15.25it/s]\n"
     ]
    },
    {
     "name": "stdout",
     "output_type": "stream",
     "text": [
      "Epoch 60/100, Loss: 0.0010201397911011156, Val_Recall: 98.01623821275336%\n"
     ]
    },
    {
     "name": "stderr",
     "output_type": "stream",
     "text": [
      "100%|███████████████████████████████████████████████████████████████████████████████████████████████████████| 287/287 [00:51<00:00,  5.61it/s]\n",
      "100%|█████████████████████████████████████████████████████████████████████████████████████████████████████████| 40/40 [00:02<00:00, 15.78it/s]\n"
     ]
    },
    {
     "name": "stdout",
     "output_type": "stream",
     "text": [
      "Epoch 61/100, Loss: 0.0010400675715130704, Val_Recall: 98.14715212442793%\n"
     ]
    },
    {
     "name": "stderr",
     "output_type": "stream",
     "text": [
      "100%|███████████████████████████████████████████████████████████████████████████████████████████████████████| 287/287 [00:51<00:00,  5.62it/s]\n",
      "100%|█████████████████████████████████████████████████████████████████████████████████████████████████████████| 40/40 [00:02<00:00, 15.58it/s]\n"
     ]
    },
    {
     "name": "stdout",
     "output_type": "stream",
     "text": [
      "Epoch 62/100, Loss: 0.0009838178439373734, Val_Recall: 98.78817776545357%\n"
     ]
    },
    {
     "name": "stderr",
     "output_type": "stream",
     "text": [
      "100%|███████████████████████████████████████████████████████████████████████████████████████████████████████| 287/287 [00:50<00:00,  5.63it/s]\n",
      "100%|█████████████████████████████████████████████████████████████████████████████████████████████████████████| 40/40 [00:02<00:00, 15.23it/s]\n"
     ]
    },
    {
     "name": "stdout",
     "output_type": "stream",
     "text": [
      "Epoch 63/100, Loss: 0.0010832252353216276, Val_Recall: 98.14715212442793%\n",
      "Early stopping\n",
      "Loaded pretrained weights for efficientnet-b0\n"
     ]
    },
    {
     "name": "stderr",
     "output_type": "stream",
     "text": [
      "100%|███████████████████████████████████████████████████████████████████████████████████████████████████████| 287/287 [00:51<00:00,  5.63it/s]\n",
      "100%|█████████████████████████████████████████████████████████████████████████████████████████████████████████| 40/40 [00:02<00:00, 15.21it/s]\n"
     ]
    },
    {
     "name": "stdout",
     "output_type": "stream",
     "text": [
      "Epoch 1/100, Loss: 0.06395173273049296, Val_Recall: 53.94890111353635%\n",
      "Model saved based on lowest validation loss.\n"
     ]
    },
    {
     "name": "stderr",
     "output_type": "stream",
     "text": [
      "100%|███████████████████████████████████████████████████████████████████████████████████████████████████████| 287/287 [00:51<00:00,  5.62it/s]\n",
      "100%|█████████████████████████████████████████████████████████████████████████████████████████████████████████| 40/40 [00:02<00:00, 15.58it/s]\n"
     ]
    },
    {
     "name": "stdout",
     "output_type": "stream",
     "text": [
      "Epoch 2/100, Loss: 0.034799790487159046, Val_Recall: 67.46946999649633%\n",
      "Model saved based on lowest validation loss.\n"
     ]
    },
    {
     "name": "stderr",
     "output_type": "stream",
     "text": [
      "100%|███████████████████████████████████████████████████████████████████████████████████████████████████████| 287/287 [00:51<00:00,  5.61it/s]\n",
      "100%|█████████████████████████████████████████████████████████████████████████████████████████████████████████| 40/40 [00:02<00:00, 15.35it/s]\n"
     ]
    },
    {
     "name": "stdout",
     "output_type": "stream",
     "text": [
      "Epoch 3/100, Loss: 0.022879878658568487, Val_Recall: 76.49178526901653%\n",
      "Model saved based on lowest validation loss.\n"
     ]
    },
    {
     "name": "stderr",
     "output_type": "stream",
     "text": [
      "100%|███████████████████████████████████████████████████████████████████████████████████████████████████████| 287/287 [00:51<00:00,  5.61it/s]\n",
      "100%|█████████████████████████████████████████████████████████████████████████████████████████████████████████| 40/40 [00:02<00:00, 15.26it/s]\n"
     ]
    },
    {
     "name": "stdout",
     "output_type": "stream",
     "text": [
      "Epoch 4/100, Loss: 0.017884921477525496, Val_Recall: 79.74249711537742%\n",
      "Model saved based on lowest validation loss.\n"
     ]
    },
    {
     "name": "stderr",
     "output_type": "stream",
     "text": [
      "100%|███████████████████████████████████████████████████████████████████████████████████████████████████████| 287/287 [00:51<00:00,  5.62it/s]\n",
      "100%|█████████████████████████████████████████████████████████████████████████████████████████████████████████| 40/40 [00:02<00:00, 15.22it/s]\n"
     ]
    },
    {
     "name": "stdout",
     "output_type": "stream",
     "text": [
      "Epoch 5/100, Loss: 0.014916596237162594, Val_Recall: 80.80581165112291%\n",
      "Model saved based on lowest validation loss.\n"
     ]
    },
    {
     "name": "stderr",
     "output_type": "stream",
     "text": [
      "100%|███████████████████████████████████████████████████████████████████████████████████████████████████████| 287/287 [00:51<00:00,  5.61it/s]\n",
      "100%|█████████████████████████████████████████████████████████████████████████████████████████████████████████| 40/40 [00:02<00:00, 15.11it/s]\n"
     ]
    },
    {
     "name": "stdout",
     "output_type": "stream",
     "text": [
      "Epoch 6/100, Loss: 0.011975897589582018, Val_Recall: 82.04712060176607%\n",
      "Model saved based on lowest validation loss.\n"
     ]
    },
    {
     "name": "stderr",
     "output_type": "stream",
     "text": [
      "100%|███████████████████████████████████████████████████████████████████████████████████████████████████████| 287/287 [00:51<00:00,  5.61it/s]\n",
      "100%|█████████████████████████████████████████████████████████████████████████████████████████████████████████| 40/40 [00:02<00:00, 15.06it/s]\n"
     ]
    },
    {
     "name": "stdout",
     "output_type": "stream",
     "text": [
      "Epoch 7/100, Loss: 0.00926885565277189, Val_Recall: 84.6607593828253%\n",
      "Model saved based on lowest validation loss.\n"
     ]
    },
    {
     "name": "stderr",
     "output_type": "stream",
     "text": [
      "100%|███████████████████████████████████████████████████████████████████████████████████████████████████████| 287/287 [00:51<00:00,  5.61it/s]\n",
      "100%|█████████████████████████████████████████████████████████████████████████████████████████████████████████| 40/40 [00:02<00:00, 15.42it/s]\n"
     ]
    },
    {
     "name": "stdout",
     "output_type": "stream",
     "text": [
      "Epoch 8/100, Loss: 0.00700639516217052, Val_Recall: 88.05188115587242%\n",
      "Model saved based on lowest validation loss.\n"
     ]
    },
    {
     "name": "stderr",
     "output_type": "stream",
     "text": [
      "100%|███████████████████████████████████████████████████████████████████████████████████████████████████████| 287/287 [00:51<00:00,  5.62it/s]\n",
      "100%|█████████████████████████████████████████████████████████████████████████████████████████████████████████| 40/40 [00:02<00:00, 15.18it/s]\n"
     ]
    },
    {
     "name": "stdout",
     "output_type": "stream",
     "text": [
      "Epoch 9/100, Loss: 0.005556386367607047, Val_Recall: 89.65518638425691%\n",
      "Model saved based on lowest validation loss.\n"
     ]
    },
    {
     "name": "stderr",
     "output_type": "stream",
     "text": [
      "100%|███████████████████████████████████████████████████████████████████████████████████████████████████████| 287/287 [00:51<00:00,  5.62it/s]\n",
      "100%|█████████████████████████████████████████████████████████████████████████████████████████████████████████| 40/40 [00:02<00:00, 15.28it/s]\n"
     ]
    },
    {
     "name": "stdout",
     "output_type": "stream",
     "text": [
      "Epoch 10/100, Loss: 0.004395973500868422, Val_Recall: 93.86688254617073%\n",
      "Model saved based on lowest validation loss.\n"
     ]
    },
    {
     "name": "stderr",
     "output_type": "stream",
     "text": [
      "100%|███████████████████████████████████████████████████████████████████████████████████████████████████████| 287/287 [00:51<00:00,  5.62it/s]\n",
      "100%|█████████████████████████████████████████████████████████████████████████████████████████████████████████| 40/40 [00:02<00:00, 15.29it/s]\n"
     ]
    },
    {
     "name": "stdout",
     "output_type": "stream",
     "text": [
      "Epoch 11/100, Loss: 0.003671749857494433, Val_Recall: 95.16407158177938%\n",
      "Model saved based on lowest validation loss.\n"
     ]
    },
    {
     "name": "stderr",
     "output_type": "stream",
     "text": [
      "100%|███████████████████████████████████████████████████████████████████████████████████████████████████████| 287/287 [00:51<00:00,  5.62it/s]\n",
      "100%|█████████████████████████████████████████████████████████████████████████████████████████████████████████| 40/40 [00:02<00:00, 15.27it/s]\n"
     ]
    },
    {
     "name": "stdout",
     "output_type": "stream",
     "text": [
      "Epoch 12/100, Loss: 0.003239041575761803, Val_Recall: 96.44278869856412%\n",
      "Model saved based on lowest validation loss.\n"
     ]
    },
    {
     "name": "stderr",
     "output_type": "stream",
     "text": [
      "100%|███████████████████████████████████████████████████████████████████████████████████████████████████████| 287/287 [00:51<00:00,  5.61it/s]\n",
      "100%|█████████████████████████████████████████████████████████████████████████████████████████████████████████| 40/40 [00:02<00:00, 15.33it/s]\n"
     ]
    },
    {
     "name": "stdout",
     "output_type": "stream",
     "text": [
      "Epoch 13/100, Loss: 0.002890323702376918, Val_Recall: 96.47284069522365%\n",
      "Model saved based on lowest validation loss.\n"
     ]
    },
    {
     "name": "stderr",
     "output_type": "stream",
     "text": [
      "100%|███████████████████████████████████████████████████████████████████████████████████████████████████████| 287/287 [00:50<00:00,  5.63it/s]\n",
      "100%|█████████████████████████████████████████████████████████████████████████████████████████████████████████| 40/40 [00:02<00:00, 15.53it/s]\n"
     ]
    },
    {
     "name": "stdout",
     "output_type": "stream",
     "text": [
      "Epoch 14/100, Loss: 0.002626964664887055, Val_Recall: 97.15069758412498%\n",
      "Model saved based on lowest validation loss.\n"
     ]
    },
    {
     "name": "stderr",
     "output_type": "stream",
     "text": [
      "100%|███████████████████████████████████████████████████████████████████████████████████████████████████████| 287/287 [00:51<00:00,  5.61it/s]\n",
      "100%|█████████████████████████████████████████████████████████████████████████████████████████████████████████| 40/40 [00:02<00:00, 15.16it/s]\n"
     ]
    },
    {
     "name": "stdout",
     "output_type": "stream",
     "text": [
      "Epoch 15/100, Loss: 0.0024938661591477284, Val_Recall: 97.28929212780582%\n",
      "Model saved based on lowest validation loss.\n"
     ]
    },
    {
     "name": "stderr",
     "output_type": "stream",
     "text": [
      "100%|███████████████████████████████████████████████████████████████████████████████████████████████████████| 287/287 [00:51<00:00,  5.61it/s]\n",
      "100%|█████████████████████████████████████████████████████████████████████████████████████████████████████████| 40/40 [00:02<00:00, 15.65it/s]\n"
     ]
    },
    {
     "name": "stdout",
     "output_type": "stream",
     "text": [
      "Epoch 16/100, Loss: 0.0022921145123291353, Val_Recall: 97.93031776883146%\n",
      "Model saved based on lowest validation loss.\n"
     ]
    },
    {
     "name": "stderr",
     "output_type": "stream",
     "text": [
      "100%|███████████████████████████████████████████████████████████████████████████████████████████████████████| 287/287 [00:51<00:00,  5.62it/s]\n",
      "100%|█████████████████████████████████████████████████████████████████████████████████████████████████████████| 40/40 [00:02<00:00, 15.46it/s]\n"
     ]
    },
    {
     "name": "stdout",
     "output_type": "stream",
     "text": [
      "Epoch 17/100, Loss: 0.0022658076366496973, Val_Recall: 97.91829067008541%\n",
      "Model saved based on lowest validation loss.\n"
     ]
    },
    {
     "name": "stderr",
     "output_type": "stream",
     "text": [
      "100%|███████████████████████████████████████████████████████████████████████████████████████████████████████| 287/287 [00:51<00:00,  5.62it/s]\n",
      "100%|█████████████████████████████████████████████████████████████████████████████████████████████████████████| 40/40 [00:02<00:00, 15.57it/s]\n"
     ]
    },
    {
     "name": "stdout",
     "output_type": "stream",
     "text": [
      "Epoch 18/100, Loss: 0.0020796161394173395, Val_Recall: 97.960369765491%\n",
      "Model saved based on lowest validation loss.\n"
     ]
    },
    {
     "name": "stderr",
     "output_type": "stream",
     "text": [
      "100%|███████████████████████████████████████████████████████████████████████████████████████████████████████| 287/287 [00:51<00:00,  5.62it/s]\n",
      "100%|█████████████████████████████████████████████████████████████████████████████████████████████████████████| 40/40 [00:02<00:00, 15.54it/s]\n"
     ]
    },
    {
     "name": "stdout",
     "output_type": "stream",
     "text": [
      "Epoch 19/100, Loss: 0.0020170255455923326, Val_Recall: 97.95291264393991%\n",
      "Model saved based on lowest validation loss.\n"
     ]
    },
    {
     "name": "stderr",
     "output_type": "stream",
     "text": [
      "100%|███████████████████████████████████████████████████████████████████████████████████████████████████████| 287/287 [00:51<00:00,  5.62it/s]\n",
      "100%|█████████████████████████████████████████████████████████████████████████████████████████████████████████| 40/40 [00:02<00:00, 15.18it/s]\n"
     ]
    },
    {
     "name": "stdout",
     "output_type": "stream",
     "text": [
      "Epoch 20/100, Loss: 0.0020384251835594116, Val_Recall: 97.79697107268053%\n"
     ]
    },
    {
     "name": "stderr",
     "output_type": "stream",
     "text": [
      "100%|███████████████████████████████████████████████████████████████████████████████████████████████████████| 287/287 [00:51<00:00,  5.59it/s]\n",
      "100%|█████████████████████████████████████████████████████████████████████████████████████████████████████████| 40/40 [00:02<00:00, 15.42it/s]\n"
     ]
    },
    {
     "name": "stdout",
     "output_type": "stream",
     "text": [
      "Epoch 21/100, Loss: 0.0018894262940648333, Val_Recall: 97.94856617720016%\n",
      "Model saved based on lowest validation loss.\n"
     ]
    },
    {
     "name": "stderr",
     "output_type": "stream",
     "text": [
      "100%|███████████████████████████████████████████████████████████████████████████████████████████████████████| 287/287 [00:51<00:00,  5.61it/s]\n",
      "100%|█████████████████████████████████████████████████████████████████████████████████████████████████████████| 40/40 [00:02<00:00, 15.61it/s]\n"
     ]
    },
    {
     "name": "stdout",
     "output_type": "stream",
     "text": [
      "Epoch 22/100, Loss: 0.0018401746956442366, Val_Recall: 98.12376845830146%\n",
      "Model saved based on lowest validation loss.\n"
     ]
    },
    {
     "name": "stderr",
     "output_type": "stream",
     "text": [
      "100%|███████████████████████████████████████████████████████████████████████████████████████████████████████| 287/287 [00:51<00:00,  5.61it/s]\n",
      "100%|█████████████████████████████████████████████████████████████████████████████████████████████████████████| 40/40 [00:02<00:00, 15.21it/s]\n"
     ]
    },
    {
     "name": "stdout",
     "output_type": "stream",
     "text": [
      "Epoch 23/100, Loss: 0.001788848332375892, Val_Recall: 98.12376845830146%\n",
      "Model saved based on lowest validation loss.\n"
     ]
    },
    {
     "name": "stderr",
     "output_type": "stream",
     "text": [
      "100%|███████████████████████████████████████████████████████████████████████████████████████████████████████| 287/287 [00:51<00:00,  5.62it/s]\n",
      "100%|█████████████████████████████████████████████████████████████████████████████████████████████████████████| 40/40 [00:02<00:00, 15.44it/s]\n"
     ]
    },
    {
     "name": "stdout",
     "output_type": "stream",
     "text": [
      "Epoch 24/100, Loss: 0.0018924900914441879, Val_Recall: 98.12376845830146%\n"
     ]
    },
    {
     "name": "stderr",
     "output_type": "stream",
     "text": [
      "100%|███████████████████████████████████████████████████████████████████████████████████████████████████████| 287/287 [00:51<00:00,  5.61it/s]\n",
      "100%|█████████████████████████████████████████████████████████████████████████████████████████████████████████| 40/40 [00:02<00:00, 15.11it/s]\n"
     ]
    },
    {
     "name": "stdout",
     "output_type": "stream",
     "text": [
      "Epoch 25/100, Loss: 0.0017455225096341565, Val_Recall: 98.12376845830146%\n",
      "Model saved based on lowest validation loss.\n"
     ]
    },
    {
     "name": "stderr",
     "output_type": "stream",
     "text": [
      "100%|███████████████████████████████████████████████████████████████████████████████████████████████████████| 287/287 [00:51<00:00,  5.62it/s]\n",
      "100%|█████████████████████████████████████████████████████████████████████████████████████████████████████████| 40/40 [00:02<00:00, 15.34it/s]\n"
     ]
    },
    {
     "name": "stdout",
     "output_type": "stream",
     "text": [
      "Epoch 26/100, Loss: 0.0017230693284318477, Val_Recall: 97.79697107268053%\n",
      "Model saved based on lowest validation loss.\n"
     ]
    },
    {
     "name": "stderr",
     "output_type": "stream",
     "text": [
      "100%|███████████████████████████████████████████████████████████████████████████████████████████████████████| 287/287 [00:51<00:00,  5.61it/s]\n",
      "100%|█████████████████████████████████████████████████████████████████████████████████████████████████████████| 40/40 [00:02<00:00, 15.18it/s]\n"
     ]
    },
    {
     "name": "stdout",
     "output_type": "stream",
     "text": [
      "Epoch 27/100, Loss: 0.001595602702150245, Val_Recall: 97.79697107268053%\n",
      "Model saved based on lowest validation loss.\n"
     ]
    },
    {
     "name": "stderr",
     "output_type": "stream",
     "text": [
      "100%|███████████████████████████████████████████████████████████████████████████████████████████████████████| 287/287 [00:51<00:00,  5.62it/s]\n",
      "100%|█████████████████████████████████████████████████████████████████████████████████████████████████████████| 40/40 [00:02<00:00, 15.24it/s]\n"
     ]
    },
    {
     "name": "stdout",
     "output_type": "stream",
     "text": [
      "Epoch 28/100, Loss: 0.001592661362110448, Val_Recall: 98.60139540651663%\n",
      "Model saved based on lowest validation loss.\n"
     ]
    },
    {
     "name": "stderr",
     "output_type": "stream",
     "text": [
      "100%|███████████████████████████████████████████████████████████████████████████████████████████████████████| 287/287 [00:51<00:00,  5.62it/s]\n",
      "100%|█████████████████████████████████████████████████████████████████████████████████████████████████████████| 40/40 [00:02<00:00, 15.31it/s]\n"
     ]
    },
    {
     "name": "stdout",
     "output_type": "stream",
     "text": [
      "Epoch 29/100, Loss: 0.001575502349959379, Val_Recall: 98.76479409932709%\n",
      "Model saved based on lowest validation loss.\n"
     ]
    },
    {
     "name": "stderr",
     "output_type": "stream",
     "text": [
      "100%|███████████████████████████████████████████████████████████████████████████████████████████████████████| 287/287 [00:51<00:00,  5.61it/s]\n",
      "100%|█████████████████████████████████████████████████████████████████████████████████████████████████████████| 40/40 [00:02<00:00, 15.54it/s]\n"
     ]
    },
    {
     "name": "stdout",
     "output_type": "stream",
     "text": [
      "Epoch 30/100, Loss: 0.0016485751278707994, Val_Recall: 98.60139540651663%\n"
     ]
    },
    {
     "name": "stderr",
     "output_type": "stream",
     "text": [
      "100%|███████████████████████████████████████████████████████████████████████████████████████████████████████| 287/287 [00:51<00:00,  5.61it/s]\n",
      "100%|█████████████████████████████████████████████████████████████████████████████████████████████████████████| 40/40 [00:02<00:00, 15.04it/s]\n"
     ]
    },
    {
     "name": "stdout",
     "output_type": "stream",
     "text": [
      "Epoch 31/100, Loss: 0.0016406880660440493, Val_Recall: 98.76479409932709%\n"
     ]
    },
    {
     "name": "stderr",
     "output_type": "stream",
     "text": [
      "100%|███████████████████████████████████████████████████████████████████████████████████████████████████████| 287/287 [00:51<00:00,  5.61it/s]\n",
      "100%|█████████████████████████████████████████████████████████████████████████████████████████████████████████| 40/40 [00:02<00:00, 15.24it/s]\n"
     ]
    },
    {
     "name": "stdout",
     "output_type": "stream",
     "text": [
      "Epoch 32/100, Loss: 0.0016431962925963716, Val_Recall: 98.60139540651663%\n"
     ]
    },
    {
     "name": "stderr",
     "output_type": "stream",
     "text": [
      "100%|███████████████████████████████████████████████████████████████████████████████████████████████████████| 287/287 [00:51<00:00,  5.61it/s]\n",
      "100%|█████████████████████████████████████████████████████████████████████████████████████████████████████████| 40/40 [00:02<00:00, 15.13it/s]\n"
     ]
    },
    {
     "name": "stdout",
     "output_type": "stream",
     "text": [
      "Epoch 33/100, Loss: 0.0016139381820835298, Val_Recall: 98.60139540651663%\n"
     ]
    },
    {
     "name": "stderr",
     "output_type": "stream",
     "text": [
      "100%|███████████████████████████████████████████████████████████████████████████████████████████████████████| 287/287 [00:51<00:00,  5.61it/s]\n",
      "100%|█████████████████████████████████████████████████████████████████████████████████████████████████████████| 40/40 [00:02<00:00, 15.22it/s]\n"
     ]
    },
    {
     "name": "stdout",
     "output_type": "stream",
     "text": [
      "Epoch 34/100, Loss: 0.001585235876831348, Val_Recall: 98.757336977776%\n"
     ]
    },
    {
     "name": "stderr",
     "output_type": "stream",
     "text": [
      "100%|███████████████████████████████████████████████████████████████████████████████████████████████████████| 287/287 [00:51<00:00,  5.62it/s]\n",
      "100%|█████████████████████████████████████████████████████████████████████████████████████████████████████████| 40/40 [00:02<00:00, 15.25it/s]\n"
     ]
    },
    {
     "name": "stdout",
     "output_type": "stream",
     "text": [
      "Epoch 35/100, Loss: 0.0016970431856407231, Val_Recall: 98.60139540651663%\n"
     ]
    },
    {
     "name": "stderr",
     "output_type": "stream",
     "text": [
      "100%|███████████████████████████████████████████████████████████████████████████████████████████████████████| 287/287 [00:51<00:00,  5.62it/s]\n",
      "100%|█████████████████████████████████████████████████████████████████████████████████████████████████████████| 40/40 [00:02<00:00, 15.23it/s]\n"
     ]
    },
    {
     "name": "stdout",
     "output_type": "stream",
     "text": [
      "Epoch 36/100, Loss: 0.0017572616599522916, Val_Recall: 98.60139540651663%\n"
     ]
    },
    {
     "name": "stderr",
     "output_type": "stream",
     "text": [
      "100%|███████████████████████████████████████████████████████████████████████████████████████████████████████| 287/287 [00:51<00:00,  5.61it/s]\n",
      "100%|█████████████████████████████████████████████████████████████████████████████████████████████████████████| 40/40 [00:02<00:00, 15.36it/s]\n"
     ]
    },
    {
     "name": "stdout",
     "output_type": "stream",
     "text": [
      "Epoch 37/100, Loss: 0.001607656511754385, Val_Recall: 98.76479409932709%\n"
     ]
    },
    {
     "name": "stderr",
     "output_type": "stream",
     "text": [
      "100%|███████████████████████████████████████████████████████████████████████████████████████████████████████| 287/287 [00:51<00:00,  5.62it/s]\n",
      "100%|█████████████████████████████████████████████████████████████████████████████████████████████████████████| 40/40 [00:02<00:00, 15.11it/s]\n"
     ]
    },
    {
     "name": "stdout",
     "output_type": "stream",
     "text": [
      "Epoch 38/100, Loss: 0.001643880721047708, Val_Recall: 98.757336977776%\n"
     ]
    },
    {
     "name": "stderr",
     "output_type": "stream",
     "text": [
      "100%|███████████████████████████████████████████████████████████████████████████████████████████████████████| 287/287 [00:51<00:00,  5.62it/s]\n",
      "100%|█████████████████████████████████████████████████████████████████████████████████████████████████████████| 40/40 [00:02<00:00, 15.16it/s]\n"
     ]
    },
    {
     "name": "stdout",
     "output_type": "stream",
     "text": [
      "Epoch 39/100, Loss: 0.0015961380501977374, Val_Recall: 98.76479409932709%\n"
     ]
    },
    {
     "name": "stderr",
     "output_type": "stream",
     "text": [
      "100%|███████████████████████████████████████████████████████████████████████████████████████████████████████| 287/287 [00:51<00:00,  5.61it/s]\n",
      "100%|█████████████████████████████████████████████████████████████████████████████████████████████████████████| 40/40 [00:02<00:00, 15.61it/s]\n"
     ]
    },
    {
     "name": "stdout",
     "output_type": "stream",
     "text": [
      "Epoch 40/100, Loss: 0.0017167113286845393, Val_Recall: 98.60139540651663%\n"
     ]
    },
    {
     "name": "stderr",
     "output_type": "stream",
     "text": [
      "100%|███████████████████████████████████████████████████████████████████████████████████████████████████████| 287/287 [00:51<00:00,  5.61it/s]\n",
      "100%|█████████████████████████████████████████████████████████████████████████████████████████████████████████| 40/40 [00:02<00:00, 14.63it/s]\n"
     ]
    },
    {
     "name": "stdout",
     "output_type": "stream",
     "text": [
      "Epoch 41/100, Loss: 0.0017263993739234707, Val_Recall: 97.97963047533291%\n"
     ]
    },
    {
     "name": "stderr",
     "output_type": "stream",
     "text": [
      "100%|███████████████████████████████████████████████████████████████████████████████████████████████████████| 287/287 [00:51<00:00,  5.62it/s]\n",
      "100%|█████████████████████████████████████████████████████████████████████████████████████████████████████████| 40/40 [00:02<00:00, 15.19it/s]\n"
     ]
    },
    {
     "name": "stdout",
     "output_type": "stream",
     "text": [
      "Epoch 42/100, Loss: 0.0015669930846826218, Val_Recall: 98.61319899480746%\n",
      "Model saved based on lowest validation loss.\n"
     ]
    },
    {
     "name": "stderr",
     "output_type": "stream",
     "text": [
      "100%|███████████████████████████████████████████████████████████████████████████████████████████████████████| 287/287 [00:51<00:00,  5.62it/s]\n",
      "100%|█████████████████████████████████████████████████████████████████████████████████████████████████████████| 40/40 [00:02<00:00, 15.18it/s]\n"
     ]
    },
    {
     "name": "stdout",
     "output_type": "stream",
     "text": [
      "Epoch 43/100, Loss: 0.0018291496107877947, Val_Recall: 97.960369765491%\n"
     ]
    },
    {
     "name": "stderr",
     "output_type": "stream",
     "text": [
      "100%|███████████████████████████████████████████████████████████████████████████████████████████████████████| 287/287 [00:51<00:00,  5.61it/s]\n",
      "100%|█████████████████████████████████████████████████████████████████████████████████████████████████████████| 40/40 [00:02<00:00, 15.60it/s]\n"
     ]
    },
    {
     "name": "stdout",
     "output_type": "stream",
     "text": [
      "Epoch 44/100, Loss: 0.001889945384240832, Val_Recall: 97.960369765491%\n"
     ]
    },
    {
     "name": "stderr",
     "output_type": "stream",
     "text": [
      "100%|███████████████████████████████████████████████████████████████████████████████████████████████████████| 287/287 [00:51<00:00,  5.62it/s]\n",
      "100%|█████████████████████████████████████████████████████████████████████████████████████████████████████████| 40/40 [00:02<00:00, 15.31it/s]\n"
     ]
    },
    {
     "name": "stdout",
     "output_type": "stream",
     "text": [
      "Epoch 45/100, Loss: 0.0017856964147341613, Val_Recall: 97.960369765491%\n"
     ]
    },
    {
     "name": "stderr",
     "output_type": "stream",
     "text": [
      "100%|███████████████████████████████████████████████████████████████████████████████████████████████████████| 287/287 [00:51<00:00,  5.62it/s]\n",
      "100%|█████████████████████████████████████████████████████████████████████████████████████████████████████████| 40/40 [00:02<00:00, 15.39it/s]\n"
     ]
    },
    {
     "name": "stdout",
     "output_type": "stream",
     "text": [
      "Epoch 46/100, Loss: 0.0018593771977776896, Val_Recall: 98.77659768761792%\n"
     ]
    },
    {
     "name": "stderr",
     "output_type": "stream",
     "text": [
      "100%|███████████████████████████████████████████████████████████████████████████████████████████████████████| 287/287 [00:51<00:00,  5.61it/s]\n",
      "100%|█████████████████████████████████████████████████████████████████████████████████████████████████████████| 40/40 [00:02<00:00, 15.27it/s]\n"
     ]
    },
    {
     "name": "stdout",
     "output_type": "stream",
     "text": [
      "Epoch 47/100, Loss: 0.0016569583774021623, Val_Recall: 98.60139540651663%\n"
     ]
    },
    {
     "name": "stderr",
     "output_type": "stream",
     "text": [
      "100%|███████████████████████████████████████████████████████████████████████████████████████████████████████| 287/287 [00:51<00:00,  5.61it/s]\n",
      "100%|█████████████████████████████████████████████████████████████████████████████████████████████████████████| 40/40 [00:02<00:00, 15.11it/s]\n"
     ]
    },
    {
     "name": "stdout",
     "output_type": "stream",
     "text": [
      "Epoch 48/100, Loss: 0.0015505339116380413, Val_Recall: 98.61319899480746%\n",
      "Model saved based on lowest validation loss.\n"
     ]
    },
    {
     "name": "stderr",
     "output_type": "stream",
     "text": [
      "100%|███████████████████████████████████████████████████████████████████████████████████████████████████████| 287/287 [00:51<00:00,  5.61it/s]\n",
      "100%|█████████████████████████████████████████████████████████████████████████████████████████████████████████| 40/40 [00:02<00:00, 15.37it/s]\n"
     ]
    },
    {
     "name": "stdout",
     "output_type": "stream",
     "text": [
      "Epoch 49/100, Loss: 0.001608474615809996, Val_Recall: 98.77659768761792%\n"
     ]
    },
    {
     "name": "stderr",
     "output_type": "stream",
     "text": [
      "100%|███████████████████████████████████████████████████████████████████████████████████████████████████████| 287/287 [00:51<00:00,  5.61it/s]\n",
      "100%|█████████████████████████████████████████████████████████████████████████████████████████████████████████| 40/40 [00:02<00:00, 15.05it/s]\n"
     ]
    },
    {
     "name": "stdout",
     "output_type": "stream",
     "text": [
      "Epoch 50/100, Loss: 0.0017571520063526691, Val_Recall: 98.77659768761792%\n"
     ]
    },
    {
     "name": "stderr",
     "output_type": "stream",
     "text": [
      "100%|███████████████████████████████████████████████████████████████████████████████████████████████████████| 287/287 [00:51<00:00,  5.62it/s]\n",
      "100%|█████████████████████████████████████████████████████████████████████████████████████████████████████████| 40/40 [00:02<00:00, 15.15it/s]\n"
     ]
    },
    {
     "name": "stdout",
     "output_type": "stream",
     "text": [
      "Epoch 51/100, Loss: 0.0018280944508873632, Val_Recall: 98.5980612412501%\n"
     ]
    },
    {
     "name": "stderr",
     "output_type": "stream",
     "text": [
      "100%|███████████████████████████████████████████████████████████████████████████████████████████████████████| 287/287 [00:51<00:00,  5.60it/s]\n",
      "100%|█████████████████████████████████████████████████████████████████████████████████████████████████████████| 40/40 [00:02<00:00, 15.27it/s]\n"
     ]
    },
    {
     "name": "stdout",
     "output_type": "stream",
     "text": [
      "Epoch 52/100, Loss: 0.0017680705783376994, Val_Recall: 97.95703560022446%\n"
     ]
    },
    {
     "name": "stderr",
     "output_type": "stream",
     "text": [
      "100%|███████████████████████████████████████████████████████████████████████████████████████████████████████| 287/287 [00:51<00:00,  5.61it/s]\n",
      "100%|█████████████████████████████████████████████████████████████████████████████████████████████████████████| 40/40 [00:02<00:00, 15.12it/s]\n"
     ]
    },
    {
     "name": "stdout",
     "output_type": "stream",
     "text": [
      "Epoch 53/100, Loss: 0.0018126526682820554, Val_Recall: 97.94523201193363%\n"
     ]
    },
    {
     "name": "stderr",
     "output_type": "stream",
     "text": [
      "100%|███████████████████████████████████████████████████████████████████████████████████████████████████████| 287/287 [00:51<00:00,  5.61it/s]\n",
      "100%|█████████████████████████████████████████████████████████████████████████████████████████████████████████| 40/40 [00:02<00:00, 15.41it/s]\n"
     ]
    },
    {
     "name": "stdout",
     "output_type": "stream",
     "text": [
      "Epoch 54/100, Loss: 0.0017049062365074974, Val_Recall: 98.60139540651663%\n"
     ]
    },
    {
     "name": "stderr",
     "output_type": "stream",
     "text": [
      "100%|███████████████████████████████████████████████████████████████████████████████████████████████████████| 287/287 [00:51<00:00,  5.61it/s]\n",
      "100%|█████████████████████████████████████████████████████████████████████████████████████████████████████████| 40/40 [00:02<00:00, 15.49it/s]\n"
     ]
    },
    {
     "name": "stdout",
     "output_type": "stream",
     "text": [
      "Epoch 55/100, Loss: 0.00166844317243644, Val_Recall: 98.61319899480746%\n"
     ]
    },
    {
     "name": "stderr",
     "output_type": "stream",
     "text": [
      "100%|███████████████████████████████████████████████████████████████████████████████████████████████████████| 287/287 [00:51<00:00,  5.60it/s]\n",
      "100%|█████████████████████████████████████████████████████████████████████████████████████████████████████████| 40/40 [00:02<00:00, 15.25it/s]\n"
     ]
    },
    {
     "name": "stdout",
     "output_type": "stream",
     "text": [
      "Epoch 56/100, Loss: 0.001631711397433122, Val_Recall: 98.76479409932709%\n"
     ]
    },
    {
     "name": "stderr",
     "output_type": "stream",
     "text": [
      "100%|███████████████████████████████████████████████████████████████████████████████████████████████████████| 287/287 [00:51<00:00,  5.61it/s]\n",
      "100%|█████████████████████████████████████████████████████████████████████████████████████████████████████████| 40/40 [00:02<00:00, 15.20it/s]\n"
     ]
    },
    {
     "name": "stdout",
     "output_type": "stream",
     "text": [
      "Epoch 57/100, Loss: 0.0018837691898468734, Val_Recall: 98.76479409932709%\n"
     ]
    },
    {
     "name": "stderr",
     "output_type": "stream",
     "text": [
      "100%|███████████████████████████████████████████████████████████████████████████████████████████████████████| 287/287 [00:51<00:00,  5.62it/s]\n",
      "100%|█████████████████████████████████████████████████████████████████████████████████████████████████████████| 40/40 [00:02<00:00, 15.23it/s]\n"
     ]
    },
    {
     "name": "stdout",
     "output_type": "stream",
     "text": [
      "Epoch 58/100, Loss: 0.001961449560021933, Val_Recall: 98.60139540651663%\n"
     ]
    },
    {
     "name": "stderr",
     "output_type": "stream",
     "text": [
      "100%|███████████████████████████████████████████████████████████████████████████████████████████████████████| 287/287 [00:51<00:00,  5.62it/s]\n",
      "100%|█████████████████████████████████████████████████████████████████████████████████████████████████████████| 40/40 [00:02<00:00, 15.48it/s]\n"
     ]
    },
    {
     "name": "stdout",
     "output_type": "stream",
     "text": [
      "Epoch 59/100, Loss: 0.0018140666639766324, Val_Recall: 98.61319899480746%\n"
     ]
    },
    {
     "name": "stderr",
     "output_type": "stream",
     "text": [
      "100%|███████████████████████████████████████████████████████████████████████████████████████████████████████| 287/287 [00:51<00:00,  5.61it/s]\n",
      "100%|█████████████████████████████████████████████████████████████████████████████████████████████████████████| 40/40 [00:02<00:00, 15.45it/s]\n"
     ]
    },
    {
     "name": "stdout",
     "output_type": "stream",
     "text": [
      "Epoch 60/100, Loss: 0.0017410509258528606, Val_Recall: 98.76479409932709%\n"
     ]
    },
    {
     "name": "stderr",
     "output_type": "stream",
     "text": [
      "100%|███████████████████████████████████████████████████████████████████████████████████████████████████████| 287/287 [00:51<00:00,  5.61it/s]\n",
      "100%|█████████████████████████████████████████████████████████████████████████████████████████████████████████| 40/40 [00:02<00:00, 15.22it/s]\n"
     ]
    },
    {
     "name": "stdout",
     "output_type": "stream",
     "text": [
      "Epoch 61/100, Loss: 0.0016738391286493127, Val_Recall: 98.13122557985253%\n"
     ]
    },
    {
     "name": "stderr",
     "output_type": "stream",
     "text": [
      "100%|███████████████████████████████████████████████████████████████████████████████████████████████████████| 287/287 [00:51<00:00,  5.60it/s]\n",
      "100%|█████████████████████████████████████████████████████████████████████████████████████████████████████████| 40/40 [00:02<00:00, 15.53it/s]\n"
     ]
    },
    {
     "name": "stdout",
     "output_type": "stream",
     "text": [
      "Epoch 62/100, Loss: 0.0017208448597151537, Val_Recall: 98.13122557985253%\n"
     ]
    },
    {
     "name": "stderr",
     "output_type": "stream",
     "text": [
      "100%|███████████████████████████████████████████████████████████████████████████████████████████████████████| 287/287 [00:51<00:00,  5.60it/s]\n",
      "100%|█████████████████████████████████████████████████████████████████████████████████████████████████████████| 40/40 [00:02<00:00, 15.43it/s]\n"
     ]
    },
    {
     "name": "stdout",
     "output_type": "stream",
     "text": [
      "Epoch 63/100, Loss: 0.0016666437475748807, Val_Recall: 98.77225122087818%\n"
     ]
    },
    {
     "name": "stderr",
     "output_type": "stream",
     "text": [
      "100%|███████████████████████████████████████████████████████████████████████████████████████████████████████| 287/287 [00:51<00:00,  5.62it/s]\n",
      "100%|█████████████████████████████████████████████████████████████████████████████████████████████████████████| 40/40 [00:02<00:00, 15.46it/s]\n"
     ]
    },
    {
     "name": "stdout",
     "output_type": "stream",
     "text": [
      "Epoch 64/100, Loss: 0.0018059075648902301, Val_Recall: 98.13122557985253%\n"
     ]
    },
    {
     "name": "stderr",
     "output_type": "stream",
     "text": [
      "100%|███████████████████████████████████████████████████████████████████████████████████████████████████████| 287/287 [00:51<00:00,  5.61it/s]\n",
      "100%|█████████████████████████████████████████████████████████████████████████████████████████████████████████| 40/40 [00:02<00:00, 15.31it/s]\n"
     ]
    },
    {
     "name": "stdout",
     "output_type": "stream",
     "text": [
      "Epoch 65/100, Loss: 0.0020327928281663075, Val_Recall: 98.1461398229547%\n"
     ]
    },
    {
     "name": "stderr",
     "output_type": "stream",
     "text": [
      "100%|███████████████████████████████████████████████████████████████████████████████████████████████████████| 287/287 [00:51<00:00,  5.62it/s]\n",
      "100%|█████████████████████████████████████████████████████████████████████████████████████████████████████████| 40/40 [00:02<00:00, 15.58it/s]\n"
     ]
    },
    {
     "name": "stdout",
     "output_type": "stream",
     "text": [
      "Epoch 66/100, Loss: 0.0018894709672894194, Val_Recall: 98.13868270140361%\n"
     ]
    },
    {
     "name": "stderr",
     "output_type": "stream",
     "text": [
      "100%|███████████████████████████████████████████████████████████████████████████████████████████████████████| 287/287 [00:51<00:00,  5.61it/s]\n",
      "100%|█████████████████████████████████████████████████████████████████████████████████████████████████████████| 40/40 [00:02<00:00, 15.24it/s]\n"
     ]
    },
    {
     "name": "stdout",
     "output_type": "stream",
     "text": [
      "Epoch 67/100, Loss: 0.0015256828591745375, Val_Recall: 98.7915119307201%\n",
      "Model saved based on lowest validation loss.\n"
     ]
    },
    {
     "name": "stderr",
     "output_type": "stream",
     "text": [
      "100%|███████████████████████████████████████████████████████████████████████████████████████████████████████| 287/287 [00:51<00:00,  5.61it/s]\n",
      "100%|█████████████████████████████████████████████████████████████████████████████████████████████████████████| 40/40 [00:02<00:00, 15.52it/s]\n"
     ]
    },
    {
     "name": "stdout",
     "output_type": "stream",
     "text": [
      "Epoch 68/100, Loss: 0.0016824132034109595, Val_Recall: 98.77637417716272%\n"
     ]
    },
    {
     "name": "stderr",
     "output_type": "stream",
     "text": [
      "100%|███████████████████████████████████████████████████████████████████████████████████████████████████████| 287/287 [00:51<00:00,  5.61it/s]\n",
      "100%|█████████████████████████████████████████████████████████████████████████████████████████████████████████| 40/40 [00:02<00:00, 15.16it/s]\n"
     ]
    },
    {
     "name": "stdout",
     "output_type": "stream",
     "text": [
      "Epoch 69/100, Loss: 0.0018793062787079151, Val_Recall: 98.13534853613709%\n"
     ]
    },
    {
     "name": "stderr",
     "output_type": "stream",
     "text": [
      "100%|███████████████████████████████████████████████████████████████████████████████████████████████████████| 287/287 [00:51<00:00,  5.62it/s]\n",
      "100%|█████████████████████████████████████████████████████████████████████████████████████████████████████████| 40/40 [00:02<00:00, 15.38it/s]\n"
     ]
    },
    {
     "name": "stdout",
     "output_type": "stream",
     "text": [
      "Epoch 70/100, Loss: 0.0017670618123544202, Val_Recall: 98.6163096496188%\n"
     ]
    },
    {
     "name": "stderr",
     "output_type": "stream",
     "text": [
      "100%|███████████████████████████████████████████████████████████████████████████████████████████████████████| 287/287 [00:51<00:00,  5.62it/s]\n",
      "100%|█████████████████████████████████████████████████████████████████████████████████████████████████████████| 40/40 [00:02<00:00, 15.12it/s]\n"
     ]
    },
    {
     "name": "stdout",
     "output_type": "stream",
     "text": [
      "Epoch 71/100, Loss: 0.0016783680667369794, Val_Recall: 98.62811323790964%\n"
     ]
    },
    {
     "name": "stderr",
     "output_type": "stream",
     "text": [
      "100%|███████████████████████████████████████████████████████████████████████████████████████████████████████| 287/287 [00:51<00:00,  5.61it/s]\n",
      "100%|█████████████████████████████████████████████████████████████████████████████████████████████████████████| 40/40 [00:02<00:00, 15.16it/s]\n"
     ]
    },
    {
     "name": "stdout",
     "output_type": "stream",
     "text": [
      "Epoch 72/100, Loss: 0.0018830612714126004, Val_Recall: 98.60117189606143%\n"
     ]
    },
    {
     "name": "stderr",
     "output_type": "stream",
     "text": [
      "100%|███████████████████████████████████████████████████████████████████████████████████████████████████████| 287/287 [00:51<00:00,  5.62it/s]\n",
      "100%|█████████████████████████████████████████████████████████████████████████████████████████████████████████| 40/40 [00:02<00:00, 15.32it/s]\n"
     ]
    },
    {
     "name": "stdout",
     "output_type": "stream",
     "text": [
      "Epoch 73/100, Loss: 0.0018251112764058775, Val_Recall: 98.7571134673208%\n"
     ]
    },
    {
     "name": "stderr",
     "output_type": "stream",
     "text": [
      "100%|███████████████████████████████████████████████████████████████████████████████████████████████████████| 287/287 [00:51<00:00,  5.62it/s]\n",
      "100%|█████████████████████████████████████████████████████████████████████████████████████████████████████████| 40/40 [00:02<00:00, 15.34it/s]\n"
     ]
    },
    {
     "name": "stdout",
     "output_type": "stream",
     "text": [
      "Epoch 74/100, Loss: 0.0016755942283730007, Val_Recall: 98.76457058887188%\n"
     ]
    },
    {
     "name": "stderr",
     "output_type": "stream",
     "text": [
      "100%|███████████████████████████████████████████████████████████████████████████████████████████████████████| 287/287 [00:51<00:00,  5.61it/s]\n",
      "100%|█████████████████████████████████████████████████████████████████████████████████████████████████████████| 40/40 [00:02<00:00, 15.48it/s]\n"
     ]
    },
    {
     "name": "stdout",
     "output_type": "stream",
     "text": [
      "Epoch 75/100, Loss: 0.0020811386720762217, Val_Recall: 98.12354494784624%\n"
     ]
    },
    {
     "name": "stderr",
     "output_type": "stream",
     "text": [
      "100%|███████████████████████████████████████████████████████████████████████████████████████████████████████| 287/287 [00:51<00:00,  5.62it/s]\n",
      "100%|█████████████████████████████████████████████████████████████████████████████████████████████████████████| 40/40 [00:02<00:00, 15.25it/s]\n"
     ]
    },
    {
     "name": "stdout",
     "output_type": "stream",
     "text": [
      "Epoch 76/100, Loss: 0.0019794257179763797, Val_Recall: 98.12354494784624%\n"
     ]
    },
    {
     "name": "stderr",
     "output_type": "stream",
     "text": [
      "100%|███████████████████████████████████████████████████████████████████████████████████████████████████████| 287/287 [00:51<00:00,  5.61it/s]\n",
      "100%|█████████████████████████████████████████████████████████████████████████████████████████████████████████| 40/40 [00:02<00:00, 15.28it/s]\n"
     ]
    },
    {
     "name": "stdout",
     "output_type": "stream",
     "text": [
      "Epoch 77/100, Loss: 0.001811070750809929, Val_Recall: 98.13122557985253%\n"
     ]
    },
    {
     "name": "stderr",
     "output_type": "stream",
     "text": [
      "100%|███████████████████████████████████████████████████████████████████████████████████████████████████████| 287/287 [00:51<00:00,  5.61it/s]\n",
      "100%|█████████████████████████████████████████████████████████████████████████████████████████████████████████| 40/40 [00:02<00:00, 15.41it/s]\n"
     ]
    },
    {
     "name": "stdout",
     "output_type": "stream",
     "text": [
      "Epoch 78/100, Loss: 0.0015332921076943507, Val_Recall: 98.14302916814337%\n"
     ]
    },
    {
     "name": "stderr",
     "output_type": "stream",
     "text": [
      "100%|███████████████████████████████████████████████████████████████████████████████████████████████████████| 287/287 [00:51<00:00,  5.61it/s]\n",
      "100%|█████████████████████████████████████████████████████████████████████████████████████████████████████████| 40/40 [00:02<00:00, 15.13it/s]\n"
     ]
    },
    {
     "name": "stdout",
     "output_type": "stream",
     "text": [
      "Epoch 79/100, Loss: 0.0018751700366058444, Val_Recall: 98.127891414586%\n"
     ]
    },
    {
     "name": "stderr",
     "output_type": "stream",
     "text": [
      "100%|███████████████████████████████████████████████████████████████████████████████████████████████████████| 287/287 [00:51<00:00,  5.62it/s]\n",
      "100%|█████████████████████████████████████████████████████████████████████████████████████████████████████████| 40/40 [00:02<00:00, 15.28it/s]\n"
     ]
    },
    {
     "name": "stdout",
     "output_type": "stream",
     "text": [
      "Epoch 80/100, Loss: 0.0019462866898976472, Val_Recall: 98.14302916814337%\n"
     ]
    },
    {
     "name": "stderr",
     "output_type": "stream",
     "text": [
      "100%|███████████████████████████████████████████████████████████████████████████████████████████████████████| 287/287 [00:51<00:00,  5.61it/s]\n",
      "100%|█████████████████████████████████████████████████████████████████████████████████████████████████████████| 40/40 [00:02<00:00, 15.48it/s]\n"
     ]
    },
    {
     "name": "stdout",
     "output_type": "stream",
     "text": [
      "Epoch 81/100, Loss: 0.0018649101219796905, Val_Recall: 98.7915119307201%\n"
     ]
    },
    {
     "name": "stderr",
     "output_type": "stream",
     "text": [
      "100%|███████████████████████████████████████████████████████████████████████████████████████████████████████| 287/287 [00:51<00:00,  5.61it/s]\n",
      "100%|█████████████████████████████████████████████████████████████████████████████████████████████████████████| 40/40 [00:02<00:00, 15.61it/s]\n"
     ]
    },
    {
     "name": "stdout",
     "output_type": "stream",
     "text": [
      "Epoch 82/100, Loss: 0.0016867662138716267, Val_Recall: 98.784054809169%\n"
     ]
    },
    {
     "name": "stderr",
     "output_type": "stream",
     "text": [
      "100%|███████████████████████████████████████████████████████████████████████████████████████████████████████| 287/287 [00:51<00:00,  5.61it/s]\n",
      "100%|█████████████████████████████████████████████████████████████████████████████████████████████████████████| 40/40 [00:02<00:00, 15.26it/s]\n"
     ]
    },
    {
     "name": "stdout",
     "output_type": "stream",
     "text": [
      "Epoch 83/100, Loss: 0.0018381157674102866, Val_Recall: 98.66059801904555%\n"
     ]
    },
    {
     "name": "stderr",
     "output_type": "stream",
     "text": [
      "100%|███████████████████████████████████████████████████████████████████████████████████████████████████████| 287/287 [00:51<00:00,  5.61it/s]\n",
      "100%|█████████████████████████████████████████████████████████████████████████████████████████████████████████| 40/40 [00:02<00:00, 15.30it/s]\n"
     ]
    },
    {
     "name": "stdout",
     "output_type": "stream",
     "text": [
      "Epoch 84/100, Loss: 0.0019732997197112745, Val_Recall: 98.65291738703927%\n"
     ]
    },
    {
     "name": "stderr",
     "output_type": "stream",
     "text": [
      "100%|███████████████████████████████████████████████████████████████████████████████████████████████████████| 287/287 [00:51<00:00,  5.61it/s]\n",
      "100%|█████████████████████████████████████████████████████████████████████████████████████████████████████████| 40/40 [00:02<00:00, 15.36it/s]\n"
     ]
    },
    {
     "name": "stdout",
     "output_type": "stream",
     "text": [
      "Epoch 85/100, Loss: 0.001743313847110528, Val_Recall: 98.66805514059664%\n"
     ]
    },
    {
     "name": "stderr",
     "output_type": "stream",
     "text": [
      "100%|███████████████████████████████████████████████████████████████████████████████████████████████████████| 287/287 [00:51<00:00,  5.62it/s]\n",
      "100%|█████████████████████████████████████████████████████████████████████████████████████████████████████████| 40/40 [00:02<00:00, 15.20it/s]\n"
     ]
    },
    {
     "name": "stdout",
     "output_type": "stream",
     "text": [
      "Epoch 86/100, Loss: 0.0016410076026286192, Val_Recall: 98.82399671185601%\n"
     ]
    },
    {
     "name": "stderr",
     "output_type": "stream",
     "text": [
      "100%|███████████████████████████████████████████████████████████████████████████████████████████████████████| 287/287 [00:51<00:00,  5.61it/s]\n",
      "100%|█████████████████████████████████████████████████████████████████████████████████████████████████████████| 40/40 [00:02<00:00, 15.42it/s]\n"
     ]
    },
    {
     "name": "stdout",
     "output_type": "stream",
     "text": [
      "Epoch 87/100, Loss: 0.001531460715789823, Val_Recall: 98.95491062353055%\n"
     ]
    },
    {
     "name": "stderr",
     "output_type": "stream",
     "text": [
      "100%|███████████████████████████████████████████████████████████████████████████████████████████████████████| 287/287 [00:51<00:00,  5.61it/s]\n",
      "100%|█████████████████████████████████████████████████████████████████████████████████████████████████████████| 40/40 [00:02<00:00, 15.02it/s]\n"
     ]
    },
    {
     "name": "stdout",
     "output_type": "stream",
     "text": [
      "Epoch 88/100, Loss: 0.0018385218089511212, Val_Recall: 98.93977286997318%\n"
     ]
    },
    {
     "name": "stderr",
     "output_type": "stream",
     "text": [
      "100%|███████████████████████████████████████████████████████████████████████████████████████████████████████| 287/287 [00:51<00:00,  5.62it/s]\n",
      "100%|█████████████████████████████████████████████████████████████████████████████████████████████████████████| 40/40 [00:02<00:00, 15.13it/s]\n"
     ]
    },
    {
     "name": "stdout",
     "output_type": "stream",
     "text": [
      "Epoch 89/100, Loss: 0.0018170259869525474, Val_Recall: 98.9323157484221%\n"
     ]
    },
    {
     "name": "stderr",
     "output_type": "stream",
     "text": [
      "100%|███████████████████████████████████████████████████████████████████████████████████████████████████████| 287/287 [00:51<00:00,  5.61it/s]\n",
      "100%|█████████████████████████████████████████████████████████████████████████████████████████████████████████| 40/40 [00:02<00:00, 15.53it/s]\n"
     ]
    },
    {
     "name": "stdout",
     "output_type": "stream",
     "text": [
      "Epoch 90/100, Loss: 0.0019823626846896757, Val_Recall: 98.92796928168234%\n"
     ]
    },
    {
     "name": "stderr",
     "output_type": "stream",
     "text": [
      "100%|███████████████████████████████████████████████████████████████████████████████████████████████████████| 287/287 [00:51<00:00,  5.62it/s]\n",
      "100%|█████████████████████████████████████████████████████████████████████████████████████████████████████████| 40/40 [00:02<00:00, 15.31it/s]\n"
     ]
    },
    {
     "name": "stdout",
     "output_type": "stream",
     "text": [
      "Epoch 91/100, Loss: 0.0018639659752106574, Val_Recall: 98.93977286997318%\n"
     ]
    },
    {
     "name": "stderr",
     "output_type": "stream",
     "text": [
      "100%|███████████████████████████████████████████████████████████████████████████████████████████████████████| 287/287 [00:51<00:00,  5.62it/s]\n",
      "100%|█████████████████████████████████████████████████████████████████████████████████████████████████████████| 40/40 [00:02<00:00, 15.09it/s]\n"
     ]
    },
    {
     "name": "stdout",
     "output_type": "stream",
     "text": [
      "Epoch 92/100, Loss: 0.0019654549351263207, Val_Recall: 98.784054809169%\n"
     ]
    },
    {
     "name": "stderr",
     "output_type": "stream",
     "text": [
      "100%|███████████████████████████████████████████████████████████████████████████████████████████████████████| 287/287 [00:51<00:00,  5.62it/s]\n",
      "100%|█████████████████████████████████████████████████████████████████████████████████████████████████████████| 40/40 [00:02<00:00, 15.00it/s]\n"
     ]
    },
    {
     "name": "stdout",
     "output_type": "stream",
     "text": [
      "Epoch 93/100, Loss: 0.001974552301626442, Val_Recall: 98.77225122087818%\n"
     ]
    },
    {
     "name": "stderr",
     "output_type": "stream",
     "text": [
      "100%|███████████████████████████████████████████████████████████████████████████████████████████████████████| 287/287 [00:51<00:00,  5.61it/s]\n",
      "100%|█████████████████████████████████████████████████████████████████████████████████████████████████████████| 40/40 [00:02<00:00, 15.06it/s]\n"
     ]
    },
    {
     "name": "stdout",
     "output_type": "stream",
     "text": [
      "Epoch 94/100, Loss: 0.001875064230732537, Val_Recall: 98.77225122087818%\n"
     ]
    },
    {
     "name": "stderr",
     "output_type": "stream",
     "text": [
      "100%|███████████████████████████████████████████████████████████████████████████████████████████████████████| 287/287 [00:51<00:00,  5.61it/s]\n",
      "100%|█████████████████████████████████████████████████████████████████████████████████████████████████████████| 40/40 [00:02<00:00, 15.47it/s]\n"
     ]
    },
    {
     "name": "stdout",
     "output_type": "stream",
     "text": [
      "Epoch 95/100, Loss: 0.0020671393281410213, Val_Recall: 98.77225122087818%\n"
     ]
    },
    {
     "name": "stderr",
     "output_type": "stream",
     "text": [
      "100%|███████████████████████████████████████████████████████████████████████████████████████████████████████| 287/287 [00:51<00:00,  5.61it/s]\n",
      "100%|█████████████████████████████████████████████████████████████████████████████████████████████████████████| 40/40 [00:02<00:00, 15.12it/s]\n"
     ]
    },
    {
     "name": "stdout",
     "output_type": "stream",
     "text": [
      "Epoch 96/100, Loss: 0.0020719699827376646, Val_Recall: 98.784054809169%\n"
     ]
    },
    {
     "name": "stderr",
     "output_type": "stream",
     "text": [
      "100%|███████████████████████████████████████████████████████████████████████████████████████████████████████| 287/287 [00:51<00:00,  5.61it/s]\n",
      "100%|█████████████████████████████████████████████████████████████████████████████████████████████████████████| 40/40 [00:02<00:00, 15.47it/s]\n"
     ]
    },
    {
     "name": "stdout",
     "output_type": "stream",
     "text": [
      "Epoch 97/100, Loss: 0.0022731598213929114, Val_Recall: 98.77225122087818%\n",
      "Early stopping\n"
     ]
    }
   ],
   "source": [
    "grid = ParameterGrid(param_grid)\n",
    "# 결과를 저장할 데이터프레임 초기화\n",
    "result_df = pd.DataFrame(columns=['Epoch', 'LR', 'Batch_Size', 'alpha', 'gamma',\n",
    "                                  'Optimizer', 'train_Loss', 'val_loss', 'ValidationRecall',\n",
    "                                  'TimeTaken(Training)', 'TimeTaken(Validation)', 'Model Save'])\n",
    "\n",
    "write_header = True # 처음에만 헤더\n",
    "num_epochs = 100  # 에포크 설정\n",
    "\n",
    "# 이미 완료된 설정 가져오기\n",
    "completed_configs = get_completed_configs(save_directory)\n",
    "\n",
    "for params in grid:\n",
    "    # 현재 설정이 이미 완료된 설정인지 확인\n",
    "    current_config = {\n",
    "        'learning_rate': params['learning_rate'],\n",
    "        'batch_size': params['batch_size'],\n",
    "        'optimizer': params['optimizer'],\n",
    "        'alpha': params['alpha'],\n",
    "        'gamma': params['gamma']\n",
    "    }\n",
    "    if current_config in completed_configs:\n",
    "        print(f\"Skipping completed config: {current_config}\")\n",
    "        continue\n",
    "    \n",
    "    # 모델 초기화\n",
    "    model = EfficientNet.from_pretrained('efficientnet-b0', num_classes=6)  \n",
    "    device = torch.device(\"cuda:0\" if torch.cuda.is_available() else \"cpu\")\n",
    "    model = model.to(device)\n",
    "    \n",
    "    # 학습 및 검증 과정\n",
    "    best_loss = float('inf')  # Set to a large value initially\n",
    "    patience = 0  # patience 카운터 초기화\n",
    "    max_patience = 30  # 최대 patience 값 설정\n",
    "    criterion = FocalLoss(alpha=params['alpha'], gamma=params['gamma'])\n",
    "    \n",
    "    # 각 조합에 맞는 DataLoader를 생성\n",
    "    train_loader = DataLoader(train_dataset, batch_size=params['batch_size'], shuffle=True, num_workers=4)\n",
    "    val_loader = DataLoader(val_dataset, batch_size=params['batch_size'], shuffle=False, num_workers=4)\n",
    "\n",
    "    # optimizer 및 loss 함수 설정\n",
    "    if params['optimizer'] == 'Adam':\n",
    "        optimizer = optim.Adam(model.parameters(), lr=params['learning_rate'])\n",
    "    elif params['optimizer'] == 'SGD':\n",
    "        optimizer = optim.SGD(model.parameters(), lr=params['learning_rate'])    \n",
    "    elif params['optimizer'] == 'AdamW':\n",
    "        optimizer = optim.AdamW(model.parameters(), lr=params['learning_rate'])   \n",
    "    \n",
    "    for epoch in range(num_epochs):\n",
    "        start_time_train = time() # train 속도 측정 시작\n",
    "        train_loss_accum = 0.0  # Initialize accumulator for training loss\n",
    "        num_train_batches = 0  # Counter for the number of batches\n",
    "        model.train()  # 모델을 학습 모드로 설정\n",
    "        for images, labels in tqdm(train_loader):\n",
    "            images = images.to(device)\n",
    "            labels = labels.to(device)\n",
    "            \n",
    "            optimizer.zero_grad()  # gradient 초기화\n",
    "            outputs = model(images)  # forward propagation\n",
    "            loss = criterion(outputs, labels)  # loss 계산\n",
    "            loss.backward()  # backpropagation\n",
    "            optimizer.step()  # weight 업데이트\n",
    "\n",
    "            train_loss_accum += loss.item()  # Accumulate the loss\n",
    "            num_train_batches += 1  # Increment batch counter\n",
    "\n",
    "        average_train_loss = train_loss_accum / num_train_batches  # Calculate average loss over all batches\n",
    "        end_time_train = time() # train 속도 측정 종료\n",
    "        time_taken_train = end_time_train - start_time_train # train 속도 계산    \n",
    "        model.eval()\n",
    "        all_labels = []\n",
    "        all_predictions = []\n",
    "        val_loss = 0.0  # Initialize validation loss\n",
    "        num_batches = 0  # Counter to divide the accumulated val_loss\n",
    "        \n",
    "        with torch.no_grad():\n",
    "            for images, labels in tqdm(val_loader):\n",
    "                images = images.to(device)\n",
    "                labels = labels.to(device)\n",
    "                outputs = model(images)\n",
    "                loss = criterion(outputs, labels)\n",
    "                \n",
    "                val_loss += loss.item()  # Accumulate loss\n",
    "                num_batches += 1  # Increment counter\n",
    "                \n",
    "                _, predicted = torch.max(outputs.data, 1)\n",
    "                all_labels.extend(labels.cpu().numpy())\n",
    "                all_predictions.extend(predicted.cpu().numpy())\n",
    "                \n",
    "        val_loss /= num_batches  # Average validation loss\n",
    "        current_recall = recall_score(all_labels, all_predictions, average='macro')\n",
    "        print(f'Epoch {epoch+1}/{num_epochs}, Loss: {val_loss}, Val_Recall: {current_recall * 100}%')\n",
    "        model_saved = \"No\"\n",
    "\n",
    "        # last.pt 저장하기\n",
    "        model_save_name = f\"last_lr{params['learning_rate']}_batch{params['batch_size']}_opt{params['optimizer']}_alpha{params['alpha']}_gamma{params['gamma']}.pth\"\n",
    "        # 지정한 디렉토리에 모델 저장\n",
    "        model_save_path = os.path.join(save_directory, model_save_name)\n",
    "        torch.save(model.state_dict(), model_save_path)\n",
    "        \n",
    "        # Save model if validation loss decreased\n",
    "        if val_loss < best_loss:\n",
    "            best_loss = val_loss\n",
    "            model_saved = \"Yes\"\n",
    "            # 모델 파일 이름에 현재의 하이퍼파라미터를 포함\n",
    "            model_save_name = f\"best_lr{params['learning_rate']}_batch{params['batch_size']}_opt{params['optimizer']}_alpha{params['alpha']}_gamma{params['gamma']}.pth\"\n",
    "            # 지정한 디렉토리에 모델 저장\n",
    "            model_save_path = os.path.join(save_directory, model_save_name)\n",
    "            torch.save(model.state_dict(), model_save_path)\n",
    "            patience = 0\n",
    "            print(\"Model saved based on lowest validation loss.\")\n",
    "        else:\n",
    "            patience += 1\n",
    "            # patience가 max_patience에 도달하면 학습 중단\n",
    "            if patience == max_patience:\n",
    "                print(\"Early stopping\")\n",
    "                break\n",
    "            \n",
    "        # 결과를 데이터프레임에 추가\n",
    "        new_row = pd.DataFrame({\n",
    "            'Epoch': [epoch + 1],\n",
    "            'LR': [params['learning_rate']],\n",
    "            'Batch_Size': [params['batch_size']],\n",
    "            'alpha': [params['alpha']],\n",
    "            'gamma': [params['gamma']],\n",
    "            'Optimizer': [params['optimizer']],\n",
    "            'Train_Loss': [average_train_loss],\n",
    "            'val_loss': [val_loss],\n",
    "            'ValidationRecall': [current_recall],\n",
    "            'TimeTaken(Training)': [time_taken_train],\n",
    "            'Model Save': [model_saved]\n",
    "        })\n",
    "        # 매 에포크마다 같은 CSV 파일에 결과 추가\n",
    "        with open('./experiment_results_b0.csv', 'a') as f:\n",
    "            new_row.to_csv(f, header=write_header, index=False)\n",
    "        # 헤더는 처음에만 작성\n",
    "        write_header = False \n",
    "    #\n",
    "    del model #  Python 객체를 메모리에서 삭제\n",
    "    torch.cuda.empty_cache() # PyTorch가 GPU 메모리에 캐시한, 현재 사용되지 않는 메모리를 해제\n",
    "    gc.collect() # Python의 가비지 컬렉터를 강제로 실행하여 순환 참조가 있는 객체를 포함하여 사용하지 않는 모든 객체를 메모리에서 해제"
   ]
  }
 ],
 "metadata": {
  "kernelspec": {
   "display_name": "Python 3 (ipykernel)",
   "language": "python",
   "name": "python3"
  },
  "language_info": {
   "codemirror_mode": {
    "name": "ipython",
    "version": 3
   },
   "file_extension": ".py",
   "mimetype": "text/x-python",
   "name": "python",
   "nbconvert_exporter": "python",
   "pygments_lexer": "ipython3",
   "version": "3.8.10"
  }
 },
 "nbformat": 4,
 "nbformat_minor": 5
}
