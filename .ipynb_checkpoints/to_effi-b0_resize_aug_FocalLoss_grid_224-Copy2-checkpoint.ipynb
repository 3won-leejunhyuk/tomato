{
 "cells": [
  {
   "cell_type": "code",
   "execution_count": 1,
   "id": "e13b949a-5039-4924-bae9-719cb70dc028",
   "metadata": {},
   "outputs": [
    {
     "name": "stderr",
     "output_type": "stream",
     "text": [
      "/usr/local/lib/python3.11/dist-packages/tqdm/auto.py:21: TqdmWarning: IProgress not found. Please update jupyter and ipywidgets. See https://ipywidgets.readthedocs.io/en/stable/user_install.html\n",
      "  from .autonotebook import tqdm as notebook_tqdm\n"
     ]
    }
   ],
   "source": [
    "import os\n",
    "import random\n",
    "import numpy as np\n",
    "import pandas as pd\n",
    "import torch\n",
    "import torch.nn.functional as F\n",
    "from time import time\n",
    "from tqdm.auto import tqdm\n",
    "from PIL import Image\n",
    "from sklearn.metrics import recall_score, f1_score, roc_auc_score, roc_curve\n",
    "from sklearn.model_selection import ParameterGrid\n",
    "from torchvision import transforms\n",
    "from torch.utils.data import DataLoader, Dataset\n",
    "from torch import optim, nn\n",
    "from efficientnet_pytorch import EfficientNet"
   ]
  },
  {
   "cell_type": "code",
   "execution_count": 2,
   "id": "90ea81c1-9494-4146-bdb8-2eefc9736f2b",
   "metadata": {},
   "outputs": [],
   "source": [
    "# 데이터 전처리 설정\n",
    "transform_with_augmentation = transforms.Compose([\n",
    "    transforms.RandomHorizontalFlip(),\n",
    "    transforms.RandomRotation(15),  # 예: 15도 내에서 무작위로 회전\n",
    "    transforms.ColorJitter(brightness=0.2, contrast=0.2, saturation=0.2, hue=0.1),\n",
    "    transforms.RandomPerspective(distortion_scale=0.5, p=0.5),  # 무작위 투시 변환 추가\n",
    "    transforms.GaussianBlur(3, sigma=(0.1, 2.0)),  # 가우시안 블러 추가\n",
    "    transforms.Resize((224, 224)),\n",
    "    transforms.ToTensor(),\n",
    "    transforms.Normalize(mean=[0.485, 0.456, 0.406], std=[0.229, 0.224, 0.225]),\n",
    "])\n",
    "\n",
    "# 데이터 전처리 설정\n",
    "transform = transforms.Compose([\n",
    "    transforms.Resize((224, 224)),\n",
    "    transforms.ToTensor(),\n",
    "    transforms.Normalize(mean=[0.485, 0.456, 0.406], std=[0.229, 0.224, 0.225]),\n",
    "])"
   ]
  },
  {
   "cell_type": "code",
   "execution_count": 3,
   "id": "ac5e0f6a-e6b5-4684-b267-8ada7b29b919",
   "metadata": {},
   "outputs": [],
   "source": [
    "# real\n",
    "# # 하이퍼파라미터 그리드 설정\n",
    "# param_grid = {\n",
    "#     'batch_size': [16, 32, 64, 128], # 16 하다맘\n",
    "#     'learning_rate': [1e-3, 1e-4, 1e-5],\n",
    "#     'optimizer': ['Adam', 'SGD', 'AdamW '],\n",
    "#     'alpha': [0.25, 0.5, 0.75],  # FocalLoss alpha\n",
    "#     'gamma': [1.0, 2.0, 5.0],     # FocalLoss gamma\n",
    "# }\n",
    "# #모델 저장 위치\n",
    "# save_directory = \"/workspace/mnt2/data/tomato_except3/crop/resize/0/\""
   ]
  },
  {
   "cell_type": "code",
   "execution_count": 4,
   "id": "72b4bd76-487d-4c56-9739-0ea0746ebf46",
   "metadata": {},
   "outputs": [],
   "source": [
    "# 돌려야하는거\n",
    "# 하이퍼파라미터 그리드 설정\n",
    "param_grid = {\n",
    "    'learning_rate': [1e-3],\n",
    "    'batch_size': [32], # \n",
    "    'optimizer': ['SGD', 'AdamW '],\n",
    "    'alpha': [0.5, 0.75],  # FocalLoss alpha\n",
    "    'gamma': [1.0, 2.0, 5.0],     # FocalLoss gamma\n",
    "}\n",
    "#모델 저장 위치\n",
    "save_directory = \"/workspace/mnt2/data/tomato_except3/crop/resize/0/\""
   ]
  },
  {
   "cell_type": "code",
   "execution_count": 5,
   "id": "2653630c-1d61-44ee-a151-94e2f023555f",
   "metadata": {},
   "outputs": [],
   "source": [
    "# # 돌려야하는거\n",
    "# # 하이퍼파라미터 그리드 설정\n",
    "# param_grid = {\n",
    "#     'learning_rate': [1e-3],\n",
    "#     'batch_size': [32], # \n",
    "#     'optimizer': ['Adam'],\n",
    "#     'alpha': [0.5],  # FocalLoss alpha\n",
    "#     'gamma': [2.0, 5.0],     # FocalLoss gamma\n",
    "# }\n",
    "# #모델 저장 위치\n",
    "# save_directory = \"/workspace/mnt2/data/tomato_except3/crop/resize/0/\""
   ]
  },
  {
   "cell_type": "code",
   "execution_count": 6,
   "id": "8ca45612-cd21-4eda-8b38-58a4d05c81ab",
   "metadata": {},
   "outputs": [],
   "source": [
    "# # 돌려야하는거\n",
    "# # 하이퍼파라미터 그리드 설정\n",
    "# param_grid = {\n",
    "#     'learning_rate': [1e-3],\n",
    "#     'batch_size': [32], # \n",
    "#     'optimizer': ['Adam'],\n",
    "#     'alpha': [0.75],  # FocalLoss alpha\n",
    "#     'gamma': [1.0, 2.0, 5.0],     # FocalLoss gamma\n",
    "# }\n",
    "# #모델 저장 위치\n",
    "# save_directory = \"/workspace/mnt2/data/tomato_except3/crop/resize/0/\""
   ]
  },
  {
   "cell_type": "code",
   "execution_count": 7,
   "id": "779f37c7-701e-441d-aca6-e3b0d01cf52a",
   "metadata": {},
   "outputs": [],
   "source": [
    "# # 돌려야하는거\n",
    "# # 하이퍼파라미터 그리드 설정\n",
    "# param_grid = {\n",
    "#     'learning_rate': [1e-4, 1e-5],\n",
    "#     'batch_size': [32], # \n",
    "#     'optimizer': ['Adam', 'SGD', 'AdamW '],\n",
    "#     'alpha': [0.5, 0.75],  # FocalLoss alpha\n",
    "#     'gamma': [1.0, 2.0, 5.0],     # FocalLoss gamma\n",
    "# }\n",
    "# #모델 저장 위치\n",
    "# save_directory = \"/workspace/mnt2/data/tomato_except3/crop/resize/0/\""
   ]
  },
  {
   "cell_type": "code",
   "execution_count": 8,
   "id": "17a2b075-f6b4-44c0-a07c-9165e6165e96",
   "metadata": {},
   "outputs": [],
   "source": [
    "# # 돌려야하는거\n",
    "# # 하이퍼파라미터 그리드 설정\n",
    "# param_grid = {\n",
    "#     'learning_rate': [1e-3, 1e-4, 1e-5],\n",
    "#     'batch_size': [32], # \n",
    "#     'optimizer': ['Adam', 'SGD', 'AdamW '],\n",
    "#     'alpha': [0.25],  # FocalLoss alpha\n",
    "#     'gamma': [5.0],     # FocalLoss gamma\n",
    "# }\n",
    "# #모델 저장 위치\n",
    "# save_directory = \"/workspace/mnt2/data/tomato_except3/crop/resize/0/\""
   ]
  },
  {
   "cell_type": "code",
   "execution_count": 9,
   "id": "bd62453c-5a72-41e3-a594-bbcc38e87b19",
   "metadata": {},
   "outputs": [],
   "source": [
    "# 돌려야하는거\n",
    "# # 하이퍼파라미터 그리드 설정\n",
    "# param_grid = {\n",
    "#     'learning_rate': [1e-4, 1e-5],\n",
    "#     'batch_size': [32],\n",
    "#     'optimizer': ['Adam', 'SGD'],\n",
    "#     'alpha': [0.25],  # FocalLoss alpha\n",
    "#     'gamma': [2.0],     # FocalLoss gamma\n",
    "# }\n",
    "# #모델 저장 위치\n",
    "# save_directory = \"/workspace/mnt2/data/tomato_except3/crop/resize/0/\""
   ]
  },
  {
   "cell_type": "code",
   "execution_count": 10,
   "id": "d5e41015-2aa4-4aa7-9533-ee08f433b3de",
   "metadata": {},
   "outputs": [],
   "source": [
    "def seed_everything(seed):\n",
    "    random.seed(seed)\n",
    "    os.environ['PYTHONHASHSEED'] = str(seed)\n",
    "    np.random.seed(seed)\n",
    "    torch.manual_seed(seed)\n",
    "    torch.cuda.manual_seed(seed)\n",
    "    torch.backends.cudnn.deterministic = True\n",
    "    torch.backends.cudnn.benchmark = True\n",
    "    \n",
    "seed_everything(4885) # Seed 고정"
   ]
  },
  {
   "cell_type": "code",
   "execution_count": 11,
   "id": "3220216c-d12c-4407-8c94-c1f7f0a03474",
   "metadata": {},
   "outputs": [
    {
     "name": "stdout",
     "output_type": "stream",
     "text": [
      "/workspace/mnt2/data/tomato_except3/crop/resize/0\n"
     ]
    },
    {
     "name": "stderr",
     "output_type": "stream",
     "text": [
      "/usr/local/lib/python3.11/dist-packages/IPython/core/magics/osm.py:417: UserWarning: using dhist requires you to install the `pickleshare` library.\n",
      "  self.shell.db['dhist'] = compress_dhist(dhist)[-100:]\n"
     ]
    }
   ],
   "source": [
    "cd /workspace/mnt2/data/tomato_except3/crop/resize/0/"
   ]
  },
  {
   "cell_type": "code",
   "execution_count": 12,
   "id": "43f4f61d-f316-4987-b7b8-c2f61a582908",
   "metadata": {},
   "outputs": [],
   "source": [
    "# 사용자 정의 데이터셋 클래스\n",
    "class CustomImageDataset(Dataset):\n",
    "    def __init__(self, root_dir, transform=None):\n",
    "        self.root_dir = root_dir\n",
    "        self.transform = transform\n",
    "        self.classes = ['healthy', 'PowderyMildew', 'GrayMold', 'YellowLeafCurlVirus', 'LeafMold', 'LateBlight']\n",
    "        self.img_paths = []\n",
    "        valid_extensions = ('.jpg', '.jpeg', '.png')\n",
    "        for dirpath, dirnames, filenames in os.walk(root_dir):\n",
    "            for filename in filenames:\n",
    "                if filename.lower().endswith(valid_extensions):\n",
    "                    self.img_paths.append(os.path.join(dirpath, filename))\n",
    "\n",
    "    def __len__(self):\n",
    "        return len(self.img_paths)\n",
    "\n",
    "    def __getitem__(self, idx):\n",
    "        img_path = self.img_paths[idx]\n",
    "        image = Image.open(img_path).convert('RGB')\n",
    "        if self.transform:\n",
    "            image = self.transform(image)\n",
    "        label = self.get_label(img_path)\n",
    "        return image, label\n",
    "\n",
    "    def get_label(self, img_path):\n",
    "        if '0_healthy' in img_path:\n",
    "            return self.classes.index('healthy')\n",
    "        elif '1_PowderyMildew' in img_path:\n",
    "            return self.classes.index('PowderyMildew')\n",
    "        elif '2_GrayMold' in img_path:\n",
    "            return self.classes.index('GrayMold')\n",
    "        elif '3_YellowLeafCurlVirus' in img_path:\n",
    "            return self.classes.index('YellowLeafCurlVirus')        \n",
    "        elif '4_LeafMold' in img_path:\n",
    "            return self.classes.index('LeafMold')\n",
    "        elif '5_LateBlight' in img_path:\n",
    "            return self.classes.index('LateBlight')  "
   ]
  },
  {
   "cell_type": "code",
   "execution_count": 13,
   "id": "bf37a68a-3a8b-4381-a916-2a52555b324e",
   "metadata": {},
   "outputs": [],
   "source": [
    "# 학습 및 검증 데이터 로딩\n",
    "train_dirs = [\"./TrainingDataSet/0_healthy/\",\n",
    "                \"./TrainingDataSet/1_PowderyMildew/\",\n",
    "                \"./TrainingDataSet/2_GrayMold/\",\n",
    "                \"./TrainingDataSet/3_YellowLeafCurlVirus/\",\n",
    "                \"./TrainingDataSet/4_LeafMold/\",\n",
    "                \"./TrainingDataSet/5_LateBlight/\"\n",
    "             ]\n",
    "val_dirs = [\"./ValidationDataSet/0_healthy/\",\n",
    "            \"./ValidationDataSet/1_PowderyMildew/\",\n",
    "            \"./ValidationDataSet/2_GrayMold/\",\n",
    "            \"./ValidationDataSet/3_YellowLeafCurlVirus/\",\n",
    "            \"./ValidationDataSet/4_LeafMold/\",\n",
    "            \"./ValidationDataSet/5_LateBlight/\",\n",
    "           ]\n",
    "\n",
    "train_datasets = [CustomImageDataset(train_dir, transform=transform_with_augmentation) for train_dir in train_dirs]\n",
    "val_datasets = [CustomImageDataset(val_dir, transform=transform) for val_dir in val_dirs]\n",
    "\n",
    "train_dataset = torch.utils.data.ConcatDataset(train_datasets)\n",
    "val_dataset = torch.utils.data.ConcatDataset(val_datasets)"
   ]
  },
  {
   "cell_type": "code",
   "execution_count": 14,
   "id": "052b4728-f9d7-4b66-aa92-6ccfe26b4601",
   "metadata": {},
   "outputs": [],
   "source": [
    "# from collections import Counter\n",
    "\n",
    "# # 레이블을 저장할 리스트를 초기화합니다.\n",
    "# labels = []\n",
    "\n",
    "# # 모든 이미지/레이블 쌍에 대해 루프를 실행합니다.\n",
    "# for _, label in train_dataset:\n",
    "#     class_name = train_dataset.datasets[0].classes[label]\n",
    "#     labels.append(class_name)\n",
    "\n",
    "# # Counter 객체를 사용해 각 클래스의 발생 횟수를 계산합니다.\n",
    "# label_counts = Counter(labels)\n",
    "\n",
    "# # 결과를 출력합니다.\n",
    "# for disease, count in label_counts.items():\n",
    "#     print(f\"{disease}: {count}개\")"
   ]
  },
  {
   "cell_type": "code",
   "execution_count": 15,
   "id": "953d289d-58d0-42d9-823b-114b401e236d",
   "metadata": {},
   "outputs": [],
   "source": [
    "# from collections import Counter\n",
    "\n",
    "# # 레이블을 저장할 리스트를 초기화합니다.\n",
    "# labels = []\n",
    "\n",
    "# # 모든 이미지/레이블 쌍에 대해 루프를 실행합니다.\n",
    "# for _, label in val_dataset:\n",
    "#     class_name = val_dataset.datasets[0].classes[label]\n",
    "#     labels.append(class_name)\n",
    "\n",
    "# # Counter 객체를 사용해 각 클래스의 발생 횟수를 계산합니다.\n",
    "# label_counts = Counter(labels)\n",
    "\n",
    "# # 결과를 출력합니다.\n",
    "# for disease, count in label_counts.items():\n",
    "#     print(f\"{disease}: {count}개\")"
   ]
  },
  {
   "cell_type": "code",
   "execution_count": 16,
   "id": "5a712cb7-2c51-48a6-af9c-31ac50ab75c3",
   "metadata": {},
   "outputs": [],
   "source": [
    "class FocalLoss(nn.Module):\n",
    "    def __init__(self, alpha=1., gamma=2.):\n",
    "        super(FocalLoss, self).__init__()\n",
    "        self.alpha = alpha\n",
    "        self.gamma = gamma\n",
    "\n",
    "    def forward(self, inputs, targets):\n",
    "        CE_loss = nn.CrossEntropyLoss(reduction='none')(inputs, targets)\n",
    "        pt = torch.exp(-CE_loss)\n",
    "        F_loss = self.alpha * (1-pt)**self.gamma * CE_loss\n",
    "        return F_loss.mean()"
   ]
  },
  {
   "cell_type": "code",
   "execution_count": null,
   "id": "d2b8545c-5e0b-4d32-ad44-b83f80b6987b",
   "metadata": {
    "scrolled": true
   },
   "outputs": [
    {
     "name": "stdout",
     "output_type": "stream",
     "text": [
      "Loaded pretrained weights for efficientnet-b0\n"
     ]
    },
    {
     "name": "stderr",
     "output_type": "stream",
     "text": [
      "100%|███████████████████████████████████████████████████████████████████████████████████████████████████████████████████████████████████████████| 1148/1148 [00:47<00:00, 24.03it/s]\n",
      "100%|█████████████████████████████████████████████████████████████████████████████████████████████████████████████████████████████████████████████| 157/157 [00:03<00:00, 48.65it/s]\n"
     ]
    },
    {
     "name": "stdout",
     "output_type": "stream",
     "text": [
      "Epoch 1/100, Loss: 0.3155635639930227, Val_Recall: 42.212697044955085%\n",
      "Model saved based on lowest validation loss.\n"
     ]
    },
    {
     "name": "stderr",
     "output_type": "stream",
     "text": [
      "100%|███████████████████████████████████████████████████████████████████████████████████████████████████████████████████████████████████████████| 1148/1148 [00:46<00:00, 24.86it/s]\n",
      "100%|█████████████████████████████████████████████████████████████████████████████████████████████████████████████████████████████████████████████| 157/157 [00:03<00:00, 51.90it/s]\n"
     ]
    },
    {
     "name": "stdout",
     "output_type": "stream",
     "text": [
      "Epoch 2/100, Loss: 0.19995046620536003, Val_Recall: 47.32475432218553%\n",
      "Model saved based on lowest validation loss.\n"
     ]
    },
    {
     "name": "stderr",
     "output_type": "stream",
     "text": [
      "100%|███████████████████████████████████████████████████████████████████████████████████████████████████████████████████████████████████████████| 1148/1148 [00:48<00:00, 23.87it/s]\n",
      "100%|█████████████████████████████████████████████████████████████████████████████████████████████████████████████████████████████████████████████| 157/157 [00:03<00:00, 50.86it/s]\n"
     ]
    },
    {
     "name": "stdout",
     "output_type": "stream",
     "text": [
      "Epoch 3/100, Loss: 0.14873446507533644, Val_Recall: 52.84231271243177%\n",
      "Model saved based on lowest validation loss.\n"
     ]
    },
    {
     "name": "stderr",
     "output_type": "stream",
     "text": [
      "100%|███████████████████████████████████████████████████████████████████████████████████████████████████████████████████████████████████████████| 1148/1148 [00:46<00:00, 24.74it/s]\n",
      "100%|█████████████████████████████████████████████████████████████████████████████████████████████████████████████████████████████████████████████| 157/157 [00:03<00:00, 49.37it/s]\n"
     ]
    },
    {
     "name": "stdout",
     "output_type": "stream",
     "text": [
      "Epoch 4/100, Loss: 0.12055439976560083, Val_Recall: 54.06055941335518%\n",
      "Model saved based on lowest validation loss.\n"
     ]
    },
    {
     "name": "stderr",
     "output_type": "stream",
     "text": [
      "100%|███████████████████████████████████████████████████████████████████████████████████████████████████████████████████████████████████████████| 1148/1148 [00:46<00:00, 24.79it/s]\n",
      "100%|█████████████████████████████████████████████████████████████████████████████████████████████████████████████████████████████████████████████| 157/157 [00:03<00:00, 51.09it/s]\n"
     ]
    },
    {
     "name": "stdout",
     "output_type": "stream",
     "text": [
      "Epoch 5/100, Loss: 0.10393956001658158, Val_Recall: 57.52260197449955%\n",
      "Model saved based on lowest validation loss.\n"
     ]
    },
    {
     "name": "stderr",
     "output_type": "stream",
     "text": [
      "100%|███████████████████████████████████████████████████████████████████████████████████████████████████████████████████████████████████████████| 1148/1148 [00:46<00:00, 24.69it/s]\n",
      "100%|█████████████████████████████████████████████████████████████████████████████████████████████████████████████████████████████████████████████| 157/157 [00:03<00:00, 51.18it/s]\n"
     ]
    },
    {
     "name": "stdout",
     "output_type": "stream",
     "text": [
      "Epoch 6/100, Loss: 0.09192905048276209, Val_Recall: 59.67890341414914%\n",
      "Model saved based on lowest validation loss.\n"
     ]
    },
    {
     "name": "stderr",
     "output_type": "stream",
     "text": [
      "100%|███████████████████████████████████████████████████████████████████████████████████████████████████████████████████████████████████████████| 1148/1148 [00:46<00:00, 24.70it/s]\n",
      "100%|█████████████████████████████████████████████████████████████████████████████████████████████████████████████████████████████████████████████| 157/157 [00:03<00:00, 50.38it/s]\n"
     ]
    },
    {
     "name": "stdout",
     "output_type": "stream",
     "text": [
      "Epoch 7/100, Loss: 0.08300562768842384, Val_Recall: 63.52990551893759%\n",
      "Model saved based on lowest validation loss.\n"
     ]
    },
    {
     "name": "stderr",
     "output_type": "stream",
     "text": [
      "100%|███████████████████████████████████████████████████████████████████████████████████████████████████████████████████████████████████████████| 1148/1148 [00:46<00:00, 24.74it/s]\n",
      "100%|█████████████████████████████████████████████████████████████████████████████████████████████████████████████████████████████████████████████| 157/157 [00:03<00:00, 50.38it/s]\n"
     ]
    },
    {
     "name": "stdout",
     "output_type": "stream",
     "text": [
      "Epoch 8/100, Loss: 0.07568735938376872, Val_Recall: 65.06153762367049%\n",
      "Model saved based on lowest validation loss.\n"
     ]
    },
    {
     "name": "stderr",
     "output_type": "stream",
     "text": [
      "100%|███████████████████████████████████████████████████████████████████████████████████████████████████████████████████████████████████████████| 1148/1148 [00:48<00:00, 23.84it/s]\n",
      "100%|█████████████████████████████████████████████████████████████████████████████████████████████████████████████████████████████████████████████| 157/157 [00:03<00:00, 49.19it/s]\n"
     ]
    },
    {
     "name": "stdout",
     "output_type": "stream",
     "text": [
      "Epoch 9/100, Loss: 0.06985277285989208, Val_Recall: 66.41708933982%\n",
      "Model saved based on lowest validation loss.\n"
     ]
    },
    {
     "name": "stderr",
     "output_type": "stream",
     "text": [
      "100%|███████████████████████████████████████████████████████████████████████████████████████████████████████████████████████████████████████████| 1148/1148 [00:48<00:00, 23.84it/s]\n",
      "100%|█████████████████████████████████████████████████████████████████████████████████████████████████████████████████████████████████████████████| 157/157 [00:03<00:00, 50.67it/s]\n"
     ]
    },
    {
     "name": "stdout",
     "output_type": "stream",
     "text": [
      "Epoch 10/100, Loss: 0.06477400003250237, Val_Recall: 69.04904161289731%\n",
      "Model saved based on lowest validation loss.\n"
     ]
    },
    {
     "name": "stderr",
     "output_type": "stream",
     "text": [
      "100%|███████████████████████████████████████████████████████████████████████████████████████████████████████████████████████████████████████████| 1148/1148 [00:46<00:00, 24.77it/s]\n",
      "100%|█████████████████████████████████████████████████████████████████████████████████████████████████████████████████████████████████████████████| 157/157 [00:03<00:00, 50.34it/s]\n"
     ]
    },
    {
     "name": "stdout",
     "output_type": "stream",
     "text": [
      "Epoch 11/100, Loss: 0.059735090151476634, Val_Recall: 69.6266579661038%\n",
      "Model saved based on lowest validation loss.\n"
     ]
    },
    {
     "name": "stderr",
     "output_type": "stream",
     "text": [
      "100%|███████████████████████████████████████████████████████████████████████████████████████████████████████████████████████████████████████████| 1148/1148 [00:46<00:00, 24.59it/s]\n",
      "100%|█████████████████████████████████████████████████████████████████████████████████████████████████████████████████████████████████████████████| 157/157 [00:03<00:00, 51.35it/s]\n"
     ]
    },
    {
     "name": "stdout",
     "output_type": "stream",
     "text": [
      "Epoch 12/100, Loss: 0.05622627432784362, Val_Recall: 70.77427618030376%\n",
      "Model saved based on lowest validation loss.\n"
     ]
    },
    {
     "name": "stderr",
     "output_type": "stream",
     "text": [
      "100%|███████████████████████████████████████████████████████████████████████████████████████████████████████████████████████████████████████████| 1148/1148 [00:47<00:00, 24.00it/s]\n",
      "100%|█████████████████████████████████████████████████████████████████████████████████████████████████████████████████████████████████████████████| 157/157 [00:03<00:00, 51.87it/s]\n"
     ]
    },
    {
     "name": "stdout",
     "output_type": "stream",
     "text": [
      "Epoch 13/100, Loss: 0.05247506262307429, Val_Recall: 71.61694193235371%\n",
      "Model saved based on lowest validation loss.\n"
     ]
    },
    {
     "name": "stderr",
     "output_type": "stream",
     "text": [
      "100%|███████████████████████████████████████████████████████████████████████████████████████████████████████████████████████████████████████████| 1148/1148 [00:46<00:00, 24.64it/s]\n",
      "100%|█████████████████████████████████████████████████████████████████████████████████████████████████████████████████████████████████████████████| 157/157 [00:03<00:00, 50.73it/s]\n"
     ]
    },
    {
     "name": "stdout",
     "output_type": "stream",
     "text": [
      "Epoch 14/100, Loss: 0.0498030342422663, Val_Recall: 73.06662546434754%\n",
      "Model saved based on lowest validation loss.\n"
     ]
    },
    {
     "name": "stderr",
     "output_type": "stream",
     "text": [
      "100%|███████████████████████████████████████████████████████████████████████████████████████████████████████████████████████████████████████████| 1148/1148 [00:46<00:00, 24.65it/s]\n",
      "100%|█████████████████████████████████████████████████████████████████████████████████████████████████████████████████████████████████████████████| 157/157 [00:03<00:00, 49.55it/s]\n"
     ]
    },
    {
     "name": "stdout",
     "output_type": "stream",
     "text": [
      "Epoch 15/100, Loss: 0.04662812226540913, Val_Recall: 74.29236523081073%\n",
      "Model saved based on lowest validation loss.\n"
     ]
    },
    {
     "name": "stderr",
     "output_type": "stream",
     "text": [
      "100%|███████████████████████████████████████████████████████████████████████████████████████████████████████████████████████████████████████████| 1148/1148 [00:46<00:00, 24.60it/s]\n",
      "100%|█████████████████████████████████████████████████████████████████████████████████████████████████████████████████████████████████████████████| 157/157 [00:03<00:00, 51.06it/s]\n"
     ]
    },
    {
     "name": "stdout",
     "output_type": "stream",
     "text": [
      "Epoch 16/100, Loss: 0.044128652436623145, Val_Recall: 74.88301504272718%\n",
      "Model saved based on lowest validation loss.\n"
     ]
    },
    {
     "name": "stderr",
     "output_type": "stream",
     "text": [
      "100%|███████████████████████████████████████████████████████████████████████████████████████████████████████████████████████████████████████████| 1148/1148 [00:46<00:00, 24.67it/s]\n",
      "100%|█████████████████████████████████████████████████████████████████████████████████████████████████████████████████████████████████████████████| 157/157 [00:03<00:00, 51.22it/s]\n"
     ]
    },
    {
     "name": "stdout",
     "output_type": "stream",
     "text": [
      "Epoch 17/100, Loss: 0.04193573786690238, Val_Recall: 76.01673131529819%\n",
      "Model saved based on lowest validation loss.\n"
     ]
    },
    {
     "name": "stderr",
     "output_type": "stream",
     "text": [
      "100%|███████████████████████████████████████████████████████████████████████████████████████████████████████████████████████████████████████████| 1148/1148 [00:46<00:00, 24.62it/s]\n",
      "100%|█████████████████████████████████████████████████████████████████████████████████████████████████████████████████████████████████████████████| 157/157 [00:03<00:00, 49.80it/s]\n"
     ]
    },
    {
     "name": "stdout",
     "output_type": "stream",
     "text": [
      "Epoch 18/100, Loss: 0.03980602107342973, Val_Recall: 76.64563452718252%\n",
      "Model saved based on lowest validation loss.\n"
     ]
    },
    {
     "name": "stderr",
     "output_type": "stream",
     "text": [
      "100%|███████████████████████████████████████████████████████████████████████████████████████████████████████████████████████████████████████████| 1148/1148 [00:46<00:00, 24.73it/s]\n",
      "100%|█████████████████████████████████████████████████████████████████████████████████████████████████████████████████████████████████████████████| 157/157 [00:03<00:00, 50.54it/s]\n"
     ]
    },
    {
     "name": "stdout",
     "output_type": "stream",
     "text": [
      "Epoch 19/100, Loss: 0.03770171805762443, Val_Recall: 77.36592787188485%\n",
      "Model saved based on lowest validation loss.\n"
     ]
    },
    {
     "name": "stderr",
     "output_type": "stream",
     "text": [
      "100%|███████████████████████████████████████████████████████████████████████████████████████████████████████████████████████████████████████████| 1148/1148 [00:46<00:00, 24.68it/s]\n",
      "100%|█████████████████████████████████████████████████████████████████████████████████████████████████████████████████████████████████████████████| 157/157 [00:03<00:00, 51.23it/s]\n"
     ]
    },
    {
     "name": "stdout",
     "output_type": "stream",
     "text": [
      "Epoch 20/100, Loss: 0.03617769078192876, Val_Recall: 77.54525310927069%\n",
      "Model saved based on lowest validation loss.\n"
     ]
    },
    {
     "name": "stderr",
     "output_type": "stream",
     "text": [
      "100%|███████████████████████████████████████████████████████████████████████████████████████████████████████████████████████████████████████████| 1148/1148 [00:46<00:00, 24.56it/s]\n",
      "100%|█████████████████████████████████████████████████████████████████████████████████████████████████████████████████████████████████████████████| 157/157 [00:03<00:00, 48.60it/s]\n"
     ]
    },
    {
     "name": "stdout",
     "output_type": "stream",
     "text": [
      "Epoch 21/100, Loss: 0.034621300126476344, Val_Recall: 77.2901553850923%\n",
      "Model saved based on lowest validation loss.\n"
     ]
    },
    {
     "name": "stderr",
     "output_type": "stream",
     "text": [
      "100%|███████████████████████████████████████████████████████████████████████████████████████████████████████████████████████████████████████████| 1148/1148 [00:46<00:00, 24.80it/s]\n",
      "100%|█████████████████████████████████████████████████████████████████████████████████████████████████████████████████████████████████████████████| 157/157 [00:03<00:00, 51.50it/s]\n"
     ]
    },
    {
     "name": "stdout",
     "output_type": "stream",
     "text": [
      "Epoch 22/100, Loss: 0.03280632327322605, Val_Recall: 77.45021991263621%\n",
      "Model saved based on lowest validation loss.\n"
     ]
    },
    {
     "name": "stderr",
     "output_type": "stream",
     "text": [
      "100%|███████████████████████████████████████████████████████████████████████████████████████████████████████████████████████████████████████████| 1148/1148 [00:48<00:00, 23.83it/s]\n",
      "100%|█████████████████████████████████████████████████████████████████████████████████████████████████████████████████████████████████████████████| 157/157 [00:03<00:00, 50.18it/s]\n"
     ]
    },
    {
     "name": "stdout",
     "output_type": "stream",
     "text": [
      "Epoch 23/100, Loss: 0.03199446972001308, Val_Recall: 77.60927213870693%\n",
      "Model saved based on lowest validation loss.\n"
     ]
    },
    {
     "name": "stderr",
     "output_type": "stream",
     "text": [
      "100%|███████████████████████████████████████████████████████████████████████████████████████████████████████████████████████████████████████████| 1148/1148 [00:46<00:00, 24.64it/s]\n",
      "100%|█████████████████████████████████████████████████████████████████████████████████████████████████████████████████████████████████████████████| 157/157 [00:03<00:00, 49.09it/s]\n"
     ]
    },
    {
     "name": "stdout",
     "output_type": "stream",
     "text": [
      "Epoch 24/100, Loss: 0.03087258406775369, Val_Recall: 78.2132586116895%\n",
      "Model saved based on lowest validation loss.\n"
     ]
    },
    {
     "name": "stderr",
     "output_type": "stream",
     "text": [
      "100%|███████████████████████████████████████████████████████████████████████████████████████████████████████████████████████████████████████████| 1148/1148 [00:46<00:00, 24.77it/s]\n",
      "100%|█████████████████████████████████████████████████████████████████████████████████████████████████████████████████████████████████████████████| 157/157 [00:03<00:00, 51.11it/s]\n"
     ]
    },
    {
     "name": "stdout",
     "output_type": "stream",
     "text": [
      "Epoch 25/100, Loss: 0.029934255266117205, Val_Recall: 78.68063630455721%\n",
      "Model saved based on lowest validation loss.\n"
     ]
    },
    {
     "name": "stderr",
     "output_type": "stream",
     "text": [
      "100%|███████████████████████████████████████████████████████████████████████████████████████████████████████████████████████████████████████████| 1148/1148 [00:48<00:00, 23.82it/s]\n",
      "100%|█████████████████████████████████████████████████████████████████████████████████████████████████████████████████████████████████████████████| 157/157 [00:03<00:00, 48.93it/s]\n"
     ]
    },
    {
     "name": "stdout",
     "output_type": "stream",
     "text": [
      "Epoch 26/100, Loss: 0.028755140519563026, Val_Recall: 78.73785315352016%\n",
      "Model saved based on lowest validation loss.\n"
     ]
    },
    {
     "name": "stderr",
     "output_type": "stream",
     "text": [
      "100%|███████████████████████████████████████████████████████████████████████████████████████████████████████████████████████████████████████████| 1148/1148 [00:46<00:00, 24.77it/s]\n",
      "100%|█████████████████████████████████████████████████████████████████████████████████████████████████████████████████████████████████████████████| 157/157 [00:03<00:00, 51.07it/s]\n"
     ]
    },
    {
     "name": "stdout",
     "output_type": "stream",
     "text": [
      "Epoch 27/100, Loss: 0.02810690420046508, Val_Recall: 78.85595117543063%\n",
      "Model saved based on lowest validation loss.\n"
     ]
    },
    {
     "name": "stderr",
     "output_type": "stream",
     "text": [
      "100%|███████████████████████████████████████████████████████████████████████████████████████████████████████████████████████████████████████████| 1148/1148 [00:46<00:00, 24.66it/s]\n",
      "100%|█████████████████████████████████████████████████████████████████████████████████████████████████████████████████████████████████████████████| 157/157 [00:03<00:00, 51.05it/s]\n"
     ]
    },
    {
     "name": "stdout",
     "output_type": "stream",
     "text": [
      "Epoch 28/100, Loss: 0.02691955404811402, Val_Recall: 79.52236183643654%\n",
      "Model saved based on lowest validation loss.\n"
     ]
    },
    {
     "name": "stderr",
     "output_type": "stream",
     "text": [
      "100%|███████████████████████████████████████████████████████████████████████████████████████████████████████████████████████████████████████████| 1148/1148 [00:46<00:00, 24.83it/s]\n",
      "100%|█████████████████████████████████████████████████████████████████████████████████████████████████████████████████████████████████████████████| 157/157 [00:03<00:00, 49.08it/s]\n"
     ]
    },
    {
     "name": "stdout",
     "output_type": "stream",
     "text": [
      "Epoch 29/100, Loss: 0.025944611718314612, Val_Recall: 79.9565047965308%\n",
      "Model saved based on lowest validation loss.\n"
     ]
    },
    {
     "name": "stderr",
     "output_type": "stream",
     "text": [
      "100%|███████████████████████████████████████████████████████████████████████████████████████████████████████████████████████████████████████████| 1148/1148 [00:46<00:00, 24.65it/s]\n",
      "100%|█████████████████████████████████████████████████████████████████████████████████████████████████████████████████████████████████████████████| 157/157 [00:03<00:00, 50.18it/s]\n"
     ]
    },
    {
     "name": "stdout",
     "output_type": "stream",
     "text": [
      "Epoch 30/100, Loss: 0.02522583092024526, Val_Recall: 79.94114353251821%\n",
      "Model saved based on lowest validation loss.\n"
     ]
    },
    {
     "name": "stderr",
     "output_type": "stream",
     "text": [
      "100%|███████████████████████████████████████████████████████████████████████████████████████████████████████████████████████████████████████████| 1148/1148 [00:46<00:00, 24.82it/s]\n",
      "100%|█████████████████████████████████████████████████████████████████████████████████████████████████████████████████████████████████████████████| 157/157 [00:03<00:00, 51.92it/s]\n"
     ]
    },
    {
     "name": "stdout",
     "output_type": "stream",
     "text": [
      "Epoch 31/100, Loss: 0.024598736062187664, Val_Recall: 80.12279063369738%\n",
      "Model saved based on lowest validation loss.\n"
     ]
    },
    {
     "name": "stderr",
     "output_type": "stream",
     "text": [
      "100%|███████████████████████████████████████████████████████████████████████████████████████████████████████████████████████████████████████████| 1148/1148 [00:47<00:00, 24.29it/s]\n",
      "100%|█████████████████████████████████████████████████████████████████████████████████████████████████████████████████████████████████████████████| 157/157 [00:03<00:00, 49.06it/s]\n"
     ]
    },
    {
     "name": "stdout",
     "output_type": "stream",
     "text": [
      "Epoch 32/100, Loss: 0.023956874685783152, Val_Recall: 80.31313066835605%\n",
      "Model saved based on lowest validation loss.\n"
     ]
    },
    {
     "name": "stderr",
     "output_type": "stream",
     "text": [
      "100%|███████████████████████████████████████████████████████████████████████████████████████████████████████████████████████████████████████████| 1148/1148 [00:46<00:00, 24.60it/s]\n",
      "100%|█████████████████████████████████████████████████████████████████████████████████████████████████████████████████████████████████████████████| 157/157 [00:03<00:00, 51.92it/s]\n"
     ]
    },
    {
     "name": "stdout",
     "output_type": "stream",
     "text": [
      "Epoch 33/100, Loss: 0.02356968522475955, Val_Recall: 80.32594655812012%\n",
      "Model saved based on lowest validation loss.\n"
     ]
    },
    {
     "name": "stderr",
     "output_type": "stream",
     "text": [
      "100%|███████████████████████████████████████████████████████████████████████████████████████████████████████████████████████████████████████████| 1148/1148 [00:48<00:00, 23.77it/s]\n",
      "100%|█████████████████████████████████████████████████████████████████████████████████████████████████████████████████████████████████████████████| 157/157 [00:03<00:00, 52.25it/s]\n"
     ]
    },
    {
     "name": "stdout",
     "output_type": "stream",
     "text": [
      "Epoch 34/100, Loss: 0.02288550394930162, Val_Recall: 80.33340367967119%\n",
      "Model saved based on lowest validation loss.\n"
     ]
    },
    {
     "name": "stderr",
     "output_type": "stream",
     "text": [
      "100%|███████████████████████████████████████████████████████████████████████████████████████████████████████████████████████████████████████████| 1148/1148 [00:46<00:00, 24.81it/s]\n",
      "100%|█████████████████████████████████████████████████████████████████████████████████████████████████████████████████████████████████████████████| 157/157 [00:03<00:00, 52.08it/s]\n"
     ]
    },
    {
     "name": "stdout",
     "output_type": "stream",
     "text": [
      "Epoch 35/100, Loss: 0.022275851193313476, Val_Recall: 80.34520726796202%\n",
      "Model saved based on lowest validation loss.\n"
     ]
    },
    {
     "name": "stderr",
     "output_type": "stream",
     "text": [
      "100%|███████████████████████████████████████████████████████████████████████████████████████████████████████████████████████████████████████████| 1148/1148 [00:48<00:00, 23.83it/s]\n",
      "100%|█████████████████████████████████████████████████████████████████████████████████████████████████████████████████████████████████████████████| 157/157 [00:03<00:00, 49.73it/s]\n"
     ]
    },
    {
     "name": "stdout",
     "output_type": "stream",
     "text": [
      "Epoch 36/100, Loss: 0.021683697042627865, Val_Recall: 80.3518755984951%\n",
      "Model saved based on lowest validation loss.\n"
     ]
    },
    {
     "name": "stderr",
     "output_type": "stream",
     "text": [
      "100%|███████████████████████████████████████████████████████████████████████████████████████████████████████████████████████████████████████████| 1148/1148 [00:46<00:00, 24.64it/s]\n",
      "100%|█████████████████████████████████████████████████████████████████████████████████████████████████████████████████████████████████████████████| 157/157 [00:03<00:00, 50.50it/s]\n"
     ]
    },
    {
     "name": "stdout",
     "output_type": "stream",
     "text": [
      "Epoch 37/100, Loss: 0.021146850665077675, Val_Recall: 80.39062052863416%\n",
      "Model saved based on lowest validation loss.\n"
     ]
    },
    {
     "name": "stderr",
     "output_type": "stream",
     "text": [
      "100%|███████████████████████████████████████████████████████████████████████████████████████████████████████████████████████████████████████████| 1148/1148 [00:46<00:00, 24.65it/s]\n",
      "100%|█████████████████████████████████████████████████████████████████████████████████████████████████████████████████████████████████████████████| 157/157 [00:03<00:00, 49.46it/s]\n"
     ]
    },
    {
     "name": "stdout",
     "output_type": "stream",
     "text": [
      "Epoch 38/100, Loss: 0.02081466658477624, Val_Recall: 80.37034751731899%\n",
      "Model saved based on lowest validation loss.\n"
     ]
    },
    {
     "name": "stderr",
     "output_type": "stream",
     "text": [
      "100%|███████████████████████████████████████████████████████████████████████████████████████████████████████████████████████████████████████████| 1148/1148 [00:46<00:00, 24.71it/s]\n",
      "100%|█████████████████████████████████████████████████████████████████████████████████████████████████████████████████████████████████████████████| 157/157 [00:03<00:00, 51.92it/s]\n"
     ]
    },
    {
     "name": "stdout",
     "output_type": "stream",
     "text": [
      "Epoch 39/100, Loss: 0.020105200247141342, Val_Recall: 80.40575828219151%\n",
      "Model saved based on lowest validation loss.\n"
     ]
    },
    {
     "name": "stderr",
     "output_type": "stream",
     "text": [
      "100%|███████████████████████████████████████████████████████████████████████████████████████████████████████████████████████████████████████████| 1148/1148 [00:46<00:00, 24.70it/s]\n",
      "100%|█████████████████████████████████████████████████████████████████████████████████████████████████████████████████████████████████████████████| 157/157 [00:03<00:00, 49.25it/s]\n"
     ]
    },
    {
     "name": "stdout",
     "output_type": "stream",
     "text": [
      "Epoch 40/100, Loss: 0.019917834646537142, Val_Recall: 81.058587511508%\n",
      "Model saved based on lowest validation loss.\n"
     ]
    },
    {
     "name": "stderr",
     "output_type": "stream",
     "text": [
      "100%|███████████████████████████████████████████████████████████████████████████████████████████████████████████████████████████████████████████| 1148/1148 [00:46<00:00, 24.68it/s]\n",
      "100%|█████████████████████████████████████████████████████████████████████████████████████████████████████████████████████████████████████████████| 157/157 [00:03<00:00, 48.69it/s]\n"
     ]
    },
    {
     "name": "stdout",
     "output_type": "stream",
     "text": [
      "Epoch 41/100, Loss: 0.019627176177451404, Val_Recall: 81.19837902773676%\n",
      "Model saved based on lowest validation loss.\n"
     ]
    },
    {
     "name": "stderr",
     "output_type": "stream",
     "text": [
      "100%|███████████████████████████████████████████████████████████████████████████████████████████████████████████████████████████████████████████| 1148/1148 [00:46<00:00, 24.62it/s]\n",
      "100%|█████████████████████████████████████████████████████████████████████████████████████████████████████████████████████████████████████████████| 157/157 [00:03<00:00, 51.69it/s]\n"
     ]
    },
    {
     "name": "stdout",
     "output_type": "stream",
     "text": [
      "Epoch 42/100, Loss: 0.018925262147430583, Val_Recall: 81.24559338090013%\n",
      "Model saved based on lowest validation loss.\n"
     ]
    },
    {
     "name": "stderr",
     "output_type": "stream",
     "text": [
      "100%|███████████████████████████████████████████████████████████████████████████████████████████████████████████████████████████████████████████| 1148/1148 [00:46<00:00, 24.66it/s]\n",
      "100%|█████████████████████████████████████████████████████████████████████████████████████████████████████████████████████████████████████████████| 157/157 [00:03<00:00, 50.30it/s]\n"
     ]
    },
    {
     "name": "stdout",
     "output_type": "stream",
     "text": [
      "Epoch 43/100, Loss: 0.018715080316382412, Val_Recall: 81.34544299444192%\n",
      "Model saved based on lowest validation loss.\n"
     ]
    },
    {
     "name": "stderr",
     "output_type": "stream",
     "text": [
      "100%|███████████████████████████████████████████████████████████████████████████████████████████████████████████████████████████████████████████| 1148/1148 [00:46<00:00, 24.48it/s]\n",
      "100%|█████████████████████████████████████████████████████████████████████████████████████████████████████████████████████████████████████████████| 157/157 [00:03<00:00, 51.61it/s]\n"
     ]
    },
    {
     "name": "stdout",
     "output_type": "stream",
     "text": [
      "Epoch 44/100, Loss: 0.01832349402855957, Val_Recall: 81.65923981922404%\n",
      "Model saved based on lowest validation loss.\n"
     ]
    },
    {
     "name": "stderr",
     "output_type": "stream",
     "text": [
      "100%|███████████████████████████████████████████████████████████████████████████████████████████████████████████████████████████████████████████| 1148/1148 [00:48<00:00, 23.80it/s]\n",
      "100%|█████████████████████████████████████████████████████████████████████████████████████████████████████████████████████████████████████████████| 157/157 [00:03<00:00, 51.08it/s]\n"
     ]
    },
    {
     "name": "stdout",
     "output_type": "stream",
     "text": [
      "Epoch 45/100, Loss: 0.017926101796651574, Val_Recall: 81.6559056539575%\n",
      "Model saved based on lowest validation loss.\n"
     ]
    },
    {
     "name": "stderr",
     "output_type": "stream",
     "text": [
      "100%|███████████████████████████████████████████████████████████████████████████████████████████████████████████████████████████████████████████| 1148/1148 [00:47<00:00, 24.37it/s]\n",
      "100%|█████████████████████████████████████████████████████████████████████████████████████████████████████████████████████████████████████████████| 157/157 [00:03<00:00, 49.34it/s]\n"
     ]
    },
    {
     "name": "stdout",
     "output_type": "stream",
     "text": [
      "Epoch 46/100, Loss: 0.01761966222489533, Val_Recall: 81.6559056539575%\n",
      "Model saved based on lowest validation loss.\n"
     ]
    },
    {
     "name": "stderr",
     "output_type": "stream",
     "text": [
      "100%|███████████████████████████████████████████████████████████████████████████████████████████████████████████████████████████████████████████| 1148/1148 [00:46<00:00, 24.75it/s]\n",
      "100%|█████████████████████████████████████████████████████████████████████████████████████████████████████████████████████████████████████████████| 157/157 [00:03<00:00, 49.41it/s]\n"
     ]
    },
    {
     "name": "stdout",
     "output_type": "stream",
     "text": [
      "Epoch 47/100, Loss: 0.017148615452694516, Val_Recall: 81.58752852007841%\n",
      "Model saved based on lowest validation loss.\n"
     ]
    },
    {
     "name": "stderr",
     "output_type": "stream",
     "text": [
      "100%|███████████████████████████████████████████████████████████████████████████████████████████████████████████████████████████████████████████| 1148/1148 [00:46<00:00, 24.72it/s]\n",
      "100%|█████████████████████████████████████████████████████████████████████████████████████████████████████████████████████████████████████████████| 157/157 [00:03<00:00, 50.46it/s]\n"
     ]
    },
    {
     "name": "stdout",
     "output_type": "stream",
     "text": [
      "Epoch 48/100, Loss: 0.017110908203092804, Val_Recall: 81.64076790040014%\n",
      "Model saved based on lowest validation loss.\n"
     ]
    },
    {
     "name": "stderr",
     "output_type": "stream",
     "text": [
      "100%|███████████████████████████████████████████████████████████████████████████████████████████████████████████████████████████████████████████| 1148/1148 [00:46<00:00, 24.65it/s]\n",
      "100%|█████████████████████████████████████████████████████████████████████████████████████████████████████████████████████████████████████████████| 157/157 [00:03<00:00, 50.54it/s]\n"
     ]
    },
    {
     "name": "stdout",
     "output_type": "stream",
     "text": [
      "Epoch 49/100, Loss: 0.016532913577651298, Val_Recall: 82.08866731448002%\n",
      "Model saved based on lowest validation loss.\n"
     ]
    },
    {
     "name": "stderr",
     "output_type": "stream",
     "text": [
      "100%|███████████████████████████████████████████████████████████████████████████████████████████████████████████████████████████████████████████| 1148/1148 [00:46<00:00, 24.70it/s]\n",
      "100%|█████████████████████████████████████████████████████████████████████████████████████████████████████████████████████████████████████████████| 157/157 [00:03<00:00, 49.78it/s]\n"
     ]
    },
    {
     "name": "stdout",
     "output_type": "stream",
     "text": [
      "Epoch 50/100, Loss: 0.016291455599289552, Val_Recall: 82.23359408846659%\n",
      "Model saved based on lowest validation loss.\n"
     ]
    },
    {
     "name": "stderr",
     "output_type": "stream",
     "text": [
      "100%|███████████████████████████████████████████████████████████████████████████████████████████████████████████████████████████████████████████| 1148/1148 [00:46<00:00, 24.75it/s]\n",
      "100%|█████████████████████████████████████████████████████████████████████████████████████████████████████████████████████████████████████████████| 157/157 [00:03<00:00, 47.64it/s]\n"
     ]
    },
    {
     "name": "stdout",
     "output_type": "stream",
     "text": [
      "Epoch 51/100, Loss: 0.016219518421068387, Val_Recall: 82.49060549490834%\n",
      "Model saved based on lowest validation loss.\n"
     ]
    },
    {
     "name": "stderr",
     "output_type": "stream",
     "text": [
      "100%|███████████████████████████████████████████████████████████████████████████████████████████████████████████████████████████████████████████| 1148/1148 [00:46<00:00, 24.75it/s]\n",
      "100%|█████████████████████████████████████████████████████████████████████████████████████████████████████████████████████████████████████████████| 157/157 [00:03<00:00, 50.92it/s]\n"
     ]
    },
    {
     "name": "stdout",
     "output_type": "stream",
     "text": [
      "Epoch 52/100, Loss: 0.015906727024375174, Val_Recall: 83.04135258756921%\n",
      "Model saved based on lowest validation loss.\n"
     ]
    },
    {
     "name": "stderr",
     "output_type": "stream",
     "text": [
      "100%|███████████████████████████████████████████████████████████████████████████████████████████████████████████████████████████████████████████| 1148/1148 [00:48<00:00, 23.72it/s]\n",
      "100%|█████████████████████████████████████████████████████████████████████████████████████████████████████████████████████████████████████████████| 157/157 [00:03<00:00, 50.87it/s]\n"
     ]
    },
    {
     "name": "stdout",
     "output_type": "stream",
     "text": [
      "Epoch 53/100, Loss: 0.015505879879348903, Val_Recall: 83.70931957044306%\n",
      "Model saved based on lowest validation loss.\n"
     ]
    },
    {
     "name": "stderr",
     "output_type": "stream",
     "text": [
      "100%|███████████████████████████████████████████████████████████████████████████████████████████████████████████████████████████████████████████| 1148/1148 [00:46<00:00, 24.70it/s]\n",
      "100%|█████████████████████████████████████████████████████████████████████████████████████████████████████████████████████████████████████████████| 157/157 [00:03<00:00, 48.56it/s]\n"
     ]
    },
    {
     "name": "stdout",
     "output_type": "stream",
     "text": [
      "Epoch 54/100, Loss: 0.015466218960607146, Val_Recall: 83.29502982874443%\n",
      "Model saved based on lowest validation loss.\n"
     ]
    },
    {
     "name": "stderr",
     "output_type": "stream",
     "text": [
      "100%|███████████████████████████████████████████████████████████████████████████████████████████████████████████████████████████████████████████| 1148/1148 [00:46<00:00, 24.77it/s]\n",
      "100%|█████████████████████████████████████████████████████████████████████████████████████████████████████████████████████████████████████████████| 157/157 [00:03<00:00, 50.33it/s]\n"
     ]
    },
    {
     "name": "stdout",
     "output_type": "stream",
     "text": [
      "Epoch 55/100, Loss: 0.015113071609274737, Val_Recall: 83.35224667770741%\n",
      "Model saved based on lowest validation loss.\n"
     ]
    },
    {
     "name": "stderr",
     "output_type": "stream",
     "text": [
      "100%|███████████████████████████████████████████████████████████████████████████████████████████████████████████████████████████████████████████| 1148/1148 [00:46<00:00, 24.73it/s]\n",
      "100%|█████████████████████████████████████████████████████████████████████████████████████████████████████████████████████████████████████████████| 157/157 [00:03<00:00, 51.63it/s]\n"
     ]
    },
    {
     "name": "stdout",
     "output_type": "stream",
     "text": [
      "Epoch 56/100, Loss: 0.01478743806879361, Val_Recall: 83.53722794415307%\n",
      "Model saved based on lowest validation loss.\n"
     ]
    },
    {
     "name": "stderr",
     "output_type": "stream",
     "text": [
      "100%|███████████████████████████████████████████████████████████████████████████████████████████████████████████████████████████████████████████| 1148/1148 [00:48<00:00, 23.80it/s]\n",
      "100%|█████████████████████████████████████████████████████████████████████████████████████████████████████████████████████████████████████████████| 157/157 [00:03<00:00, 49.15it/s]\n"
     ]
    },
    {
     "name": "stdout",
     "output_type": "stream",
     "text": [
      "Epoch 57/100, Loss: 0.014539100495706517, Val_Recall: 83.55671216445022%\n",
      "Model saved based on lowest validation loss.\n"
     ]
    },
    {
     "name": "stderr",
     "output_type": "stream",
     "text": [
      "100%|███████████████████████████████████████████████████████████████████████████████████████████████████████████████████████████████████████████| 1148/1148 [00:46<00:00, 24.75it/s]\n",
      "100%|█████████████████████████████████████████████████████████████████████████████████████████████████████████████████████████████████████████████| 157/157 [00:03<00:00, 51.25it/s]\n"
     ]
    },
    {
     "name": "stdout",
     "output_type": "stream",
     "text": [
      "Epoch 58/100, Loss: 0.014438082728708076, Val_Recall: 83.54903153244392%\n",
      "Model saved based on lowest validation loss.\n"
     ]
    },
    {
     "name": "stderr",
     "output_type": "stream",
     "text": [
      "100%|███████████████████████████████████████████████████████████████████████████████████████████████████████████████████████████████████████████| 1148/1148 [00:47<00:00, 24.37it/s]\n",
      "100%|█████████████████████████████████████████████████████████████████████████████████████████████████████████████████████████████████████████████| 157/157 [00:03<00:00, 50.61it/s]\n"
     ]
    },
    {
     "name": "stdout",
     "output_type": "stream",
     "text": [
      "Epoch 59/100, Loss: 0.014008600423283056, Val_Recall: 83.70931957044306%\n",
      "Model saved based on lowest validation loss.\n"
     ]
    },
    {
     "name": "stderr",
     "output_type": "stream",
     "text": [
      "100%|███████████████████████████████████████████████████████████████████████████████████████████████████████████████████████████████████████████| 1148/1148 [00:46<00:00, 24.74it/s]\n",
      "100%|█████████████████████████████████████████████████████████████████████████████████████████████████████████████████████████████████████████████| 157/157 [00:03<00:00, 50.26it/s]\n"
     ]
    },
    {
     "name": "stdout",
     "output_type": "stream",
     "text": [
      "Epoch 60/100, Loss: 0.01380868235024235, Val_Recall: 83.73191444555151%\n",
      "Model saved based on lowest validation loss.\n"
     ]
    },
    {
     "name": "stderr",
     "output_type": "stream",
     "text": [
      "100%|███████████████████████████████████████████████████████████████████████████████████████████████████████████████████████████████████████████| 1148/1148 [00:46<00:00, 24.73it/s]\n",
      "100%|█████████████████████████████████████████████████████████████████████████████████████████████████████████████████████████████████████████████| 157/157 [00:03<00:00, 51.00it/s]\n"
     ]
    },
    {
     "name": "stdout",
     "output_type": "stream",
     "text": [
      "Epoch 61/100, Loss: 0.01363111555713131, Val_Recall: 83.77732770622363%\n",
      "Model saved based on lowest validation loss.\n"
     ]
    },
    {
     "name": "stderr",
     "output_type": "stream",
     "text": [
      "100%|███████████████████████████████████████████████████████████████████████████████████████████████████████████████████████████████████████████| 1148/1148 [00:48<00:00, 23.81it/s]\n",
      "100%|█████████████████████████████████████████████████████████████████████████████████████████████████████████████████████████████████████████████| 157/157 [00:03<00:00, 51.34it/s]\n"
     ]
    },
    {
     "name": "stdout",
     "output_type": "stream",
     "text": [
      "Epoch 62/100, Loss: 0.01338757619627486, Val_Recall: 84.04614270095627%\n",
      "Model saved based on lowest validation loss.\n"
     ]
    },
    {
     "name": "stderr",
     "output_type": "stream",
     "text": [
      "100%|███████████████████████████████████████████████████████████████████████████████████████████████████████████████████████████████████████████| 1148/1148 [00:46<00:00, 24.74it/s]\n",
      "100%|█████████████████████████████████████████████████████████████████████████████████████████████████████████████████████████████████████████████| 157/157 [00:03<00:00, 50.19it/s]\n"
     ]
    },
    {
     "name": "stdout",
     "output_type": "stream",
     "text": [
      "Epoch 63/100, Loss: 0.013225729894651187, Val_Recall: 84.19440364020934%\n",
      "Model saved based on lowest validation loss.\n"
     ]
    },
    {
     "name": "stderr",
     "output_type": "stream",
     "text": [
      "100%|███████████████████████████████████████████████████████████████████████████████████████████████████████████████████████████████████████████| 1148/1148 [00:46<00:00, 24.71it/s]\n",
      "100%|█████████████████████████████████████████████████████████████████████████████████████████████████████████████████████████████████████████████| 157/157 [00:03<00:00, 51.24it/s]\n"
     ]
    },
    {
     "name": "stdout",
     "output_type": "stream",
     "text": [
      "Epoch 64/100, Loss: 0.013004590008995655, Val_Recall: 85.65499136862846%\n",
      "Model saved based on lowest validation loss.\n"
     ]
    },
    {
     "name": "stderr",
     "output_type": "stream",
     "text": [
      "100%|███████████████████████████████████████████████████████████████████████████████████████████████████████████████████████████████████████████| 1148/1148 [00:46<00:00, 24.76it/s]\n",
      "100%|█████████████████████████████████████████████████████████████████████████████████████████████████████████████████████████████████████████████| 157/157 [00:03<00:00, 51.43it/s]\n"
     ]
    },
    {
     "name": "stdout",
     "output_type": "stream",
     "text": [
      "Epoch 65/100, Loss: 0.012777268233305663, Val_Recall: 85.52599113921727%\n",
      "Model saved based on lowest validation loss.\n"
     ]
    },
    {
     "name": "stderr",
     "output_type": "stream",
     "text": [
      "100%|███████████████████████████████████████████████████████████████████████████████████████████████████████████████████████████████████████████| 1148/1148 [00:46<00:00, 24.69it/s]\n",
      "100%|█████████████████████████████████████████████████████████████████████████████████████████████████████████████████████████████████████████████| 157/157 [00:03<00:00, 51.72it/s]\n"
     ]
    },
    {
     "name": "stdout",
     "output_type": "stream",
     "text": [
      "Epoch 66/100, Loss: 0.012704920898532535, Val_Recall: 86.45608153719802%\n",
      "Model saved based on lowest validation loss.\n"
     ]
    },
    {
     "name": "stderr",
     "output_type": "stream",
     "text": [
      "100%|███████████████████████████████████████████████████████████████████████████████████████████████████████████████████████████████████████████| 1148/1148 [00:48<00:00, 23.83it/s]\n",
      "100%|█████████████████████████████████████████████████████████████████████████████████████████████████████████████████████████████████████████████| 157/157 [00:03<00:00, 51.32it/s]\n"
     ]
    },
    {
     "name": "stdout",
     "output_type": "stream",
     "text": [
      "Epoch 67/100, Loss: 0.012588280318317872, Val_Recall: 85.82584718298997%\n",
      "Model saved based on lowest validation loss.\n"
     ]
    },
    {
     "name": "stderr",
     "output_type": "stream",
     "text": [
      "100%|███████████████████████████████████████████████████████████████████████████████████████████████████████████████████████████████████████████| 1148/1148 [00:46<00:00, 24.79it/s]\n",
      "100%|█████████████████████████████████████████████████████████████████████████████████████████████████████████████████████████████████████████████| 157/157 [00:03<00:00, 50.54it/s]\n"
     ]
    },
    {
     "name": "stdout",
     "output_type": "stream",
     "text": [
      "Epoch 68/100, Loss: 0.012396725419577682, Val_Recall: 87.10789846504126%\n",
      "Model saved based on lowest validation loss.\n"
     ]
    },
    {
     "name": "stderr",
     "output_type": "stream",
     "text": [
      "100%|███████████████████████████████████████████████████████████████████████████████████████████████████████████████████████████████████████████| 1148/1148 [00:46<00:00, 24.65it/s]\n",
      "100%|█████████████████████████████████████████████████████████████████████████████████████████████████████████████████████████████████████████████| 157/157 [00:03<00:00, 50.39it/s]\n"
     ]
    },
    {
     "name": "stdout",
     "output_type": "stream",
     "text": [
      "Epoch 69/100, Loss: 0.012270298478507606, Val_Recall: 86.96376048207273%\n",
      "Model saved based on lowest validation loss.\n"
     ]
    },
    {
     "name": "stderr",
     "output_type": "stream",
     "text": [
      "100%|███████████████████████████████████████████████████████████████████████████████████████████████████████████████████████████████████████████| 1148/1148 [00:48<00:00, 23.82it/s]\n",
      "100%|█████████████████████████████████████████████████████████████████████████████████████████████████████████████████████████████████████████████| 157/157 [00:03<00:00, 50.65it/s]\n"
     ]
    },
    {
     "name": "stdout",
     "output_type": "stream",
     "text": [
      "Epoch 70/100, Loss: 0.011910950319002127, Val_Recall: 87.33619463882096%\n",
      "Model saved based on lowest validation loss.\n"
     ]
    },
    {
     "name": "stderr",
     "output_type": "stream",
     "text": [
      "100%|███████████████████████████████████████████████████████████████████████████████████████████████████████████████████████████████████████████| 1148/1148 [00:46<00:00, 24.49it/s]\n",
      "100%|█████████████████████████████████████████████████████████████████████████████████████████████████████████████████████████████████████████████| 157/157 [00:03<00:00, 51.55it/s]\n"
     ]
    },
    {
     "name": "stdout",
     "output_type": "stream",
     "text": [
      "Epoch 71/100, Loss: 0.011760765400366297, Val_Recall: 87.304906830233%\n",
      "Model saved based on lowest validation loss.\n"
     ]
    },
    {
     "name": "stderr",
     "output_type": "stream",
     "text": [
      "100%|███████████████████████████████████████████████████████████████████████████████████████████████████████████████████████████████████████████| 1148/1148 [00:46<00:00, 24.69it/s]\n",
      "100%|█████████████████████████████████████████████████████████████████████████████████████████████████████████████████████████████████████████████| 157/157 [00:03<00:00, 50.75it/s]\n"
     ]
    },
    {
     "name": "stdout",
     "output_type": "stream",
     "text": [
      "Epoch 72/100, Loss: 0.011625609419375894, Val_Recall: 87.31772271999706%\n",
      "Model saved based on lowest validation loss.\n"
     ]
    },
    {
     "name": "stderr",
     "output_type": "stream",
     "text": [
      "100%|███████████████████████████████████████████████████████████████████████████████████████████████████████████████████████████████████████████| 1148/1148 [00:46<00:00, 24.70it/s]\n",
      "100%|█████████████████████████████████████████████████████████████████████████████████████████████████████████████████████████████████████████████| 157/157 [00:03<00:00, 50.13it/s]\n"
     ]
    },
    {
     "name": "stdout",
     "output_type": "stream",
     "text": [
      "Epoch 73/100, Loss: 0.011442445116630158, Val_Recall: 87.27897778985802%\n",
      "Model saved based on lowest validation loss.\n"
     ]
    },
    {
     "name": "stderr",
     "output_type": "stream",
     "text": [
      "100%|███████████████████████████████████████████████████████████████████████████████████████████████████████████████████████████████████████████| 1148/1148 [00:46<00:00, 24.73it/s]\n",
      "100%|█████████████████████████████████████████████████████████████████████████████████████████████████████████████████████████████████████████████| 157/157 [00:03<00:00, 51.06it/s]\n"
     ]
    },
    {
     "name": "stdout",
     "output_type": "stream",
     "text": [
      "Epoch 74/100, Loss: 0.011322966717607356, Val_Recall: 87.77586544791511%\n",
      "Model saved based on lowest validation loss.\n"
     ]
    },
    {
     "name": "stderr",
     "output_type": "stream",
     "text": [
      "100%|███████████████████████████████████████████████████████████████████████████████████████████████████████████████████████████████████████████| 1148/1148 [00:47<00:00, 23.96it/s]\n",
      "100%|█████████████████████████████████████████████████████████████████████████████████████████████████████████████████████████████████████████████| 157/157 [00:03<00:00, 49.69it/s]\n"
     ]
    },
    {
     "name": "stdout",
     "output_type": "stream",
     "text": [
      "Epoch 75/100, Loss: 0.011266911282662152, Val_Recall: 87.13483980688946%\n",
      "Model saved based on lowest validation loss.\n"
     ]
    },
    {
     "name": "stderr",
     "output_type": "stream",
     "text": [
      "100%|███████████████████████████████████████████████████████████████████████████████████████████████████████████████████████████████████████████| 1148/1148 [00:46<00:00, 24.67it/s]\n",
      "100%|█████████████████████████████████████████████████████████████████████████████████████████████████████████████████████████████████████████████| 157/157 [00:03<00:00, 51.40it/s]\n"
     ]
    },
    {
     "name": "stdout",
     "output_type": "stream",
     "text": [
      "Epoch 76/100, Loss: 0.010970134166374084, Val_Recall: 87.99235803340397%\n",
      "Model saved based on lowest validation loss.\n"
     ]
    },
    {
     "name": "stderr",
     "output_type": "stream",
     "text": [
      "100%|███████████████████████████████████████████████████████████████████████████████████████████████████████████████████████████████████████████| 1148/1148 [00:46<00:00, 24.69it/s]\n",
      "100%|█████████████████████████████████████████████████████████████████████████████████████████████████████████████████████████████████████████████| 157/157 [00:03<00:00, 49.68it/s]\n"
     ]
    },
    {
     "name": "stdout",
     "output_type": "stream",
     "text": [
      "Epoch 77/100, Loss: 0.010855833247075395, Val_Recall: 89.2862129037461%\n",
      "Model saved based on lowest validation loss.\n"
     ]
    },
    {
     "name": "stderr",
     "output_type": "stream",
     "text": [
      "100%|███████████████████████████████████████████████████████████████████████████████████████████████████████████████████████████████████████████| 1148/1148 [00:46<00:00, 24.70it/s]\n",
      "100%|█████████████████████████████████████████████████████████████████████████████████████████████████████████████████████████████████████████████| 157/157 [00:03<00:00, 51.85it/s]\n"
     ]
    },
    {
     "name": "stdout",
     "output_type": "stream",
     "text": [
      "Epoch 78/100, Loss: 0.010697164898316538, Val_Recall: 89.28186643700636%\n",
      "Model saved based on lowest validation loss.\n"
     ]
    },
    {
     "name": "stderr",
     "output_type": "stream",
     "text": [
      "100%|███████████████████████████████████████████████████████████████████████████████████████████████████████████████████████████████████████████| 1148/1148 [00:46<00:00, 24.61it/s]\n",
      "100%|█████████████████████████████████████████████████████████████████████████████████████████████████████████████████████████████████████████████| 157/157 [00:03<00:00, 49.32it/s]\n"
     ]
    },
    {
     "name": "stdout",
     "output_type": "stream",
     "text": [
      "Epoch 79/100, Loss: 0.010563732506134503, Val_Recall: 90.56725188432416%\n",
      "Model saved based on lowest validation loss.\n"
     ]
    },
    {
     "name": "stderr",
     "output_type": "stream",
     "text": [
      "100%|███████████████████████████████████████████████████████████████████████████████████████████████████████████████████████████████████████████| 1148/1148 [00:48<00:00, 23.91it/s]\n",
      "  0%|                                                                                                                                                       | 0/157 [00:00<?, ?it/s]"
     ]
    }
   ],
   "source": [
    "grid = ParameterGrid(param_grid)\n",
    "# 결과를 저장할 데이터프레임 초기화\n",
    "result_df = pd.DataFrame(columns=['Epoch', 'LR', 'Batch_Size', 'alpha', 'gamma',\n",
    "                                  'Optimizer', 'train_Loss', 'val_loss', 'ValidationRecall',\n",
    "                                  'TimeTaken(Training)', 'TimeTaken(Validation)', 'Model Save'])\n",
    "\n",
    "write_header = True # 처음에만 헤더를 사용\n",
    "num_epochs = 100  # 원하는 에포크 수로 설정\n",
    "\n",
    "for params in grid:\n",
    "    # 모델 초기화\n",
    "    model = EfficientNet.from_pretrained('efficientnet-b0', num_classes=6)  \n",
    "    device = torch.device(\"cuda:0\" if torch.cuda.is_available() else \"cpu\")\n",
    "    model = model.to(device)\n",
    "    \n",
    "    # 학습 및 검증 과정\n",
    "    best_loss = float('inf')  # Set to a large value initially\n",
    "    patience = 0  # patience 카운터 초기화\n",
    "    max_patience = 30  # 최대 patience 값 설정\n",
    "    criterion = FocalLoss(alpha=params['alpha'], gamma=params['gamma'])\n",
    "    \n",
    "    # 각 조합에 맞는 DataLoader를 생성\n",
    "    train_loader = DataLoader(train_dataset, batch_size=params['batch_size'], shuffle=True, num_workers=4)\n",
    "    val_loader = DataLoader(val_dataset, batch_size=params['batch_size'], shuffle=False, num_workers=4)\n",
    "\n",
    "    # optimizer 및 loss 함수 설정\n",
    "    if params['optimizer'] == 'Adam':\n",
    "        optimizer = optim.Adam(model.parameters(), lr=params['learning_rate'])\n",
    "    elif params['optimizer'] == 'SGD':\n",
    "        optimizer = optim.SGD(model.parameters(), lr=params['learning_rate'])    \n",
    "    elif params['optimizer'] == 'AdamW':\n",
    "        optimizer = optim.AdamW(model.parameters(), lr=params['learning_rate'])   \n",
    "    \n",
    "    for epoch in range(num_epochs):\n",
    "        start_time_train = time() # train 속도 측정 시작\n",
    "        train_loss_accum = 0.0  # Initialize accumulator for training loss\n",
    "        num_train_batches = 0  # Counter for the number of batches\n",
    "        model.train()  # 모델을 학습 모드로 설정\n",
    "        for images, labels in tqdm(train_loader):\n",
    "            images = images.to(device)\n",
    "            labels = labels.to(device)\n",
    "            \n",
    "            optimizer.zero_grad()  # gradient 초기화\n",
    "            outputs = model(images)  # forward propagation\n",
    "            loss = criterion(outputs, labels)  # loss 계산\n",
    "            loss.backward()  # backpropagation\n",
    "            optimizer.step()  # weight 업데이트\n",
    "\n",
    "            train_loss_accum += loss.item()  # Accumulate the loss\n",
    "            num_train_batches += 1  # Increment batch counter\n",
    "\n",
    "        average_train_loss = train_loss_accum / num_train_batches  # Calculate average loss over all batches\n",
    "        end_time_train = time() # train 속도 측정 종료\n",
    "        time_taken_train = end_time_train - start_time_train # train 속도 계산    \n",
    "        model.eval()\n",
    "        all_labels = []\n",
    "        all_predictions = []\n",
    "        val_loss = 0.0  # Initialize validation loss\n",
    "        num_batches = 0  # Counter to divide the accumulated val_loss\n",
    "        \n",
    "        with torch.no_grad():\n",
    "            for images, labels in tqdm(val_loader):\n",
    "                images = images.to(device)\n",
    "                labels = labels.to(device)\n",
    "                outputs = model(images)\n",
    "                loss = criterion(outputs, labels)\n",
    "                \n",
    "                val_loss += loss.item()  # Accumulate loss\n",
    "                num_batches += 1  # Increment counter\n",
    "                \n",
    "                _, predicted = torch.max(outputs.data, 1)\n",
    "                all_labels.extend(labels.cpu().numpy())\n",
    "                all_predictions.extend(predicted.cpu().numpy())\n",
    "                \n",
    "        val_loss /= num_batches  # Average validation loss\n",
    "        current_recall = recall_score(all_labels, all_predictions, average='macro')\n",
    "        print(f'Epoch {epoch+1}/{num_epochs}, Loss: {val_loss}, Val_Recall: {current_recall * 100}%')\n",
    "        model_saved = \"No\"\n",
    "\n",
    "        # last.pt 저장하기\n",
    "        model_save_name = f\"last_lr{params['learning_rate']}_batch{params['batch_size']}_opt{params['optimizer']}_alpha{params['alpha']}_gamma{params['gamma']}.pth\"\n",
    "        # 지정한 디렉토리에 모델 저장\n",
    "        model_save_path = os.path.join(save_directory, model_save_name)\n",
    "        torch.save(model.state_dict(), model_save_path)\n",
    "        \n",
    "        # Save model if validation loss decreased\n",
    "        if val_loss < best_loss:\n",
    "            best_loss = val_loss\n",
    "            model_saved = \"Yes\"\n",
    "            # 모델 파일 이름에 현재의 하이퍼파라미터를 포함시킵니다.\n",
    "            model_save_name = f\"best_lr{params['learning_rate']}_batch{params['batch_size']}_opt{params['optimizer']}_alpha{params['alpha']}_gamma{params['gamma']}.pth\"\n",
    "            # 지정한 디렉토리에 모델 저장\n",
    "            model_save_path = os.path.join(save_directory, model_save_name)\n",
    "            torch.save(model.state_dict(), model_save_path)\n",
    "            patience = 0\n",
    "            print(\"Model saved based on lowest validation loss.\")\n",
    "        else:\n",
    "            patience += 1\n",
    "            # patience가 max_patience에 도달하면 학습 중단\n",
    "            if patience == max_patience:\n",
    "                print(\"Early stopping\")\n",
    "                break\n",
    "            \n",
    "        # 결과를 데이터프레임에 추가\n",
    "        new_row = pd.DataFrame({\n",
    "            'Epoch': [epoch + 1],\n",
    "            'LR': [params['learning_rate']],\n",
    "            'Batch_Size': [params['batch_size']],\n",
    "            'alpha': [params['alpha']],\n",
    "            'gamma': [params['gamma']],\n",
    "            'Optimizer': [params['optimizer']],\n",
    "            'Train_Loss': [average_train_loss],\n",
    "            'val_loss': [val_loss],\n",
    "            'ValidationRecall': [current_recall],\n",
    "            'TimeTaken(Training)': [time_taken_train],\n",
    "            'Model Save': [model_saved]\n",
    "        })\n",
    "        # 매 에포크마다 같은 CSV 파일에 결과 추가\n",
    "        with open('./experiment_results_b0.csv', 'a') as f:\n",
    "            new_row.to_csv(f, header=write_header, index=False)\n",
    "        # 헤더는 처음에만 작성\n",
    "        write_header = False "
   ]
  },
  {
   "cell_type": "code",
   "execution_count": null,
   "id": "405dc8d6-b760-4f2f-9012-d6a7a6ac71ae",
   "metadata": {},
   "outputs": [],
   "source": []
  },
  {
   "cell_type": "code",
   "execution_count": null,
   "id": "8b36874c-7cab-4023-a90f-db191d2a8fde",
   "metadata": {},
   "outputs": [],
   "source": []
  }
 ],
 "metadata": {
  "kernelspec": {
   "display_name": "Python 3 (ipykernel)",
   "language": "python",
   "name": "python3"
  },
  "language_info": {
   "codemirror_mode": {
    "name": "ipython",
    "version": 3
   },
   "file_extension": ".py",
   "mimetype": "text/x-python",
   "name": "python",
   "nbconvert_exporter": "python",
   "pygments_lexer": "ipython3",
   "version": "3.11.6"
  }
 },
 "nbformat": 4,
 "nbformat_minor": 5
}
