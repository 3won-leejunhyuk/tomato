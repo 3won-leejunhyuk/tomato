{
 "cells": [
  {
   "cell_type": "markdown",
   "id": "ecf8abd2-4648-44ba-a37b-64514413fac9",
   "metadata": {},
   "source": [
    "# train"
   ]
  },
  {
   "cell_type": "code",
   "execution_count": null,
   "id": "ac2e8cb7-80c3-4a43-8ccb-325bdbef2d9b",
   "metadata": {},
   "outputs": [],
   "source": [
    "cd /workspace/mnt/yolo/yolov8/"
   ]
  },
  {
   "cell_type": "code",
   "execution_count": null,
   "id": "828198e0-c7b2-4eae-9586-690671d5bdcc",
   "metadata": {},
   "outputs": [],
   "source": [
    "from ultralytics import YOLO\n",
    "import cv2\n",
    "import ultralytics"
   ]
  },
  {
   "cell_type": "code",
   "execution_count": null,
   "id": "13367905-9f25-46c3-8dc2-e06801c2c4e0",
   "metadata": {},
   "outputs": [],
   "source": [
    "ultralytics.checks()"
   ]
  },
  {
   "cell_type": "code",
   "execution_count": null,
   "id": "fe5e9da0-198a-4c18-8a51-5f1286537cd1",
   "metadata": {
    "scrolled": true
   },
   "outputs": [],
   "source": [
    "model = YOLO(\"/workspace/mnt/yolo/yolov8/runs/detect/leaf_iou0.9_6/weights/last.pt\")\n",
    "model.train(\n",
    "    data=\"/workspace/mnt/src/tomato_ljh/leaf.yaml\",\n",
    "    epochs=300,\n",
    "    patience=30,\n",
    "    batch=64, #\n",
    "    optimizer='AdamW',  # Replace or remove this comment appropriately\n",
    "    imgsz=640,\n",
    "    seed=4885,\n",
    "    max_det=100,\n",
    "    cache=True,\n",
    "    resume=True, #마지막 체크 포인트부터 다시\n",
    "    # save_period=5,  # Remove or replace this line if save_period is not a valid parameter\n",
    "    #cache='disk',\n",
    "    lr0=1e-04,\n",
    "    iou=0.9,\n",
    "    nms=True,\n",
    "    name=\"leaf_iou0.9_6\"\n",
    ")"
   ]
  },
  {
   "cell_type": "code",
   "execution_count": null,
   "id": "cbb24ca6-11b1-49b5-9b30-3abc3d0a12cc",
   "metadata": {
    "scrolled": true
   },
   "outputs": [],
   "source": [
    "model = YOLO(\"yolov8m.pt\")\n",
    "model.train(\n",
    "    data=\"/workspace/mnt/src/tomato_ljh/leaf.yaml\",\n",
    "    epochs=300,\n",
    "    patience=30,\n",
    "    batch=32, #64\n",
    "    optimizer='AdamW',  # Replace or remove this comment appropriately\n",
    "    imgsz=640,\n",
    "    seed=4885,\n",
    "    max_det=100,\n",
    "    cache=True,\n",
    "    # resume=True, #마지막 체크 포인트부터 다시\n",
    "    # save_period=5,  # Remove or replace this line if save_period is not a valid parameter\n",
    "    #cache='disk',\n",
    "    lr0=1e-04,\n",
    "    iou=0.9,\n",
    "    nms=True,\n",
    "    name=\"leaf_iou0.9_6_1\"\n",
    ")"
   ]
  },
  {
   "cell_type": "code",
   "execution_count": null,
   "id": "5b82b3d6-163b-40d6-98c2-434a964f7fb5",
   "metadata": {},
   "outputs": [],
   "source": [
    "cd /workspace/mnt/yolo/yolov8/"
   ]
  },
  {
   "cell_type": "code",
   "execution_count": null,
   "id": "687bb1cc-e6b7-4b57-b8cf-1f28430a3984",
   "metadata": {},
   "outputs": [],
   "source": [
    "from ultralytics import YOLO\n",
    "import cv2\n",
    "import ultralytics"
   ]
  },
  {
   "cell_type": "code",
   "execution_count": null,
   "id": "b9bef3c5-7183-4169-be3c-02fbfc8f2921",
   "metadata": {},
   "outputs": [],
   "source": [
    "model = YOLO('yolov8m.pt')\n",
    "model = YOLO(\"/workspace/mnt/yolo/yolov8/runs/detect/leaf_yolov8m_iou0.9_6/weights/best.pt\")"
   ]
  },
  {
   "cell_type": "code",
   "execution_count": null,
   "id": "c9561a3e-45bd-40d6-8a01-bfd879741f37",
   "metadata": {},
   "outputs": [],
   "source": [
    "# Validate the model\n",
    "metrics = model.val(data=\"/workspace/mnt/yolo/yolov8/leaf.yaml\")  # no arguments needed, dataset and settings remembered\n",
    "metrics.box.map    # map50-95\n",
    "metrics.box.map50  # map50\n",
    "metrics.box.map75  # map75\n",
    "metrics.box.maps   # a list contains map50-95 of each category"
   ]
  },
  {
   "cell_type": "code",
   "execution_count": null,
   "id": "510ee8a5-bff5-4749-a4f6-3008b6c57412",
   "metadata": {
    "jp-MarkdownHeadingCollapsed": true
   },
   "outputs": [],
   "source": [
    "# Validate the model\n",
    "metrics = model.val(data=\"/workspace/yolo/yolov8/tomato_test.yaml\",\n",
    "                   imgsz = 640,\n",
    "                   max_det = 300,\n",
    "                   conf = 0.25,\n",
    "                   save_json = True,\n",
    "                   name=\"tomato_result\")  # no arguments needed, dataset and settings remembered\n",
    "metrics.box.map    # map50-95\n",
    "metrics.box.map50  # map50\n",
    "metrics.box.map75  # map75\n",
    "metrics.box.maps   # a list contains map50-95 of each category"
   ]
  },
  {
   "cell_type": "markdown",
   "id": "ac0cf613-1cb9-4411-87f0-18f7bcd9915f",
   "metadata": {},
   "source": [
    "model = YOLO('yolov8n.pt')\n",
    "model = YOLO('/workspace/yolo/yolov8/runs/detect/tomato_yolov8n_iou0.9/weights/best.pt')\n",
    "# Validate the model\n",
    "metrics = model.val(data=\"/workspace/yolo/yolov8/tomato_test.yaml\")  # no arguments needed, dataset and settings remembered\n",
    "metrics.box.map    # map50-95\n",
    "metrics.box.map50  # map50\n",
    "metrics.box.map75  # map75\n",
    "metrics.box.maps   # a list contains map50-95 of each category"
   ]
  },
  {
   "cell_type": "markdown",
   "id": "c9160f08-582a-4152-8caf-3a747a7a3332",
   "metadata": {},
   "source": [
    "# predict"
   ]
  },
  {
   "cell_type": "code",
   "execution_count": null,
   "id": "b8f74260-6a60-4d96-add6-b7c8ebf599be",
   "metadata": {},
   "outputs": [],
   "source": [
    "cd /workspace/mnt/yolo/yolov8/"
   ]
  },
  {
   "cell_type": "code",
   "execution_count": null,
   "id": "75734dd9-7dd3-4aa6-84de-853f59042f3c",
   "metadata": {},
   "outputs": [],
   "source": [
    "from ultralytics import YOLO\n",
    "import cv2\n",
    "import ultralytics"
   ]
  },
  {
   "cell_type": "code",
   "execution_count": null,
   "id": "0131f7c9-0d4e-48bf-81b9-8d4615bf04ae",
   "metadata": {},
   "outputs": [],
   "source": [
    "model = YOLO('yolov8m.pt')\n",
    "model = YOLO('/workspace/mnt/yolo/yolov8/runs/detect/leaf_iou0.9_6/weights/best.pt')"
   ]
  },
  {
   "cell_type": "markdown",
   "id": "afab96ae-e338-44bc-8db2-cb5b2ec1396c",
   "metadata": {},
   "source": [
    "# accepts all formats - image/dir/Path/URL/video/PIL/ndarray. 0 for webcam\n",
    "results = model.predict(source=\"/workspace/yolo/hometomato/0_healthy\",\n",
    "                        imgsz = 640,\n",
    "                        conf = 0.25,\n",
    "                        iou = 0.50,\n",
    "                        max_det = 100,\n",
    "                        save_txt=True,\n",
    "                        save_conf=True,\n",
    "                        save=True,\n",
    "                        agnostic_nms=True,\n",
    "                        name=\"tomato_hometomatodata\")#증강, augment=True"
   ]
  },
  {
   "cell_type": "code",
   "execution_count": null,
   "id": "bbc6f6a7-6e0d-4716-841d-73868d122143",
   "metadata": {
    "scrolled": true
   },
   "outputs": [],
   "source": [
    "# List of source directories and corresponding names\n",
    "sources = [\n",
    "    (\"/workspace/mnt2/data/tomato_except3/leaf/5/TrainingDataSet/0_healthy\", \"leaf_bootstrap6/TrainingDataSet/0_healthy\"),\n",
    "    (\"/workspace/mnt2/data/tomato_except3/leaf/5/TrainingDataSet/1_PowderyMildew\", \"leaf_bootstrap6/TrainingDataSet/1_PowderyMildew\"),\n",
    "    (\"/workspace/mnt2/data/tomato_except3/leaf/5/TrainingDataSet/2_GrayMold\", \"leaf_bootstrap6/TrainingDataSet/2_GrayMold\"),\n",
    "    (\"/workspace/mnt2/data/tomato_except3/leaf/5/TrainingDataSet/3_YellowLeafCurlVirus\", \"leaf_bootstrap6/TrainingDataSet/3_YellowLeafCurlVirus\"),\n",
    "    (\"/workspace/mnt2/data/tomato_except3/leaf/5/TrainingDataSet/4_LeafMold\", \"leaf_bootstrap6/TrainingDataSet/4_LeafMold\"),\n",
    "    (\"/workspace/mnt2/data/tomato_except3/leaf/5/TrainingDataSet/5_LateBlight\", \"leaf_bootstrap6/TrainingDataSet/5_LateBlight\"),\n",
    "    (\"/workspace/mnt2/data/tomato_except3/leaf/5/ValidationDataSet/0_healthy\", \"leaf_bootstrap6/ValidationDataSet/0_healthy\"),\n",
    "    (\"/workspace/mnt2/data/tomato_except3/leaf/5/ValidationDataSet/1_PowderyMildew\", \"leaf_bootstrap6/ValidationDataSet/1_PowderyMildew\"),\n",
    "    (\"/workspace/mnt2/data/tomato_except3/leaf/5/ValidationDataSet/2_GrayMold\", \"leaf_bootstrap6/ValidationDataSet/2_GrayMold\"),\n",
    "    (\"/workspace/mnt2/data/tomato_except3/leaf/5/ValidationDataSet/3_YellowLeafCurlVirus\", \"leaf_bootstrap6/ValidationDataSet/3_YellowLeafCurlVirus\"),\n",
    "    (\"/workspace/mnt2/data/tomato_except3/leaf/5/ValidationDataSet/4_LeafMold\", \"leaf_bootstrap6/ValidationDataSet/4_LeafMold\"),\n",
    "    (\"/workspace/mnt2/data/tomato_except3/leaf/5/ValidationDataSet/5_LateBlight\", \"leaf_bootstrap6/ValidationDataSet/5_LateBlight\"),\n",
    "]\n",
    "\n",
    "# Common parameters\n",
    "params = {\n",
    "    'imgsz': 640,\n",
    "    'conf': 0.25,\n",
    "    'iou': 0.50,\n",
    "    'max_det': 100,\n",
    "    'save_txt': True,\n",
    "    'save_conf': False,\n",
    "    'cache': True,\n",
    "    'agnostic_nms': True,\n",
    "    'save': True, # Uncomment if needed\n",
    "    # 'augment': True, # Uncomment and add to the loop if augmentation is required\n",
    "}\n",
    "\n",
    "# Loop through each source and apply model.predict\n",
    "for source, name in sources:\n",
    "    results = model.predict(source=source, name=name, **params)"
   ]
  },
  {
   "cell_type": "code",
   "execution_count": null,
   "id": "461fbf03-9467-41bc-af13-4405f0055473",
   "metadata": {},
   "outputs": [],
   "source": []
  }
 ],
 "metadata": {
  "kernelspec": {
   "display_name": "Python 3 (ipykernel)",
   "language": "python",
   "name": "python3"
  },
  "language_info": {
   "codemirror_mode": {
    "name": "ipython",
    "version": 3
   },
   "file_extension": ".py",
   "mimetype": "text/x-python",
   "name": "python",
   "nbconvert_exporter": "python",
   "pygments_lexer": "ipython3",
   "version": "3.11.6"
  }
 },
 "nbformat": 4,
 "nbformat_minor": 5
}
