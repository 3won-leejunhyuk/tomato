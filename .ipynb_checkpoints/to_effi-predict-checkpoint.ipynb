{
 "cells": [
  {
   "cell_type": "code",
   "execution_count": 1,
   "id": "e13b949a-5039-4924-bae9-719cb70dc028",
   "metadata": {
    "editable": true,
    "slideshow": {
     "slide_type": ""
    },
    "tags": []
   },
   "outputs": [
    {
     "name": "stderr",
     "output_type": "stream",
     "text": [
      "/usr/local/lib/python3.11/dist-packages/tqdm/auto.py:21: TqdmWarning: IProgress not found. Please update jupyter and ipywidgets. See https://ipywidgets.readthedocs.io/en/stable/user_install.html\n",
      "  from .autonotebook import tqdm as notebook_tqdm\n"
     ]
    }
   ],
   "source": [
    "import os\n",
    "import random\n",
    "import numpy as np\n",
    "import pandas as pd\n",
    "import torch\n",
    "import torch.nn.functional as F\n",
    "import matplotlib.pyplot as plt\n",
    "from collections import defaultdict\n",
    "from time import time\n",
    "from tqdm.auto import tqdm\n",
    "from PIL import Image\n",
    "from sklearn.metrics import recall_score, f1_score, roc_auc_score, roc_curve\n",
    "from sklearn.model_selection import ParameterGrid\n",
    "from torchvision import transforms\n",
    "from torch.utils.data import DataLoader, Dataset\n",
    "from torch import optim, nn\n",
    "from efficientnet_pytorch import EfficientNet"
   ]
  },
  {
   "cell_type": "code",
   "execution_count": 2,
   "id": "90ea81c1-9494-4146-bdb8-2eefc9736f2b",
   "metadata": {},
   "outputs": [],
   "source": [
    "# 데이터 전처리 설정\n",
    "transform_test = transforms.Compose([\n",
    "    transforms.Resize(224),\n",
    "    transforms.ToTensor(),\n",
    "    transforms.Normalize(mean=[0.485, 0.456, 0.406], std=[0.229, 0.224, 0.225]),\n",
    "])"
   ]
  },
  {
   "cell_type": "code",
   "execution_count": 3,
   "id": "d5e41015-2aa4-4aa7-9533-ee08f433b3de",
   "metadata": {},
   "outputs": [],
   "source": [
    "def seed_everything(seed):\n",
    "    random.seed(seed)\n",
    "    os.environ['PYTHONHASHSEED'] = str(seed)\n",
    "    np.random.seed(seed)\n",
    "    torch.manual_seed(seed)\n",
    "    torch.cuda.manual_seed(seed)\n",
    "    torch.backends.cudnn.deterministic = True\n",
    "    torch.backends.cudnn.benchmark = True\n",
    "    \n",
    "seed_everything(4885) # Seed 고정"
   ]
  },
  {
   "cell_type": "markdown",
   "id": "8a4a002f-3d61-4aa4-8a86-ada345edc0b1",
   "metadata": {},
   "source": [
    "# 테스트 진행"
   ]
  },
  {
   "cell_type": "code",
   "execution_count": 4,
   "id": "0e088d0f-c408-4bd1-98ec-2a9d20265918",
   "metadata": {},
   "outputs": [
    {
     "name": "stdout",
     "output_type": "stream",
     "text": [
      "/workspace/mnt2/data/tomato_except3/origin/TestDataSet\n"
     ]
    },
    {
     "name": "stderr",
     "output_type": "stream",
     "text": [
      "/usr/local/lib/python3.11/dist-packages/IPython/core/magics/osm.py:417: UserWarning: using dhist requires you to install the `pickleshare` library.\n",
      "  self.shell.db['dhist'] = compress_dhist(dhist)[-100:]\n"
     ]
    }
   ],
   "source": [
    "cd /workspace/mnt2/data/tomato_except3/origin/TestDataSet/"
   ]
  },
  {
   "cell_type": "markdown",
   "id": "6db83942-e888-4d75-bea8-da67f546613c",
   "metadata": {},
   "source": [
    "cd /workspace/mnt/data/ljh/농업 지식베이스/farm_data/"
   ]
  },
  {
   "cell_type": "code",
   "execution_count": 5,
   "id": "500d07c5-d4f8-4ea1-a444-2987d5198a70",
   "metadata": {},
   "outputs": [],
   "source": [
    "# 사용자 정의 데이터셋 클래스\n",
    "class CustomImageDataset(Dataset):\n",
    "    def __init__(self, root_dir, transform=None):\n",
    "        self.root_dir = root_dir\n",
    "        self.transform = transform\n",
    "        self.classes = ['healthy', 'PowderyMildew', 'GrayMold',\\\n",
    "                        'YellowLeafCurlVirus', 'LeafMold', 'LateBlight']\n",
    "        self.img_paths = []\n",
    "        valid_extensions = ('.jpg', '.jpeg', '.png')\n",
    "        for dirpath, dirnames, filenames in os.walk(root_dir):\n",
    "            for filename in filenames:\n",
    "                if filename.lower().endswith(valid_extensions):\n",
    "                    self.img_paths.append(os.path.join(dirpath, filename))\n",
    "\n",
    "    def __len__(self):\n",
    "        return len(self.img_paths)\n",
    "\n",
    "    def __getitem__(self, idx):\n",
    "        img_path = self.img_paths[idx]\n",
    "        image = Image.open(img_path).convert('RGB')\n",
    "        if self.transform:\n",
    "            image = self.transform(image)\n",
    "        label = self.get_label(img_path)\n",
    "        return image, label, img_path  # img_path를 추가\n",
    "\n",
    "    def get_label(self, img_path):\n",
    "        if '0_healthy' in img_path:\n",
    "            return self.classes.index('healthy')\n",
    "        elif '1_PowderyMildew' in img_path:\n",
    "            return self.classes.index('PowderyMildew')\n",
    "        elif '2_GrayMold' in img_path:\n",
    "            return self.classes.index('GrayMold')\n",
    "        elif '3_YellowLeafCurlVirus' in img_path:\n",
    "            return self.classes.index('YellowLeafCurlVirus')        \n",
    "        elif '4_LeafMold' in img_path:\n",
    "            return self.classes.index('LeafMold')\n",
    "        elif '5_LateBlight' in img_path:\n",
    "            return self.classes.index('LateBlight')  "
   ]
  },
  {
   "cell_type": "code",
   "execution_count": 6,
   "id": "1653eb71-958b-4ef4-b593-aba3cabbe35f",
   "metadata": {},
   "outputs": [],
   "source": [
    "# 테스트 데이터 \n",
    "test_dirs = [\"./0_healthy/\",\n",
    "            \"./1_PowderyMildew/\",\n",
    "            \"./2_GrayMold/\",\n",
    "            \"./3_YellowLeafCurlVirus/\",\n",
    "            \"./4_LeafMold/\",\n",
    "            \"./5_LateBlight/\",\n",
    "           ]\n",
    "\n",
    "test_datasets = [CustomImageDataset(test_dir, transform=transform_test) for test_dir in test_dirs]\n",
    "test_dataset = torch.utils.data.ConcatDataset(test_datasets)\n",
    "test_loader = DataLoader(test_dataset, batch_size=1, shuffle=False)"
   ]
  },
  {
   "cell_type": "code",
   "execution_count": 7,
   "id": "3e0ea1c4-9ec3-4a57-ac56-33a1f383fa71",
   "metadata": {},
   "outputs": [],
   "source": [
    "# 최적의 모델 불러오기\n",
    "model = EfficientNet.from_name('efficientnet-b0')\n",
    "\n",
    "# GPU 사용 설정\n",
    "device = torch.device(\"cuda:0\" if torch.cuda.is_available() else \"cpu\")\n",
    "model = model.to(device)\n",
    "\n",
    "# 분류할 클래스 수 변경\n",
    "num_classes = 6\n",
    "model._fc = torch.nn.Linear(model._fc.in_features, num_classes)"
   ]
  },
  {
   "cell_type": "code",
   "execution_count": 8,
   "id": "375d3909-9f0b-4496-9d1d-9e5eefc32c0d",
   "metadata": {},
   "outputs": [],
   "source": [
    "# # 초기화\n",
    "# label_counts = {class_name: 0 for class_name in test_dataset.datasets[0].classes}\n",
    "\n",
    "# # test_dataset에서 반환되는 값의 수에 따라 변경해야 합니다.\n",
    "# for data in test_dataset:\n",
    "#     image, label = data[:2]  # 처음 두 값만 가져옴\n",
    "#     class_name = test_dataset.datasets[0].classes[label]\n",
    "#     label_counts[class_name] += 1\n",
    "\n",
    "# # 결과 출력\n",
    "# for disease, count in label_counts.items():\n",
    "#     print(f\"{disease}: {count}개\")"
   ]
  },
  {
   "cell_type": "code",
   "execution_count": 9,
   "id": "275effb5-6d59-4e5d-8409-c5944362e5fa",
   "metadata": {},
   "outputs": [],
   "source": [
    "# sample_dataset = CustomImageDataset(root_dir=\"./some_directory\", transform=None)\n",
    "# print(sample_dataset[0][-1])  # 첫 번째 아이템의 img_path 출력"
   ]
  },
  {
   "cell_type": "code",
   "execution_count": 10,
   "id": "aecdb937-52b6-4bab-af7a-77c94b63a281",
   "metadata": {},
   "outputs": [
    {
     "data": {
      "text/plain": [
       "<All keys matched successfully>"
      ]
     },
     "execution_count": 10,
     "metadata": {},
     "output_type": "execute_result"
    }
   ],
   "source": [
    "# 체크포인트 로드\n",
    "model.load_state_dict(torch.load('/workspace/mnt2/data/tomato_except3/crop/resize/1/augmentation적용x/best_lr0.0001_batch32_optAdam_alpha0.25_gamma2.0.pth'))"
   ]
  },
  {
   "cell_type": "code",
   "execution_count": null,
   "id": "013566fd-ae31-4599-b4b2-b5a177f173e4",
   "metadata": {},
   "outputs": [],
   "source": [
    "# model.load_state_dict(torch.load('/workspace/src/tomato_code/EfficientNet/result/best_model_loss_lr0.0001_batch32_optAdam.pth'))\n",
    "model = model.to(device)\n",
    "\n",
    "# 모델을 평가 모드로 설정\n",
    "model.eval()\n",
    "\n",
    "# 테스트 데이터셋 평가\n",
    "correct = 0\n",
    "total = 0\n",
    "\n",
    "class_correct = defaultdict(int)  # 클래스별로 올바르게 분류된 수를 저장\n",
    "class_total = defaultdict(int)    # 각 클래스별 전체 샘플 수를 저장\n",
    "\n",
    "all_labels = []\n",
    "all_predicted = []\n",
    "all_outputs = []\n",
    "\n",
    "wrong_labels = []\n",
    "wrong_predictions = []\n",
    "wrong_images = []\n",
    "wrong_image_paths = []\n",
    "\n",
    "with torch.no_grad():  # gradient 계산 비활성화\n",
    "    for images, labels, paths in test_loader:\n",
    "        # print(paths)\n",
    "        # break # 첫번째 배치 체크 디버깅\n",
    "        \n",
    "        images = images.to(device)\n",
    "        labels = labels.to(device)\n",
    "        outputs = model(images)\n",
    "        _, predicted = torch.max(outputs.data, 1)\n",
    "\n",
    "        #재현율, F1, ROC커브\n",
    "        all_labels.extend(labels.cpu().numpy())\n",
    "        all_predicted.extend(predicted.cpu().numpy())\n",
    "        all_outputs.extend(outputs.cpu().numpy())\n",
    "        \n",
    "        # 정확도 계산\n",
    "        c = (predicted == labels).squeeze()\n",
    "        for i, label in enumerate(labels):\n",
    "            label_idx = label.item()\n",
    "            # Handle the case for batch size 1\n",
    "            if len(labels) == 1:\n",
    "                correct_pred = c.item()\n",
    "            else:\n",
    "                correct_pred = c[i].item()\n",
    "            \n",
    "            class_correct[label_idx] += correct_pred\n",
    "            class_total[label_idx] += 1\n",
    "        \n",
    "        total += labels.size(0)\n",
    "        correct += (predicted == labels).sum().item()\n",
    "\n",
    "        wrong_indices = (predicted != labels).nonzero(as_tuple=True)\n",
    "        if wrong_indices[0].shape[0] > 0:  # 잘못 예측된 것이 하나 이상 있다면\n",
    "            wrong_labels.extend(labels[wrong_indices].cpu().numpy())\n",
    "            wrong_predictions.extend(predicted[wrong_indices].cpu().numpy())\n",
    "            wrong_images.extend(images[wrong_indices].cpu().numpy())\n",
    "            wrong_image_paths.extend([paths[i] for i in wrong_indices[0].cpu()])  # 이미지 경로 추가\n",
    "\n",
    "test_acc = correct / total\n",
    "print(f'테스트 정확도: {test_acc * 100:.2f}%')\n",
    "\n",
    "# 재현율, F1 스코어 계산\n",
    "recall = recall_score(all_labels, all_predicted, average='macro')\n",
    "f1 = f1_score(all_labels, all_predicted, average='macro')\n",
    "print(f'재현율: {recall:.2f}')\n",
    "print(f'F1 스코어: {f1:.2f}')"
   ]
  },
  {
   "cell_type": "code",
   "execution_count": null,
   "id": "910d60df-de92-44cf-846e-ddd1a806990f",
   "metadata": {
    "editable": true,
    "scrolled": true,
    "slideshow": {
     "slide_type": ""
    },
    "tags": []
   },
   "outputs": [],
   "source": [
    "# import torch\n",
    "# import numpy as np\n",
    "# import matplotlib.pyplot as plt\n",
    "# from collections import defaultdict\n",
    "# from sklearn.metrics import recall_score, f1_score, roc_auc_score, roc_curve\n",
    "\n",
    "# # 체크포인트 로드\n",
    "# model.load_state_dict(torch.load('/workspace/mnt/src/tomato_code/EfficientNet/result/earlystrop10/best_lr0.0001_batch128_optAdam.pth'))\n",
    "# # model.load_state_dict(torch.load('/workspace/src/tomato_code/EfficientNet/result/best_model_loss_lr0.0001_batch32_optAdam.pth'))\n",
    "# model = model.to(device)\n",
    "\n",
    "# # 모델을 평가 모드로 설정\n",
    "# model.eval()\n",
    "\n",
    "# # 테스트 데이터셋 평가\n",
    "# correct = 0\n",
    "# total = 0\n",
    "\n",
    "# class_correct = defaultdict(int)  # 클래스별로 올바르게 분류된 수를 저장\n",
    "# class_total = defaultdict(int)    # 각 클래스별 전체 샘플 수를 저장\n",
    "\n",
    "# all_labels = []\n",
    "# all_predicted = []\n",
    "# all_outputs = []\n",
    "\n",
    "# wrong_labels = []\n",
    "# wrong_predictions = []\n",
    "# wrong_images = []\n",
    "# wrong_image_paths = []\n",
    "\n",
    "# with torch.no_grad():  # gradient 계산 비활성화\n",
    "#     for images, labels, paths in test_loader:\n",
    "#         # print(paths)\n",
    "#         # break # 첫번째 배치 체크 디버깅\n",
    "        \n",
    "#         images = images.to(device)\n",
    "#         labels = labels.to(device)\n",
    "#         outputs = model(images)\n",
    "#         _, predicted = torch.max(outputs.data, 1)\n",
    "\n",
    "#         #재현율, F1, ROC커브\n",
    "#         all_labels.extend(labels.cpu().numpy())\n",
    "#         all_predicted.extend(predicted.cpu().numpy())\n",
    "#         all_outputs.extend(outputs.cpu().numpy())\n",
    "        \n",
    "#         # 정확도 계산\n",
    "#         c = (predicted == labels).squeeze()s\n",
    "#         for i, label in enumerate(labels):\n",
    "#             class_correct[label.item()] += c[i].item()\n",
    "#             class_total[label.item()] += 1\n",
    "        \n",
    "#         total += labels.size(0)\n",
    "#         correct += (predicted == labels).sum().item()\n",
    "\n",
    "#         wrong_indices = (predicted != labels).nonzero(as_tuple=True)\n",
    "#         if wrong_indices[0].shape[0] > 0:  # 잘못 예측된 것이 하나 이상 있다면\n",
    "#             wrong_labels.extend(labels[wrong_indices].cpu().numpy())\n",
    "#             wrong_predictions.extend(predicted[wrong_indices].cpu().numpy())\n",
    "#             wrong_images.extend(images[wrong_indices].cpu().numpy())\n",
    "#             wrong_image_paths.extend([paths[i] for i in wrong_indices[0].cpu()])  # 이미지 경로 추가\n",
    "\n",
    "# test_acc = correct / total\n",
    "# print(f'테스트 정확도: {test_acc * 100:.2f}%')\n",
    "\n",
    "# # 재현율, F1 스코어 계산\n",
    "# recall = recall_score(all_labels, all_predicted, average='macro')\n",
    "# f1 = f1_score(all_labels, all_predicted, average='macro')\n",
    "# print(f'재현율: {recall:.2f}')\n",
    "# print(f'F1 스코어: {f1:.2f}')"
   ]
  },
  {
   "cell_type": "code",
   "execution_count": null,
   "id": "a767ef65-7e80-4423-8131-fb700aad442c",
   "metadata": {
    "editable": true,
    "slideshow": {
     "slide_type": ""
    },
    "tags": []
   },
   "outputs": [],
   "source": [
    "from sklearn.metrics import confusion_matrix\n",
    "# 오차행렬 계산\n",
    "cm = confusion_matrix(all_labels, all_predicted)\n",
    "print(\"Confusion Matrix:\")\n",
    "print(cm)"
   ]
  },
  {
   "cell_type": "code",
   "execution_count": null,
   "id": "355d6ad4-8812-466a-baec-cf173fd0f696",
   "metadata": {},
   "outputs": [],
   "source": [
    "# 클래스별 정확도 출력\n",
    "for i in range(len(test_dataset.datasets[0].classes)):\n",
    "    class_name = test_dataset.datasets[0].classes[i]\n",
    "    accuracy = 100 * class_correct[i] / class_total[i]\n",
    "    print(f'정확도 of {class_name}: {accuracy:.2f}%')"
   ]
  },
  {
   "cell_type": "code",
   "execution_count": null,
   "id": "e3f6fc79-c4df-4c93-8b75-ab098addd54f",
   "metadata": {},
   "outputs": [],
   "source": [
    "from PIL import Image\n",
    "import random\n",
    "import matplotlib.pyplot as plt\n",
    "import os\n",
    "\n",
    "# LeafMold에 대한 틀린 예측 찾기\n",
    "LeafMold_class_index = test_dataset.datasets[0].classes.index('PowderyMildew')\n",
    "\n",
    "# LeafMold에 대한 틀린 예측 결과 저장\n",
    "leaf_mold_wrong_images = []\n",
    "\n",
    "for i in range(len(wrong_labels)):\n",
    "    if wrong_labels[i] == LeafMold_class_index:  # 틀린 라벨 중 LeafMold에 해당하는 것만\n",
    "        leaf_mold_wrong_images.append((wrong_labels[i], wrong_predictions[i], wrong_image_paths[i]))\n",
    "\n",
    "# 랜덤하게 4개 선택\n",
    "random_selection = random.sample(leaf_mold_wrong_images, min(4, len(leaf_mold_wrong_images)))\n",
    "\n",
    "# 2x2 형태로 이미지 출력\n",
    "fig, axes = plt.subplots(2, 2, figsize=(12, 12))\n",
    "axes = axes.ravel()\n",
    "\n",
    "for i in range(len(random_selection)):\n",
    "    label, pred, img_path = random_selection[i]\n",
    "    original_image = Image.open(img_path).convert('RGB')\n",
    "    \n",
    "    axes[i].imshow(np.array(original_image))\n",
    "    axes[i].set_title(f\"Actual: {test_dataset.datasets[0].classes[label]}\\nPredicted: {test_dataset.datasets[0].classes[pred]}\\n{img_path}\")  # 이미지 경로 추가\n",
    "    axes[i].axis('off')\n",
    "\n",
    "plt.tight_layout()\n",
    "plt.show()"
   ]
  },
  {
   "cell_type": "code",
   "execution_count": null,
   "id": "b30f842c-f9c9-484d-a273-1d6e05b20acf",
   "metadata": {},
   "outputs": [],
   "source": [
    "# ROC 커브 및 AUC 계산 (멀티 클래스의 경우 One-vs-Rest 방식 사용)\n",
    "n_classes = len(test_dataset.datasets[0].classes)\n",
    "fpr = dict()\n",
    "tpr = dict()\n",
    "roc_auc = dict()\n",
    "\n",
    "all_labels_onehot = np.eye(n_classes)[all_labels]\n",
    "for i in range(n_classes):\n",
    "    fpr[i], tpr[i], _ = roc_curve(all_labels_onehot[:, i], np.array(all_outputs)[:, i])\n",
    "    roc_auc[i] = roc_auc_score(all_labels_onehot[:, i], np.array(all_outputs)[:, i])\n",
    "\n",
    "\n",
    "# 모든 클래스에 대한 ROC 커브 플로팅\n",
    "for i in range(n_classes):\n",
    "    class_name = test_dataset.datasets[0].classes[i]\n",
    "    plt.plot(fpr[i], tpr[i], label=f'{class_name} (AUC: {roc_auc[i]:.2f})')\n",
    "\n",
    "plt.title('ROC Curve')\n",
    "plt.xlabel('False Positive Rate')\n",
    "plt.ylabel('True Positive Rate')\n",
    "plt.legend(loc='lower right')\n",
    "plt.show()"
   ]
  },
  {
   "cell_type": "code",
   "execution_count": null,
   "id": "f083788d-4953-4cbf-8352-5ed8a080fa2d",
   "metadata": {},
   "outputs": [],
   "source": [
    "# Micro-average ROC curve and ROC area\n",
    "fpr[\"micro\"], tpr[\"micro\"], _ = roc_curve(all_labels_onehot.ravel(), np.array(all_outputs).ravel())\n",
    "roc_auc[\"micro\"] = roc_auc_score(all_labels_onehot, np.array(all_outputs), average=\"micro\")\n",
    "\n",
    "# Plot the micro-averaged ROC curve\n",
    "plt.figure(figsize=(10, 8))\n",
    "plt.plot(fpr[\"micro\"], tpr[\"micro\"],\n",
    "         label=f'Micro-average ROC curve (AUC: {roc_auc[\"micro\"]:.2f})')\n",
    "\n",
    "# Plot details\n",
    "plt.title('Micro-Averaged ROC Curve')\n",
    "plt.xlabel('False Positive Rate')\n",
    "plt.ylabel('True Positive Rate')\n",
    "plt.legend(loc='lower right')\n",
    "plt.show()"
   ]
  },
  {
   "cell_type": "code",
   "execution_count": null,
   "id": "ea65bb1b-1e0c-4309-9b53-3a6ad39c2779",
   "metadata": {
    "editable": true,
    "slideshow": {
     "slide_type": ""
    },
    "tags": []
   },
   "outputs": [],
   "source": []
  }
 ],
 "metadata": {
  "kernelspec": {
   "display_name": "Python 3 (ipykernel)",
   "language": "python",
   "name": "python3"
  },
  "language_info": {
   "codemirror_mode": {
    "name": "ipython",
    "version": 3
   },
   "file_extension": ".py",
   "mimetype": "text/x-python",
   "name": "python",
   "nbconvert_exporter": "python",
   "pygments_lexer": "ipython3",
   "version": "3.11.6"
  }
 },
 "nbformat": 4,
 "nbformat_minor": 5
}
